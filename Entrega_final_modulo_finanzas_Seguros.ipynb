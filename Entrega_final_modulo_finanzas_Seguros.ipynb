{
  "cells": [
    {
      "cell_type": "markdown",
      "metadata": {
        "id": "view-in-github",
        "colab_type": "text"
      },
      "source": [
        "<a href=\"https://colab.research.google.com/github/Bast-aleja/Marketing_1/blob/main/Entrega_final_modulo_finanzas_Seguros.ipynb\" target=\"_parent\"><img src=\"https://colab.research.google.com/assets/colab-badge.svg\" alt=\"Open In Colab\"/></a>"
      ]
    },
    {
      "cell_type": "markdown",
      "metadata": {
        "id": "O9NGCVY0oFuO"
      },
      "source": [
        "**IMPORTACIÓN DE PAQUETES**"
      ]
    },
    {
      "cell_type": "code",
      "execution_count": null,
      "metadata": {
        "id": "wb4aHM3MoC6N"
      },
      "outputs": [],
      "source": [
        "##importar paquetes\n",
        "import pandas as pd\n",
        "import numpy as np\n",
        "import random \n",
        "from sklearn.feature_selection import SelectKBest\n",
        "from sklearn.feature_selection import f_classif\n",
        "from sklearn.linear_model import LogisticRegression\n",
        "from sklearn.feature_selection import RFE\n",
        "from sklearn.decomposition import PCA\n",
        "from sklearn.ensemble import ExtraTreesClassifier\n",
        "from sklearn.model_selection import train_test_split\n",
        "from sklearn.model_selection import KFold\n",
        "from sklearn.model_selection import cross_val_score\n",
        "from sklearn.model_selection import LeaveOneOut\n",
        "from sklearn.model_selection import ShuffleSplit\n",
        "from sklearn.metrics import confusion_matrix\n",
        "from sklearn.metrics import classification_report\n",
        "from sklearn.svm import SVC\n",
        "from sklearn.neural_network import MLPClassifier\n",
        "from sklearn.datasets import make_classification\n",
        "from sklearn.model_selection import learning_curve\n",
        "import matplotlib.pyplot as plt\n",
        "from sklearn.model_selection import train_test_split\n",
        "from sklearn.ensemble import RandomForestClassifier\n",
        "from sklearn import metrics\n",
        "from sklearn.tree import DecisionTreeClassifier\n",
        "from IPython.display import Image  \n",
        "from io import StringIO\n",
        "import pydotplus\n",
        "from sklearn import tree\n",
        "import pickle\n",
        "from sklearn.linear_model import SGDRegressor\n",
        "from sklearn.pipeline import make_pipeline\n",
        "from sklearn.preprocessing import StandardScaler\n",
        "import warnings\n",
        "warnings.filterwarnings('ignore')"
      ]
    },
    {
      "cell_type": "code",
      "execution_count": null,
      "metadata": {
        "colab": {
          "base_uri": "https://localhost:8080/"
        },
        "id": "VTvhbNgGoSaV",
        "outputId": "bc0b6c20-083c-42b3-efe0-0d51e50a67d0"
      },
      "outputs": [
        {
          "output_type": "stream",
          "name": "stdout",
          "text": [
            "Drive already mounted at /content/drive; to attempt to forcibly remount, call drive.mount(\"/content/drive\", force_remount=True).\n"
          ]
        }
      ],
      "source": [
        "#importar datos \n",
        "from google.colab import drive\n",
        "drive.mount('/content/drive')"
      ]
    },
    {
      "cell_type": "markdown",
      "metadata": {
        "id": "dG5S1fZMJNRX"
      },
      "source": [
        "**LECTURA BASE DE DATOS**"
      ]
    },
    {
      "cell_type": "code",
      "execution_count": null,
      "metadata": {
        "id": "btSgdAR8oVEn"
      },
      "outputs": [],
      "source": [
        "# cargar bases\n",
        "BD_Expuestos= pd.read_csv('/content/drive/MyDrive/ANALITICA3/BD_Expuestos_2.csv', sep=\";\")\n",
        "BD_Sociodemografia= pd.read_csv('/content/drive/MyDrive/ANALITICA3/BD_Sociodemografia_2.csv' , encoding='latin-1', sep=\";\")\n",
        "BD_Siniestros= pd.read_csv('/content/drive/MyDrive/ANALITICA3/DB_Siniestros_2.csv' , encoding='latin-1', sep=\";\")"
      ]
    },
    {
      "cell_type": "markdown",
      "metadata": {
        "id": "hO_Nj3OLomUJ"
      },
      "source": [
        "**TRATAMIENTO BD EXPUESTOS**"
      ]
    },
    {
      "cell_type": "code",
      "execution_count": null,
      "metadata": {
        "colab": {
          "base_uri": "https://localhost:8080/",
          "height": 112
        },
        "id": "cU-Y2Nj3oZSq",
        "outputId": "149111fa-52a2-4a9f-fa1f-31ab80472777"
      },
      "outputs": [
        {
          "output_type": "execute_result",
          "data": {
            "text/plain": [
              "   Asegurado_Id  Poliza_Asegurado_Id FECHA_INICIO FECHA_CANCELACION  \\\n",
              "0      16286173            125696117   2018/01/01        2018/04/10   \n",
              "1      11885152            141320760   2018/01/01               NaN   \n",
              "\n",
              "    FECHA_FIN  \n",
              "0  2018/04/10  \n",
              "1  2019/12/31  "
            ],
            "text/html": [
              "\n",
              "  <div id=\"df-98879059-8988-4e35-8807-1611f213541f\">\n",
              "    <div class=\"colab-df-container\">\n",
              "      <div>\n",
              "<style scoped>\n",
              "    .dataframe tbody tr th:only-of-type {\n",
              "        vertical-align: middle;\n",
              "    }\n",
              "\n",
              "    .dataframe tbody tr th {\n",
              "        vertical-align: top;\n",
              "    }\n",
              "\n",
              "    .dataframe thead th {\n",
              "        text-align: right;\n",
              "    }\n",
              "</style>\n",
              "<table border=\"1\" class=\"dataframe\">\n",
              "  <thead>\n",
              "    <tr style=\"text-align: right;\">\n",
              "      <th></th>\n",
              "      <th>Asegurado_Id</th>\n",
              "      <th>Poliza_Asegurado_Id</th>\n",
              "      <th>FECHA_INICIO</th>\n",
              "      <th>FECHA_CANCELACION</th>\n",
              "      <th>FECHA_FIN</th>\n",
              "    </tr>\n",
              "  </thead>\n",
              "  <tbody>\n",
              "    <tr>\n",
              "      <th>0</th>\n",
              "      <td>16286173</td>\n",
              "      <td>125696117</td>\n",
              "      <td>2018/01/01</td>\n",
              "      <td>2018/04/10</td>\n",
              "      <td>2018/04/10</td>\n",
              "    </tr>\n",
              "    <tr>\n",
              "      <th>1</th>\n",
              "      <td>11885152</td>\n",
              "      <td>141320760</td>\n",
              "      <td>2018/01/01</td>\n",
              "      <td>NaN</td>\n",
              "      <td>2019/12/31</td>\n",
              "    </tr>\n",
              "  </tbody>\n",
              "</table>\n",
              "</div>\n",
              "      <button class=\"colab-df-convert\" onclick=\"convertToInteractive('df-98879059-8988-4e35-8807-1611f213541f')\"\n",
              "              title=\"Convert this dataframe to an interactive table.\"\n",
              "              style=\"display:none;\">\n",
              "        \n",
              "  <svg xmlns=\"http://www.w3.org/2000/svg\" height=\"24px\"viewBox=\"0 0 24 24\"\n",
              "       width=\"24px\">\n",
              "    <path d=\"M0 0h24v24H0V0z\" fill=\"none\"/>\n",
              "    <path d=\"M18.56 5.44l.94 2.06.94-2.06 2.06-.94-2.06-.94-.94-2.06-.94 2.06-2.06.94zm-11 1L8.5 8.5l.94-2.06 2.06-.94-2.06-.94L8.5 2.5l-.94 2.06-2.06.94zm10 10l.94 2.06.94-2.06 2.06-.94-2.06-.94-.94-2.06-.94 2.06-2.06.94z\"/><path d=\"M17.41 7.96l-1.37-1.37c-.4-.4-.92-.59-1.43-.59-.52 0-1.04.2-1.43.59L10.3 9.45l-7.72 7.72c-.78.78-.78 2.05 0 2.83L4 21.41c.39.39.9.59 1.41.59.51 0 1.02-.2 1.41-.59l7.78-7.78 2.81-2.81c.8-.78.8-2.07 0-2.86zM5.41 20L4 18.59l7.72-7.72 1.47 1.35L5.41 20z\"/>\n",
              "  </svg>\n",
              "      </button>\n",
              "      \n",
              "  <style>\n",
              "    .colab-df-container {\n",
              "      display:flex;\n",
              "      flex-wrap:wrap;\n",
              "      gap: 12px;\n",
              "    }\n",
              "\n",
              "    .colab-df-convert {\n",
              "      background-color: #E8F0FE;\n",
              "      border: none;\n",
              "      border-radius: 50%;\n",
              "      cursor: pointer;\n",
              "      display: none;\n",
              "      fill: #1967D2;\n",
              "      height: 32px;\n",
              "      padding: 0 0 0 0;\n",
              "      width: 32px;\n",
              "    }\n",
              "\n",
              "    .colab-df-convert:hover {\n",
              "      background-color: #E2EBFA;\n",
              "      box-shadow: 0px 1px 2px rgba(60, 64, 67, 0.3), 0px 1px 3px 1px rgba(60, 64, 67, 0.15);\n",
              "      fill: #174EA6;\n",
              "    }\n",
              "\n",
              "    [theme=dark] .colab-df-convert {\n",
              "      background-color: #3B4455;\n",
              "      fill: #D2E3FC;\n",
              "    }\n",
              "\n",
              "    [theme=dark] .colab-df-convert:hover {\n",
              "      background-color: #434B5C;\n",
              "      box-shadow: 0px 1px 3px 1px rgba(0, 0, 0, 0.15);\n",
              "      filter: drop-shadow(0px 1px 2px rgba(0, 0, 0, 0.3));\n",
              "      fill: #FFFFFF;\n",
              "    }\n",
              "  </style>\n",
              "\n",
              "      <script>\n",
              "        const buttonEl =\n",
              "          document.querySelector('#df-98879059-8988-4e35-8807-1611f213541f button.colab-df-convert');\n",
              "        buttonEl.style.display =\n",
              "          google.colab.kernel.accessAllowed ? 'block' : 'none';\n",
              "\n",
              "        async function convertToInteractive(key) {\n",
              "          const element = document.querySelector('#df-98879059-8988-4e35-8807-1611f213541f');\n",
              "          const dataTable =\n",
              "            await google.colab.kernel.invokeFunction('convertToInteractive',\n",
              "                                                     [key], {});\n",
              "          if (!dataTable) return;\n",
              "\n",
              "          const docLinkHtml = 'Like what you see? Visit the ' +\n",
              "            '<a target=\"_blank\" href=https://colab.research.google.com/notebooks/data_table.ipynb>data table notebook</a>'\n",
              "            + ' to learn more about interactive tables.';\n",
              "          element.innerHTML = '';\n",
              "          dataTable['output_type'] = 'display_data';\n",
              "          await google.colab.output.renderOutput(dataTable, element);\n",
              "          const docLink = document.createElement('div');\n",
              "          docLink.innerHTML = docLinkHtml;\n",
              "          element.appendChild(docLink);\n",
              "        }\n",
              "      </script>\n",
              "    </div>\n",
              "  </div>\n",
              "  "
            ]
          },
          "metadata": {},
          "execution_count": 7
        }
      ],
      "source": [
        "#Visualizar BD\n",
        "BD_Expuestos.head(2)"
      ]
    },
    {
      "cell_type": "code",
      "execution_count": null,
      "metadata": {
        "colab": {
          "base_uri": "https://localhost:8080/"
        },
        "id": "ZFkDHRKSrv42",
        "outputId": "2557bd2f-8af1-42ae-f93e-cb2683728bab"
      },
      "outputs": [
        {
          "output_type": "stream",
          "name": "stdout",
          "text": [
            "<class 'pandas.core.frame.DataFrame'>\n",
            "RangeIndex: 300900 entries, 0 to 300899\n",
            "Data columns (total 5 columns):\n",
            " #   Column               Non-Null Count   Dtype \n",
            "---  ------               --------------   ----- \n",
            " 0   Asegurado_Id         300900 non-null  int64 \n",
            " 1   Poliza_Asegurado_Id  300900 non-null  int64 \n",
            " 2   FECHA_INICIO         300900 non-null  object\n",
            " 3   FECHA_CANCELACION    151963 non-null  object\n",
            " 4   FECHA_FIN            300900 non-null  object\n",
            "dtypes: int64(2), object(3)\n",
            "memory usage: 11.5+ MB\n"
          ]
        }
      ],
      "source": [
        "#Información general BD\n",
        "BD_Expuestos.info()"
      ]
    },
    {
      "cell_type": "code",
      "execution_count": null,
      "metadata": {
        "colab": {
          "base_uri": "https://localhost:8080/"
        },
        "id": "tNkyCDH4runy",
        "outputId": "08aa3b06-8151-47e5-8451-39eb481998b5"
      },
      "outputs": [
        {
          "output_type": "stream",
          "name": "stdout",
          "text": [
            "(300900, 5)\n",
            "-------------------------------------------------\n",
            "Asegurado_Id                0\n",
            "Poliza_Asegurado_Id         0\n",
            "FECHA_INICIO                0\n",
            "FECHA_CANCELACION      148937\n",
            "FECHA_FIN                   0\n",
            "dtype: int64\n",
            "-------------------------------------------------\n",
            "Asegurado_Id            int64\n",
            "Poliza_Asegurado_Id     int64\n",
            "FECHA_INICIO           object\n",
            "FECHA_CANCELACION      object\n",
            "FECHA_FIN              object\n",
            "dtype: object\n",
            "-------------------------------------------------\n"
          ]
        }
      ],
      "source": [
        "#Analizar dimensión, tipos y nulos\n",
        "print(BD_Expuestos.shape)\n",
        "print('-------------------------------------------------')\n",
        "print(BD_Expuestos.isnull().sum())\n",
        "print('-------------------------------------------------')\n",
        "print(BD_Expuestos.dtypes)\n",
        "print('-------------------------------------------------')"
      ]
    },
    {
      "cell_type": "code",
      "execution_count": null,
      "metadata": {
        "id": "tDXSseRZtUG0"
      },
      "outputs": [],
      "source": [
        "#Cambiar algunos nombres \n",
        "BD_Expuestos= BD_Expuestos.rename(columns={'Asegurado_Id':'id_cliente', 'Poliza_Asegurado_Id':'cod_poliza'})"
      ]
    },
    {
      "cell_type": "code",
      "execution_count": null,
      "metadata": {
        "colab": {
          "base_uri": "https://localhost:8080/"
        },
        "id": "p5wAqUNktSkT",
        "outputId": "7ee347b7-9590-4012-ed49-c2d667a97608"
      },
      "outputs": [
        {
          "output_type": "execute_result",
          "data": {
            "text/plain": [
              "Index(['id_cliente', 'cod_poliza', 'fecha_inicio', 'fecha_cancelacion',\n",
              "       'fecha_fin'],\n",
              "      dtype='object')"
            ]
          },
          "metadata": {},
          "execution_count": 11
        }
      ],
      "source": [
        "#Cambiar a minusculas el nombre de las columnas\n",
        "BD_Expuestos.columns = BD_Expuestos.columns.str.lower()\n",
        "BD_Expuestos.columns"
      ]
    },
    {
      "cell_type": "code",
      "execution_count": null,
      "metadata": {
        "colab": {
          "base_uri": "https://localhost:8080/"
        },
        "id": "YxsH8CFRsigo",
        "outputId": "9c97d4c4-8c8b-49ec-8fb8-745fd56a06ee"
      },
      "outputs": [
        {
          "output_type": "execute_result",
          "data": {
            "text/plain": [
              "id_cliente            Int64\n",
              "cod_poliza            Int64\n",
              "fecha_inicio         string\n",
              "fecha_cancelacion    string\n",
              "fecha_fin            string\n",
              "dtype: object"
            ]
          },
          "metadata": {},
          "execution_count": 12
        }
      ],
      "source": [
        "#Arreglar el tipo de dato de las columnas\n",
        "BD_Expuestos=BD_Expuestos.convert_dtypes()\n",
        "BD_Expuestos.dtypes"
      ]
    },
    {
      "cell_type": "code",
      "execution_count": null,
      "metadata": {
        "id": "R11cTBuprM1g",
        "colab": {
          "base_uri": "https://localhost:8080/",
          "height": 423
        },
        "outputId": "480f8ddc-0788-492a-a1ba-f1ce67923fb1"
      },
      "outputs": [
        {
          "output_type": "execute_result",
          "data": {
            "text/plain": [
              "        id_cliente  cod_poliza fecha_inicio fecha_cancelacion  fecha_fin  \\\n",
              "266073      738284    89612446   2018-01-01        2018-02-01 2018-02-01   \n",
              "267387      738288    88146604   2018-01-01        2018-11-08 2018-11-08   \n",
              "162796      738288   175992661   2018-11-08               NaT 2019-12-31   \n",
              "99970       738294    89612649   2018-01-01        2019-12-31 2019-12-31   \n",
              "152420      738303   120708179   2018-01-01               NaT 2019-12-31   \n",
              "...            ...         ...          ...               ...        ...   \n",
              "108906    58581939   168944085   2018-05-15               NaT 2019-12-31   \n",
              "53059     58581989   132872337   2018-01-01               NaT 2019-12-31   \n",
              "21750     58584529    96109296   2018-01-01        2018-09-01 2018-09-01   \n",
              "110303    58584580   159465186   2018-01-01               NaT 2019-12-31   \n",
              "164906    58584620    94495059   2018-01-01               NaT 2019-12-31   \n",
              "\n",
              "               FI         FF      EXPO  \n",
              "266073 2018-01-01 2018-02-01  0.042438  \n",
              "267387 2018-01-01 2018-11-08  0.425745  \n",
              "162796 2018-11-08 2019-12-31  0.572223  \n",
              "99970  2018-01-01 2019-12-31  0.997967  \n",
              "152420 2018-01-01 2019-12-31  0.997967  \n",
              "...           ...        ...       ...  \n",
              "108906 2018-05-15 2019-12-31  0.814527  \n",
              "53059  2018-01-01 2019-12-31  0.997967  \n",
              "21750  2018-01-01 2018-09-01  0.332656  \n",
              "110303 2018-01-01 2019-12-31  0.997967  \n",
              "164906 2018-01-01 2019-12-31  0.997967  \n",
              "\n",
              "[300900 rows x 8 columns]"
            ],
            "text/html": [
              "\n",
              "  <div id=\"df-4e549714-d7cd-41e2-a79f-b138251c4380\">\n",
              "    <div class=\"colab-df-container\">\n",
              "      <div>\n",
              "<style scoped>\n",
              "    .dataframe tbody tr th:only-of-type {\n",
              "        vertical-align: middle;\n",
              "    }\n",
              "\n",
              "    .dataframe tbody tr th {\n",
              "        vertical-align: top;\n",
              "    }\n",
              "\n",
              "    .dataframe thead th {\n",
              "        text-align: right;\n",
              "    }\n",
              "</style>\n",
              "<table border=\"1\" class=\"dataframe\">\n",
              "  <thead>\n",
              "    <tr style=\"text-align: right;\">\n",
              "      <th></th>\n",
              "      <th>id_cliente</th>\n",
              "      <th>cod_poliza</th>\n",
              "      <th>fecha_inicio</th>\n",
              "      <th>fecha_cancelacion</th>\n",
              "      <th>fecha_fin</th>\n",
              "      <th>FI</th>\n",
              "      <th>FF</th>\n",
              "      <th>EXPO</th>\n",
              "    </tr>\n",
              "  </thead>\n",
              "  <tbody>\n",
              "    <tr>\n",
              "      <th>266073</th>\n",
              "      <td>738284</td>\n",
              "      <td>89612446</td>\n",
              "      <td>2018-01-01</td>\n",
              "      <td>2018-02-01</td>\n",
              "      <td>2018-02-01</td>\n",
              "      <td>2018-01-01</td>\n",
              "      <td>2018-02-01</td>\n",
              "      <td>0.042438</td>\n",
              "    </tr>\n",
              "    <tr>\n",
              "      <th>267387</th>\n",
              "      <td>738288</td>\n",
              "      <td>88146604</td>\n",
              "      <td>2018-01-01</td>\n",
              "      <td>2018-11-08</td>\n",
              "      <td>2018-11-08</td>\n",
              "      <td>2018-01-01</td>\n",
              "      <td>2018-11-08</td>\n",
              "      <td>0.425745</td>\n",
              "    </tr>\n",
              "    <tr>\n",
              "      <th>162796</th>\n",
              "      <td>738288</td>\n",
              "      <td>175992661</td>\n",
              "      <td>2018-11-08</td>\n",
              "      <td>NaT</td>\n",
              "      <td>2019-12-31</td>\n",
              "      <td>2018-11-08</td>\n",
              "      <td>2019-12-31</td>\n",
              "      <td>0.572223</td>\n",
              "    </tr>\n",
              "    <tr>\n",
              "      <th>99970</th>\n",
              "      <td>738294</td>\n",
              "      <td>89612649</td>\n",
              "      <td>2018-01-01</td>\n",
              "      <td>2019-12-31</td>\n",
              "      <td>2019-12-31</td>\n",
              "      <td>2018-01-01</td>\n",
              "      <td>2019-12-31</td>\n",
              "      <td>0.997967</td>\n",
              "    </tr>\n",
              "    <tr>\n",
              "      <th>152420</th>\n",
              "      <td>738303</td>\n",
              "      <td>120708179</td>\n",
              "      <td>2018-01-01</td>\n",
              "      <td>NaT</td>\n",
              "      <td>2019-12-31</td>\n",
              "      <td>2018-01-01</td>\n",
              "      <td>2019-12-31</td>\n",
              "      <td>0.997967</td>\n",
              "    </tr>\n",
              "    <tr>\n",
              "      <th>...</th>\n",
              "      <td>...</td>\n",
              "      <td>...</td>\n",
              "      <td>...</td>\n",
              "      <td>...</td>\n",
              "      <td>...</td>\n",
              "      <td>...</td>\n",
              "      <td>...</td>\n",
              "      <td>...</td>\n",
              "    </tr>\n",
              "    <tr>\n",
              "      <th>108906</th>\n",
              "      <td>58581939</td>\n",
              "      <td>168944085</td>\n",
              "      <td>2018-05-15</td>\n",
              "      <td>NaT</td>\n",
              "      <td>2019-12-31</td>\n",
              "      <td>2018-05-15</td>\n",
              "      <td>2019-12-31</td>\n",
              "      <td>0.814527</td>\n",
              "    </tr>\n",
              "    <tr>\n",
              "      <th>53059</th>\n",
              "      <td>58581989</td>\n",
              "      <td>132872337</td>\n",
              "      <td>2018-01-01</td>\n",
              "      <td>NaT</td>\n",
              "      <td>2019-12-31</td>\n",
              "      <td>2018-01-01</td>\n",
              "      <td>2019-12-31</td>\n",
              "      <td>0.997967</td>\n",
              "    </tr>\n",
              "    <tr>\n",
              "      <th>21750</th>\n",
              "      <td>58584529</td>\n",
              "      <td>96109296</td>\n",
              "      <td>2018-01-01</td>\n",
              "      <td>2018-09-01</td>\n",
              "      <td>2018-09-01</td>\n",
              "      <td>2018-01-01</td>\n",
              "      <td>2018-09-01</td>\n",
              "      <td>0.332656</td>\n",
              "    </tr>\n",
              "    <tr>\n",
              "      <th>110303</th>\n",
              "      <td>58584580</td>\n",
              "      <td>159465186</td>\n",
              "      <td>2018-01-01</td>\n",
              "      <td>NaT</td>\n",
              "      <td>2019-12-31</td>\n",
              "      <td>2018-01-01</td>\n",
              "      <td>2019-12-31</td>\n",
              "      <td>0.997967</td>\n",
              "    </tr>\n",
              "    <tr>\n",
              "      <th>164906</th>\n",
              "      <td>58584620</td>\n",
              "      <td>94495059</td>\n",
              "      <td>2018-01-01</td>\n",
              "      <td>NaT</td>\n",
              "      <td>2019-12-31</td>\n",
              "      <td>2018-01-01</td>\n",
              "      <td>2019-12-31</td>\n",
              "      <td>0.997967</td>\n",
              "    </tr>\n",
              "  </tbody>\n",
              "</table>\n",
              "<p>300900 rows × 8 columns</p>\n",
              "</div>\n",
              "      <button class=\"colab-df-convert\" onclick=\"convertToInteractive('df-4e549714-d7cd-41e2-a79f-b138251c4380')\"\n",
              "              title=\"Convert this dataframe to an interactive table.\"\n",
              "              style=\"display:none;\">\n",
              "        \n",
              "  <svg xmlns=\"http://www.w3.org/2000/svg\" height=\"24px\"viewBox=\"0 0 24 24\"\n",
              "       width=\"24px\">\n",
              "    <path d=\"M0 0h24v24H0V0z\" fill=\"none\"/>\n",
              "    <path d=\"M18.56 5.44l.94 2.06.94-2.06 2.06-.94-2.06-.94-.94-2.06-.94 2.06-2.06.94zm-11 1L8.5 8.5l.94-2.06 2.06-.94-2.06-.94L8.5 2.5l-.94 2.06-2.06.94zm10 10l.94 2.06.94-2.06 2.06-.94-2.06-.94-.94-2.06-.94 2.06-2.06.94z\"/><path d=\"M17.41 7.96l-1.37-1.37c-.4-.4-.92-.59-1.43-.59-.52 0-1.04.2-1.43.59L10.3 9.45l-7.72 7.72c-.78.78-.78 2.05 0 2.83L4 21.41c.39.39.9.59 1.41.59.51 0 1.02-.2 1.41-.59l7.78-7.78 2.81-2.81c.8-.78.8-2.07 0-2.86zM5.41 20L4 18.59l7.72-7.72 1.47 1.35L5.41 20z\"/>\n",
              "  </svg>\n",
              "      </button>\n",
              "      \n",
              "  <style>\n",
              "    .colab-df-container {\n",
              "      display:flex;\n",
              "      flex-wrap:wrap;\n",
              "      gap: 12px;\n",
              "    }\n",
              "\n",
              "    .colab-df-convert {\n",
              "      background-color: #E8F0FE;\n",
              "      border: none;\n",
              "      border-radius: 50%;\n",
              "      cursor: pointer;\n",
              "      display: none;\n",
              "      fill: #1967D2;\n",
              "      height: 32px;\n",
              "      padding: 0 0 0 0;\n",
              "      width: 32px;\n",
              "    }\n",
              "\n",
              "    .colab-df-convert:hover {\n",
              "      background-color: #E2EBFA;\n",
              "      box-shadow: 0px 1px 2px rgba(60, 64, 67, 0.3), 0px 1px 3px 1px rgba(60, 64, 67, 0.15);\n",
              "      fill: #174EA6;\n",
              "    }\n",
              "\n",
              "    [theme=dark] .colab-df-convert {\n",
              "      background-color: #3B4455;\n",
              "      fill: #D2E3FC;\n",
              "    }\n",
              "\n",
              "    [theme=dark] .colab-df-convert:hover {\n",
              "      background-color: #434B5C;\n",
              "      box-shadow: 0px 1px 3px 1px rgba(0, 0, 0, 0.15);\n",
              "      filter: drop-shadow(0px 1px 2px rgba(0, 0, 0, 0.3));\n",
              "      fill: #FFFFFF;\n",
              "    }\n",
              "  </style>\n",
              "\n",
              "      <script>\n",
              "        const buttonEl =\n",
              "          document.querySelector('#df-4e549714-d7cd-41e2-a79f-b138251c4380 button.colab-df-convert');\n",
              "        buttonEl.style.display =\n",
              "          google.colab.kernel.accessAllowed ? 'block' : 'none';\n",
              "\n",
              "        async function convertToInteractive(key) {\n",
              "          const element = document.querySelector('#df-4e549714-d7cd-41e2-a79f-b138251c4380');\n",
              "          const dataTable =\n",
              "            await google.colab.kernel.invokeFunction('convertToInteractive',\n",
              "                                                     [key], {});\n",
              "          if (!dataTable) return;\n",
              "\n",
              "          const docLinkHtml = 'Like what you see? Visit the ' +\n",
              "            '<a target=\"_blank\" href=https://colab.research.google.com/notebooks/data_table.ipynb>data table notebook</a>'\n",
              "            + ' to learn more about interactive tables.';\n",
              "          element.innerHTML = '';\n",
              "          dataTable['output_type'] = 'display_data';\n",
              "          await google.colab.output.renderOutput(dataTable, element);\n",
              "          const docLink = document.createElement('div');\n",
              "          docLink.innerHTML = docLinkHtml;\n",
              "          element.appendChild(docLink);\n",
              "        }\n",
              "      </script>\n",
              "    </div>\n",
              "  </div>\n",
              "  "
            ]
          },
          "metadata": {},
          "execution_count": 13
        }
      ],
      "source": [
        "#Calcular columna EXPO, partiendo de creación de la columna FI y FF\n",
        "#Cambiar el tipo de dato de las fechas a datetime\n",
        "BD_Expuestos['fecha_inicio'] = pd.to_datetime(BD_Expuestos['fecha_inicio']) \n",
        "BD_Expuestos['FI'] = pd.to_datetime(BD_Expuestos['fecha_inicio']) # FI\n",
        "BD_Expuestos['fecha_cancelacion'] = pd.to_datetime(BD_Expuestos['fecha_cancelacion']) \n",
        "BD_Expuestos['fecha_fin'] = pd.to_datetime(BD_Expuestos['fecha_fin'])\n",
        "BD_Expuestos['FF'] = BD_Expuestos[['fecha_cancelacion','fecha_fin']].min(axis=1) #FF\n",
        "BD_Expuestos['EXPO'] = (BD_Expuestos['FF'] - BD_Expuestos['FI'])/ np.timedelta64(2, 'Y') # EXPO = ((ff-fi)/)\n",
        "BD_Expuestos = BD_Expuestos.sort_values(['id_cliente', 'fecha_inicio'],\n",
        "              ascending = [True, True])\n",
        "BD_Expuestos"
      ]
    },
    {
      "cell_type": "code",
      "execution_count": null,
      "metadata": {
        "colab": {
          "base_uri": "https://localhost:8080/"
        },
        "id": "vkBmlqo9McNP",
        "outputId": "a21590a6-81f9-430d-ca0f-ce1663592cdc"
      },
      "outputs": [
        {
          "output_type": "execute_result",
          "data": {
            "text/plain": [
              "id_cliente                    Int64\n",
              "cod_poliza                    Int64\n",
              "fecha_inicio         datetime64[ns]\n",
              "fecha_cancelacion    datetime64[ns]\n",
              "fecha_fin            datetime64[ns]\n",
              "FI                   datetime64[ns]\n",
              "FF                   datetime64[ns]\n",
              "EXPO                        float64\n",
              "dtype: object"
            ]
          },
          "metadata": {},
          "execution_count": 14
        }
      ],
      "source": [
        "BD_Expuestos.dtypes"
      ]
    },
    {
      "cell_type": "markdown",
      "metadata": {
        "id": "hgcc3XeOvUdh"
      },
      "source": [
        "**TRATAMIENTO BD SINIESTROS**"
      ]
    },
    {
      "cell_type": "code",
      "execution_count": null,
      "metadata": {
        "colab": {
          "base_uri": "https://localhost:8080/"
        },
        "id": "OAAq1U19xSy1",
        "outputId": "5462043f-2f06-41d5-f95b-9f48517399e4"
      },
      "outputs": [
        {
          "output_type": "stream",
          "name": "stdout",
          "text": [
            "<class 'pandas.core.frame.DataFrame'>\n",
            "RangeIndex: 1048575 entries, 0 to 1048574\n",
            "Data columns (total 7 columns):\n",
            " #   Column              Non-Null Count    Dtype  \n",
            "---  ------              --------------    -----  \n",
            " 0   Mes_Pago            1048575 non-null  int64  \n",
            " 1   Asegurado_Id        1048575 non-null  int64  \n",
            " 2   Reclamacion         1048575 non-null  object \n",
            " 3   Diagnostico_Codigo  1048575 non-null  object \n",
            " 4   Diagnostico_Desc    1048575 non-null  object \n",
            " 5   Eventos             1048575 non-null  int64  \n",
            " 6   Valor_Pagado        1048575 non-null  float64\n",
            "dtypes: float64(1), int64(3), object(3)\n",
            "memory usage: 56.0+ MB\n"
          ]
        }
      ],
      "source": [
        "#Ver información general de BD siniestros\n",
        "BD_Siniestros.info()"
      ]
    },
    {
      "cell_type": "code",
      "execution_count": null,
      "metadata": {
        "colab": {
          "base_uri": "https://localhost:8080/"
        },
        "id": "QRbZ-wHTvoGC",
        "outputId": "1f5e0ff0-389e-456a-9598-53e7c05adb64"
      },
      "outputs": [
        {
          "output_type": "execute_result",
          "data": {
            "text/plain": [
              "Index(['Mes_Pago', 'Asegurado_Id', 'Reclamacion', 'Diagnostico_Codigo',\n",
              "       'Diagnostico_Desc', 'Eventos', 'Valor_Pagado'],\n",
              "      dtype='object')"
            ]
          },
          "metadata": {},
          "execution_count": 16
        }
      ],
      "source": [
        "#Ver columnas\n",
        "BD_Siniestros.columns"
      ]
    },
    {
      "cell_type": "code",
      "execution_count": null,
      "metadata": {
        "colab": {
          "base_uri": "https://localhost:8080/"
        },
        "id": "-QtcZPVPvu1H",
        "outputId": "a32f922b-17b6-442d-e27b-b19982191528"
      },
      "outputs": [
        {
          "output_type": "stream",
          "name": "stdout",
          "text": [
            "(1048575, 7)\n",
            "-------------------------------------------------\n",
            "Mes_Pago              0\n",
            "Asegurado_Id          0\n",
            "Reclamacion           0\n",
            "Diagnostico_Codigo    0\n",
            "Diagnostico_Desc      0\n",
            "Eventos               0\n",
            "Valor_Pagado          0\n",
            "dtype: int64\n",
            "-------------------------------------------------\n",
            "Mes_Pago                int64\n",
            "Asegurado_Id            int64\n",
            "Reclamacion            object\n",
            "Diagnostico_Codigo     object\n",
            "Diagnostico_Desc       object\n",
            "Eventos                 int64\n",
            "Valor_Pagado          float64\n",
            "dtype: object\n",
            "-------------------------------------------------\n"
          ]
        }
      ],
      "source": [
        "#Analizar dimensión, tipos y nulos\n",
        "print(BD_Siniestros.shape)\n",
        "print('-------------------------------------------------')\n",
        "print(BD_Siniestros.isnull().sum())\n",
        "print('-------------------------------------------------')\n",
        "print(BD_Siniestros.dtypes)\n",
        "print('-------------------------------------------------')"
      ]
    },
    {
      "cell_type": "code",
      "execution_count": null,
      "metadata": {
        "id": "Uv1TSPXav6MF"
      },
      "outputs": [],
      "source": [
        "#Cambiar nombres\n",
        "BD_Siniestros= BD_Siniestros.rename(columns={'Asegurado_Id':'id_cliente', 'Diagnostico_Codigo':'cod_diagnostico'})"
      ]
    },
    {
      "cell_type": "code",
      "execution_count": null,
      "metadata": {
        "id": "08527HuGv_g9",
        "colab": {
          "base_uri": "https://localhost:8080/"
        },
        "outputId": "70785e74-8dac-4366-a7e9-38402a9b7c75"
      },
      "outputs": [
        {
          "output_type": "execute_result",
          "data": {
            "text/plain": [
              "Index(['mes_pago', 'id_cliente', 'reclamacion', 'cod_diagnostico',\n",
              "       'diagnostico_desc', 'eventos', 'valor_pagado'],\n",
              "      dtype='object')"
            ]
          },
          "metadata": {},
          "execution_count": 19
        }
      ],
      "source": [
        "#Cambiar a el nombre de las columnas\n",
        "BD_Siniestros.columns = BD_Siniestros.columns.str.lower()\n",
        "BD_Siniestros.columns"
      ]
    },
    {
      "cell_type": "code",
      "execution_count": null,
      "metadata": {
        "colab": {
          "base_uri": "https://localhost:8080/"
        },
        "id": "0VjON0kiwEVa",
        "outputId": "d806092f-decb-4b32-b222-12e2a5a7f569"
      },
      "outputs": [
        {
          "output_type": "execute_result",
          "data": {
            "text/plain": [
              "mes_pago              Int64\n",
              "id_cliente            Int64\n",
              "reclamacion          string\n",
              "cod_diagnostico      string\n",
              "diagnostico_desc     string\n",
              "eventos               Int64\n",
              "valor_pagado        Float64\n",
              "dtype: object"
            ]
          },
          "metadata": {},
          "execution_count": 20
        }
      ],
      "source": [
        "#Se arregla o convierte el tipo de dato\n",
        "BD_Siniestros=BD_Siniestros.convert_dtypes()\n",
        "BD_Siniestros.dtypes"
      ]
    },
    {
      "cell_type": "code",
      "source": [
        "#Se decide borrar la variable diagnostico_desc debido a que cod_diagnostico nos aporta la misma informaciòn y es más facil agruparlo\n",
        "BD_Siniestros.drop(['diagnostico_desc'], axis=1)"
      ],
      "metadata": {
        "colab": {
          "base_uri": "https://localhost:8080/",
          "height": 423
        },
        "id": "Z0DDfVSzrKfy",
        "outputId": "b7cb7b00-6248-45ef-976c-1ff852278428"
      },
      "execution_count": null,
      "outputs": [
        {
          "output_type": "execute_result",
          "data": {
            "text/plain": [
              "         mes_pago  id_cliente                                     reclamacion  \\\n",
              "0          201803     4834968                         EXAMENES DE DIAGNOSTICO   \n",
              "1          201909    14915125                         EXAMENES DE DIAGNOSTICO   \n",
              "2          201807    42959949                         EXAMENES DE DIAGNOSTICO   \n",
              "3          201803    30540131                                CONSULTA EXTERNA   \n",
              "4          201905    21442420                             LABORATORIO CLINICO   \n",
              "...           ...         ...                                             ...   \n",
              "1048570    201907     9822689                             LABORATORIO CLINICO   \n",
              "1048571    201807     4806249              CIRUGIA AMBULATORIA POR ENFERMEDAD   \n",
              "1048572    201902    10899044                                CONSULTA EXTERNA   \n",
              "1048573    201808     3482153                                CONSULTA EXTERNA   \n",
              "1048574    201805    38513672  TRATAMIENTO MEDICO HOSPITALARIO POR ENFERMEDAD   \n",
              "\n",
              "        cod_diagnostico  eventos  valor_pagado  \n",
              "0                  Z011        1      111600.0  \n",
              "1                     9        1       50468.0  \n",
              "2                     9        1      610452.0  \n",
              "3                     9        1       42160.0  \n",
              "4                     9       18     617336.48  \n",
              "...                 ...      ...           ...  \n",
              "1048570               9        2     173448.72  \n",
              "1048571            L732        1      496000.0  \n",
              "1048572               9        1       24056.0  \n",
              "1048573               9        1       80600.0  \n",
              "1048574            G400        1     918528.76  \n",
              "\n",
              "[1048575 rows x 6 columns]"
            ],
            "text/html": [
              "\n",
              "  <div id=\"df-a56a370f-0628-41e0-9b1e-f6dfea11c60a\">\n",
              "    <div class=\"colab-df-container\">\n",
              "      <div>\n",
              "<style scoped>\n",
              "    .dataframe tbody tr th:only-of-type {\n",
              "        vertical-align: middle;\n",
              "    }\n",
              "\n",
              "    .dataframe tbody tr th {\n",
              "        vertical-align: top;\n",
              "    }\n",
              "\n",
              "    .dataframe thead th {\n",
              "        text-align: right;\n",
              "    }\n",
              "</style>\n",
              "<table border=\"1\" class=\"dataframe\">\n",
              "  <thead>\n",
              "    <tr style=\"text-align: right;\">\n",
              "      <th></th>\n",
              "      <th>mes_pago</th>\n",
              "      <th>id_cliente</th>\n",
              "      <th>reclamacion</th>\n",
              "      <th>cod_diagnostico</th>\n",
              "      <th>eventos</th>\n",
              "      <th>valor_pagado</th>\n",
              "    </tr>\n",
              "  </thead>\n",
              "  <tbody>\n",
              "    <tr>\n",
              "      <th>0</th>\n",
              "      <td>201803</td>\n",
              "      <td>4834968</td>\n",
              "      <td>EXAMENES DE DIAGNOSTICO</td>\n",
              "      <td>Z011</td>\n",
              "      <td>1</td>\n",
              "      <td>111600.0</td>\n",
              "    </tr>\n",
              "    <tr>\n",
              "      <th>1</th>\n",
              "      <td>201909</td>\n",
              "      <td>14915125</td>\n",
              "      <td>EXAMENES DE DIAGNOSTICO</td>\n",
              "      <td>9</td>\n",
              "      <td>1</td>\n",
              "      <td>50468.0</td>\n",
              "    </tr>\n",
              "    <tr>\n",
              "      <th>2</th>\n",
              "      <td>201807</td>\n",
              "      <td>42959949</td>\n",
              "      <td>EXAMENES DE DIAGNOSTICO</td>\n",
              "      <td>9</td>\n",
              "      <td>1</td>\n",
              "      <td>610452.0</td>\n",
              "    </tr>\n",
              "    <tr>\n",
              "      <th>3</th>\n",
              "      <td>201803</td>\n",
              "      <td>30540131</td>\n",
              "      <td>CONSULTA EXTERNA</td>\n",
              "      <td>9</td>\n",
              "      <td>1</td>\n",
              "      <td>42160.0</td>\n",
              "    </tr>\n",
              "    <tr>\n",
              "      <th>4</th>\n",
              "      <td>201905</td>\n",
              "      <td>21442420</td>\n",
              "      <td>LABORATORIO CLINICO</td>\n",
              "      <td>9</td>\n",
              "      <td>18</td>\n",
              "      <td>617336.48</td>\n",
              "    </tr>\n",
              "    <tr>\n",
              "      <th>...</th>\n",
              "      <td>...</td>\n",
              "      <td>...</td>\n",
              "      <td>...</td>\n",
              "      <td>...</td>\n",
              "      <td>...</td>\n",
              "      <td>...</td>\n",
              "    </tr>\n",
              "    <tr>\n",
              "      <th>1048570</th>\n",
              "      <td>201907</td>\n",
              "      <td>9822689</td>\n",
              "      <td>LABORATORIO CLINICO</td>\n",
              "      <td>9</td>\n",
              "      <td>2</td>\n",
              "      <td>173448.72</td>\n",
              "    </tr>\n",
              "    <tr>\n",
              "      <th>1048571</th>\n",
              "      <td>201807</td>\n",
              "      <td>4806249</td>\n",
              "      <td>CIRUGIA AMBULATORIA POR ENFERMEDAD</td>\n",
              "      <td>L732</td>\n",
              "      <td>1</td>\n",
              "      <td>496000.0</td>\n",
              "    </tr>\n",
              "    <tr>\n",
              "      <th>1048572</th>\n",
              "      <td>201902</td>\n",
              "      <td>10899044</td>\n",
              "      <td>CONSULTA EXTERNA</td>\n",
              "      <td>9</td>\n",
              "      <td>1</td>\n",
              "      <td>24056.0</td>\n",
              "    </tr>\n",
              "    <tr>\n",
              "      <th>1048573</th>\n",
              "      <td>201808</td>\n",
              "      <td>3482153</td>\n",
              "      <td>CONSULTA EXTERNA</td>\n",
              "      <td>9</td>\n",
              "      <td>1</td>\n",
              "      <td>80600.0</td>\n",
              "    </tr>\n",
              "    <tr>\n",
              "      <th>1048574</th>\n",
              "      <td>201805</td>\n",
              "      <td>38513672</td>\n",
              "      <td>TRATAMIENTO MEDICO HOSPITALARIO POR ENFERMEDAD</td>\n",
              "      <td>G400</td>\n",
              "      <td>1</td>\n",
              "      <td>918528.76</td>\n",
              "    </tr>\n",
              "  </tbody>\n",
              "</table>\n",
              "<p>1048575 rows × 6 columns</p>\n",
              "</div>\n",
              "      <button class=\"colab-df-convert\" onclick=\"convertToInteractive('df-a56a370f-0628-41e0-9b1e-f6dfea11c60a')\"\n",
              "              title=\"Convert this dataframe to an interactive table.\"\n",
              "              style=\"display:none;\">\n",
              "        \n",
              "  <svg xmlns=\"http://www.w3.org/2000/svg\" height=\"24px\"viewBox=\"0 0 24 24\"\n",
              "       width=\"24px\">\n",
              "    <path d=\"M0 0h24v24H0V0z\" fill=\"none\"/>\n",
              "    <path d=\"M18.56 5.44l.94 2.06.94-2.06 2.06-.94-2.06-.94-.94-2.06-.94 2.06-2.06.94zm-11 1L8.5 8.5l.94-2.06 2.06-.94-2.06-.94L8.5 2.5l-.94 2.06-2.06.94zm10 10l.94 2.06.94-2.06 2.06-.94-2.06-.94-.94-2.06-.94 2.06-2.06.94z\"/><path d=\"M17.41 7.96l-1.37-1.37c-.4-.4-.92-.59-1.43-.59-.52 0-1.04.2-1.43.59L10.3 9.45l-7.72 7.72c-.78.78-.78 2.05 0 2.83L4 21.41c.39.39.9.59 1.41.59.51 0 1.02-.2 1.41-.59l7.78-7.78 2.81-2.81c.8-.78.8-2.07 0-2.86zM5.41 20L4 18.59l7.72-7.72 1.47 1.35L5.41 20z\"/>\n",
              "  </svg>\n",
              "      </button>\n",
              "      \n",
              "  <style>\n",
              "    .colab-df-container {\n",
              "      display:flex;\n",
              "      flex-wrap:wrap;\n",
              "      gap: 12px;\n",
              "    }\n",
              "\n",
              "    .colab-df-convert {\n",
              "      background-color: #E8F0FE;\n",
              "      border: none;\n",
              "      border-radius: 50%;\n",
              "      cursor: pointer;\n",
              "      display: none;\n",
              "      fill: #1967D2;\n",
              "      height: 32px;\n",
              "      padding: 0 0 0 0;\n",
              "      width: 32px;\n",
              "    }\n",
              "\n",
              "    .colab-df-convert:hover {\n",
              "      background-color: #E2EBFA;\n",
              "      box-shadow: 0px 1px 2px rgba(60, 64, 67, 0.3), 0px 1px 3px 1px rgba(60, 64, 67, 0.15);\n",
              "      fill: #174EA6;\n",
              "    }\n",
              "\n",
              "    [theme=dark] .colab-df-convert {\n",
              "      background-color: #3B4455;\n",
              "      fill: #D2E3FC;\n",
              "    }\n",
              "\n",
              "    [theme=dark] .colab-df-convert:hover {\n",
              "      background-color: #434B5C;\n",
              "      box-shadow: 0px 1px 3px 1px rgba(0, 0, 0, 0.15);\n",
              "      filter: drop-shadow(0px 1px 2px rgba(0, 0, 0, 0.3));\n",
              "      fill: #FFFFFF;\n",
              "    }\n",
              "  </style>\n",
              "\n",
              "      <script>\n",
              "        const buttonEl =\n",
              "          document.querySelector('#df-a56a370f-0628-41e0-9b1e-f6dfea11c60a button.colab-df-convert');\n",
              "        buttonEl.style.display =\n",
              "          google.colab.kernel.accessAllowed ? 'block' : 'none';\n",
              "\n",
              "        async function convertToInteractive(key) {\n",
              "          const element = document.querySelector('#df-a56a370f-0628-41e0-9b1e-f6dfea11c60a');\n",
              "          const dataTable =\n",
              "            await google.colab.kernel.invokeFunction('convertToInteractive',\n",
              "                                                     [key], {});\n",
              "          if (!dataTable) return;\n",
              "\n",
              "          const docLinkHtml = 'Like what you see? Visit the ' +\n",
              "            '<a target=\"_blank\" href=https://colab.research.google.com/notebooks/data_table.ipynb>data table notebook</a>'\n",
              "            + ' to learn more about interactive tables.';\n",
              "          element.innerHTML = '';\n",
              "          dataTable['output_type'] = 'display_data';\n",
              "          await google.colab.output.renderOutput(dataTable, element);\n",
              "          const docLink = document.createElement('div');\n",
              "          docLink.innerHTML = docLinkHtml;\n",
              "          element.appendChild(docLink);\n",
              "        }\n",
              "      </script>\n",
              "    </div>\n",
              "  </div>\n",
              "  "
            ]
          },
          "metadata": {},
          "execution_count": 21
        }
      ]
    },
    {
      "cell_type": "code",
      "source": [
        "BD_Siniestros['cod_diagnostico'].unique()"
      ],
      "metadata": {
        "id": "KLJ8b4MQUEri",
        "colab": {
          "base_uri": "https://localhost:8080/"
        },
        "outputId": "c76b63b1-f220-4510-d7e2-49d195f8f79d"
      },
      "execution_count": null,
      "outputs": [
        {
          "output_type": "execute_result",
          "data": {
            "text/plain": [
              "<StringArray>\n",
              "['Z011',    '9', 'S500', 'B360', 'N486', 'R688', 'M08X', 'E039', 'K35X',\n",
              " 'Z017',\n",
              " ...\n",
              " 'D892', 'M924', 'Y478', 'S157', 'Y835', 'F160', 'S747', 'Q79X', 'Z558',\n",
              " 'L245']\n",
              "Length: 4420, dtype: string"
            ]
          },
          "metadata": {},
          "execution_count": 22
        }
      ]
    },
    {
      "cell_type": "code",
      "source": [
        "#Al observar que los codigos se dividen por letras que representan su tipo de diagnostico se decide agruparlos\n",
        "\n",
        "BD_Sinis_E=BD_Siniestros['cod_diagnostico'].to_excel(\"prueba.xlsx\")\n"
      ],
      "metadata": {
        "id": "WP_5WSERsMFq"
      },
      "execution_count": null,
      "outputs": []
    },
    {
      "cell_type": "code",
      "source": [
        "#Al revisar los datos en excel comprobamos que la mayoria estan mal escritos pues tienen '9' como referencia por lo que se decide eliminar esta variable\n",
        "BD_Siniestros.drop(['cod_diagnostico'], axis=1)"
      ],
      "metadata": {
        "colab": {
          "base_uri": "https://localhost:8080/",
          "height": 423
        },
        "id": "LJasOe1U8-sr",
        "outputId": "7f38cabe-72e1-40bd-cfc4-ed063d5bcf3f"
      },
      "execution_count": null,
      "outputs": [
        {
          "output_type": "execute_result",
          "data": {
            "text/plain": [
              "         mes_pago  id_cliente                                     reclamacion  \\\n",
              "0          201803     4834968                         EXAMENES DE DIAGNOSTICO   \n",
              "1          201909    14915125                         EXAMENES DE DIAGNOSTICO   \n",
              "2          201807    42959949                         EXAMENES DE DIAGNOSTICO   \n",
              "3          201803    30540131                                CONSULTA EXTERNA   \n",
              "4          201905    21442420                             LABORATORIO CLINICO   \n",
              "...           ...         ...                                             ...   \n",
              "1048570    201907     9822689                             LABORATORIO CLINICO   \n",
              "1048571    201807     4806249              CIRUGIA AMBULATORIA POR ENFERMEDAD   \n",
              "1048572    201902    10899044                                CONSULTA EXTERNA   \n",
              "1048573    201808     3482153                                CONSULTA EXTERNA   \n",
              "1048574    201805    38513672  TRATAMIENTO MEDICO HOSPITALARIO POR ENFERMEDAD   \n",
              "\n",
              "                                          diagnostico_desc  eventos  \\\n",
              "0                         EXAMEN DE OÍDOS Y DE LA AUDICIÓN        1   \n",
              "1                                    DIAGNÓSTICO PENDIENTE        1   \n",
              "2                                    DIAGNÓSTICO PENDIENTE        1   \n",
              "3                                    DIAGNÓSTICO PENDIENTE        1   \n",
              "4                                    DIAGNÓSTICO PENDIENTE       18   \n",
              "...                                                    ...      ...   \n",
              "1048570                              DIAGNÓSTICO PENDIENTE        2   \n",
              "1048571                            HIDRADENITIS SUPURATIVA        1   \n",
              "1048572                              DIAGNÓSTICO PENDIENTE        1   \n",
              "1048573                              DIAGNÓSTICO PENDIENTE        1   \n",
              "1048574  EPILEPSIA Y SÍNDROMES EPILÉPTICOS IDIOPÁTICOS ...        1   \n",
              "\n",
              "         valor_pagado  \n",
              "0            111600.0  \n",
              "1             50468.0  \n",
              "2            610452.0  \n",
              "3             42160.0  \n",
              "4           617336.48  \n",
              "...               ...  \n",
              "1048570     173448.72  \n",
              "1048571      496000.0  \n",
              "1048572       24056.0  \n",
              "1048573       80600.0  \n",
              "1048574     918528.76  \n",
              "\n",
              "[1048575 rows x 6 columns]"
            ],
            "text/html": [
              "\n",
              "  <div id=\"df-cb3d87ee-8684-4cae-b861-90cacabf9797\">\n",
              "    <div class=\"colab-df-container\">\n",
              "      <div>\n",
              "<style scoped>\n",
              "    .dataframe tbody tr th:only-of-type {\n",
              "        vertical-align: middle;\n",
              "    }\n",
              "\n",
              "    .dataframe tbody tr th {\n",
              "        vertical-align: top;\n",
              "    }\n",
              "\n",
              "    .dataframe thead th {\n",
              "        text-align: right;\n",
              "    }\n",
              "</style>\n",
              "<table border=\"1\" class=\"dataframe\">\n",
              "  <thead>\n",
              "    <tr style=\"text-align: right;\">\n",
              "      <th></th>\n",
              "      <th>mes_pago</th>\n",
              "      <th>id_cliente</th>\n",
              "      <th>reclamacion</th>\n",
              "      <th>diagnostico_desc</th>\n",
              "      <th>eventos</th>\n",
              "      <th>valor_pagado</th>\n",
              "    </tr>\n",
              "  </thead>\n",
              "  <tbody>\n",
              "    <tr>\n",
              "      <th>0</th>\n",
              "      <td>201803</td>\n",
              "      <td>4834968</td>\n",
              "      <td>EXAMENES DE DIAGNOSTICO</td>\n",
              "      <td>EXAMEN DE OÍDOS Y DE LA AUDICIÓN</td>\n",
              "      <td>1</td>\n",
              "      <td>111600.0</td>\n",
              "    </tr>\n",
              "    <tr>\n",
              "      <th>1</th>\n",
              "      <td>201909</td>\n",
              "      <td>14915125</td>\n",
              "      <td>EXAMENES DE DIAGNOSTICO</td>\n",
              "      <td>DIAGNÓSTICO PENDIENTE</td>\n",
              "      <td>1</td>\n",
              "      <td>50468.0</td>\n",
              "    </tr>\n",
              "    <tr>\n",
              "      <th>2</th>\n",
              "      <td>201807</td>\n",
              "      <td>42959949</td>\n",
              "      <td>EXAMENES DE DIAGNOSTICO</td>\n",
              "      <td>DIAGNÓSTICO PENDIENTE</td>\n",
              "      <td>1</td>\n",
              "      <td>610452.0</td>\n",
              "    </tr>\n",
              "    <tr>\n",
              "      <th>3</th>\n",
              "      <td>201803</td>\n",
              "      <td>30540131</td>\n",
              "      <td>CONSULTA EXTERNA</td>\n",
              "      <td>DIAGNÓSTICO PENDIENTE</td>\n",
              "      <td>1</td>\n",
              "      <td>42160.0</td>\n",
              "    </tr>\n",
              "    <tr>\n",
              "      <th>4</th>\n",
              "      <td>201905</td>\n",
              "      <td>21442420</td>\n",
              "      <td>LABORATORIO CLINICO</td>\n",
              "      <td>DIAGNÓSTICO PENDIENTE</td>\n",
              "      <td>18</td>\n",
              "      <td>617336.48</td>\n",
              "    </tr>\n",
              "    <tr>\n",
              "      <th>...</th>\n",
              "      <td>...</td>\n",
              "      <td>...</td>\n",
              "      <td>...</td>\n",
              "      <td>...</td>\n",
              "      <td>...</td>\n",
              "      <td>...</td>\n",
              "    </tr>\n",
              "    <tr>\n",
              "      <th>1048570</th>\n",
              "      <td>201907</td>\n",
              "      <td>9822689</td>\n",
              "      <td>LABORATORIO CLINICO</td>\n",
              "      <td>DIAGNÓSTICO PENDIENTE</td>\n",
              "      <td>2</td>\n",
              "      <td>173448.72</td>\n",
              "    </tr>\n",
              "    <tr>\n",
              "      <th>1048571</th>\n",
              "      <td>201807</td>\n",
              "      <td>4806249</td>\n",
              "      <td>CIRUGIA AMBULATORIA POR ENFERMEDAD</td>\n",
              "      <td>HIDRADENITIS SUPURATIVA</td>\n",
              "      <td>1</td>\n",
              "      <td>496000.0</td>\n",
              "    </tr>\n",
              "    <tr>\n",
              "      <th>1048572</th>\n",
              "      <td>201902</td>\n",
              "      <td>10899044</td>\n",
              "      <td>CONSULTA EXTERNA</td>\n",
              "      <td>DIAGNÓSTICO PENDIENTE</td>\n",
              "      <td>1</td>\n",
              "      <td>24056.0</td>\n",
              "    </tr>\n",
              "    <tr>\n",
              "      <th>1048573</th>\n",
              "      <td>201808</td>\n",
              "      <td>3482153</td>\n",
              "      <td>CONSULTA EXTERNA</td>\n",
              "      <td>DIAGNÓSTICO PENDIENTE</td>\n",
              "      <td>1</td>\n",
              "      <td>80600.0</td>\n",
              "    </tr>\n",
              "    <tr>\n",
              "      <th>1048574</th>\n",
              "      <td>201805</td>\n",
              "      <td>38513672</td>\n",
              "      <td>TRATAMIENTO MEDICO HOSPITALARIO POR ENFERMEDAD</td>\n",
              "      <td>EPILEPSIA Y SÍNDROMES EPILÉPTICOS IDIOPÁTICOS ...</td>\n",
              "      <td>1</td>\n",
              "      <td>918528.76</td>\n",
              "    </tr>\n",
              "  </tbody>\n",
              "</table>\n",
              "<p>1048575 rows × 6 columns</p>\n",
              "</div>\n",
              "      <button class=\"colab-df-convert\" onclick=\"convertToInteractive('df-cb3d87ee-8684-4cae-b861-90cacabf9797')\"\n",
              "              title=\"Convert this dataframe to an interactive table.\"\n",
              "              style=\"display:none;\">\n",
              "        \n",
              "  <svg xmlns=\"http://www.w3.org/2000/svg\" height=\"24px\"viewBox=\"0 0 24 24\"\n",
              "       width=\"24px\">\n",
              "    <path d=\"M0 0h24v24H0V0z\" fill=\"none\"/>\n",
              "    <path d=\"M18.56 5.44l.94 2.06.94-2.06 2.06-.94-2.06-.94-.94-2.06-.94 2.06-2.06.94zm-11 1L8.5 8.5l.94-2.06 2.06-.94-2.06-.94L8.5 2.5l-.94 2.06-2.06.94zm10 10l.94 2.06.94-2.06 2.06-.94-2.06-.94-.94-2.06-.94 2.06-2.06.94z\"/><path d=\"M17.41 7.96l-1.37-1.37c-.4-.4-.92-.59-1.43-.59-.52 0-1.04.2-1.43.59L10.3 9.45l-7.72 7.72c-.78.78-.78 2.05 0 2.83L4 21.41c.39.39.9.59 1.41.59.51 0 1.02-.2 1.41-.59l7.78-7.78 2.81-2.81c.8-.78.8-2.07 0-2.86zM5.41 20L4 18.59l7.72-7.72 1.47 1.35L5.41 20z\"/>\n",
              "  </svg>\n",
              "      </button>\n",
              "      \n",
              "  <style>\n",
              "    .colab-df-container {\n",
              "      display:flex;\n",
              "      flex-wrap:wrap;\n",
              "      gap: 12px;\n",
              "    }\n",
              "\n",
              "    .colab-df-convert {\n",
              "      background-color: #E8F0FE;\n",
              "      border: none;\n",
              "      border-radius: 50%;\n",
              "      cursor: pointer;\n",
              "      display: none;\n",
              "      fill: #1967D2;\n",
              "      height: 32px;\n",
              "      padding: 0 0 0 0;\n",
              "      width: 32px;\n",
              "    }\n",
              "\n",
              "    .colab-df-convert:hover {\n",
              "      background-color: #E2EBFA;\n",
              "      box-shadow: 0px 1px 2px rgba(60, 64, 67, 0.3), 0px 1px 3px 1px rgba(60, 64, 67, 0.15);\n",
              "      fill: #174EA6;\n",
              "    }\n",
              "\n",
              "    [theme=dark] .colab-df-convert {\n",
              "      background-color: #3B4455;\n",
              "      fill: #D2E3FC;\n",
              "    }\n",
              "\n",
              "    [theme=dark] .colab-df-convert:hover {\n",
              "      background-color: #434B5C;\n",
              "      box-shadow: 0px 1px 3px 1px rgba(0, 0, 0, 0.15);\n",
              "      filter: drop-shadow(0px 1px 2px rgba(0, 0, 0, 0.3));\n",
              "      fill: #FFFFFF;\n",
              "    }\n",
              "  </style>\n",
              "\n",
              "      <script>\n",
              "        const buttonEl =\n",
              "          document.querySelector('#df-cb3d87ee-8684-4cae-b861-90cacabf9797 button.colab-df-convert');\n",
              "        buttonEl.style.display =\n",
              "          google.colab.kernel.accessAllowed ? 'block' : 'none';\n",
              "\n",
              "        async function convertToInteractive(key) {\n",
              "          const element = document.querySelector('#df-cb3d87ee-8684-4cae-b861-90cacabf9797');\n",
              "          const dataTable =\n",
              "            await google.colab.kernel.invokeFunction('convertToInteractive',\n",
              "                                                     [key], {});\n",
              "          if (!dataTable) return;\n",
              "\n",
              "          const docLinkHtml = 'Like what you see? Visit the ' +\n",
              "            '<a target=\"_blank\" href=https://colab.research.google.com/notebooks/data_table.ipynb>data table notebook</a>'\n",
              "            + ' to learn more about interactive tables.';\n",
              "          element.innerHTML = '';\n",
              "          dataTable['output_type'] = 'display_data';\n",
              "          await google.colab.output.renderOutput(dataTable, element);\n",
              "          const docLink = document.createElement('div');\n",
              "          docLink.innerHTML = docLinkHtml;\n",
              "          element.appendChild(docLink);\n",
              "        }\n",
              "      </script>\n",
              "    </div>\n",
              "  </div>\n",
              "  "
            ]
          },
          "metadata": {},
          "execution_count": 24
        }
      ]
    },
    {
      "cell_type": "markdown",
      "metadata": {
        "id": "aXQhONpgxKyy"
      },
      "source": [
        "TRATAMIENTO BD DEMOGRAFIA"
      ]
    },
    {
      "cell_type": "code",
      "execution_count": null,
      "metadata": {
        "colab": {
          "base_uri": "https://localhost:8080/"
        },
        "id": "YbufJVMAxKFq",
        "outputId": "6543331a-520b-4c4f-bee5-74c621358c97"
      },
      "outputs": [
        {
          "output_type": "stream",
          "name": "stdout",
          "text": [
            "<class 'pandas.core.frame.DataFrame'>\n",
            "RangeIndex: 267312 entries, 0 to 267311\n",
            "Data columns (total 9 columns):\n",
            " #   Column              Non-Null Count   Dtype \n",
            "---  ------              --------------   ----- \n",
            " 0   Asegurado_Id        267312 non-null  int64 \n",
            " 1   Sexo_Cd             267312 non-null  object\n",
            " 2   FechaNacimiento     267312 non-null  object\n",
            " 3   Regional            267311 non-null  object\n",
            " 4   CANCER              267312 non-null  int64 \n",
            " 5   EPOC                267312 non-null  int64 \n",
            " 6   DIABETES            267312 non-null  int64 \n",
            " 7   HIPERTENSION        267312 non-null  int64 \n",
            " 8   ENF_CARDIOVASCULAR  267312 non-null  int64 \n",
            "dtypes: int64(6), object(3)\n",
            "memory usage: 18.4+ MB\n"
          ]
        },
        {
          "output_type": "execute_result",
          "data": {
            "text/plain": [
              "Asegurado_Id          267233\n",
              "Sexo_Cd                    3\n",
              "FechaNacimiento        29945\n",
              "Regional                   6\n",
              "CANCER                     2\n",
              "EPOC                       2\n",
              "DIABETES                   2\n",
              "HIPERTENSION               2\n",
              "ENF_CARDIOVASCULAR         2\n",
              "dtype: int64"
            ]
          },
          "metadata": {},
          "execution_count": 25
        }
      ],
      "source": [
        "#Ver información general BD demografia \n",
        "BD_Sociodemografia.info()\n",
        "BD_Sociodemografia.nunique()"
      ]
    },
    {
      "cell_type": "code",
      "execution_count": null,
      "metadata": {
        "colab": {
          "base_uri": "https://localhost:8080/"
        },
        "id": "_YR-eRv2xv2r",
        "outputId": "3482d1db-eb6a-4436-a464-7f39e48a325a"
      },
      "outputs": [
        {
          "output_type": "execute_result",
          "data": {
            "text/plain": [
              "Index(['Asegurado_Id', 'Sexo_Cd', 'FechaNacimiento', 'Regional', 'CANCER',\n",
              "       'EPOC', 'DIABETES', 'HIPERTENSION', 'ENF_CARDIOVASCULAR'],\n",
              "      dtype='object')"
            ]
          },
          "metadata": {},
          "execution_count": 26
        }
      ],
      "source": [
        "#Ver columnas\n",
        "BD_Sociodemografia.columns"
      ]
    },
    {
      "cell_type": "code",
      "execution_count": null,
      "metadata": {
        "id": "jETuPjRLycnf"
      },
      "outputs": [],
      "source": [
        "#Cambiar nombres\n",
        "BD_Sociodemografia= BD_Sociodemografia.rename(columns={'Asegurado_Id':'id_cliente', 'Sexo_Cd':'sexo', 'FechaNacimiento':'fecha_nacimiento'})"
      ]
    },
    {
      "cell_type": "code",
      "execution_count": null,
      "metadata": {
        "colab": {
          "base_uri": "https://localhost:8080/"
        },
        "id": "zgjHPrkXypQp",
        "outputId": "fbf1f981-034c-461e-f1e6-7295e666300e"
      },
      "outputs": [
        {
          "output_type": "execute_result",
          "data": {
            "text/plain": [
              "Index(['id_cliente', 'sexo', 'fecha_nacimiento', 'regional', 'cancer', 'epoc',\n",
              "       'diabetes', 'hipertension', 'enf_cardiovascular'],\n",
              "      dtype='object')"
            ]
          },
          "metadata": {},
          "execution_count": 28
        }
      ],
      "source": [
        "#Cambiar a minusculas el nombre de las columnas \n",
        "BD_Sociodemografia.columns = BD_Sociodemografia.columns.str.lower()\n",
        "BD_Sociodemografia.columns"
      ]
    },
    {
      "cell_type": "code",
      "execution_count": null,
      "metadata": {
        "colab": {
          "base_uri": "https://localhost:8080/"
        },
        "id": "jsvhfTayL5DB",
        "outputId": "3253470e-c666-419a-9b55-85e4129fa573"
      },
      "outputs": [
        {
          "output_type": "stream",
          "name": "stdout",
          "text": [
            "(267312, 9)\n",
            "-------------------------------------------------\n",
            "id_cliente            0\n",
            "sexo                  0\n",
            "fecha_nacimiento      0\n",
            "regional              1\n",
            "cancer                0\n",
            "epoc                  0\n",
            "diabetes              0\n",
            "hipertension          0\n",
            "enf_cardiovascular    0\n",
            "dtype: int64\n",
            "-------------------------------------------------\n",
            "id_cliente             int64\n",
            "sexo                  object\n",
            "fecha_nacimiento      object\n",
            "regional              object\n",
            "cancer                 int64\n",
            "epoc                   int64\n",
            "diabetes               int64\n",
            "hipertension           int64\n",
            "enf_cardiovascular     int64\n",
            "dtype: object\n",
            "-------------------------------------------------\n"
          ]
        }
      ],
      "source": [
        "#Analizar dimensión, tipos y nulos\n",
        "print(BD_Sociodemografia.shape)\n",
        "print('-------------------------------------------------')\n",
        "print(BD_Sociodemografia.isnull().sum())\n",
        "print('-------------------------------------------------')\n",
        "print(BD_Sociodemografia.dtypes)\n",
        "print('-------------------------------------------------')"
      ]
    },
    {
      "cell_type": "code",
      "execution_count": null,
      "metadata": {
        "colab": {
          "base_uri": "https://localhost:8080/"
        },
        "id": "jRkbNiy3y1Vz",
        "outputId": "d20921de-ee3c-48d5-ad6f-4f8149665b03"
      },
      "outputs": [
        {
          "output_type": "execute_result",
          "data": {
            "text/plain": [
              "id_cliente             Int64\n",
              "sexo                  string\n",
              "fecha_nacimiento      string\n",
              "regional              string\n",
              "cancer                 Int64\n",
              "epoc                   Int64\n",
              "diabetes               Int64\n",
              "hipertension           Int64\n",
              "enf_cardiovascular     Int64\n",
              "dtype: object"
            ]
          },
          "metadata": {},
          "execution_count": 30
        }
      ],
      "source": [
        "#Se arregla el tipo de datos\n",
        "BD_Sociodemografia=BD_Sociodemografia.convert_dtypes()\n",
        "BD_Sociodemografia.dtypes"
      ]
    },
    {
      "cell_type": "code",
      "execution_count": null,
      "metadata": {
        "colab": {
          "base_uri": "https://localhost:8080/"
        },
        "id": "Qk329nq3zVKt",
        "outputId": "f4ac4b42-564d-4b65-a7d6-28441e66521b"
      },
      "outputs": [
        {
          "output_type": "execute_result",
          "data": {
            "text/plain": [
              "F     145430\n",
              "M     121877\n",
              "-1         5\n",
              "Name: sexo, dtype: Int64"
            ]
          },
          "metadata": {},
          "execution_count": 31
        }
      ],
      "source": [
        "#Depurar categoria sexo\n",
        "BD_Sociodemografia['sexo'].value_counts()"
      ]
    },
    {
      "cell_type": "code",
      "execution_count": null,
      "metadata": {
        "id": "HW_mIEeSzMab"
      },
      "outputs": [],
      "source": [
        "#Variable Sexo: cambiar \"-1\" por \"F\" (femenino) \n",
        "#Diccionario para poder remplazar \n",
        "dictionary ={\n",
        "    '-1':'F'\n",
        "}"
      ]
    },
    {
      "cell_type": "code",
      "execution_count": null,
      "metadata": {
        "id": "E32A_UWbzNbW"
      },
      "outputs": [],
      "source": [
        "#Efectuar cambio de variable -1 por F\n",
        "BD_Sociodemografia['sexo'].replace(dictionary, inplace=True)"
      ]
    },
    {
      "cell_type": "code",
      "execution_count": null,
      "metadata": {
        "colab": {
          "base_uri": "https://localhost:8080/"
        },
        "id": "QT-HSwJx0DSQ",
        "outputId": "18216e2e-1edd-4450-b8f9-2ebf9852e231"
      },
      "outputs": [
        {
          "output_type": "execute_result",
          "data": {
            "text/plain": [
              "REGIONAL CENTRO          127149\n",
              "REGIONAL ANTIOQUIA        49722\n",
              "REGIONAL OCCIDENTE        46180\n",
              "REGIONAL NORTE            34845\n",
              "REGIONAL EJE CAFETERO      9342\n",
              "Sin Información              73\n",
              "Name: regional, dtype: Int64"
            ]
          },
          "metadata": {},
          "execution_count": 34
        }
      ],
      "source": [
        "#Depurarar categoria Regional\n",
        "#Ver las diferentes categorias\n",
        "BD_Sociodemografia['regional'].value_counts()"
      ]
    },
    {
      "cell_type": "code",
      "execution_count": null,
      "metadata": {
        "id": "lT90NSQHz_ZC"
      },
      "outputs": [],
      "source": [
        "#Hacer diccionario para remplazar categoria\n",
        "dictionary ={\n",
        "    'Sin Información':'regional'\n",
        "}"
      ]
    },
    {
      "cell_type": "code",
      "execution_count": null,
      "metadata": {
        "id": "q2Ydmfzo0RnE"
      },
      "outputs": [],
      "source": [
        "#Efectuar remplazo de variable sin identificación  por regional \n",
        "BD_Sociodemografia['regional'].replace(dictionary, inplace =True)"
      ]
    },
    {
      "cell_type": "markdown",
      "metadata": {
        "id": "i9BYu42i1hAb"
      },
      "source": [
        "UNION DE TODAS LAS BASES DE DATOS"
      ]
    },
    {
      "cell_type": "code",
      "source": [
        "#Se deja en la base expuestos un unico registro y su exposición\n",
        "BD_Expuestos=BD_Expuestos.groupby(['id_cliente'],as_index=False).agg({'FI':'min','FF':'max'})\n",
        "BD_Expuestos['EXPO']=(BD_Expuestos['FF']-BD_Expuestos['FI'])/np.timedelta64(730, 'D')\n",
        "BD_Expuestos=BD_Expuestos.groupby(['id_cliente','EXPO'],as_index=False).agg({'EXPO':'sum'})\n",
        "BD_Expuestos"
      ],
      "metadata": {
        "colab": {
          "base_uri": "https://localhost:8080/",
          "height": 423
        },
        "id": "c35QZg6koynZ",
        "outputId": "ca0a5c48-beac-4c97-8d33-f5ee3fc930f2"
      },
      "execution_count": null,
      "outputs": [
        {
          "output_type": "execute_result",
          "data": {
            "text/plain": [
              "        id_cliente      EXPO\n",
              "0           738284  0.042466\n",
              "1           738288  0.998630\n",
              "2           738294  0.998630\n",
              "3           738303  0.998630\n",
              "4           738318  0.998630\n",
              "...            ...       ...\n",
              "267228    58581939  0.823288\n",
              "267229    58581989  0.998630\n",
              "267230    58584529  0.332877\n",
              "267231    58584580  0.998630\n",
              "267232    58584620  0.998630\n",
              "\n",
              "[267233 rows x 2 columns]"
            ],
            "text/html": [
              "\n",
              "  <div id=\"df-2e446089-3944-4e38-9272-500b104e69ac\">\n",
              "    <div class=\"colab-df-container\">\n",
              "      <div>\n",
              "<style scoped>\n",
              "    .dataframe tbody tr th:only-of-type {\n",
              "        vertical-align: middle;\n",
              "    }\n",
              "\n",
              "    .dataframe tbody tr th {\n",
              "        vertical-align: top;\n",
              "    }\n",
              "\n",
              "    .dataframe thead th {\n",
              "        text-align: right;\n",
              "    }\n",
              "</style>\n",
              "<table border=\"1\" class=\"dataframe\">\n",
              "  <thead>\n",
              "    <tr style=\"text-align: right;\">\n",
              "      <th></th>\n",
              "      <th>id_cliente</th>\n",
              "      <th>EXPO</th>\n",
              "    </tr>\n",
              "  </thead>\n",
              "  <tbody>\n",
              "    <tr>\n",
              "      <th>0</th>\n",
              "      <td>738284</td>\n",
              "      <td>0.042466</td>\n",
              "    </tr>\n",
              "    <tr>\n",
              "      <th>1</th>\n",
              "      <td>738288</td>\n",
              "      <td>0.998630</td>\n",
              "    </tr>\n",
              "    <tr>\n",
              "      <th>2</th>\n",
              "      <td>738294</td>\n",
              "      <td>0.998630</td>\n",
              "    </tr>\n",
              "    <tr>\n",
              "      <th>3</th>\n",
              "      <td>738303</td>\n",
              "      <td>0.998630</td>\n",
              "    </tr>\n",
              "    <tr>\n",
              "      <th>4</th>\n",
              "      <td>738318</td>\n",
              "      <td>0.998630</td>\n",
              "    </tr>\n",
              "    <tr>\n",
              "      <th>...</th>\n",
              "      <td>...</td>\n",
              "      <td>...</td>\n",
              "    </tr>\n",
              "    <tr>\n",
              "      <th>267228</th>\n",
              "      <td>58581939</td>\n",
              "      <td>0.823288</td>\n",
              "    </tr>\n",
              "    <tr>\n",
              "      <th>267229</th>\n",
              "      <td>58581989</td>\n",
              "      <td>0.998630</td>\n",
              "    </tr>\n",
              "    <tr>\n",
              "      <th>267230</th>\n",
              "      <td>58584529</td>\n",
              "      <td>0.332877</td>\n",
              "    </tr>\n",
              "    <tr>\n",
              "      <th>267231</th>\n",
              "      <td>58584580</td>\n",
              "      <td>0.998630</td>\n",
              "    </tr>\n",
              "    <tr>\n",
              "      <th>267232</th>\n",
              "      <td>58584620</td>\n",
              "      <td>0.998630</td>\n",
              "    </tr>\n",
              "  </tbody>\n",
              "</table>\n",
              "<p>267233 rows × 2 columns</p>\n",
              "</div>\n",
              "      <button class=\"colab-df-convert\" onclick=\"convertToInteractive('df-2e446089-3944-4e38-9272-500b104e69ac')\"\n",
              "              title=\"Convert this dataframe to an interactive table.\"\n",
              "              style=\"display:none;\">\n",
              "        \n",
              "  <svg xmlns=\"http://www.w3.org/2000/svg\" height=\"24px\"viewBox=\"0 0 24 24\"\n",
              "       width=\"24px\">\n",
              "    <path d=\"M0 0h24v24H0V0z\" fill=\"none\"/>\n",
              "    <path d=\"M18.56 5.44l.94 2.06.94-2.06 2.06-.94-2.06-.94-.94-2.06-.94 2.06-2.06.94zm-11 1L8.5 8.5l.94-2.06 2.06-.94-2.06-.94L8.5 2.5l-.94 2.06-2.06.94zm10 10l.94 2.06.94-2.06 2.06-.94-2.06-.94-.94-2.06-.94 2.06-2.06.94z\"/><path d=\"M17.41 7.96l-1.37-1.37c-.4-.4-.92-.59-1.43-.59-.52 0-1.04.2-1.43.59L10.3 9.45l-7.72 7.72c-.78.78-.78 2.05 0 2.83L4 21.41c.39.39.9.59 1.41.59.51 0 1.02-.2 1.41-.59l7.78-7.78 2.81-2.81c.8-.78.8-2.07 0-2.86zM5.41 20L4 18.59l7.72-7.72 1.47 1.35L5.41 20z\"/>\n",
              "  </svg>\n",
              "      </button>\n",
              "      \n",
              "  <style>\n",
              "    .colab-df-container {\n",
              "      display:flex;\n",
              "      flex-wrap:wrap;\n",
              "      gap: 12px;\n",
              "    }\n",
              "\n",
              "    .colab-df-convert {\n",
              "      background-color: #E8F0FE;\n",
              "      border: none;\n",
              "      border-radius: 50%;\n",
              "      cursor: pointer;\n",
              "      display: none;\n",
              "      fill: #1967D2;\n",
              "      height: 32px;\n",
              "      padding: 0 0 0 0;\n",
              "      width: 32px;\n",
              "    }\n",
              "\n",
              "    .colab-df-convert:hover {\n",
              "      background-color: #E2EBFA;\n",
              "      box-shadow: 0px 1px 2px rgba(60, 64, 67, 0.3), 0px 1px 3px 1px rgba(60, 64, 67, 0.15);\n",
              "      fill: #174EA6;\n",
              "    }\n",
              "\n",
              "    [theme=dark] .colab-df-convert {\n",
              "      background-color: #3B4455;\n",
              "      fill: #D2E3FC;\n",
              "    }\n",
              "\n",
              "    [theme=dark] .colab-df-convert:hover {\n",
              "      background-color: #434B5C;\n",
              "      box-shadow: 0px 1px 3px 1px rgba(0, 0, 0, 0.15);\n",
              "      filter: drop-shadow(0px 1px 2px rgba(0, 0, 0, 0.3));\n",
              "      fill: #FFFFFF;\n",
              "    }\n",
              "  </style>\n",
              "\n",
              "      <script>\n",
              "        const buttonEl =\n",
              "          document.querySelector('#df-2e446089-3944-4e38-9272-500b104e69ac button.colab-df-convert');\n",
              "        buttonEl.style.display =\n",
              "          google.colab.kernel.accessAllowed ? 'block' : 'none';\n",
              "\n",
              "        async function convertToInteractive(key) {\n",
              "          const element = document.querySelector('#df-2e446089-3944-4e38-9272-500b104e69ac');\n",
              "          const dataTable =\n",
              "            await google.colab.kernel.invokeFunction('convertToInteractive',\n",
              "                                                     [key], {});\n",
              "          if (!dataTable) return;\n",
              "\n",
              "          const docLinkHtml = 'Like what you see? Visit the ' +\n",
              "            '<a target=\"_blank\" href=https://colab.research.google.com/notebooks/data_table.ipynb>data table notebook</a>'\n",
              "            + ' to learn more about interactive tables.';\n",
              "          element.innerHTML = '';\n",
              "          dataTable['output_type'] = 'display_data';\n",
              "          await google.colab.output.renderOutput(dataTable, element);\n",
              "          const docLink = document.createElement('div');\n",
              "          docLink.innerHTML = docLinkHtml;\n",
              "          element.appendChild(docLink);\n",
              "        }\n",
              "      </script>\n",
              "    </div>\n",
              "  </div>\n",
              "  "
            ]
          },
          "metadata": {},
          "execution_count": 37
        }
      ]
    },
    {
      "cell_type": "code",
      "source": [
        "BD_Expuestos['EXPO'].describe()"
      ],
      "metadata": {
        "colab": {
          "base_uri": "https://localhost:8080/"
        },
        "id": "vDxngDOpo-jU",
        "outputId": "12cd2528-cb2a-48b4-eed5-a384c010b556"
      },
      "execution_count": null,
      "outputs": [
        {
          "output_type": "execute_result",
          "data": {
            "text/plain": [
              "count    267233.000000\n",
              "mean          0.762737\n",
              "std           0.335655\n",
              "min          -0.326027\n",
              "25%           0.500000\n",
              "50%           0.998630\n",
              "75%           0.998630\n",
              "max           0.998630\n",
              "Name: EXPO, dtype: float64"
            ]
          },
          "metadata": {},
          "execution_count": 38
        }
      ]
    },
    {
      "cell_type": "code",
      "source": [
        "#Se borra el dato erroneo\n",
        "print(BD_Expuestos[BD_Expuestos['EXPO']<0])\n",
        "BD_Expuestos=BD_Expuestos.drop([254959],axis=0)"
      ],
      "metadata": {
        "colab": {
          "base_uri": "https://localhost:8080/"
        },
        "id": "8YMJMA1fpH9N",
        "outputId": "83f7e14b-2e5d-41ca-bbdd-4e2ba447e295"
      },
      "execution_count": null,
      "outputs": [
        {
          "output_type": "stream",
          "name": "stdout",
          "text": [
            "        id_cliente      EXPO\n",
            "254959    51346104 -0.326027\n"
          ]
        }
      ]
    },
    {
      "cell_type": "code",
      "execution_count": null,
      "metadata": {
        "colab": {
          "base_uri": "https://localhost:8080/",
          "height": 242
        },
        "id": "UfG4r0h71cu9",
        "outputId": "69d517cb-d1a3-4214-ba35-50e276227f49"
      },
      "outputs": [
        {
          "output_type": "execute_result",
          "data": {
            "text/plain": [
              "                EXPO  mes_pago             reclamacion cod_diagnostico  \\\n",
              "id_cliente                                                               \n",
              "738284      0.042466    201801        CONSULTA EXTERNA               9   \n",
              "738284      0.042466    201802  FISIOTERAPIA ILIMITADA               9   \n",
              "\n",
              "                 diagnostico_desc  eventos  valor_pagado sexo  \\\n",
              "id_cliente                                                      \n",
              "738284      DIAGNÓSTICO PENDIENTE        1       66960.0    M   \n",
              "738284      DIAGNÓSTICO PENDIENTE        2       42656.0    M   \n",
              "\n",
              "           fecha_nacimiento         regional  cancer  epoc  diabetes  \\\n",
              "id_cliente                                                             \n",
              "738284           18/11/1967  REGIONAL CENTRO       0     0         0   \n",
              "738284           18/11/1967  REGIONAL CENTRO       0     0         0   \n",
              "\n",
              "            hipertension  enf_cardiovascular  \n",
              "id_cliente                                    \n",
              "738284                 0                   0  \n",
              "738284                 0                   0  "
            ],
            "text/html": [
              "\n",
              "  <div id=\"df-fc9317bb-03b2-44d0-9932-4d9451d64ec3\">\n",
              "    <div class=\"colab-df-container\">\n",
              "      <div>\n",
              "<style scoped>\n",
              "    .dataframe tbody tr th:only-of-type {\n",
              "        vertical-align: middle;\n",
              "    }\n",
              "\n",
              "    .dataframe tbody tr th {\n",
              "        vertical-align: top;\n",
              "    }\n",
              "\n",
              "    .dataframe thead th {\n",
              "        text-align: right;\n",
              "    }\n",
              "</style>\n",
              "<table border=\"1\" class=\"dataframe\">\n",
              "  <thead>\n",
              "    <tr style=\"text-align: right;\">\n",
              "      <th></th>\n",
              "      <th>EXPO</th>\n",
              "      <th>mes_pago</th>\n",
              "      <th>reclamacion</th>\n",
              "      <th>cod_diagnostico</th>\n",
              "      <th>diagnostico_desc</th>\n",
              "      <th>eventos</th>\n",
              "      <th>valor_pagado</th>\n",
              "      <th>sexo</th>\n",
              "      <th>fecha_nacimiento</th>\n",
              "      <th>regional</th>\n",
              "      <th>cancer</th>\n",
              "      <th>epoc</th>\n",
              "      <th>diabetes</th>\n",
              "      <th>hipertension</th>\n",
              "      <th>enf_cardiovascular</th>\n",
              "    </tr>\n",
              "    <tr>\n",
              "      <th>id_cliente</th>\n",
              "      <th></th>\n",
              "      <th></th>\n",
              "      <th></th>\n",
              "      <th></th>\n",
              "      <th></th>\n",
              "      <th></th>\n",
              "      <th></th>\n",
              "      <th></th>\n",
              "      <th></th>\n",
              "      <th></th>\n",
              "      <th></th>\n",
              "      <th></th>\n",
              "      <th></th>\n",
              "      <th></th>\n",
              "      <th></th>\n",
              "    </tr>\n",
              "  </thead>\n",
              "  <tbody>\n",
              "    <tr>\n",
              "      <th>738284</th>\n",
              "      <td>0.042466</td>\n",
              "      <td>201801</td>\n",
              "      <td>CONSULTA EXTERNA</td>\n",
              "      <td>9</td>\n",
              "      <td>DIAGNÓSTICO PENDIENTE</td>\n",
              "      <td>1</td>\n",
              "      <td>66960.0</td>\n",
              "      <td>M</td>\n",
              "      <td>18/11/1967</td>\n",
              "      <td>REGIONAL CENTRO</td>\n",
              "      <td>0</td>\n",
              "      <td>0</td>\n",
              "      <td>0</td>\n",
              "      <td>0</td>\n",
              "      <td>0</td>\n",
              "    </tr>\n",
              "    <tr>\n",
              "      <th>738284</th>\n",
              "      <td>0.042466</td>\n",
              "      <td>201802</td>\n",
              "      <td>FISIOTERAPIA ILIMITADA</td>\n",
              "      <td>9</td>\n",
              "      <td>DIAGNÓSTICO PENDIENTE</td>\n",
              "      <td>2</td>\n",
              "      <td>42656.0</td>\n",
              "      <td>M</td>\n",
              "      <td>18/11/1967</td>\n",
              "      <td>REGIONAL CENTRO</td>\n",
              "      <td>0</td>\n",
              "      <td>0</td>\n",
              "      <td>0</td>\n",
              "      <td>0</td>\n",
              "      <td>0</td>\n",
              "    </tr>\n",
              "  </tbody>\n",
              "</table>\n",
              "</div>\n",
              "      <button class=\"colab-df-convert\" onclick=\"convertToInteractive('df-fc9317bb-03b2-44d0-9932-4d9451d64ec3')\"\n",
              "              title=\"Convert this dataframe to an interactive table.\"\n",
              "              style=\"display:none;\">\n",
              "        \n",
              "  <svg xmlns=\"http://www.w3.org/2000/svg\" height=\"24px\"viewBox=\"0 0 24 24\"\n",
              "       width=\"24px\">\n",
              "    <path d=\"M0 0h24v24H0V0z\" fill=\"none\"/>\n",
              "    <path d=\"M18.56 5.44l.94 2.06.94-2.06 2.06-.94-2.06-.94-.94-2.06-.94 2.06-2.06.94zm-11 1L8.5 8.5l.94-2.06 2.06-.94-2.06-.94L8.5 2.5l-.94 2.06-2.06.94zm10 10l.94 2.06.94-2.06 2.06-.94-2.06-.94-.94-2.06-.94 2.06-2.06.94z\"/><path d=\"M17.41 7.96l-1.37-1.37c-.4-.4-.92-.59-1.43-.59-.52 0-1.04.2-1.43.59L10.3 9.45l-7.72 7.72c-.78.78-.78 2.05 0 2.83L4 21.41c.39.39.9.59 1.41.59.51 0 1.02-.2 1.41-.59l7.78-7.78 2.81-2.81c.8-.78.8-2.07 0-2.86zM5.41 20L4 18.59l7.72-7.72 1.47 1.35L5.41 20z\"/>\n",
              "  </svg>\n",
              "      </button>\n",
              "      \n",
              "  <style>\n",
              "    .colab-df-container {\n",
              "      display:flex;\n",
              "      flex-wrap:wrap;\n",
              "      gap: 12px;\n",
              "    }\n",
              "\n",
              "    .colab-df-convert {\n",
              "      background-color: #E8F0FE;\n",
              "      border: none;\n",
              "      border-radius: 50%;\n",
              "      cursor: pointer;\n",
              "      display: none;\n",
              "      fill: #1967D2;\n",
              "      height: 32px;\n",
              "      padding: 0 0 0 0;\n",
              "      width: 32px;\n",
              "    }\n",
              "\n",
              "    .colab-df-convert:hover {\n",
              "      background-color: #E2EBFA;\n",
              "      box-shadow: 0px 1px 2px rgba(60, 64, 67, 0.3), 0px 1px 3px 1px rgba(60, 64, 67, 0.15);\n",
              "      fill: #174EA6;\n",
              "    }\n",
              "\n",
              "    [theme=dark] .colab-df-convert {\n",
              "      background-color: #3B4455;\n",
              "      fill: #D2E3FC;\n",
              "    }\n",
              "\n",
              "    [theme=dark] .colab-df-convert:hover {\n",
              "      background-color: #434B5C;\n",
              "      box-shadow: 0px 1px 3px 1px rgba(0, 0, 0, 0.15);\n",
              "      filter: drop-shadow(0px 1px 2px rgba(0, 0, 0, 0.3));\n",
              "      fill: #FFFFFF;\n",
              "    }\n",
              "  </style>\n",
              "\n",
              "      <script>\n",
              "        const buttonEl =\n",
              "          document.querySelector('#df-fc9317bb-03b2-44d0-9932-4d9451d64ec3 button.colab-df-convert');\n",
              "        buttonEl.style.display =\n",
              "          google.colab.kernel.accessAllowed ? 'block' : 'none';\n",
              "\n",
              "        async function convertToInteractive(key) {\n",
              "          const element = document.querySelector('#df-fc9317bb-03b2-44d0-9932-4d9451d64ec3');\n",
              "          const dataTable =\n",
              "            await google.colab.kernel.invokeFunction('convertToInteractive',\n",
              "                                                     [key], {});\n",
              "          if (!dataTable) return;\n",
              "\n",
              "          const docLinkHtml = 'Like what you see? Visit the ' +\n",
              "            '<a target=\"_blank\" href=https://colab.research.google.com/notebooks/data_table.ipynb>data table notebook</a>'\n",
              "            + ' to learn more about interactive tables.';\n",
              "          element.innerHTML = '';\n",
              "          dataTable['output_type'] = 'display_data';\n",
              "          await google.colab.output.renderOutput(dataTable, element);\n",
              "          const docLink = document.createElement('div');\n",
              "          docLink.innerHTML = docLinkHtml;\n",
              "          element.appendChild(docLink);\n",
              "        }\n",
              "      </script>\n",
              "    </div>\n",
              "  </div>\n",
              "  "
            ]
          },
          "metadata": {},
          "execution_count": 40
        }
      ],
      "source": [
        "#Se unen las tres bases de datos por medio de id_cliente\n",
        "union_exp = BD_Siniestros.set_index('id_cliente').join(BD_Sociodemografia.set_index('id_cliente'), on='id_cliente')\n",
        "union_exp_prueba= BD_Expuestos.set_index('id_cliente').join(union_exp, on='id_cliente')\n",
        "union_exp_prueba.head(2)"
      ]
    },
    {
      "cell_type": "code",
      "execution_count": null,
      "metadata": {
        "colab": {
          "base_uri": "https://localhost:8080/"
        },
        "id": "jV4j7yJR2EOM",
        "outputId": "b96a8eb7-b60c-436e-ec13-f7359086f9e2"
      },
      "outputs": [
        {
          "output_type": "execute_result",
          "data": {
            "text/plain": [
              "Index(['EXPO', 'mes_pago', 'reclamacion', 'cod_diagnostico',\n",
              "       'diagnostico_desc', 'eventos', 'valor_pagado', 'sexo',\n",
              "       'fecha_nacimiento', 'regional', 'cancer', 'epoc', 'diabetes',\n",
              "       'hipertension', 'enf_cardiovascular'],\n",
              "      dtype='object')"
            ]
          },
          "metadata": {},
          "execution_count": 41
        }
      ],
      "source": [
        "#Ver columnas de la base de datos final\n",
        "union_exp_prueba.columns"
      ]
    },
    {
      "cell_type": "code",
      "execution_count": null,
      "metadata": {
        "colab": {
          "base_uri": "https://localhost:8080/",
          "height": 797
        },
        "id": "JqYdcHTNG5PV",
        "outputId": "b84a1ea3-a163-482d-c91d-4fc3af05dc5f"
      },
      "outputs": [
        {
          "output_type": "execute_result",
          "data": {
            "text/plain": [
              "             mes_pago                                     reclamacion  \\\n",
              "id_cliente                                                              \n",
              "4834968    2018-01-01                         EXAMENES DE DIAGNOSTICO   \n",
              "14915125   2019-01-01                         EXAMENES DE DIAGNOSTICO   \n",
              "42959949   2018-01-01                         EXAMENES DE DIAGNOSTICO   \n",
              "30540131   2018-01-01                                CONSULTA EXTERNA   \n",
              "21442420   2019-01-01                             LABORATORIO CLINICO   \n",
              "...               ...                                             ...   \n",
              "9822689    2019-01-01                             LABORATORIO CLINICO   \n",
              "4806249    2018-01-01              CIRUGIA AMBULATORIA POR ENFERMEDAD   \n",
              "10899044   2019-01-01                                CONSULTA EXTERNA   \n",
              "3482153    2018-01-01                                CONSULTA EXTERNA   \n",
              "38513672   2018-01-01  TRATAMIENTO MEDICO HOSPITALARIO POR ENFERMEDAD   \n",
              "\n",
              "           cod_diagnostico                                   diagnostico_desc  \\\n",
              "id_cliente                                                                      \n",
              "4834968               Z011                   EXAMEN DE OÍDOS Y DE LA AUDICIÓN   \n",
              "14915125                 9                              DIAGNÓSTICO PENDIENTE   \n",
              "42959949                 9                              DIAGNÓSTICO PENDIENTE   \n",
              "30540131                 9                              DIAGNÓSTICO PENDIENTE   \n",
              "21442420                 9                              DIAGNÓSTICO PENDIENTE   \n",
              "...                    ...                                                ...   \n",
              "9822689                  9                              DIAGNÓSTICO PENDIENTE   \n",
              "4806249               L732                            HIDRADENITIS SUPURATIVA   \n",
              "10899044                 9                              DIAGNÓSTICO PENDIENTE   \n",
              "3482153                  9                              DIAGNÓSTICO PENDIENTE   \n",
              "38513672              G400  EPILEPSIA Y SÍNDROMES EPILÉPTICOS IDIOPÁTICOS ...   \n",
              "\n",
              "            eventos  valor_pagado  sexo fecha_nacimiento  regional  cancer  \\\n",
              "id_cliente                                                                   \n",
              "4834968           1      111600.0     1       1969-10-30         1       0   \n",
              "14915125          1       50468.0     0       1983-03-26         1       0   \n",
              "42959949          1      610452.0     0       1987-12-03         1       0   \n",
              "30540131          1       42160.0     0       1979-09-26         1       0   \n",
              "21442420         18     617336.48     0       1991-06-01         1       0   \n",
              "...             ...           ...   ...              ...       ...     ...   \n",
              "9822689           2     173448.72     1       1969-06-24         0       0   \n",
              "4806249           1      496000.0     0       1960-12-05         1       0   \n",
              "10899044          1       24056.0     0       1980-08-29         4       0   \n",
              "3482153           1       80600.0     0       1944-04-25         1       0   \n",
              "38513672          1     918528.76     0       2009-01-16         1       0   \n",
              "\n",
              "            epoc  diabetes  hipertension  enf_cardiovascular       edad  \n",
              "id_cliente                                                               \n",
              "4834968        0         0             1                   0  48.173474  \n",
              "14915125       0         0             0                   0  35.770755  \n",
              "42959949       0         0             0                   0  30.081384  \n",
              "30540131       0         0             0                   0  38.267726  \n",
              "21442420       0         0             0                   0  27.587151  \n",
              "...          ...       ...           ...                 ...        ...  \n",
              "9822689        0         0             0                   0  49.523262  \n",
              "4806249        1         1             0                   0  57.074409  \n",
              "10899044       0         0             0                   0  38.341650  \n",
              "3482153        0         0             1                   0  73.688029  \n",
              "38513672       0         0             0                   0   8.958432  \n",
              "\n",
              "[1048823 rows x 15 columns]"
            ],
            "text/html": [
              "\n",
              "  <div id=\"df-87fde1ad-9ae1-411d-9952-5f1691b3aa22\">\n",
              "    <div class=\"colab-df-container\">\n",
              "      <div>\n",
              "<style scoped>\n",
              "    .dataframe tbody tr th:only-of-type {\n",
              "        vertical-align: middle;\n",
              "    }\n",
              "\n",
              "    .dataframe tbody tr th {\n",
              "        vertical-align: top;\n",
              "    }\n",
              "\n",
              "    .dataframe thead th {\n",
              "        text-align: right;\n",
              "    }\n",
              "</style>\n",
              "<table border=\"1\" class=\"dataframe\">\n",
              "  <thead>\n",
              "    <tr style=\"text-align: right;\">\n",
              "      <th></th>\n",
              "      <th>mes_pago</th>\n",
              "      <th>reclamacion</th>\n",
              "      <th>cod_diagnostico</th>\n",
              "      <th>diagnostico_desc</th>\n",
              "      <th>eventos</th>\n",
              "      <th>valor_pagado</th>\n",
              "      <th>sexo</th>\n",
              "      <th>fecha_nacimiento</th>\n",
              "      <th>regional</th>\n",
              "      <th>cancer</th>\n",
              "      <th>epoc</th>\n",
              "      <th>diabetes</th>\n",
              "      <th>hipertension</th>\n",
              "      <th>enf_cardiovascular</th>\n",
              "      <th>edad</th>\n",
              "    </tr>\n",
              "    <tr>\n",
              "      <th>id_cliente</th>\n",
              "      <th></th>\n",
              "      <th></th>\n",
              "      <th></th>\n",
              "      <th></th>\n",
              "      <th></th>\n",
              "      <th></th>\n",
              "      <th></th>\n",
              "      <th></th>\n",
              "      <th></th>\n",
              "      <th></th>\n",
              "      <th></th>\n",
              "      <th></th>\n",
              "      <th></th>\n",
              "      <th></th>\n",
              "      <th></th>\n",
              "    </tr>\n",
              "  </thead>\n",
              "  <tbody>\n",
              "    <tr>\n",
              "      <th>4834968</th>\n",
              "      <td>2018-01-01</td>\n",
              "      <td>EXAMENES DE DIAGNOSTICO</td>\n",
              "      <td>Z011</td>\n",
              "      <td>EXAMEN DE OÍDOS Y DE LA AUDICIÓN</td>\n",
              "      <td>1</td>\n",
              "      <td>111600.0</td>\n",
              "      <td>1</td>\n",
              "      <td>1969-10-30</td>\n",
              "      <td>1</td>\n",
              "      <td>0</td>\n",
              "      <td>0</td>\n",
              "      <td>0</td>\n",
              "      <td>1</td>\n",
              "      <td>0</td>\n",
              "      <td>48.173474</td>\n",
              "    </tr>\n",
              "    <tr>\n",
              "      <th>14915125</th>\n",
              "      <td>2019-01-01</td>\n",
              "      <td>EXAMENES DE DIAGNOSTICO</td>\n",
              "      <td>9</td>\n",
              "      <td>DIAGNÓSTICO PENDIENTE</td>\n",
              "      <td>1</td>\n",
              "      <td>50468.0</td>\n",
              "      <td>0</td>\n",
              "      <td>1983-03-26</td>\n",
              "      <td>1</td>\n",
              "      <td>0</td>\n",
              "      <td>0</td>\n",
              "      <td>0</td>\n",
              "      <td>0</td>\n",
              "      <td>0</td>\n",
              "      <td>35.770755</td>\n",
              "    </tr>\n",
              "    <tr>\n",
              "      <th>42959949</th>\n",
              "      <td>2018-01-01</td>\n",
              "      <td>EXAMENES DE DIAGNOSTICO</td>\n",
              "      <td>9</td>\n",
              "      <td>DIAGNÓSTICO PENDIENTE</td>\n",
              "      <td>1</td>\n",
              "      <td>610452.0</td>\n",
              "      <td>0</td>\n",
              "      <td>1987-12-03</td>\n",
              "      <td>1</td>\n",
              "      <td>0</td>\n",
              "      <td>0</td>\n",
              "      <td>0</td>\n",
              "      <td>0</td>\n",
              "      <td>0</td>\n",
              "      <td>30.081384</td>\n",
              "    </tr>\n",
              "    <tr>\n",
              "      <th>30540131</th>\n",
              "      <td>2018-01-01</td>\n",
              "      <td>CONSULTA EXTERNA</td>\n",
              "      <td>9</td>\n",
              "      <td>DIAGNÓSTICO PENDIENTE</td>\n",
              "      <td>1</td>\n",
              "      <td>42160.0</td>\n",
              "      <td>0</td>\n",
              "      <td>1979-09-26</td>\n",
              "      <td>1</td>\n",
              "      <td>0</td>\n",
              "      <td>0</td>\n",
              "      <td>0</td>\n",
              "      <td>0</td>\n",
              "      <td>0</td>\n",
              "      <td>38.267726</td>\n",
              "    </tr>\n",
              "    <tr>\n",
              "      <th>21442420</th>\n",
              "      <td>2019-01-01</td>\n",
              "      <td>LABORATORIO CLINICO</td>\n",
              "      <td>9</td>\n",
              "      <td>DIAGNÓSTICO PENDIENTE</td>\n",
              "      <td>18</td>\n",
              "      <td>617336.48</td>\n",
              "      <td>0</td>\n",
              "      <td>1991-06-01</td>\n",
              "      <td>1</td>\n",
              "      <td>0</td>\n",
              "      <td>0</td>\n",
              "      <td>0</td>\n",
              "      <td>0</td>\n",
              "      <td>0</td>\n",
              "      <td>27.587151</td>\n",
              "    </tr>\n",
              "    <tr>\n",
              "      <th>...</th>\n",
              "      <td>...</td>\n",
              "      <td>...</td>\n",
              "      <td>...</td>\n",
              "      <td>...</td>\n",
              "      <td>...</td>\n",
              "      <td>...</td>\n",
              "      <td>...</td>\n",
              "      <td>...</td>\n",
              "      <td>...</td>\n",
              "      <td>...</td>\n",
              "      <td>...</td>\n",
              "      <td>...</td>\n",
              "      <td>...</td>\n",
              "      <td>...</td>\n",
              "      <td>...</td>\n",
              "    </tr>\n",
              "    <tr>\n",
              "      <th>9822689</th>\n",
              "      <td>2019-01-01</td>\n",
              "      <td>LABORATORIO CLINICO</td>\n",
              "      <td>9</td>\n",
              "      <td>DIAGNÓSTICO PENDIENTE</td>\n",
              "      <td>2</td>\n",
              "      <td>173448.72</td>\n",
              "      <td>1</td>\n",
              "      <td>1969-06-24</td>\n",
              "      <td>0</td>\n",
              "      <td>0</td>\n",
              "      <td>0</td>\n",
              "      <td>0</td>\n",
              "      <td>0</td>\n",
              "      <td>0</td>\n",
              "      <td>49.523262</td>\n",
              "    </tr>\n",
              "    <tr>\n",
              "      <th>4806249</th>\n",
              "      <td>2018-01-01</td>\n",
              "      <td>CIRUGIA AMBULATORIA POR ENFERMEDAD</td>\n",
              "      <td>L732</td>\n",
              "      <td>HIDRADENITIS SUPURATIVA</td>\n",
              "      <td>1</td>\n",
              "      <td>496000.0</td>\n",
              "      <td>0</td>\n",
              "      <td>1960-12-05</td>\n",
              "      <td>1</td>\n",
              "      <td>0</td>\n",
              "      <td>1</td>\n",
              "      <td>1</td>\n",
              "      <td>0</td>\n",
              "      <td>0</td>\n",
              "      <td>57.074409</td>\n",
              "    </tr>\n",
              "    <tr>\n",
              "      <th>10899044</th>\n",
              "      <td>2019-01-01</td>\n",
              "      <td>CONSULTA EXTERNA</td>\n",
              "      <td>9</td>\n",
              "      <td>DIAGNÓSTICO PENDIENTE</td>\n",
              "      <td>1</td>\n",
              "      <td>24056.0</td>\n",
              "      <td>0</td>\n",
              "      <td>1980-08-29</td>\n",
              "      <td>4</td>\n",
              "      <td>0</td>\n",
              "      <td>0</td>\n",
              "      <td>0</td>\n",
              "      <td>0</td>\n",
              "      <td>0</td>\n",
              "      <td>38.341650</td>\n",
              "    </tr>\n",
              "    <tr>\n",
              "      <th>3482153</th>\n",
              "      <td>2018-01-01</td>\n",
              "      <td>CONSULTA EXTERNA</td>\n",
              "      <td>9</td>\n",
              "      <td>DIAGNÓSTICO PENDIENTE</td>\n",
              "      <td>1</td>\n",
              "      <td>80600.0</td>\n",
              "      <td>0</td>\n",
              "      <td>1944-04-25</td>\n",
              "      <td>1</td>\n",
              "      <td>0</td>\n",
              "      <td>0</td>\n",
              "      <td>0</td>\n",
              "      <td>1</td>\n",
              "      <td>0</td>\n",
              "      <td>73.688029</td>\n",
              "    </tr>\n",
              "    <tr>\n",
              "      <th>38513672</th>\n",
              "      <td>2018-01-01</td>\n",
              "      <td>TRATAMIENTO MEDICO HOSPITALARIO POR ENFERMEDAD</td>\n",
              "      <td>G400</td>\n",
              "      <td>EPILEPSIA Y SÍNDROMES EPILÉPTICOS IDIOPÁTICOS ...</td>\n",
              "      <td>1</td>\n",
              "      <td>918528.76</td>\n",
              "      <td>0</td>\n",
              "      <td>2009-01-16</td>\n",
              "      <td>1</td>\n",
              "      <td>0</td>\n",
              "      <td>0</td>\n",
              "      <td>0</td>\n",
              "      <td>0</td>\n",
              "      <td>0</td>\n",
              "      <td>8.958432</td>\n",
              "    </tr>\n",
              "  </tbody>\n",
              "</table>\n",
              "<p>1048823 rows × 15 columns</p>\n",
              "</div>\n",
              "      <button class=\"colab-df-convert\" onclick=\"convertToInteractive('df-87fde1ad-9ae1-411d-9952-5f1691b3aa22')\"\n",
              "              title=\"Convert this dataframe to an interactive table.\"\n",
              "              style=\"display:none;\">\n",
              "        \n",
              "  <svg xmlns=\"http://www.w3.org/2000/svg\" height=\"24px\"viewBox=\"0 0 24 24\"\n",
              "       width=\"24px\">\n",
              "    <path d=\"M0 0h24v24H0V0z\" fill=\"none\"/>\n",
              "    <path d=\"M18.56 5.44l.94 2.06.94-2.06 2.06-.94-2.06-.94-.94-2.06-.94 2.06-2.06.94zm-11 1L8.5 8.5l.94-2.06 2.06-.94-2.06-.94L8.5 2.5l-.94 2.06-2.06.94zm10 10l.94 2.06.94-2.06 2.06-.94-2.06-.94-.94-2.06-.94 2.06-2.06.94z\"/><path d=\"M17.41 7.96l-1.37-1.37c-.4-.4-.92-.59-1.43-.59-.52 0-1.04.2-1.43.59L10.3 9.45l-7.72 7.72c-.78.78-.78 2.05 0 2.83L4 21.41c.39.39.9.59 1.41.59.51 0 1.02-.2 1.41-.59l7.78-7.78 2.81-2.81c.8-.78.8-2.07 0-2.86zM5.41 20L4 18.59l7.72-7.72 1.47 1.35L5.41 20z\"/>\n",
              "  </svg>\n",
              "      </button>\n",
              "      \n",
              "  <style>\n",
              "    .colab-df-container {\n",
              "      display:flex;\n",
              "      flex-wrap:wrap;\n",
              "      gap: 12px;\n",
              "    }\n",
              "\n",
              "    .colab-df-convert {\n",
              "      background-color: #E8F0FE;\n",
              "      border: none;\n",
              "      border-radius: 50%;\n",
              "      cursor: pointer;\n",
              "      display: none;\n",
              "      fill: #1967D2;\n",
              "      height: 32px;\n",
              "      padding: 0 0 0 0;\n",
              "      width: 32px;\n",
              "    }\n",
              "\n",
              "    .colab-df-convert:hover {\n",
              "      background-color: #E2EBFA;\n",
              "      box-shadow: 0px 1px 2px rgba(60, 64, 67, 0.3), 0px 1px 3px 1px rgba(60, 64, 67, 0.15);\n",
              "      fill: #174EA6;\n",
              "    }\n",
              "\n",
              "    [theme=dark] .colab-df-convert {\n",
              "      background-color: #3B4455;\n",
              "      fill: #D2E3FC;\n",
              "    }\n",
              "\n",
              "    [theme=dark] .colab-df-convert:hover {\n",
              "      background-color: #434B5C;\n",
              "      box-shadow: 0px 1px 3px 1px rgba(0, 0, 0, 0.15);\n",
              "      filter: drop-shadow(0px 1px 2px rgba(0, 0, 0, 0.3));\n",
              "      fill: #FFFFFF;\n",
              "    }\n",
              "  </style>\n",
              "\n",
              "      <script>\n",
              "        const buttonEl =\n",
              "          document.querySelector('#df-87fde1ad-9ae1-411d-9952-5f1691b3aa22 button.colab-df-convert');\n",
              "        buttonEl.style.display =\n",
              "          google.colab.kernel.accessAllowed ? 'block' : 'none';\n",
              "\n",
              "        async function convertToInteractive(key) {\n",
              "          const element = document.querySelector('#df-87fde1ad-9ae1-411d-9952-5f1691b3aa22');\n",
              "          const dataTable =\n",
              "            await google.colab.kernel.invokeFunction('convertToInteractive',\n",
              "                                                     [key], {});\n",
              "          if (!dataTable) return;\n",
              "\n",
              "          const docLinkHtml = 'Like what you see? Visit the ' +\n",
              "            '<a target=\"_blank\" href=https://colab.research.google.com/notebooks/data_table.ipynb>data table notebook</a>'\n",
              "            + ' to learn more about interactive tables.';\n",
              "          element.innerHTML = '';\n",
              "          dataTable['output_type'] = 'display_data';\n",
              "          await google.colab.output.renderOutput(dataTable, element);\n",
              "          const docLink = document.createElement('div');\n",
              "          docLink.innerHTML = docLinkHtml;\n",
              "          element.appendChild(docLink);\n",
              "        }\n",
              "      </script>\n",
              "    </div>\n",
              "  </div>\n",
              "  "
            ]
          },
          "metadata": {},
          "execution_count": 135
        }
      ],
      "source": [
        "union_exp"
      ]
    },
    {
      "cell_type": "code",
      "execution_count": null,
      "metadata": {
        "id": "P---9znI8QN-"
      },
      "outputs": [],
      "source": [
        "#Agregar edad a union_exp_prueba y categorizar columna sexo y regional\n",
        "union_exp_string_columns= ['sexo','regional']\n",
        "union_exp[\"sexo\"] = union_exp[\"sexo\"].astype('category')\n",
        "union_exp[\"regional\"] = union_exp[\"regional\"].astype('category')\n",
        "union_exp[\"sexo\"] = union_exp[\"sexo\"].cat.codes\n",
        "union_exp[\"regional\"] = union_exp[\"regional\"].cat.codes\n",
        "union_exp = union_exp.convert_dtypes()\n",
        "union_exp_prueba = union_exp\n",
        "union_exp_prueba['mes_pago'] = pd.to_datetime(union_exp_prueba['mes_pago'].map(lambda x: str(x)[:-2]))\n",
        "union_exp_prueba['fecha_nacimiento']= pd.to_datetime(union_exp_prueba['fecha_nacimiento'])\n",
        "union_exp_prueba['edad'] = (union_exp_prueba['mes_pago'] - union_exp_prueba['fecha_nacimiento'])/ np.timedelta64(1, 'Y')\n",
        "union_exp_prueba = union_exp_prueba.drop(['mes_pago','fecha_nacimiento'], axis=1)\n",
        "union_exp_prueba"
      ]
    },
    {
      "cell_type": "code",
      "execution_count": null,
      "metadata": {
        "colab": {
          "base_uri": "https://localhost:8080/",
          "height": 603
        },
        "id": "riGjYfsX2Z3m",
        "outputId": "57ae3726-ddf5-4f19-e1f5-f76a3a893c31"
      },
      "outputs": [
        {
          "output_type": "execute_result",
          "data": {
            "text/plain": [
              "                                               reclamacion cod_diagnostico  \\\n",
              "id_cliente                                                                   \n",
              "4834968                            EXAMENES DE DIAGNOSTICO            Z011   \n",
              "14915125                           EXAMENES DE DIAGNOSTICO               9   \n",
              "42959949                           EXAMENES DE DIAGNOSTICO               9   \n",
              "30540131                                  CONSULTA EXTERNA               9   \n",
              "21442420                               LABORATORIO CLINICO               9   \n",
              "...                                                    ...             ...   \n",
              "9822689                                LABORATORIO CLINICO               9   \n",
              "4806249                 CIRUGIA AMBULATORIA POR ENFERMEDAD            L732   \n",
              "10899044                                  CONSULTA EXTERNA               9   \n",
              "3482153                                   CONSULTA EXTERNA               9   \n",
              "38513672    TRATAMIENTO MEDICO HOSPITALARIO POR ENFERMEDAD            G400   \n",
              "\n",
              "            eventos  valor_pagado  sexo  regional  cancer  epoc  diabetes  \\\n",
              "id_cliente                                                                  \n",
              "4834968           1      111600.0     1         1       0     0         0   \n",
              "14915125          1       50468.0     0         1       0     0         0   \n",
              "42959949          1      610452.0     0         1       0     0         0   \n",
              "30540131          1       42160.0     0         1       0     0         0   \n",
              "21442420         18     617336.48     0         1       0     0         0   \n",
              "...             ...           ...   ...       ...     ...   ...       ...   \n",
              "9822689           2     173448.72     1         0       0     0         0   \n",
              "4806249           1      496000.0     0         1       0     1         1   \n",
              "10899044          1       24056.0     0         4       0     0         0   \n",
              "3482153           1       80600.0     0         1       0     0         0   \n",
              "38513672          1     918528.76     0         1       0     0         0   \n",
              "\n",
              "            hipertension  enf_cardiovascular       edad  \n",
              "id_cliente                                               \n",
              "4834968                1                   0  48.173474  \n",
              "14915125               0                   0  35.770755  \n",
              "42959949               0                   0  30.081384  \n",
              "30540131               0                   0  38.267726  \n",
              "21442420               0                   0  27.587151  \n",
              "...                  ...                 ...        ...  \n",
              "9822689                0                   0  49.523262  \n",
              "4806249                0                   0  57.074409  \n",
              "10899044               0                   0  38.341650  \n",
              "3482153                1                   0  73.688029  \n",
              "38513672               0                   0   8.958432  \n",
              "\n",
              "[1048823 rows x 12 columns]"
            ],
            "text/html": [
              "\n",
              "  <div id=\"df-554d6c39-94f5-4996-852a-26de69ce1f77\">\n",
              "    <div class=\"colab-df-container\">\n",
              "      <div>\n",
              "<style scoped>\n",
              "    .dataframe tbody tr th:only-of-type {\n",
              "        vertical-align: middle;\n",
              "    }\n",
              "\n",
              "    .dataframe tbody tr th {\n",
              "        vertical-align: top;\n",
              "    }\n",
              "\n",
              "    .dataframe thead th {\n",
              "        text-align: right;\n",
              "    }\n",
              "</style>\n",
              "<table border=\"1\" class=\"dataframe\">\n",
              "  <thead>\n",
              "    <tr style=\"text-align: right;\">\n",
              "      <th></th>\n",
              "      <th>reclamacion</th>\n",
              "      <th>cod_diagnostico</th>\n",
              "      <th>eventos</th>\n",
              "      <th>valor_pagado</th>\n",
              "      <th>sexo</th>\n",
              "      <th>regional</th>\n",
              "      <th>cancer</th>\n",
              "      <th>epoc</th>\n",
              "      <th>diabetes</th>\n",
              "      <th>hipertension</th>\n",
              "      <th>enf_cardiovascular</th>\n",
              "      <th>edad</th>\n",
              "    </tr>\n",
              "    <tr>\n",
              "      <th>id_cliente</th>\n",
              "      <th></th>\n",
              "      <th></th>\n",
              "      <th></th>\n",
              "      <th></th>\n",
              "      <th></th>\n",
              "      <th></th>\n",
              "      <th></th>\n",
              "      <th></th>\n",
              "      <th></th>\n",
              "      <th></th>\n",
              "      <th></th>\n",
              "      <th></th>\n",
              "    </tr>\n",
              "  </thead>\n",
              "  <tbody>\n",
              "    <tr>\n",
              "      <th>4834968</th>\n",
              "      <td>EXAMENES DE DIAGNOSTICO</td>\n",
              "      <td>Z011</td>\n",
              "      <td>1</td>\n",
              "      <td>111600.0</td>\n",
              "      <td>1</td>\n",
              "      <td>1</td>\n",
              "      <td>0</td>\n",
              "      <td>0</td>\n",
              "      <td>0</td>\n",
              "      <td>1</td>\n",
              "      <td>0</td>\n",
              "      <td>48.173474</td>\n",
              "    </tr>\n",
              "    <tr>\n",
              "      <th>14915125</th>\n",
              "      <td>EXAMENES DE DIAGNOSTICO</td>\n",
              "      <td>9</td>\n",
              "      <td>1</td>\n",
              "      <td>50468.0</td>\n",
              "      <td>0</td>\n",
              "      <td>1</td>\n",
              "      <td>0</td>\n",
              "      <td>0</td>\n",
              "      <td>0</td>\n",
              "      <td>0</td>\n",
              "      <td>0</td>\n",
              "      <td>35.770755</td>\n",
              "    </tr>\n",
              "    <tr>\n",
              "      <th>42959949</th>\n",
              "      <td>EXAMENES DE DIAGNOSTICO</td>\n",
              "      <td>9</td>\n",
              "      <td>1</td>\n",
              "      <td>610452.0</td>\n",
              "      <td>0</td>\n",
              "      <td>1</td>\n",
              "      <td>0</td>\n",
              "      <td>0</td>\n",
              "      <td>0</td>\n",
              "      <td>0</td>\n",
              "      <td>0</td>\n",
              "      <td>30.081384</td>\n",
              "    </tr>\n",
              "    <tr>\n",
              "      <th>30540131</th>\n",
              "      <td>CONSULTA EXTERNA</td>\n",
              "      <td>9</td>\n",
              "      <td>1</td>\n",
              "      <td>42160.0</td>\n",
              "      <td>0</td>\n",
              "      <td>1</td>\n",
              "      <td>0</td>\n",
              "      <td>0</td>\n",
              "      <td>0</td>\n",
              "      <td>0</td>\n",
              "      <td>0</td>\n",
              "      <td>38.267726</td>\n",
              "    </tr>\n",
              "    <tr>\n",
              "      <th>21442420</th>\n",
              "      <td>LABORATORIO CLINICO</td>\n",
              "      <td>9</td>\n",
              "      <td>18</td>\n",
              "      <td>617336.48</td>\n",
              "      <td>0</td>\n",
              "      <td>1</td>\n",
              "      <td>0</td>\n",
              "      <td>0</td>\n",
              "      <td>0</td>\n",
              "      <td>0</td>\n",
              "      <td>0</td>\n",
              "      <td>27.587151</td>\n",
              "    </tr>\n",
              "    <tr>\n",
              "      <th>...</th>\n",
              "      <td>...</td>\n",
              "      <td>...</td>\n",
              "      <td>...</td>\n",
              "      <td>...</td>\n",
              "      <td>...</td>\n",
              "      <td>...</td>\n",
              "      <td>...</td>\n",
              "      <td>...</td>\n",
              "      <td>...</td>\n",
              "      <td>...</td>\n",
              "      <td>...</td>\n",
              "      <td>...</td>\n",
              "    </tr>\n",
              "    <tr>\n",
              "      <th>9822689</th>\n",
              "      <td>LABORATORIO CLINICO</td>\n",
              "      <td>9</td>\n",
              "      <td>2</td>\n",
              "      <td>173448.72</td>\n",
              "      <td>1</td>\n",
              "      <td>0</td>\n",
              "      <td>0</td>\n",
              "      <td>0</td>\n",
              "      <td>0</td>\n",
              "      <td>0</td>\n",
              "      <td>0</td>\n",
              "      <td>49.523262</td>\n",
              "    </tr>\n",
              "    <tr>\n",
              "      <th>4806249</th>\n",
              "      <td>CIRUGIA AMBULATORIA POR ENFERMEDAD</td>\n",
              "      <td>L732</td>\n",
              "      <td>1</td>\n",
              "      <td>496000.0</td>\n",
              "      <td>0</td>\n",
              "      <td>1</td>\n",
              "      <td>0</td>\n",
              "      <td>1</td>\n",
              "      <td>1</td>\n",
              "      <td>0</td>\n",
              "      <td>0</td>\n",
              "      <td>57.074409</td>\n",
              "    </tr>\n",
              "    <tr>\n",
              "      <th>10899044</th>\n",
              "      <td>CONSULTA EXTERNA</td>\n",
              "      <td>9</td>\n",
              "      <td>1</td>\n",
              "      <td>24056.0</td>\n",
              "      <td>0</td>\n",
              "      <td>4</td>\n",
              "      <td>0</td>\n",
              "      <td>0</td>\n",
              "      <td>0</td>\n",
              "      <td>0</td>\n",
              "      <td>0</td>\n",
              "      <td>38.341650</td>\n",
              "    </tr>\n",
              "    <tr>\n",
              "      <th>3482153</th>\n",
              "      <td>CONSULTA EXTERNA</td>\n",
              "      <td>9</td>\n",
              "      <td>1</td>\n",
              "      <td>80600.0</td>\n",
              "      <td>0</td>\n",
              "      <td>1</td>\n",
              "      <td>0</td>\n",
              "      <td>0</td>\n",
              "      <td>0</td>\n",
              "      <td>1</td>\n",
              "      <td>0</td>\n",
              "      <td>73.688029</td>\n",
              "    </tr>\n",
              "    <tr>\n",
              "      <th>38513672</th>\n",
              "      <td>TRATAMIENTO MEDICO HOSPITALARIO POR ENFERMEDAD</td>\n",
              "      <td>G400</td>\n",
              "      <td>1</td>\n",
              "      <td>918528.76</td>\n",
              "      <td>0</td>\n",
              "      <td>1</td>\n",
              "      <td>0</td>\n",
              "      <td>0</td>\n",
              "      <td>0</td>\n",
              "      <td>0</td>\n",
              "      <td>0</td>\n",
              "      <td>8.958432</td>\n",
              "    </tr>\n",
              "  </tbody>\n",
              "</table>\n",
              "<p>1048823 rows × 12 columns</p>\n",
              "</div>\n",
              "      <button class=\"colab-df-convert\" onclick=\"convertToInteractive('df-554d6c39-94f5-4996-852a-26de69ce1f77')\"\n",
              "              title=\"Convert this dataframe to an interactive table.\"\n",
              "              style=\"display:none;\">\n",
              "        \n",
              "  <svg xmlns=\"http://www.w3.org/2000/svg\" height=\"24px\"viewBox=\"0 0 24 24\"\n",
              "       width=\"24px\">\n",
              "    <path d=\"M0 0h24v24H0V0z\" fill=\"none\"/>\n",
              "    <path d=\"M18.56 5.44l.94 2.06.94-2.06 2.06-.94-2.06-.94-.94-2.06-.94 2.06-2.06.94zm-11 1L8.5 8.5l.94-2.06 2.06-.94-2.06-.94L8.5 2.5l-.94 2.06-2.06.94zm10 10l.94 2.06.94-2.06 2.06-.94-2.06-.94-.94-2.06-.94 2.06-2.06.94z\"/><path d=\"M17.41 7.96l-1.37-1.37c-.4-.4-.92-.59-1.43-.59-.52 0-1.04.2-1.43.59L10.3 9.45l-7.72 7.72c-.78.78-.78 2.05 0 2.83L4 21.41c.39.39.9.59 1.41.59.51 0 1.02-.2 1.41-.59l7.78-7.78 2.81-2.81c.8-.78.8-2.07 0-2.86zM5.41 20L4 18.59l7.72-7.72 1.47 1.35L5.41 20z\"/>\n",
              "  </svg>\n",
              "      </button>\n",
              "      \n",
              "  <style>\n",
              "    .colab-df-container {\n",
              "      display:flex;\n",
              "      flex-wrap:wrap;\n",
              "      gap: 12px;\n",
              "    }\n",
              "\n",
              "    .colab-df-convert {\n",
              "      background-color: #E8F0FE;\n",
              "      border: none;\n",
              "      border-radius: 50%;\n",
              "      cursor: pointer;\n",
              "      display: none;\n",
              "      fill: #1967D2;\n",
              "      height: 32px;\n",
              "      padding: 0 0 0 0;\n",
              "      width: 32px;\n",
              "    }\n",
              "\n",
              "    .colab-df-convert:hover {\n",
              "      background-color: #E2EBFA;\n",
              "      box-shadow: 0px 1px 2px rgba(60, 64, 67, 0.3), 0px 1px 3px 1px rgba(60, 64, 67, 0.15);\n",
              "      fill: #174EA6;\n",
              "    }\n",
              "\n",
              "    [theme=dark] .colab-df-convert {\n",
              "      background-color: #3B4455;\n",
              "      fill: #D2E3FC;\n",
              "    }\n",
              "\n",
              "    [theme=dark] .colab-df-convert:hover {\n",
              "      background-color: #434B5C;\n",
              "      box-shadow: 0px 1px 3px 1px rgba(0, 0, 0, 0.15);\n",
              "      filter: drop-shadow(0px 1px 2px rgba(0, 0, 0, 0.3));\n",
              "      fill: #FFFFFF;\n",
              "    }\n",
              "  </style>\n",
              "\n",
              "      <script>\n",
              "        const buttonEl =\n",
              "          document.querySelector('#df-554d6c39-94f5-4996-852a-26de69ce1f77 button.colab-df-convert');\n",
              "        buttonEl.style.display =\n",
              "          google.colab.kernel.accessAllowed ? 'block' : 'none';\n",
              "\n",
              "        async function convertToInteractive(key) {\n",
              "          const element = document.querySelector('#df-554d6c39-94f5-4996-852a-26de69ce1f77');\n",
              "          const dataTable =\n",
              "            await google.colab.kernel.invokeFunction('convertToInteractive',\n",
              "                                                     [key], {});\n",
              "          if (!dataTable) return;\n",
              "\n",
              "          const docLinkHtml = 'Like what you see? Visit the ' +\n",
              "            '<a target=\"_blank\" href=https://colab.research.google.com/notebooks/data_table.ipynb>data table notebook</a>'\n",
              "            + ' to learn more about interactive tables.';\n",
              "          element.innerHTML = '';\n",
              "          dataTable['output_type'] = 'display_data';\n",
              "          await google.colab.output.renderOutput(dataTable, element);\n",
              "          const docLink = document.createElement('div');\n",
              "          docLink.innerHTML = docLinkHtml;\n",
              "          element.appendChild(docLink);\n",
              "        }\n",
              "      </script>\n",
              "    </div>\n",
              "  </div>\n",
              "  "
            ]
          },
          "metadata": {},
          "execution_count": 41
        }
      ],
      "source": [
        "# Crear tabla union_all_pd \n",
        "union_exp_string_columns= ['sexo','regional']\n",
        "\n",
        "union_all_pd = union_exp\n",
        "union_all_pd['mes_pago'] = pd.to_datetime(union_all_pd['mes_pago'])\n",
        "union_all_pd['fecha_nacimiento']= pd.to_datetime(union_all_pd['fecha_nacimiento'])\n",
        "union_all_pd['edad'] = (union_all_pd['mes_pago'] - union_all_pd['fecha_nacimiento'])/ np.timedelta64(1, 'Y')\n",
        "union_all_pd = union_all_pd.drop(['diagnostico_desc','mes_pago','fecha_nacimiento'], axis=1)\n",
        "union_all_pd "
      ]
    },
    {
      "cell_type": "code",
      "execution_count": null,
      "metadata": {
        "id": "zFvYxD1rL_hW",
        "colab": {
          "base_uri": "https://localhost:8080/"
        },
        "outputId": "c165c6ce-4b75-4400-c96d-a3d11d90ef88"
      },
      "outputs": [
        {
          "output_type": "execute_result",
          "data": {
            "text/plain": [
              " 1    555184\n",
              " 4    171860\n",
              " 0    167363\n",
              " 3    124869\n",
              " 2     28592\n",
              "-1       783\n",
              " 5       172\n",
              "Name: regional, dtype: Int64"
            ]
          },
          "metadata": {},
          "execution_count": 42
        }
      ],
      "source": [
        "union_all_pd['regional'].value_counts()"
      ]
    },
    {
      "cell_type": "code",
      "source": [
        "import seaborn as sns\n",
        "from matplotlib.pyplot import figure\n",
        "figure(figsize=(20, 10), dpi=100);\n",
        "sns.heatmap(union_all_pd.corr(), annot = True);"
      ],
      "metadata": {
        "colab": {
          "base_uri": "https://localhost:8080/",
          "height": 664
        },
        "id": "mv4DwWRU-Lcc",
        "outputId": "0256c6fe-5fce-4cff-df7d-b1f290829a64"
      },
      "execution_count": null,
      "outputs": [
        {
          "output_type": "display_data",
          "data": {
            "text/plain": [
              "<Figure size 2000x1000 with 2 Axes>"
            ],
            "image/png": "[encoded data removed]"
          },
          "metadata": {
            "needs_background": "light"
          }
        }
      ]
    },
    {
      "cell_type": "code",
      "execution_count": null,
      "metadata": {
        "colab": {
          "base_uri": "https://localhost:8080/"
        },
        "id": "YRbgjLxo5alq",
        "outputId": "6c65ee02-3344-4d2f-fec5-f2fb6576cdf2"
      },
      "outputs": [
        {
          "output_type": "execute_result",
          "data": {
            "text/plain": [
              "eventos               0.001766\n",
              "valor_pagado          1.000000\n",
              "sexo                  0.009431\n",
              "regional              0.003591\n",
              "cancer                0.063381\n",
              "epoc                  0.020864\n",
              "diabetes              0.012031\n",
              "hipertension          0.017263\n",
              "enf_cardiovascular    0.020567\n",
              "edad                  0.038431\n",
              "Name: valor_pagado, dtype: float64"
            ]
          },
          "metadata": {},
          "execution_count": 44
        }
      ],
      "source": [
        "#Matriz de correlaciones de la base de datos grande \n",
        "cor = union_exp_prueba.corr()\n",
        "cor_target = abs(cor[\"valor_pagado\"])\n",
        "relevant_features = cor_target[cor_target>0] ## DEFINIR ESTA VARIABLE\n",
        "relevant_features_columns = list(relevant_features.index)\n",
        "\n",
        "cor_relevante_features = union_exp_prueba[relevant_features_columns].corr()\n",
        "union_all_factorized_features = union_exp_prueba[relevant_features_columns]\n",
        "relevant_features"
      ]
    },
    {
      "cell_type": "code",
      "execution_count": null,
      "metadata": {
        "colab": {
          "base_uri": "https://localhost:8080/"
        },
        "id": "1z79DOBN_Ekm",
        "outputId": "5cdbbd73-4729-41d7-e05c-8348e1bbd3c7"
      },
      "outputs": [
        {
          "output_type": "execute_result",
          "data": {
            "text/plain": [
              "CONSULTA EXTERNA                                                   398070\n",
              "EXAMENES DE DIAGNOSTICO                                            220175\n",
              "LABORATORIO CLINICO                                                165185\n",
              "CONSULTA DE URGENCIAS                                              116185\n",
              "CIRUGIA AMBULATORIA POR ENFERMEDAD                                  33498\n",
              "FISIOTERAPIA ILIMITADA                                              31101\n",
              "TRATAMIENTOS ESPECIFICOS                                            15695\n",
              "TRATAMIENTO MEDICO AMBULATORIO POR ACCIDENTES                       12451\n",
              "CONSULTAS PRENATALES                                                10714\n",
              "TRATAMIENTO MEDICO HOSPITALARIO POR ENFERMEDAD                       8969\n",
              "TRATAMIENTO QUIRURGICO HOSPITALARIO POR ENFERMEDAD                   6457\n",
              "CIRUGIA AMBULATORIA POR ACCIDENTE                                    5535\n",
              "TRATAMIENTO AMBULATORIO POR CANCER                                   4749\n",
              "PAMD                                                                 3631\n",
              "INFILTRACIONES                                                       3548\n",
              "ATENCION DEL PARTO                                                   3319\n",
              "Sin Informacion                                                      2878\n",
              "TRASLADO EN AMBULANCIA                                               2364\n",
              "CONCILIACION                                                         1441\n",
              "TRATAMIENTOS AMBULATORIOS ESPECIALES                                 1047\n",
              "TRATAMIENTO QUIRURGICO HOSPITALARIO POR ACCIDENTE                     493\n",
              "TRATAMIENTO QUIRURGICO HOSPITALARIO POR CANCER Y COMPLICACIONES       280\n",
              "TRATAMIENTO MEDICO AMBULATORIO POR ENFERMEDAD EN URGENCIAS            259\n",
              "TRATAMIENTO MEDICO HOSPITALARIO POR CANCER Y COMPLICACIONES           170\n",
              "ODONTOLOGÍA                                                           147\n",
              "TRATAMIENTO MEDICO HOSPITALARIO POR COMPLICACIONES DEL EMBARAZO       121\n",
              "COBERTURA PROGRAMA PALIATIVOS                                         110\n",
              "VACUNACION                                                             48\n",
              "ATENCION INTEGRAL DE SALUD MENTAL                                      46\n",
              "DIALISIS                                                               37\n",
              "TRATAMIENTO MEDICO HOSPITALARIO POR ACCIDENTE                          36\n",
              "TRATAMIENTO MEDICO HOSPITALARIO SIQUIATRICO                            30\n",
              "FUNERARIOS                                                             10\n",
              "TRATAMIENTO QUIRURGICO HOSPITALARIO POR ENFERMEDAD CONGENITA            8\n",
              "TRATAMIENTO HOSPITALARIO POR TRASPLANTES                                5\n",
              "ANEXO EXEQUIAL                                                          4\n",
              "EXONERACION DE PAGO DE PRIMAS                                           3\n",
              "CIRUGIA AMBULATORIA POR ENFERMEDAD CONGENITA                            3\n",
              "TRATAMIENTO MEDICO HOSPITALARIO POR ENFERMEDAD CONGENITA                1\n",
              "Name: reclamacion, dtype: Int64"
            ]
          },
          "metadata": {},
          "execution_count": 45
        }
      ],
      "source": [
        "# El vector Target será valor_pago. Este dependerá del tipo de reclamación, cabe destacar que existen 39 tipos de reclamos, por ende,\n",
        "# se crearan dataframes que  agrupen ciertas categorias. Esta agrupación se dará teniedo encuenta la cantidad de veces que se han registrado \n",
        "# las determinadas reclamaciones.\n",
        "#DF1: CONSULTA EXTERNA - EXAMENES DE DIAGNOSTICO - LABORATORIO CLINICO - CONSULTA DE URGENCIAS\n",
        "#DF2: CIRUGIA AMBULATORIA POR ENFERMEDAD - TRATAMIENTOS ESPECIFICOS - TRATAMIENTO MEDICO AMBULATORIO POR ACCIDENTES - CONSULTAS PRENATALES \n",
        "#DF3: ANEXO EXEQUIAL - TRATAMIENTO QUIRURGICO HOSPITALARIO POR ENFERMEDAD CONGENITA - ANEXO EXEQUIAL\n",
        "union_exp_prueba['reclamacion'].value_counts()"
      ]
    },
    {
      "cell_type": "markdown",
      "metadata": {
        "id": "DR7TyU66Jq-C"
      },
      "source": [
        "Depuració Base de datos general grande"
      ]
    },
    {
      "cell_type": "code",
      "source": [
        "#Verificación de datos nulos \n",
        "union_exp_prueba.isnull().sum()"
      ],
      "metadata": {
        "colab": {
          "base_uri": "https://localhost:8080/"
        },
        "id": "gL5C198W-vMr",
        "outputId": "2662057c-9b4a-4241-d261-f5496dbecc97"
      },
      "execution_count": null,
      "outputs": [
        {
          "output_type": "execute_result",
          "data": {
            "text/plain": [
              "reclamacion             0\n",
              "cod_diagnostico         0\n",
              "diagnostico_desc        0\n",
              "eventos                 0\n",
              "valor_pagado            0\n",
              "sexo                    0\n",
              "regional                0\n",
              "cancer                781\n",
              "epoc                  781\n",
              "diabetes              781\n",
              "hipertension          781\n",
              "enf_cardiovascular    781\n",
              "edad                  781\n",
              "dtype: int64"
            ]
          },
          "metadata": {},
          "execution_count": 46
        }
      ]
    },
    {
      "cell_type": "markdown",
      "source": [
        " \n",
        "\n",
        "---\n",
        "debido a que todos tienen la misma cantidad de datos nulos y es un tipo de\n",
        "dato dificil de reemplazar o predecir se decide eliminar estas filas que no representan gran porcentaje de la base\n"
      ],
      "metadata": {
        "id": "Q8cRbSXhCGs1"
      }
    },
    {
      "cell_type": "code",
      "execution_count": null,
      "metadata": {
        "id": "fJpXTrAXt-Lj"
      },
      "outputs": [],
      "source": [
        "union_exp_prueba = union_exp_prueba[union_exp_prueba['cancer'].notna()]\n"
      ]
    },
    {
      "cell_type": "code",
      "execution_count": null,
      "metadata": {
        "colab": {
          "base_uri": "https://localhost:8080/",
          "height": 797
        },
        "id": "WeLI9pfquai_",
        "outputId": "5e583dcb-fbed-4482-fd22-9de3b8026b39"
      },
      "outputs": [
        {
          "output_type": "execute_result",
          "data": {
            "text/plain": [
              "                                               reclamacion cod_diagnostico  \\\n",
              "id_cliente                                                                   \n",
              "4834968                            EXAMENES DE DIAGNOSTICO            Z011   \n",
              "14915125                           EXAMENES DE DIAGNOSTICO               9   \n",
              "42959949                           EXAMENES DE DIAGNOSTICO               9   \n",
              "30540131                                  CONSULTA EXTERNA               9   \n",
              "21442420                               LABORATORIO CLINICO               9   \n",
              "...                                                    ...             ...   \n",
              "9822689                                LABORATORIO CLINICO               9   \n",
              "4806249                 CIRUGIA AMBULATORIA POR ENFERMEDAD            L732   \n",
              "10899044                                  CONSULTA EXTERNA               9   \n",
              "3482153                                   CONSULTA EXTERNA               9   \n",
              "38513672    TRATAMIENTO MEDICO HOSPITALARIO POR ENFERMEDAD            G400   \n",
              "\n",
              "                                             diagnostico_desc  eventos  \\\n",
              "id_cliente                                                               \n",
              "4834968                      EXAMEN DE OÍDOS Y DE LA AUDICIÓN        1   \n",
              "14915125                                DIAGNÓSTICO PENDIENTE        1   \n",
              "42959949                                DIAGNÓSTICO PENDIENTE        1   \n",
              "30540131                                DIAGNÓSTICO PENDIENTE        1   \n",
              "21442420                                DIAGNÓSTICO PENDIENTE       18   \n",
              "...                                                       ...      ...   \n",
              "9822689                                 DIAGNÓSTICO PENDIENTE        2   \n",
              "4806249                               HIDRADENITIS SUPURATIVA        1   \n",
              "10899044                                DIAGNÓSTICO PENDIENTE        1   \n",
              "3482153                                 DIAGNÓSTICO PENDIENTE        1   \n",
              "38513672    EPILEPSIA Y SÍNDROMES EPILÉPTICOS IDIOPÁTICOS ...        1   \n",
              "\n",
              "            valor_pagado  sexo  regional  cancer  epoc  diabetes  \\\n",
              "id_cliente                                                         \n",
              "4834968         111600.0     1         1       0     0         0   \n",
              "14915125         50468.0     0         1       0     0         0   \n",
              "42959949        610452.0     0         1       0     0         0   \n",
              "30540131         42160.0     0         1       0     0         0   \n",
              "21442420       617336.48     0         1       0     0         0   \n",
              "...                  ...   ...       ...     ...   ...       ...   \n",
              "9822689        173448.72     1         0       0     0         0   \n",
              "4806249         496000.0     0         1       0     1         1   \n",
              "10899044         24056.0     0         4       0     0         0   \n",
              "3482153          80600.0     0         1       0     0         0   \n",
              "38513672       918528.76     0         1       0     0         0   \n",
              "\n",
              "            hipertension  enf_cardiovascular       edad  \n",
              "id_cliente                                               \n",
              "4834968                1                   0  48.173474  \n",
              "14915125               0                   0  35.770755  \n",
              "42959949               0                   0  30.081384  \n",
              "30540131               0                   0  38.267726  \n",
              "21442420               0                   0  27.587151  \n",
              "...                  ...                 ...        ...  \n",
              "9822689                0                   0  49.523262  \n",
              "4806249                0                   0  57.074409  \n",
              "10899044               0                   0  38.341650  \n",
              "3482153                1                   0  73.688029  \n",
              "38513672               0                   0   8.958432  \n",
              "\n",
              "[1048042 rows x 13 columns]"
            ],
            "text/html": [
              "\n",
              "  <div id=\"df-f93841bf-cfa3-48b9-9909-fd4e44006d58\">\n",
              "    <div class=\"colab-df-container\">\n",
              "      <div>\n",
              "<style scoped>\n",
              "    .dataframe tbody tr th:only-of-type {\n",
              "        vertical-align: middle;\n",
              "    }\n",
              "\n",
              "    .dataframe tbody tr th {\n",
              "        vertical-align: top;\n",
              "    }\n",
              "\n",
              "    .dataframe thead th {\n",
              "        text-align: right;\n",
              "    }\n",
              "</style>\n",
              "<table border=\"1\" class=\"dataframe\">\n",
              "  <thead>\n",
              "    <tr style=\"text-align: right;\">\n",
              "      <th></th>\n",
              "      <th>reclamacion</th>\n",
              "      <th>cod_diagnostico</th>\n",
              "      <th>diagnostico_desc</th>\n",
              "      <th>eventos</th>\n",
              "      <th>valor_pagado</th>\n",
              "      <th>sexo</th>\n",
              "      <th>regional</th>\n",
              "      <th>cancer</th>\n",
              "      <th>epoc</th>\n",
              "      <th>diabetes</th>\n",
              "      <th>hipertension</th>\n",
              "      <th>enf_cardiovascular</th>\n",
              "      <th>edad</th>\n",
              "    </tr>\n",
              "    <tr>\n",
              "      <th>id_cliente</th>\n",
              "      <th></th>\n",
              "      <th></th>\n",
              "      <th></th>\n",
              "      <th></th>\n",
              "      <th></th>\n",
              "      <th></th>\n",
              "      <th></th>\n",
              "      <th></th>\n",
              "      <th></th>\n",
              "      <th></th>\n",
              "      <th></th>\n",
              "      <th></th>\n",
              "      <th></th>\n",
              "    </tr>\n",
              "  </thead>\n",
              "  <tbody>\n",
              "    <tr>\n",
              "      <th>4834968</th>\n",
              "      <td>EXAMENES DE DIAGNOSTICO</td>\n",
              "      <td>Z011</td>\n",
              "      <td>EXAMEN DE OÍDOS Y DE LA AUDICIÓN</td>\n",
              "      <td>1</td>\n",
              "      <td>111600.0</td>\n",
              "      <td>1</td>\n",
              "      <td>1</td>\n",
              "      <td>0</td>\n",
              "      <td>0</td>\n",
              "      <td>0</td>\n",
              "      <td>1</td>\n",
              "      <td>0</td>\n",
              "      <td>48.173474</td>\n",
              "    </tr>\n",
              "    <tr>\n",
              "      <th>14915125</th>\n",
              "      <td>EXAMENES DE DIAGNOSTICO</td>\n",
              "      <td>9</td>\n",
              "      <td>DIAGNÓSTICO PENDIENTE</td>\n",
              "      <td>1</td>\n",
              "      <td>50468.0</td>\n",
              "      <td>0</td>\n",
              "      <td>1</td>\n",
              "      <td>0</td>\n",
              "      <td>0</td>\n",
              "      <td>0</td>\n",
              "      <td>0</td>\n",
              "      <td>0</td>\n",
              "      <td>35.770755</td>\n",
              "    </tr>\n",
              "    <tr>\n",
              "      <th>42959949</th>\n",
              "      <td>EXAMENES DE DIAGNOSTICO</td>\n",
              "      <td>9</td>\n",
              "      <td>DIAGNÓSTICO PENDIENTE</td>\n",
              "      <td>1</td>\n",
              "      <td>610452.0</td>\n",
              "      <td>0</td>\n",
              "      <td>1</td>\n",
              "      <td>0</td>\n",
              "      <td>0</td>\n",
              "      <td>0</td>\n",
              "      <td>0</td>\n",
              "      <td>0</td>\n",
              "      <td>30.081384</td>\n",
              "    </tr>\n",
              "    <tr>\n",
              "      <th>30540131</th>\n",
              "      <td>CONSULTA EXTERNA</td>\n",
              "      <td>9</td>\n",
              "      <td>DIAGNÓSTICO PENDIENTE</td>\n",
              "      <td>1</td>\n",
              "      <td>42160.0</td>\n",
              "      <td>0</td>\n",
              "      <td>1</td>\n",
              "      <td>0</td>\n",
              "      <td>0</td>\n",
              "      <td>0</td>\n",
              "      <td>0</td>\n",
              "      <td>0</td>\n",
              "      <td>38.267726</td>\n",
              "    </tr>\n",
              "    <tr>\n",
              "      <th>21442420</th>\n",
              "      <td>LABORATORIO CLINICO</td>\n",
              "      <td>9</td>\n",
              "      <td>DIAGNÓSTICO PENDIENTE</td>\n",
              "      <td>18</td>\n",
              "      <td>617336.48</td>\n",
              "      <td>0</td>\n",
              "      <td>1</td>\n",
              "      <td>0</td>\n",
              "      <td>0</td>\n",
              "      <td>0</td>\n",
              "      <td>0</td>\n",
              "      <td>0</td>\n",
              "      <td>27.587151</td>\n",
              "    </tr>\n",
              "    <tr>\n",
              "      <th>...</th>\n",
              "      <td>...</td>\n",
              "      <td>...</td>\n",
              "      <td>...</td>\n",
              "      <td>...</td>\n",
              "      <td>...</td>\n",
              "      <td>...</td>\n",
              "      <td>...</td>\n",
              "      <td>...</td>\n",
              "      <td>...</td>\n",
              "      <td>...</td>\n",
              "      <td>...</td>\n",
              "      <td>...</td>\n",
              "      <td>...</td>\n",
              "    </tr>\n",
              "    <tr>\n",
              "      <th>9822689</th>\n",
              "      <td>LABORATORIO CLINICO</td>\n",
              "      <td>9</td>\n",
              "      <td>DIAGNÓSTICO PENDIENTE</td>\n",
              "      <td>2</td>\n",
              "      <td>173448.72</td>\n",
              "      <td>1</td>\n",
              "      <td>0</td>\n",
              "      <td>0</td>\n",
              "      <td>0</td>\n",
              "      <td>0</td>\n",
              "      <td>0</td>\n",
              "      <td>0</td>\n",
              "      <td>49.523262</td>\n",
              "    </tr>\n",
              "    <tr>\n",
              "      <th>4806249</th>\n",
              "      <td>CIRUGIA AMBULATORIA POR ENFERMEDAD</td>\n",
              "      <td>L732</td>\n",
              "      <td>HIDRADENITIS SUPURATIVA</td>\n",
              "      <td>1</td>\n",
              "      <td>496000.0</td>\n",
              "      <td>0</td>\n",
              "      <td>1</td>\n",
              "      <td>0</td>\n",
              "      <td>1</td>\n",
              "      <td>1</td>\n",
              "      <td>0</td>\n",
              "      <td>0</td>\n",
              "      <td>57.074409</td>\n",
              "    </tr>\n",
              "    <tr>\n",
              "      <th>10899044</th>\n",
              "      <td>CONSULTA EXTERNA</td>\n",
              "      <td>9</td>\n",
              "      <td>DIAGNÓSTICO PENDIENTE</td>\n",
              "      <td>1</td>\n",
              "      <td>24056.0</td>\n",
              "      <td>0</td>\n",
              "      <td>4</td>\n",
              "      <td>0</td>\n",
              "      <td>0</td>\n",
              "      <td>0</td>\n",
              "      <td>0</td>\n",
              "      <td>0</td>\n",
              "      <td>38.341650</td>\n",
              "    </tr>\n",
              "    <tr>\n",
              "      <th>3482153</th>\n",
              "      <td>CONSULTA EXTERNA</td>\n",
              "      <td>9</td>\n",
              "      <td>DIAGNÓSTICO PENDIENTE</td>\n",
              "      <td>1</td>\n",
              "      <td>80600.0</td>\n",
              "      <td>0</td>\n",
              "      <td>1</td>\n",
              "      <td>0</td>\n",
              "      <td>0</td>\n",
              "      <td>0</td>\n",
              "      <td>1</td>\n",
              "      <td>0</td>\n",
              "      <td>73.688029</td>\n",
              "    </tr>\n",
              "    <tr>\n",
              "      <th>38513672</th>\n",
              "      <td>TRATAMIENTO MEDICO HOSPITALARIO POR ENFERMEDAD</td>\n",
              "      <td>G400</td>\n",
              "      <td>EPILEPSIA Y SÍNDROMES EPILÉPTICOS IDIOPÁTICOS ...</td>\n",
              "      <td>1</td>\n",
              "      <td>918528.76</td>\n",
              "      <td>0</td>\n",
              "      <td>1</td>\n",
              "      <td>0</td>\n",
              "      <td>0</td>\n",
              "      <td>0</td>\n",
              "      <td>0</td>\n",
              "      <td>0</td>\n",
              "      <td>8.958432</td>\n",
              "    </tr>\n",
              "  </tbody>\n",
              "</table>\n",
              "<p>1048042 rows × 13 columns</p>\n",
              "</div>\n",
              "      <button class=\"colab-df-convert\" onclick=\"convertToInteractive('df-f93841bf-cfa3-48b9-9909-fd4e44006d58')\"\n",
              "              title=\"Convert this dataframe to an interactive table.\"\n",
              "              style=\"display:none;\">\n",
              "        \n",
              "  <svg xmlns=\"http://www.w3.org/2000/svg\" height=\"24px\"viewBox=\"0 0 24 24\"\n",
              "       width=\"24px\">\n",
              "    <path d=\"M0 0h24v24H0V0z\" fill=\"none\"/>\n",
              "    <path d=\"M18.56 5.44l.94 2.06.94-2.06 2.06-.94-2.06-.94-.94-2.06-.94 2.06-2.06.94zm-11 1L8.5 8.5l.94-2.06 2.06-.94-2.06-.94L8.5 2.5l-.94 2.06-2.06.94zm10 10l.94 2.06.94-2.06 2.06-.94-2.06-.94-.94-2.06-.94 2.06-2.06.94z\"/><path d=\"M17.41 7.96l-1.37-1.37c-.4-.4-.92-.59-1.43-.59-.52 0-1.04.2-1.43.59L10.3 9.45l-7.72 7.72c-.78.78-.78 2.05 0 2.83L4 21.41c.39.39.9.59 1.41.59.51 0 1.02-.2 1.41-.59l7.78-7.78 2.81-2.81c.8-.78.8-2.07 0-2.86zM5.41 20L4 18.59l7.72-7.72 1.47 1.35L5.41 20z\"/>\n",
              "  </svg>\n",
              "      </button>\n",
              "      \n",
              "  <style>\n",
              "    .colab-df-container {\n",
              "      display:flex;\n",
              "      flex-wrap:wrap;\n",
              "      gap: 12px;\n",
              "    }\n",
              "\n",
              "    .colab-df-convert {\n",
              "      background-color: #E8F0FE;\n",
              "      border: none;\n",
              "      border-radius: 50%;\n",
              "      cursor: pointer;\n",
              "      display: none;\n",
              "      fill: #1967D2;\n",
              "      height: 32px;\n",
              "      padding: 0 0 0 0;\n",
              "      width: 32px;\n",
              "    }\n",
              "\n",
              "    .colab-df-convert:hover {\n",
              "      background-color: #E2EBFA;\n",
              "      box-shadow: 0px 1px 2px rgba(60, 64, 67, 0.3), 0px 1px 3px 1px rgba(60, 64, 67, 0.15);\n",
              "      fill: #174EA6;\n",
              "    }\n",
              "\n",
              "    [theme=dark] .colab-df-convert {\n",
              "      background-color: #3B4455;\n",
              "      fill: #D2E3FC;\n",
              "    }\n",
              "\n",
              "    [theme=dark] .colab-df-convert:hover {\n",
              "      background-color: #434B5C;\n",
              "      box-shadow: 0px 1px 3px 1px rgba(0, 0, 0, 0.15);\n",
              "      filter: drop-shadow(0px 1px 2px rgba(0, 0, 0, 0.3));\n",
              "      fill: #FFFFFF;\n",
              "    }\n",
              "  </style>\n",
              "\n",
              "      <script>\n",
              "        const buttonEl =\n",
              "          document.querySelector('#df-f93841bf-cfa3-48b9-9909-fd4e44006d58 button.colab-df-convert');\n",
              "        buttonEl.style.display =\n",
              "          google.colab.kernel.accessAllowed ? 'block' : 'none';\n",
              "\n",
              "        async function convertToInteractive(key) {\n",
              "          const element = document.querySelector('#df-f93841bf-cfa3-48b9-9909-fd4e44006d58');\n",
              "          const dataTable =\n",
              "            await google.colab.kernel.invokeFunction('convertToInteractive',\n",
              "                                                     [key], {});\n",
              "          if (!dataTable) return;\n",
              "\n",
              "          const docLinkHtml = 'Like what you see? Visit the ' +\n",
              "            '<a target=\"_blank\" href=https://colab.research.google.com/notebooks/data_table.ipynb>data table notebook</a>'\n",
              "            + ' to learn more about interactive tables.';\n",
              "          element.innerHTML = '';\n",
              "          dataTable['output_type'] = 'display_data';\n",
              "          await google.colab.output.renderOutput(dataTable, element);\n",
              "          const docLink = document.createElement('div');\n",
              "          docLink.innerHTML = docLinkHtml;\n",
              "          element.appendChild(docLink);\n",
              "        }\n",
              "      </script>\n",
              "    </div>\n",
              "  </div>\n",
              "  "
            ]
          },
          "metadata": {},
          "execution_count": 132
        }
      ],
      "source": [
        "union_exp_prueba"
      ]
    },
    {
      "cell_type": "markdown",
      "metadata": {
        "id": "k1DOM12mBXd8"
      },
      "source": [
        "CREAR DF's "
      ]
    },
    {
      "cell_type": "code",
      "execution_count": null,
      "metadata": {
        "id": "pkF4FPyOA8BM"
      },
      "outputs": [],
      "source": [
        "#Crear DF1: CONSULTA EXTERNA - EXAMENES DE DIAGNOSTICO - LABORATORIO CLINICO - CONSULTA DE URGENCIAS\n",
        "options_DF1 = ['CONSULTA EXTERNA', 'EXAMENES DE DIAGNOSTICO','LABORATORIO CLINICO','CONSULTA DE URGENCIAS'] \n",
        "DF1 = union_exp_prueba.loc[union_exp_prueba['reclamacion'].isin(options_DF1)]"
      ]
    },
    {
      "cell_type": "code",
      "execution_count": null,
      "metadata": {
        "id": "DQhbyvKuCPYC"
      },
      "outputs": [],
      "source": [
        "#Crear DF2: CIRUGIA AMBULATORIA POR ENFERMEDAD - TRATAMIENTOS ESPECIFICOS - TRATAMIENTO MEDICO AMBULATORIO POR ACCIDENTES - CONSULTAS PRENATALES \n",
        "options_DF2 = ['CIRUGIA AMBULATORIA POR ENFERMEDAD', 'TRATAMIENTOS ESPECIFICOS','TRATAMIENTO MEDICO AMBULATORIO POR ACCIDENTES','CONSULTAS PRENATALES'] \n",
        "DF2 = union_exp_prueba.loc[union_exp_prueba['reclamacion'].isin(options_DF2)]"
      ]
    },
    {
      "cell_type": "code",
      "execution_count": null,
      "metadata": {
        "id": "pCccek_0CPAw"
      },
      "outputs": [],
      "source": [
        "#Crear DF3: ANEXO EXEQUIAL - TRATAMIENTO QUIRURGICO HOSPITALARIO POR ENFERMEDAD CONGENITA - ANEXO EXEQUIAL- TRATAMIENTO HOSPITALARIO POR TRASPLANTES \n",
        "options_DF3 = ['ANEXO EXEQUIAL', 'TRATAMIENTO QUIRURGICO HOSPITALARIO POR ENFERMEDAD CONGENITA','ANEXO EXEQUIALS','TRATAMIENTO HOSPITALARIO POR TRASPLANTES'] \n",
        "DF3 = union_exp_prueba.loc[union_exp_prueba['reclamacion'].isin(options_DF3)]"
      ]
    },
    {
      "cell_type": "markdown",
      "metadata": {
        "id": "BqRcZ_LLDmKn"
      },
      "source": [
        "DEPURACIÓN DE LOS DF"
      ]
    },
    {
      "cell_type": "markdown",
      "metadata": {
        "id": "E9b4GNH7QTXh"
      },
      "source": [
        "Depuración DF2"
      ]
    },
    {
      "cell_type": "code",
      "execution_count": null,
      "metadata": {
        "colab": {
          "base_uri": "https://localhost:8080/"
        },
        "id": "UPbFJqeDGT3l",
        "outputId": "5298a449-a53c-4115-f66e-3755a5e92c65"
      },
      "outputs": [
        {
          "output_type": "execute_result",
          "data": {
            "text/plain": [
              "Index(['reclamacion', 'cod_diagnostico', 'diagnostico_desc', 'eventos',\n",
              "       'valor_pagado', 'sexo', 'regional', 'cancer', 'epoc', 'diabetes',\n",
              "       'hipertension', 'enf_cardiovascular', 'edad'],\n",
              "      dtype='object')"
            ]
          },
          "metadata": {},
          "execution_count": 52
        }
      ],
      "source": [
        "DF2.columns"
      ]
    },
    {
      "cell_type": "code",
      "execution_count": null,
      "metadata": {
        "id": "2PEKSj4bDcrK"
      },
      "outputs": [],
      "source": [
        "#Eliminar vector target\n",
        "DF2.drop(['valor_pagado', 'reclamacion', 'cod_diagnostico'], axis=1, inplace=True)"
      ]
    },
    {
      "cell_type": "code",
      "execution_count": null,
      "metadata": {
        "colab": {
          "base_uri": "https://localhost:8080/"
        },
        "id": "iknvbDGFpF7m",
        "outputId": "3382fc23-173a-4921-8304-aa865e9a862b"
      },
      "outputs": [
        {
          "output_type": "execute_result",
          "data": {
            "text/plain": [
              "diagnostico_desc      0\n",
              "eventos               0\n",
              "sexo                  0\n",
              "regional              0\n",
              "cancer                0\n",
              "epoc                  0\n",
              "diabetes              0\n",
              "hipertension          0\n",
              "enf_cardiovascular    0\n",
              "edad                  0\n",
              "dtype: int64"
            ]
          },
          "metadata": {},
          "execution_count": 54
        }
      ],
      "source": [
        "DF2.isnull().sum()"
      ]
    },
    {
      "cell_type": "markdown",
      "metadata": {
        "id": "v1MHppE0HIZP"
      },
      "source": [
        "SELECCIÓN DEL MODELO"
      ]
    },
    {
      "cell_type": "markdown",
      "metadata": {
        "id": "YdyY-w0YIDsJ"
      },
      "source": [
        "![algoritmo learn.PNG](data:image/png;base64,iVBORw0KGgoAAAANSUhEUgAABC0AAAI9CAYAAAAeioKqAAAAAXNSR0IArs4c6QAAAARnQU1BAACxjwv8YQUAAAAJcEhZcwAADsMAAA7DAcdvqGQAAP+lSURBVHhe7F0HeBTV9w3/n70XQAULFkTsDVHsvfcKFhSVoqhgQ1EQhSTU0CGBENJ7gRQS0guE3pv03nvvnP87d3c2s7OTEIqQkHe+7367+9q892Z25t0z997nBQ0NDQ0NDQ0NDQ0NDQ0NDY0KCE1aaGhoaGhoaGhoaGhoaGhoVEho0kJDQ0NDQ0NDQ0NDQ0NDQ6NCQpMWGhoaGhoaGhoaGhoaGhoaFRKatNDQ0NDQ0NDQ0NDQ0NDQ0KiQ0KSFhoaGhoaGhoaGhoaGhoZGhYQmLTQ0NDQ0NDQ0NDQ0NDQ0NCokNGmhoaGhoaGhoaGhoaGhoaFRIaFJCw0NDQ0NDQ0NDQ0NDQ0NjQoJTVpoaGhoaGhoaGhoaGhoaGhUSGjSQkNDQ0NDQ0NDQ0NDQ0NDo0JCkxYaGhoaGhoaGhoaGhoaGhoVEpq00NDQ0NDQ0NDQ0NDQ0NDQqJDQpIWGhoaGhoaGhoaGhoaGhkaFhCYtNDQ0NDQ0NDQ0NDQ0NDQ0KiQ0aaGhoaGhoaGhoaGhoaGhoVEhoUkLDQ0NDQ0NDQ0NDQ0NDQ2NCglNWmhoaGhoaGhoaGhoaGhoaFRIaNJCQ0NDQ0NDQ0NDQ0NDQ0OjQkKTFhoaGhoaGhoaGhoaGhoaGhUSmrTQOO04cuTIUeXQoUPYt28fdu/eje3bt3vIjh07bGXnzp0irMf6Bw8exOHDh22PUZZoaGhoaGhoaGhoaGhonHpo0kLjP4FV6SdZQPJg/fr1WLZsGebOnYvJkyejsLAQ6enpiI+PR1RUFIKDgzF06FAMHjwYffv2RY8ePeDj44N//vnnpArb7N69O3r16oV+/fph0KBBCAgIQFBQEEJCQqQviYmJGDVqFHJyclBUVISJEydi2rRpmDNnDhYsWIDly5djzZo12LhxoxAke/fuFXLFOnaraGhoaGhoaGhoaGhoaJQPmrTQOCEYijiV9a1bt2Lp0qWYOnUqsrOzRfEn+UDiwY44OFPF19cXfn5+MvZhw4YhIiJCSJnU1FRkZmaioKAA48ePx5QpUzBr1izMnz9fiBwSIJs3b8auXbtw4MABN6LDKhoaGhoaGhoaGhoaGlUBmrTQKDeoLNNiYu3atZg9e7ZYSdAagRYKx2MN0dksnTt7iK+3N3p07YrePXqgf69eGNynD4b274/hAwceswQOGICAvn0xqHdvaauParNX9+7o7usrx+lic3wRaz+V2I3lvxDOqUF+DB8+HNHR0Rg5ciRGjx4txMeECRPE8oNWK4sWLcKqVauwYcMGcZeh1cfR3GA0NDQ0NDQ0NDQ0NDQqOjRpoWELQ7Hds2cPFi9eLO4RtBigFYGdgm0VUfCdij+Jgf5K+R42YACiAgIwIjgYmZGRGJuYiBnp6ViSl4f1xcXYOnEidk+digMzZuDI7NnAnDmnVA7PmoX96ti7VB+2qL6sHTsWy/LzMT8rCzNGjcLE5GQUJSQgOzoao8LDZRxxgYGI8PdH8MCBGNKvHwaocfp1745uasxu5AfFmBeT2M3dyRS6wAxQ8x7IfjotPgyXl7FqfLT2oLsLz/Hq1auxadMmif9RmpuLhoaGhoaGhoaGhobGqYQmLTQEhlK6ZcsWsaLIyMgQCwo7RZgiSrdJIe/VrZuQEonDhyM/Lg6zVX0SEQdnzrQlCKqCkHjZN2MGtk+ejA3jxmFFYSEW5uRgjpqbKSkpKE5MRJ6aq4zISIwMCUHssGEIV3POeRzUp49Yg9iSH2YxzoXzvJxMIeExcOBAifMRExODtLQ0jBkzBtOnT8fChQvFnYWxPDTBoaGhoaGhoaGhoaHxX0GTFlUYVCzpQrBu3TqxpKAbgp3ySjGU5O5duyLM3x+jo6JE8V5RUIC906bZKu1aTo4cnj0be9Qcb54wAavVeVqUmyuk0GRafsTHIys6GqlhYUgYPhyRQ4YgmEFF+/VDv1690LNbN3h36eJOdFiF59dyvo9V6MbC+B1xcXHivjJu3DjV9TnissIArHauKhoaGhoaGhoaGhoaGkeDJi2qGKgs8s04lcm8vDz079/fQwEVJdap0DL+Q3xQEMaPGIF1Y8eeFrcNLScudHvZPmkS1hUXi8vLvMxMTEtNFRcdkh4pYWGIU+eZhBTjhtCdh/FEutgRHs5rxHrdlCV0K6LlDt1TcnNzJRbHkiVLxB3FGnRUQ0NDQ0NDQ0NDQ0PDgCYtqgCoCPJN94oVK2T3it69e3solQZRwUCVaeHh8iZ/55QptgqwlqojJKlo5bFp/HgszcuT2B6F8fFyjcQGBiJo4EAhtnx9fGzJDet1Vpow7gatNBjclRYaDPa6b98+TWZoaGhoaGhoaGhoVHFo0uIMBhW9/fv3SwwCf39/D0XRICroSpAbGytxF6xKqxYt5RWSGwxeysClk5KTxYWIcToC+/eXmCdWQqM8pIZBZnC3FE1maGhoaGhoaGhoaFQ9aNLiDAQVuW3btiE/Px89evRwUwKpMHJ7z2FKkSxMSMCWCRNsFVAtWk627Js+HavHjMGs9HQUxMdjREgIQgYPFksNxt1w23bWdM1ahfkk4VJTU2X3k5UrVwqRYY6boaGhoaGhoaGhoaFxZkCTFmcIqKhRaaMCl5iYKIqdVdEb3Ls3xiYlyW4WdkqlFi2nS7jLDAmNaWlpsptKxJAhGEAyQ1235SEzmMeYGdzhZOrUqRKzRRMZGhoaGhoaGhoaGpUfmrQ4A0DFbMGCBbJ7g5sip4QKH4MrLsjO1kE0tVQ6MciMqQaZERCAfj17lpvIGDJkiGzfS9eSrVu3ahJDQ0NDQ0NDQ0NDo5JBkxaVGFS8li9fjuHDh3soa918fJAcGoqNOk6FljNQdk+digVZWRKLJWrIEPQtJ5HRt29fjBw5UnYvWb9+veyko0kMDQ0NDQ0NDQ0NjYoLTVpUQlDBWrduHaKjo90UMiprfAtdlJCAvUops1P2tGg5U2XXlCkSBDQnJgaRJDJ69CghMkz/E7Mw5ktsbCwmTpwoLiXm7Vc1TgGOHMahQ4dRWWf7yOFDOHS4pPfW38cFmZNDONFmThlO5zm0zNXR5l/yj7uvR3BYHeuEz29FQUW7zirbda9RPqjzuu/gYRx2/jxe8L+37yCl8j4vPHEEh9SYDlTBi95xPo/jXKrr6YCas4P6PlEloUmLSgQqUnv27EGWUsyoiBmKF79TQZuckoLD2gVEixaX7JgyBbMyMpASFoYhffvC29u7TCLD19dXyMDJkydj48aNahF9UC0qDuDgQfVJhcVO4XEutg0xrz8cSlIpcpIWKh7HsG3XqXCVVsYyBrtxlu84xwg5buVdhFqVZOvv44LzXJyM6T0lOJ3n0DJXR5t/xzV8vH2tHKSFeYxljreiXWcnoT+O8VrErkHnsUorZ9uOpYwqdZzXwxH1PHEobGUp8uwDlfRKr5ypuT5R0sIxF5X3OVE6qihpoa6JA8d7TUhdTVpUVWjSopKAD8zZs2fDz8/PpWBR8erZtSuKEhPF999OadOiRUuJ7J0+HfOzszE6MhLDBwyAr49PmSQG3UlGpadj/vz52LNnNw4eOICDSglwwbrQtv62Q3nKlBeqrcNuDdktpK1pNr8Z68P5i/BQdsp1nOOAzEXlXYzKPJnmwPr7uHAyr49TgQp0Do95/o+p7yfpmv8vYRmPx//4DIfneG3Omd3/S6WZ72/215GzLZv2j+2ScJAWZSteDmX2pJMWapwnSiAcM07CMTnH+w6dzIk4Bvync3a6SYvTcXzHMTXpoHE80KRFBQetKxhAMDw83KVIUbny6dIFoyIitBuIFi0nICT7lublSWyMcH9/dPP1dZEYZvJC/ncqLTg4GGPHjsXKVavVwvOAevgqsSymjqY4HbNidYywLtw9F/IKsnAvQ5mR/LIX47btHiuO1o8KDuu5PCnnthxzX6FQgc7hMc//MfW94pMWttdjJf5/HSvsxms7J0c5h6WX8bwGjn2OS0iLUq0H1HXJPJbTpIUmLf47nO7ja2gcGzRpUYHBheuMGTPQrVs3N8Vp+MCBWKsUJzslTIsWLccvh2bNwuLcXNmphO4k5uCeZgKD0rNnTySPTMa/8+e7b69a1iJWlKT/ViF1P34pitbR+lGOfh77Yt2oYwjny0ZpdB7bJaX03S7fvX33PKPeYVd953GNPljTJcvUFsXSF8m3Ht/mmCViGauC9RhG/9wPZbzlNZdzZglKzrNRzpVv7YN7xaPnW+DeX2PeLOM6xjY9ylvaK/U8WI5tez5M5c35Hm3anBt32P2XrOfF2sZR8o3+u8bP/JLjuPexfP0zd89Rv5R6zmO6Dcc4tkk82ysjr1x9LuUYNv2xHs997j1hN16jXwbsylhhreMGyzXn+G2dx7LgIC0OqmcFP+10cc4PFUnbN9LqeI7YDoZYx+KoZy7DY7BNc5pLEVftkUA55PwsUdANNxZLeQPSD5Xm6k8pc2qUc/48artusJZ1KtjONq3jdsyr86fA81jmbJkTNTk83+YyRn9KnTNB2W3bwjXHDjHOsTtpcOLtehA8rnNkyrfWUVLSD88+lH6OFJxtHVLXtNu1Z9MP92N6js39XJRcl66mbH5L/yxtW/831nOpLT0qJzRpUQFBxWfHjh2IiYlxKUi0rqArCLd+1FuXatFyamTnlCnyn4sfNgx+3bqV6krCWBjx8fHiwrV71w4cOHBQPUQ9n4plLoZPCkoUHvNvz0OWlu7A0Rf21uMcHR5tqkWGQxnxTCtp1nIcu3zXD/N3BWtZu+MRRrq5roLnHDj7Ykqznk/P3zb1reVtj1HGHBAefbarp2A3X+Z6dvluDbjjpJxDDzjy3ftgmWPrHBmF5ViWsm557vNhPT/W+mXDOg5rv53tu/WHi2nnD4VS589cyDiOW9vWY9vAZiyec2eCdX5s+mLuv/3cldR3HMtcxqbPZR3D2h/Wt6lrTrLCfn6t4zfmt5R5UfAYqxl2/TxKv9xRolzzOPaKHZVET9JCyqs0cxUe26xUym9TAc6vh4Ln/CmQ4znaMPfErZ6CcRxXkrTlfixbWI551HZtYB2T0aZ7nZJ5dcD62/NYjt/uyroo3TbHclfaj962B5zz7FnHkyw4nnZLumwZg03+QdcPO9KEVY7xHDmP4X5tOsZinsvD6j9XMo+ec+24vt3LSBvmdq3jUb/lOjT1z6MdVeageYzOOqZDa1QSaNKigoGExbJly9xiV1BRiggIwPbJk20VKy1atPz3QrJwdVER8mNjETxoEHxNQT3NBAaDfUZGRmLa9OnYvn27QwETAkM9RNXDv/yL22OHLLbdFuOlLajLWGirB/oxKwdHQ2ltSrr7YsNDWTCXsZQvG07lxGivzD5Y0stZ1tpf2/6b4D5vpZwDu2PYjNmuLeuxbfsj7R/HfJY5JyVtHPWYVpTWLlFWHlHasUup59G3svrlAfc5Ln2c5e+vffkyzmUZfbXrT5l1LMe2HY8B23mymQ9rGUu9ox+jjLmzHM8Ojj5YpJTyJWU956fMfjr7UZJ99H65w6SYqjFbAxLy2A4l0kpaeCq0DpjT7ZVQF9Tx3JVCBemDXbsWWOvKbzXuY61nxdHyFTi/x0pacB7d6hCqnlnhlXat7Vj7Y9O/8rRthccYBO7n63jb9Tjf5j7b9L8ER7leDJTZhoKzjx7X0FHqyXhVvqNaKde3s23X+G1+e16Hpf1XDBwtX6OiQpMWFQh8gBYXF7uUIL7N7d61q+wKYqdEadGi5fQJ48lMS0tD9NCh6F5GLAzGwZg0aRK2bN5UqgWGO5yLYJMcbU1RUsdzIcd0z/r26VxElH280o5zFKiFhW0dt3TPcZeITRnbTtq0YZSTY9mMza5vpfXX2X5Jk+79sP4mjDktEWe7Zc5J6cdwwa2+c9xu5U7GfJpQZn9t2vMQm7pOuObI2ofSjmnAkm+ea/spsxzDpn2P8+Uq7z7HHuVM4n4Ia77peLbjszuXRjulz4XH2BTKrCPHNvrqOKalegmcZW3FWcnu+I56xvHLdwz3fJvrqdQGnH2wjLdc82Y5ru1YDNj0s8zyHnBXmDi+EqXRkedQwCykhTpuaTsuuLWhyhlvnj3KSp4lXdo1jukOjsvRliGmunZt2cGmXJnt2oDjO1bSQuq4HaNEjKY82iWs/bXpf3nadoeVgDLgThocb7t25Uv6XFLGk5xwP74Zx3SO1BzZXkM26Z5jdJ5HKWtzDGsbNr89+2ZDSjjrmY/teT40Kjo0aVFBsHv3btlq0VB0qPwM7d8fmydMsFWYtGjRUnHkwIwZmD16NOKDgtDT5EZiJi8oYWFhmDlzpmxdXGKBcYJQD+PSF/P2CpBRpyTZUA5KX9yXfZyjQOratO2WfhSlxg0mZcZZQRQHt/qWsXuM2Qm7vpXWX0sfrcqK22/n8TzyjXZLO4aln9ZjuOBW3zJWwYnNpwfK7K97P8p3TCts+lDaMQ1Y8o1roLRxeMzl0dp3g/scl3peXDDGY2rfejzb47sfx4DbtWMDu/6UWUeObZyro5y3csyT7Xy41SvPMUryHX03l7efFzNsx2tp1w7WerZjMWAzF2WW94BFoVLtUVmTn+p7iRJtUXSd5ewUR86LVfFknwyl0FWH7VvbkHZV/92qO/roUigJa127tuzgVq4c7dqA4zse0sJOGTfDo12iHOMsT9vusJxLF9xJg5PXrh2MuTcfw460OI5zpPI9ryEFc7rzu3m+HddoybX/X5EWcp7NdSz5GpUHmrQ4zaDSsnnzZgwePNil2FDhSQ0N1duYatFSCYXBPBdkZ2NkSAh69+hhS2AwBkZycjKWLFmCAwcOHD95oR7Y5VqQWwtIPWNRcnRloDzHKROl1Je+lVdZsEFJfbsxWNJKG4PbXDhRZtmSdGt/zb+tYyPc0o7lGNb+Kbin259Dc3/Kg9KOJSilv9Y6x3pMD8hxjjJHBsxl5afz2M56R50PS/2y4T7HZc4VYde2Nc32+GWcyzKOZzfvZdZxzpFRxa6+C5aydrCtbxlf+Y9Rjv+zDWzHW46+l7+fjj64Zx29X+7wVJhYn4E5qUCaFSt3hbQ0RassBcySp8bpoeCpNA+Fs5Rybml2ZexgLleedm3A+bEjLaztcBzGWHkOWcZ2WpzwaJewtm1zrPK07Q7HufQ4lvP8GKTBsbdbyhjKgPsxbEiLUubWI80M59x7TmXJsezG5pbmbMPjOpZjm9q2Hsu2b+br3u7/UdZ/RqMiQ5MWpxFUVFasWCG7EBjKTDcfH0wfNcpWGdKiRUvlEsbBWJqfj1Hh4ehTCoHRu3dv5OXlYd26dcdsfcGH/lEXy+qh7r5otyy8Jd99MWHF0Y9jt5g3w7mwNx/H2S+7NLd2VJo58KI5T/rlrG/toyPPlGbXNiHpnuM3t+2Ap3Jie0y345U93lKP4dZPz+MabZVZhrAbs0orz3x64iSdQyuseVL/KHNk6r9HWbc8028Ft3zCWcacVDosc2zTvpSx5JdklzZ/5rERluM4Ufa5UbBpq8w61v7ZjMcVJNPok0f7Jb895paw9qmsY1j6Y23PMRabY5hgN15rmrnPDnjOd+ljsTu+o74r2TIOT9goTKqOvAF30/qspAWLUclTfTCl8dglyqCq4zZ+y7HUcewIiqOnOdpxUw6lz6bfpcFcrjzt2kDG6N5BqWe1GODcWMfqYUVgasezXQXruDz6rFCOtj0g7bqfT8e5M7VzktplmivwJL+b8hzXUMk14jEHzj6UJJXjHDnr2M2beWx2+R59cTuOcWxTf6z9s7YrcNRzjNuTmDHm3W3ONCoFNGlxmkDFZNasWfDx8RHFhfEr+vTsibVjxtgqP1q0aKnccnj2bMzPzkbcsGHoZsTAMJEXlKFDh0r8C/cAnqXDsSC3F/d1j3PBXY48N3EWPOpxpA3zYtkOhuJjCMdnU8+jP6b8svKs7auOyW9jsM66bmMnyui7x7gtlSXflGb721VfHUN+ux/Lo4xtP61zV0q+pX+C455PO5yEc2hFOcq6z5Fp7JZjW+e/pG1HGY98hZK2y+ijwGaOPfrufl7sz63pONbfAvtz6WirjD46+1L68UtEytiUN9JKxHw8z2vQ3Ee7uXW0Z+lzacfw6I/leCrDbl7MsB2vpfxxlylt7q399hiHFWaFyoAnQWGfxuYdCpdL3BTaEuXdEGt9zqEjz6noqf66K6kOuB9HlVXl3JRD6+/SYCl31HZtIH327KCpHfbfZl5VGYdibC7nzFMovV33/njMGXGUtm1h6bNhXeNGUpyEdq39tOa5NWc6ntGPYz5HzjZKts11b89AyTw625XjuPfHo4yrbWcBm9+efbNcC5Z+GdsNW/8bGhUfmrQ4DaAyMmHCBJeiwjevgf37691BtGipIrJv+nRMSklByODB8O7SRQgMM3nBe0JCQoLsJHTw4MGjkhenHWpRUJYyoaGh8V/j6Eq9xsmHg+AohdDQ0KgKsBIJJxP/ZdsalQ6atDjFIGFRVFTkppzEBAZi/4wZtsqNFi1azmzZMnEi8mJjMah3byEwrO4jjHczZcqUkxu88ySDC3etK2lonGaQPNQK9CmEgyjS9z6NKo3/kFhwWH3oe5qGA5q0OIWgyWBWVpYbYZESGip+73bKjBYtWqqWrCgsRHJICHp07erhPtKtWzeMHj0a69evr7DkhYaGxumFfvN/qqAtWzQ0BCeJtJD/k7kN1a7DncP5W6PKQ5MWpwgkLNLT010KCBWSzKgoTVho0aLFQ+g+Mi4pCf59+qCLjfVFREQE5s+ff2I7j2hoaGhoaGhonAhOEmnhHkvDiD/hzNTQUNCkxSkAlYrc3Fw3wqIgLs5WWdGiRYsWsyzOy0N0YCB8vb09Yl/07dsX48aNw+7du8X6QkNDQ0NDQ0NDQ+NMgyYt/mOQsDAH3aTSMTYx0VY50aJFi5bSZPukSciOjnZsnWqxvqDrCLdNNXYd0dDQ0NDQ0NDQ0DhToEmL/xAkLGbOnOlSLKhkUOmwU0i0aNGipTxyaNYszBg1CsGDBnkE7uQWyhkZGdiyZYuOe6GhoaGhoXEU8DlpfVbyN5+hhhzrs9SuzRPBifZHQ+NMgCYt/iPwhrJkyRJ4e3u7CIuk4GAdw0KLFi0nTRi4MzwgwIO8oCUGY+hs3LhRL3A0NDQ0NDRswGfjggULJEaU+TnJHbu4058ha9asceYcHWxn8eLFmDt3rjx/TwaWL1+OMWPGuPozefJkZ46GRtWBJi3+I6xevRpdu3Z1ERaRQ4bg8KxZtoqHFi1atJyIrBs7VrZOZtwLM3lBGTFiBNauXSvBgDV5oaGhoaGh4QDJiv/7v/9DtWrV1KNUPU+d+OCDD1CrVi14eXmJDBgwwJlzdKxatQrnnHOO1KN7+MkAtz6/55578L///U/arVu3rjNHQ6PqQJMW/wE2bdqEXr16OQgLJUEDB+LAzJm2yoYWLVq0nCzZohZItOjq6uPjQV5ER0cLmarJCw0NDQ0NDSA/P1+IAAq3FDeDa/mLL774mEmLqVOn4qyzzpI24xh03wb79u07rudwq1atNGmhUWWhSYuTDAbCY0R/Q1HwV9/3TJtmq2CcLDkwYwb2T5/ukorkgkLrEvbpcCl9Yl/Z/71qjvaqG/0+9UmffeYdUPUOViCyh/2k2OVVBOFcavnvxW7uK5rsmDwZaeHh6Nm1q8eOIwkJCdiwYcNJM1vV0NDQ0NCojCCJ/9NPP6Ft27Y4ePCgM7UEDRo0OGbSgmTE77//jm+//VbICSt27NiBq6++Wqw8jhWhoaGatNCostCkxUnE/v37MXToUJdy0L9XL2yn35mNUnEy5Y/mzfH6k0/ipUcfxYtKFpMttil3OiQzMBDvPv88JsXG2uYvUX1t8cEHuFPdgGtfdRUa3XsvRvTrh23jx6PZO+/Ap00b23qnWkiqtP74Y/z25ZcuUqWiiKFMkyA6NHOmED0HnQSLmczScuzCOeRcck45v5TKQlxQSJhmRUfDr3t3N/KCVhgM2Llt2zZNXmhoaGhoVAqQEDiWOE0sW1Z5phtih4cfftiWtDDXs9YtLZ1gWlRUlLQ5b968UsuVhoiIiHKRFmzTGHt5YC5fVn+M/lrL2B3raGWt6RoaR4MmLU4S+AdMSUlxKQVUEjYpxdtOkTjZsjQzE8OUEnL2WWfJzWx6QoJtudMhbzz1lPgKftO4sUceiYlrr7oK99x6K9YWFKAoLAznn3subqhVC+n+/vg/Ve+s//3vlFpbUEG1U0qnxseL3yNlTX6+R/7pFIOwoAvSPqVo75k6FbsmT8aOSROxfeIELccpnL+dSnZPmSJWQCQxSApVNuKCQvIlOzYWPbt1cyMvfH19JbjXrl27PBYcGhoaGhoaFQFUcPlikPEi6H4xbdo0sRi0s44gDhw4IIGox6t1JgNXMijm7t27xbLCwPr167Fu3TqXsI4VdqQFyX5zPQqfoQT7ZE5nnw2wfQbov+WWW6RN9ssoZ3dsOxyNtOA80bpj4cKF0j7HTzeX0uaJz/09e/aI1UdxcTHGjh0rdZlmXRMwzTw2HodlNm/ejIkTJ2LcuHFyLPaBc20ua7S3c+dOCXJaoNb8//7773G7yWhUTWjS4iSAfzjeRA1FwMfbG8vUH9JOefgv5W6l/Fc00iJQzcc99eohmTd8S17v336T/vr/9Zcr7cemTRHj5yckxiP33INPX3/drc5/KVREO7ZqheXZ2R55OydNwlMPPYTXnniiQrmsGIQF+7R66kRMm1SEyePyMGFsDooLszCmIBNF+aO1HIdw7jiHK8cWYtuECdg9eXKlJi4ou9V9KiUsDN0sMS969uwp0cj37t2rFxAaGhoaGhUGfCbNVM/dl19+GZdddhluv/12VK9eHeeff748v8xEBEH3i19++QXnnXceLrroIlxzzTU4++yzcf311yM+Pt71jLvhhhsknetQCpVpK+xIi2+++cZVjy+yzj33XPipdStx1113uYJwUvLy8iSd+Pnnn3H55Ze78tgGy1Kmq7VFeVAWaWHM06OPPiptMx4H54DSsWNHIRKsYEyPW5XuwBgcNWrUEGHd+vXri15jRmxsLC655BIZM/uQlJQkpMi1117rmo8rr7wSixYtEqtzHt8oy/kjsUHChuNleb7QfPHFF4U80tAoDzRpcRLAyPw+SgngzZOKwDj1R7ZTGE5UREFVUpqy1PDuu+XmUBppYdQvqw2zHO14lLLKHDGJXd5X773nuPH16+dRrrR6ZjGOLce3yTfErZwSuzKUFTk50p/JcXEe7Rn9KW+fyjqOXTtHq1OaUHmmEs1YIO3HJ8FrbD8tJ1lCsxOxWi08NhcXuxEXx3O+KopsnTABsYGB8LFslcp4PHwjxbc+mrzQ0NDQ0Djd2LJlC2rXro077rhDrCeIrVu34s4775Q1GxVnA3yb/+GHH4pC/M4777gU9eHDh0say3M7UgNBQUGSRikvacFn41dffSUK+QMPPCBWH2aQGDHaNJMWhYWFspuXkTdw4EAkJyeLMB5eeVAWacFxkRS54IILZLcRWjfQBeX++++XOiRbzM91kj2MrcG8v//+W/Io3bt3l7kiyWONyUGLkqeeekrqtG/fHncrvaNDhw4YNGiQkCOsN2TIECnLMXF+WPb9998XcoTkSWZmpmxWQDKJee8pXUCvNzTKA01anCD4ZpI3MyEslMQNG2arJJyIMIbCjkmTMDMpCWPVDWv2yJFi/m+NrVAaaUHlikrt8qwsTIqJwcToaIklwTQ7xYsuEpvHjcMcdSOdHBuLVbm5oqiZy1DJphsC22GZeSkp2KX6aLTH8rSWWJufL7Jj4kRX3e1KYWLeq08+Kf0N69rVUVYJ620cO9ZVb526yRv1zMJyq1W/xkdFyZioVDLNTAYY416RnS0xNSaocTPeh3XcnMet6qH34csvS38yhg51O/YWNRdGfyilzdkWpdROiYuTczRXzcce9QAkqWAut76oyNUOrTeYv0Udm2Ng3Y1jxohCbK5TmrAfrE/Tf7owtCtOsFW6tZyYDBwZjrmpqfI/2KquBbqK0LKF8293LVQmWa2ut1C1uPG2kBd8S0IzXOsbLA0NDQ0NjVMJvtHn2uwvWuWaQJKdlhfmrUrposCyV111lazPzaDSzLf8tC4wQLcJYxvR8pIW3IWLCveTag1rZ71AGLuOmEkLgs9UplNIKBwryiItqPwz78cff3SmOMD5IZlAoRWEAY6d46A1itmNhX3kvLItuo9aQbKFeRzjr7/+6kwFnnvuOSExVqxY4UwBvL29pSyPPVLpLmaMGjVK8kj+kJjS0DgaNGlxAiAzmJ6e7lroD/Tzk5gCZqXgRIVKKeM73KBuLFdccgnuUjeqiy+8UGJBpA4a5Fa2NNKCCv0Ljz4q5l91r78et9WpI6ZZbzz9tCjJ5rJUvv3UTeiaGjXwkGqPLifnqHrfNm4su3kY5aapYzx63324+brr5POKSy+VtkmoGPmMTfE/p2lY++bNXXX5vVbNmjjv3HMl70pVl78pxeqG/La68V1w/vmSd5kas1HPEJIIDN55rnr48Pg31q4t8Tw+fu01bB471lVubWEhXnniCYmLcYsqd9uNN0qdVx5/3I0MyQsOlnYMMzaWYWwNzgHzm7//Pi5RN3XmUai0GnUpDNLZtW1bXKLOC8vVUf3h2Dh346Ki3BTbh+66S9pnOz99/jmyhw2T4/B459CcT7UR1bNnuZRhg7QgWUNS6JcxcbZKt5YTk66RAZgYE4OF6r++oahICEMSRZz7yk5aGLIwJwdD+/d3kBfO+xmF9zf6oFp9WzU0NDQ0NE4FDEX9NbXGM8daoJUzCQQz2rRpI2U/V+srK/h2nxYXVhjuHOUhLRjPgpYGtF6gG0ppoPsK650q0oJ9McZhtfwgbrrpJsnrr57zZpBgCAkJcf4qQb169aR8ZGSkM6UEgYGBkkciwjwGu5ccdD1lWZJI1nWEmTBiLA0NjaNBkxYngOXLl7sW91zsr1IKjZ1CcCJCCwEq3XcpBdggGMZHR+MspWBffMEFbgp0aaTFny1bSnrbzz5zpfVu107SrAEyQ7t2lfTUgQNdaXTjoEJPiwr+5jGpaHOnEsMqgIEqSRw0festVz0qdG8+84y0ZyYtDOGuIsxLsZAvlIwhQyTPSlrQwuODl16SIJ39/vhD0nicd597Tsp3+uYbV9nO338vaSRcjLSBf/4paV+qMRlpO5XCvzgjA/fffrvkjVQPJ/5mgFOjzIykJFRTecw3zzmP3e7LL+Xm/cnrr4v1CdPnJiejTq1auOC888TqwihPGdKpk7Tz4B13iCSruV6alYW+7dvjwvPPF/LCfOzShMc2XEMY1PSnwhhbpVvLiUmHYX2QqxY6JORIAJIgIlF0JpEWhkxPS5Ndj8zBOrnomEWLHu0yoqGhoaFxisHglZdeeqmsm15S6z9aU5C8sFOSn3jiCSnXrVs3Z8rRUR7Swt/fX6wq6HJC6wRaIpaF4yEtqMTTOsQq5iCapZEWDKLJdK5F6ULD+THLI488Ivnfffeds0YJ2CdaWtAVxDgmXXFY3o7kMUiLK664wplSOgzSgnE27MA2mM/dzDQ0jgZNWhwn+AenDxcX9XwzmRMTY6sEnKgYSj+3ATWnN7jzTtx87bXlIi0i1M27+uWXS6wGI41KLsvWq1PHrexnb74p6TSDN9IKQkLEUoMWBfzNdljm79at3ZQ29pUKv/Gb0uPnn6XssZIWjB3APCtpMUspjky/45Zb3NLTBg8Wa4U+v//uSov180MNdUOku4aRRjcK1qc1hJFmSKP77pM88zyZxbC2MM/5hjFjhKyhpYnZEoXCWB0sz3Ga00liMJ0PF77BN+fRqoN5vuXY6tUgLdgfxltoWxDloXCfneuHC0f3FLkosxcuNiTLT4tZnPNyVkEfjzn8ZVBXjFLXF4k5uhrxv3OmkhYUWpGMjoxEN19fN5cR7g/PKODa6kJDQ0ND41QiLCxMgjwab+apBFPRtcZcYJBO5gcEBDhTjo7ykBaM0/D111/Luo3xNbhLSFk4HtKCZMCDDz7oIUaQT6I00sJwoWH/GKfCKnQB4Ti//PJLZw2HtTh3+4hR69AffvhBLFkaNWqE+9RamMFF2V5ZpAWDjh4NBmnBgJt2MOaJVp0aGkeDJi2OA/yjZyvlxVjMD+rd+z/ZUYKuGhddcIFYWhiEgSHc4YKKkzmtrECcVK6oZFEYw4FtsywVfXM5WmMw/Y8WLcQCwW5ctELgg+O2m27CglGjpB+lKW89f/lF2jtW0oIWC8yzkhZGe7999ZVbOuNplLYVKcdrjJtKPi0ZaDliLXc00uIyp4+imbSIdN6QG7/yiltZCsvRDYfWFmZC49/UVKlztbpZm8tT/Dt2lLxWH37okWcVN9Ji7Fi0yfckLW4Z/hee/7stXvT+Ba90b4/X+nTEG/3/xpsD/1HSWYvIP3ijXye81rsDaqb08JjDH/p1wYj+/YVgWpaVJYQerVvOVNLCkA1qnCHqv0krMuNeRxKDizC+cdJWFxoaGhoapwpLly7FZ2qNymCTdHfmWunTTz8VSwIDxnaijMtUXpSHtGBASe42cuONN7qOa2fpYeB4SIs+ffrYEg4MdGmgNNKCO3swnbt7kGgoTbgNqgFaUNaqVUvm8hW1huWLCbqW0Irktttuk/ZYxwqDtGjYsKEzpXRo0kLjZEKTFscBml51cS7kvdUifnnBf7O9qbGbBWM92OVbpTTSgsoVLQzmjxolVge0Skh0WgFQgTeXpUJdQz0QGIuinro5c8tSu+CQVNJpYcD4DK0//hgzEhMd5IWpDOVkkxYtlTLP9IG8iZvS7YTjpkK/QN0MiyMjHePu21f6zTas5Y+HtKC1CdN+adbMrawhJCaYv5Cmb840g7S4kw8dU1lKeLdukvflO+945FnFTFpsGjsWP+RHeijct4T8jRd9fsWrvTrgrcFd8N6w7vgg1A8fhvfBhxF9lfSr4qLmIKwP3g/phXcDu+GqdD+POfyu9z9IUIsJBn1l4NmqQloYMlVdr3179HBzGendu7fssW42W9XQ0NDQ0PgvYCYIGMuiRYsWYj3A9VIP9Xwy0KBBA0mjslxelIe0oAUCrSty1Lrc2N7TvH2qFcdDWpQHpZEWfJHKdG4DW97nMq1VWKcZ168WlMc9RJMWGqcamrQ4RvAGFR0d7Vq8p5tcD062zHMqtzdde61tvlXsSAsqVXnqpkN3kkuV0v28uvF+8fbbaNu0qZS1khaU+WlpUo5WGCQv6GKRoJR9824lVJY7tmqFa9QNhyQATdIY+8Ia2PNkkxafvv66pJNMMadbheMuCg3Fw/fcIwEyn3vkEXz+1ltiSWIEB7XWOR7S4ld1s2faP99/71bWkLo33CD55nNikBb31KvnVpZyskmLumH/4NWef+Ctwd74ILQ3Po4fjKbJgfg8bTi+GBWsRcnnqcPx2cihaBI7ENdk9vWYw9Z+fyNOKekMqmolLezOy5koe6dPR7L6P/n6+Li5jMSp/wq3NdNWFxoaGhoa/wUYY4FKuRXBwcGyXuKuFQZoicE0BuK0ey4xzZpeHtLCvHuI4SbC4JJ0mbRDeUgLbi9+rCiNtCCRYwSTN++mYobZtZPEBsfA8mlqzW8Gy3FszNOkhUZFgiYtjhEMCGQs2Ht07YpdvMlZFvgnS+gCwj8zleXyvNG1Iy1ozk4XE+48QjLCSKdFBG9YdqSFcSyaw3OHEWO3i0ya2znLMCAmPxmUkOQFdzNhe689+aRbX082aWHEfOj+009u6VZZpR4UjEFB4dat5rzznOMxp1GOy9Li228l7aiWFrwhO9NOJWlRL6KLuD68H9wTnyT4o1lGKL7OjUKLgli0LIpHqzFVWzgHnIuvcyKFyKmdO8BjDr81SIvIyCpLWhjCYMOBzl1GjPsgI7LPnz+/TFNZDQ0NDQ2N4wG32LyAgef3um9hymD4XC8x+KYBxmeg8k5lmPEazAQFlfFly5ZJugHmG6TFhAkTnKklMCw3+jGunBPcnvPaa6+V9A8++MBtu1CCbRoBJrPUGtyKCy+8UPLGjx/vTCk/uNMH63I3ECv58thjj0le+/btPawt+HuqWisaxAV/Gy423HrUANucqdaVBgESFBTkzCkB44Uw76GHHnKmlI6uzuD+L7zwgjPFHQZpYSVONDTsoEmLYwD/5AzGw4U6g28Wjxhhu7A/WULFiNYO/ENTKbXmW4kMO9JiWOfOkvaFaVcPylZnIE4raUGFzLpzRaivr5T99I035DeVtZlJSW5l2L9bnFYFW4qLXeknm7Tg1qJMp5uIOd0QY04M5b+JJdYEt6vkziPMM6dTjiumRffuksbtVs1lKYxDQsLnXDXH5pgkp5K0uC3KB28N6oKPIvvh89QgtMiPwbfjkvDd5BR8NyX1hKX1pBQlybZ5J1N4jNYnqc8eosbwTXGiEBfX5g/ymEOXpYUmLUR43Y0bORI91bVqtrrgokPHutDQ0NDQOJno1KmTvBRjnAoG3uROVvwkkcD4anTXNsC8e++9V5Tul19+WQh1Ppd27dqFMWPG4G61Tk5VazA+p0g2LFiwQNZcFFoVMI2KPdvZunUratSoIXncdYPHNJT+keoZaLiJkLgnoULinvW5DathxcA+Ms1M6rMPzPP29pY2rfl2YD7LtnPu/EcSh+4qrGuA1igMoEkyghsFkFzh2FmOc8dAptzC3MDjjz8u/fziiy9ky1SWna2e7yQYDAuTv//+W+aC4NjZh++dO/NxFxXWM+bMDKO/jP3BstxClefASqYYpAVdTtmOXj9olAVNWhwDyFIaC/T+fn7/SfBNq7zq3L6p92+/yfGoMBjK6ryUFLc+PHjnnVLW2JqUMsC5xScDOxoKPZUtBhbkzYquHUY65SN1k2/10UduaVSKWdZQzIsjIiQ4KHf4MMrQcoNEAh8U601bv3Z37h7SzhI4k/LWs89KHvtizSO5wDxaSpj7QkKBD6mr1M13+4QJMhYem2WoSP7rtCYZqs4R6zdTyr953KMCAlykhVXpfLFRI0nPDw52S6ewDWP3EAb9NNLXFhTg/PPOE4sKMzHB8qP8/aX8C6pdI53CrTOZzm1szekUg7SgK4s1zyo8xtFIi/rRvngnwAdNYgbiy4xQtFLKORX1H2ZkoM2s0Wh7gvJx9AAhRezyTpZ8Py1NjcEXTaL62eafiHAOfpieLqRIy8I4XFcw2GMONWlhL1smTsTwgQPdrC64QOO+70dbgGloaGhoaJQHjJ90/fXX4zy11uLuF3Q5aNKkicRvYABJKttmLF68WIgBQ4En8cAAlaz/5JNPivJMd4rff/8dt6p1GC0tKFTqW7dujUlqjUcigu4PRh6PxWObXUhI2jOuBo/DfjDI5R9//IE71VrcqMetWlu1aiWEiQESCOwLSY/GjRvLMY+25SctNnh8YxcQCskZHs8gFQi6bpAIYD77RYsM9v3iiy+Gj4+Ps5QDtCypWbOm9IM7orAsg5ySkOmv1uVsgxYjHCfBIJ1NmzaVvht9YFwMBgq1uqTQ3eMjpUsY5Sh04wkPD3eWcIDEB/N4HBJDmzdvduZoaHhCkxblBNlBLsi5MOcfeK5SXqyL+P9CxoSF4QJ1w6FiHObri0XqxrY6L0+207y+Vi2JIcEAmPysftllovAy3gMVWSq1DB5IYoJxMViXFhbcwvSlxx5zxVtYnpPjilfxrLpJ11I3+OXqBknFjO1EqwcE2wjmDU+V4bEZF4LbizKf5dYXFso2pIydwTJUpmktQQsPHuP1p57CHnWzJ8nCLRVJONR3RmHurG5UbMfYDYXfqSAyj0LXCh6DeZS31Y2PxMWL6mY5KSYG6woKMGvECCFbvlUPAJbh9pS0Irnu6qtlhxNuU8m55Ljrqxuz0a45TkebTz8VcoY7k7DvFM4hj71EzZ3RH7bDPhr1fvr8c3kw/skdV9TDjnl0T3norrvkvDGmiFGWeWFOczluk7pJnTfOh5FvkBaP3n+/BE8tSzEuN2kxpCs+jh2Er7LCxcqCSnrb2Zn4cU42fpp7YtKyIBbnXXqxfP9xdpaSTFcev7t+q2MZ3+VzDssq4ad8L6knZYw01lPfX/PrgFueaeRW5mQI56DtrEx8PzUNrcYmaNLiGIXXYIH6r1m3R83Pz5e3LPqtiYaGhobGiYKxk/r27StWAVT0f/nlF4ylBXIpIHEeqZ7ZVPSpPHNLT1oDGs+k9evXCzFhJ1TOqfzb5XHHDTPookKXDeoHEydOtK1DsbqeMKDnN998I32j5QKJmbJQqNbYdu1SzKQFQUKGVhwff/yxWDrQWoJuMXZgWRIfnNM2bdpg0aJFkk7ix2jf2ImFVhjm45qFFi1mMJaHXTkSImbQIsScT+sWDY3SoEmLcmK6UqiNBTl9uu0W8P+VxPj54YZatcRVhO4G/OQOH12cwR87tGyJW667TrbWpNAi4JUnnpDdR5jfTt20L77wQonlwPgWt99yiyjyLd5/X8rXvf56jCX7qcpmDRuG2jVrSoyKJq++ipdVOyRDqJgb/SH58PLjj0vd5x5+GJ+98QZuuOYaNFRKOttlGe7U8bhSvI0+UajEx6ibkl+7dkJwGOkXnn++BMokWUAl/M1nnkHNK6905XP3lM/efNN1fBIDdC25UI2FY6Kw3AO3345FptgRJBEuVnPBfJblFq1zU1LwnbqRs/zNas7MVhXse53atXGemt9G996Lxx94QMgHHpvzYfSHc/+W6iP7ynr8bN2kibiPsK9PNWgg56COOmdRPXu62ie5wJgfl6o8oy3O/ZBOnVxlSBAZeQ3UfJF8MfKsUl7S4t2hXfFx3GB8lRWBb8ePENKChIEo7vNyTlguqXWVfH6a6I8mUQOEAPhh2ig0jh6gjjtIrDq+nTASjSP7ixvGByF+aFUUj08T/CWOxOejhkuQUNZjOyQpmo0OxUdhvdGyKM7RdtIQ3PLso65jnjRRc9BWzQX726o4AdcX+nvMoSYtji5rxoxBgFpQmncY4UKHCyKr2aiGhoaGhoaGhobGsUCTFuUArSzIBnIhzreJ8ywxH06F0AohVynYjC+RPWwYtk+c6MojOcEgm1YxWydQ2SL5wbqGSwkVXaPsDpPLA+vlBAUhrFs3ITE2m2JUmIWuGHGqzXil0NHlwZy3RSl25r4YwmOuzs+3zWPQUCridnlmMsIQBirlmCi0tLDmU9hmrMrPDAx0WTRsUuMx2jXPI4WuHxlDhsg8j1dKKvvDY5v7YgjzzHU55pEDBoglRWFoKA6aLCgoVHLt2llXWOgqw/6Y88yuKFapSKQFiYb7Pn0bDb7+CN9PScWd776Mx3/8Cg1bNEGj7z6XeBQ3P9MId7z9opRr1Ppz2dXkyptvwFPtv8W9jV/Hg83el/aaRA/AdQ3uxdv+3rj6rtvEnUWTFhVfeF9JDw+Hr7e3xPzh/ZJve/iGyfomSENDQ0PDDFoA2ImGhoaGBqFJi3KAJlHG20P/Pn08lFUtWk6HVBjSovbVaBzVDw81byy/26j2z7vsEnyRFizpNW+7WdJJYDz12zeuegx8efVd9eR787xo1L7/Tvl+z0ev44lfW0h9uoR8MLynJi0qkSzOzUX/Xr3crC64NSoDgGl3EQ0NjaoLdf87cljJQfVxQMk+HDm0V/3chiMHNuLI/jU4vHcZDu9ZgiP7Vqnf61X6FpW/y1H28H5V94ASxgzSFmwaGhpVC5q0OApo2mzeMWSWzRt/LVpOh1QU0uLia2qKZcWNTzREm5kZEhvioquq4yXvX/CSz6941e9PKUfS4pXu7V31ZLeOBnfLd249es3d9eX7ba8+gwZffih12cbX2RGatKhksnf6dCQMH+4WpJPWavQj1u4iGhoaVQMkKQ4J2XDk4B4c2bcSB7aMxe6VEdi5qDu2zfoO68a+gVU5T4iszH7cIo70NXnPYNOUz7Dj3w7Yvcwfe9eNwuFdag1wcKuQGSRBNImhoaFxpkOTFkcBg+wYi27uGHJYW1loqSBSEUgLBvS86OqaEszytteewbMdv5fv1evWkXgUbWZkoEVeDH5Ux3IQEe3kO+s2Sw9B7QfuEtcSkha0uuD3J35ugSd+ae6oWxiLNjNHy+4nNz/1sORb+3BCokmL/1SmpqWhO4N0Ou+h3LN93rx5EiRNQ0ND48yDQVTsw5H967BvYxZ2LuiCDePeFhJiRdZjWJbxKJamN8KStEewOPVhLEp5GAtTGmJhsiEPub4zj7JYlV0yqpHUWz76MdXO41id+zS2zvwOu1eE4PDO2WKRIZYYmsDQ0NA4A6FJizJAU+aEhAQXaTHeErdBi5bTKRWBtHi9b0fUuu8OvNanI75Rbd/60pP4MNRPpN4rT+H+T9/B6yrv69wo1Hv5Kdzb5E18mRUmdR9t0wzXP3wfPo4dKHWva3gvmqjvDMh55zsvSV3Kd1NT8dDXjXHDYw0k3oW1DyckmrT4z2X1mDEY4OfntrtIbm6u2/7yGhoaGpUbhx0WFfvXY9/6VGyb1QarSFKMfgxLRzXC4tRHhIRYMOIh/JvwIObFP4A5sfdjdsx9mBVNuRezou7FzKh7XCJpSmarfJadG/eA1J2f2AALRz4kZMaStEZCgqzMehzri9/CriUDcGjHDBw5tEfIEw0NDY0zBZq0KAP0wWYgOXlDqD65BabdolyLltMhFcU9pFKLJi1OifDeGe7v7+YuEhERIdvY6TgXGhoalRZHSFbsxaFdc7BzkR9W5z3rIioWJT+M+UkPYV78g0I6kJSYEXEPpoXdhakhd2JK8B2YHHQ7Jg6rj4mBSobdZhGm1cekYbdj8vA7pPzU0LswI/xuzIy8R8gMITKExGgoxIgQGNmPY/OUL7BvQzqOHNis+kj3EQ0NDY3KDU1alIGioiLXAjslNNR2Ma5Fy+kSTVqcBNGkxSkTXq/Z0dHwcRLBFO67v2rVKh3nQkNDo5KBZMU+HNwxHVtn/iCuHyQMaP0wfwSJigeEVBCSIvQuTBl+hxAQ44fUw7iAWzF2cF2MGXgLigbcjIL+N6Gg342lyE0oVPlFA2/G2EG3YKx/XWljQuBtmBR0u5Af08PvFkKExIgQGMkNxZVkReZjWFv0MvaujpKAnpq80NDQqMzQpEUp4Dan/fr1k4U1zZpXFRXZLsS1aDldokmLkyCatDjlMkfNYa9u3VzuIj4+PpgxY4aOc6GhoVEpwJ0/Du2ah21z24tVA+NMLEppKIQBiQNaQUwNvVNIhfFDb0Ox/61CUJCcyO9bB7m9b0BOr+uR3fM6ZPW4FlndayOzWy2MpnR3ivrOtMxutVW+KqPKZfe6Drl+1yOvTx0hNAoH3Czkx7iAekKI0BJDCIzoe4U0oQsJ42Ysz3xMAn7uXTcCRw5uF+sQDQ0NjcoGTVqUgkWLFrneBgYOGGC7+Nai5XRKZSYtGGTTLv14pe2s0ccXpFOTFqdFNqo55PbR5m1RGefiwAEGkdPQ0NCogKAryIEt2LV0EFblPOm0rCBZ8aDEppgecbcQB7SCKPavK1YU+X1vRK7fDQ6ConttBzHhezUyfK5Ctm9NFPWsiQl9amBy3+qY2r86pg+ojhlKpqnvU/pVxySVV+xXA3ndayJT1WHd0V2vEUKDRAbJD5IYtMYYM+gWscIQC4zQOzEz6l5xH1ngJC8YBHTjpE9wcPs0IV7UgBzjOsNAl0OS4GapLGDfj9Xy0DreM8VysTKfx5MNPQ8OaNKiFIwcOdK1mJ6ckmK78Nai5XRKZSUtuBtIgy8/sM07Fmmr2jG+v9D5JzRNCXTLL5do0uK0yf7p0xEXGOgW5yJF3Wv37dvnvAtraGhoVBAcOYADWydgw/gPxHKBu37MT2qA2bH3iXXD5OG0qqiHMYNpUXGjWFNk97gOmV1rIdP3auR0vQrje9fA7EHVsS7sSuyLvwIYcbmSy4AkQy61EWeeKntYyfboK7Ak8EpM7VcdhT1rYrTP1eoY1yCze20hMGjJQbKkOOBWsb4wyIt5CQ+Au5LQKoSuLLuW9nPEuzgDdxrZunUrCgoKhAg3ZO/evc7cio0VK1Zg/Pjxx/QcpItlfn6+a6wTJkxw5lRubNmyxeM8VsUYWLt376601/PJhiYtbMC3fd27d5dFtI9aUO+eMsV20a1Fy+mUEyEtfpiWjjbqkwQClXeSGG1mpDsUeJVOywWm87PNzAz5dJEdKp31uLUpLSYMqwlHG+q3Ks9tTSlGPq0gHO076jzz53eO9vnb3D7LqbYd352kiqkdljf69WzHH1xtv9n/Hxmf9EPVM8ob1heO/jrGIm0bhI0mLU675MTEyH3WIC6io6PlIa2hoaFx+nEERw7txp4VgViV84Qo/bRcmBN/P2Y4LSuErBh0C/L71UGO3/UYTYsK32uQ2+0qTO1fA2tDr8ThpMudBMSlQOIlSi4GEi5ySDw/L7SXeH46y0kd1lXCdkZcjt2xV+DfgOoY26uGwwrDaYGR1+cGFA64CcUBdTEpqD6mhd2JWTH34t+kB7Eo9WEhXjZN+gSHdi1QQzyz3txOU8/nxx57DJdddhm8vLxEFi9e7MytuKBCfv3110t/Bw4c6Ew9OuLj4/HAAw/g7LPPlrr169d35lRuTFG61yOPPIKLLrrIdR6ropXB8uXLPa5nplVFaNLCBvPmzXMtoKOGDrVdaGvRcrrleEmL75WC/tTv3+LJdi3x9B+thQhoHN0fD37+Hj4I8ZPtRWm5QFLi1R5/4PEfv8ZrvTvgwS8/xHtBPUTZf7bDD3il5x948tcWeKxNMyEB3g/upX6rNlXb3OL0m7EJaNS6KR5u9Qk+iR+MBs0+kPbfHuyNBl99KO2wb4+1+RKv+XXA/Z++jQ/D++D5f37E/U3fxeepw6TMN+OS8NiPX+Hxn5vj9b6dJO0N9Xnx1TXwVLtW+HJ0GBqqPn+WNFTyPhsxVKW3lL59ljTE0d8/v8dL3r/gGfX5QNP30CwjVNI1aVExhNtJ+5oCdAYFBWHHjh1V8q2KhoZGRcER2cJ02+yfxbVicdrDovQzZgQtGOgGQsuK/H43ItvvOok/QeKABMKKoCvFMsJFUhjkBEmI+AuAuPOBWMp5Tjm3FDHylbCOiKpvkBkkMpwWGbtirsDMAdXFqoMuJAZ5UTSQ5MWtmBx8O2ZE3o258feL1cWyjEZYW/ACDmzMFkuSMw20mDaUvMpAWvCF6cUXXyzkw59//ulMdceuXbtKdaNs0aKFjPVMIS0MML6gcR4rKmnBfnHHyf8SiYmJrnmoqKQFXzj9l26+mrSwQVxcnGvxPCs93XaRrUXL6ZbjJS1IAjzY7ANxr6j7wuNCKFCBv/6R+/HMH63l+81PN8IHwb2E0Djr/HPxSUIAWk9KweV1rsV3U1LRNHkYLqp5pbTV4MsP0bIoDlffU1/Kf5E2HHUeayDtfBLvj+sfvk+IBRIYBlFwYc3q8p1kxzkXX4jPU4Pwuap39oUXoGVBrJAj7JvRhpAoqr+XXV9LrCe+nTASNevf4mhPyb1N3sQb/f+W49e47WbJZz9r3nErfpiRgc9GDMHF19SUMZA0ue31Z1190aRFxZDZGRno7uvruvcOHjwYmzdv1sSFhobGacBhHNq9GBvGvy9WCYxdMTf+AVH6qfyTBKAlg1hWOMkKun9sibxSCAQXUUFrCZIMQlI4yYkYyjlOORuILoe4yisxExps10JgHEy8HP/6m8iLnteK2wgJlgnDbhOrC8bgoHsLdxmhuwgtSY4cOrNc8zZu3OhS8ioDaUEEBgbiiy++wOrVq50pJWCsikcffRSxsbHOFHcEBwfLWM800mLy5Mmu81hRSQvuNlmnTh3nr/8Ga9eudc1DRSQtuFZ78cUXMWzYMGfKyYcmLSzYv38/fJ0L567e3tg3fbrtAluLltMtx0tafDcpGe8P64G3BnVGnUYPuqwnbnyiIT5JcBAYtFR44pfm8v2CKy9zKPhS5iF8mhiAZukhqP3gXa70dwJ8cPeHr7l+kyAwXDCe/K0Vrr67vrhlGPmX1LrKVLaGfJKMuKT21fK9RUEMat17u3z/dsIIaf+twV1w0VXVVTujPEgLWmaQtGiRH4NrnPUoJEzYV5IidR59UNK+ygrHdQ3vdZTRpEWFkiW5uY6dRZzERW8173xQa+JCQ0Pj1OEwDu36F+uL35JgmwuSH8KcuPswLfwuUfrFuqJvHbFkyPC9GmN61sDGCAtZ4bKmMIgKM0FxFhBF+Z+7RNqIWxlnPdZ3ERlmAkMdU9xKHOTFgYTLJYZGpu9V4jZCgoVEy7ghtLq4AzOj7sG8pAexOO0R2QVF4lwcqvi+8lTeqbzys6xnA0lvQ8kri7Qwt2eAugDfGnMnQTsYdSil9YHpZjHA79bjlVbWANPmzp0rYwkNDbUtx3Tmm0kLu7FZYbRlbc+oa00nyso7FrA+2ymrj3T3Mc4jyxHlGZcVx1rHXL6scbLM999/j0suuUTKGXKsOFr/NmzY4JoHg7Q4Wh07HGsd8zkqa1zs0//+9z9xbTreOTgaNGlhwb///ut60xdHtshmYV3RhMqrFofYzc+ZKhzv8ZAWL/zzI+7+4DX8ODsTt7/5PN4b1l0UeJIWH0X0EfLg0R+auawuzrvsEkecCpVOawwSAF+MCsYNjR5wKP5K3h/eA3e885IQFbR2uPTaaySdsSTownHLc4/hbX8f1Ua2EAWXXFNTPuV7Lcd35l1a21GvRUEsat1TX77f/f6reLnrb9Lu5dfXwg/T0oS0oEWFQYzc/9k7eKNfJ7Qak4Cr7qonfaVc2+AefJ0TgaYpw3Cj0/pDSIuH7pHvlY60kOu85LjW7yW/HeVK0irPf2Otupb79erl2hKV8YWWLl16TA9lDQ0NjeODWqDvnI11Y17FUhIWIx8SqwRxBxlaD0UDbxblX3bv8L0KC4dUxxG6gRhkhVhVWIkKE0lhEBGR/2cj1SxiV0aJlchwIzDM1hcO8mJHzBUo7lUDGb5Oq4t+dSTWBYOH0nJkXsKDElh0Rdbj2Lmwa4UlLhh8cN26dRJoksEIJ06cKIErSwtKeDTSgoQEgz1OmjRJ2uMnf7MenzuvvvqqWF6bwTp0XZyjnlV5eXkoLCyU5xMJDusziu2wf5SVK1eKEkcyhOVZlwE3t2/fLmVpFWKUpfAYBlhnzZo18habY+nTp4+rnNklwUxasC/btm2TOcrOzpb+sqxVkWTAT+txWZfzwP7l5ORg/vz52LNnj5RnHssw3gTnjO70x+vKyfPGlxJjxoyRtqZPny59troXmEkLzj/HwbIcF/vBOlSoSwPb43iMueB5ZrDW0ggpzgnPB8tz/OPUmm/JkiVyjq3jpLsOg2See+65EnvDPJflBc8vrxWeo7Fq/TNLrS3txmQmLZYtWyb9IZHFPrKvHGNZ88Dxsl3OGeeB53fTpk2lunNwrDzvHDvHyGuW/yPrPLD++vXr8fbbb0vfunTp4nY9nUxo0sICRq83SIvpo0bZLqorglBhpdK0XymtO6ZPw7ZpU7F16hRsmToZm6dMqhKyRQnHvEfd0LgTwYEZM2ROqgqBcbykxXMdvsd9H7+FpsmBuL7hvXi971+iwJO0aNj8Y6XgBwk5wdgQTD/nwgvwWu+OaBIzADVvrytExIdhfVD7gTvx/bQ0KUNXjOsa3oevcyLxzhBf3PnuyxL48kWfX/BKj/ZybFpRNEsPVX1IwoU1rsC345Ic32teKSQESQtaaLCtFoVxqFm/rsTfuPOdl/Ci9y/4KLyPtNEiP1aCbF5+Q20hN36YkS5lGAuj7Zws1Hn8Ien7F6lqHA/f54y30RPXNrhbyn6VHSGuLAxEWtlIi90TxmJdRoI67zNwcMZ0bMp27Gx0UN0DNmYlY73K2zd5AvZNmYANo0dgXXqCfO6fOsmjrYosW9UDeLBamBnEhY+PjyyONHGhoaHx3+EIDu9dhvVj33BYWIx8CLNi7sOUkDvFOqGg/03I7nUdMrpeI3ErGART4kmQHBDLChNZQSLBbE3hIh0sxETEMYhbXSuBQfJCCUkSM3lBy4vES4RYIcFCqwvuNJLX9waxGGGQTm7VahAXtLjYvWygmgp7he50gcrhzz//jAsvvFDiPtx8880SmPCss85Cy5YtbeMJlEVa8FmSlpYmgS/5hvzWW2+Vz9q1a0vQwxtvvBGXX345GjRo4KzhUPoyMjJwxx13SD9q1qyJK664Aueffz7eeecdUe7NylybNm1w6aWXolq1aiJUlPkWmsc555xzpF8PP/ywKMl0CeG4WI7pPXv2dLbicBm54YYb8H//93+SRwX5ggsuEBk+fLizVAlpcdddd4mif/fdd0s/2T/WfeKJJzzmgQosx8F5ZN2OHTtiqlpT3n777VL3vPPOkz59+umnovDyxS6DY/LYRrsPPfRQmZYsdmBbv/32myj6nEO6VrDNWrVqyTjMz3qDtOCxqKy/8MILruPzzX69evWEyLIjTqhQR0SoNd/VV8uxeE5Zl+eZAUytxAXLd+3aVa4tjp/XwZVXXinz89577wlxYIB9JLHFfrB/nCe2TWH98oCExYABA+Q65DV95513Sj9vu+02j11gzKQFSZsPPvjAdTz2j2MardaodvPAcaampsp4OC7OAz+rV68u1xf7YQWJto8//liuN17HvG4Zb4XHNZMykWptzL7zXLBvvLaNfjEeycmEJi1M4AVIc2QukruoxfIu9We2W1CfbqGydFApq1TUR0zMxhfjYtB0bCQ+LYpAk4IwNM4PVRKCj/LOTOHYHGMMxceF4ZiYNQpr8vOxRSmTuydPFvLikJO8sJu/M0WOl7T4blIKnmzXCi92+RmfJgXghc4/u0gLumA88s2n+DC0t8MSQQmtJt4L6o5G3zWVNpj2TIfvpA0G6DTKNc+LxqM/fInn/morxAaJA5Z5udtvaBzZT74/16ktXu7azpGuPl9lME/1nQE2SS7w+7uB3fDd1DT5/lF4X7QaE49H1bHfG94Db/t7450hPnI8fn+45cf4MMRPylJaFcUJ6cEgo0/83FzIEBITRj770XpSsnxvEt2/0pEW/4b1Rcgnd2Np3DDsLM7HiB9ekvTxfj8h+cfXkfnnx0j79V2sz0hETqfPEdzkTuT+3QxbcitfbJ7d6roOUgs83ovlntyli7xV0MSFhobGf4EjBzZg06RP3QiLqSF3opiERb8bXe4gMwdWd+wGQusKWjQYbiBWssJKVNgREScipREYVvKChIpYXVyGTRFXIq9bTXEX4basRYNuka1Rp7ssLugq8gT2rU1QE1Jx4gdQMaJCRKWWijNBUuL++++XdD4frCiLtODbbCpjNWrUEEKc4Cd/M53KMV9iJiUlSR7BwJ5UnKlgkrwgSDj4+fmJcn/dddeJJYgZfEtNUoB9CAgIwE033SQ+/yQ0mEZl0+jbbLWmo3LIdDNpwb5S4aRiyLyffvpJflPMyqNBWpBwIGHRrl07UWKHDBkipAzzHn/8cY9nKMfwxhtvSD4JAc4pyYusrCxR4KnYMq9t27aySwkDfqanp2Po0KG45ZZbJO/pp58u97OZ1gCfffaZKPlvvvmmEFJETEyMS/HlXBgwSAsqwS+99BKaNWsmY4+KipIYH2yH14X1rT6VdyrkrMt+0rKApATPI4kSpvMcm1FcXCzpJJBoYUHQ2oDHZfrXX38taQTbZz969Ojh6p9xXkbxpXc5wDlkXb6YMcgGBtw0yCAzzKTFW2+9hffff1/Kknx5+eWXpQ77TascK0jQMZ/zxGuX88Btckl0sD1em2aQBOR1wPPx448/ihUHr23jvJHMo8UFwf8Nx0zChW21atXKNQ/HSmYdDZq0MIEn2rCyCBowwHYhfbrFUFRJWGyfMAF/KCXNqmRVNQkYPhjj1c1rvvpTrisqwi4ncWFYXdjN45kgx0tauLYuVQq7QTjQ9YLuHp+ockYahZYUF11dQ4JgmtPPGKmEpEXG7x8iue1r2FaYJaTFoRnTEPzx3dgzsVjKJLZ+DmvTYnBg2mQhLY6chn6eLNmv/seR6qGuiQsNDY3/FIf2YOus7yXoJmNYzI51uISYCQsG21w6rLojdoVhXSFkBa0rjoWsUEvvExZLm2YCw2V5QeLiHA+ri71xV6CoZ02M7loLuX4O4oIWF+IqkvggFo96BKtzn8KBrVTaPN/ang7wbTnfDFNhN4M7TVFRooJlRVmkxbfffutSsMww0kkqmME30bR2oMJGpdeK1q1bSz3Wt8IwmychkZmZKWl0jeAbfL61Nj/PnnrqKSlrJi0M3HvvvZJHcsIOBmlBGTRokDPVgZlqrUillXl0Q7CCxAbzOL6QkBBnqgO0DjHabd68uTPVARIBrMM8Ej3lAa07WJ7jNwgLA/fdd59YLhikEGF2D7GeL7rXGEQPSQ8zSGLQooDjpnuDGd26dZM6JHfM8093H15ntKowg+4rRp+tlgx06WAeLRGOFc8884zUpZuGGbTmofWOGWbSgmSPGbSkoLUK80iimUGCwiC8SPSYER4eLum0RDG7WfH6Y3qjRo2cKQ6wLYOEs16HtORh+rFs13usUHc+DQO8qA3SoighwXYRfbrFrKhuLi5Gu/xol3JVbUw//F9RX4eMMUSlnVHiGJdZqezU/R+MGDAAk9QNa1lWFraqm6ihVGrSonykBS0rbn3pSTzc8hM3pf7Zjj+g7vOP4zW/jm7pZ4yUk7SIVQ+BYidpsUX97zjnB53EWHmE58oQu3NZXiFpManvb2JFMd3/byEtSFaEfnKPuhZmqPZnIe3Xd7A8MfiMIC0otJqK1sSFhobGf4Ujh7FnxVCJ6bAo5WHMibsfU8PoElLPRVjQrWJV8JXACCdhwdgVbtYVTisHg6ywkgq2xMPJEtNxrOSFYXVBtxUj1kXiJRKkky4uo31rCXExhsRF8O2YGX2P7CqyNL0R1he/I9YnFQFUFKnwMx6BGVRuqSjRQsKKskgLWgYwnW/JzTDemj/33HPOFAeozDKdb7KpuFlhKK58g291Ofjoo48kjxYaZtjFHzDiVpwIaUETfuMtuBnGW3W+mbfC2HmECrs1RsiCBQskj8J5sMIgDcxEQ1mgBQjLc16soKuEdfcJM2lB1xUrDCuIv/76y5niAEkMplvnnaD1itGmdScOWljQCsEMWvcY5a1Ey4mQFnS1Yd0RI0aIxYtBiMxQ60vrdWYmLawWIsSXX34peWZrEIIxQ5hOMsjqBmL+j9DKxIBhwcTzYQVdhZj34YcfOlMc0KTFKQZ9wwzSYi1Pns0C+nSLVVH9NS/KpVxdlO2Hm2J9RW6O64pbErqjbmIP1E3qgVtH9Kz0wnHUTeyuxtUN1YpKiIt2nf9AdK9eGBsejsXqpkk3EU1aOMSdtAh3kRZU1CWIZRUXI3Do91PT0GpsAq4rGOw+h2P64lu/TkJajI2IwML0dGxUc01rHlo7kbgwhNY9ZjHn8TxZCQy7c3o0+Te8Hyb3+x2bctMQ2+IJjGzzirSV+O1zWBwTIDEuYpo/ju1FOUJahHx8d6UnLSgkLmICAzVxoaGhcdJxaMd0sSzgLhrzEh7AdO4SElhPdtpg4MrRPldjTYhBWDDYJt1BjNgVZusKJ2FgJhFsSYb/SkzHNYgLCfxpWF0Y7iIXAkmX4EDi5Rjr57S46HMDxvrXlV1FZsXcK+4xtDrZNud34LB9oL5TDd7vqdhRIaf5Ot+kJycni6JExdmKskgLxiJgOncLNINm+ky3vuXu37+/pPPNvB3MCiWfTWYYpIVVybPDySAtrr32WmeKO2jFwHwSFFYYpAXdSKxgLA7mURYuXOhMLYHxFp+uCuWBMca///7bmVI2zKQF+2LFJ598Inm//PKLM8UBgxyhNQNjaJiFbjtGm3SDMYPXGZV783XGGBJGeWsfyiIt6FrC+lYxiC0SLXQRIqHAa5FBWkka2a1tzNeY2X3GAGOEMK9JkybOFAf69lX6kkpngFbrPFDo2sR8Iz4KyRIj5grJFGv5H374QfKs1k2atDiF4AXq7e0tC+Ke3bpVWGXXqqj+arK0uC6tF94O8MF7w3qgcXhffBLvj89TAvHFqOFolhGCLyuxNMsIxudpQWg6cig+jh2Is4pKFMv23h1cSqWVtLCbwzNFrNdCaaTFOwG+MmdfZobhm+JEUdAZc4LKOsmLqi2ZsjPKd5NT0bIo3p20oEUPSYtenRCtFhCFakHwb2qqK37KjgkTsHPSJOycONFWdqm83VMmq/MzxRUo1iAvjvf+sjwpGPNC/OT7xL7tUOjbSr6vH52IzD8aI73d+1gQ4XBtOzh9Kkb9+t4ZQVpQhLjQFhcaGhonEUcO7sTGiU2wLKORWBhwG9CJQfUdu4T0uh6jfa9xuIR4EBZWdxATYSBiJRROpTj7YJAoLqsLk7uI0+JiX8IVyO/BGBe1ZRvX4oBbxcqE1iaLnIE5962nO8TpdROhIjd58mSxhKCS+vzzz4vpet26dUVROlbSguQE3QYaN24s639aPfCTv5lO9wEzOnToIO3QfcMOVPQMNwnusmCGQVpYXVvscDJIC/OWp2YwHgXzyyIt7Nxs6ILBPIrVKoEwzkECLdTLAaMfVKbLAzNpYWed0rRpU8mzkhaff/65pDPWBIkcqxjBIs3uPrwG6D7DAJIMjspYEbzO6K5h9OFYSAu6GT344IMeYlil8Lp+9913pR+MH0ECgdcJLTusFjtm0sLuPLRv317yeA2b8ccff0g6iRG7eaB1DY8/ePBgKW8+zlVXXeVRni4yLM8YFmZo0uIUgqybYWURFxhou2iuCGJVVM3uIddn9MEHoX74JG4QmqWHyA4MrSeOxPdT0uTtOndLqKzC/jPAIi0Fvs6NxlljShTzjl07Ib5PH4k5sJjm+5q0cMltUT54e7A3Gkf1l21KWxbxmkh2XBPT1LxqkbngddU8PwbX5g8qmT+SFkV90LrXn4jt6Y3C4f6YnRiFZaNHYm3uKKzPz8CGgtHYkJ9ukVHYWJCOTYUZ2DJmNLYX52DXpAlynk4GcVGVxc5VRO8qoqGhcXw4gj0rg8QtZGFKQ4ljMTnkdoz1v0WCVKb7XoO5/jVKYlhYCQtaMXgQFlYC4XSJqU9uxAXdRdyJi10xVyCr61XiBkPrkgmBtzl2FEl6EEvETeRNHDm4zTlnpx5UVBkYkgoRlSYqYVT6+NafW5Iy/VhJC8YQ4K4TDLpJKwqa0A8aNEiUMSr9VhcA4y02A1Xagc8gYwcO65t7g7Rgv4+GqkBacHcTlue8lwfHS1pw5wumP/nkkxKnozQxgpnSNcPf31/OI4OPknCgJQ93haHLiNGHYyEtSHzQPcUq1rgodGWhqwgJBJJmdEOilYM5fsbxkha//vqrpN9zzz224zfECEi7evVq13G49a9dWYo5SC2hSYtTCPovGaTFeHWh2C2YK4KURVrckNFHtoXkjhDc1vGbcUmOt+qzRst2knbm8ZVFGIPB/Eb8rDH9XeP+q9vfSNCkhS1pcWuUN14f+A/eD+uNT0YMwRfZ4fi6KBYtihPQcnySFiXN1Vx8VRCDz0eHonbeQMfcCWGhpLAPeg9+D6uH1cWW0FuxM/JW7Imui73Rt2Bf9A3YH10bB6KuwsGo6jgYeRkORV6Ew5HnKTkHRyL+T8k52JP4FLaMzRWrDF6XdBfRpMXxC3dOiggIcBEXfGNGk0rzw11DQ0PjaDhyYBPWFb2MJaMcbiHTwu/C+KG3Ir/fjbItaGHPmjgku4SYY1hUBsLCEFPfPIgLZ4wLWo8kXYqVwdWR7ns1cvyul/gWk4Nvx6zoe7Ew+SGsyHoMu5dxd4HTc49lHAMqQ4zVYN0GkgQB846VtCD4NptBBalEcucPbjPJwJjc6tEKKm9sh4q/HajIGseiRYgZmrRwB3cwYXluaV4eHC9p8f3330u6NahmaVi7dq3LLcI6FhJkRh+OhbQ4GrhuMb90IRFANx5aXfCa3rhxozPn+EkLI+ioNahmaSBhZwRttcaQKQuatDiFIGtkkBZr1AVot1iuCHKspAUDDLadlelQ/u0CEZZD6PdP8uP7Kany+eOcLLF6IIHA7yREjDyWp8k9jytpSiR2gqXNYxUeg+QLj6tJC4eUh7Somdwdd0X64r7EnngwtT8aZgXgkdyheDR/GB4tCNKipFHeMDySMxQNM/1xaZ5z7gzSoqA3WnVvj7WBNzgXf9ZFYWlSDQciLsDauC/kmlxbUCC7juyZMsVlbWEmLejCYfw+PGum6/warh1MO+wMtGnkSRrLetRTbal6Rr5R1mhL8p11XO1I25WHRCFxER4QIIse3rO5LduqVas0caGhoVFOHMHORX5Ywd1CuL2pUtANt5DsXtchUynw26OvFEsEsUgwgm5WGsLCEFMf3YgLZ4wLIS4uFveXqQNqIKNrLYebyJBbMS3sTsyLf0BInXUFz+PI/vXOuTu16KPWd1SGuG2lFcZWqMdKWtD0nnEt6GpSHks9bt9I9w9uGWlXni4FPA7f0lPJN+NkkRZGTArqK3aoLKQFt0xleRJEds9sppnTj5e0MHZEIRllV4+wEgYsT+LCeo6NrVApVtLCyDse0oJW/gx0agavTbqQsE2zRcbxkhbGtcsgsYwJYwfreI2tbLllrB2s54igRQvr2AXvPFlQdzQNXiAMgMLFb3f1ebgCL96pWJxq0uKrrDDc9e7LuPPtF3H7G8/hi7QgXP/w/ah13+34PHU4mudFo85jD+K2V57G9+p4H4T0wn0fv4X6rz+HG59sKP2wa/dYRJMWnmK9FuxICy3HKSbSomW3PxHT9VfsCVWLIttFobvQwmJnaA1MCW6PCTExmJuSghXZ2XKOGOfCjrRYNyoOO8fm4dCM6Vgc7a+u3RnYUZSD9RmJElBzxYgwLIoehI1ZI1W9WdhWlI0lsUOwIikUu8cXSRsMxHlw+jRsyBypyiWrvGAps2tcIVaODMeatBghODbnpsl2qTw+A3YujR+GhVEDsUMd3+hPZRDO4/CBA13EBX2d+VC3WwRpaGhomHHk4BasLXzeYWWhFHPZLSTgVuT1cbiFLAiwxLGwC7pZ4QkLQ0x9dREXtLY42+Huwq1bnfEtuEtKVs/rhLzhNqgkc0jqkNzZtdTfOXunFowvQGXIqnwyjsQ333wjeTSnt977zUqeVTGkyT8VOW6ZSqXcEAZJ5JtmazwB5nH7TLbFnSfM4HENYoWKmxXvv/++5P3+++/OlNLBWB0sa42pQRgWCqW9yWYgRebbBdMkDNLCujsHYWwdSxcCK8ykBZVsKwzSIjY21plSNkgO0JLgsssuE+sGs8LM80t3DZ47A7RcMY7PmBNWGKTFjz/+6ExxgIo93S2YR2sI87XDc8ZAm+ZzSYKAZVnHfBxeC3wxYsQssW5Pyu1kmU6yozRSoDTcfvvtEtjSeu0yrgXbpPuTgTVr1kgaxe48GKQFySAzGEyUcSiM9szXNo/LuBrcrcQMEkAc77PPPivzZO4f69PyhEE5zXjttdfkGNbgticT6m6mwQvBsLKIHDLEdoFcUeR0kBYPNvsAr/f5S9rgFpitJ6XgrUFdcPOzj7rafeTbz9CyMFYdNxI1b79VrC2Y/syf3+GL9BC39o5HNGnhKdZroY0mLU6emEiLb7p3QIiPD8b6f4tD4WrharsoLJHNw69Gsvq/pA4eJME7pycmYklmJjaMGSMuIgzKaSUtpvT/AzP8O2P96CSEfHI3NuWkYurAjpg2uBMm9f8dab+8jRlDuiDqq0bYnJMmW5+ObPMyRrdvjKyOn0gb3PZ0c+4oJHz7nKqfgqmDOiLpuxewb/J4JP/4OqJV3d3jx2DKwA6YG9wTu8YVSNq4Xj/Jcdalx7v6U1lkr/qfB6gFrUFcMLDXli1bPBYAGhoaGmbsWRUmsSyokM9UijkVdNktpMe1yOl2FQ4mmt1ClGJvbGta6QgLQ0x9FuLCcBNxxrcQN5HLsDiQbiLXCHlDEkesLRJobeGIbYHDnltp/tcYP368KIQ0WedbbSrRtKKglQWVfCrAVLDWrVsnChWVYO7aYLiOUKgoM81QkPm2nIocLSMYZJFxFii0ZqDSx5gZ1q0/O3XqJP148803Ralme1ToaMVx4403SjyM9PR0Z2kHqcK+Gm4d3D2E5a3tElR2qQSScGBZxkJgWfO2l82aNZM89o/kCo/PelTGWZaKJvNJBtCtwKrgG6QFYxywPOeC88Xvxk4bdJfh3JrrmkkLvrW39t8gLfgMZp+O9vxlfxs0aCDnk9uVMqA2zwef3XT/adiwoWzLapxHg4yhkCCwHt8gLag0k3AykxNt27YVt6I6derItcOxcZ5JYjFmBesYIMlB8ottUbnnuNmn0Uqv4A4kBmlFEsV8Xth3YwcOXnPGdWEmY+zAeeJWvewb40hwXDyfvLY4PzyPdFViObZpbO9L4XfrXBukBc+zeYcSgiQY47cwVgf7SOKF80Dyg+snXvdm8Li0KuL/iqQKf7M862VnZ0s8mJycHGdpBzifPP4rr7zidn2eTKg7mQZNjwzSIjcmxnZxXFHkdJAWz3b4Abe/+Tya50ahzYwMSePnhTWro/WEkdL+vR+/KemP/9wcDb78yK3+yRBNWniK+VrYrG7GbfJLtr/VcoLiimnRG9/7/Y2onj2RNngwFga/gyMRarFnuyh0yP7Qc1Hc7x0k9/NBzrChmBwbK1ulrisowHb1QOb5onuDOa4FLSFy/voCM4d6C0ExO6g7Mv/8GKtTY5D43QsuQqG4xw+Y5v+3kBYkLEhssBzzSFpkdfgUUwd3kt/LEoJUmY/kO0mLMd1aY0LvXzB5wJ9CWswZ3gM5/zTDngljpf3thdlStrLJzilTMNDPD52d93AGU+NiQ0NDQ8MWh/dj48QPRRGfl/CgUszvEneIvD51kKEU9hXDq0ucByRY3UKshAXF/jlQMcXZZ5e1hdlNhNYWF0sMj9xuDMp5HQppbTHciG3RUEiefRtSnZN4akGLCr4B5w4ItAagssfAhVSO6A5BpZGK5cSJE0XBYuBOKoNMpzCAJ5U6viGmosdnBOMhMY/tXnTRRSL8TiWXyhd3FDSDyjCJA7oB8A052/vuu+9w9dVXyy4LtAgxg0EcqcAZfaB8+eWX4vphVeZoqcGdKoxyHCfLmt0DqHSTaCFxwnYZHJQWElSiOT/sv1H/scce87CoYEwD5tGVhoooFWUSQlQ2qSAbdWktYo6bwbky8jinfM6awV0kmEf3g59//tktDkNpoLJMModED+ebZAlJAc4/zyuPSRKBBAvn1jg+5916Xr766itXPncM4fakBkguMCAnyQjOG+ePY+D8MpYJ4xmawWuCZangk8S65ppr5Pqi9Qddd3gMum6QyDCDLi8cC9tnLA2KnTWEFdzylMcjcUZrDl4bnBcel+4tBIkW7l7D/hrj5BhYl+SIAV7zRj53JCkqKnLmOAgS9olzzLHxGqALCOeBx7Jz7SksLHSV4TkiOcXrhP1l+2bihuC883/JeX7uuefk+uR67GRC3cU0yFgZpMUc9d1uYVxR5HSQFiQMHmreGJffeB2e+v0btJmRLul3f/AqXvRthyZRA/CS76+S9uDn76HRD1+41T8ZokkLTzGuBY6V8RJ+KYjBOWpezh7TT4Tbwp6lFG8txymFSgr6oN3Abhg5YAByhw8Xy4mNYfc7F3/WBaG7bAu+GhMCf8S4iCDMGTkCy7OzsVH9Z3cYATlNxMW+yRMQ3+oZZHf8DEvihiL372aIa/kkDkydgsTWz2PtqDhVdqaQFtOdpEVsiycQ0/xxrE2LleuBpEXqz2+h0PcbiV9Bt4/R7T+UPJIWG7OTpc0i32+FtJg9rCsKfVphxYhQJH33Isb7/eR2fVUm2TJhAvqph71xHx86dKiYRGpoaGhYcWjHRKzKeQKLUh7G7Jj7JOgk3SHoFpHd9SocNgffpEJvdgtxkRVHfwZUTHH23c1NxLC2uFDImiXDqiO9ay3k9a2D8UPqyU4i/yY2wLKMR7Ft9g9qBk+PJRutJT799FNRmHr16uWyBggPD5edpCh8U8/AzMZvqzD4JpVqEgRUAmk9QXKBFhKUqKgoiQlA6w0q0FbFjGBgUJIVb731lgR5ZBskAKwg4WDXB4qVtKCyalfOqkzOVuuF5s2bi7UH5yIzM1PGbFfXGo+AJIY5n4o4FVtzmiHmuBfsqznPav5PxdScv359+WKfkAQKCwsTUoHjIflACwfDQoEWLOZ2DSGxYAbPnzmf58cKEj4kFnjOOG+9e/d2U/jNIJFBS5d33nlHiAFjLUErE+MYnHczSAqQZOC1w2PQwoNWGuUBibZWrVrh7bfflvpcw5CoMMDr1Tw+s5jHwK12zXlWQoagpQrJC/axSZMmQgCV1U+2TzKO1j3sX+vWrd3IECtowcKxsH2e15SUFGfOyYG6g2mQUTQWuxvHj7ddFFcUOR2kRetJyRJMs/XkVFxzz+14a2BnSX9/eA/c/EwjPNzyE7SeMELSnm7/Le758DVX8E1+6kCc/42YSQu+wY8sSMFnOcF4P80fb4zoj5fie+O5qB54JqIbnoroKvKkU4zfWhwi8xLu6/r9bGQ3PB/TEy+rORw0tD9yg4IwITparCYmRwViT3gty0KwdFkfphbGsX0wPyUJK3JysEHd8Hm+9qj/sHkLVBILyW1fV+d1FpK+fxFpv74j53lin19R6N0Cq5IjkNj6OazPSMD88H4o8GmBhZEDkP1XUyE0wj+7HzuK84WY2JA1UiwpSGIcmDpZPrcXZWN2UFeEN30A80J6iQtJXMunhLSgiwiPY73GKpOsU/fD3t27u+7lXMjameFqaGhUbexc3AfLMx/D/BENMCPybowPrCc7hoxWivr8IcYWp4aVhbFbSGV1C7GKaQwuaws1PrrAOK0t9ktsi6slIOmYwbdgcsgdmBN3PxanPYI1eU8Bp3H705MBw4ydLyxLA83fWYYEiIaGRsWAuoNVbZDRYwA3LnJ9vL0rvKJ7OkiLuz94TYJt/jA9HQ80fQ9v9O0k6W3nZOGKm65Hw+aNXWW/zolE9bp18JX6/H5KGr7OjUKr4kRX/vGKJi08hdcCx0jFlwEeN44Zg6WZmRJDoSgsDKOHDBELgYS+fRHXuzdi/fxcEqfFTdzmRc1VYr9+SBk0CJlDh8pcTo2Pl4Ca89PSMDs5GbOju+JA+EWmhSADcJa+kD0cfhZWRX+C+SNDsHT0KKzNz8eW4mK3bVDnhfbBrGFd5bzOHOojwTF5nrmzx3T/Tij0aSkBOZm2JjVGiAcSHMU922JbYTaKfL/B/qmTsSxhmBAWY3u0kTobRidJfIs9E8bg4PSpUm5VSqSznWixtiApsjolynVtVVZZUVCAXt26uYgLvumye1OmoaFRRXHkEDZNauJ0DXkAU0LvxFj/usj1uwHp3ldjT5xzxxCbWBYHw6phV1A1bAushu2BXtg9XN3bw0ru87uCyif7gt2fD5TD4Y68/SGeeYZY2zFkj+rHgVD3sodUv+zKOsQxjl3DKWpc6vnkFttixGWYMbAGMrvVRmH/mzBxWH2J+2G4iBzYnOWczMoJuk6QkKClgR1oAXD33XdLvIvyuDpoaGicGqi7W9UG/aaMBW5g//62C+GKJKeDtHgnwEeIi6fatcL9n70LbnNq5D3W9ku8PaiLW/n3hnWXXUPuafyG7DZCosGcfzyiSQt74RjpZsDrgW/v1xcWYllWFv5NTcWMJKWsKmV7UmwsJsXEaDkGmRwXh6kJCZg5YgT+TUvDUjWnq/LysCY/X9w8SGAsjmqFwxFqsWcsKIMvxp7Q83EknCbE7gtIQ/ZFVMfS+PZYmJqAFTnZYnWxTZ233er8GQE6eU75P7c731qOLgvU+enm4+O6r9NE0hyYS0NDo+riyL5lWJXzJBan0gLuPonZIK4hPa7FmF5XKYWdriGmHUOcVhZ7gqshu301fP1MNTxWzwtP1fdC25e9MM3bQTgcUfLxo174/AkvtHjGCy2f9ULTxx1pXz3t+N1cfX6qfg/6wvPZsLSPo2xYK888Ctv/9nkvfKHaZzm2zTZbv+CFzu97IflnL2wY7CjH8nO7O8o1e1L1R5Vj2U/Ub6a1eL4aWipprsby+VP/h4KOztgWspMIXUQuwdqw6hLfg3E+xg25VVxE5ic1wLLRj2LH/M7O2aycoOk/AwyS1KaLCZ8PfIHJT1rn0ZWAfvkM8qmhoVFxoO5uVRv0vzEWtykMPGOzCK5IcjpIi4ogmrSwF+N6oLXFnilTsEMpwLwu1hYUYGVurijYVLi5e4WW8gvnjHO3Ss0hA2hyThk3hEKLFrp5zFYLnnWRL8gWp1wkLhh8D2K9v8HqwJtwMPycMi0vNkU9rhaAQ7EkIw2r8/IkkKrL6sJEXGjy4vhkckoKfLp0cd3bGSDqaJG8NTQ0znwc2JQp1gILZdeQezAh8DYU0DWkW23MH2rnGvI/HIn8P/g2roYLz6sGn4+qYWU/L+S298JttbxwwbleWNLHC3uDHVH933jAC0ltvZDezkFsMK3rR47fgV974forvfB+Q89nQqd3vXDW/6k2r/G0mjCEx/nsMUebT9zmhcIOXkho44U2L3nhyosc/Vmm+sayGep4/1Pt/fiKF9J+cRz/ygsdddN+9cKodtXg/WE1XHpBNQz+2ukiIgE5zxcXkYOJVyDD92rk+F0vlii0SDF2Edk85TPnbFZOTFFrJQbPvO6668SNkMEoGQehQD3rGa+BQSEZfJFBOzU0NCoO1N2taoMBRYyF7URG6bVZAFck0aSFJi3MwuuB46RQ2eXbel4bJDB2Tp4sijADP+6YOFHLsYiaM87dLjWHnEvOqcyrkp0qn8QFSY1ZSXHYGVlXLRKrYVngfYjq0QMR3btj7IBPsD3kKjdLDKvsj7gUi+P+wPyUBGnLbHVhjnWhiYvjk+zoaHg7iQsGpaJvsnl7MA0NjaqHnUsGu+JZ0Hpg/FDHriHc5nNT5JViZYA4khZO15DI/2H7sGo4+6xq+OQxdyI6XSn/F53rhZz2Xtg21AvnnOWFTQEl+Y0fcZAEuX+UpA343AtvNyj5TSFJUe8aL7HgYPmxndzzzVLQwVHmHUsbA1W7TP/kMcdvWl7cX8e9TK3LHWUcLi2OuBZNHq2Gfk1NATmFtKCLyOUY17umWKAUDbpZgpXOjjXiWjwNHKnc8YJIUrz++uuyGwV3FiGBwe1GuXPG33//reMhaWhUQKg7V9UGI/MapMUyRlq1WfxWJCmLtLg+ow8+JGmRGICvMsPxzdgEfK+UfG5P+uPszEotbWeNRpvp6fhuUjJaFsSeNNKC82kWuzJatFCM/x6vLRIbJBkYQ+TfRH8ciLwca0MeRHpAAEZR/P0xanB/LAp6EfvCLylzm9QNUS9gXlIQlmSM0lYXJ1E4X/FBQejSubPc37lPOfc/18SFhkbVxY65v2NpxqOYl/ggpobdieKAusjtfQNGeV8tASiRcAkQ775ryIR/quF//1cNv7zmTlpsGeKF2O8dLhmMcUH3C3O+HWkxuYsX/n7PvRyJiGuv8ELKT16oVs0LrZ5zzzfL2L/sSYtZ3RzpN9V0luvkBd+P3Mu4kxaUagj9phoSf3QG5KRliRHXIukyzB5cA5ndHXEtJgXVd2x9mtIQK7OfwJG92gpBQ0Pj1ELdtao2Bg8eLAvazmphy7eodovfiiSG4mRHWlyb0RtvhvbEe7ED0CQ1EJ/lRKDZ2Dh8NT4RX08cgeaVWNj/L8cl4IvCGHySFQpu52mMu2PXTojv3RvF5SAtDOWPwnyrGHnWelq0UHiNWGOIkLhYmdQRm6Melx1GxjuF1yO3SC0K6oF1IffhYLhaBJfiMsJYFwvj/saC1ES3HUZ4HG11cfxyQM1b0MCBcn/nfX7AgAESx0jjxEHyp7yioVFRsHnKp+LiMDf+AUwNvQNjB98iu2TkdjPiWXCrU1M8i6j/w/J+1XDu2dXQ4GaHRQVjWNjdx61iR1pY5YgSxp346RVHgE66edS42BHk0658aaQFY1gw3WpdYRY70qJk61NTXAvn1qfLg6ojo2st2VllwrDbxJ2GbjV0rzm41XM7RQ0NDY3/EuquVXVx8OBBMRvmYrZvjx62i96KJlRazKTFryQtxvQVqVbUF2cV9MXZhhQa0g/nKCW/skvJeBzjNaS9dwfE9OqFseHhWJyR4UZaGEqeQUYwjfNH4Y4NVAgPTHfs3mCka+VQS2liXEMSQ8RJXJBgINGwKqWn7C5iCAN4Mu4Fg3pyB5IZwd9id3iNMq0u1ka/hXkjgrFkdLrEJWEMjV1Tpmji4gRklzpPA/385D5PCQkJ0aa/xwEzCcH4IGZhADs7sZYzt6GhcTqwsfgtLEl7BHPi78eUkDvE9SG753Uo7u0kLWhlYAnCScX+1ftobeGF1+7zwgxfL+wc5tihw+4+bkh5SAtaaFxxoRemejt+M4gn6zBWhbUsxUxa0MKDBArdS4Y398LZ//NCx7ft61E8SQuKQVyYSAu6xyRdivXhjmCc+X3rYPzQepgReQ8WCGnxGPatT3HOqIaGhsapgbpjVV2sXbvWtZCNGjLEdsFb0YQKC5UXKkz0q/81NxJeRX3gVdBbiR+88p2S1+vMl3yKH9p3+VO2qxwbEeEgLYqLhbTgPBlKpkFWUPnbN326xCnYPXk8dk/Mx97xyUICMR6EQV5oxVBLaWL8B4W4UNcRiQu6dNDqgruLkGwwhIE8l4wejTnJybKLy9iQQVgfej8ORZRudbEnohYWxPlgYdoIqc+2uaWtsbsIj3+miN38/heyQc2hX/furvv9qFGjRKnWKB1mgsEgHThnJPsZcZ+yb98+IYAoe/bscRMjnWVYllvPsq6ZzNAEhsapxWF1j35W4jIwPsOk4DtcO4dM7FOzhLSIdZIWdA9xkharB1bDw7c4Am/+XzUvNHnECxP+cWw3ancfp5SHtAhp4YV7byj5nafKsv23HizZCcQsBmnx0j1eWNHPC/N6eCHlZy/ceo0X3lZ19pbRnzJJC7OlhZAWl2Bz5JUS64MxPxykxd0SC4QxQfasinTOqYaGhsapgbpjVV3MnTvXtYjNio62XexWNOFCn4o1lSWSFj9nR6BaTi9Uy+yOauldUS3NB9VSvVEtmdLlDBY1vhQlarwdevyDpH79MD4qSkz1SVpwfgwCgp8GUbFr0gRsH1+AbUVJ2JX1Dw7G34XdGd87AiBOnuwgLlQd/UZbS1nCa8MgLkh4MWAnd24hgUHhd8q28ePFIoqxKhZlZMg2tMUREZgb8hX2hF9RqtXFkfBqWBXVGP8mx0iQTv7XGUeDZCWvUR6X13VlE84ZxSASTyV5MV/No6+3t+uez0BsVJw13GEmKswkhUFM7Nq1C9t37MDWbduxecs2bNq8FRs2bXHJRpHNIpu3bMG2bdvEJWfnzp1Sl20YRAbb1gSGxn8F87Us19ihPViZ8yQWpj6MmTH3YULQ7SgYcDMyu1+LKf1q4sgI7hxiIi2oyDtJCyr3B0O90OczL9x5rRcuPNcRf6LTO17YE+R5D6ccjbSglcRzdzq2LN2l2qDsCPTC1Zc5gnpu9PesY5AWl5zvhbuv90L1ix2/ezTxLGuVYyUtdsRciXQfkhY3YNyQeo5tT52kxc6lQ52zrKGhoXFqoO5YVRfc5shYwI6vBDuHUKykxUf5obi4sD8uzO+HC/L64Py83jiPkusncm7OmSfG2DhOjve1WD+kDR6MCTExEtOC80IlksqkQ6GcpBTIMdg2djS25QzE7pFv40ikWpCoB/be6LpqEZOFdYWFomDuVvNKhVCTFlrKEkPZFlJMCYkEWvcY1xy/G79pJcFri24kJCDmpaaK1cW4kD7YFHoHDoU7rkWrcCvVJRFNxcVkWWamWHLQXYTkBdvkNV6ZhP8tyl41L2arplP5XytKSHDtKOLj44NVq1ZpRdkJs3JnJipINGzbsRMbt2zD2o1bsXj1JsxatgkTFm5CwdyNyJmzCWkzNmHk9M1Im74RWTPXI3fWOoydtxZTF67FvCWrsXTFGqxcvRbr1m/Aps2bsXXrVuzYsQO7d++WY9AKw2qBoaFxPLASFWbibd++Hepe+gTmjWiIaZH3YlxgfeT1uwmjuzlJi6TLcKQM0sK4N1Pp92/mhdpXOEiA/k0979+Uo5EWy/o6yInGjbzQ+oUSISnCetxpxFrHGtMi7BsvnPU/L9x3gxd2DPMsb5aTS1oEOmdcQ0ND49RA3bGqLrKyslykxRyl7NotciuaGKQFrQL4Bvf1wmBXQMqqKk/F9kRinz4YExYmCuGaggIxqd8+oRhbi3OxtSAaO0b9hIMxtU0Pai8cijgHC+O7Sp1l6lpYz+CHSiGkosk5tr4NPlWKlZbKIcY1wWvEIC8MMSwK+P2AUtB5TXFHEMZboQvJwvR0TFMKdE5oCKYEvY+tYRer67FkUczgbKuDr0VSwEBkR4Zh/IgEzBo9CvPzsrGoMA9LivKxdExBxZexhS5ZpmRFcRE2jncQL7QaIUF4qomLuGHDXIE5+/XrJ1YAVRlWsoJWELSG2LZ9J9Zv2opFa7Zg/KKtiJ++DT2K9uDPnAPHLH6FOxEzcR3yZ67CzAXLsXjZSqxavQYbN24UAoNWGDymnfWFhkZ5YCYrzEQFr6vdu3di5/at2LFtExaOegKzYh/ApJC7UBhwG7L73IRRXWujuHdNHE66HEfiPd1DDqt78/bAkvuzISQQ6Mpx/43u6YYcjbT45z0vPHmbFxJ/cBduX8r4GY/UtRIMnqQF5ZnbHWneHzisN8zlzXIi7iHjXO4hD2FF5mPYvSrGOfMaGhoapwbqjlV1kZSU5CItVhQW2i5wK5pwYW+2tHitYLibAl9tTNUQ85gbRfgg2Nsbo4cOxfSEeCwdnYp1uUnYPLoH9iQ8pRRAz8UGH9TLQ56XAImTY2MxLyUFK7KzhQjaoZRLwwzfeBtsKFZWIsPuHGmpWmJcC6UJrxfDGoOWBrS6oGUP46/0ihuGR4M64/XBLVEQXAt7ws8SwmJL2Dl4q/cnaDDwdzwS0hlPxPfC02kD8EymP57NHYrn8gLxXP6wSiUv5AfhRXW/isxLxjpnkFHexwzignNlN78nW3geAvr1c937w9Q9gIp6VYMdWbFr925s2rody9dtRfHCbRgyYRf+zNnvQUKciHTI2YeAMRuRPW05Zv67BEuWrcCatWuxefNml/WFmbwwlFENjdJgJitotSOuTCQqtm3Atg1LsXVZEbbOi8W2qb2xMe5GCTC5IeRS5A6oi7SeNyLFuzbyutXEwcTLcTj+YhxxWVo4SIsFftXwZP1qEvDSvI5gzInqF3nhuivd0w0pi7Q4EOKF267xQsz3nnmUu65z1P23h3u6HWkx3dcLF53rhfPO8SxvFk/SwklYiFhJi0uxrtRAnI9j34Y05+xraGhonBqou1bVBaPIGwvXrRMn2i5wK5pwYS+WFmqxT3NzK2lxaXpPXJrRE5cpuTzDD5dnlsgVWb0rrZjHcakS85gfCu0M/44dkNK/JyaFdsXSyM+wI+QyiextF8iKsj/sXGQP/BNZAX4YGzoE0+IisSAtGatys7FhjFrgmMzwxaR96lSJi7Ffzb0dkWFWUu3Om5aqK8Z1wevFIBxJXKzJy8NPKcPgFdsRXqG/oVpAW/wZ+DDWhp2PNgGPwWvAd/Aa9hO8ov6AV3JneGV2dwTZLerj2DnH9B+oTPJXRrhYmtDiRLZ1nTZNSB3+j+zm77+QTWr+zYE5MzIyROGpCjBIAEPJI0FAooBkxYLVW5E8azv+yTu5REVp0jl3NxLGr8SkWQuxcPFSrF6zxkVe8A252W1EExcaVpivZYN4271zO3ZsXontS7Kwe3w7HEysY7sGoIz2uxGJPnWQ+E9tpHSuiX3xl+MQSQvLlqeBX1fDWf9XDQUdS3YMoUXDuoFeOPv/vPBBQ8+2mf/uQw6SYNSv7msRfieRwd0+uAuJuZ6R/9c7jrrt3yyxnjDqMf31+0vSKb+86rD6eP5Oz21ZSYSz3zUvddTdHeRIKyEt7Lc8XTrMsuVpVAlpcWjbGOdZ0NDQ0Dg1UHetqouBAwfKgrWzEu7nb7e4rWhC5UdIi8mTbUmLl/064PU+HfHWoM54b1h3fBjaGx9F9EXjqAFoHF2JRfWf4+B4Xg/u5jbmBiGdMbjdF0jrWA8zu3phrVpI8KFcFmlBoQXGjpAaWBPcAEsjmmBpXDssT+6FlemhWJM9EuvyMrChMBebxhZJcE8G6zSIDCqeBpEhQRE1iaHlKMJrgdcGrxfGeKCl1K+jw+CV5g2vhE7wivwDXsN/xS3DvkS1IT/Ca9gv8ApvD6/Ev1QZH3hl93DsElTJSYufk4ZiSlycBCblHPBedjriyPyblYWupsCcs3j8M1wxNhQ8Q8njG2m6gSxbvw0jZ+5Ax3JbVahy2ZR9SvbizyyTSBqFbZWvvU65+xBXvAyTZ87DwkWLZWevLVu2iNsI+6itLjSsMK5ll3XFnt3YsWUtdiwcif3pT9o+862S1vU6RP9TB7GdaiOuw1XYHnUFDsZfgsNxFziUd7qHKGV+TvdquOayanjwpmqY0kWtMQZ5YVY3L3z8qBeuvcKxBaq53W1DvDC/pxdur+1w8/j5VS+s6O+F/cGONQl3/XjlXi+cf44XJv7j2PbUXH/1AC+0eclRt051L8zt7oW9qu4qlc7An0y/5SrHziEG6cF4FrfVcsTI+P5FLyztU9Le+sFeKO7kiH3BurHfq2OodZIHaUGiJvY8RzDSEZdh5qAayOxeGwX9b8LEoPqYFX0vFqU8jFXZTwD7ljrPhIaGhsapgbprVV107dpVFqs91KfdorYiChf1ZZEWbwzqjHeDuqNxzAA0TQ3CV1kRaJEfg5ZFcWg1Jv60CI9t14cWhbGOdFNaaWK08VVWOD5MDXQb80NhXTC4/Q9I7XgHZnY/D2sHVisXaVGW7I+qja1xr2L9yF+xZlRvrBodiTU5KViXN1rNe54bkbFz4kQ5HyQyGHzRbI1xvCSGubxZ7MqeaWI3bopd2comHAevCxJem8eNQ7ucSHhldYdXuq/DmoLkRUwHeEX96fhMVL9TveGV2Q1eub3gVUjSovISFpRvIvshPzgYs0aOFGsLEoF02TjVpAWlMD4eXZyBObt16yZv+c9UWJU8Wlds2LwdhQu2oXP+PlsywSVCUOzFn5m78UfGdvyRugHtR65E+4TFaB87D+2jZ6F95DT1ORvt4+fjj8Ql+CN5Nf5I24g/Ru/En1l7HETGUUgM79xdSBu/ADNnz8OyZcuxYcMG2X3EsLowCBdNXFRtWK9lcQVZOwv7Cj+zfZ6XJqk+tRHWsQ6i/roWsR2uwoogJ2kRe6GTtDjb4TahlPoxf1XDy/dWw53XOYgEum988LAXFvl5tvv3u16yPapVpvk4iAtrek/Lzh8kNKxliv/yTKMEtyipt7yfwyXlifpeaP50STq3TzXXeUTJo/WqqTwzaXGWg7SglYmQFpdjrF9N2Q62aNDNmBx8h2wTuzjtYawteA44vN95NjQ0NDRODdQdrWqCZoTGGzb/vn1tF7QVUbioL4u0eHtoV3wY3gdNRwbi69wofDs+Cd9NScUP09PRZnoGvilOFBLg23FJ6nuSyh+BNjMy/lNpkR+Ld1W/vlYKmjm9aUog3h7cBd+r/pnT7YT95zi+Uf3+NDfCbcwNw7zh37Ej4nr3Vg/Xllg+uBZ2BZ19QqSFVWhKuS/qBmyJfxPrk3/HmlF9sTozGmtyUrGugC4lBdg8dqyY/VMJc5EYhktJKZYY1nNLMcposRe7uasswn4bpAVJr3Z5UQ6Xj5yeDmIi3Rf/l+yNs5I646wRSlLU9/RuOCurB87K9cNZ+b1xVkEfnFXYt1LI/9lYhHwZ3BNp/v5ibbEiJ0dcREj2cV5O9Xnl8SKHDBFrOz4Lhg8fLm/2zzSYlTy6g+zYuQuL125D0CTGrLAnEERINJCoSFmP32Pm4rfAXPzWLw7t+8fhz0GJ6Og/En8NScHfQ9Pwd+Ao/D0s3SHqeyeV9ldACjoOSUWHsHHokLQEf4zabCIwbI7nlCH5q1A8ZRbmz1+ANWvWiNUFdzHR7iIa1mtZ3EGW5eNwwnW2z25DuBvT4YizJAD3gbD/E0nvWguhf9VB9F/XIbbj1ZjW/0ocjL8MhyUY53lKiT/bYYFApZ7KPZV8EftjVC5xjoXjEteQsxxEDa1MEi7B/oQrkO5zFXL8rsfYwXUxNexOzI1/AEtGNcKWaV86z4aGhobGqYO6c1VNMGq5QVpEBATYLmgronCRXRZp8U5gNzSO7IfPU4PQoiAW301OEaX/x9lZ+G5SCm577VnUrH8z7v/sXdz1/ito0OwD/DgnC21njcZPzs8fZ2fip7nZIkYe67vSVL6Ud/6WfFXux1lMd9Q1t/PDjHTc+tKTeLXnH27pJE4uuqqGECnSls3xDeHxOY7Wk5LRtCDabcwPh3vD/6+/EN+nD7KGDUNRSCCWBT+HPWEX4XC4WmzYPrBPXLgI2h1zJzYmNcfq1O5YmRGJ1dkpWJefVUJiOF1KhMSwuJOYlXDjOxU3nl+WYVlj68wqLU7iR+ZNiUH+cN5OtZJ7osL+GqQFd7j5laQF3T3o9uEkL64K/wv39PwZ9/b+FfcPaI8H/TvgocC/0TCoMx4eriS4S4WWhsOVqL42UH2umdLd7b9K+XSoL5L69cOE6GjZtWfr+PFynk8HaUHZOWUK+vTo4Xoe5OTkiFJ0psCs5JGspzvIjOXb0aUs64qsvfgjfSt+j/0X7Qal4bd+MUJSkIT4Z1gGvENy0DWiAN2jxqBX7Dj4xU9A74SJ6JMwSYTf/eImoGdssZTxDc+Hd3C2qpuOv0LHoMPIFfhz9I4yyQuf3B3IKp6BWbPnYMWKFWIFQ3cRKqqauKi6MK5nsRbatRO7Fo3EkZgLS31GH4w4F3siLse68NuwLPJRzIp8B0V9rkV2r9qI6XITopXEdb4eCX/XQpZvDRxwBuMUiwNXME4SFwZhQfE8VuUS5zgMKwtzEM54RzyLVSHGziHc7vRW2e7036QHsXz0o9i5qLvzbGhoaGicOqi7V9XEkiVLXIvU5NBQ28VsRRQu6o9KWkT1xxdpw9GykKRFKtrMJKmglP95OUJo3NDoAflOef6fH9F6UgqaxAxAi4IYfBw7EJ+NHCokBPOb50bhk/jB+GJUsPwmcdA0OVCVGyRkw49zs/FJgj++zAzDZyOGSDutJyZLnU8TA9CWBISq99DXH+HFLj/j47hBUl/IDZV+1R23ivUEv5NkaaKO/8Wo4a58Q9h/joMkTNPCGLcxk7QI6NQJiUoRotk5laFxUVGYHPoPtobdLG9WrAuNA2FnYXfIhdgXdp76fg4OhZ+FwxH/kzgX5nLHIkdU/Z0x92JDUiusTu2JlaOjHCSGWGIUlriTGDExlKJmKOOUvdOniQK1Q53bbRMnYosqy4CBm8aPq9oyYTy2THSSP2p+6ErA/4BBXNj9TyqqmEkL7lQjpAWtEejy4SQvbgzqiOf+bouXurbD67074q2BnfHOEF+8N7Qb3h/WXUmPCi3vBXYXyypaUdVJ8iQtmgR4i1VUcUQEloweLUFvTydpQVmYkwMfU3yLhQsXnhEKsZWw2LJtB8Ys2FZ67IrsfUJW/BYxA786LSo6BoxE56AM+IbnoWdMMfokTsKA5OkYNGo2AkbPw9CsBQjMWYRhuYvdhGlDs+bDP2OuKjsL/UdOk7o9Y8bCNywPf4fkomPSYvxJ9xGJf+HZn07ZezCycCamzZiJpUuXyssGBunUxEXVhDthsQvbV07A4bjLbZ7H1XAw4jxsDL8F4yOaIS4yGLGxsbJjXGpqKhIHvYDYnncivsdtGNGjLpK73Yhkn2sx8u+rsC36ShxOuEQp70ZcC5O1haHsn8A6oWKIcwxW1xDumuKMZzF1gBHP4kZMHFbfLQjngS0FzjOioaGhceqg7l5VEzPVAtlYoObFxdkuZCuinDBpofKua3ivKP8Upn03MRk3PdkQt732DF70/hlX3Hw9mo0KVvUycEOj+/FxzEBc7yQ6XvL9FXVffAIvK4XqRlWn7ewsNPruc9R+4C48+9cPuO6he3HHmy/ghc4/o2b9W4QEYT2SFrc886iks+wHIb0k3SAtvlf9rHXfHXilR3vc8OiDaBzZV/INORppMfTvv5E8YIAoQjPUwoT+8lPj41EUFooFIe9jT/gVQioYD+2twy9HwJ8/I8H3a4zp+wYWBDTE6qD62Bx8LfaGXYwD4efjUPjZJ0Rk0BR1Z8wDWJ/UGqvT+mBlZjxW56RjfSFjYoyVN8xUxBkTg0TGzAmFSC3OxMix6UgsHIWEgjTE5acqSUFsXtUUjp1zkFCYhllFuUL8cM6o5FZG4sKWtOB1TOLCSV7cFPYPXur6G97o/7cE020c3ldIwk8TAvBZYsWXTxP8hZxsHNEXN6f2dvuvUj4a3BnRvXphTHi4bPtaEUgLSm5MDLp07izPBD8/P2zfvt35tKicsCMsMuftsCUHJNbE6F34PW4+fu3rICv+CkhGl+BMdI8qErJhYOpMBGT+K4RESOEKhI1djYjx6xA1YQOiJm1C9KTNiJnskGj1O2riJkSqPJZh2eDC5VKXRMeA1BlijdEtshCdw4vQMXUNJGaGXd+y96l7wCxMnjpNXjZo4qJqwriejQCyOzYswsHkuzyeu7Su2BlRE8XhXyMyMhIJCQlISUlBZmYm8vPzUayeIUUp7ZE55D5kDr4LWQPrI6vvLcjocQNSvWth9qDqOJJ4mUN5FxcRWls4SYszwtrC2X8XYUErC3fXkH3xVyDD5ypk97oOYwbdgikhd2BOnCOexbqiF4HDO51nRUNDQ+PUQd3BqibGjBnjIi0mqwea3SK2IsrJIC0uvrom7v34LXERMUiBhs2bCKEg31t+jJe7/SYxJGrdewc+DOuDb8clSh6JhbcDfNAsPQRX1r1RCAe+Va3/5vOS/0r3313tPvFLczzz53fynaTFsx2+l+9v9v8H93z0unw3SIu3/X1w89OPSLtP/faNlGe+IWWTFj4IVOcxbfBgTFSKx/y0NCxVCxTuTjB75EiMj47GmOG9sSH0XhyIOM9FQozu2RShvr6I7tkTCX37YuSAAUJ8pAzogzH+bfBv4MtYE3w3toaQyLjkhImMA5GXYXPcu1id7I0V4kqSirX52VhfWKCkEK1zwx3BFvOVolfYx/HmvRLvEnGypUt2NJZnZ8t1T5KHFhenW9E9VimVtDDJLZFd8JpfB7w7rBuaxAxE05RhaDY6DF/lREqcmq9VnQorqn9fZUdKf9nvW0f39xifkBbqPzcmLKxCkRaHZs3CcOeOUhQqPHyjWxlhJiyo3G/dtgPZ/5ZCWGTvR/u0Tfh1SDZ+6xuNDoNHoMvw0egRVYS+IybDP32Og6goWomIceuEkIiZug1x03cgfsYuJMzcjcRZlD1Icgq/J6p05sVP34W4aTtUna1Sl22EFK0QS4zB6bOFEOkeWYi/42ejA11GbKxAOmTvQ2zudEyeMtWWuOB4NXFxZoPn1yDgdmzbgP2573g8Y0lYbAq/CYkR/RCj1gLJycnIysqS9d6UKVNkh6D58+dj0dwMTIp5GOPD70fx8LtRFHAbcvvehNHdr0Wm71XiIoJEp4uIWFsopf6MIS6cffewsuCuIQ7XkPlDHFud5vWtg3FDb8X08Lvwb+KDWJrRCNvn/uo8IxoaGhqnFuoOVjXBB5mxOJ2nFFy7RWxFlJNBWpjdQ76fNko+SVrQyoHfG33XVCwuDNePm59uhJufaSTBMK+8pQ6e/LWFuJU816mNWGmQtLj7g9ekLpWtBl85CIen23+Lp9q1ku8kIV7y+VW+8+3xba8/K98N0uJVdezrH75P2n3+7x/xQbDDEsOQskiLR8J9MKxzZ4zy98e0+HghLNYVFGBdYSFW5uZiwahRmJaQgLHh4ZgZ/C12hdfC4YizsSLoPqQMHICMIUOQO3w4CkNDMVYpUlSmCkJCkBsUhMyhQ5Gu2k0b1BfF/t9hfuALWBt8J7aF1MK+sAtxMPzc4yIxDkecg22xT2B10u9YljoUi0fFo2XqYFRL7+rY2pLxDYydIjRxIfJ7chBmjRghxAXjQdDFprJZW5SHtKgb7YM3B/yDD8N6iysVA9hyh51vxo/AtxNHVnhhP9nfr7IjcFvOYI/xNa6gpAWFLlm9unVzPRuo7FRGZdhQ8KjUb9+xE2MWlkZY7EP7ESvxS59Ysa5gQM2uEflCJAxOn4OgvCUIG7sGtJqInbpNSAoSFEmz92LE3P0YOfcAkucdRPK/Dkn595DIyHkqnWkqj2VYlnVYN376TmkrauJGhI1ZLYQIXU16J0yAT/R4dMjYrPpmR1yo+jmTMFn97w3iwgjOqa0tzmzw3PIc81zv2rUTu2f2t3muVsPWiGsRGzEE8WodMEo99wvUOoBkxdy5c+WaWbVqFdavX4/NmzdhSd5HmJPUENOj78NE9UwfM/hW5PS+AaN8rsGSYdVFeRcl3mVtwdgWVtLi2J77p1+cfXazsnDGsiBBk3gx9idcjpxuNR27hgy8CZO41WnMvViY3BArs5/A/k3ZzrOioaGhcWqh7mJVE+np6a6F6aKcHNeitaLLCZEWc7PxfnAvIS2+nzpKSRoeaf2ZysvCg83ex4vevwhR8ej3n+O5jj+g9YSReK1PR/wwbRRuf/MFsYK4/a0XxdKC5AHf/LJNKlh3vvuyBMukD/79Td+VNp/5ozUe//EriU/xwOfvoWGLJlKPRMZjbb9U/coQF5KvcyMlHsbNTz+M1krp4XFbjU0oP2kR4SAtSD5MT0wUomKLUoR2KAWELhi0YlimFN15qamyY8G48OFYE/E89kVcieLQwRgfFSWkBq0y5qWkYK6SOcnJmJmUJC4mk2JiUBwejkITkUGCJHNQV0wf8hFWB9+HbSG1sS/8+EmMHZG3YXD0Bzg3sSO80nxNxAUtLjRpQfk+dpC4//AcrVWLUbrV0NriTCMtbo3xxduDveV/zP8ct/tlAFoSjCQOyyus8636Lxm7BxnCgLxM539N2pymyk5Mdgn/Y+byxypsk+20KIxD/fwAj/E19u9SYUkLyizVJx/nNqje3t6ye0VlgruCtxtzVm5DpzybmBFZe/FbzL/4tU8U/hyYiM7DR0u8iQEpM8QKgoQCLSPipm1Hwsw9GDFnn4OkcJITI9XvEbP3ChmRMv+w5DsIjEMILlwpn6kLjiBV5VFYh3XZBuvQCoNtk7wIHbMKQ7MXon/yNHSPKcZfo9aLBYi1z39n7URqzlhMVdfLsmXLJDgnt26ly4AmLs5c8NwabiHbNq7EoaQ6Hs9QBttMCe8mhAXXd2PV/ZVuwIsXL3btQEOXLxJd3EJ327JoLEl/DPOSGmB61D2YMKw+CgbcJMp6dtea2KeUd7pK2Ma2qJTWFqY+s/8ci5uVxUU4knQp/qWVhe81yO1zA4oDbsW0sLswN4G7hjyCDePeUzeYyml9pqGhUfmh7mRVEzQbNEiL5fn5HgvXiionQlpQoXi45Se45YXH8UyH7/DUb61w8zOPyBvReq88jfs+fVtiS7zg/Qvuafw6Wo1JwB1vvyAWEg2+/FDaoPk3dwJ56KuP8EjrpqKgMI9tfpkVhveDeqq2nhGF5bXeHXDXu6/g00R/VecpPNrmS3EdueW5x4SUoDVF7QfvclljPP7T17j7/ddw90ev4/PU4cdEWgQpJWP0kCGYOWIE1qjzScKCiiHfxtOVgG/mmb4kM1OUXsa9WBDfE4sTffFvaqqkk+xgmbVK+LlK/ebuBlSs6HLiIjLi4jAxOlosNwqCg5EdGIj0gABkD/bBzKEfYE3wPdgeWgv7hcQ4R0iM8ixuNoefh7MjfodX0j/wyugKr9yeqJbfG9UK+6BakZIxfZ3S7wwXxxjN55jydaifEEZCTJ3mrTKPV8pLWrwT4CPxYBjg9ptxiUIwOnbWyZL/wtGkpfr/vdHvb/nvkqiUdFW3RX4M3g3sipd8f8OLPr+IKwdJjFd6/oHnO/8sBOT7w3uieW50uY/lJqpOG9VP9rdVcQJuLxjiMb6KTlpQUkJD0dkZ32LYsGFikl4ZYBAWVPComK3ZuA09imx26Mjeh99i5qJd7yhxB/EOyUbv+Anwz5iD4ILliJywHrHTtrnICpIRJB2EgFhwRAgJ7h7yT1A6OviPEGsM34g89E2aJPErnn37M/lMWwiXCIHhJDEMawy2TfKClheMfTE8f6lYXfSKG+8gLmwsLrplbkBWbqEopCtXrsTWrVtFmdXxLc5MGNc0rYZ27tih1j7/eDw7D0WcjbywHyXYJi0sSFjMVveS5cuXi0UOyQr+H/g/JpknJNeBbVhb9BoWpT2COfEPyJaeVNLz+tQRpX3OYFNsC/NOIpWSuDD11c7KgsRM4iXYHXcFRvtchayetLK4GROD6mNm9L2uAJx7VoY6z4qGhobGqYe6m1VNJCrFxyAtVivl327hWhHlREgLMwlQ2YT9Lw9pQfcBvoXfNWkSDjh3meDbeM4XlVwqiiQkVmRnCyFBV4PVeXkyl7TO2O4MislgjyxPSw3WYT7rkdhgPcbL+DctTawzpickOKwxIiLErcQgMXL8O2P20HewPvgO7A67AgfDzwODc5ZmhREZVA9eQb/AK6YDvFK94ZXVHReM6o4rRvjiyuRuuDK1B6qnKRnVU6QGJf0MEeeYRNQYz8vxczvHlKbDuknMEc51Rdgq83ikXKRFbFfZLYTBLL/KisC340cI4UhCQLYAtvl/WOWu917Be0E95D9T5/EGUo+7/TBQLq2aWOaZP1vj4W8+le8kLeq//px8J2lxzT310WpMvKu9cos6DoPzsr90+7qjcKjH+CoDabFX3TP69erlekbQzLwyKMPsY0kci+2InrbbQ+mnBcNvsf/iVydh4Ruag76JkzAk81+xeIievFncQGgNYSUrDAIiRJX7oNUf+Or3Xhg8ajZe+6S1uHk8/87nYnXxwvtfuhEWVrGSF4yDETd9p1h2MHZGwOi58EuYhL/SN3r2X0lA+hwUqnvyvHnzsHbtWld8C01anHlws7JYvwSHYmt4PDuXhD+K6Oho2RmkSF0XjF1BwoKWOLSsYF22YSa2KLuXB4gyTqV8Zsy9mDS8PooG3Yzsntch3fsqbI68QpR52QaUyn2lJC5MfbQjLEjIJFyEQ0mXYVLfGhjdtRbynbEspoaXWFmsL34TRw5sdp4VDQ0NjVMPdUermiAjbyxI1xcX2y5cK6KcKGlB9w+6a8iWouo7lQsSAR7KxzGIoaQYv3+YkY7vnSbpfONaXkWrLDlW0oLzc1ApQXQdoDIkW4oqRXH3pElCTJCgoNK4WQmVX7oacDtNKk8kOSj8blhr7FLtsQyJDKMu3U5W5+cL8bF49GghMeaYSQynJUZWYCAy/Adh0tAWWBX8ILaHXo0D4RdIUE8GDjMWF98PegVeQ36EV+Qf8BrZWUiLugF/SOyQl3zb4bVef+KNvp3w1oB/8NagLrKl5JkkHBPHxjHekNDV7RxTPg7wRkKfPiiOjJStMnkeNGlhL7e++IRslcr/H//zTKOr1kMtmrjK8B5g5NHCwiAtKA993Vhcx4zf5RbV3plAWlAWqP+14Sbi4+MjynFFBpUwKmQOt5BdmLpsu63C337EavzaOxodBiXBh4RF0mTZtjSseA1ipmyVAJqMQUFXDitZYchIlf/8u5/jkx/+FhePp15vgm//HozW/wSougfw/HvNhLyw1rOKQV7wWGJ1MWMXYiZvEfIkYPS/8Euaho6ZnvE4OmbvRdyofExQ9+NFixZh06ZN2k3kDIT5mt65c6d6fndwPS8N4damKRE9ZTvT3NxcTFfPbm6Py2uCdYxgrbbXxaHtWD/uHVHK5yU+iGkRd2H80HrI73ejbPeZ38PpJsKgnIabSIzTTaRSEBemvrkRFk63ECdhcSTxUiwZdiXSfa5Gjt/1GDP4FkwOvh2zYu7DAsayyHoCe1ZFOCdNQ0ND4/RA3dWqJhgZ3iAtGHzNbtFaEeVESIu2szMlwr9sRxjZT1w0XvP7001ZOR75YlSwbNHI74xl8YL3z2jUuile6PKzxK4ggWGtc6xyPKSFoQRRSF6QxKD1BRUkEhEsQzKC35kmlhmqDOsZZAdF6jktNqxEBi0yxBqjuBjrndYYZhKDlhgMDkp3EippjInBfhYF/IYlQU9hS0gdiYWxP+w8vNv7B3gN/RFeUX/AK7mLkBa3Du2AF31+lVghdBngW/CPwvrI+eN5PqMksq/sVEMXo5uSe7mdYwqV3RjnVpm0dOH2p5q0sBfOZ416N6HR919IXAySE/XfeE7+k8zn//TbCSPw7bgkIRmspMXL6v9868tPuX6XW84g0oJidROhAlRRQYWMyhnfKm/cvA19xuzxUPb/yNiOX/olSgwL7+AsCbhJwiKchMXUbbLrBy0fxLqChIINYUFJmrUbL33YHN/+PQiD0mahbbfhaD8gXtxMmP/Ce81Um+s86tmJ2eqCZAlJE5InoWMdxEWP5DnokOW5HWr3jOXIzMoWJZVuItu2bRPzf86BJi3ODBjXNM/r1s0bcXBEPZNC7pB/w5+Tl1AZ6l4yUT2PFyxYIME2aX1Tnuth79p4rMx+CotSGmJ27H2YHHIHxvrXlZgOGV2vwbQB1XEw4TIg0ekmYo5vYUtcUNz7eHrE2RchKygWwsK5W8iRxEuwJdKxxSndQgoH3oQJw27D9Mi7HTuGpDfCxgmNgcOVw0VOQ0PjzIW6s1VNhISEuEiLnUr5tFuwVkThov54SQsqu3wD+1F4H3nrevf7r4qicdFV1V1Kxw/THQE6qXQYaW1mZEgaA2fyN33rGZzTKPN5ahBe8+so36kgXf/w/VKeu4QwbgbbNOqZ2zZ+85P9pCLlalsJyxhyIqSFMW8UF3mh5tAgIvhpkBX7p6p6M6ZLHX4enuVo46D6vn/KJJU/RcrtU+X2TJ6I3ZMmiNiSGLTEyMsTEoNKNmNpMCbGZLXAoitJPq0whg5FbkBXTA74DG8N6ASvkHbwiu/odA/pgduC/sKrvf7EOwG++CiiLz5NDMDnKUFoNioYX2aEnlHCMX2eMgyfJvijbrpn8FHzVpmL0tM1aVGG8D9Li6dHv/scl9WprdoYiXsbvy4uIcxnvBru1lO9bh18OTrMg7R4psP3ElzX+F1uOcNIC7qJ9Fd9NZ4VND2viAox+2R+I10w38bKInsf2gWNwe/9Y/FPUAb84scLKcB4FIwpYSUs7AgGQ37vH4cBqTMQM2ULmrT+S9JoKWFYVxg7i5jrHE14TMNdhMRFtGqbFhf+GXPhnbZCjcEzvkXYyDzZ4YXbWG7YsEEsTDgH2trizIBxTfO8bl2YZlHKHbEsRkT0kxhlhep5yzgW3CHEiHNiWN6UiSMHsGVacywb/Rjmj2iAmdH3uNxEaHVA64P5AdVxKPFSIN5EXIjFRWmuIhT3vp46MfXBg7BQfTYIC7q8JF6CnTFXIKdrTYdlSb8bnW4hd0qcj0WpD2NV3nM4sCnXOVkaGhoapw/qDlc1wbdmxkJ0r1ow2y1YK6I4FOjjIC2UIlHjtpuFVKBy8YNSapomD5Xvl9S6Sj4ZQO+5Tm2VYvMdXujyixAIVH4YUJO7ibzt7y3luMXp8//8JNuT8g3usx2/x8vdfpP6j7VpJtuYvtK9PT6J9xczc+5SQNLh/aAeeKpdS7zQ+SfZXYD53F71w9DeEtizuVLgGDSQ+c+q44kLCxUhJSdKWpjnj0LywipMnzqoI1Ykhaiys7Eo2h/bi3JwcPo0LI4dgqkDO2Jh5EDsmzIR81Sf+XvaoL+wJHaomzWGyxLDGRuDStlGpaCyX4yJQdcGBvacrfoqu5lERsqWqx8M7wqv2I7wSu7sDMTZC/VD/sEb/Trhg5Be+DRpCJopBbN5foxsKclAh62KE88QSZAxcWzNRoeiXvZAt3NM0aRF+UmLl9X/j/9d/mcY+LZxVD+8rv7Ht7/xPAyi8CXfX3Fvkzelzdf7/IXbXn0WbVV5WkYxMO/L3X63bbtMOcNIC4q4iXh7y7OCbiLr1q1zPkUqDsxvpDdu3oqeRZ6WCb8nLZedQv4akoIe0UUYnD4boWNWIpouIcdAWFAiJ27E996BaNVpoOwyYlfmeMRMXCTM3IWoyZsRXLgCA1Jn4S8bN5Gu6SswKj0DU9X/acWKFdra4gyCcU3Tumn79m3YW/CZSTF3yKqI+8TKYrR6pk5Wz3zuFHI8W+Ee3rMQa4ted7mJTI+4GxMCbxOrg+xe12GUz9VYGnRl+YiL00pemI5rJitsCIsjCZdgd+zlKOxZE6O71UJe3xtQ7F8XU0LuEIsTuoWsyHoCuxZ1c86ShoaGxumFustVTfj7+7tICy6W7RarFVG4qD8e0oI7BPzvnLNtFQ2DtGitlKMGX32kymfgxicekh08PokfhPs+eUsUnYdbfSIuJgzmx/a4ewiVnw/D+6Ce05SclgC3PPuoq+2r76onOxa0KIhBjVtvkm0YH/n2Mzzd3vHG9+o76+HVnn+K2ToDBF770D1ShpYgZreSk0VamOfRKkwPb/ogEls/j32TJyC30xdYnRotRMWIH17CypFhGNXuPcwY0gWrU6Iwuv1HGNO1NdZnjpD6BvnB4wqJMd0RG0NIDNUfBvjcNmGC7GRCK4xVeXmyawndSLi16iexajx0CyFh4dzy9PbwLnh7UBdxB/li1HA1j7GixHIeeE5KlWlOsUszi0p3bH1pk6dEtqC1yee2tGXVO2ZR/eCYqOg2z49G/Vx/t3NMaaxJi3KTFvXfeF6sJz6M6IObn2mk5niUEIx3ffAqnmzXSq4num7REoNtc+ceWmE1juiLJ35ujrtVOVo+2bVdppyBpAXF7CYyfPhwUYgqEsxvpCct3uKh3HN7018Hp+PPQYnwDcuVrUW5U0fUpE1CDhwLYfFfi0Fc0FojfsZOIUgY5LNH2mI1Fqu1xX6EJ6aLBQytLaiwmmNbaFRekGzgeeSuH1s2rMLh2MtMyrlDQR8T+QNGqGc+A+UaVhYkrozdZI6FuNq7Jg4rc54R64K58fdjWvidGB9YD4UDb0RWr2uFuGDch0MJlzp2FIk3YlycU+IuEnk6yAvLcQyywkVY0B1E9Y99JdlCwkIsLC5HQY8aLsJirL8zjkX0PWJxsizjUWyc9Km6uexyzpCGhobG6YW641VN9O/fXxagnZXYLVIrqnBRfzykxbfFSTj7/POU4lNivWCIQVpQcfwwrA8+CPXDDY/cL+4IrSeMwDX33YHHfvwKX2Q4rDS4fSnf0FKpomLTJGZAqaRFLVWXpMWbAzuL28jrfTqiUevP8GCzD1z5NE83ynPXg7vefVnGQILESD/ZpEVpEtmsIcb3+gnTA/5xkRZFvt9g9rBukk+Li4z2H8n3Md2+w+wgR7pZeEyKG4mhzpk5ngatMFy7maj+LlRK+BepQ+CV2R1eOT3hlecHr8I+uEONzbz9JeOQfDM+Sbaq/DovWpTDbyeMxFc5kfhuSqpYLHyVEyFv2Tl/Rh4tW/jbKiz3tmrfLo/yYVhvsfSwptP15+3B3h7pxy2zMsX6h9crLS6OtlWmJi3KFhIUtGTi/5H/HXMerwXGD/kqK1x+c96/SB0u0iw9VCymzOWPSc5Q0oJuIn1Vnw2im291K8qbfPMb6a1KYQuatMui2B/A7wlL0K5PDP4Zli5uIUOy5iN83DrET9/hcOuoIISFIS7iQvWNgT4ZJDRg9Dxba4veI2dKPAPGtqDSqncSOTNgJuK2zYtyKuglsi/iYsRFh8kWp4xlsXDhwhNzETpyWB3nT6zIehILUxpiTtx9DuJiaD0U9L8R2U7iYsHQ6jgQzxgXDM7JXUXOs7G6KIu8oLiP5djF0p5xHDeyQonLusJJWCRchMOJl2Jb9BXI7V5iYUHCYlJwfcyMugf/JjniWKwb8wYO7pzhnBwNDQ2N0w9196ua6N27tyw+fb29bRepFVW4qD/emBaXXncNPhsx1KUoStwIpWRcfE1NUXLo7nHfx2+JcmTEvhClWClN3MGiRr2b0XZOlijO7w7thsvrXIuvc6PQOLo/bn3pSVFaPknwlze7hhJT697b0Vwp1+8O9RUywqykMv8aZ75RntssUlG+4qYb0DRlmCv9VJEW4U0fwK7iAsR/84yQEyQtxvVoi6mDO0mMi39D+yD7r6ZStjTSwirsA8VqhUFFjXEwuAvGypwcfDVancu8XvAq6C2EhVdRX9wR6SPuOC4FVimCTWIHovqtN+G6h+4RIuPZDt/jyrp10DiiD55s1xL/O/tsfBwzUM7tG33/wiW1r5adJPibpFWbGVSAHbvHtB4/UlwB+J3icAlKFzKD1wevocvrXCfni2ny9l2V+yI1SLbFNFyIjHRpQ50n8zFYhmmOY2dImvGdefJbnV8egxYB34xL1KTFCZIWp014vs9A0oIyZ/RoeKv7DJ8bvXr1ktgRFQFUzIw30qs3bEZHqzVC9n60G5KFPwcloWtEHgamzkRw0UqJR2Fsa8pAmHbkwekSkhayq4jqG11XoidtRlDBMvTIWOk+NiWdMrYgPiEBxep+wJ1EtmzZclxv2jUqDnjeSDo4XEO2Y3dRc6eyXiILwp9BgjrvOerZOUOtiegeZMSyOO5zf3gvtkz7BsszH8eClIcwO+4+TA1zEBe0uKCrCGNcTOlXHXviLheLBQazLHEXMawuSiEvbAmM4xRzm1aywmxd4YpfcbFYiawNvRIZPoxhYSIshtfHjKi7MS/Jsb3pmvwXsX9jtnNSNDQ0NCoGqixp0aNHD1l89uza1XaBWlGFi/rjJS1e9P4F9V97Vt6+8i0sdwigYnHR1TWELGAsC8agYKDH6xrcIzEsGEvh2Q4/oNXYRNR9/jFxC7in8evytv/+z94RF5K3Bnnj5qcfEUuNd4Z2Q53HGoj7CN/8X333baJ8fTcxGbUfvFuO/VnSEBHmX3VXPSE6SIZQgb3jrRelTw1bfIyPYwe5lKFTRVpEf9VIPif1by+uImvSYrE6OQoj2rwiVhZp7d7FwqjBUmZcz7aYG9zTrf7RhP2hGAQG3UfoNrKusBAtckLhVeQgK0TG9MUdUb5CWnwSPxhfZ5cosA9+8YHE/eB8PNzyY3ydG+maqytvvkHN9V2Sx9/3f/aufJIsYlwMWkk43sBnCYlFBVny1fzTbeBdlf/WYG+JaUBi4bIbrpUAmSzHuCMs27IoTlx/PkkIEALLSOc1wOuPu5x8kRYkx+DuMvz9ufrNbU1ZhsFbPwjxE8KL9Y5V2dWkRQWVM5i0oEQEBLisLVJTUyuEC4LxRpokSvFCT9eQP0ZtQbs+0egUOMphZZG9ABHj14vrBbcuLW1b09Mtbm4i03cgrHgt/DMXokO2Z7yO4TGporzOUeeIO0fwbbt2Eam8IOFA4oEExJbNm3BgxK1KUXcnLQojf8bIkSMlEOu8efNkS+KTYWVz5MBGbJz4CZaNfhwLkh+S+A7TSFwE1kPRwJuQ43ed7CqS370GNkde4XAXMawuSiMv3AgMC4lhiB0xQbErK2K0ZSIqxLLCRFbEXeDY0jThEuyNuxzzh1THKO+rkNWjNvL71pEYFnQJmUnCIvEBLE57GKvznsPe1Xp7Uw0NjYqHKkta+Pr6ysKzT48etovTiipc1B+VtFCKJ5VCxj+g4soYFcab8CbRA4QQoN86tzzkdpqPtf0Kz3X6Qd6sP9qmGZ7v/KNSPAfgub/bytvvp9q1QoMvPxIihG0woN8DX7wngTVbq/ZZn/LW4C6u74xR8Ub/fxy/f/xK6n2llG7GxXi6/bfSJyrPRnkqZizz1qDO0jZdD/jbEPafdRjvomlBtNuYTyZpYVhO7J1UjJlDvbFjbJ78Xj86CdP9/5FYFkbZlcnh2Jg10vX7WMU4l3QX2aAWXi3zwoWoEHGOrSzS4qnfvkHD5k1KFH+n0HXn7g9fk3PJeTNIi89GDhXLF1pJkExqlhGKlkXxuLDGlZJPEqHui0+gaXIgrrqjngRtJWlx/uWXyQ4mL/zzo8uKhqTFRTWr40XfdnhJyfUN75Pz9MQvLdDou8/l2iNJ9TXdVial4LLra+HpP1rj9jeeE5Lquob3CvFV94UnXNemJi0cciykBf+ftGIxpx2z8P/Ftp2/jf8azweJLreyR5NjPI+VjbRYr665bj4+8uxgjAu6I5xOmN9I05c/aqqn+8RvUbPRvn88vENz0D95OoYXrHBZWZjdQkbM2S/uGPzNz8RZu5H870FnHn/vcf02C4mPJJVn1GWa0YaQIuo7j8XfRh0SJSPm7FXpe6QPRrpVWLfE2mITgvKWonPmZo8x9o4fjzTGBlL/K6uLiEblA88bSSeST5uWT1XKuzthcTDibCRGByFdPQcmTZokFjabNm06afFMjuxbio0TP5UdRUhcOFxF7pLgnGMG3SzboY7uVlsIgH8DHFYXhxNodcEgnRcoMVxGznGQCLYEBsUgHo5FnG24xCArnG4gQlYYsSsulu1aN0ZcISRLuu81Yi1S0O9GFAfc6iQsHC4hDsLiBexZEeCcBQ0NDY2KhSpLWnTt2lUWnr27d7ddnFZUMRTd0kiLt5WCy61Nm44YKgojFQdaNHyvlAhugVhZhf13xGxIxKe5Srk3jfmRcB8MUwrEySAtTqWYFVjuLtIyP8JtXJSySIu6LzyO6vVuwvOd2joUf6fiSNKC5a648To0HRnoIi0e/eEL3P/pOxIf497Gb+Aln3aSbsQ0oSVOwxZN8P3kVFx5yw2SRtLikmuvlu88xqXXXiPfSVpccfP18p1y2Q215fzQZaRFYaykPf5zczzT4TtH/nW18E1xgnynIkzy5FW/PyXeiSjimrRwSamkBd1n1BwzYC7niGmfJw9zEHzO83A8woCqTUc6dhKiGFYwtIaimxEJDHP5MuUMJy0oOTExEguJz4/THZTT7Y30li3wK9rjodC3G5qDDv4j0T16DPwz5iG8eK1YLlitLLyD1T2kZziGFywXV5KWf/WXXUbomsHf3/4zGN0iC5Ayv4RkYB7jZPzUI1SOEVywDGmqPVpx8DfJktAxq/FT9xD82CNEtjLlMf3T50rez73C0StuPJLn2W+Pyr4ZsS1ip26XLVB7Zq7xGKP3iAWIj4/H+PHjsXTpUr2LSCWGmYgj+bR9ai8P0mJ9RH0539nZ2RLLZPny5SfuGmLBkf2rsXFSU3EVWZjyEObG3Y8ZEXdjUlB9sVDI73sjsnteJ0QA40OsCbkS++MvE6sGR6BOw/LChsAwkxjRVhKiLGEdk0WFi6hQQqKEhImTrKAFyPboyzFzkMO6giRLbu8bUDTwZrEamRp6B2ZF34v5SQ9iyahGWJ3/AvauCnWOXkNDQ6PiocqSFoZ7SI8zzD3k5aHeeD2kB96NG4CP0obhk+wwfFYQhc/HxOLzsZVYVP85jk+ywvB2WqDbmB8O80agOpcZAQGYWYVIi2f+aC1WESQduLPIT3MdiqNsY6k+X/PriBufaIh7PnpDfjds+TEeaPoe3g/uifeCegipxXSDtCARQdLhqV9bym4STCNpcfmN18l3a9ka9W6SWCiU6rfeKLFOata/WVyJWObJ31rhyV9byHeSFsZbe5ZvnhuJO997WSw+SHZo0qJESiMtWhbGq/lsiTvefhF1Hn0QL/n8KhYt51x4vsyrzO0ch3UE3alcaTK3Kk19Sprx20l0ccvh+z99W75/NyUNV6trgNcGryMG1WXcGrt6PIZh/WGc26pAWuxTShIt9Pj8oExTfT9doHLGN8t8w7xu/QZ0yrXGs9iHdv3j8XfgKPROmIDAnEWImrgRCTN3e8Sy6J04EWefcy4ee/l9fPl7L7zV7Eecc+75eP3T7/Blux547+tfcc455yEwd7GUp9UFyz7xygfoP3IaPv7hb9xw652InbIVI+cewE89QvC/s87GW5+3xSdtOuOiy65Aj+gxCClciZq1rxcShMTGZVfWRPeoQlc/rMI+ktRImLFL3FoGZi93H6OSTqPWIzIqCoWFhViwYAE2b94sMT40aVH5wPPF80bSSXYCyXrDg7SYEfmB7BrC802XoDVr1vwnAViPHFiHTZObYXnWU1iU2hDzEh4Qy4TJwXdg/BC6i9wsREBm92sl1kVRzxrYGHEl9sXT8oK7jBhuI7S+MBEYLhLDSWSUW0wkhVhUlBAV4gaSeIlYVuyMucLlCpLRtZZYV5BkGetfFxOH1RerkTnc1nTkQ1ia/ijWFr6mXUI0NDQqPKosaXGmBuI8P7c3zs/rjQvy++DC/L5K+uHCAiWFZ4BwHGo856uxmcfc0ERa2FlaHJ41EwenTZH5OzSdytF0+X5g6mSnEjkd+6dMxAFVxlCaDkydJPkMvin11CeF+Y70adivyrDdwzNnyHepy/xpk0vO1fSp0rZxfLM4jn3spAXjlNz38duiwFJZfOaP73BDowfwTXGiuGJwBxbG/6ASeeuLT4orBr/T9eaeD18XZfLrnChxHaJcfE0NiTPx5ehQ2fL247jBaJo8DAymyVgnl9W5VpRQtsGgrfz+RXowLqh+uQRRZb+uvKWOKKwkSN4Z0lX6cc+HrwlBwvK00OBx2QZJChIu/Lz347fEbeVYld2qSFrwvL7eu6PM4bfjEvFQiyby3SCSSErQheuz5EB1fkLkNwkGumXxfHLHGZZrWRAr1hSMR8N5ZwybZup8sjzjk1z7wF1yfklCsQ+8DlivRVGcxEBhjBK6pIjVU4I/Wql0BofldVkVSAvKTHX9dXFugcpnCc3YTweooBnxLOav2OihzP+Rvg2/94tFl+As9Bs5FcMLlolryAiLa4gh1a++Fk1/8nH9rlWnLt796lfX7xvq3YXv/vGX7wNSZ+B//ztLtiQ18m+58wG0+muAfKcVhpeXF37wDpTf3SLz5XgftvoDDzz5srh8UJ5/txkefek9VxtWMawt6ILCNgPzloHBRd3GmrUXwaFhEtdi7ty5souE4SqgSYvKBYOII+m0eeNaHIq90kJaVENmVBeJKUPLGpJU5vN9oq4hHji8F9vn/olVec9LkEpuBypxLpTiP9FpdVHYn7EurhdrBpIXtLxYGXwldsdejoPxlzldRy42WWA4SQxxI7GKQUo4iQlDhKBgHdZVwgCgQlRcjEPxlwpRsiXqCswYWMNBVvjWEkuQvL51MIbWFUPrCdlC0mVuwgNYlNIQyzKfwPpxH+HA1iLnYDU0NDQqLqosadGvXz9ZcHLhabcoragiijBJC8ZBsCEtqqLQPSTE1xfZQUGYk5wsQS05P4YStK0gC5MH/CnzNze4F5YlBAmRwd0/9k4ehyWxQ9X31pjcv70rhkWhT0tM8PsZCyIHqHZmYFGMPxbHDcVOlT+u549YGj8MBV1aYPawrlg3Kh75XZqrvHwhNMaremyDv2cF+qq2WmHmUB/XOTTErMAeC2lBRbLu84+j/uvPilJLhZIK7INffihEBuNO0AWE6c3zY/CA0z2E0qh1U9R76Sl5W8+dOhgX4/qH75OdYxhAk3VpnUHLideUgvx42y8l/80B/0h94zvdSBp994VYS9z4/+xdB3wVZfZdd9fdv+uq666uuq6uBXvvvfeGvfeCiKKiopTQWxJCQnrvvffee+8JaRB6CxAgdGzn/52bzOMl74WiBALM5Xd+5E2fb76Z+e6Ze8998E686N4r5vlFeRyuffkp3DbqDdw77iOZxjK3XO/OMe8KmUKihcvc/90oif6QYztEZ/dEIy2+rE2VksVsH2kvI2ikBYmn8667Qq7jv68aIYQTNUt4fV4LWogRj94rxMT/7r4Vb4Y7iw4Jy50+OHGMRFQwcuLJed/j3OuvELKJ+2blmY8zg2W/LFn82MxvpH9Qz2ZUjpr/33Nx1xfv4ZKH7lJ9YN4JQ1oQgW5uhmiLzMzMo+Ica6QFvzJXLDYlLSbHr4SFSwwsg3LhktKEwKLVUkJ0MAFOkhYTHMINv6+48U6Mmmxn+H3dHQ/ig/GW8vckhwj88+z/GOYRDz3/Dp568zP5WyMtHBNq+i1z52Mv4Jb7n8S38/0FD458G9ff+VC/ZYzRP0VkC/wLV2JatmkajEdghJQ+bVT9iKKMxqUvdTt2zJiI27w4bQBh0VvqNDIiAhkZGaJhwnSgI1ExZtfqQKwrfh7LMu7F4sQ7xPEnAVATcI1oXbAKB7Uicu0u7I28sDxPyINax7OxPuhf2BH5T0kfIcFAEuNXkhixJDH6ICSEGZDkkPkU1DxNSApGcbDsKsU1SVQs8T4Ludb/lpKsJE6ErLC/SCJByjwuR5Xf1UKykGxpj7sNnSl3YVXOI+iuHY1ff1zXd4a66aabbsPbTljSwtXV1TDg/OUYGihzUK+RFnR6ni/0xx+VI2BA8YmHByNsEOPggOLgYCxWzuzG4mIRt9ScIEZNhH10l0RHJHzzHHJmfIjtxXmI+uxBEdIMH3UPNuUko9rJApkWb0k7B713E5bH+CDkw9tkmSrHSai0n6DW/QAtAXb4takJEaPuxabsJCwJd0Pox3eh1OZr7KookXKpWNSMtImvqWnjsDk/HWtTI/pdR+1a/hbSgg7hUFSSuOjeWyXygoKsrBzzwPe9qR1HBDppYYA50oLkw5/+crIhNcMYGmnB9iPBMLogAlc89aBU/qHY6sX33y7ip9wO2/k/N16D14PsZJv8zYoyJC24DUZgXHzf7YZtk9jgNln++MI7bsQn6m+K7DJChvMZxUPhX235E4m0WKeun2WfKOc89T9z6o+00cFjSDzLQha2bTJx5CdHd2KKWxysQwvhltbSp2exXdItjFNDNJC0mOQUZfgtpIXFQsNvY9JiwsJwtfwF/YiPh198D4+/+rH8rZEWnlnthvnE7Q8+g8df+Uima/DNX9ZvmYHgsZJoIeFCjYyZ2dtNztXZPxIU42S6zpo1a8Tp1UmLY8tIOBj36e2l35uQFstD7kZsbCzy8vLQpN7DFF7VNEy47lCSh7/sbMbG6k+Uw/+oRF10xFOk82Y0hO4jLyTywvkS5C28SMgDib4ggTHnXBTY/BttHmdjQ/BZ2Br2T+yIOBO7o8/E3ph/CAnxY/QZ+ClGoe//3mn/ELKDYp894f/EppB/YaXfWWq8cjbS550jRAVTQLJs/ivRHvmOF6PYdUQ/sqIp4ka0xt4q0RXLMu7DuuIXsWOZs2rwn/rOTDfddNNt+NsJS1p4enoaSIsfGxrMDkqHI4ydnq3l5fiqMBzXFXni6nw3XJnristznHFZlhNGnCDg+X4Y64rCgABJDVmVkyPtwvYxdoKSvnteKn+QSIj76gl0RnhIBMQiP1sUzB0ty2wrzpUyp/ybpEWT9zxEjLpHoi9IWiR+8yzivnxCojS4TOToB7A5L01Ii5L5XyHq84ewPi1aSAsSJP5vXSupIUsjPdEWZG/ikBlfy+FAWrC6ByMvnrWfJnoGLG9rbrkhgU5aGDBYesj/nX6alDHW2kyr+KGRFu8n+eB/d90sgqqMbGGZWZIcr3hbg5VcWKqYkRZcbsTDd+N/99wq1XgOhrR40XWu6J0wrYfQxD9JWnycGWRY/kQiLYhkdQ7aeyQpKemIR1toDh6dtuxFppEWk6LaRDeCWhIemW0IKV+PmMYdvXoWA6Iskjt+wb/OOd8k0uLjSQsMv0lavPftHPmbERR//dvfhZzgtkgqXHv7A/hkkq3MDy3fIKSFe3qLYX3i1c8m4rYHn+lNUWnvjaCgXoXxMgMhpEXrj0K4kHiZnd1jcq4O/rFyDWpqavQKIseo8f5htASjJrZs3oy9SbeZkBYVYWOQmJiIEvX8bGtrw/r1648sQfXrz9i53A3rS17G8swH0Zl8p0QvLIq8GQ0SeXGt6EaUeV4u5EGBUy+BQUKBxEKG1fmSupE691ykzDlHiIdi23+jwv7fqHU6G02uZ2OR29modzkb1Y7/Rpndv5Fn/W9ZlsRH2rzzhKTI7IuooKYG9SoKnS8VwqQ3DaSPrAi/UXQ4GBmyNO0erM59AptqP8Ovu5f0nYxuuumm27FjJyxp4ePjYxhs7lIDZnMD0uEIDup/aWoSomVXdbUM+Nfm5UmEAZ326shIlIeFoTQkRCIPjleUKPA8q6Oi0BQXJ+fPdmB7MMqC7cN20pygSofeKIkal6kSaZEz/QO0BTsK4ZA19R3Rs1ifHouozx6Q5UlaFM77HLmzPlLOVJ2QFplT3kb0mIfQpZZjpEXkp/dLhAa3UWb7LVoDFyJ72rtCWpDYIAGytSATjZ5zhMDQyA7jazmcSIujCp20MGAw0uKmt1/oLVWsfjMNh9oSnE6dEeqDcB4FVL+oTMClD9+FFz3mieYIUzmYOnLBnTdJJM3TNhYSTXPLB6/g9SB7iZS45ME7JXXnHbVP6qOwYg9///fW66UCDcvfUvyT14b7p37KN02cf52IwZIM+S3X8VgnLbZUVvYrgbpx48a+N8yRMTpp/MLMKI/MZjORFpGtmO6RhAWRpfDM6kBoxYZeEc62/qRFUvsv8MntxOlnnoUPvrOU6h+cfvWt9+H5D8YJWcDfN97zGJ5+awyi63rk960PPoMPf7CWUqRz/DNx7gWXCKlAUsQqJB9/PvkvEukRWbfVsC+Kgf77/P/hB7tQOCc1YKqb6t+WPob55sBj7RXj3I6QsvWYk2NKWtj7xyJOvQtYAnPVqlU6aXEMGq+VJiy7ae1i/Bryp36ExS8hf0RiuAtSU1NRqe69zs5OKXVK/YsjrV/CtIqti6ZiXfELWJ5xfy95EX87WqJvEbKApAE1JCp9ruwlMNxGCLHAFBKmbpBsoEAmiQeSGVnz/4vM+ecLGaGB0wRqPpcj8WEgKZwuEVJEiArvK1DlezVqA6+VqA+mgbTF3mogK1blPoYNVR/ixw2JPPLeE9BNN910O8bshCUt/P39DaTFNuX8mxuQDldwYE+HnGkie5Tzw1SRnooKdCsnjqkRGwoL0VVQcNyD58nz5Xnz/NkOdH7YLsaEBbEyNkDSQBhtQV0L/r0lPwO7q8oQO/Yx1LvPQqbF26j3mCXLM8KCqR4p37+I1YkhqHWdLvMWh7kKydFTlC0Ex9IoL0Glw0TldDVIJEbCuGdkG5X2PyBTLdse5ICwj+88YqTFN02ZBu0I/i3rKCfV3LIHiy+rEg2pCdw3y2R+oZxSHgsd4oHLHzJ00sKAwUiLr2pTcc0Lj+Pq5x8TTZKnrCdJGs+5110hlUQokslUkNs+7tUTue/bURjFKi0vPomnrCbizs/fkWt45bOP4OkFFiKayhKqd419X4gK6qDc/eX7EqVBQU7+/u/tN6htfSzrPThhDK596Slc/+ZzeCvCGe/GeuC/t10vRMlX1Um/6Toe66QFkRkWZniXsAzjkXSSjUmLvEUbTBz5ydFLMN0zCbZRZfDK3kdaDBThZKTD3Y+/ZADX4fRXRk+U3xYusfL7zbFT5fdE+95ojPiWPXjpk/G49YGn8NDz7xrSPPyLVvbb3pdzPGW6Bq+sDjw08m3ccv9TIszJaiPG8weil7T4qa+CyHrMzjFND3HwiTCQFitXrtRJi2PQeK00PYutjb79CAtiS8h/ERUVhaysLEkDGopSp4dqv+5Zhi3NEyTlYmXWQ1iacjc6Eu9AW8ytEn1B3Yv64OslAoPpGhVCYlwhZEOJ2wgUuV4q2hNMKSERwcgMgn8TRc6980l6lLhdJmkfjKagCChJkbqg69AQej2awm9Ca/QtQpwsSb4Ty9Lvw6q8J7Gh6n3sXhsmESK66aabbseynbCkRXBwsGGgya9l5gajwxkc3BN0zjnYp6PO6IK99fXYq17mJwzU+fK8ef5sB42sGOj8UCBzWZSXVPPYVVmq/vZW03uX2VNdgaWRHujKiDUsT6HNn9S2e4pysC4lEt25KZIK8mtzk6y7Pj1GtrcmORzbSvNE24LrcbmV8YGG7axLjZLUEC6vTdPAY9Qc2MNFWvALOJ1Jfj2nICNTAS574n48MWe8ybKHgls/fg1jimPkb1b7uOGN5ySlYKTjDDw6fZzJ8ocMnbQwYDDS4piIrjkBSYvtNTWYb2lpeJ+w/OKRMmPSorhlnYkjPzl+hflICzPpIcMZ+yItekmLmTk7Tc7V0TtIJy2OYdNSQ7RSpzvzPzAhLdpCn5JrnJ+fj2b1rKB2yXC5ziyPum3xfHRVvI1VeU9geTqjL+5CR8IdaIu9TYQ7myNukhSS+pDrhWxgZESN/zVCZlQrMFqCZARRJVDTOE8tUxN4jSxPAoTRFIzmoJ5Ga8ytvURF0p1YmnovVmY9jLWFI7G5/iv82J2pDkzv/7rpptvxYScsaREeHm4YZG5Ug2Zzg9FjCRzsn+gw1y7DGTzmw0laMEXg8icfwEinmRhbGQ/qGFCj4JFpX+Pebz6WZRjSP7YyUcBIDJmm/mfaAKexggTBbckyErWRjuccpklExbiGdFz5zMN4zd+2t2xmki/eCHaQ7TBFQNuOlFxVv6mZwOPlNH7V147VBIfo7OqkxTDFIV7H44G0IPKjojC7730SFhZ2xBwojbSgk1e7eK2JI2+R2o1p7omwiSiBZ2Y7Qiq6BtW0GM4w1rQIKl2Hqdl7+p9r1h64eHiL1kF1dbWeHnIMmkZaMNVjc/dG/BQ3woS0KAibIKVOS9Wzn6VOu7q6pErMkJQ6/a3260/4aVMyNjeMl3Kiq/OeworMB4RQYATE4oQ7RAODkRgkMkg8MCKDhAbBiAlC+90coearZVqiewkKEiAdCbdL6kdn6t1Yln4/VuY8IkTFpppPsa3TDr/uXdl3MLrppptux4+dsKQFQww10oIq8OYGojp0DCUON2nBdIFrX37S8PvTgl7RxkdnjDOQFm+GOeLWj14T0CnmNIb63/vtJ7jlw1cxpiQGo3LDcP/3n6rfr+GdGA+8FeYs5VVHKQf79aCFOOuyi3HrB6+K0OPto97EI1O/6t1fbjju/vIDNe0NvKSOmcfJ+UxduP3TtySNgMuZhU5aGKCTFubbbjhjd309bK2tDe+U5cuX971phtboqNExJ2mxdPkqTM3Z28+Zt1DO/VSPRMwPK4J7eqvoQVAXYrDqIcMV+6qHbINPcVe/cySmpm6Cu7u7CHGyDKYmxKlXDzl2jNeJ14skRPfKWhPC4ueQvyA23F9KnVJsdenSpeju7haS42ilhhzQfv0JP2/NE+0LCmCuL3kNq/OfxsrsR0XEc1nafViaeo+QD0tS7pJoiX5IvlPKkwo5kXovlmU8IJEUq3OfxJqCkdhQ+T42N3yHXSs89NKluumm23FvJyxpwRBDbYC5qqjI7EBUh46hxOEmLUg6UMfAeBphTFo8pv5mdMTbES4Y8di9Mm3EI3cr5zgYzzvPkuiJe8Z9hOfsp4sA40inWbIMK01wXu/y90gKCv/msV33ytPyN/UOnls4TaIrzvjveRjXkCbkxVlXXIKvG9LxwA+fyXJmoZMWBlweYYmXPCxFU4KVO9geX9WlStQLtSW0aJjhiSyJ5mFUDlOVri7wNDm/45G0IErVO4VinHynBAQEHBFnWSMt6KAzusAqf4eJQz/FL09EMd1SmxFYskYcfxIAxwppwYgQanCwykhk7VY4F3abnOOM2A54eXkhTT0X6uvrJUVnsIoSdG7NQbejZ2x/4768vcbShLToCrkaMTExyM3NRaN6VrC/a6VOhy1pMdB+/Qm/7KjDnjX+2LJouhAOm2pHY0Ple+gqfxvrS14VbYx1RS+o/1+WSI2uinewsfojSffY3DQR25fY4afuNLWpDX0b1U033XQ7MeyEJS2oPq2RFkvUS9DcIFSHjqHE4SYtqDtx91cf9JtGGJMW78Z5yFf8h6d8hQvvulmmPWU9Eeffch2eWWAhhAO/8J97/ZV4aNLn+DQ/QpahwKM50uIVn/kG0uLsq0bgge9H47FZ3+J/d92i1g2X+Ve/8LjM3y900sIAkhYU2Hwz3BkfpQdiTFG0CKFSTJXpOUzXGbZQx8fj5PF+VhiFq/I9TM7veCUtqK1jb2NjeK9QV2GoTfs6TQedjrpP6WYTh35KRDPmBWbDOakO/oUrxfEnATBQjHO4QiMt4pp3I6JmM6zztpmc45zQYvj5+YlAY1NTE9atWydtQieYDi3b6WCgExhHx9jmvE6GUqdpD5qQFvWhryMhIQFFRUVobW2Va3xcpgBRg+KXH/t+6KabbrrpptkJS1oUFBQYBpcNqalmB6E6dAwlDjdp8YztFImeoNPIr/KiQaEcyUemfYV7vv5Q1mF5zLEVCXgvzktKYHIbrDDB7V7x1IN4eMqXQjZwH1znquceFa2Ki+67TSIv+PelD90tx8N1eWzXvvSkTGeliQ9T/EGNDK1aSe/8p/aVxBwMar5OWvTisvB5GOkyG68H24uQKtN1mLbzhbpuJJXGUjdkuEIdH49T0oxyQnFlrrvJ+b3pNvu4JC2I0vh4w3uFKYhD7QBz+8znZ0g98/vT6szoWiR1YZZvBuxjK6WsaXhVN+KadpmUPR0MJAuCStYioGiV2flDDUaEUIMjtmknQso3YnrO7n3nl71XYQ+s3cMQpPpTXl6eugyLpC3o0DJ1gE7tgcA21MgNnbg48sZ2N5Q6XbcEv4b9pR9h8WvIH5EWZiMfm8rLy7FkyRJs2LBBlj/SpU5100033XQ7OnbCkhYU69IGlwzrHTj41KFjqHG4SQuSBYyeeHLeBLwT4y4RDyyDSZ2JWz96XUiMsy6/WOY9Pme8kBZf1aVIpMRHGUF4ev4kPGU1AXd98S7eCnfGu3GeuOm9l2Sf/1PbZcrCF+VxuPi+2ySVhKKbXP7Kpx8SZ5XbvPOzt/FegjeetrUQooJ6Fiyx+UVFfL9jNYFOWhhwYZQlHvKYjSdCbfFcvCteTPfFq7lBeK0gFK8Xhg178DhfyQ2U474ox8Xk/N44jkmLXfX1sOmrJMJUEebcD6XRWaOzTeec+2poX4ZpOQNEKhWm++eLGKdHxj5dCwpbkhA4EHExLygHF195A/7whz8IeWBumYGQSI72n83OOxRIlEWfnkV0/Ta4FhlFkghhoZC+Ffb2DiKuzY8RLS0tUlWC7dHT04NtGrZu3YctWwTb1d87FNh+jFihA6wTF0fW2M5sc5JHjI7paXDrR1gQPSHnmZQ63bx581EtdaqbbrrpptuRtROWtGhrazOQFllhYWYHoDp0DCUON2lBfLMoC6/4zsej076W1ILRhZF4duFUwajsUHycESQlSkkisFwpxTM/LYjAw1PG4lU/G9kGyY3HZ3+HZ22nChHydpSbYRvUwtD+/iDFz/D3+4k+su5b4S5q+1+r/UZgXFOGYT5JEOPjNIFOWpwwENLC1hbFwcHHHWlBZBlVpuKX4aF0qLhtOm1a2VMKgNoX9vQjLIipsYsxLzgPzskNfSkiWw4qRYSEAecviCgxQ1qQUPhZljFeh8tPdomBf8GKftvuJSDU/gYsvz/IOn2pIeHVmzEvz0izI3svLLL2YGZQGTxtbBDv74+S5GQ0FxVhaXU11tTXY53qV+tqarC2ogJr1fNirZq3Ni8Pa3NysDYjA+sUNhYXY+umTfLVno6zccSFbkNvxn14q+rDu7OeNyEtWkKfQ3x8vJQ6ZSSNVuqU6+jXSjfddNPtxLATlrSgurg2sORgZ+DAU4eOocZQkBbHLHTS4oQBr2OEnR1KgoOxVDmNxxtp0a0cZMu5c+XdYmVlJc7wUBqdNkYJ0ImjrkVy9ap+hIUgazdmBeTDLqYSXtlLEFqxAbGNOwaNtuDvkPIuEe/0zlkCm/DifqQFiQT/opVwT2uRqiTcnrYuSZFLr74JM7yShbjgNO7HL3853NIWwT2jVQgIbfnB0Ety9JY6ZWSId6mRACcJi+w9mJy5E54T5qDiwQfRcM89aLn9drTdcAPaL78cHRdfvH9ccgnab7kFy11dJdWAURlaxIXuCB85Y1trqSHd65fhl4jT+xEWv4achKywmUhJSTEpdWpOaFU33XTTTbfj005Y0oKhhRppEezubnbwqUPHUEInLYxwApIW3er4J+SHm5znMYNih30o6oPxNHPrKLzrOQ+xDg4oDw3FssxMbCkvP65ICyLWz8/wfqFw4FAanWs6fXTiNm7ciEVtHZidZ6T70IdpcZ2wDiuEa0oTAopWI7Jm8GiLoNK1uPa2+3DZdbfhmlvvw5tjp/UjLXxzl+Ls/1yI+55+Dbfc9wSuv+sRxDbulG3d+cjzsuwVN9yB+599Q5a3j6vCv875Dx4c+Zba7v144Jk3DphqQjJFi7IIq94Cy7yd+86nj7SYGrcCtra2KB05Eu2XXmqenDADLtty991oCg8XJ5iVKDgmoONMR1hPOTgyxjYm6cAIF5JuPbV2/QgLYlfImYiMjECmelawnO2yZcuGf6lT3XTTTTfdDrudsKQFByZaeToPNYA2N/DUoWMocSikBSt6fGJEWtDBF3HL4wQ8F6aisLQnSYsDlco81kkLHvfmsjJMyg/HH9W5naSh+BhBkQNOKiTscVIBsbAP6m9O4zwuQwxY9yM/GyS7uqImKgorsrOxtaLiuCMtVhUWYu6cOfJ+sbe3F6dsqIxOG503qbzQlyISWrq6H2GhOfqzwiqwUKItFiOkfINB20JLA9EIg9fHWODKG+80pH48/fbn/UiLhTEVePzVj2QdTjvl1NNgGZQr80gycFmnxDrD9hh18eroibJ8WNUmme+V3WGYPxCGKIuWvVKi1bV4q8m5WGTtwiz3WLi4uCAqOBhNDz4o0RPmSApjkLCoffhh5MbEoEQ9d1k+k44woy2MK47ozvDQW7++u3kj9ibfZkJatIU8JSXqmRrSrJ4PjJI95kqd6qabbrrp9rvthCUtaAzd5aDSbv58swNPHTqGEgdFWoTOkxKlb0e64uPMYHxeGttXFSRDKoSQvDguoM6F5TK/qkmWyhPHO2mxt75enHXbwhhcXuCOS/JccFGOEy7IcsD5GQvxnzQ7BdthifOI1AU4L2UB/hc7F+fHW+K8ROs+zMd5SQrJNmq+glruP4Ra57/qvHh+3wc6INfPD03x8ViTl4eeykppj1+amo4b0oIIdHMzRFtQPHAoTUsRodPNUpANzW2Yk7erv6OvMDVtMyzDSkTbwq9gBcKrWUlkpxAPxmki19/5EN4ZN8tAIsz0Se1HWpDoCC5bD9+85fDOXowz/vVvTHSIkHnmSAtGdASXrlPLL4NnZrvMp06GNt8YBsKCaSGNOxBYsbl/xRAiey+mJazEggW2CAgIQFJSEgojI9F2221miQpj1Ktlot3dkRAbi5ycHNTU1Eg1Cq3iiOYM7zdFRE3/lURUX2rCr6rtOU37+1e1jV/VNnQb3Ni2Wr9llNCWpfkmhMXPIX9Cepi1pIaUlZUZUkPYz/XUEN100023E8tOaNLC2dlZBpRzZs+WAbO5gacOHUOFgyEtrg6dhxfd5+LNUCd8lOqPzwoiRUTzS+Xck7xgZMJxAXUurEbC6iSj88NxVd7+S2Uey6QFnzU/NjRge1UVugoL0ZGaisqICGR5eyPGwQEh1tbwnzsXPuq55D0M4dUHz5kzkTVyJGJeew3u48bBaeJEOFpYwHnKFLhMnQr36dPhOWMGvNUz1m/OHITMn49YR0dkq/OsjoqSa7ihuBg7VDuwPY430qI9K8sQzefn5zekDhYdQKaIMGSeaQ5Lly5FdNlyTM3Z29/ZV5iRsAwLospFWyKoZA0ia7cK0SAlUPuIi0uuugGjLewNRMJAIU5GVVxzy324/5k38PZXMyXSYn+kxWTnGFx18914+IV38fa4WYOSFtw3j4H7YVnW0OqtsMo3SgvRkLUTc90j4eHhYfgKz1KYNV5eaL/uOrNkhTFq778fKeo+y4yNRblyhltbW+ULvnGKiEZamCMuflFO9jblSP+4bJn83pGXJ0TFz9u2Yafq09vVPb27pqaXzNDNrLFdSQ6RJOphBZfCj0xIiw3Bl0nVEC01hFFEvEZ6aohuuumm24lnJzRpwYGk9iVsp3ohmht46tAxVDgY0uKK0Ll42nU2XgpeiDcTPPFeViA+LAzHxyXR+KSUiDlOEI2Pi6PwYUE43s0MxOU5riZtYVwq81gnLX5STvoudd23KkdrrXK4FqvzaVTOV2VkJEpCQqSyRqE6T2MUqWnDATyWgsBA5Pr7o3LUKHECm266CZlff40EKyskODoiydUVacqhzPT2Rq6vLwrUsjynivBwOc8l6elYV1CAHnX+bAe2x/FGWvBcHFR/1d4xmzZt6nvzHH7THEBNG4CCnAylX5hnJF5phFmxLVgYVw2vrMUSARFZ24P45t29+hbtv+Dm+57E659NQkpf5MUUl5h+pMUFI67GxxMXyN+MiDj9zLP2kRaL9siyDvHVvUSE2t7fTjsDE+zD5Xd0/XazpIUWYaERFhHqmBYWbDNz/HsxI7wWDg4OCAsLQ25urpQwZ1WJBtWPGmfPRvsVV5gQFeZQ+9prKFX3W0NFBTqXLMH69esl9YBO8f4qiexdtgxLrroKaz/7DL/+9BOWPfAAft64EZudnLBi5EhsUvfA0jvvxG51XLqZGtuT7Wog2tZ24JeIMweQFiehPGS0VA1hKVutaggFU/XUEN100023E89OaNKCDL42oOxSDpDxgFOHjqHGwZAWZ6ba4OIYK1yWZIcrMpxwVbYrrslzxzX5Hri2wPO4As+J58Zz/Ed+/3YgjgfSgtCuO1MidiqnhtoWdOCp79Cpzqs9NRVtKSloTU4elmhJSkKzciTqY2JQP3VqPyew7v77kaOmZTs7I9/PTwiYqogIWbY5IQHt6ryWZWXJ+bJqCM+f7XCsXcODRV5kpOEdw1SEoTQ6cMbRFtRpyKtsxqwc0zQRplfMiW2GY0KdVAcJKetCVF2PREkktf2ED8Zb4uqb75bqH8Fl6/DSx9/hpJP+iKCStUIsXHzl9Xj7qxlSNcQuqgynnnYGvpzjKfOIv/39dPywMFSiOPibpMaXsz1k+emeyfjrKaeKzoWWjrKPsPgRsX2EhVORaelWYlrqRtjYO8tHB5aUraqqQnt7O1asWIHOzk7RqGgmmTZiRL++ORjaL7sMdTNmoCk/H50dHUL4sP2YskCtBbYpHWxj8oKkxcrnn8fyp57CrooKA2mxcuRI7MjNlWU2zpsn0M3UNNJCSLaerdhR+t0AwuIP2BtyKmIiAuQaV6g2Xrx4sQjN8rpo10Q33XTTTbcTx05o0oIvQ21A2ZmXZ3bQqUPHUOFgSAsd+yCaFra28sWeX+qPZdJCoi36iItdynHfVlkp5MXG4mJ0FRVhfWGhOPbDEYwMWaUccJYrbXVzM+sI1rz8Mkrmz0dFQADqo6PRmpSETrU81+O58VyZHsPrx3Y43qIsNGwsLzcIcjo5OYmzNVRGR1CLtmDOP3P/mfYQVdRhqglBZO/FvLhFcExqgHfuEtGoYMQFSYPwqm7c9uAzuPz623DTPY/h2/n+uODSq/Dcu2MRXrkR31j3/r7niZfxztczMfK9r9TfL6n1NgkJ8fwH49S6d+C9b+cKGfHRD/NleVYbGTPdWf3/Oh558X2JymAkBiM8KLrJCiRh6hgcByEspmb0YK5LiKSF8As8S2C2tbXJF3g6tDxnpsbU19Rg0VNP9RfmZInT/VQYab3/fjSFhaFd9cmVK1bI9rQyqAOjLkharHjmGWxPS8Pq99/fR1o8/zy2Z2ZKWsjG2bOx0dKy7+ropplGWGgE25Z1bfgl4gwT0qIt5EnExsZKJA0jaFauXClCsySS9CgL3XTTTbcTz05o0oKl6DTSoiY52eygU4eOocJA0mLMcCMtjMtX7qeE5ZHC2x5zEb1wIUpDQ8VhPlZJC8KYuPixvl7Og/1gp3K2GH2wYxhDI1iox7FUOY6DVWxoHzECtZ99hlp3dyyKiUFneroIb5KY6amowC51rlqUBdvCXDsdD/B1cTG8Z+hQD6XRGaRDR8eOaQ4s5UmHzzt/Jabl7DFLBMxJ6IRjUiO8cpYgqHQdImq2IKZxJxKkHOpPQjqI1kRfVMThgLY9bpv7oFBnTMMOhFRthW3BdrPHSR2L2b5pQv6Eh4cjT/UlrZoEnVkSNTxnpnhQWLMuOxttd91l6I8tV16JqnvvRctVV6F9P1VGmr/4AosyM7G0jwxh1AW3zTbVtC72MNLihRfogWPlyy9jyXXX4edNm7DJ3h5rv/4au9SziQTGjoKCvitzYKMTPhDc10CYW+5YMh6vRq719GzFzuKxJoQFoywSw51FgFMjpnhdmfrE9bR20E033XTT7cSxE5q04IBHG0xmhoWZHXDq0DFUMCYtuocTaaGRFEUDcJTJiw98rJHg7CzpBsuUU7GlvPyYJS0IjbggeA5CYCgHc7hjr2pzLa1lVW4u2q+91qzzp6FNOXSNFhZoCQ7G0tRUidYg4aSlhhzPkRZETVKS4T1D0cihNDpydOjoXFNQsru7W4iS6uoaOOWuG5S4mJm6FguTFsEjswMBxaukLGl0/TaJumAExOEiL2R9EhV9ZIVEV6h9RNZtg3/FFszLMyO6SWTtxMzgEtGxCFb9KCsrC/Wq7zAlRBPPpM4Bv9wzOoIVVFhpol4t237DDdIPW66+Gj4+Pkj+8kvU33UX2vaje8E+2+TignbVR5cvWyYRHNwu90OneY/a/gZLS2nvnaovr/3iCxHhZMUQ6lmsVfvYxg8h+zGuq10vDXTmGYFA8BruD1xGi/7QoG1zuJp2vjx+tuXmNQ34NeLUAaTFSVgU8ixiYmKQnZ0tlXeMBTh53sP5HHXTTTfddBsaO6FJCw5stMFkmJeX2QGnDh1DBY20oONNB/C7wnCcVuyMvxc54dRCR/ytwEFwSj5hf2SQtxCn5BJ2+Fu2LU7J0WAn02QelzG37pCgtw2IMQF2yFT3aX1srKQZ8Gv9sUxaaOCxD4TmxA9HsL1JNjDigqkiHQ8+aNbxG4i2u+9Gq40NlinHfb1ajyVfSdiRCDmeSQuKPFvNmyfvGZbZ5hf7oTQ6dNqXbEYIMM2BegDlFZVwyBmcuJiatRPzkzrgmt4O3/zlomURUb0Z0Q3bRRiTBANFMpPae8U6BX0kxkAyY+D0fUTFz6JbwcgKkhVR9dslusKteIvZSicCEhYhZVi4cCECAwORlpYmwpvUr6C4KTUOeK6ao0/HlhEXjJJgekyj6nPtV16JtssuQ3R0NCIiIhAVEoLSd99Fy003SUSQuf5KtLzzDpozMrBEbWdg1AX3d6hEgbasRjJoxyxEyJ49sl0ePx16nhf3tU2B/2vgdILLcHmux/XNERkHe1xHwrTz5vHxuHs2d2FX/lsDCAtGWZyG+HB3JCcno6SkRK4hx2rG5WiH03kdSzaw/7EtNbDvaP3RuE9q/dK4b2rgb0Kbry3PdTVo29O2P7CPEtpx6aabbrrtz05o0oIPVK0knbOdndkBpw4dQwU6aXTW6HjTAU/NT8XMzBD8kOiDL8NdMCrQDu/7WONtz3l402Ouwpy+/4cKavvuc0Tw8g3XWRg9/Uu8YT8VrznNwOvOM/GGyyyZx2WOyLGo/9/2micRFmwLD183lAYHixjk+oICcZrpPB/PDu9wBNubRANLlVKfYvGrr5p1+IzBcHzqCYiDqJZfHhoq5U41XQsSIcfzdYzx9TUQ5IwQGErTnBI6B3Qg6OzR6aNYZWl5ORxzVpvXuOjDzIxu2Kcuhnt2J/wKVyKkfH0veVG/TdJGKNYZTwKj5cdeEqPt515oxIQRQcFoCi7DZUlUcF1uI1Jti2SFV+lmzMozIxTah6kZ2yTCgoRFQECvKGOluu9JwmzYsEGceJ6jsRNEB4kOFVNGmB5Dp7flq69Awc3szEwpn0lkZGQgW12XxieeQNvVVw+a5tR2ww1o8vJCK6Muli+X/Q6mdWHONIdMOz7NMeRxcxvbt+/A5q092NC9FWs3bMaq9ZuxbO0mdK7eiMWrNqBj5QYsXtmFJQpLV3dh+ZourF63Aeu6NmDjpm4hUng8xkQGj8vYOdSO4Wia1gY8tm3betDT5G1CWDDKojHkJRhHWVBQlhFDPDeeE7ehW3/T2lYjH4z7l0Z+kcgjycdnAe8LRmAxGompNy0tLRJ5zPamsC1TcgrVs53iwenp6UIgMUosMjISISEhCAoKkv+ZpkUikPO4DO9PRkFRh4Trk3Ti/VpTUyPPPe6DVWC4X5KOvJ+Y3sVjIrnKvszj1Mg5rT9rRIjWp4dTv9ZNN92OnJ3QpAXN3t5eBpJzZs/GT2rQPHCwqUPHUEEjLcQBVAPiTeoFz7SHxvh4qbqQ5e2NZDc3JDg5Ic7REbEODv0QdxjB7cWoe4GItLNDxJw5qLvpJiSOHo1gKyuEWFsjbMECmactNxTHYAyeM889xd0dOT4+omXBChSsstHN9AI1EDoeS2UOd7Ct2e5M79hQVITFY8aYdfY0NFx7LWpvvVUqizQ8+SQWffABFs+cibVqQMxoi+O15KkxOlSfnd1HWjC9YahNc2I4yKfjQqeWVTHooJSVlcEzazFmZO8Ay4eaIwuIWSQv0pfBPXsZfAtWIqhsHcIqN4rmRVTdNtGg0EgMAUkJY6hpjKbgMlyWKSBh1VsRWNEN95LNmJM7OFlBkdBp6Zsx2ydFUkIYYaFVkaDDo+kb0KHRHFnNgaFDQweHTg+dXTpoHeq8SZbVqnOnA0UwWoNtwXKaFVOnYtFdd6H98svN9mGiWfXzZnUdO9vb+1UYMSZNjB0o7Xg0Z9LYkezZth1d3T1Y0bUFLSs3o3zxZqQ1bUZA5RYsLNqJOXm7Md0oIoZRKLPUtPkFu+BRuhmxNRuQ27QWFW1rsKhzNTpXrMWatesNjh/bRnP4uN+j7eRp7cBrJYTS6jr8EnmWCWmxK+RMxIar954eZWFixn2J/buX8Nou15ttRHKH9waJAfZrEnOskMeUKJJ+2ge64Y558+bJuNzT01OIERIiPBf2B5Iq7BPUrGFqGM+bRIxGdAxn0k433XT7/XbCkxYcQGoPy43qQW9uwKlDx1CBjhpz+hkmz8gBfn1eqZy5DjVAb05MRENsLOpiYlA7xKiJjka1GuBURkRINEPNxx/LQL3u0UeR4eGBbDXwKQgIQKkaRHAZLst1zG3rcILn3qAGLYtUWyxOS5O0EAo5bldtdTykhhyLYHuz3SmkSaKtc9o0EwdPQ+uIEfAZNw5+c+YIEZXj64vqyEjp30wt2VpefkKQFjw3G2trw6CcA+uhNs3JodNKB0dLmdCIi9DMWszNZlqG+XQRDdOydsE6Yx2cslbAPW8lfApXI6BkHYLLuxBauRFhVd0Ir9kiZEZE7dZeqL85LaRqM4IruuFX3g3P4m7Y5m8dND3FALW/6YmrYOkSBGdnZ3Fc+LWXX2w1woIkzEDCQjP+TWeFTi5JBTp1JBlWqD7bqa4FHR5+5eX/jD5pUteG2y5MSUHdG2+g9brrBo+6uO02NAYGor1PT4MkgUaesJ15LNrx8H8eB6dzPiMqNm7ehmXrt6BqqWof1U7zCgaPeDlYzMjdAw/Vtpn1q1HduhztS1di1eq1BgKDzpzmyB0NJ05rCwOBtmkN9mY8ZkJY/BzyF5SEfC5OKr/w88v8QC0Lbud4N63/7us32yVqiP2e7cH7t1i9A0lI8P7Qxq8HxmwhLmarZ/GcOXMFc+fOw9x5luqZpGBppWANSytiPqysCRuB9fwFsLaxFcy3scP8BX1Qf8v0+YRaRkFbh+tzO73bs5Ztyz7mWcl+58ztPYY56nh4THJsQqwcOrkyV22LbcHxfFJSkrQPSx/zecE243OPEVJsR96vfC5o96zxPaGbbroNbzvhSQvmx2oPvtbMTLMDTh06hgqaA8hoCzpvJC4YRcCwe1ZaoJO+Mjt7SLEiKwvLVd9ndYd2NXBv9vY2fHFkWH+hnR2KgoJEALOZ1SLUMqzewXVWqnXNbfNwgm3AtmC1Cq1UJkkePcri6EDrs7wGFNRcqgaLA507Y+Q98gj8SVo4OiLP31+IKPY1pvgwLepEuZYxfn6Gdw0djyNhxg6QRlzw6yQH83TUUzPzYZe5GjOytw+uKdEPezEraytssrpEH8Mlby1c89fBo2A9PAvXw6OwC+5FG+BWsAHOBZtgm78Fs3MY0WFuWwOQvQdT0zZjZngNFtjZw8vLS8LRmSbAqAiSDAciLGjGTjKJC3595TqMuqCgpjHYFozEYLoJq6wwLL7M1haL7rlH0knM9WeieeJELFKOUac6Jm6D7cr9cH9sa+6bJAGPc9v2HVjf3YNFq7Ygpn4rZuQdTDv/NvAauhV1I6duORraOrFs+UppM567Rl4cSUdNuxbcn7TFlo3YUT3ThLD4NeQkdAbfK9ebY7Ly8nIhlLSImuM1ykJrH+P7kwSbdn8mJiZKeV869tqzwwRGRATJAJICJAmEbLCxhc2ChVhg64CFDq5wdPWEi4cf3H2C4e0fDr+QOARHpiA0JgORCbmITi5EfHopkrKrkJJfh/SiZmSVtiG3shOFtStR3LAW5Ys2orJtM8pbNqG0cT2K6tegsGYF8qqWIqd8MbJKWtV6TWr9eiTl1CAhqwKxaaWy7ajEXITFZiIgNB7eARHw9A2Fm3egHJOTqxfsnd1hZ+8ix2tjay/ECAkRngsJEBIfJFk0wkMjO8y2yyBgFIe/eg+xMg0jt9jPGKXCdud9opMauuk2fO2EJy340NIeZsVqMG1usKlDx1CBTpoxccHoAX7BpmPeowYtDJ9nlYyhBImATWqwTlJgpXImO155pd8Avebtt1EcFCTOJr+Qk0RgRAjJlS1qXXPbPJxgG7At2CZsG7YR20qPsjg60PorrwOv/4qIiH39hV+oB3ylbleI+e47qfxC8qspPl5SfBilQV0Mreypdi+Y2+fxgAYjgpzh70fKONjWiAsOxOnA0xlktEFtba2UDg1KKYVlRhemZ7N6x9A51WZBsiKjB9Pjl8DS2U++mDIdhA4b8+L5xZ1OhXFUw2CEhWaaM6iRB3QISSrQcSfolBDcnvYVm5ETJJPYJsXqWjWo52DbNdcMGnXR8uKLaFLPw8WtrZKXrzk83A/3t23bdqzbtBX1y7fAp2KQMq5DCOv8HqRULkPtoiXoXLpcyBVGLWgOmXEb/l6HTNuG8Xb4N7fPvkfSYXvPZvS0hOLX0D+bkBbbQs5FdJiX4Zoz+oVkEq/N8RRlofVJtj/7Ib/+U1uC6UokbCjUqz0jBmL27H3EBEkJOvN07Bc6uonT7+UXBr+QWITHZQlRQPKgqGENahZvR/PqX7FojXoMHSPg8dYv3Y2Klk0oqFkp50IChMRHcHQqvAMj4eETos7bH44uHrCzd+4lORj5MX9BL8ExzwpzGNHRj9w4MMFhY2NjIDVIHOmkhm66DR874UkLDty0h1VCQIB6YpofcOrQMVTQnDUtVYQOOR05OoV71AB6KMGv3BpJQhJipZOT6eD82muR7+GBKjWoYooGS1aSTKAOB9c3t93DCraDAtuEbWNcIvN4dnKHK7S+ymtCQml1djY6+iowLLruOjSbKYFa9cADSFZ9i1otrUlJEjlDwoPRRbymJ0LEzDZ1v2hfTJ1UW3Cwe6RMcyA1h4kDb5IAdNTpIDLCIC0tHR7JNZiX0YUZWdsxNfsAaRy/C3sxJWs3pqZtwYz4pZjnGQNHR0fJv2fYO3PY+bWdAoF0XrVIATq/xs72/szYaaZzQfKC6xP8W/utOZBaGgnHBGwTptBUKken5c47B60w0nbjjWhQDk6ruhcYhs7ojU2burF+YzcWrexGQNU2UJ/DfBsYgW2t2mNK5k5MydiOKek9sEjbCovUzYIp6m9Om5Khtpe5Q1JoZJ2DIJjm5/cgo6IDDYvasVxdbx4jv+iTDGAb/Fani8tr4PoajKcZExbblqTi1/CB5U3/gB9DTkFu6CRDWghJI14D9k9eF+0Yuc1jzdgG7K8ksti/Vq5cKX2a0SSDpXYIOTF3rqRSWCkHnJESdMqd3XzEUWeUQkJGuXLmV6Bh+V6zTv+JiMYVP0kUSE55BxKzKiWiwycoWqI5XD0DJJLDzsHFEMHBtiX5I6kqhxC1sWDBAhNSQ7v3eV/phIZuug2dnfCkBR8y2sPIV71EzA02deg4EtCccDpwBL8+DzUYlk8ygKKKm7KysOT++80Ozou/+kq0LlqUw0ktAuOwfnPbHQpo7aK1k7k21HFkwOvAfsN0pnUse3r77ei49FIUjhqF7I8/lkohA/tQloWFRFpQn4SkhVby1JiEMrev4wleTk6G9w2/sh5J0xxJOlF0JDm45pds5nszPYLOIr9yczDuG18A67SVmJ25GdOydvQRGL8zAoPbyN4tFUGmp6zHzJgWzHcNFOeNZAVLkdKZYz46oyuYDkISgcdIp4/O68ESFppxOe286UCYA7fJbdOJZxQKnWU6l4y64BfwkoQEND73HNquusqkTwsuuQQN06ejubQU7R0daFmyEom1XUJAWGTxnM21m5qm2sMiYzssUrthkbAak6M6MCmoApM8MzHJJQ6TnKIx2TkaFi4xCrGwcEuEhXcGLILLMSWqDVMS16h1N/WSHCQ8DnB93ArWoah6EVrbOwyRIRoRxHY41Hbl8lq7/rS3t7IHobWrFtmzvacb25Yk45eIM0wIi19CTkZz8EghqnjtGfnKdmdUiBZVw20d7HEdbeNx8njZpuxLvLfYl6m1YC7Fg06yRE/Ms5QIgQV2DnB29YZ3QDiikwuQrRxwRkqYc9J1/DY0rfpZ0lvYtrFpJQgIi4enb5hEbTg4e8g1EFLD2qY3HUUjNWYfmNSgXpG3t7c8Q/k8ZZoPnyV8prA/aClk2n3C+0c33XQ7eDvhSQs+NCwtLeWBs8DKSneGdAwLaI75QJhb9reC2zM4n2qwuGrSJPODcoW6e+9FrnoZ18fGSmg/Iy34pZ1kwlAclzmYW1bH0QH7DSMkmN7BVKHFzz6LtrvuQq5yPpOUE9p4220mfaj2sceQp+Yb+lBZmYG0OFGub25kpGGAy+iGI22as8lBM53KgY46lfmpH0HygtU6IqJi4BpTAuvU5ZiTvh4zMrZiGqMwsnZiarZylIWI0NDriGvg/KkkPDK2YVpaN2YkrcLs2FZYecfDwdFJcvVZxpQOK4U2i4qKhCTgl0s61awKoDmuv+erJZffHwyOt2oT7otkjnHUBQX9eK1qvvsObTfdNGi6SO2no5FZVKPaahm+T+rGpPTtmEwywZi0UH9bZO7E5JRNmByzFBO9cjHRIVLIianu8ZjhmYxZPmmY45eBeQHZsAzKhVVwHqxCemEZnIt5gTmY65+J2b5pmOmVgml+uZgauxRTUzf2RmGw/Y3ICmPMytmB5NJW1DctkpB3rXwrz5vnfzDta9xmEsGyYyN+XJsv2yDolPF/OmjbNq9HT1uU2QiLX0L+hFUhtyEiPEzSpUhWsfKFubSQAx3T0TQeG4+T58s+yz7Dkp+s2KHd6xr4Nb83vWO+cowXwt7JXfQlQqLTkFOxWKIFzDnaOo4cmlf9gorWbtHyiEkpgn9InERruLj7yfWyIalho5EafaKifaTGwOttDKadsFQsNXqon8N+QlJLSznRIp+OhT6vm25Hy0540oLG0krag2WHGjSZG2zq0HE8gU4iHU9GSrB06MbERHRcfbXZwbiGbHV/lIeFYbFyZljqktEZWmi/uX3oOH4hfUc5c0zvoCbK8tGj0Tpvnoi15vv7o3jcOIm8MO4/1LbImz1bqs8sSUsz6UMnAnGxsqDA8K7hAPZoGAfDhOaoa1EXjDo01nZgeUGWGczKyhKtAUZCBIRGwjkyFwtiamCZtBhzkpdjdvIKzEpehVkpq9X/KzErUU1L6MTcuBZYhZVggV8CHFzc4ebmJl8hqVfB/H2q/DMdgIQAv0aTrCBxojnSxl8ltUH8UA3kuV3ug/syjrrgsRiTOeUeHmi5914MFOlcdPmViLSwxFjfWnwZ1onx8V2YmLYNkzN3waKP0LHI2IHJieswIbACE+zDhaiY5pGIWb5pQkTMDy2EbWQp7GMr4ZhQC+ekerikNMI1tUmhuff/lCa4JDXAKaEODnFVsIsqg014kZAZJDqmB5VhatI6ieAwH+HRi+CCJaioaZAIG01I9GBIAq2d2HeknbZtxI9VP2B3+beyDbYZHbCenq3YsmEZttUuwK+hfzIhLH4N+SPWB1+JqLBe7RKWndW0S+jEsT9y+9zPUF3z32NsAx4fz5eOJ4mt8PBwk2gKfpmnU8soCruFznD18INfSAySc2pR1dFj1mnWMbzBSA2moWQWt0o0jF9oHDx8gyV9pzf9ZKFcb0Zp9GpqHDhCg2Wd+XzlfbBIvSeoc8JnsZZuMvA5qJtuJ6rppIWy2NhYw8NjSW6uejKZH3Dq0HG8gA4ioyREl0A5JsveeaffINwcKl54QRxSCimuVvcJU0QYpTEU0RY6hjeM+4+kiPj6YoVyQNuSk1EXHd2bSsSUkQF9qPapp1Bo1IeYIjJUETvDET83NWF+n9geQ4np+BwtM3ZAtVB+jbygs65V1aC+Ax12EhgkGRjGn5CQgGh1nemosSQpiQhGTfj5KadMgX9zWmhoqAzGuSydU0ZU8Cu0RC7U1MiXdaaBMLKC0R7aIJ3H8nuiK36LcR+ERuZo7cGoCy2Fho51qTqHppEj0d6XLtJ26QhEvvoR3rPLxijPanwZugTfxa3HxNSeXtIicwcmJ3Vhgm+RkBUWrrGY4ZUikRQkHEhSkKBwS18Ez6wO+OQuhV/BCgQUrkJg0RoEFq81whqZ7l+4Ar55y+CVvRjuGa1wSW6EQ1w1FkSUSHTGzOBiTE1ZjylZgwuruuetQFFFnRBUPL8DRTcY9xc6UTu3dWN3g42QED0VM2QbjE5Zv3YVNi6rxI78D0zICoIRFhtDRiA2zBPx6jlAIViG0rMfUBfAOGXlSFz3gzUei0ZUkFxhNBK1abSxowY6qXRYqUXh5OotTi1TEZpW/WLWCdZxfKGqYxuyS9sQlVQA36AouHkHwdHFE7YLnfalnYhI6IF1NPiO4LOU0Rl8Vupkhm4nuumkhTLjCiL5UVHqyWN+wKlDx/EAOodaeD+/dK/38jJxLs2h5YorkOXoiOrISCl5SuFOfmnXNAnM7UvH8QnjPkQhVxJYG4uLhYhYopw6lsatmzDBbCWRfEtLichg2VOuw0ifEyliJ9Lb2/C+YVTD0TQOdDVnlINfY/KCzhnD3fklnsdJp50iggxtlqiD8nIJ6efXQRIRHFgzKoMgucFpdOxIdnBZkhRcl9ugg8oIBm6bX9a5L0ZWaGSF8UD8SA/GjdtDogmUI08ngc4CnVUR6STpMnYsFl1/A7LufQLvWKXgA8cCfOpThy/DluK7+PWYmLYVk1K7MTGkvjeywiVGyAqSCrZRpXBKrINbegu8czvhX7gKQaVrEVrRhfCqbkTWbEFk7VZE1fUgun6bAfwdpaZH1m6R5UIrNiC4bB0CilbDJ28pPDLb4JzcgIUxFbAOycesyAZMTd+CwVJGHLLXoqCsWq4JiaPBiAutTTTCYse2zdjR4guEnCRExNrSBWhra8WS1hqsrQ3CTzEX9SMqNPwS8md0BV+J6FAfISzYT9gvmPvPvsB+wD4wXBwx7p/HQiKFpAzFWflVXLt/CS2agsKOtvZO4qTSYa1s32LWqdVxYoJpJ4zQSCtoRGhsJrz9I+Dq6S8pJyzxOt/GVtKGpKTrAdJNSGZQDJTPWj6PSGbw/uH9a0xmDDfiTzfdfq/ppIUyvoy0h0GIh4d6wpgfbOrQcTzA+Cv51rw8dD78cD/Hcn8o+fRTlIaGoj0lRUqksuoIoy1OlPB+Hb3QSAv2I15/qUBTWSmpIutVv1iuBlPNsbFoM6NtUfPMMygMCEBzQsIJGW1RbBTZR8J8OBgHtppjysEuiQMOfOnA0mGj005ygV/C+b4k4cCBMokMpnXwaz0dX4Y2E0yn4DQ6oyQo6OxrJAW3wegFOqjcNvfBfR1tssLYtLbgoF8jcpj2wGgQjbgoLC5B+GxHfDUnDh86FWGURzU+D2zFuKhV+D6hCxNiV+J71xRMdIjANM9EzA3M7iUrkurhmdkOv/wVCCpdh7DKjUJSkJSIadqJ2KZdiGveg7hFexC/aC/iW/YioQ/yW02X+c271bI7EdOwXQiO8KpNCClbD//ClRKBwdQSu5gKWIYWYXryOlAE1Rxx4Zi9CgWllXL9Bou4INgWJHF2bNuKbYvj8WvYXw1kREfuAjQVh6Mr7Z1+JIUxfgr5K9aE3ITosACJ1NEIC/YfRmiwj3G/bO+jTVjwXEmisa+SaPPy8jLcswQdSn4t55dzfkX3C46WdIHGlbomhY5DB7VMiupXIym7CkERSfDwDelNN7F3NkRnHCyZ4evrK9WXmLJE3QxzZMbRvr900+23mnqb6Mab2FiMkyG8xoNMHTqOF2jOJrUsdlVXY+20ab1fwy+7zCRPm2i88ko0KbT3fTFvvPNOFPn5GSpA8Av7ieRw6tgHQ19S156REuwHjNxhn6BexVI1cFpkLtri0kuRa2triNhhtAVJj4ERO7+yTynIb07X5qn9/qr2Z5h3jIEpiNogk87bcDLNQdUcdmMCg447HTkSDXTg6WSSfCCZQWeeKSXGYJQG53EZLst1uK4WUWFMVHBfxg7ycDGtLXiMGnFBR3bxkk7EFDRhjP8ifObbiDF+TfgiqA1fRyzHd7Fr8H1YK8bbhWGyUzRm+qTCOqwQDgk1EgnB1A+SCxHV3Yiu3y7EA0kIISZaf0Ri209IavtZkNz+iwm0eVwusfUntd6PQmTENu9CTMMOIUAYgRFQtErSTUiSMG1kZnwnprKkqhniwiVrKYpKyoVs0ggEnq92XQghLHZsQ8+yXPwS8Y9+hMSq+Jfwc+gp/abtw0nYE/J3tIY+hYjwcEkTYhSOFmFBosSYsOA+j0Yf4DnynNlnSaRQd0W7TwktooIijE7KoQyLy0T5ok1mnVAdOg4Hmlf/KtEZKfn1CI5Mhqdf6G8mM1ihiWQG00xIvPI5xvuOz2Pe29q9rptuw9nUG0U3GvNwtRt8Y1mZemKYH3AeLdBBOB5h7lx1DB3Y5nQM6WRuUy+wJbfdhvY77sCi559Hw6OP9nMuiZSnn0bY+++jRi3XdsUVMq18zhzRJFiZnY3NeorICQ2tP5G0EvKiL+qCxMW6ggK0q37SdvPNJv2q4q23pPwpS+hq5NfAiJ1dMTHYFR0tJMXerCzsVf2Nf+9JTcWOkBDsiojAz4xUGHBMwx3bVftoeczu7u59b6DhZxqBwIGsRmBoJAYHuRqRQdDhNAdtvkZQaCTFcCYqBprWBjx2DvDp1Fa1rcbEhHX4JmoVvo5cIfgmZrUQFt8FVuO7BYGwcI7BbP8M2EaVwSWlSbQqmAIiZEXDdomUYBQFiYd+BEXHrwakLIYJjOcL+ogMkhgkMLjdmMYdkkJCcoQRHUxDWRhTiTmxLYMSF/4ZDTDbAbQAAP/0SURBVCgrrxAigQ4NCRrtuvH/HTu2Y+uqCvwce4EZYsI8mA6yPeRclIZ+IbomLAWZn58vIq+M0hkYYXE0CAv2RU2ngpordPC0sSBBh5DCig5O7vAPjUdxw1qzDqYOHUcKQma0bEJqfgOCI1Pg6RcGZ/deMoNaKgdLZrCiCXWJmMJHoo46RlrVpqN5T+qm22Cm3iy60Zgbpt3IderFam6weaShOfYcyItjoEDH4FgHHRyei3Ze2nmaawMdhxdsZ7Y/SYsuKyusHD8ei5VjWRUZiaYHHzRxLiPfew+eM2ciSA3kSt54Ay233IKmV1+V0H6WraSuBTUJGLnBa2lunzqObxg/p7S+ReKChBb7SAsriQzoVy3XXYdcNzfUKkdmWWYmNqlBk0Z+ac+CVc8+i86bb8ZPhYXonj5d8CMjOG6/HWs//BArHnsMG7//3uR4jgUsVINFvmvmzp0rA8PhbhqxoDnwGpFhTGYMBm05bT3jbR0Lpp2zRlqsXN+N+Xk9mJCyFT8kb8b4pE2CHxI3YnxQLcYvCIKFSyzmBmTDLqYS7umtkrLBNBBqUjD9g1EVWkSFRj6YIygOFsYEhjF5QXIkvLobgcWrJeqCVUnmxbVJydqBpMXUrF2IzihFVVWVhJUzeobOixZd07O2AT8lXmeWnBiIX0NOwt6QU7Em+HokhjkjLi5OCAFqoFDMVAtb1yI6jrRzxP2QeCMBxVQfV1dXw/iPoEAi9QXs7J3g5R+GrJI2cRTNOZA6dAwXsI9WtHT3khlRqX1khi/sHMyRGYMLgLq4uEh1J5KLTO/TU0x0Gy6m3jC60ZjPqd2wySxFZ2ageSQx0AngV0iGX+9WA/tjHTwPguekkRgaeWGuLXQcPrCNtT61Qw1OGZrPEP26qCi0XXONiXMZNH48gqytEefoiCwvL5SqwV3rK6/IF3TqEdAxNSYt9Gt44oLXXutfvLdZVWQ9oy3Cww2VFoxR/OWXKA0JkYojjMqgPgr7pdaPSFqsffddbBg3Dt3TpglpsdXWFqtfe032t1sNqjpvvNHkOI4FhBvlyDM8/lg0DlgPBceq8djpUNPJ3bylBxG126UqyOSMnZiUvgMT07ZLedMfwhbhe9tgTHGJw9yAHNjHVsEzswNBxWsQUb0Z0Y07JI3DEFlxGMgKczAmLxjJQZKEmhfBpevgk7sETon1mJvYAXPinPMyNiAtK0+cFUYe8KsrnZUt69qwN+0BswRFf5yEn4L/gi3B/0FF0HsICwuTFCiKtFKMVQtNp6ipJrppTFgMdT+ho8V90gkjgWKt3m3afTiL6R/KobOxs4ebVyDiMyvQsOJHs86hDh3HGkhmMM0kKCIZHj4hcHT1gu1CR1jb2PaWZzVEZZgnM7RKJkztor+0fPlySQPkfaxFZehEhm5DbeotoxuNL2aNefRwcFB3ufnB5pEAB+waYbGjvg49NdXorqrExopydJWXYn1ZSS9KjzGoY+5S2FBehs2VFeI0k8Sgg6MTF0cGWt+ic0iygZESTPNY5Otr4lS2XH45AtWLKlbdD1ne3ihXA9DGuDgR4VyRlYWuoiJsVQNR+UKukxY6+sB+IJopff1rmeorrW+8YdK/6u+7D7mqX9XHxkpExpaysn76KCQtmAay9I470DV2rJAWWywthcignsXe9HQsvvpqs8cw3JFnlC/P3H7dhqdxAK5FWfArY+OKrcq536sc/r2wUE6/RdZuwcTENfjeLswQYSGERVYHgkrWSppGTNOu3lSQtp8MKSDmCIfDBY0QITlCnYzYpt0S5cF0EZ/cTiEuZqWs6T2XAcSFe1qzVIRhBAIdk/UrWrEr5w0zBEV/MLpiW9A/0eJ3NwJ9XYSw4NdaljRltRnqZVCMlREcjNw4khEW3Af3yQopTFHR7j2CjpqV9Xyp4sBQ+6qOHrNOnw4dxxsoAJpfvQxRSfnw8O3Vy1jo6AobW3tDVMaByrKymg4rAZHo5PPCOCpD08rQiQzdDpept41umtnZ2clNOEfdoHvVoNvcYHOoYUxY0JlPqcpBdHkGwktSEVKYhMC8BATkxcM/Nw7+OXHwO0bAY+Ux89iD8hOQVphmcHop3kcnWnNWzLWLjsMDrX8xwoWEEbUE1ubno33mTBOnsvruuxFha4s0Dw+UqQEoU0IYlcEICwotblHXboe6dnQ0uT2dtNBBsA/wXma/6KmslP7V5uKCjhEjTPpYrnreVqi+tTg1VfoU+5MWbbFq5EjsSUzEpunTseT669E9Y4boXCx/4AHsVoMkkhhr3lDOlJljGO5ozcw0DProROk2PI2DbQ66GRK9afNWOJXu6u/kZ+/F5LQefO8cDwunaMzxy8LCGEZYtPcRFlt700FafzREV5gjGYYKhqiL1p8kXSSqfhtCyrsk4sIxoQ4zMjb3Px8Fpo7EJGdKnntLYxU25442S1IMxE/Bf0a0y+fwcHdFcHCwRFgY61cwooiirEcqxJzbJSlCB4oh7sa6ZTLOmzPXIKqZnFOjp3/o0NGH6sXb1Ri9CYERSXDzCpAKObYLneR+sbSyxpy5fVEZg5AZjMoICQlBaWmpVJmidg1TsUgc8t7nM5X3vm66Haqpt41umhmrRS9TL1tzg82hhuZUypdwNYD/Z4kr/lDieNzhzjxPLElLwxrVzvzCavy13ly76Dh80JxKkmIMyWfp0sVvvWXiUOa/9JKkheT7+6MhLk6+mLOcJctaMvSfkRokPnTCScdACDHW9wyjXkVnRgbazJTWrRo5EgUBASLsqpU/1SKvur76Cj8q5/5n1UdXPf88elxcZNtbrK2x6rnnsOb11/FTUZHJvo8FbFbnqb1r6EzpNvyMTq8WZcHBdumSHhMHnykWE/zLMMlRjR180mAbVS4aFtSQEMKi+egRFhr6Exd7pLRqcNl6KYtql9SCqVn9S6EygmRB0iKkpyZiefo3ZgmKwdAT+C/E+81AbEykpIQwwoLCnprgplapYKgJC14zpraQMNE+Rgn6UkAW2DnC0zcERXWrzDptOnTo6I/mVb+ICG18eim8AyLh4uEHeyc3dS85wHo+U0ys9quVwemsYMLIKz4TGPWk6eYw6krXydDtYEy9aXTTjKygdoMVUbXezGBzqGH8lZJRCGcWu5h1+o913JLlKiUPO1JTxRGm86w5K7rzO7QwJsaYotPFl8gtt5g4lMnjxiHZzQ1loaGSEkLdAUZmkKzQNEk0woLb06+bDg3Gz7Ee9RxbrfpY64wZJuVPW6+4AtnOzobyp+YEOY9HUIhYG9w5OTn1vYF0G07GwTO/CHJAvbF7C+xLBkRZKExKWIMJC8Mw3SMR88OK4JrShIDClaJhoUVYHIl0kAPBJOKirgdBJWvgkdGKeamr952TlvaSsR1JEQ7YEXoOdof9G3vD/oUfw87Aj6Gn4qeQ/8MvIScr/Enwa8gfJTWEehYkLvaG/h2l8fNRWpyvuvoiqUigRVgYh4sPhXPCbZMcodjn/Pnz+zlM/ELM0PfA8ETULN5h1jHToUPHoaF+2W5kl3UgPC4L7j7BcHL1hu3C3pKsEpVxAK0Min6mpaWJTgafFdTJMK4opBMZuhmbTloYGfMttYFkMEvRDRhoHgnIF0o1YOfAnQP445W0uD7NEdm+voZ8dhI0/GqvkxZHBhppQbJobVhYP0dSnMnLL0eUGvRleHmhJipKKjx0q/7IL+ckKwYKqOrXTIcx2B+MiTGmfixOSkL7tdea9LXCL75AcXAwWtV8gyCn6mPHOxFm2ycCaGVlpQ/KhqEZR1lUL93Sj6wQZO3GDx4ZsHCJwbzAHKnM4Zu3FKwSEtO4UyqEHM0Ii4EwJi4YARJRs1kIFufURfuqifSRFpMydmJ+VCViY2KQnxaB6gxXNKVMQ1vcKCyNfBZrw+9AV9gN2BB2FbpDR2BL6EXYHno+doadgz1hZ2NPxLloK/LB4o52yXHXRDeH6msqt8nrxDQQkoCaQ0RniUKDTq5eiEsrQePKn806Xjp06Dh8YKoVozJiU4vhxQombj6wc9inlTFn7rz9amXY2tpKxSGSj5pwr7FOhk5knLimkxZGRpZeY+fnqhtqj7phzA02hxJCWvSFVVPzwRxp8cciB/MoHmboO66T1N8Dz+Hq5IWIV4MLfsVn6DgF+yjcd7x/YR0O0BxKkg+MnFhhYWHiSFY+8ABi7O2R6+cn4psSul9eLl/OB5IV+vXSYQ7sF+wrJCOZAkZysvW990z6Wu2DDyLHx0cITIrCctndff3seO5b7g4OhkEaB2K6DR/jgJjjAV6XLVu2IqB6uwlpMSl2BSY6hGOmdwpso8rgmdmG4LJ1kn7BKiG/h7AQckGtr4Hb6jdfbTex9UchIFIOYR9cj9tiBEhMww6EVm4UfQvrtFX9SAtWRrFIXIvA4FAR02TFgCI1HqFAZ05ODjLUOzs1NRXJyclITEw0IC01GaWZoViU54rVRfOworPVILxpHGVxuIzb4hdZhpqzsoF2P9EZonPk4u6LnPLFZh0rHYcGXfNDx+9FZetmJGVXwycoqje9xNENC2wdYDV/wQFFP0nuU9y3Qo1Z96eToZMZx7fppMUAi4mJMdwkFEszN9gcShh/neRXx3+YIS3OirPC2Qr/TrDGOUnzFRbgnGRbnJsyvHBOsjquJBucmbbA5ByuSFyAMBsbyWdnishGfsUnaaHOXXeChxbGziRLlnY+/7yJI5nz9ttIcHZGUVAQWs2UpDS3XR06jMF+ppFj1EBhH+pQfarj0kv79bX2Sy5Blq1tP0FOSRdTfU0TeB0IbtsY5vY/3MFoPu1dw/B53YaPceDLqAA6xGu6ujE9b2CVjb2Y4JWLKa6xsArOg3NSQ29aSM0WxDXtEjLh96SF+BeugF10hQGO8TWGeckdv8AndykWxlQKWFL1UPajERfxzXsQKWkia+Ga3oGp2b3aFkJaZO6SMq6OISnyxZOkBUuWstJNrXpvUKuiSt2jleq+Lisrk9Ragn9zGVYeGSi+yaiVw0VacBskQfgFlsSJdh9Rs4LlGx1cPJCW32DWcdJx6Chp3oiUwjY0LNdLwOo4vKhdsrNX9DM8Aa6eAXBw9ujVyZBSrNTJGJzI4Dx/f38UFhZKlNVAnQydyDj+TCctBliDGihrN0RiYKC6q8wPOIcKHJAbwvbz8sySFg/N/hZPzBmPp+dPxnMO0/GC6xy86D4XL3pYDiPMwwtuc/G8y2zc4z3b5Bwuj7dBoKUlcn190aYGHRuKiyW6RCcthh5sXzqDJIk2qMFox9VXmziRCRMnIlU5VRXh4SKYulG/Pjp+A6SvqT7DvsZ0N+pWtN9xR7/+RpR88AEK1fOWFWpWqT5JsVdN6JWkhwamjWjgdiVNaRAyw9zxDCfEqcGW9q5haqJuw8c40NVSQ4rbTStsWKRvxQ/2vVEWdlFl8MrqQGh5F6IbdvSmhRyAsCCxEb9or9l5xMuffI9Lr74Jl11/Gy677lZccOlVhnn+BStwxQ134MnXRuGBZ9/AHY+MRFjVpn7r7w88Li1NhGksXJdpLXMzNvaeH6MtsnZLiohldD2ioqIMVUDa29vlKydDtvl/Z2enkBMU1uM8/s9pK1asEMKCX0IPt9Aet0ORzWL1TqLTot1D/FJLzYqoxHw0rfrFrIOk47fhnY+/xB//+CfE5TSZna9Dx+FE44ofkVu+GGGxmXDzDoKjqxfs7J3M6GTsIzCM4ebmJtFgbW1t8m6lTgZT1EhC64Kfx7bppMUA4xeBuXPnSse3t7GRQbG5AedQwZi0WEPSosjZxOF/xPIHPLPAAi+4zMIrvjZ4I9gBb4Y7460IF7wV6To8oI7lzTAnvB5kjwdDbUzO4bK4+fBT7Zzl7S257DppceQgfUw5fdsrK7Haw8PEgWy+5hpE2tkhU12b2uhoLM/KkogMXXNEx6FAIw/4DJWoHi1FZOxYkz5Xf/fdyPL0QhXFedPSsDovHxtKStQ65dhaXoGeikopn8qIjW3q2cjSqEwn43YNorBGRMZAEsPc8R1tZIWHGwZZFCHTbXgYB7NaaggF4YKrt5mQFhNDGzHZOVq0LJwT64VIkCiL5t0HlRZiE16s1s2VKiNM8xg4/5EX30N0w3bD749+mG/4+4lXP8Zjr3xo+H3Nrffhowk2ht8HA0O0xaI9iKztFeW0z1y+j7SgGGfWbkxLWY/gkFBJCWlU9xXJCDoAJCMIkgf8sslpXV1dAm0+246kDx0FtuXvdRa4HrfX2tqKBQsWGO4dOjCsBhIQliCigOacIB2/D6+8PQrnnHs+/KPzzc7XoWOo0bTqZxTWrkJUcgE8/UJFJ2OhgwtsbBfC0np+r07GfsqwOjg4SBlmRoEtX768n07G4YwC021oTSctzJivr6+ho69RzrS5AedQ4WBIi8cWTMbzTrPwmt8CvBPlig+SfPBRWgA+zgzCx1nBwwPqWD5K88f7id54LN70HC6Lnw/fOXPEMW7RSYsjBrYtiQc6elvKy7Fs9GgTB7L0yScRqx7wLHXapB7y7IfUvuA6miNobts6dBAaUcC+QgJhr+o3JBmoW0PSosnLC+2XXYa2Sy9F8xVXoerGW1F078MId3BHUmAU8mLSUJaSj+qsMtTllKEptxzNeRVozStDR14pluWXYFVhCdYXlWBjcYkQaiyVymcmnyFadIaQGAMIDHPHe7RQGhdneM8w1F634WEaacHogE2bumFV0L8kKDHBKwvTPBKFfGCJ0+DSdYiq33ZQURZEVH0Pnnj1Ezzw7JuihxFSvr6fbsWdj74ghEJvqsk+UoPbPePMszDOytcw7Y3Pp+DKG+8y/D5Y9EZb9GlbVGyEV04npmbv6U9cKHgHR8tXS0ahMvxaS/cgGUGwjCnBaRr4m/OYa/57CQuuw+0whz04ONhwz9BBmW9jpxyYMFS2bTHr6AwVqO8wmMbD/uYZw3g5OmR1y/ZIWcmBy2nY3zYPZp8Hu4y56dWLdyIhp9nsvF5w278ccPvGOJjj0aHjQChbtAEJmeXwGVCGVXQyDiD4SQ3DiIgISXdj5BhFgwfqZOhExvAynbQwYxSc0jp1flSUujPMDzqHAgdDWjxpPxUveVrhrQhnfJjij09zwzGmOBqfl8bii7K4YQEey2eFURiVE4qn0r1NzoGRFjppceTBtqUjx+o0G1X/Wmym1GnGp58iycUFJSEhUuq0q68kra5noWN/0IgKpmvwPiZxQAKBfWdTWTlWFJSgPj0POdGpKH76JeTe+yQC3xyLb+aE4kO7THzsVo4xga0YF70aPyR3Y1LGDlhkKSdKOVB0pKZn78aCzE3wzVyO2IxFKMysQGVmKZqyi7Ektwir8grQVVQsVW5IYlAXSCMweDxaGgmPczg8YxrS0va9Z/Lz+94+uh1t4yCVTjYd7xXrNvQjKwiLrF2Y4BCFmT5poinhk9uJsMpNkmqhaVmYIwnMgZEWdz/xIp58fZRsSyMo7n78JdhGlmGOXwasQwsRXLpWpkc3bscf/vAH2be2jTHTnfHPf59n+H2wMERbNO+WEq1+BSswO8uoSgrvOwXHsCzRjaCWBUsSMoKChA6/TrKdNPD3QHC6cV75oToAXJdOBMdk+xyP3vKl/NJaULPCrCNzuFC3dDeyKpYjs3wZihq6hFzIqVqFhNxmpBZ3CNGgLdvAkPbqVUjMW4QEBS5Xb0YDoqpju9reUiTlt8g2Spo3ITqjFi7+yciuXIGyli2yP4LL1qpjSCtZIvvkfGNHv3rJTmSobXF/yYWtKGrcYJIaw2PMrV4t+0opakN+7dp+VVS4fHHTRmSUdiK5oE2OrUZtV5unnT/BY9HWI3gsZS2b1fEtluOj7oXWTtoyVYu392tD7jtHtZO0YVEHShd16+SFjsOK6sXbkFbQAP/QOLh5+u/TyZhvi3nzLPerk8FI+8DAQHnmUCeDaW6MKCORMRRiwrodmumkhRkj26Z1aG8npyM6wD0Y0uIpx+l41dcG78a645PsEIwpjcXY6iR8VZeKr+vTeqH+/qo6GV/VphimfVWjfqtpX9caLWcMtQ7JD7PzDhE8lrFViRhTEoNns/1MzkEnLY48NKfS0L/c3EwIC5Y6jZ43D+keHhKqTw0CahEwFF9PDdExEOwPWr8iKcDoBkbkUI9ia2UVVpdVo62wBuW5tQjJWIypyV34NmYNvgxqx2ifeiEqPnItxSfulfjMtwlfhnXi27j1mJCyVXLq+aVXIy0GA8kMj/QVyEytQEVGMRZlFWB5bj7WFxZJ32VaCZ8tPC7j6Avt2M2d15EAhZ61gRLD73UbHkYHmw43B6l1S/t0HowwOakLkxyjMDcgG06SGrISkTVbxPk/mNQQY5DkYGrGmGnO+O/FVwhxwOmfT3fG/LBCTHWNw+XX3447Hn5WUk8omknSwio437CNr+Z64f/+9nfD74OFkBbtv0h0SFRdDwLVcVhnmZ6vTVSFiHFSdJPpISQtjL9CamC7mYPxMgdrXJYRG9TLYFi3dp/MUQ6Fnb0zolMKj4ijG5Vei6uvvRl///vpePyZV5RT34pb7rgPp/79NPzfKX+Db2SOLEfCwjcyF9fddDsuvGiEwqW44pob4B2Wqeb9ZNheWesWTJhuh/9dchmuvPYmnH/BxXj5rU9knf9c8D98/s10TJnrjEtGXIVT1PZnzPeEk288LvjfCJz8l7/gwotHoLh5k2yrvG2rzOe6F4+4Euee9188/vTLSMpvNbRN/fK9sv7tdz+Ea2+8TZa74da7kFTQYjimRPU30z+uUsdz9XU349z/XIBZC7xkG+XqeK+78Xb848x/yfEExhUZ1iPSSzvx/qff4PwLL8aIy69R53MRHn3qJURn1hmiRlwDknHF1Tfgb6qPPvq0mpdRhzvueRjnqOP926l/x+vvfYbC+vX9tqtDx+EGU8eyStsQHJUKN69AOLp4wpY6GTZ2It7bq5NhnsggycHqRBQa1iIymFpCYpvELJ9zuh0Z00kLM8YXpr29vaHDblcDcHODzqHAwZAWTzvPwGv+tngvwQuf5oVjbGWCEAXfNGXg2+Yswbj6dLyf4I13otzU9EyZ9mGqv/z+sirJsJwxSFo8NPkLs/MOFePUsZC4+KI8Hs/lBZqcw29JD9GcDHMwt7yO/mA7aakhLF+69N13TUiL8sceM5Q6bVAD1VXKmWIaCdfRSQsdxmBf4PNKnll9ZAXTQDaUV6OzpAaV+Y3wyOkSx8e4IsH3SZvwTcxqISi+CGzF5wEt+CKoDV+FL8W3sWvU/G5ZjssLaTHAiToQ5mduREpKFSrSCtGSkYuVuXlSkYSaGnyuMvqCx8v+fDTJi+b0dMM7Jk8963UbHsYBKL+oUUAyt6XbpH9Nil4MC5dYWIXkwzW1WZx9Ov10/g+2YgjJgpCy9bCLKsfDL7yLx1/5SIgPc8t6ZXcIUbEwthLxi3bjj3/6E6Z7JBrmf2qxEOf89+J+6xwsDIKcDTskRcU+e73J+c6LXSQh1KwOQpFNDtaHMnSahBHzzSkAqt0fdCbm29jCOyASNUt2mHVKhgp0/EkMnHv+BXjmxbexwC0CH4z+VkiLL76bLsuEJ1fgz3/+Mx5+4nlZnhEQt9/zEP6krhWddG1bE2YsxB//+Ed4hKTLb//oPFlm/JT5CEsul6gJTo/LbsRJarknnntVCIeAmALceuf9+PtpZyAwtpew+eqHOTj55JMxUW2T6yTkNeOsf5+LEVdcg4q2HpnGbbLveISkyW9Gcfz73PPxxvtj5DcjKS6/6no8+dxr8pt484Mv1H5Ol/PQpt3/yDOyHWNNi8r2bbjh5jtx9r/PQ2himUwrauzC1dffgn/88yzkVK00LMtoEh77+f+9CPc+9CTcglIkMuSlNz+W9vhwzPeGZXXoOFJg1E9+9XJEJubCwycETm4+sNN0MqyokzG44CdTS2JjY0Ujg2lzjAgj0aqTGENrOmkxiKWkpBg6Z53629ygcyhwUKSFy0y8FmiH95N8MLogEl9WJ2FcY7qQBd+1ZAvGNWbg3nEf4W9n/xOfZAbJtJGOM3DFUw/2kRaZ6v9EjK1IELKD80kw3PXFe/huUZbM+7IyUZb7ujZF/u4lPzKFJOE+v1XLafsbiG/UsZBI4bIjC4JMzuFgSQvNodCcIzoaxjiaTsexBraRpIbU1GBjTg46rr3WhLRI/fxzJLq4oDg4WKq6SKnTykoJsWdbm9uujhMLxvejlgZCsqKrvBqtxfVIzOvEzJwBOgDMke+rSDAhlcRFN76LW4dvolfhm6hVEn0xPn59H2HRg8mSGrJLrUfSYv+RFoNhqlrPM3UJ8pMK0JiWjWXZOViv+jM1MPh81SIvtHM50s+QRqP0kAJ1XLodfaMTzgEnnXJGFCQ3mlYOmRTWgKnuCZgfVgSPjFZx9mMatktqx8GmhlADY+T7X0tqSEDRqn7zktp/Rnh1t+F3ZO0W/OGkkzCrLyXkvAtHYMw0J8P8Fz/8Frc9+JTh96FASxGJbdqFsMqNcMldY3K+sxOWIiQkRMoKsjoIB+daOcHDSVpwW1T4p76LJoZOsOwhv4rmVCw263gcCdCpp9P+2ddT5DfJhRdf/1CcdP5+5MkXhEBgGoS2TkhCiazz/GvvG6bdcMtdOPOf/zL8JihwedU1N/WbRjAK4SR13YPjS+S3nUckvvhuhhAWVYt34PQz/qHWu7HfOqO/tpB92rpHyO/Js9V4S/3OKOs0pI1wGxppwvQTkgaffzvdQFKEJpZK9AT/1vDl97NMSIuFXtEy7VsL637Lhqj1edwfjP6u3/Rrb7hNlg+MKTBMo9N45j/PkggS42V16Dha4P1V0rgeceml8A6IgIu7LxY6uPYRGYNHZMybN0+I1kXq3a6RGNT10dNJDq/ppMUgxpez1hnDvbyO2ICWg+dDIS0+KyRpkSyRDd8uysZ3rTkGvOIzHxc/eAeufOZhIR6YqnHv1x/JvNH5EXhi7vd4fPZ4vBXpItNeC7DDQ5O+EMLjiTnf46HJY/F5WRxeD1yIR6Z9Jeu/F++FJy0n4OkFFhiVF95vf8YgoTGuIV1SRH4LaaGB7UFygm1C52iPwrbaSuysq5ZpOnFx8JC+pdqPfWuVra0JYdFy1VWInD9fUkMqIyLQaZQaoqft6CC0e1IENlVfYhrIxopesiIqd5kQBQOdHkFffrxGXJCYoG7F9wnr8X3cGvwQuwYT4lZjYvwaTEpYh8mJ62CRtB4WyRtgkbIRFqndmJK+RWEbpmTuwBS1nUMhNBxTVyAnMR+NqZlSDYfkxRaWVVXPHNG8OArPEZLh2juG5Rt1O/rGwSUHmSQtKDgZW2+k8dCHScHVmO6RBNvIUomCCK3YsE/P4iBTQ+YF5cAlpdHsPG7v+Q/GSQlVkhcTHSNx5lnnIqC4l9x4Z9ws3PPUKyDJEFS6FlfffA9+WBhqsp2DgUZaMPWEuhbueaakxYzElZLjzWggVu5gtZDDPRhndAWFNv38/Az3hFQFWeiI8LisfhoJRwNPjnxdHO6g+P7pEQSP7Yx/nInzzr8QuTWrDUgubJN1Rlx+tWHZCy+6VC33P3GM+Jv/XzziCknJ0JbRcOqpp+G0084wkA3GCO4jRF54/YN++5xq6SrTPxozXpZzD0qViJDHn35FdDMY8dBkpGfB/f/3wovxr7PPgWdoumhmGOt0aDBHWrz94ZcyLSK1qt+y3OYpp5wqKSHG05mewiihxpX70mWI62+6A3/561/7TdOhYzihl8hYi+jkgt6IDFdvSS2xtrHtFfs0E41haWmJxMRESXFjVSVG7vE5p0dh/D7TSYtBjOGhDP/pfXnOwTY1uDU38DzcEMfyMJIWz7vMxkX33IKn50/GZ8XRBtLiWbupeMF1jhAR/75qhEwjWXH6f86Rv593mYXLn3xAoiY+ygjEfd+NkvlnXX4JPskKwXP203HtK08Z9jUQv5W04LmzDTTHSAs7315Tja6KQjQUxyE5xxVLStPEmR7ocJhr09+CX5rVdWiql79/am4U/NjcgD1qGvHromb8rKbtaqqR6QPXH25g25DgYVvSWet85RUT0qL4mWcQ4+Cgp4boMIHmzMt9qe7R3apPbK2qxtKSWqTmLxmcrNBA0oLpHmk9mJTchUnxqzExajEm+JfiB/d0THCMwUSHCEx2ioKFS4zk8k91i8dU9z64qd/uiZjikwuLoEpMjV2KKUnrYJGyCVMyejBFojIOTGC4Jy9GfkIWFqWmY2V2NjYWFYnmhZYyoj17jkRfr0lONgxwGHqv29E3jbRgJAG/lIXXmCEtAisw0zsFdtHl8M5ZAopwMlLhUPUsBkNIxQbRsXjxo+/w4Q/WuPy62/Gttb9hPgmGWx94Cm98MRXPvTsWT7z2yW/er5AW7b/0lj5V5+pVYEpaTE9ZB39/f9FdYWleDsC1XO7fS1pwfS26guOs3vthNqysbZRzEHzEq4IMBo20yKtZbTKPaRKcd8aZ/8IDjz3bD0zFoE6EtuzTz7+O//u/U5BduVxEPvNq1+C008/ol56hgaTFFVdfbzKdWOAWLvu8ZMSV/fbHFBLu86PPekkL4oXX3pe0kZNP/gteeWsUIlIqDUKbhL1XDP53yeVCboy48ho4+yWgoG6dYT5hjrR47OmXZBp1LYyXJahXcfo//tlvGkmLU/9+er9pBDVCmAozcLoOHcMZJN+okeEXEgtndx/R2qHQ52AkBqtS1qlxE6MwmGJHH1MnMA7ddNJiP0bFbK3DFcfGqp5qfvB5OMEB8+EmLT5M8cPZV1wiwp0aaUEBT67PcqkaUUFof5OgOPPiC4R0eHT6OIzKDcOn+eE486IL8EaIA15wnY0Rj9xjWG8gDom0SEyUnHOes4Rsq/MnGcEKF1sry7G8NAtFuUGwjv8O/3I7Ay8EPSIRANRl4JdeLnu4neotDeXIKvIRsqK8LBzLa7LU/2HIVtMKigOwo6EaVeURiM13QFVZpNltDCeIs6naiO21IS0NHZdf3o+waL/kEiSNG9dbNaQvNWQ9q4Yoh04jksxtV8fxD42skIgn3peqDzEVpKqwGZY5202cnH3YKxERFulbMTlpPSbHLMFEr2whJyycooSY4Bfrmd6pmO2bIcKG84JyRWSQFRPmhxbBJqxIwvDnq99WIQVqXh7mBeZgjn8WZvmkY4ZXCqb55WBqzGJMSe5S+yKBwdSUwQmMaWp+eHwFKhLSsDgtHWvz80Xvgiku2rPkSBAXVeq5p71fytWzTLejbwNJCzryA/vPpMBKzPRJNVQOCa/qFiLhcJEWGsKqNiGwZLXZeQQrj4RWbjA771BgIC1qt8KrcK3J+U5PXiMREFlZWWhW98ThIi341ZGCdiREtPuA0RULHVyQlFNj1lE4WtBIC0YqDJxHsUqmQ1x17Y2ISqs2QVx2g2HZ6Iwa/Puc/4j2BVM0XnnrExGwZBSE8TYJkhYU9hw4nZjvEirH89YHX5jdp3GaCuETkYPb7noQZ5/7H/z5zydjnn1Av/lMc2G6y8WXXom//vX/5Pgq+3QxCHOkBQU3OS2zYplhmgZGnZx2xpn9pumkhY7jGSQxMkta4BfcS2LYLnQS8pXPtFkD0kkWLlyIEuXD6ATGoZtOWuzHVq5caWD/3e3txekzN/g8nDicpMXL3tYY6TxL/n5w4hiMePReA2lx4d03SzoIxTI1ouLblmycft6/e3Up1O+b3n0RT1lPwl1j35ff1M849/or8U0j99VLSnC6ORwsaZHh5YVFavBO7QQpU6gchx011eiuKEFrUTLSMj3wYdiL+KPzH/EH5z/gdJdTkZ3oI1EAJDp61Dr8Ssqvv4fT0ehpqMR/PM9GTXkUrvEbgcqyCDwReg+eC3sQ3yd8iHV1BTjb40yMiX0dM1PGmt3GcIHmdNIhY3utnDq1H2FBNF1/PSJtbZHh6YlqVg1JScHG9HTsUv2Q/f4nfgnm9rgttY2f1QP317o6k33pOL5gTFiw/2yvrsHyslpE5a0wcW72gWTFTkxO2YhJscsw0T1NQtynuMZihmeSEBSWQbmwDinEgohSLIyuhGN8LZyTGuCS0gS31Ga4py2CR3qLAe4Kbmqaa2oTXJIb4ZhQB/vYKthGlQupYRmchzl+mZjhl41pcZ2YynSSzJ37jb6wS1mJnJh0NCel9EZdFBcLSUfidCiitwaiPD7eMIhhZQbdjr4NJC1i60yFOCeH1AlpYR9L0mLpkJEWRwrGpIVn4TqT852RuOywkhZadEW1etfv067oi67wDUXN4iMrtHkw2B9pQV0GVhP574WXoNGoUogGLRWEYFTGu6PG4ekX3sDr736GaZZuQnoYL69hf6SFX1SeECWsvDFwnvH+GFGh6W4QQXFF+M/5/xNRTFY14bJMCdHmV7b3SIUPnusCtzDDdHOkBQU7OS0sucIwjaA2xt/UsV9qlBZD6KSFjhMJrFaSmFUJD+8g2Du5Yf4Cu74ojP4EBos+sCoJCQzqKJHM/T1k8PFuOmlxAHNzczN0rhUUSzMz+DycOFykBUUzn7aZjCfmjJeoCZII599yHR74frTMv/DOm/BGqKPoVfzrsouEXGAkxT8u/A/GFMfIMm+GO+Oie27Fcw4zDNu96L7b8VaYk1QieTfO0zB9IA5IWsRZw2fOHKR7eaFRDd5X5eaiq7gIq4tzUZ0fidDU+bjV91ohKjSc5HwSPvJ9CfWxsWhXTvXKnByJuKCjIeHdqt00Z0NzOIxhrr33B6vUb3GT/1V4OeIx+U3SYmLiJ0gr9JAIjFsDroV9+iSsqMk2WXc4gefOdmEbdefnY8m995qQFvkvv4xYR0fk+fujSV2PFQEBWPHOO9iu2poO67pPPpFt/agGrpsmT0bXl19im7s7flVtPnB/Oo4PsN9ohAUd+Z6qarQU18Mud6uJY2NA5k5MTt6ASWGNmOAQicnO0VLpgEQFIyhIUjjEVQvx4J7WAq+sDvlazVKPFCQMLF4jefrBZesU1hthnUxnpYaAotXwL1wB37yl8M5eDPf0VrimNMEhvkaqMViHFEgkxvSIBkxN3dhLXgwSeTE9cwfio/NQE5co5X27Cgv3EaFDTFyUxMUZ3i01NTV9bxzdjqYNJC2S6syUPI1YJNFBC2Mq9kVaHMb0kCONfaTFFrgW9Fb7McbMuI7DRlpo2hUsH6j1/X3RFdVmB//DAVoqRGHDPgLAGIxM4Pyo9GqD/ga1KEqbu/uRBi4BibjymhskLYRlPgkSIbWdu7DIiGzguiwxes31tximGaOibauUIWV6SInaR/PqXt0L+dpbvkw5TL2img7esXjp9Q/7ERlfTZgr0RblLVtR0d6DSy69UgQ5tfn5devkXCjiqU2jUCen+URkGabZukVI5ZPvp9n2090IT62SZUnKaNO4f5ZUpbiodqwahLQ46SRDu+nQcTwiv3oZ/EPi4OzmDRtbe8ydZ2lCYDg5OaFWjT0YgcZKJHwX6dbfdNLiAEYGTOtQCYGBqveZH4AeLhwu0uLz0ljc/umbgtEFETKNqSCvBdjK3yyXet1rzwpx8bDFWLzqtwD3ffuJLP/ojG8M27lr7HsY15Bm+D22Kgl3fPoWbvnwNdmHNn0g9ktaFDtgRJw1vNUNm+rhgaroSNSlRSM71RvWsd/iLLd/9CMrNPzL+QwkeDuhKDgItTExWJyaKm3UzWoAlZWS+kBng1+EGcZOMAKDzsfPfUTGQDLD3DXQsLWhDCe7nIyCkgD5TdLitcinMCf1a+xqqsXSmkw8FnIXngy912Td4QLN8TT0KQcHE8Ki9bLLEDdpEpLd3FAaGooO1a6rnJ2x+LrrsPqtt/CzclgXX3WVbG/1iy9i43ffYXdCAjpvugm7leM1cJ86jn1o/UYjLDZXVqOuqBGzcnaZODUCljRN6cak0Ab8YB8hZMUMz2RJ+bAJLxaiwjWlEZ6Z7UI2kKAIKl0nooN0+iJqNiOqdquUjoyu3ybVGAaC0zmfyzFsn+uFVmwUUiOgeDX88pcJCcJIDRIYJEgY0TEjsgFT07r70kbMHLtCcEwJKmISsDgtrTfqq7x8yImLPKOSjiybptvRt4GkRXaTqRM/OW6FpCXt07TYKJoWiW0HL8T5e8DqIuam/xaIpkXbzwZNC4cC08iS2ZF1ksKRnZ1t0LSgEOehkBZcjoPwevVOHhhd4ekXipol+5zm4QRGDTASgWU86Yh7hWWioH5dPzFLgpEP/zzrHClPSmHKlKJ2RKXX4uMvJmCOna9hORf/RPz1/06RVA0SHQSjJWxcw4TA4DKMxojNapD9Mc0io2yp2QiPL76bib/97e/45PMJUiI1ubBdKnfc9/BTQlxwmVFfTpIIkOSCVhQ1bpC0kadfeFOqmHB+Qm6zaFnMXegv50XYekTi9DPOlDKmJD/yatbg2ZfekeNhydb8urWyLjU5rr72Zlx+1XWIzW4QvY/U4sVq2belDGpkWi8JxUon1L04++xzpVJJUn4Lqjq2yTyCpAW3HZNZp5Ydnv1Ah47DibJFGxAYkQQnV69BCYzIyEgsWbJE3kNMHzlUgvh4NZ20OIBR8dXKyko6kfW8edg1xCHx/RzM35kecjQxKGlR7IA/FDlgRKw13GZOg7+rJbyDZuPdgGfxp74UkMHwqMNdWOD0Pbw9ZyE6yB45MX6oTY3G4uw0rC7MQ1dJkYhMbq2sxDbVfhT2ZP49nQ86XhqZMZDI0AgMc47JeV5nY0l1uvz9bNgDmJnyJYpKgtBVV6QGAq6iaXGD/xUm6w0X8Jw0x3NLcTE6n3nGhLSoeOghRC1ciCxvb9RGR0t1hXVublj99ttYrubtiIgwkBaLr74aP+bkyN9r33sPW9S9Ybw/Hcc+2GcGEhZlha2YlsNqHf0dGsIiYxsmxS7HD05xmOQUhemeSUJWkDRwTKiV1A5+kWb1g5CyLiEbGIpOEiK2aaeE1tNpil+0FwktxI+9aP1pH7RpMn+vLM/1uD4JDRIZEdXdCClXg4HiNfDNXwbPjDY4JdZL9IVlcD5mJCzDVHWsg0Vd+MTWoDSyN4qLOhdDTVwkBgYaBijLly/ve+PodjRNIy206iE17atN+olF6mZD9RDPrN9WPeS3glERJP7Y/83NP1RopAXvJVYqsck3jaKizkxQUBDy1T3R1taGTZs2HVL1EOZqc504o8iiYyG6gkgt7sCDjz2HCy8aIbj2hlvxzsdfobSl22RZa8cgXHHNjTjvPxdIGVOW8Xzo8ZGo7hO9rFVOflhSuZr2nOhY0Nkn/nfxZTj5L3/By29+LMs5+sThxlvuMuzz3gefxLeTrfrti2D0AlM0Lh5xpeyPFUhYqeTzb6YZlknMa8F1N94maSYfjhmP+x56SggLEgSczwiJ5199HxdfegVefXuUECiXXXk9vunbX0pRG0a+8q7hWC4ZcRVee2e0IbIio7QTt9xxv5wDNS4uu/JaER5d6BFlOAav0Azcdd+jhm2QpHDxTzLMf/r5N2T6zbffK8tq03XoOBFQ2rQeAWEJcHT1lBQS0cDoe04SLAhBzStGX/C5e6JrX+ikxUEYa+9qHYiK7+YGoIcLJwppcWnMPHw/5yNc5XiJWYLiQDjD+TTc5nEd3g94AfMjxiMwzhIJyc4oSAtAbXY0OnJTeomM4kKJxKBeBomMHQpmiYxBSIy3op7B2tp8uTbTksYIcUG0ViXj/ejnMTLsIRSVHv4IHONjMAaP71DAc+I5UitkfXCwCWHRfumlSP76ayQ4O6NIDUypL0KHbYOnp0RZ9Hh4YPUrr2DJNdfIcS27807sCg/Hz6o9V7/8MnrUegOPXcexC62PGYiuyiqUFS5SzosZRz97LyandmOCfwkm2IdLtY85fhkSWeGUUAuP9FYhD4JK1oJfo0lUkGDoJSn6yAnl6PELNR0nCa9XTpkByqEywHi6Apflehqhwe0JidG4QwgMEiOMwGDaiWdWO5yT6pWTWYY54VWYlrZZIkNMzkfBK7YGJRHRQlysGWLiIkTdW9p7hV9TdDvy9qv6N9A4KCRpwfzizuUrTMk61XemeqbAJqwQHhmtCFH9jP06ofVH6ZsDiQFjcJmImi2IV32V/ZdEAddlH+ff0epvIfT6/k/u+KVvmR0SCZGo1n/i9VHwy18uJAnLlLLfc7/a/WVuv4OB++VxkPwLVffonJwd/c9VYb5PLMLCwlBUVCTl+9hXGYlyMKQFvxCSkHNwcDD0dUsra3j4hgzb6IrfC0Y1MNqiesmuftNZfvSv//d/Em1hPJ2kxvU33yFRE8ZpHAcLlijl/pLUfqmvYW6ZnKpVEjlR3LTR7HxGPjCtgxEig21jfyioX4+g+GKzopw6dOg4OORVdsLLL1QIXUur+SZVSFLUuGTVqlWiCXSipo7opMVBWEdHhyF0x8/VFb8cxoHrQHBgfPyTFva4NNoSz1o+gPMdz8Ffnf9ilpj4LWC0xvVeV+Dz4DfhHTsLMYn2yEn1QVVWBFpzk7CyIAfriwv6ERkSkXGQJIa5a/Z7Ybx97k+cRgUeg0D1By3dRQOPc3/QluM58fw2q/Nd+vbbJqRF3W23IcLWFumenqiMiEBnRgY2lpSg298f60aNkmNZ9cwzWHr77XKs3VOmYM3rr6N7zhyJwvhZE+gcIuyuLMPuqjL5+8faaoH8XVeNHWUF2FVRgl/VMe6pLle/CwU7y4v7bUPHwUPrg+xD26qqUVPUrJw2M2kVTAdJXIcfnOMlumKGV7JU9rCPqRTBTKaAMP0jvGoTout6xCnSiAqNpBACwoiYMOdUDQbj9fqTGBqBsUsiOejUMbqD5IVHRhsc42swP7wY05PXqnMwny7iG1mKkvCo3oiLggKDxgWJHLbN4XoOuNnbyzuF7xbm+ut2+GzDrg3YtHuTkBJLe5Zi98+7sXjrYnT2dGLl9pX45ddfsHzbcrRvacfWvVv71uo1khZ0tjkw5ABxQYGpIz8lqEz191zRUmGFj6i6bYhv2SuREPvry06JdRgzzRkO8dUIKlmDURYL8Y2Vn0ROvPXldExzT8SnFvZCAI6e5ih9+O2vZ0n00ucznCUd6p1xahySv1y28ZnaFucx2uOz6U6Y5pFkdr+DgfcO7xmSIgFlG9S5DSAns3bD3s1XPtywLO/SpUtF7Z6kzv5IC05n+xmn17Kf29g6IDq5wOyA/XjHUyPfkKiIgcQEf3/42XicdtoZuq6DDh060LBiL2JSCuHi4QubBQtNoi+oMUQCmc/iE4280EmLgzB2Ciq8ah2mawgdNQ6KDwtp0ZKDr+tT8XWdQn2aiHFqVUGOBA5EWoyItoTrtGnwXzgPj7rehXNd/oU/O//JLBFxOHCx+/l4J/A5OEVPRkSCLbJSfVCdFYXOvHSsLcoXQc8t5eWHRGKYu34HA219bosQgsKImOA+uW86SjwOanUwUoJ9guAxbqusQo8CU2GInj5s0yDL9E4jQbM2Lg4dI0b0Jy0uuQTpH3+MWAcH5KmHYKNahlUU2A47c3KwPSJCjnNvRga2eXgYjn9XZKREWPysljM+r6FAkeUXKJj3GX6qr0N7sKOAfzf7WCNzytvIn/0punNT5XfapDeQ/P2LKLYa3tVchiu0PsnnD/tbW3EdZpojLJQjMyluBX5wiISFSyxm+6ZLdAWjGbyyF0t6Rnjlpr70j129ZIVyjAYSFeacqN8KswRGy4/yFZpfrfm1miSKT16nOJq2UWWYmbQCU7Mo0jng/BSCw3JQHhYuujnrWY5Z3Ud71H2p3f/m2u9QwHvesi+3f8GCBX1vGt0Ol00sm4jReaOxftd6XOB/Aeo21sl74IbwG/B8yvPo2tWF68Ovx03hNyG4PbhvrV4jaUESafv27SIayZSjgf3DIrYTc/wzJf3Jr2C5aLKwr0kf30/fHj3VEQtU3yOxRz0M3i8PPf+OzHv+g68RrProK59OkKokr39uIb/f+3aulFelPss4Sx8DaXH/06+JNsxTb4yW6jnjFwRJRZ2B+xwMPE4R4WzZK1oxroWbTc5zWuJquLq6IjExUap9sKIaI1D2V6KP46X169dLSok2ZqJqPsOfC+tXmx2knwj44NPvcPY5/xG9iZrOXahbukf0K9JKFkvKxJPPv252PR06dJy4KFLPTC+/MNjZO2PePMt+5VP5bGbKHlMZqTF0IphOWhyk5eXlGTpKsnoZH46BqzloTsPvJS2+ac7E60EL8ZzDdLwX54l3YtwxOr9XkPNI4GBIC7dp0wxaCn6+c3Cz29X4h8vphvKmA8HqIYS5eb8FN3tdjenhXyAszgbZKd6oyRycxNDSSYTAUNdH++qqOTH76w/afG15Y5JCIyiYskJHkUTElopKbCqrwPrSSqwsqcSykip0FlVicWEl2gqq0KrQnF+NxvwaNCg0qr+b86vQkq/m51egPb8ciwvKsaSgDJ35JViSnYf2CZPQdtnl/UiL5muvRZilJRJdXFCs+nRLUpL0OX5Z5jHxHA90bkONtImvImrMg1gZH4AGzzmCtckRatpD2FujzjdwIZLHvyjLtgXZI3/Opybb0HFgaP2T5Bz74urSKjjkmjoxjLCYFL0EPywMwxTXOMwJyBRBQtfUZvgqRyqkvEvC1A2RFQPICnPO0+GGMYFB8oJOGckTOmZhFRvhX7gS7hmt4uDNTliCqdmm4qKsKhIbEI2qyEh0pqdLOVTen3w2a/e8uXY8WHSre0x7n7CSgm6H11bvWI3/BfwPU8qnYEz+GOz4cYc881s2t8i8lOUpuCfmHom62Pvz3r61eo1RAhwAUjhyw4YNyGtYadI/WJFmpm9v3yfxEFaxAbGia7H/FBGmSn1j7YfXRk/CxxNssCCyFI+8+J700+fe+xKRNZvxxhdTEVC0Em9/NVMilkhaLGBqk18mvrb0kYgM7vPJ10fBN3epLBNWtQlWIXm45/GXzO7XHIS0UPcmyZbw6s2Yl2caUTI7tBTe6v2clpaGBtX3SeJQ54ukjjnSgmkj7e3tkoet9W+r+QvgGxyDxhU/mh2UnyhIK1mCK6+9EQ88+gyc/RJFv2H2Am/cdNs9uPWO+5FbfeISOjp06Ng/apbsQFBkCuyd3GFpzdSRfeSFs7MzWltbhbw43iMvdNLiII2dwdraWjrIvLlz0aMGsOYGo78XHBAfrvQQVgq54I4b5e9Hpn6Fa196Uv7+pjFDCIxP88LVukn4Rq3Lv4XUaMnGZ0VRhr/HVibKPKkUon6TjBhTHC3lUb+qTem3P2McSNNiRLQV3KdPl6/8+f7+KAsNFcd5mtcYXO5yEU51PsWEoDjV4RRcaHcezrM/C2c5nol/OJ2GU51OwV+cT8afnP+EP/4OQoPr3u59HWZHfInweBvkpPigNjMaS/MysK5oXzoJr4umiUHCQRP11AgJYydf+5vTjYkKjaTgtjZXVGGdchCXl1Sho7CXiKjKq0VRTj3isjvgkb0WdtndsMzqwUwzztVATM3Zi1nZO2CdtRV2GRvgmb4UUUnVSHENQ+6zb6DilnvQfMVVaL/kUqS/9iZCbBYgyc0NJSEhaO0jLTaXlcnx7VXHKQSNmXM7UiBp0eRjhbQJr6LWdaqQFi1+NiiYO1rmbyvORfD7t8jfOmnx28HrahDeVH0yLN9UgJAaFiK4aR8uhAXFNvkFmASAf+EqhFdulKiGuEV7jgpZMRAaecHj6E0b2YOYxh0i2MloEIoossrI7MTlQsYMPN95yauR5heE+pgYrMjJEZHfw5Um0paVZRhw0CHU7fDb10Vf42/uf0P71nYDaXFzxM0YWzBWfj+W8BgeT3xcUkaMjaQFB35aBZG2xUsxO8804mhaWB2sQwslaoKpHiTFDpQiwkgJlvolcTF2trukVj315mcILd+Al0f9ICKbnM40kq/mesM+rlpIC+KNzy2kQs7bX82QSKGpbnH4dn6ARFgwCoOlfsdMdza734GQe0Mdp6SGqHvCv4xVQwakhqh7wto9VCImcnNzZVBMEodkzsDKIfybZAbFOrV+zXxsu4VOSMqpMTsIPxHBkqRWjkF4b9Q3eOG19zHmm2miR2FuWR06dOgYCFYuiksvhaOLl1RfGkheUM6AqXmDRcId66aTFodgDJHUOkd2RITqQeYHpL8HHAwfLtLi7UgX/PfW62X+i25zccmDd8r0D1P8cPkTD+DKZx7Gw1O+xKicUFxy3x246N7bZDvXvfI0Lnv8fiE07h//Ka569mHc8uEr+LwkFqOyQ3HjW8/jiqcfwovu8/rtzxgHJC1ireA5cyYS1U1GwqI+NlZAXYVcf1+84/4cLnQ5TwgJjVj478Jz4TBtMrzUevbzJmKC7cd4y+EZ3Od0C653uhyXOl2A85zPwj+cT8cpzn+VdJPBojYOBGpj3ONzE+ZFjEN0gj2K04PRlpOM1QW5/aMwBhAYxhEYA4kKLttTWY2uskohKRYV1qIivx6ROcuwMLsb08w4Tr8LFErM2o2JaT34Lr4LX4YvxVcupQh79XMU3PkwrGY4w9nWA6Fu/sgMDEdtXAI6MzOl5CM1MDSChscuESZGztqRIi9IWmxS7c5UkNQfXhbSYlm0N9InvSF6FqsSghE79jFZVictfht4LbXnDoVqawsbzfYn0bDoIyzmBGRhYWwlPDLbEFi8WogAVlBgdAW/Gh9NsmIgNAfNOOoisnYLgkrXwit7iYT4z0xZo87RVGzULawE+QEBBoHabRUVcq9r94G59jwYFMbEGN4lVarNdTv8lrs6FzeG3yh/a6QF9S3W7lwrehfUtHg7622MLxkvy2hGB5wDPk2MkykRAaVd8jzth5QNmBOYC4f4WvjmLRPxV2qpaP3fXF88VLDvvvP1LElpMjf/t4LbJZlHIo+RUbb5rKrTv+9PS1oDR0dHg55FZ2enfLwZKMLJtmJ1kPDwcEOfZgk/5mOXt5iW6tShQ4cOHb8P1MKJzyiHk6u3CXnBEtUrVqzAzp07+5HLx4PppMUhGPM0582bJ53CxsoKO5Wzam5A+nugOQ+Hi7Q4+8pL8ZL7XIx4+G48Yze1d3qUK17ysMQXZbE444L/yLSRjjNxwxvPSTTF43PH440wR7wWYIdLHrgDY0picNsnb0i0xmMzv8VDFmPxUVoAXvKy7rc/YwxKWhDFvSVPvVU7pri5oUYNijrS0iQMm+J31FYoDwtDvI8THna9A/92+adEUnDQOWH+xwi1sUGMvb2kNaS5uyPNw0P+T3F1RZSLHaY6fYaRTg/hJuercJnT/3C+8zn4p/MZ+JvzKfiz859/E5Hxb7d/4puQ9yWVJC/VH4uyErAqPwcbiosNBIZxBAajFLSICgoariuvxuKSWtTm1yM1tw12OWZC7w831MDagvoD6dvxfVI3volZjbHBHRjtU49P3CvwscKnXjUYG9iCeWG1iIzKR25iHmrT8yWlZG1BoRA0rKDA0Hie25EmL/Jmf4LN+enoSo9B1GcPoiXAFj/V1SB5/Asotfka6ZNeQ6uaxmWXRLijzPY7k23o2D94DUm28foyJcnBTN+cnLYV37skwcI5RnL57WI0wmKN5POLdgW/Mh/l6IrBIMRFn6PGr8uxzbsRVbdVNAO8s5fAPqEO0zO2mJz3tMydiPIKkufRkr40EZKP2j1grj0PBhHe3oYBBp1i3Q6/la8vx8iUkfL3rp924bKgy/BCygsSaRG5OBLPpTyHB+IeQERHhCxjbHTEjXUtCusWi/7J5Kxd8ky1yNoDi+w9mB5WI6V9KfJKzRTquLAk74EEOQ8W7KufTXPETO8Us/N/C+ReUMcn90HjDgSWd2OqmXLGvM89PT1Fsb5WPRtWr14tX/BI5rB9OBhmxAXFSp2cnAz9mekgQRHJuqikDh06dAwxSF4kZlXCydVLKo4Ya17Ex8fL+4saRMeL6aTFIVpkZKShQxRER+NXMwPS34PDTVpo6SHvJ/rgnGsuF62L9+I98ZT1JCEfTj3rnzJ/nJpOgoNpIDe986JMe3TGOFxw+w24+8v3cf1rz+HhaV9jdEEELrzjJtz09otqm96GfQ3EfkkLhcvirOGjbi5WrWiIjcXKnBysy8+Xr5n8uyM1VcKyS0NC4Ok9Eze5XY0zXU7H3U43ItndFTm+vpJOUqGcicrwcAEdi2K1fEFgoMzPZC6uhwfiXZ1h5fwt3nR+Grc5X4srnC7CeU5n4XTnU3GykBiHllZymuup+CjwJQTGWiI7xQcNWXFYmZeNDcVFQmD0imJWiS7F8uIq1BfWIzJvuWnpvN8MfhEe8NXPzFdiIS2oQZCxExNSezA+cSO+iV6FL8OW4ovgdnwR1IYvQ5ZgXNRKjE/owoSUrbLszIweRCfXoTS1CM0ZeViek4v1hb2lY9kvjyR5sa0kDz831MnfWwuysKuvksgvTY3ozk0xVBYh9lRXSEUR7beOA4PXzfDMUf02K7/DTD/ajQm+RZjkqJ59PukiJOie3tobYdFHWNABEsKijxww5ywNBxg7bMzl14gLz6zFsE1sVo6paQrWgugm9SxR93lcHFbn5gqJR1FOTfPFXLvuD4zAsu3L+be0tDyuBhTHi9Ep13Qturq6sKhlEayzVmBi2jZMStuOSek7egmMlI2YG1wAp8Ra0XRhtRzRthhm0UbG4HHxXmX/j6jdCpuC7SZ9flr6Vtg6uSFEvU+p59XS0iLtwPbQ9CwYcdGs+v/cPkFZfulbsNARyXo6iA4dOnQcUTSv/gUxKUWieTFvnpXBT50zZ45UcWKq4/Ggd6GTFodoDLnhQJOdwUb9v/0wa1scTtLizVAH/Pf2G0Sz4quaZPz9nLMwtiIB/7n5WryX4I2xlQlq2tlCMHD5e7/5BPd9O0rhE/k90mkmbnzrBYxrSBP9ClYiYXrI2KokvOA2F/+759Z++zPGAUmL+PnwUTdThpcXmhMSsCY/X7QU6BDw/66CAizPzkZbcjLqoqOFkJju9zmu9RiB1GB3ic5oTkxEe2qqfAElFqelSaQGQ7lJhNSq9ZhuUhoaikLm5fr5GYiMMBcbfOH8Ju50vh6XO/8P5zqfhdOcT+2LxDh4EuOvLifjZb/H4BMzGyWpIZL7viyvEIvyylGYXY+FWRv7SIX+g8LBoRERezAlUzlQGdtgoQaQFmlbFLphkaqgBsoWyRsUuhTW9/6dQmzCFDV/ilp2ilpnSnqPglo/Y4dEW5CU+D5xE76LW49vY9fg25g16u91atpGTEjd2jcQ393veN1SlyI7qQg1aXlYnJkjpFJ3SYlElmjkxeHI8dfx+/FLcxN+am6Uv/n/z/K7AT/2gdM5bW+TumZ9y/GaaVEWXaUVsM1R/aZff/wRk+JWYoK9uv88kjA/rAiuKc0IKFwp5URjBhAW5pyk4YaBxAXD44OK18A9vQ3zUlepcx5wv6p7ItzNH8XBwfKM2VBU1BttoZ7T7Pda+x8sNqjnmzagYOky3YaPMXqA4OCOZBJ1GlatW4WE6gSMT3TA+IQ18gz9IXkLJqVtw+TMnZgW3Y754SWq/7SI0Cb7U/yivkoiw4y44LEwCoTRINH12+FZahpdxP4/KyAX7u7uSFDv5oqKCixbtkzK65GoIJnDiIsc9a7bNzCeCwdnD1G6Nzeg1qFDhw4dQ4+G5XsRHJki1Ubm9BHKBCuNsGT1sZ4yopMWv8GY46l1hAzlEB9OZ+1wkRYkDZjycelDd+Gj9EC85GmJa154XOZd+/JTeM5+upAS591wNT4vi5PpFN8kscHUD/4mUXHxfbdLxMarfjZ4K9wZj0wbJ/oYjNy49cNXDfsbiIMhLXznzBESgSQDv+QzQkFLseD588s+oy+WZ2VJ5AWXq4+PRXq8J5Yo54HlOTmfKRoM2ya61HboWK/KzZX1mHLCdVkZg2knBiKDERkBAcj29UW6hwdCXK3xqctrEolxmfP/cI7zv/B3579JWspJZsgKc/jA52UUxKQgLL4KFskbhQRgKPF+SQvOY7gxyYXUzb0EROJaWMSvwuSIFkz2L8ZEjzRMck3AZOcYKTFJTYEprvFSy3+qWwKmuveBf6tpUwiPFFj4ZMEiqBJTojtgkaC2l7Aak+LXYELCOvyQ0KUG3t2YkLIFE/nlMGOHGoDvksgMc8c7L3MLEpMqUJ2cjc7MLGl3Xh9qIIjmRZ8Dx3vhYO6HfstofxtNG7gdc9vVfmvzjJfR/h/4t/Z74LTjARvqi1BWqp5Hi5pRURaOrrre3/nFASgsCRSyoro8CnnFfmipTJJ1jJ83JfmLTK67hXLKfnBLUf0tFvMCc+GYUNdbraByY6+GhZYScowQFhqMiQtGipCAIRHjnNKMaZmmX57twiqR5ukpujt8trDCzm/VtqhSzyLt/UHHT7fhYRzIMYJAIyx27NyBzvWd8KvxwxnuZ8i74P2QMHwduRzfxpLs3SR6QZPVs3N2eIWIZrKMKUU1KUib0LLnsKWJHA5ohAUrnPDeDarYgpm5ZgRG0zbBVg14g4ODpX82qT6+bt06SZVhagjTZDlP68PzLK3g7h2M2s5dZgfROnTo0KHjyKK6owdeAeGYb2PbT+8iVflDFFQ+VqMudNLiNxhf2lolEYZGsnyducHpb8HhIi2Y7sH0jV74SBUQ43mvB9jJep9kBUu1EK5L7YqrnnvEsJws25ghERujcsMM096KdME70W79lhuIQyEtSCjw6yUdYKlY0dgo/5PAIJFBXYX1BQXSHqvUIIr/8zencz71Fvjlk+Df29Q0VvpgxAaX4bYpLrlarWcgMhiRkZAgTkhVXzQG00o0EiPAxRIfuLyIG5yvwAVO5+IM579LFMZgJVdPcv4jJrhZYpxvLb6OWIbxCRsklJhEQH8SQP2dvQcWGdsxmSQFCYqYJZjok4eJTjGY7BSFKS5xmOaeiBmeyZjpk4bZfhkifDgvKAeWIXmwCsmHVWgBrMMKMZ8IL+qF+pvTOI/LWAbnyjrMTZ7lm44ZXsmY5pEAC49kWASWYXLsUtn/5JRudTzbDkywKNikr0NWfC4akjOwTLUlSSKmxPBa0Yk7mKiLX5ub0J2bKsvsriyTFBBO31acg7011dhTVY7NeWkKqVLWlPN6inLQrabxf6aGcHpPUa5sa0t+hohycptcj+kkTB3hdrjuloIMWedXBe5LlstPl9/aMR0PWKTu8Yu8z0dndTou9/0fGivicYP/Fbg76EY8F/YgNtQV40z30/F8+MOYmvSZtD+vF0mnLWXlcM/ZYHK9J0UvxkSHCMzySZXyjqxuEFy2XnL3KeJ3LBIWGsSJU8fPr84xDTsQWrkBPrlLYJ1mWuJyWkYPopxchewkYbqpuFjI1d+SIhLh5WUYQCxZsqTvraLb0TSNsGAUgQhwbtuK2lW1+DTj037P+XPdLsKHAfkYG7pEItVI/DKKjZFwlhEVcE5ugF/BMilByqoch1Pf4vfAmLAgSRdavRVW+aYlTqdk7cIcrwR4qHcgoywq1btUE+AkacFIU3t7e0P/tZ6/AMHRaZJXbW7grEOHDh06jh4yS1rg6OLZL2XEzs5Oxh6MnDvWTCctfqNRnErrADF+fuJomxugHioOF2lxqGDaxwMTPsOLrnPMzj9UHDJpQYG76mrDF3s6A/xbIy+MiQhNN4LL0+Gis8xlGa6tVeswCGEqx4JkBtuTX0eNiQxNP2NpRsa+SA6NxNAiMdTxJbo7Y5zLe7jF5Rpc5PQfnOl8umhhGBMYpzr8G+8uVO3oVYMv1YCWKRgTU3uMohf6iIrkLkyOW4FJAeW9JIVztERHkKAgsTA3MBtWoflCQrCsHSs0sCwjS+A5JzXAJaUJbqnNUmaPpfM80lsNoM4Ap7mlLoKrWobLch1+HXeIr1ZOZwUWRJYIsTEvOFfIjJnKGZ3mk4Wpkc3KkV2HKWmbZeBqViPDCN6JzSiIz0RLajpWqzZkm7KN2ebGWhfm+vjPjQ0I+fA27KmuRL3HLKRPfkNNb0bS+OexLiUS5Qu/R+I3zyJh3NOodZshxASriMR++Tiixzws5MWyKG9kWrwl5AOrhyyN9EDYx3ch/uunsLUgE4Hv3IBa1xkSvRE15iHsrioXIoMCnqxCwn3tqiw1ObZjHR/GvIhHQ+7Eu9Ej5TdJC4eMSSguDUZPQwVG+FyI5EI3bKorkevDa8X7Y2VRuanmiuqzP3ikS2QPSTCX5MbetJCaLZJWkdj62/L2kzt+QUjZeoRWbDCZx7KR3jmd8FEgMWI8jySJX/5yeGUvVutuNOyXuhqczgoOPD46Zjw+mZa/DJHqeI23YwyNuIhv3oNItW+G97umt2GqmfLCHh5RyPbxkXQ2PjvY37Xn1cDrMBiohWHVF7I5f/580QfQ7eiZlg5CwoLXgoO4dZvXIa0tDZcHXt6PsNBwndsL+MyvFl+FL8V38etFL4jP+Wnq2T4/ulqez/5FKxFevVn0LY42cTGQsAir6cHCgh6T/s1n/jT1HiApERoaKmVOF6k+SyE35kNT14KpsTNnzuzTr3BCSn6d2YGyDh06dOgYHmCpZaaMLLBz6Bd1wUg6EtJ8/x0rppMWv9GY30m2Srv4HdnZqneYH6geCo4WafHQ5C/wVriT2Xm/Bb+VtCDpQGeKGEhe0CHm101CIyvodBl/3Tdej+B8A5GhoBEZWkQGCRBqNBiTGJ0ZGb3aGMo5oZ4GRT4p+pmjHJYUN1dMcR6NOxyvx3kO/8PfHP+FPzn/FVfavdhLWnhqpMW6XtIifXtvJEPCakwMKJOv1hYuMaIPMMsnDfMCc4REIEHhEFcN58R6IRyoRu+V3QGf3E5xvuiMBRatkmoNLNUYVLYOwUT5+v5Q02R+yRoRSgxQ6/gXrBDnzSdnCbyyOoTcYAk9EiH2sVVYEFkK69ACzA3IwkzfTEyLVk5b6kZMydgujqvp4LYXMzK3IyGuAHUJyViamSlRFySGeH0ORFxkWLyJtcnhUso05otHhVQI/fgubMlLR/AHt0qFEIpsBr53E3ZVlglp0R7kgKxp76ItwE5Ii9QJLyNj8ptYHOYq28yd+RE6Qp2FtIj+4hHEqu3uLC8ykBZZU99Bg8dsNa0Y24pz8XNDvclxHetoqIgTx6q2PFp+k7R4LOQufBLzsmheZBV743q/y/F94kf7njXqPsjNazG5vtROmeAQLsTWwuhy6Y8kGqIbdkhaxcESFuKwKfBvOk0k3B4c+TZGvvdVv+VIWHw6eSGuve1+XHf7A/hsmpOBuKCw4XTPJNx496O45tb78PwH38i9wHnfzPeXdc7578V48Lm3VJ9fDaekBlxy1U1q2XsxfkFQv/0Yg8fPYyMBw5D5sKpuSX+Zl9Fl0h7WYTVSork6MlIitvjsONQUkVa1nvbOYJqhbkfPBqaDMNe3Y30HrMqs8CeX3mpVA3Gyy8m4yO0ifO4ZI2LGjLZgih0FjKWaSMp6LIitFX0LPnvDq7v3ERdHWONC+rZGWLTsIyzsC03LmxLTUjfA2sEdvr6+EkJcrd6Ry5cvF9KiXPV1khVCWKj3toOTB4ob1podIOvQoUOHjuEHag6xRCpLUmvjEDc3N6lgdqx8QNFJi99hVGSlMisvvKu9/WEpgWpwJA5EWijHjakfowtIWiRhXGM6vm3OkpKlwwHfqGP5uj5NxD5/C2nBthhIQggBYQRjsmJgOxqvr23DeDtsYxIZGhEykMToKioScdAV2dki8sljrIuJQRm/QPn5IdzFCz/YhONRm/m42OERPLnQAR86F+Mz3wZ8Fb4M4+PX4Ye4VZgY0YYJLomY7BglERWzvHuJCpuIYomicEqsl+gIkgl0lkhOkHAgARFa3gVqB0SogS+/blPgjY4dHTkipmG7WWjzuWyUWodfmpmzH1a5SZxOEht0+PwLVwgpwpB/Rmc4JdRJNAZJlLkB2ZgRWoGpyWt7BT33kzYSHFeB8phEESmk1gXFVA9EXDS4z0Kd+wyJpiiy+gLNvtZCTHSlxyJm7KNqHbWeWjd81N3Ykp8u8+K+ekIIjW1FOUJahH50JyJHP4Ce4hzZpjFpkTz+edS6TEeVw0QDaRH35RNYkxyOCrvxiPrsAWzKSjQ5rmMJxv1bA3UrTnb5M3Y09goE3xJwDdyzpqOiLAwb64tRVBoEv+y5eCD4NrkX6HRvUc+xgNw1Jtd1Ymg9JrvEwDIoVyJ2/I2iLA4mLYTz2QedkxtlPf5mNNEt9z2JS66+CU+/+Vm/5b+a64XzL75cIiooZPifiy7DdzaBMo999NTT/qGOo15+P/7KR3jkxfcNx/D5TFecfPJflYP2s/xmH7/53icww+vApSLFsWO0hdqvFm3hkLHcpD2mp6h70dYORUFB0tcZXcR+znZk2w+8PuYQHxBgGCw0qGeQbkfHBhIWPdt7UL2yGi8lvWSWrGBU3Wkup+EOzzvgFeQF74AQfB9cL2WkJ1CUs4+06O0n67EgvkHIYSEuqrrVc3lHXzrVkakqwu1zP9KvW/YKccKUEPsi84TFlPQtmOsaJgPY2NhYlKi+3d7eLgKcaaqvT58+vY+wmAsXDz/ULO4xOyjWoUOHDh3DF4y6CAxPxHwbO0N5VMocULto165dfW/I4Ws6afE7jAMe1jHXBqG5ERFSzs7cYPVgQSfvgKSF8wy86m+L9+K98GluGL4oj8fXtSlCXHzTmDEswCgLVixhCdXn8gJNzuFgSAsNxk6ZRj5ozvDAZQ+EgdsxR2JokRhMQaFDt5FRGOpaLMvMlBSSvIg4TPUpwsfuFfjIpRQfKvDv0b71GBvSjnHhSzA+uAHf2YVjkkOk6FPM8cuUaAaSAiQqPDJahTAQkqJ0LUIqNqjB7WZE1m7pJSQad8AxoVYiLhgRwf9JLDBXOqHlx31o/ckIRtMVOEjmYFWcQOVoxjXtQmzTTiE26EySzOCX5ZCKLiFKGJHhnb1YSBQSGIz+sAzOw6zgEvkKNyVrp/kBr4KXGqSXRMaiLSVFIlY04mIwYolpIInfPCOEBSMlEsc9g1rXadhRVojI0fdjU04yNmTGI+LT+0SbIm3ia+iM8EDs2EdFk4KkRcbkN1DvPguFlmPwY101Mqe8g2YfayEtmP7BSI2Yzx9W27tPSIuCuaNR5zZDdDGYRrIhI77fMR0rMO7DfN4YE3gkLR4NuQu7G3sJ1NGxr+Gx0LvVtLtF8+KJkHvwSPBdSCv0kHXY1ylguyDbtIrABI8MTPNIhE14sfQ/TcuCX43363ip6ex3dNoYBXH9nQ/DM6tD5n0x000IhVvue8KEtLjmtvvxxudTDL9fH2OBG+56RP5+Z9wsXHnjnYZ5Vqpf/t//nSqCh/z9jbU//nbaGfI3CbpXR0/CDwvDDMsfCMbRFkw98crpxFQzUUZ+Ng6SIqKJBw/2zDKHXerZMr+v8pSVlZWUj9TtyJpxOoimX7Fx60ZkLc4aNB2EApznuZ2Hj30/lpLndOpZ/943Oh0W8Sv6RVpo/WRaxhYsSGiGm7oH/AtWIowRSvU9Qvjx2TxUURcGsqKvP8epZ39Uww4EVW2FTb6pwKwgYxtm+qbD2dkZ4eHhUuK0UT0bmA7CNJGpU6dixowZ8nXOyz8cjSt+NDsY1nFigTomRNOqXwxoXPnzCQPtnJsJXdNFxzEGal3YO7lJ5SfNh83KysLWrVvlHTlcTSctfqfxSwQHoLzgc2bPxnLlsJkbsB4s6HgciLR4ynE6XvGeL2KYH2cG4bPiaHxRmYCx1Un4siZ5WIBlUb+oiMfowkg8m+Vrcg6XxR08aTEQmtNmbt6hQtsW212cQDVY00gMfoXWojDohFP8sykjFwtiWvB1xHKMDV2ML4Lb8HlQq4QKfxnSjq+DGjHOIR7f2waLFsBs3wwpE8nUD6Z9kBQQokI5box8IHFAR5BkAge0JBjoFBL/vfhyPPnGpzj9H//Cw8+/i+vveAjT3BN6v571LctBKkPnZb2+dZmfzwErB8puqU1qem9oMpcTckNIDbWcWj6ueZcQJNF1PcrZ24LQyo1CovgVLFeOZrvoGCyMqYR1SAFmxrRiKsupDpIy4hVTg5LwKBE5JXHBVBGSQJpDbdzuTP9I/PZZLI30RE9xLhK+eUaiILhcvcdsNW+koMV/gUwrthqLdamRWBzmgkr7iViTFIayBd9gb2216FSsTgxV/7+I7Onvi9hmwdzPZD8kMaiPQf0MinQypSTlh5eQ9N1IieAwPqZjAcZ9lf10XXUBdtRV96ZKqT47GEmk9XNtfZIdXIfRRavyC9U13b2vcgyRtRsTHKNFCJbXnwQb+yv7qWhZDOJscR6jhixcY3HTPY/hs2mOZpcdSFpwmb/9/XR8ZxNgmPbt/AD8/Yx/yt93Pf4iHnnxPcO8wJI1+MMf/gD7+Gr5rZEW7MtvfTkdH4y3NCx7MOD+tfuKpIdfwQrMzDL9Ku3sGIhUd3fUx8TI85mpNXxWsE2N29scqtVzThscxKj1dTuyZkxYaPoVKzeuhG+dL05xO8UsYXGKyym40v1K2IfYyzWjlhXzgAvUu4CaDyFp5ZietmmfdpFxf1HTrBM74JzWCp+8ZQguXScRRyTGSCYMJC8Gu6cOBG3dXrJCPefVPahFV0TU9sCnbAtm55lWCek9xu2YGVgIBwcHhISEyKC1Vr3z6tRzm1EXU6ZMkSiLeVbWCIpM1p0zHQaigo579tKtyFjSjfTFm5DWvgEpbV1IaV0vSD4OIefWth6p6lyLOraiZsku1C3dg4YVP6FJtYdG5JhrNx06hhtqluyAu0+QVIDSxiYBAQFSXWS46lzopMVhMIZPamkiLgsXYptycs0NWg8GHPweiLS432U6nvC1wshIJ7yS6o03cwLxVmEY3ikOxzslkcMCbxeF462CMLyRHYgH0z1MzuFQIi2OJIwdO4KOIR1vEhdri0sRmLEEP6RsxveJGzE+vgvfxq6VvOZvIjoxzrMQ31j5YYJ9uOTfW4XkK4evSnL46fRRY4IRFfuIil19JEVvxARJBW0Qm6j+/84mSAajF195vZAILKdHAoRChIzWoLgmB8HhVZuEVKAAHMUI7aLKxfH6bKojXh8zGYFFq/cNbPsGtzLANRAZvSQGB9J0SnsJjM0IKe+S8GYSLdTAWBhdAcuQIkxjyoiIdZoOgoPCclERHoHFqamSYsN+vLfPqRt4XY3bmu3Ma69pj+ytrzXriA/cxsFAW+9YwmDnwXZge7CdNlYX4+vYd7GqPEfuHRJsfHZo7WUMLSJDa2OtTzMVqi6rRMrzTs7cKRVk6HxNTtmESY6RmBOQDcfEOonCYb+lUy99VPUjcw4UCa9Lrr4R9z3zuvRxc8sQA0mL+EV7hYSwcFaOYd807v8PfzhJ7oVrb38Az7w1xjCP4ptcnpV1+JukxSl/P02q7/zfKadikvqffVxb/kDg+fDrNO8DRiExfcoqe7NJ/7b1SEKCkxOqIiNF/4bRWOynbGNz10wD299Lrcd3BN8VrJeu2+E3jZjQoJlGVhiXM21Z24Jvc781S1YwHeRM1zPxlNdTCA0LlUoamZmZkjZBp56htEzvodZDaFYdZmUPnkI3O3UdFqa0wyN7iTxPGcnDVD8SbFrkBYkGEg7ybDZ+VvdB66Mm4HNcrZek1ud2+D7heyWybhsCK7fAqWgrpg4mqswIi+BiEd4MDAxEenq6VAupqKiQ6mgWFhaYPn0GrOYvQHRKodlBr44TCxphUb98L6qX7MT9lXG4uTwCN5aF4YbSENxQEoLri4OPe/A8Z6oxa1bFchQ1dKGirUfICy0Cw1zb6dAxHMF7OiQ6DdY2tgbiwkmNVdasWTMsy6LqpMVhMH61MU4TSQgIEEfN3OD1QODg90CkxalZdjgteyFOz3XAGfmO+Eehcx9chhmccUaBM04t6H/8hBZpkTXMSAtj8DjoAGpfpIvyF8kXNYYCT1RO3oS0bZiQshU/xK3Bty7pkn9Pp4vRFRS3dElqFPFLfhXmV2rqS8RyoGpEVAz80kYMdKg00oJ/07mjSCFJkZdH/YBPJtkipkkNHp5+Xb4uU+Dzna9myLQXPhiHV0Z9L0TGwG0SxgNfQiMwuA8OpplGQkeVRAsH2/yC7qwc2AURJZiZsBRTzaSLTM/cjnj/CNRERUlVFub9szoFHWb2bc0pNzjS6nqzfelw76qpxo6qUuwqS8XukgjVH6qwWznXxo74wfYN4/1o4P6OBRgfs3Ye2rlo/XGzaqf5Sd/hj85/xIaSIqmKwz6qlZ5lmwnU3/xtrN3SU1mBjWXFWFqUheqsSGQmZ+OH5C2YmNaj+vYOTM7ajUnxK6UvMz3IJaVRCDc683Tq2VfM9SeC818bMxl3PfaClOmliCz7+sDlBpIWvA/+/Oe/4Af7fSkd39uF4uS//J/0US7/xGsfG+axT5K0mB9aKL9JWlDTgn3/sVc+xJlnnyuRQtryBwO5B1T/Z79ndRObnI0m/Xu+dwZilJNXHhYm6WJMH2PbatfKXF8kVhYWGt4Prq6u/Rxq3X6/GRMVJCc0GE8z1q+oXFmJh6MfNktYMB3kfLfz8a3/t5IOkqTeT0yZqFLvZFbTIOG0atUqES+j7gMFK6NzajEve8vgBIG6p6xSVsApYwm8cpchoHiN6AtJOqDqbyQaet8LjLLrIzGExO4lM/pBTeN8eYf0ERVM/aNuRkRtL1nhUbIFM3IHia5QmJrWjVn+2RJhQcKCH15IwJCUYX7z5MmTJcLCxtYBqQUNZge7Ok48SITFip9Q07kLJc2bcHqJu8nY7kTBu4kRCEksRXJBK/Lr1qGyYxvql+3tTRnRoy10HGNIK2yA7UInQ3URVjdjuWumUQ4n00mLw2QcxNja7mOqKhIS8JMayA4cvB4IHPweiLQ4HsBIC381OGJJ0dZhTlrQ2VtbWgWr7G3yNY1fovlFmgTG5ORujHfLkPx5pm7MC8qVihzUrKBwofZVjREMJANICpAcMCYqzDlQxjAmLagNcPEV14tDNsMrGQ8+96ZM51fty6+7DS99Mt6w3scTF0h4vvb7QNAIDEMEhhoQcyDNL4JCXpR3KSd0GdzTFmFhTAVmJXSq9jAdGNvGtSLHzx+NcXFYlZsrqTV07LSoCRIYBv0QlqOtVA53aQa2FQRje7YVfoy5DbvjHheHkPcB25/rHsgxJDif0Bx83kt02jXH/ViAkA4KbCeNrNHOhyUzt1ZVIDjdWgiL013/Ll/8KRrLe4htzTYjUSRtq/7erNp3XVkB2gqTUZkXgfQMT4Qm22BS5Cjc4n0NpoU44JvYNRifuBETU7YKKTcpegmmuMbCOrRQIoUY2h5dv1367/5ICw0kOJ56czQefuFd2IQXSai68XxzmhbnXThCooO036OnOuC/l1whfz+llr3jkZGGeW5pLfjTn0+GT+5S+d1P06JmM86/5Erccv+TEjGkrXMgsP/TGezVtdgAu9wNJn3byjcfkeo5XxIcjM70dHSXlso147UZrG/+qhDn7294N9A51O3wmTFRsWPvDhlkESQpNPDDAvUrNvdsRu6SXFwWeJlZwuIvLn/BFW5XwD64Nx2EznxRUZGkS3R0dGD16tXYtGmTVA9jGdCuri4Z2DH6IjmvHNbZmzAtZ3CygM9Lq7TVcMpcBs/cFfAvWi1aMdQqMugZaSRG8+5ekJQwhprG+ZLWp+5JpoCEVG+BX/lmuBZvxsz9kBVM7ZuW0oW5nrHyNS1Y9WOeI0XFmfJC7QoSFtOmTZMBbF71ct0B02EAHfKGFT+iqmM7CurX9SMtTi50xF8KHI5rnFS8bwz7aoQ/PEPTEZ1Ri+zKFShv3YLapbsl2kK/Z3QciyhqWAN7R3fMnt2bOUACu1mNa4ZTZRGdtDiMxhc/65jzYpOtYhnUAzlZA2FMWlAX4B/FLoaH5PGEyxNsEGxlJZU4KN5IMcDhRFpojq92LdLzlRPXb/C3F1Myd2KCdyEmLAyTCAfr0Hw4JdZKOkVQyTpxmCQEWA006ewZR1WYc5oGgzFpwSoOl15zM+YGZksVEruYCplOJ/HdcXNw/zNvqAHwRplG0oKOn7adg4VGpsiXZ428UANlfhFkKkpA8Wqp5kCdjpnJq1V7DPy6uBehXmEoDQlBe2oqNhQWShQAoyYkooJf/JXjva0sHz2Fkdia7YBdCc/j15A/AyF/wI+h/8LqjHCsU4NoOoWMDqAjvz/HUIPhujU2YFd9HbbXVCsnv1I57hXorijHJuUwblL36bCEOjYe4xZ1rDv6yBqeN+8JEhh0jrdXVyEj2wunuv6fOFn/dT8XLYmJ6FDtvFw9b9hmXcWFWFGUjfr8WORn+yM2zQGO8ZPwfOAjON3tNBNH7UnPURgb0oFxUavwfcIGibhg1ZspbvF9IpytCClfL19y6dQfSv9llNH9z76h9l8jv7ku0zBuuPsRPP7qx30ESO/2Rr73tZQs1b4g3//M63jp414SjhoZ51546f+zdxXgUV1b97XPa6/u7kbd3YVSN2ipl1KoQgVNIEjc3d3d3d0NC+4SNEGq7/3rP2tP7jDJDJC0ARKYk299mbl+7zlz7tnr7L22EID8HX0xx0cykGjHZOaRf590ioSScBnDRk467XQR8KSBx2WHglyb2p/b0zPK1QRpYR1agRgHhwFlENnb1ARr9fLne4GzF0ytaS6DUwy9KH77/Tckr0gWrQqCJIUGqqJv27UNKYtTcIb/GUa/AeJkr5PxkP9DCI8JF6FNhoPwnU5RSnpXbNmyRUTKKKDK4xG7d+/Gtm3bRNuqVf1WC4vL4FawDrMLDyB6aQCr/G4456+DZ9E6+JduQHDFJoRXbxFymO2PIsmx6h1CEo5hgDrsRAxD9+p3Iqx2B4Krd8C3cjvsSqi/cgAvDw35ezErdRVs3ALE2ycmJgZ5eXlColGfg4KbesLC1VNSmg6G8cVjaKDRe7zB8P4JU89ouID307rmN9Qv3Y3ipg04tcpHP6a7KtUZt8TY45ZYB9wa74hbE51xW5ILbk92Hfbgfdya4ISTSlz19/t6TBB8wrMQl92A/NrVqFm800xamDHsUd+xC54+gZLaWptoIWk/VIgLM2kxyIXK4pq+hb0yyreoQe1AjHDNUKahRgPkWCUtrk93lBlLGfwrg4uDf84MDyXSQma21Y91R00tnIu6jAaBUxOX40fnaFj4pol+BbN8ULuCruUJzd1IXviTMr5+7eVZYcpYOhiY5//Sq24UzwYae5yJu/HOB+GX3yHniq7rlMEsPSoYtvHqJ9+JECGNu6/m+ks2hoHMNvcFr1kjL+gpIuJuauDMtJD0+nBNbYZlvrFgoVNcE/L8/SVNLI1pklLdyiDvrq1Ad2UauoqD0J09Gf+NPUuICg3/i/ob1sVPwKKMDHG/Z4aGrrq6fnlbcDnX08Df3NyAovoSNZgoRE5VPjLLc5Beno20siyklWYhtTRzSIHXlK6uLUNdY3ZFrjwvpt/VtCoIkmdNpQm4xP98vaF1nc8VqI2JRn1CLKrSolCQEYjUTE/MTfwK1wdc2csoOxCu97wXnwU248uo5aLP8mPmTkxJWCEpeklakKBihhl6IAyUtOgLemzweNfefBfufeIlCTkiscd1JOQuv3aE6LbYx1bg8utGwDd3sawjacbsIl/M8YV7WhPufvQFTO5Jh8rfG9v5yaf8R4Rj2U65/M3xU3HWeRdhdqCqb/U75LKDQSMt6GrPmW+Xku1G7do6sAjRDg4oDw/Hsn6SFtUpKfqXP7URzGXwikZa0LOia18Xrgq/Cuu2rxMyYc+ePYLde3Zj/bb1CGkJwd+9/27U/qlfcZbPWXgr8C3ExcVJHVFsk/oOzKCxdu1aISZ4TJIhHLzxfJr3Bs9B74s1a9YIwVGu+qyQnBZYF+6EZaFp7Z++sCz8GdYFqs0VboZn8Qb4lG6CX5n6rZRvgX8F0SnwU/As2waHkp2wKurfsendwexPc2Lq4ezsgsDAQCQmJurvkYQF9SsMCYvqhVv/tOGlGek0dGnIMdUeZ+lp9B5P4H1rWgcaiWHqeQ0HCGmx+lfUdXSJd8GplftJi4cibPGanzXeDHXEO7GeeD/VHx9mhuCjnDB8nBs+AHD7ge5z+PBRVig+yAgS4fuzivePYV+NCoBnSDpiMmqRV7MK1YvMpIUZxwZaVDv29g/rlVmEpPxQIC7MpMUgF874hISE6OOC3B0d0VlT029DXIwuZZzRWNlaUYGbKvxxYbkXzi/1wLmqwzy7yBVnFbrgzILhh7OIQle5h4dSXZDp44P62FgxTndWV8sMPA3O/j6rwwleA6+FbvbLKhqNBoIz8n/CD57pmO6ZiPlhhSKKSaFMISxaunt7V/wJI49u7zfd+RBe/vBbcRvmsjlBObjj4efw4LOviXYGPT1uuush2ESViqF2050PYoZXkgh23vHQM/jeKdLouAOBEBc9Bh3viWQMXZmZJpXkiW3myt7Pp/BXzMrsRKKbGyoiI7AkIxUb8xOxvSgUO3Ot8WvCjb2ICkNsC7sR5WFhqI+Px5LMTAl9oGFIzwMSSBIyoX4jGnmhQaszGo/0TkioL9APLoYb/qqwPDcXG5QxQU8TZmGhp8rCslTcFXRzL4PrBu8r4R84G27B05TR9Rz+7aXzwBgITvU4Ax96VWBC6EJ8E78WP6Rvx5TkNXrSgnWsIy0G7mnRF5MdwvDqR5N6geEn2noSGo+++A4ef+ld0YMx3JeePq989K2EicwJztUvn+oW1+t4JNS0dQyheuvz6eIpoi07EPqSFo7KMOzVrhVsfLOEtKjoJ2nBtujj6irvArpa0gA2l8EphoQFyYOS1SXSnh1rHcUrgqEbVEHvWN+BORVzjNo9QcKC6Uynhk1FQkICMlWfwzCJJtXvU6+C4SAMAyExwXPwXFooinZu6mRwPbejzgWJDnpoZOfmwy13JeYV7IKFiTC6w47CX2CRvR2zU5bDzt0PXl5eiIiIkHskscJ7JHFBsoKkheWsWXBxV+/kJbsGhbDQyAoSFS2rfxGDrmnlPjQu34uG5XskxOCYhbq/RmLFPrlv3r+OwNCRF8PVqNVIC4ZC0Lvg1Epv/Xvr0VhHvB3hivdS/fFJYRQmVCVJRruvW7LxbWtOvzChMhHvJ/vhw4wgSZlvapsjiW8UvmrKwhd1afisLA7nlO2fRHwlwg/uQSmIzqhBbvUKVC/aYSYtzDhmwHbsFxw15IgLZSmYy2AXDmB8fRkXpCMu3EhcKOPD1KC2LzTDiwY8DfnSoiwkp8chNCoYHgEesHOzx1zH+ZhlZwVL29mwsNGBn4ciLGxm6a9vtv0czHOyhr2HA4L8vWS2cmFqKjaUlOhn0w82Y3kkoXm8MKVhUckSowHh9NT1omNBo4jEAV3oaSwltHTJrPCf8a4YquhLXNDjggKdXtmLeg/KqftR8AvCXVxQFTQXS+PnoCvhKfxf1IkmiQoN/4s8AVU+E5Dv64zysGC0JMYr4z1HwqQoNElPA7YRkhei+aDqh+2FdaWBy/jbianO0Q8uhhtOrHRHfVwcOjIyhLggedlRkolR4Y/hLx69ja5/efyz1/f+gnoYf/f8G07zOAXnu5+NMe4Z+Dy4DV/Hrsb3aVsxJb1TUvbS66F3eMhvx1SbNgTvi79bXXjINtgWd/f6zRN27vEDCg9py87Wv/A5w20ug1c00kKygezdiynlU6Rt3xl9J5auWIoVK1egoaMBH2d9bNT+CQpuXu5zOZwinUD9imxVV5WVlTIwW7FiBTZv3izhIAzn4Tk0woLnNTw/Jyq4nttR62LTpk1Yvny5kAIU8EzMyINjzmrMy98OSxEvPkQYx5+COnbBT7DM2orZqSth5xsl2hWcSOE9MqUpvSuY/aSwsBBTp04VwmL2bCu4eQcoQ3v3oBIWdat/QuqyLUheshEJC9chrn0NYttWCWJaVx6z0O6R95u3aAvqO7qEwGhdvT/DxHA0bA1Ji7zaVb1Ii8finDEm2gMfZgTjs9JYfFmfJkb/pIUF+G5xYb/wqq81TjrrDFx2/x2YUJnQa92kBfmY1J6HyQvz9cv4WZYt0p2D/4220fbr2WYgmLyoEN8uyBMChSTMuRX771dIi0AzaWHGsQu2Zf+QaMzrCW8l6E3Id97RKspaMJfDUTjrwjznGnHhqga6G5TxcShxTo20oGHG2dUtZWVYkZuLVjXgqIyMREFQELJ9fZHu5YV0T8/hA3W9Gd7eyPHzQ2FwsOgdUKhxVX6+uMJzJr2/ugWHGzw/DWBeD2e504r7eBIoTI1qkbSK88MK4J7WLFkSYht2KIOnx4X+GCMsNBgSFzRiKVgYWLQcc/J36Z5Nj1ApRUrjPGegO+wcIOoEI4LiQNgRciEW+o9EQ9B3aI+eh2XJnliTE4ONxTnoLC+VFJ0Um9yt2gu9YPg7YT2RxNDEPfm7iajI1A8uhhtIWuQFBIgXEmfzF+Wm4dOIN/AXN2Vs9SEt+gPOJtNAO9nj3zjH4wxc6n4BrnG/DPe4j8B4l7fg4zAbn3qW4fPQBfgmbo2k852auwcz/DJhy1S6f0CIczhCSAsDIU5T7vdOtp6Id3bWCXHm5R1UiJMaLt4uLtL/M2SQKTLNZfAKSQMOnugBsatrl5AVWptPrE5EQV0BXk18tddvQQMFN2/0vRGB0YFIUe8hajtUq7qkMU99CnpodHd368NBeB6eTyMstKIt43puR50L7sf9GS5CETOmECVBkJiSDrfMRZiftwVWeTsGj8CgvlLBT2BGkNmZGzEncSEcPALEs4JkBT1ItPtjG6SgKMkUeljMnDkTs62s4OkXogyunwbF2NJIC3pYhCxZjTNr/HFGtUKVH06v8j3u8FVtCUqbN6FGGbX0MmG60OFq2PaXtBhfFocvG9LxbVuujixYUtRvXPvsI3jN36bXsm/acjA22U/IkPdS/DF5caEc+6PsUIwrjsHHOWFCMnyYFSLn5jbcjx4SH2YGyzYM8SAJYXjcQ0Idk2TJ181ZmFBtJi3MOP7A9hwQEqMnLjiWISlPwv5oFGUpmMvhKiQuDD0uKMa2tKBAMgAYDm4NoRnMMmOsjDIaaIzrpy4AxfYourcgLU0M/mGH1FQsVNfObCGcpaTrP2eRRaSxeb9mgannciSh1QGNEWawiCtabTRQnBpeLzPRNOq8sxeK4CDDQph+7s+GhAx1aMRF6sKfxdsitGwt5hf0uNIbkBaOzmGo8XwLu8Mvwv+i/m6SpDgU/hv1D3TF3ovNKZOwKdMZm3IDsLkwEVvKqJNRId5IJJbohcGQKv6nIRlSkqofXBjihEqdAvhQQt9rJGlBw7hIGRz1SbGYFjYOf3FWxlY/SQsdSXEiTvU4GRe6nYsr3S/Gze5X4w3XZ2Hv/B0SlCGd7OaGNA8PIRRT1f8f/UrxZeRSTEragB8zd2Ba7l7MCK2EdUQRvDLb9ClPqQ1BbZVjkpBT96Uj4/YgvLpTtec+BqVq0x6WVvLs9ClPVf/MfoL9RV/Solb1d+z3iYCAACOD11z+XNHCM+jhsGzTMvEe0n4Dr8W8hiciTKc0/bfXv/GA/wOIjI4UwU16H5BYYDpThu9Qn0ILBzEkLA5UNOKC18PtNZ2LnTt3itcFs4uQLGDICMkLnjM8IR1OGYthnbMJc3O3YnbeTtEGsqAGhuo/dW2vD0hOcF3hz7DI2w3L3J2Ynd0Jq4z1mJu8BHZ+sXB3d5f06wwDoWcFyQqmMaWQGgeavD9+p3cFhTetVNv0CQhH29pfB42wIJgWkyERPguXGvVvxxveL8lARlkHSprWo2axLsNEm3o+w9Hb4miRFp/mR+L6F57AxNpUnHXN5erYGXgvxQ83vfac6E7c8tYL+LY9FxffOQITqpNx9VMPyX6PTZmAe8e/g3FF0bjgthvVdcX3Ou4hYSYtzDADC1Sb9guOVrasTq/R1tZWMmYejTGNsgzM5XAWDlw4YGU8szaApTDbbmVgMRWe4SBXAwe/nLnjDDJd3buVUU835M7ycnGVZ3pDuo0PO5SUyLVTYJRkBY1LjbBgKMZQ8LIgtOdPY4TXmFS4XA0aDYwXhWlRbSLA2Te7wmDNRNMw5KyvoCfUxNR2RwNCWqjroQFLQ5YG7ZyCHld6Q9LCzgdR9vbI93VBZ8Rd+DnydAzE68IUGGKyO+4BbEy3wsZsL2zKj8bm4lzxwtim2hTTfm5S7cu/IFE/uNDw9xJnnJ5ph9OzHXBGDuGIM3OdcGae89GBOjev4S+Vbr2uk8RKiOov0rw9YRcwCSfYnIC/OCmD6xCkxV89/orT3U7Dxa7n40bXK/GR06sIdbAWAiRFGTMZXl7i6URvrZKQEAnPYphDqfrsFFaCbxPW6kJDsrsxPW8fZiQtx7zQfMn8wew1JKgY+nS0SDmNFDS17s+ib5v2LN9h9Ju3TF4N31mzxGusKSFBSFcSZuyn+5Kt+1Sf5qLaPvt7a2trmd02l8ErGkmg6Ul4NyhjwuC3QOLO8LuGU7xOwQv+LyA6OlrIA5IIDQ0NWLJkiQzCTOlX9Hdgpl0T99O8LijeyWNu3LhRQk7oWsvwDOpm5ObmgsQCr8UvOg2uiVWwS+/A/Oz1mJe9AXOzN2Ju1kbMydqkoL5nrldYh3mpy2ATXQHHoCR4eHrLxEiQ+k0zfSm9KhjmQnFNkiSaZwXvjTofjWrcQbKCgptz5syFb2AE2tf+ZnKg+kdAY03zsmhasQ+erYt69W3HI97KjkNsVj2yK5ehvK0TDcv3om3Nb2bS4gDoS1pw/29askXQ8/PyBAkd+SA9CGOTfNW2j+KdOC98XpEg21xy9614M9QJn+RHyL4X3HKDrOPnhyZ9gqdnT9Ift18wkxZmmCFoW/MrPH2C9JPwLi4uIlB9pIuyBMzlcBcOgDgwITulEReJwcGic0FRQcPBLqHN9NNwpjFP45mu8AyhoJHPgTI1IIYbeN0E74H3QkLmV3VvhoTFUCQtcgsXGhkw01LWGZAWHZKmTh/zPwgEA7OEOCXUIKBgOULL18InZ6EsM7Wthj+TJWQg6GvghVZuwqyiHk0LPWmxDy5z7SX+P9ffH2VhYVgQ/i32RF4m3hOmCIk/gp9irsLmlMnYkOmK9TmhWJuXiuU5WfDMitYPLjScm2yNp6wm4bn5P2Ck4wy86DYbL3vOwSs+83TwPULgubzn4WWPORjlYikkheF18ruPpQWs7b/Fvyz/gb9YK4OrH6TFma7/wYS5b8PfajYibGwQr14qJCryAwJQqp5/VVSUaGUwo8sCZbAtSksTzy2GnqXE5kq60ylZXTovi4KfMSOnG1bBeXBOrBVR15i6rb3Cn0y1jYPB0EODnwl+5rF0bUpHhvB/3+X8PtM7GS7J9UbHyly2/1h/FHKejv8KKcM0kzYlxikr5/rlImjePOT6+Ynn2KaSEtG8Yf9lSFqQjC6Jj9f39TQmj7dCA36gGEjh9oahIa+nv27yN2GIUz1PxRi/MeKFwCxf9LAgYdHR0SGkAvUoqI1hSr+iv0W7F4284LEMyQt6XjBshCQJtTPo4UFRTKZXzcrKkuuKV22H4wW2m/DwcISGhkqYB/+Hqd8xr5/rmemEpEdGRoZ4VJSWlgpR0azeq/QaoYcH74ueI5w8IYFhZWWFWbNmSbv0DggbVMKC0EgLhkBQkNKtqb1X33Y84qWkMATHFSKlsB3FjetRt7R72IaIHGnSgvuOK4ySrCSXP3w33on3wkV3jhDSgnoZY6LccOn9d2DEW6NkW4aLXPf8Y7j0vtvxdUsWzr7uSkysSZFjPfL9eDw2bWKvcx0SZtLCDDP0aFq+G67u3vqxDclyvtuOZFEjf3M5EoUDGc6AODk56SvcwdYWy4uK8JMyjrUBr37g22PAczDMjAkcGGtx+5zZG87Q7kMjKzTX6qFAWBDacydpQQHIxvxqWIiL7n4DhkadRUAu7KLL4JO9SDJpkFRgilNDg+qPgvtfd+s9sPBOhWdmOx585jV8YeWtPzbz+FP4kzoD3J7/x3xpKeQJt+GMdGT1JslmQmOs7/H/DDQDj+eIb9oFz7I+qSHpxpy1DV4WFkhwdkZxcDDqYmJEo6EqIgSbwh/CTxFn4f/6eF3w+96wU/B7xN/xf5EnGq0/GP4v8i/4JfJMbIgbiyVx1nBJctQPLjScm2yDZ+f/gFFOFnjFZz7eCHbA2xEuGBPjjjGxHkcQ7hgd7Ya3wp3xeqCdUYgISQvLqRNw9nen48SZJ+AEawWnEw5JWpzocSI+sX4dfrazkOTmKmQRs1w0KuOGJMXSzEyszM3F2sJCvdfTRvWfYQ4tqemSaYCEBb1kSDyxHi2jGmAfUw6fnMU97a37D7VxpsqNqNyAkLK10naCilcJ6JlET52QktWSQpfCriRImKmEOhqBRStln1hm84irwrc2QUKcBKvtmfKXhAbDk4JLVqnr+WPEBe+DBImEhqjzhtWwPff+vdMt326eGyJUn00vFWa2oecbU1MzrM2w76IXnZ21tfTxNjY2x3zGEM1Q14x1goQCQcO9P9C21/Y3PKapwuXcj4TAxq0bcV7geSZ/ExoYOjLSayS8Ar0QFRMl72JqPNC4pxcCjXpNcJPXcbBz96dwX+050OvCkLwgOcIZKmYmoX4GSRNqaTCEg14YvK6KigohIegxQW8QkhokWZjtg3oUXM8wD5IeJCnowUEihESF5lXBe+L56DnCjCaMRZ49ezbmzJ0LL79QmTkzNTD9MzAkLZgW06WhtVffRvy13BUn5TvhpAInnFzorEORC04ZxuD18z7+XuZqdL/PxfjBKzQDcdkNKKhbIwY/Q2fMpIUxKHh5xaP3YqTDdAnlYNrU+798H/eOewdPzPwKnxZGSQjI6Eg3SUH6qp+NeFJc9sBdkqnkSYuvMaEyCSPeGAmmTb11zEsi7slj8fNboU4mz3tAmEkLM8zohZqFW+Ho7Ka3Y5kinNpPR6qoEb+5HMnCAYa3t7cMILRKz1MG3VZlHB/I60Izoo9FaPfX976PJrTnTYKFmiJr1WDRpqCrtxFDJC3H/PBieKS3ivs8Z2iZLnGwMofc+8SLsA4vks/MaHD62echqnarxNy/P3k+3p4wHd9YB8q5bCJLcMppZ+LTaU6y3i6qTNaPnjgDvrmLjY79RyGEhWbgtSnDsm475hZTUM7guShj1yqkCv5WVuJKXxMdLUYzZ/XbkpNRq743hU5DV8QV+D3yX3ri4bfwv6PQ/gUs9bkVW4IuE1HOPeFn45eIk/G/yL8eksT4X8Rf8EvYX9AV8BeEhN+iH1xoOC/FFs/bTxcvh7cjXWTQwxmbj7NDRchrf374wwx1ro+yQvBBWqC4tpoiLR776m5c+8PluH7OFbjW4XJc5XIJLnO/EBd7nIfzPc7G2R5n4AyP00S34iSPf+Ofnv/A3zz/KoKbH7q/gkR/Z1Sr50yPAKZPXa+MH2rjMMyMRBw9n+jxRE2GTmUAUezXX1WweFj0EBZSl5lbpI27p7X0tPEdSFm4v433bR8HgltqEybO8sLYb6zEI2jst3Pw6seThaD41iZYff4Ob6n2ypS9Y76wkHZv4ZuKJ155D1NcY/Dh97Z60oIpf9+eMEPSokbXduKVjybh3a9ny3WZOveh0IuEa+6CU5lx1hCLtE1wnz5d9EAoIkzyh15YfTOH8H+2Wq/17ZwJP9aKZtAbEhQkEGicawY6PSA4kCForJMQIOjJQGjfuU7bjvtwXx7DkMwwJDG0wmXcjgZ5zpIck0RFX1zidQk+8P8A1jHWCMkJQVVjFVatWiWimTzOYBEWhkV7TobPiPfKZ6ARGPSEYKYSkhj0wiDxwJAOkhkkIkg4kFzhf37ncq5nuAm3J0lBDw4SISQqKATK+9GeK7UsON6gl4WesFBGs6kB6Z+FRlrQKK9don5L9c29+jbizHRbPD53Ep6Y/wOedpiG51xm4nn3WRjpYYUXPIcfeN28/udcLXBlnI3R/T4d6QUX/wREp9cgr3olahbvHLbG7eEmLUjkX/bAnbjl7VG459PR4jXxnO0UvJfsr/OoUMupU/HID+PxaV4krh/1JB746kM8O+97fKPORd2LR38cj3vGjZbjTaxKxvUvPinf7//iPaPzHRJm0sIMM4xQWLMUtnYO+nFOrRpH8j13JIoa7ZvLkS4cqNDN074n5plwVp+XFhaiu6FhyBnxxyNIWtAThIYdZ6PjlOHf15DhbOzs6HoJ4/DP70BkzWZd3L0W9/8niQtD0oK48a6HYR1RLIYeyYmE1t244vpb1Tm7ZP25F12m3/a9b+eKkWnpm47n3h6nX/5noM1IMwSGJEps0y64lJkgc/L3wc7WT0IUCoOChKhYlZeH9UVFWF1QgI7MTDQnJKAiLBTrwp/GvohzRKuCxEO5yyui5xBhZ4dYR0dkuVui1e81bAm9CbvCL8XeiLPwe+Q/9dsfiLQIDh+hH1xoOC/NDqNcLPBGkD3GJvkIefBZSSw+r0iUdGYT1aDkSIC56D8vj8e4ImWMZ4bghD7XSdLCddo0RKpnwNCO4pAQeY7Uo0j2dIO/mxWsXSbhO5cP8Ynra3jN9Sk87n4P7vS8Cbd6X4dbfa+DVdgXQhStVs+dGjJayliK+9LQFq+nlhb5zJAttvHSzHJYMnWtRlj0YFZMA5yY1lfa+JY/5FFEodqHR76FWX4ZoJeQVWA2Hn95rBARlr5psPBJlbb+g1OkeC9Ntg+V39V4CzchSJ587UO1baWQFmO+nIU3PpuCUe9OhGdGq1r3Ab62DhRvDlPnPhi0Nq2RcOF1O2FRRCFEg/asMNcjCQHK6Mvy9pa2SxLIUM9C67MZ8je/h5Bm/97Z2dnT6w//ohnghka4IUFBQ7xbGeJdXd3YsbMLm7ftxMatO7G+cyfWbt6B1Zu2Y83m7erzdqzfvA0bO7ejc9t2bNu+A9t37JD3omZw81gakaGRGBqBoYHn5vaTiyabJCn6gjoXf/P6G87xPQe3h92OyOpIvZcFyROeg8cdLMLCsGhESN9nx3vkuTUSgylW+RwYSkKQiCCpooHftXXcjttzP+6vEUCGxA+9fOjtQ8KCImqevsFoWf2zyYHoYKA3abELjnVNvfo24qx0Wzwz9zuMtJuGl9xny0z4G0F2eDPUEW+GOeHN8GEEXq+67jeC7SWE4dokB6P7fTLMHY4+sYhIrUROFY3bY5i0iHLHB+mB+Kw4Bl/UpuLrlmxJGTqJqUmHIb5dkC9kyFeNGeLRYUhavBzhayYtzDhukZxdifnWNjLWoc7FunXret52h7eYSYujVDiAoZunp6dnL6+LKGWYbKyowM9qMHwgoU4zDj9oiNDtm+7fnIluy87H3ILdRsbMzLzdmBdbL2lP6a4eXdcpoRopkkXk9wG70RuiF2mhjnH97ffDJqJY3OndkhsxPzQfl159I8LK18k2GmnB87mlNMIlqQ7jpjvjkZFv64/5RyCGnQLvRSMs4pq74VPVkzGkDyxjFsBzxgwkubqiOjISy7KysLm0FNuVQceZfn4mibFQGdUMG2kIm4euiGvwe9TJ6Ay5BilurqLFQO2AgsBAEY7MV/9ptJf6zsTa0AexM+wK7Ak/F79FnqQnMAxJC7+wB/SDCw3np9nJIPntcBdJf0bCYmJ1sswI0S2VAywNXMaBiuGywcJX6lxUP5+gzk13176kxYmVbnCbNk30QEhYcGaf2Spq1P8K9TypT6ERGXw+JDYIphIuV+vqYmMlwxCfMVMm01uIZIWhfgzbN/+zjTPrCuuFGX3ccjca12nODlhHVcAjvVnnbSGpfX/Sa1v0p3375C6WcJDRX8zE7IBM0aeYONsbdlGlkjp4mkc87GMqMMlOR1aQnOB/egv55y8VTwqmF/5yji9+dI3BvJB8hFesl/SkDF/hfgP1KJJ2ra6fBKNoWTR1wa7UWMvCInsnnKZbiqgsQ0MWZ2SI1wp1eQwzHjHFaYSPj/4lnqOe53AvBzO2dSTFHnTu6MKaLbuwZP1OtK9RA/eV21GzdBuy2ncgoWk7Iut3IriuC77VXer/LvV9B+IbtiGzpROVizcpA2gjGpdtRtvKzVi6djPWbdyCLZ1bsX27zjCnUU6vDENPDP7nsu07tuP2qNtNkhQaGBpystfJuMT3EtweeDvsUu0krGLp0qXioUDDn/dzOEkLw2LqmfKeCI0AIgFBaB4phtDWcbu+3imGxA4JM2dnZ317pIhay8qfjAafgw2NtGCmDNOkhR2eF8LCSkL0xkS7i9cbQwHeVwbvsENqAN5L8sWYWE/ckGkcHvJEqBvsvaIRkVKBnMrlxyxpcW+8I0ZFu+DVVB+8lReKd8ui8V5NAj6oT8aHDSnDEh8ovF+bhLFVcRhdHIkzyjz19/tSmA9cA5IQlV5tJi3MOC4REpGkF+b0UWMfTjgc7mImLY5yYewpBbYcHR31lT9XoSIpCVuUIfGrGhT3NajNOPzgzCmNOs5Ec5aacf8JmS26meg+Rs3M/N2wTWyBR2Y7gkpWi8s6PS5oCKUv/k3i7gfqdcFt73l8lBhqNKoY63/R5dchonIjXvvkO3yhjLc0dexrRtyF0NI1ss85F14q5+J5zz7/YqS0/6T2L8TDz79ldPz+wtCwo/AmjdWYJhIWu9S994n7V6CBZzvfQ7wl8pQh3abaMbMs8BmSAKKBzBnqbZWVMlvNNL5ayMj6qNfxU/RFqA51RlVEhGhgMEtDS2IimhQoIkkxSRrtJDEKfB2xNOhF7Ai/Gt3hF+Kn8NPwU9hf0RVwApxDXtUPLjScn24vwpucDWJICJXIOVDmYPPzysReMyxUJv+0ILLXssHCt+15IiL2ZX2a5J03RVp4zJgheiC8Xwpl0lCmjgL/U0CTXhRtKSloVc+OwpoEP5MI6sjKwpqCAvGwYMpeivjSI8BQP8awjVO7heEirKfcjCrMMtHGZyUvh2N8tRAD1G9hGMVAPIpSFvyML+f6iWcEiS+GNflkL4R9dDmmeyZiulcSIqo3y2dm4pnmniAitwwj4bYM3WCK4cn2YXIuemxYBWbJsae6xUvISN9zHgo8Dq8/bfEv4j3iK226933T62SOTxZ8LC2R6ukphNAq1Rcw1a5haAhRpeqD/Tfh5uYmRv1wLYaGtWZU00Deu3cfdnbtxrpOHUnRsmoHshbsgHuVMdkzUFA3yLNyF9KbNqJq4Xo0Ld2AjlUbsH7j/tAHzauAxju9LBatW9Qr1akGelX83fPvOMfrHFztczVeD3wd4bHhyFS/IQpfUpRSCw3hMXlvNPgPN2HRtxg+Z43E0MDnfjBo22n7asdioScGw1C19ujq4YemFXtNDjwHG4ciLc7OtMcLzhZ4zd8W76i+98OMIMn2QBKZ2gPDDbxuks8M+bs538vofklaOHhFI/xYIy1qepMWpxQ64/QCZ5xR4IIzi9xwZok7ziz1wFnDHLwHuZdi6rHsF81+IdgDTr5xiBQPGtarmbQw4/hC6+qf4ezqpX/PUCuK76bDWcykxRApnPnx8/OT9HhaA7BRhl9jerroXfymBsd9DWszDh9ohNDAo7HHDAFMNUtNBo+s1UainIKCn2GTuhjuWYsRWLxSRASZIpIu6zS4OCstXhf9JC/imnbh/qdewQzPJISUrpaZ5k+nOso6GnITZnvKDPSVN9wqmhpcfs2Iu9WyZbLvDbffLyErNBQfHTVGGZj9TxUpRAXRQ1aQeKHnSELbXkQ0dMGt3DjmX5C/D3M8U+BtYYEkZbTR4F6uOjGmtyVhITP9PWEJ/E49BXoCrCksxFJlaNPgXpzkh9VJs7FIPWsSGjQQGVJCUEeAYpI02Eli0PugLDxcPA7y/LzQHPARNoXciA3+l8AiaIp+cKGBpMUrXvNEePOT3HCMr0jAHe+/hn+ddireDnOW+FWCMbgU9HrNz0Y+f9uWg8kL8/FNc5bE6GrbEd+25ihk4zvG7fbsy9RrhLZM4noX5Ou2bVefF6pjtufhq8ZMCRMxRVpQxDRZPcPG+Hh5NhTPZLYKtkNJe6w+M40wQ27WqXUC9ZlEEMkKkkL0sNAIC4r5GhIWGrhM71GkjDkSHl7Zq03W79yEVrimNCKwcLkIvtKjiG27v8TFQEGdlm9sAk2u+7MQwkJdM8NcRHyzdidmmQgLsUjfBKdpMyRciZ4sbKN8/gwbMwwNYViIdU9aa7rjL+RzHobF0Ijm4INkBWf0d+/Zi03bu9GxoRs1K3bAv9aE19kgg/1sYNU2lLSuRf3itVi6ah02bNykD5Pgf/da9ZsxICuo6fIf7//gcp/Lca/vvbAJsZFMGykpKZJitFL9Lih4SU0ILWMICRDeJwkAzeg/mkWrg/7AVCGZw2wj2jjC2dUDtYu3mxx0Hg4ckrTIchCPN4ZW0EuBBj9D5r6oS8NXDRnDDrxueuyNK47BrUW+Rvf7+DFKWuTT04LhEhXKkK9wxV/KXY4rPB/g2suDpmqhmbQw4/hDcd1K2Njulzqg5tLhLGbSYggVzvZQuM3LywvzewbAhL2tLdqUAceB8S9qoNzX8DDj8IDPmcaeeFuoZ8/Z6+qkdNjnbDFNXCjMyd4Cl6yl8CtYLt4R0fXbkNDcDWY8oKcCvSPSDYy8Axl6Lkn1mGwfLpjlly4EiLaOhhZd6x3jquGa1CDeFFzumd6Kj36wF6FDr8w2jJ/piviWLkx2CEdk1Sb9/geCdj301qCOAK+VZEWyMuroXRFYswtzi38yed8kLGaF1UpYQ7S9PYqCgtCuDDwa1pzFJ1GhzfTzP8MU+Fxp/PHZ0t2eBjefMWFofFPwkGAIA7dj5gtuQ0KE5EZLcrJ4YVRGRkrYRJ6/P2aGexgNHveTFh74JC9cBprvJvhILnchIXrEt0hS0Pvi06Lons8eeD8tQFyY3wp3kvAObsf1XEZw4M1lH+eGS1q2d+I8Ja6XyzgD965a9l6ynwiNTV7UI+6ljkNvD1OkhTdn9j08xIOC97q1h4TYrZ4ln5mWPpjgcj161jN0gc/3YISF1sZZHwxtoFcGyZGKlFzMyTdhlObvhXVCg5BkzN7BFKiJbXulXTMU6nAQF4cDWhvn74ikYmRDF+aX9BGT7bnfefYh8Js9W7wsaulloQxfhjn93NSkf67M/hRmEBaSqtr9cCuaEdyXrOjavQdrO7vRvnYXopv/vDfFH4Vl0S+Iqt6IirZVaOtYjRUrV4qnxEtJL+FErxNxkvdJuMT/EtwceDO+DPsSUdFRSEhIEGVzpgMtU30J05uSTKLQJcNC6I1Ad1a+d3nPmrfCcC70GmEqVG3s4OjkhvKW9SYHm4cLhyItzslywMteczA60hUfqr6R3gr0Ovu6JUf1t3migdBvqO3Zh9IrjlkjSAbrludiQpUu/O7TwmjVZ2fJOhIL/D6uOBafq+0Zrmd0zIFAnf/r1hwhL6iNdFtpgNH9HnOeFmtIWnRJJpTTyrxwQpkLTihxxgnFTjihyBEnFDriL8coeG+CIic8H+gGZ9940Soxh4eYcTwjNrVIjX10Mgceatx6OL1MzaTFECwcTHF2yN3dvZfeBdPo1alB2CZlwOxVBsn/zOTFYQUNOholNLBpBHImeqkylEviUmBL4qKPYKEehT/DNns1PPOWI1AZd0wVSfFBjbwgESDkxZLfjQiMI2n06c+pzq8jKhTUNdEI5TVSmJDaFaF1u+BUdpCZVWXczYpsgvOUqQizsUG2r694CDCkhkQD9RS02H8+U+250ugjmcH1NLTpebFDbU8wnIQGOT0AflJtnaDXAOuBy0l00JDnrDcNbXphLMnIkFAThpVYxxsPHi8gaeF9aNKCuHvcGDw1+1vd50/fxtVPPYgvalJwxSP34PUAW1l+9dMP4WUPKxFi43ouu+/zdyW++WWvubh1zMuyjETFWVdfps7ljaueeKBfpIWvpSXSlaHM7B8kcPhsDHUpSEYI1HeGdxiCy4SsUNsZEhbEQdt4j7cFPTui0xpNholY5HbBLrEJXpkLEFK6FrGqXbOd6DwuhjZxYdjWJdSpfR+iGqljsdfoPpnilCQcBVFjHB2FDCNB1tfLghmfKlWb0/po9tmcuR9ORSMrCC0MhJ4VJCuaVu+Ca+UBiEpTYJ8o+EWIzBl5exR2Y0Zudw9UP6KWsc+YWaCOq89Uc4C+tC/Utm4l25FftwTlDc24KfRm3BB8A16LeQ1xWXES/kFQT4TpQZkWlBm7mH1DSwdKDw16WHBgxXs19LIYzqQF212G6gP14wUHZxRUd5gcZB5OHJq0cNT1w9HuIoZMLwsSwSQV6IXG/rG/oJjx49O/wJ0fvI7Hpk4U0UQuZ2amUS6W0nffoda9FeYsRMa9qn9mRoqHJn2KkY4zMCbKDV83Zxsdt9+g19yCPMkuwffJ7eWBRvd77JEWv6F+aTeKG9fjrHJf/LVCvbPK3RRccWLZ8YNnY3zhEZwqWWF0pMV2NK/8yUxamHHcYYFq866evvp3D1N0czxxOIqZtBjChSnQmGXE1dW1F3lBZEdGYr0yMHapAbSpVKlmDA5o1Glx/zSW6ZZP46UgOhH22RthyYG3qcG1gmXBHjhlr4JnwWoElqwV8oKeF9QDYFpSpmjsRWBICMl/BX2JDA2mjLGDwegYPG4fkoLn14gKkioJLbsR3diNkNpd8CjfJbOcpu6PsMjpwmxl3DlPnSY6Fpne3hK2sUwZDTSAmbGCBp4W+2/4XMXoU8tpXNPQpmcAiQmCJIUY4AbGNyEGu7atMrKF7KipEXJkE0NNCgokxME5PcJo8HhBhgNe5WA59sCkxSQ1COX/hyZ9oictHvr2Yzxp+Y18Zqo15otnGMi/zzxdvCk4eyfHUOs/zgmV7xwkk6DgMnpYXHLf7fKZ4GD3kKTFrFkiRrqQJKWBoayRPxr4/A4EbRs+a8Nn3xdaG+dzpbfGBmXskSzxzFxh0qPIMmcn7JNb4Z29ECFl64S4SFTtWQuDGorEhdb2SaywrVPAM6qhGw5lprwHfoVFylrYT52JENXvCgmXkCBtS9Oy0Mgg6g5p2UJsbW3V41TPdBgVQ+8KnbjlT9i8Yzda13bBs6YfZAUJB6bJzd2N6VnbMT1jC2akb8L01PWYEbcY06OaMD28FtNCKjA9uBQzQqswI7IeM2JaJGX0zIxNklZ3RtZWzMzeqSM0SGQciMRQ55tR8Aum5e3FnKxWzE7zQ15RKQoLC1Gg6odEBTUrmIKtVf1e6Kq6evVqCQVhalGKbmrpQHm/vO9jgbAg8VJcXKwfHzAdXWZxs8kB5uFGf0iLV33m68P0mEqSRj/1fvqSx4fCPZ+9I+QDP98/Yaz06ROrU3D+iOswvjRWllMz4/axr8pnesydf8v18pnhehfdOUJPQv8hqOvlO4MaRSS1by8PMrrfY5G0qOvoQlHjepxb6W90v8cLno3zh2dIGmIya3WkxcIdaCJpsfZ3M2lhxnGH4voVsLaxlfcP7VWm8T4cxUxaDIPCfOwkL5hphJoXmmAnEaaMxFVqsLJdDdKoe2HOODK40IxrGos0VugBwJlvxraXRUTBNW0ZrHJ36QbvpgbZBD0vcjfCo2AN/ErWIrRiAyJrOxHTsENHYLTulllfCmjSoCIMiQyGapBg6EVo9APa9kJO8Bg9BIUhSUHihOEfJCqYPSGsbhcCq3fCruQQruDKsGC8/xyvDAkJCbexEcKiJjpaSANmCCHJQ+JBM/BMPVvt+dJoFmKCBIUG9V0zvg+0LQ151ovmrbFNGZGsH6+cOKNBhpAWPgcnLZhjfrL6LKTFrB7S4puP8bTVZPn86JTP8fj0L2WAfeqF58pMH1OhUVCTy8694RqMjnLDO3Fe+0mLJF+9JwbRX9KCz5MEGcNkSP6QsOn7HLXncjAYbm8K3IbH5fPkcyQBtDIvD9UJybDL7VT1bdy2LfJ3wz6lHd7Zi8XjQkJFVDtmG2b70rfTo0xeaGSdLvPN70KsMKQlvL4LtiUmPCx4bxmdsJnjCn+Ghbi7S/YWeliRhKM3ilYP9HYL7RE7ZJ/MUIThUjQjXSMs6HGwq3sPlm/qRlzLoX77JA5+wozsHTqSInkVpoVUYppnMqZ7JIpgKtPYzvLPhFVQNuYE52BuSB7mhuZjXg/4mcu4bnZglto2AxaBubCIbsLM9A2Ymb0NM3O7hRDp1f54btX3TMvbhynZ3fg+rRNeafVIzCpGQaGOsGhUdUTyiOEjWhgIdR7oidCXrOD9D3fCgvfQrvpDbUxgbWOH5OwKkwPLI4EjSVo88uN43Dv+XfHYEL0htezpOZMx4s2R+m1IMAvUsUlgaKQFQWHmKx65V/99wDjOSAteMzUtGAqRV7MS/6nYLzz69zJX/LPExQDqe6kr/nUMgPfB+zmR+h099/tMrM7TIiaDpMVKeSbm8BAzjmeExaTp30Ph4eHyrh3sYiYthlHhTFF8fDx8fX1hZ2fXi7xwdXDAgpwcbKmulhhrc+jI4IFGHQ1lGis06qivQNFDZnFgCsqIqDzYZG6CZYFpI8gQc/J3wTl/HbyK1sG/dCNCKjYhomYLouu2IbZxp5AYNP7ocq8jMnTeGIQhodEfaNvr9v+5h6DYJ14ezG4S19SFqIZdEv4RWLUTHuU7MbvIRHYUQyijgRlCZsV3wGaWvYhuUsOC6UgZ80/Cgp4BnLGXGekeA+9gxrNmXHO7vtDWHWx7ITHUeUiQ0Lin8KdfQYJ+cKFBR1qowXIPaTGhKgkveczBeTddK4Pnj3PDcMOLT4lA5l0fv4kHv/4IX9Sm4M4P1edvPxb35cemTcR9E9/DJPX5mmcexpshjhKX/UlehLg4n3v91fgwMxgvus7CZQ/cKYKcr3jPxWUP3inn40B3MEmLwQKfJ58jSSCeiwKprMvCuDTY5CoD0tTMtzJc7dIWwzN7sWhcRNV0qva7S6/fYuh1cTTICzkvyYqOHn2WhT8rg3w3gmt3YW6J6XZukbUNc+0CpV3HOzujNDRUvF3oYUUSjt4ofE7UFiqIidH3vwwLYRrK4VAMCQvO0PO6O3fsRt3KLvVcDuxVJYRBbjemZ3Rimvr9T/HOwDT3eCEpSDrMCc7F/PBC2EaVSuYXpqxl2mXXlAa4pTVJWmhDuKU2yjpntY1TfDXsYytk33lhBbAKzsGssHJYpK1V/c12XTiJOr9GWkzP/wlTc/fgx6xdQlzMTFmFmOxKFJVWSDgI05nSU1EjLHiPxxpZwcLrZ358TQNrnvoflZhrckB5pHAkSQtqUlz91EO4/KG78aqvtZAH93/xHu4ZN0bWk6ggoUHdIfbPfUkLksvnXHeV/vuAcRySFrz2ygXbkF66uBdpcWWiLW4PmYvbQ+fhzghr3BVth7tj7XBPrAPuiXMcvoi1x90xdrgzyganZzvq7/fZOD94iadFnaR/Hc71aoYZg4HGZd2wc3DSj4sOhyinmbQYhoWzYhQXCwgIgJOTUy/ywnrePJQkJGCtMjq2KcPxF2Xo9DX6zBg4NKOOhiPDFzSPC+ooMBwiJyAQ7oktmJvdCQtxbzYx6O8DC3pgFGyDe+EGeJdsQED5ZgRVbEFYdad4YgiR0bBDsoHENXcJ0UCPCCE1WvcI+aDD3h70fFfrEtV23Dae5ITaN7ZxFyIbdiG8bidCa3cgoGo7fCp2wFY8KkwYpEZQ2yjDwTJ5Dea6xcN16lQEqnaX6OKCwsBAcZ+nMCZDNAZCWPQFtzWEqW0MYbit5ilAF/7AomT94EJDX9JifGkcrn7mYRnwcuB71eP344pH7xXRzCsfvU++j3SYrvv85AP4rCQGL7rNluXjy+IwUQ1SGR992QN3iagcB7GPT/tCyIrRES64/OG7xR1ZtnnwLjxh8ZVsMxRJC0KeIQ3ynjARGuo02LNjMzD/QMSFwrzMtXDL7kBA4QqEV21ETMP2Xl4XR5K80M7Ri6xYpNNniWxkqt6uA4roWmRtx1zHcHjMnCk6FkXBwZKyl5op+rAQVQdEc2amvs+1t7fH4sWLe3rnoV00soKGO434vfv2Yd1WVVftB/GuIFGQvQvT0zZiakgFprrFYoZXsnhSzA3Ng01UCRzjq4SA8MjQhQ355av2ULAcQUUrhdCiN05oWW+ElK5BUPFq9VtdqbZdBt+8JbKve3oLXJLr4RBXCZvIYswJyces+AVCKM3M14WPzCj4GdPz9glxMSW7Cz9m7sSUjO0Izm1FSVW9CG6uXbtWiH6KU9LDgoSFRlYcK4WkDAkztkOOA/yDo7Bw/f9MDiiPFI4kaSFEMImJ7FCcfulF4uX2DD0tXh8py+lhcc+nY3DaheeKAGdf0oL9+ZVmT4t+Q0iLlT+hvK0TqcULe5EW90XbS6jNW+rdNzbBR54137OfFkRhXFF0D/jZENEiosrttO9/BEyZa2q5Dn2Pu//c/cGn+ZES9slMNxdnuejv9/mEIPiEZyEuu95MWphhRg9Scqv1Nmmgsg1orw5mMZMWw7hwAEZX2GA1uHZzc+uVcYRwUYPpemV0rK+owI66Ol34iBrMmTJYzDg0+OwMPS6opUAjfUVOjqTgLAkJQVxABOzTV2FuVicsRO+iP4RAD9RgfE5BN+xIZBRtgnfJJviWboZ/xRYEVHYiqHIrgqu2IqR6G0JrtiG8druC7n+YAskIIqRmB4KrtyOwarvabxv8FDzLtsOhpAtzipglYSDX9CsscrthmbIOc8Jr4TRtphjU9K6gUV0REYG2lBRJTUr3ec5G/1HC4s+C56PBzXoJ6gdpwfAQekKIjsUAB8t/BkOZtODxhfxRdUhijh5FC1T9ZkanwyaHhJzptmNZsBtOmcvhnb8cwcogjarZIllsSKIZkheGYSODRWAYEhUSDtUTBiVkRftexDbr9FkOFA4ibTx9C+Y6RcBjxgxEOzigQL1sm9Vvmql2GS6jhYXw97+mtFSvMcRwvZKSkp4eeWiXvoTFnr17sWJzN/zqDqRdQc+K3ZievhFTAwox1S0OFt6psArKgXVEsY6oSG2EV/YCSb8cVLwKYeXrEFG1EVG19B7bKgQW24EQr32hlsc27pBtuG1kzWZEVG4QQoNEBokPr6x2IUNIYFiHF2F2fBssGTqSv1dHXOT/hGn5+0TjQgPD8IprWlSTXiTCmzt37hTRTd7zsaBfoRWSMQwb1d73rh4+yqDcZ3IgeSRxJEmLB778QELz2Jfe+cEbeNFtlhjBl9xzmxybWT3eDncWYprb07PivBHXidfFZyWxuGX0i3h23vdGx+03zKSF/j4fSHDG6Eg3vJfqL1lb+H5lvfDZaCm+308LxHsp/uKdyM+flcZhYlUy3giyl7qiB2N/wFAgHpef2XZ43r7bEN80Z+OD9CA5H6+By/iZ18hUtX23J+TYHBfwswI/f1mfLu/qS3P31+sLSSHwi8xBfE4j8utWm0mLfoLPxozhC1N1aoj2tb/B0dlN/15qU+OmwSxm0uIYKWvWrEFkZCS8laHTN3SE8HVzQ7syrjdWVKBLGUAU7zQTGAOHRlzQsKNxTiOd4QgU6VuoDEx6XeQHBCDGJwSOSQswN2MDZuV1CyFh2jAYCH6FZeHPsCrai7lFe2Bd1AXbol3qf7d8n120TyeaeQDDckBQBoFF5lbMSlqJuX55Qlb4WFoiwtZWUnEWBwejIT4eHZmZYtjSsNtTX6/TsOgxro90+9JIC3oJBBWn6AcXGsykxaGhtW+ei0KnTO9JT4P25GTkRsTDLnuDtEGTbUZhbk4n3HJWwLdwFULL1yvjtVMMVOq2MDxJC28isaDptBiSGBoOSk5o4H59iAoJh1r4swiDCllRtwvuFV3q2g7wm1C/S4vU9Zhv7Q3PmTOFsMgPDERTQoLoevC3Lc++VScmS+0ghuKxTyVxkZiYOCwMYCPCYs9eLN3UDYfKA/RLJATU739KSBWmuMXCwjsFc4JyJHyD4RyemW3wz1sqXhThlRuEpCD5EN9EjzBdeBvFTlMWqDpX9SFgiJshepZzG27LOtOFre2SY/GYTBtNMsQvr0O8OBhyYhNZgtkpy2CRs1OIC4aLyH8N6rtjYScKq1qwULVpjbigpgXvXfO2GM7EBT1HDDOFODi5orJtk8lB5JHGkSQtnp49CY/88JmkmL7hpadEXJPLmb1pxOvP441ge4y0n4Y7P3pTQkVGOVvgmqcfFs+4+yaOlWwif6rvN5MW+vt8MNEFY6I9hCQgkcQ0tiQAmGGFz4meLhfecTPOvOpSjHjtefFqfHjyOFl31lWXCYnEZ0rvmEkL8nTtoec5a8v4n9tPqEgUcorfmWqWdWpqW77jL3voLgkB1cIzb3r1GZx93VV4P9VfvvM8sj3bAY+ttqPnhnYueVer9inHytufSn1Ucgj8o3LNpMUBoBm57A/4TARrfxchV2P8asaQhHFdsQ7b1xH/lawhWj0b1n1mUZPeBvXx8RlUbwszaXGMFQ7MmG6G3hcU7rSxsTEiMCJ8fbFUGSJMnbqnqclMYAwAfE6ENiNNDQCm4aT7+MbSUkm9Sc+DqshI5Pn7I9HNHZ5hRbBOXwOrzC2wzNvdEz4yCMTCYIJEhxrwi16FMuKs4hfDxs5fUj76W1kh0s4OKR4eKAwKEmKGYQNMabqlvFw8GxgyQ8OO4QVHg7AgzKTF4EBPXLBtk7ioqhJSjsRFUXgUXNKWY3b+QVLgKszN7YRb7ir4Fq1BSPl6RNbQqO0RnhXvC51WSy8SQ4gMHZlhKDwrpETPMkHPttxvP1GhDF9lKNPojWzsQnDtTriVdx8wFESQtweWCctgM8tWCLlYJyfxsCBhsYKEhWrbWtYWPo9uVQcUPmYfyj6Vro80god60Qx0Qw+LJRu7YVtmmrBgitJpSavwo1sCpnsmYnZAlhAFzom14vnAsI+w8rVSpwxf09XpXh1Boeo0rUfPRC8grEEIJgP0LNfVK+uU9fmrEBnJ6lgkMXhsEhj0wggtWwP//GXwzGgT8mJ+dBUsszrB1KrSf2nouQ+7wu3Iq2jCAvWboe6DRlxQx2M4h4mwHqvV+0Z7nzNTSG7Fol6DxqOJI0laHHXQqDWTFoJDkRZ8Xs/ZTMFtY14WgoCpYp9X37mcWVw00mJsoq98HpvsJ8+V236QGSwhmWOT/MT74dEfxosoNkM0KYTNNObcl+sYksn9mWKc79rX/G1w9rVXCEHF9y63f3jyp7L9F3Wp4vlBkkLEXNU1MYXuQ2r9xJpkM2nxB6EjK/6LNmXglq3ajaIVO5HfsQ25izuRvXATshZsREbbegOsM2NIYn8dsc6I3MVbULVkJxqW70WLau+sY63Na+2e7wBnV0/9O2ows6qZSYtjuDDelYr2HFwzfKRv5pG5CskhIVhRXIyNlZWSPlUMIzOBcUhoxIVm3NGd3jB7BfUdWpWRx8wDNIRSPT0R5uYHl4hyWKeuxNz09ZidvQ0WMuAeJO+IgUAG+L/AInc3LDM2YVbyKljFLYK1ewJcZlqKERc6fz7ilCGXoQw1elbUxcZiQWqqEDMkaChISu+Kn3u8K/gsjhZhQQw2acHBln7Gp2fwQuhmYIr037V9tRkbwxkiUxgOpIUp4oIeFwwVKQ8PR1BsBeZlbz2kfsvsgm44562FV+FaBJSuR2jlJvG+IIHBGXWSDDR494vO/ixkhkZoaNCW6QVlF1BQdq9oZ9CwFUHZ2p3wr9R0Wkxfj0C1fWYImR1SCccpUxGo+kFqs7CNtyQl6TwsDAgLEnH8fWeo+9b6TuoIUC9hOBQa5zTSSVgwTGL5pi5Yl5qqt18xPXsHpobXYgpDQXzSMC+0AI7x1fBIbxXCIKxiHaLqdN4zJBU0ooKEg0ZQaB4wfT1j+u05oxEZ6pg8Ns/BemY4Cb0vGD7CcBRqX9jHVsIqbTUsmCrV6H5+g23BDuRX1B8zxAWvl9nEtHY439oGiVnlRkbD0YSZtOh9v2bSojdpccNLT4uXxGclcfrnaEhaUP9pgno3X/3kg+p47vJsL7rrFvW+TsK1zzwioT03v/G8hAaNK4zGJ+pYp110vuxLwdUrH7tPyIxL7r1N7ZstpMULTjNx1tVX4N14716kBTWoRrwxEm9HuMg5GAZy6+gXJSMNQ1y0976ZtOg/dIQFU+P+iqaV+/BpcxneqM/BKzWZeKkyDS+UJeH5kkQ8VxyPZ4vj8GxRHJ4xY0iCdUOwrp4vTsALpYl4sSIF/uXNKKhfi4r2rWhYtlv6+77tPqOoCXN67E2GMZJsH4xiJi2Ok8IBW0JCgoh3uqgBOvUv+npgBHl4oCUrC+uUkbS1pkafhcScRtU0DI07GjY0cOhxwJCRbZWV2FBcLHoXNPTrlcFfqn64Of7+SFEGT4yDI3w9w2Ef14L5qaswJ20drNI3YlbWNljmduv0MPRkxh8hNEhKaPgFJEcscnbBMnOLeFLMTl4Nq8SlmB9YBCcre4nlp0dFmLU14hwdkebpKWEu1KzgzDON51XKmKM4Iw1YGnQ05DS3eY2sIEw9qyOBwSQtuJzCWzK7I8rzGZIOlTM637SoAfaiAhF/e18N0DjYpovqR1khuhmeeC98oQZshsczxFAnLQjDtq0RF1rWnMXqmpjaNjk4Gg7pq2CVu7OnnZpqh/sxp6ALzvkb4FW0Hn6lGxFUvhmhVZv1orNCZGj6B81dQkZQSJb/+V2Wq/XRDTsRUU9B2Z0IrN4B38rtsC2h58ehrkGtpz5LIvOJ+8Jj+nSE2dggXbV1EjHtKSmiYbGNISEGhAUzhVSrdVo/SfHj5cuV1T0MikZY0Einsb5mSzfcqkyF9/yK6Znb8KNPDqZ5xGO2fyZsI0vhmtwI39wlIppJwiBe1QHJInpDGBEVPeRDX3JioDAkMXQEBr1qesJ+WveoNrBLPC9CSlfDJ3sRXJLqMS9xASwYhmd0X7/BqWAjisrrhLhgRpFdu3ZJNpHhSFyQdOH7m+1w7tx5CI1K7mUwDAWYSYve92smLXqTFufedK2QAvRo0J6jRlqwDTD7FrUu7vroLTxn/aO0jUvvu0MydX2s2gsnDJjB63lbnZcGj62RFvd9PhbP202Tz9rkAUkLtjdml6G2yQcZQXrS4oLbbsQbIQ4iuEkdFIaGPMgU53N0Kc6lfs2kxYDA3z9n35tUO2Ea2POqAvXPzIxjA5MTkxCdUYusimWoaO9Ew7I9EjrCutfafvvaX2Hv6KwfN9EGHYxiJi2Os8IB2pIlSxAVFQV/ZUA7OzubJDAcbG1RFBeH1aWl2KyM1G5ltHAAfzSN0qEKPhMak0JeKMPSkLyggU9Dn6EUTCHZmpQk4RVlYWHIV88/3csLCWoQGmVnh2AbB3i6R8AxpBDWCYswP2Ul5qauhlXaWlgxZCNtPWaT2MjYjFmZnbAkwZG9Xf7z+6yMTWr9BsxOXaewFrNT1sAqeRXmJC7DvOhm2HilwdHGEx4zLcSTIkDVM0mKGAcHJLm5iZFcEBQkBlyDqnuSLcuys2WGnYYzQ2CErFD3phl0vGfNwDX1bI4kBpO0eCvUCde/8IQMfG569Vk1EAvEc/N/wAW33KDflgObJ2d9KwMzpkV9bMoEfNmQjhtffhqvBdj2Op4hhgNpQWj1qhEXWtacDao9L1NtuTE+XsKFgsNzYZOxvke75dDkhQ6/iuisQ0EnPIo2iuisD0VnyzvhX6FQuRUBgm3ymfCr2Aqf8q1wK9kOm+LdsKB+i8ljK+gJO4UCtR09itTvYY5fPpynTBWCjl5Eueo3yN/j4owMIWR2qN8rw714vxphQSJX6xdtVb9Yp37Xw6FohAWzZlADYfP2bgTUUYjX+FnNyNyKHz3TMN0jAXMCc2AfUwnP9FYEFi4XYU2GgZAwIHGgkRWDSVQcCIYEBs/JcCAdebEbMfXbRU+DmUfcU5thndQGywMQF14Fq1FeWSNZXjZt2iRpUPlMOPszXIgLEi0xqq1qbdHdy19Ez/oaDUcbf5q06NMXD2nQqDWTFoJ+h4e887L++Y0vi5f/GmnBMI3zR1yPN0Mdcevol4S0oGcjxTOvf+Fxycz1dXO2kBbP2fyorwONtKB2iUZaaB6RGmnBZbe89QLu+OB1PWlx7o1X43n76Xgj0E62YzskafGU1ST9sc2kxcAgpIUyYBk+UNa6BedWBeifmaCyB4bLzBhWGBccBD/V9pPyW1DUsB51HV0mvS0SMsv076skZfsMxnvWTFocx4UDtnY1MOdAiCEkHh4eMijXlPE1MIwkRg3uFyvDe315uYjRMSSABtRQMFaHCvgs+pIXNPBp6FP3obOiQrwvVuflYakyhOhqTy+GqqgolIaGimdDlo+PCF2SyIh1cBDhS4ZpBM2dKySDz1wbeNm4wt3RF66uYXB2j4Grcwjc7LzhPs8RXrPVNhYW8LW0hP/s2bJPsKpPkhMkRmIdHZHk6iqzy9nqXDQ6SaDUqDbAbAnUqliWkyMaBiRb6DFCEoBGM4VHaTjz/oihVv+DSVo8Netb3PPpaHxZlyYuo1xGQoKDI+37PZ+9gy9qU8UT48LbbtTv+3l5ogx0tO99MVxIC6IXcaHOT++aLmW0U8uEGWPonVAZEYEsX1/4RJbCOmM9Zud29Tvt76Cjh6jQiTP+hBn0LkpaDaugUjj0iMlG2tsLWVimfnPN6kVKbyhmASIho2mz8H75+6V4sdYPUh8oS/1uh0vhAIF9PEWwdnZ1I2OhKR2SXzE9oxM/eCSLfsXc4Fw4xVXDO2sBgktWgaE89HRhiIZojxiQFaZIhsMFjbww9LxgSBE9P6itEVS8Ap7pbbAlcXEAvZWwvFZUV9dg2bJl2LJlC/bs2dNLmHMoF9ZjmWqjWlvkDFbVEBHe7Is/SlqwLyU5/FF2qOqfI1TfGK8TRzTRhw4Z0Kg1kxaCQ5EWk9rz8NjUCbj5teeEoBhXEIXb331F3rHn3XydZHZh9pdb3h4l9U9yg9vzffvEzK8krIP7fpIfKXoWD036RNoMU5efcsG58j5/wXGmZJH5KCdMspN8o85Pj4xn5/8g71zqVPzn0gvxyPfjpP7u/OB1tX6qHJP7cBnPdf9XH8ixzaTFwKEnLZbtQWnzJpxb6a9/Zn8rc8V/cp3wnzyFfGecXuCC0wsJV8EZRWYMBWj1IXWj6uik4v2pfomP/P3gFZYhbb+wfi1ql+wySVo0LuuGtbWtvLMoT8Dw1D9bzKSFuehLZ2cnMjMzERISAl9lhNANmgRGXy8Md7W8TBm4q5RRy2wkTKcqoSRDzIg9WjAkLzRjj8Y0szF019eLxwLJgM2lpTK7yxh6khgkDKiDwRlszv7SGCSZUaTqg7oYFPbMVvVCYoMGLQ0vhnEYgsu4jttw27yAAPGeKFbHIDlBgVBqU5AsoWAojWJ6U9AThFocNJC3VVWJ4a95VfDaNbJCq+OhWM+DSVp8VhyL82+5AU/O+gZjk33VwCVPll//wpN40cVSBjH0ruCyp+d+h5teeabX/gfDcCItCK2+Wf8k40hYMnyCXkTrVftl22V7YltN9/KGb1gebNJWYw6FZzWRRBNG5KCDZAWzR+TtxdT0tbCI64CVbx4cpkyDl4UFwm1skOzuLkQdfwOLMjLEi4gZQrRwJ02bhemhF6nfJQlb7YXLmQIauMOhaF4Wmo5F29pdJkVJp2ft0HlYeCXpCIv4GvhkL0RI+VrE1G8TjwadZsXvujCQHvLAFLFwJCDn18JG1DXR64K6KNG1WyVcxDuzHbZpi2GRb5zedlbBXqTklaFB/ZZWrVolmiTDQd+C17Vy5Ur9+9faxlbU2Q0NhaGEP0paUFfg9EsuxGX334EbX3oat7/3qj7jg2Y8Evp+VJbpNIQkXabqx7leW85+Vtff9mST0Pp4E8fiMQy30R/bcBseu6fvlll8Lud2ZtJCcCjSguTCjeo9ed3Ix3HvZ+/g1jEviX7EK97zcMm9t+POj9+SNKSXP3w3bnj5KfGkGPHmC5IR5oZRT4onI8NK+NwZunnl4/fjJbfZePi7cbj4nluFnGC98LjUw+AxqG1xizrGiDeel/c99+X7e6TDdPlMIc5rnnlEbfs0HvzqQ1nG8BTqYoxS22ltxUxa9B8HIy3OzXQQYulF11mS4ef1AFsJ+2Fa4rcjXTE6yoyhANYF+2N6HL8RZId7Y+z1dUh8GhQIn4gsafsF9WsOSFoQQeHx+nfXYHipmkkLczFZODvHBhahDGfqYFDI01QmEsLD2RmlytBeWVKCDcoAoCeGmcTYb+xpBIame0GPBZIBdENnCAm9MGgA0hNjU2mpeGOsU8YUiQTOApNUYGpRurDTiCW5wdCNdgUSD4bgsgVqPdOvctslah+GpSxXx6GA5hp1TB6bLv40hrdWVopWwS5VZyRUeE003gyJiqFOVmgYTNKCg1iKeN396WicdfVleD/FT5a/6jUP1z3/ON4ItMdL7lay7Jl538tAzHD/g2G4kRYaDNuyFi7CZ91ZXi6eOWyfDCsqCQ0V8dYId39lBLdgftoazMncvD9zzmCSGDwWNVuYCSR9EywTl2N2ZBPet5mAWVMmClkRMn8+4l1cJBSEXk38nfC3wOdK7wq2eS3ciffH/0vU72ReT19HwoJ6QMOFsGDhtTIshCEFm7d1wbnSWMdieu5u/OiXj2kePR4W8dXwzVmE0Ip1krGDWV4kE0jH7wP0rvg/SYVKsoNeGswE0ncb7ViR1ZuN1vUHGnlB4oLnYegKSZaQsjXwzmqHTfpy1dZ+Mrpn+9z1yC8sFg9DpkLt6urSh4kMVdKCOhZ8/7It8v0bFpvWa1A41PBHSQv2ubePfQXPzv9e+kkKJDI8gJ8pisgQAXpiaETGh5kh+LQgSsQVX/acIwYqvd6YBeK9ZD+ZPWf/TtKZ2zGrBPv5z0piMK44RgxfzvLTcP1YvQ8+zg3DZ2o5j01vj08LOfseKga4FqJAPQQatWOTfGU7M2lhQFokOCuDx02eKzUiWB8M5SBxwffdcMU3rbn4siEDn1cm4tLc/aTFC0lm0sIUepEWLZt6hYecl+2E13yt8VaYk2R3+TArGOPUb5uE1ng1FqI2mBlDAKouGLr1WVGM6k9D8WiOj74OifFqjOcXlYOE3CYUNhzY04IorFmqtxvp0f9nx1Fm0sJcDlk4mFuzZg2Sk5Mllaq3MkjohWFKC4Nwd3REsTJeVirjmyTGNrpdK0P4eE6tqhn8mtEnhp8yQvuSGJzxJZFBY5AeGSQzSCzQHZ9GFkkNgqEbJDcERUU6qM8bCbVO2477kAyh9wSPxWPy2DwHZ8vp/UGSgtcghtswIyoMwesdLNKCopp0R+VglenVHuiZheGszxmXXYy7Pn5TBmRcxpcvvTI4mObAmwNwLYTEFIYraUFo7YHtg22Fz5vXxnbF6yQpRg8GeguVhYeL8GyyMrjCXDzhEl4Km9SVmJe6BnOozZK9HRYkMvSisz2Ehkn0rGdaXu6TvQOz0jb0CMouw7zQStjPcZIUvd6Wljjf7Ww84XgvPBxnII2pelW/RTFciojqvSvUb8DQu0IjLJgOWguRYx8Xp/oyGrXDpRh6WezevRvZi0yESxT+jCkRDZjqFg+rwGw4xlWJhwUJC+pXJLfvlXAQejRkMByjJx0p089mLqO+hC5Eg+SBfFbrhUhQYHaXh557A97qeLMDs+Q/l+vCS3TeEdSiYNrTj6c46I7Rk8KW/0lK8Dw8PjOUcL0QFWp7uQZ1Tb2IC3VMZpjhtkJclK6BV2Y75mZtVPeq2k6few/JqEaFqv+Ojg7xLmSYyFD1tiChEqvarfZudfP0Q5saHBoOCoca/ixp8fi0iZIVgpoGr/nbSh/Mme/n7afhoUmf4t7P31H9dZHqc6+XWf0rHr4bo5wt8GVjOm548Unc9MqzeOT7zwSv+VnLzP37qf445/qrpF++bcxLGB3thkdUv/5msAOes52CR6dMEE2Dx9S5+U64+O5b8W6itxyX3gHst5+a/S0uufsWCTW4XiOpj2PSIq1kUS/S4tYUJzwb64JRqd54JS8Yb5ZF4e2aeIypTcA79Ul4p2EYQl33aHX9b1XG4vXicJyft79eRyYGwTciC3HZDcivNZMWGg5GWpyf64I31G/unXgvIQbHl8fLb/Jr9ZsTcqs9r1/g7+0bEmLqP/fjb5bgZ8Pvsp3B52/b95+D6XE5BiNxSbLyq8bMXucYbEyoTMK4ohiT6wi5bnWNfZdzGcOpOF7tu473w+OSlP2qMUN3j+o49Dzj/fXdvr/QroXPhOPaJ4uD9XVIfB4WjoCYPCTmNR+StGB7sHfUiUcTfzbrmpm0MJcBF7rU0sU2OjpaSAwfH5+DkhiuDg4oUAMvplYlidGpDJzdylimC7ZkJxkmRvFgQTP8aCQRGklAg0kjMmgMamQGiQUSGjQOSWpoxMaBQGNM2477MPMDZ8U1coLH5jl4Lp5TO792Pdr1mbr2oQxe+2CRFk/M/FJm+Rhbe9+EsXhdDZ61dbePfVUfGqKBKdg4qOVMHF3r3gx16rXeEMOZtNCgtV+2G14X2xXbm0ZerC0o0AvPMtNISUiIhCvpMuc4INTOER5esXAILdWJziYvx1wKz1I4NmU1rChAy/8pq2CVvBJzCJIT8YthHVIGO/c4uMy2Fk+KACsr0W2JpGaL6oeo2XKqx8n4i+df8KDn7QgLtEFVVKTobzADDglAehXxmrVnyvvhb2F5URHmGxAW7OOGE2HBYuhlsbZzF+aW/GJkuE9PXYcfXWJg6Z8B++gyMfJDytb2eFjsJyxIDDC9rHNinQhyMltH6sJf4JJcL2lHE1q6hJQIKl4JZhcJKl4lpMG7X8+GZ0YrAgqXCwkSVrEBYeXr4JfXoZa3Ydx0Z9GkcE9rFtLBJblBbbMeHuo7CQnfvCXirWHhlwYKf3JZVM0W8aTwyVkk3/sSFxrJEV23VfZ1z2jHrHxjYc55eVuRkZOPRtUvkoxnNpGh6G3Ba6lVfZn2HrVzcEZF64ZeA8KhiD9LWtz4ytMSDnD/xPekv6S2wKkXnCszstQ9uPLReyV705lXXirE8t2fvi1aCNyW4QNPTP9S39dSRJmCydyXAsnvxHpKhonHpk/Euwk+MjAf5WKBO95/Xb0XPOVc9NK46okH9cdgyAr769cD7STlprZccDySFuraqxZsQ1Z5B86o8N5/r5XuOKEPTlTLjwn03I+hgORz8QHwDs9AbFYd8mpXmUmLHhyKtODYiB5R8tuvTJRx0LcMzdLGYYfAVw3pQlaS2ORvldnc3kvylc/ftuXIb5EkJT2u6EXFtLkcxwmoW8KwMXUc6pu8p66D13L3x2/jg7RAo3MNJtjnMVTJ1DqCz4GeZH2Xk4xgCNRztlON1k2sTRGB+Hs/f1f2lWeg7p/eZ3y2fbfvL7QxqvRrqk98qjRUX4fEhPAIBMTk94u0IKIS92uD8Z32Z4qZtDCXP1044GtSRjEFPTUS40BZSQg7GxskKSOmPTsba+g1UFkpISV7lRFBbwwSGaYMpWMVGkmgGYKaMaiBxpRAGVg0sgiSDgeCtg3BfQyJCUI7h2asaTB1bcMJvJ/BIi34/SUPKxEC47aG6/jyk9RrBssIvhw5Y/dOnKfROkMcC6QFYdhm2a54fSQCeK2GwrMkCpZkZuoz5zA7DXUlKARLL4hEis46OopQLHUnKDxLEoLis4bgcq4nOUHig2K1KWp/6rdQxFbTbSkJC8GJnicKaUHc4n0toiPs0ZqSJGEhW9TzJLlHQpC/D2k36neztKAA1j2EBT0tIiMjxfgfTqWvl0Vym7GXBTU/fvTOxAyvZFhHFAlxQLKBxj6Nfs2bQfNwIG6662H5/uioMfJ9xD2PwSO9BW6pTXj2zU8xNyQfX8zxwfNjPhdxzOdGfyakxWT7MNhGluDNz6fJ8b+1CYJzYi2+mucvx3n69Y/k//1PvyqhJE+8PFY8MJ554xMRA/3we1v9Ncz0TpH0q0++9oF+GaERF7xm8bho3S0EBwkTx0yGiRiTNv7pdSJsyWwimijnUPO2oBcIQzLZHufPt0Z6Qb3RYHAo4s+SFgwPec76B1zz9EPils9ZxtMvu0ji3xlfzVhr9qM3vvwMHp/xpXhCUD+By0hajLTXZY8g6BHx8ORxsh/356whwxYe+fFznHvD1WJAUUfhFa85uOjOm/GoWs73A3UOpK9W7wGSIzQcSFqI0dFzbIFafzyRFqzb1tW/ipFCAb7zK/brFRxveD4hEN7hmYjLrjd7Whig36SFGkfx9yi/fTUe4rio12/rAHjBcTpueWsUxiZ4i0cUjerrRz0pGiccz9Frg9+fnfc9xpfG4rSLzhOD/5m538n2FFTn75ZEwPN2U+WYFHjl71sz0vmf23zdlCX9Ba+P27Gf4Tr+/0qN33g+0W5pz5N7oYeCdp3UxNGFSGXpl51y/jm6z+rYvF891PdP8yNw3fOPybHYJ/Gc4l2hjkPdl1vfflEIG67Tae7k4xnVV94z7h2ZLCMue+guuX72r/eOf0cdW41te849IPD4Wr+mzvdUWVivtj9Q0qKodrne/mPmyj9TzKSFuQx6IYnRooxHurWSxKCoJ0kMxoabIjEIinvmRkeL4bBWDSY3V1ZiJ2dDlTFxPIaVaAahIWhc/RH0PY6p8x0L4L0OGmlxGHGskBYatHbFa9PIC9aDCM/W1Yn3BXUvSGBQp4UaLYsoOpuUhIb4eFSr332FJjqr+ovCwEAhIahBoUEEZdVyrqdmBokP7kcNjZbERNF44bPicUsTQ/WEhYZLvS9ARJQt2tJTRH9jW1WVhEfxOveo62zKzNSLbpJsDVfHp+E/3AoNbs3LYtO2nbAuNTbYp8YswFT3OMwJzoFzUh38C5aKtoQmuimExdLeGhaPvPC2eDw88cp7avn/8NRrH8p6EhP3PDYKn05zwvywAiEh6JnxwXfzhQyZZB8K6/BCPD9mPOIad8o6l6R6TJztLeTE069/KKEgT6n/PC63S2rfh1c/mozJdqGY5Zeuv4bvHSPUfl64/aFnel0boREXEn6i7oEeIOGVG4XkmJO73egZzMvZhIzMbPEYpLcFdSOGkrcF6496Utr7MSA0xmggOFTxR0kLGhM3vfoMHvnhMxn8X3r/naIXRMLgwttvwvsputnT8WVxMmhn6soxMR5CEtMA+qYtB7e98woen/6F9Ovsa5kJglkmuJ6Deg7in7T4SjQtXva0wkPffiyijNSp4DbXPPOwei8k4YpH7xUjgjoWl9x7m5yPqTSvH/WEzujR+nPDwf1xQlq0rf0djSv2oXLBNtxSHaWMUn+cXeGHs8p9cGaZN84s9cYZpV7HJM4UeOOsMh+8nRKFkIRiJBe0oahhnTLcTKd9PN5wuEkLhnfxN8vQCIaYcBknjC6++xbx1uBvlZlnNIOdRMXYBB9ZTmKSoSkMnzjn2iv0xyQZSdKCngpPzZ4k/RK9uKi/8YLTTNFqoYcGhV9f9pqDV9XykfbsN0IknI2ZathXvepnLcfjud+OcJV92deRvOByEij8z5AYhiBroH4E+zyGpzFr0lOW3+A91d89qfov9k0MXbtu5BN4I8heUvTy2XH8yvskgUPPCh5Xy4pDXHjbjTK+1L4PCIb92iCQFm1rfsH8niwiJOKpmfhHi5m0MJfDXthAW1tbJTacmUn8lRHi7u4Oe3t7k9lJNAR5eqJSGTYU+GSqVYaVdKlBJmdFj2d9DDNMw0xaHF30JS/oxUDPH3pfMESJIRn0wGDmnE51T9ReWVtUJKlTV+TmShYSTWyWYrKa2Cz/8zuXcz23o7AsPTjWUFS2uBibenRcmM0kO83XiLQgTvc6Db6Rs9GSmij7bauowGaFwpgYzJ49G1ZWVkKs0lj8My/Vo1noKUCPAXoOlHR0GRnr0/P24Ef3JFj4psEuuhzeWQslLIPeEdSaoKZEX8KCuOHOBxFZsxlvjp+qtvsFr33yvRAc1K9450tLXehG6Rp8Os1Rwj/enjgD7qnNmOIaI94c3zlGiNgnw1AYVjLRykfCUF77+Dvd/0++k+OO/XYOYhp24P1J8zAvJE+0NrRrGP3FTHWeTjz71jh9yIghNOKC+hoU/2RYCq/JNXuZSW+LkORC8bZYsmSJeDUwy4rmbXE0C89fVVWlfw86OLqgvmOn0UBwqOKPkhZjE31x1RMPiOcEvSs+VgbJlY/cK4N3hnUwLOT6F54Q44JicfdOGCuZRi6973ZcobYT0uHph3Hza8+LIcC+lrOUI94cKdkhaOzQcCFpcf/E9yVzBc/D7AW3v/MK7v7kLbwVrvPieMl9tqTjvPnV58TA4uB9xJuj5Pqog6Hvzw0H98cBacHr5XWzfuuW7oZX80LY1NRhdnEppuXm4YeMTExW/fWklGRMSh5kJPWBqW0OMyanKOMzNQ0/ZmXDI6cCqcULUFC3BlULt6Fx+V4x1tn+zaTF4SMtXvWZh8sfulsMePGC5dhNgd5YDAObUJWI+yboQssIkhYve1iJZ8bVTz4gBAJJCOrkaNuQtHjVdz5edJst3rJcdt/E98Tzikb7GVdcLF4XoyPd5Dxf1Kbh5tefl+3OuuoyEQLmfZx6/jlCppB4OPu6K2VfZsphFjpuq5EW7M/Yv2h4zmaKLNfAY98zbgxe9bMRXR2SFmdefZmcg8uufe4x2e6JGV/KNRruq4HeIy956sTiBwzDfm0QSAvCLzhK/05j2vE/Wsykhbkc8cJB2bp161CoDAe6YGspVl1dXWFra3tAIsNGLY/290eNeilS5HMdxSl7PDL2KWNVCy0xkxnHJ/pNWsR47B8sC2mhXpg9L74jAbLwdAGkyBFfbscKaWEIjbzQExgKJDBYP9RWoRcGPR3oicH60kRn6QFB4VmGllB7QgO/cznX9xWU1fRbutRnEiKx6Y4mSQvin57/gEPYd6hLiUWberaRXl6YMWMGLC0tZQaAaU2HW0iIVughQE8Begzs3LkLntX7jAz1qbGLMM09XsI5XJMbEVi0AtH1W0VfgsY+vR/6EhYkFR576V3xxDBcbgjur/+80DhbCEFShMfn56T2vUIw9N2G4P4fTLZGRPUmvD7uB/1yXpepTCSG4DZamAizn1Bnw79gGazydho9C4eMpcjKykKzao/MJNLd3S3eNUc7RIThKiTP+M6bb22DrJIWk4PAoYo/SlqwH5Y+0tQgug8YAvKk5TcyY8pZSpIJprY77FDXe7yRFhpx0bb2NzSt+Al1S7tRvXA7ytu2oLR5I4obN6Cocf3goIFQY0WinljbA90yrjO532FCsWCDGOMV7VtVG98pxnkL63Pt78c9YUEcbtKC4yfqT5CoJHlBbQoup/YYvbTo8UC9Gm17khZXPnqf6OLwvFxGj4hrn3tUvw1JCxIAVz6hCzHhskvvvV1ChD9IDcANLzwpIcHvxnv1IjsIhplpnhQX3HqDTESRxLj22UdkX2pOPPj1R7Je72mh+i0SLho+p/5Ez/EIEqokTrXvJC0YDsfP37Tl4j8XnS+fD0Za3PrOy5I22NS6Q8KwXxsk0iItv05vy2VnZ/e87QZezKSFuQyJwsEiZ7zS0tLENTsoKEiylGhhJQciMujSHeDhgaK4OFH9F40MZeBsUwbNnqam41bs83hEf0gLxgbSlZCzeHT/o+sx3fL40jxSIGHBdKqMheRM37FIWmjQvC80EoMEhkZi8H40IoPeGEJmaMKzJsDlJgVlFfif60hmeKXMNElYaDjR8wRMDxkPK6spmDx5MqZMmSJ9DF+kQzWLRH+KFhpCoeR1W3bAom/mjMKf8aNPFix8U3VeFtkLJYsHQyn0YSF9CAvCLbURj788FrEN243WHS58OccH42e6YXZAlsn1BwPvQctSQg8SCoA6567t/SwUZuXtQlxCkng1rFixQlTNGZZxNENEeP6wsDD9+4057k0NAIcyjgRp8Ul+hISCUN/i8Wlf4EUXC5PbHXYcZ6SFBo28YF0L1L20r/tdiIzBROuaX6Ut8XnVruhC04p9Oqz8CS2rfpH1hKl9Dzd4v7xv7Rkc72SFBj6Lw0laMKUuvRk40cRU8/SikOUp/rjkvttxxwdv9Nr+4rtukfCJp6wmC5HA8C56XZDw0LZheuV7xo3GZQ/eJUQFr4WeXe+q6+RnjchgKNo16hjafgSzEk2sTZXPF9x6o5CorwXYiKcDCRaGrIjWhbre0y48V66b2T7oQaGBnheGx7zl7VH6UBNCI1l4PBIkZ15xqSxnKByzIGnbGeKGF59S17FfQH5AMOzXBom0qF20TdlwOs0wLy+vP+zRaCYtzGXIFgrJUeAzPj4eoaGhCAgIgKenp2QqORiRQbg5OiI9PBwLcnOxuk94iaaTYSYzji0cirQ4P91e4pjfUgNdxjcz/z5fNvR4YPpSel0cCXzVlCVMOwfrnxZGmSQtfI4R0qIv+pIYhkSGIfTis33QdzvD/UlkMPzEKvFLk2RFX9wz8x58/M3HEhqSn58vIRWarsFwJC54zSRd2G+WdOwyMtKnp2/Ra1lQVyKoaAWYIpReEgcKCxmO4D1oYSL0Eomu7YRfAQU5fzZ6Jv6x2eLxt0i1zc2bNx/VEBG2t8rKSv07zMHZVQ38u0wOAIcyaLQcbtJiyMBwcH8ckRaHGxohwmfUqgzgxlV74VWfjqplO4Sw4POjICjXmwmDoYXDTVpQw4HhHR9lhQrZQB0Kbd3Fd43AY9O+0H/n8SU8xHOOOkceLr3vDiEJmHWDXhEkMIgbXnpKxDrfS9URH7y2p60mCyHArBz0zuXx6P1w9VMP6T0j+P/cm66VbCX8ftkDd0oKfIph0iODy6lJ8Wl+pGjxnHHZRfhEfdauzxQ4kca0zc9a/yjPhplVmGaZYXAfZgZJ6mdmr+O6B776QDxMNE8PDSRZuD3Pabi83zgMpAXh5OKpf7/90dSnZtLCXIZN4aBu69atkjKHRAZnpAIDAyVbiYuLy0FDSwhba2vE9ISXMP0qBT/plbFVGTrdjY16rQwhM/oYW2YMfRyKtDg3wx7PeM3GqHBHvJHig3fywvBeaQw+qIzHh9WJRw5VCfigIg5ji6MwJjvYiLQ44RgmLUzBkMgYKLT9NdJip/otfxU71iRJYQq3zL4FYWlhWLd+nYgxakbrUEt/eajCa6WhTS0OpvAMa9hjZKBPjWrBTK9k2EQWwyuzTadl0XxwL4vhCt4L74neFnFNOxFathbz841DRJySGpCZmWkyRORIlx07dsg7jO8qhoXklLWZHPgNdfSHtBCPN2V4fJwTigkViXqPt8kM1RtmmNSeKwYENZJuLws0ul8zaTFw8LnoCItf0bhyL4IbinCyz6kIri1GzaIdqF+6W8RAud78HIcWDjdpwX3u/PAN3DL6RdG7MVz3stfcXqQACYq7PnlbwD6GJMOD33yMz0riJJTkZY85eCvMSb8NJ5XejfPCo2od92d2kZteexZvqWumh4S2HdPhc/1IhxnynZlI+P0Ji6/luPzMsI/bxryMB7/+WLxrGc7GbR/89mNZfyAwBEU7DwkTEiD8PDrSFfdNHCtaFyQTuE7bjqSM4TGo00MtDcNlA8JhIi0iE7L19hhTjv+RYiYtzGXYF7pDc6YsXRl4FNFjxhI/Pz+92KeWevVAZIaTnR0SgoJQl5YmWhkkMzYxfl4Zv7vVD+tXZSxqwp9mMmPo4lCkxUmFzrg8yQ5Xpjvhmmw3XFfghRuKfXFjiR9uLPU/cuD5FHjua/M9ja5TSAtLy+OGtPiz6EVaVFdjTOQLJgkK4m+uf8PJdifjZKeT8R+v/+BUNRB+Pel1VC6sFC0BeinQ8GeYxdEwXP9oIWmh6VlwBsOp4icjA32KXy5m+WWIuKVfXofoPSS27RWPhGPFy0KDkBbqnqhtkdC6W/QxnAs2GT2T+anLkJiYiJqaGqxatUoIH9b/kSatSJTxOrR3UkBYnMlB33DAoUkLBxlkM7SDM4eflcapgXEqvlLGCzOADDfQ6PqiPh3jKxJwW8l+A02DmbQYGPhMFqzXERYNK/YipqkW5wVcJP33N5nzRVOior0TdR3d4nXBbCZmb4uhg8NNWgwmRjpOF69XU+uGK0iuPGU1yeS6fuMwkRY5Ze36d1xOTk7P229gxUxamMsxWTjoXL16NYqKivRin1p4CXUyKLp3MK8MwsXBAUlqv4aMDJ3wZw+ZsZ1kRlOTnswwh5kcffD5H4q0GC4gaeE3ezYyfXzMpEU/oJEW1LrYUVWFZ0IfMCIrNJxhdQaefOdJvPTjSxgXMg5jY8diZOxITMmfgk2bNqGrq0t0BTTSYrh4W/A6NT2LTVu2wrKPnsWMgp8xxSNJQkNckxvU72OlZNegsCX1H/4oYUEvjajaTpPrjjZIxDDshSlUo+u2watoXa9nQszK7pS88eXl5Vi6dOlR07Xo6OjQv3ds7R1Rs3CryUHfcMChSIuzMx3wovtsvB7qiLFMY1oQgfHl8ZhQk4yJdanDDhNqUjC+IhGfFEXhlkJfo/t9XEiLKDNp0Q/oCIv/6TwsVuxDYnMLrg29Rd9/PxX1KjLLO1BYt0aEMOlxYfa2GFo4NGnhKCEUn+SGYULlfi8rIS6UoWzGUICBB5nq354qDe3Vp/1R0qKqfbP+PUftwj9SzKSFuRw3hYPQbdu2iU5GSkqKeGUYkhnUyugPmeGmtksJDUVjRoaEmaxRRuUGZjuorsYuZVz+pAxnM5lxZKEZrhppEVKS2quTHU4gaRGo2l+Ov7+k+DSTFgeHnrRQv2tmFrkj8Eb9IPcEjxP0n4kT3U/Ex19+LKFlFP0tLS1Fi2ozFGKkpsFwJS14rZytpy7HwtVbjYzzGdk7Mc0jAfPDCuGR3orQ8nUiUpnKjB49oSGZy3Q6EJrnhd7415Yv/k22NSQF7GPKMXbSXJ0mhkZ8qP/8zn20bCH6fXqOxZSlPBYJj/3pS3UCmqbOw+NlLOV1qv25Xn3mNlwu5+Z5es6r21bnOcJtUpj+tHEngkrXGKc+Vd9DwsL1uhZMfUrih/V/pOqeIUkUnea7he+dxMxykwO+4YJDkRb/yXXE/YFz8EiUPZ5M9cSzOf54oSgEo0rD8WJ5xLADr/uF4jA8lxeIKwqNPefoaWFv9rQ4JDTCgiKX9KDIaF2Me6Oe6NV/X+J3FeKy65FRulgyebCNmZ/l0MJBSYscZ7wWZI/RMe6iKzauOAafVyfhC2pLNGXiq5YsM4YCmrPwZWOGaL59VhaHxwt7h71NCA9HQEzegEmLtjW/YK6yr/iu4+TxH3nHmkkLcznuC384HKw2KMMwOTlZGECGmJDM8PDwgKOj4yFDTAg7GxtE+vmhLCEBSwsKsFoZRBQA3awMqR11ddjb3CxigjSyzGTG4MKQtGAazOFMWpxY6Y4I1ZYKg4LQkZkpKT/3mkmLA4J1z9+VRlpc5nehDHBPcj4JJzme1GvQS3zu9zliY2PFPZH6ODRW165dK4QmjX7D8JDhRFpQi4HhLfXLt/U2zBWmp6zDDNGzKIVX1kKEV21EQks30hb/qicF3FIb4ZHRCpekOrglNwhBQNLAPa0FTom18Mpsh31MhaQr5fLgktV4eORbePrNT0TYM7FtjyynwKdTQo06XhOc1X70xtDIBy7zzGiXczBM5f3J8xFYsFzWBxYtl+09M9rgFF8tniBcHte4E47qu1fWAvjkLIJ1RLF8p04FPzMTSlzjDnUPv4kXiY1aFlG9WU9a8PzU7ggtX49ZhcZpYP3CoqUttKnfF71t2AaOlBgn21dJSYn+HeLi5o12ZbSZGvANFxyKtDjeoIWHRJhJiwPCkLDgs8lvX4WRiWOM+u4TPU+Eb0I2EnObkFezEpULtkk2EYaImJ/l0IARaVHpr/8tnJnngkfCbfF4rBOeTvHA89n+GFUQghdLwvBSSTheLoswYwjgpdIIqZNRRaEYmReI2/K8evVpJC38owdOWhBOLh769x0nCAZazKSFuZjLAQoHrRs3bpSUeNHR0UJkUPjT399fT2Ywi8mhyAyuY1rW3JgYLM7PlzATemZsUsfdZiACqnlmmAmNgUMjLZj6cnd9PWJKM3B2hRfOLPfEGaXu+E+JG04rdsWpRJHL0EOxi1zfaSWuOFNda6KrKyoiIrBcGVPbKisl3efvZtLCJAxJi03qt3Wq98n4t8u/8dDkh3DdtOuMBr5P+D2BpKQkFBcXi5fFypUre3lZ0PgfbkKcGmlBIcmKJduNDPPpSSth4aNLdeqTuxiRNZuR1LZHDH2SCe5pzbjo8mswbpoTXv/0B5x6+tlIXrBPDP8L1fLnx4zHZPswnH72eZgdkClkwsTZXjjngktw1U134Lm3P0NQySrx3rjrkefx2EvvCiFxzoWXConA7Sn8eda5F6r9vPHS+1/jlP+cqbaZJ+tjGrbjjgefxqMvvYMv5/jihjsewNhvrIR08C9YhtvVuhH3PCapV2+++xF1rddiVkAGTj/rPFxwyZXwVffEUJcnXnkPZ513ERzjKvVECYkZEjThlRthVbjX6Nl4hsQhKytL2sKGDRuE+DlSpAXDUfgO4XuC4pv5lYtNDvSGCzTjkwNYDmTNpIU7ngz3gJNvHCLTqpBTtcJMWvTBfsLid3kuJWrhRxnfG/XbGr4PdUCUepaZZR0oa9ksxjGNZB6j77HNOPIwJi16PC0q3cw4RvB5WNh+0qJ+YKRFQGis3jbiZNFAi5m0MBdzGWDhYJaD2+rqasTFxQmZERQUJJ4ZdPPVMploZMbBCA0Xe3skqv1rU1P1nhkkNOidoQmB9iI0TBhtZugMVxr09EagV0JTRZEyUGIwJSMEXyX44NNIF7wfbI93Aq0x2n8+RvvNw9sK/H80oV3DmID5eDfQFh+qAdnnUW7IDwxEU2Ii1hQWirgkDXLNS8fU/R/P4DOhvsz6sjLkx0Tin+7/xAMWD+DTTz/Fiz++aDTovcj7IqSkpqBMbb9AtRlmjdAyh9DwP5peFv+n/rSifeb/vssNv7PweukhQuKlcJExaTEtYRksfdPgEFsJv3yKcHaKx4SEViz7Pzz4/Bt49ePJYugTt9z3hJAW/PzEK+8joblLQi5ITjz39jj9dnc/NhKjv7DQf//BKQoXXna1LnxD4Y3PpuCWex+TdeNmuOLy626Rz/Si+MtfTpAsJvz+1Tw/XHr1TfrjkAD5+z/+ibDK9fL9R5cYnHDiifDKapfQlu8cwmX5u99Y4aa7HpaQE37/zj4M7383X38cIS3UusTWPSLGObdwt9GzcQ9NFBFnhg2yLZC0OBIZREiMJSQk6N8FgcNYfFNDX9LCqb7ZyIj/09AGzxUGMBhQm9znKOKZKG+4BiQhJrMWebWrzCENBtDaS/s6HWFRuWQbfsh3NOqzDfGq30cISShGSlG7hIhQkJPpT3mc4/15DgUYkhZlrZtxboU//lLuquCCv5QplGpwNmPYQVd3fUmLgfRpsamF+ncevdsHWsykhbmYyyAWGg3tyrhkGr3Q0FAhM+id4evrK9lMHBwc+hVqQrhTOyMkBPVqQK0RGhsrK4XQ0MRAf+Hsu5nQ0JMW9Eaggb9DGfrrioqwKC0NtTExKAoORpaPD1JVHSS7uSGJcHUVj4ajCbkOhRR1XWmensjx80Mp9VLi47E0K0v0LLrr6yXshZ4kZtKiN9jm9zQ2ilCum709vp35Le6efzcmT56MmTNnIiAyAP/0/qfRwDc0KVTEFxkaQm8q/m6ZecOQsDjSpMV///dfNG9txq//+xWdP3VieddybNq7CU1bm2T5tp+2YevPW9G4tREtW1vw+//93rPnftKC2S8KFprwtEhYill+6RJW4V+wFNF1W0WgUiMtLrriWkyyC9Ub+xro6cCwEN+cxRJy8exbn0pIiLa+L2nx8off4q5Hn0dQ8SrB+Jmu4onBdROtvIW0IGERqY71r3+fAp/sRbJu5JjP8cTL7+mPQ/znzLOFaOHnKa4xOPnU03utJ0JKV+PfJ58Kz4xWuQ9em3/+Mv16XejLb+JVQu8SU6SFW0gSUlNTJQXbkUx7ylkmra+3tXNAzaJtJgd5wwmaEUpxRBqTLg2tOKHKQ9I6Cyr/BCrcdCgnXHFCGeGs4KL7zGVcx21M7X+UMDLWH97hmUjIbRrwrOSxDN47wefA51GzdBfsSiNxgmdvHaK+uN3rQWUw5crzLKhbowwms+fKUIKQFmv3kxaXlgfib8rQ/VuRE/5a4Ii/5tnjr7mEHf6aQ9iaMeSh6on1xXrLc8Bnaoy6n7QY2G8wu7RN/97Lzs7ueRv2v5hJC3MxlyNQ6G7MbCac3aVaPQVA+3pn2NnZ6UVAD0VoeDk7IzUsTDKbrCktxToSGgw56cluskcZ7px9Pp4IDd6nhIgoA3+vMkCob7BeGbMrcnKwOD0d7SkpaE1KQotCc2LikAKvqS05Ge3KeOpQdboqL09CHXbW1AgJo+lZmEmL/aDnCdt7dmQkZs+eDUtLS0yzmCbu9j4+PmhtbRVDdEToCKOB73fR34mWAD0t6DVFQ/VopLo0LD//92dcFnYZ6jvrMbN2Jj4v/RxzGubg/ODzcW/CvUhZlYK5DXNxXdR1uD/xfuz6dVfPnuhFWpQu6jQyzKcnr5J0p9SKCChctp+06Mkccua5F+BH55hehADhn9eB8y+5Eq98NAmO8VV47MV3D0pakNS4/rb78b1TpB5T3eJkHYmKM84+X7wxvprnj0dHjdbv9+Sr7+PZNz/VfyfOOv8i2Z+fSVqce+FlvdZrYCjKyHc+R0z9Ntzx8LO91vHeSMwkte2VFK9WRcbhIW6B0UJacNbnSJEWPD6FoLX+PDatyOQAb7iBA1bDmdbA5g7cUBmBa8tDcFVxAC4v8MWled64JNdTwQOX5PQT2R64ONsdF2e546JMN1yU7oJrYubiynhrXJTmIt+5nOsvUduZPMaRhLq/S/O81P364IPEaPEMSCteiJKmDfqMF8e7Z4C+rdDAXbEXvtU5+Kf3v4366r442/M8eIamIzazDrlVK1C1cLsId7abdS2GBLTff+Pyvaho68TIsmScUeKF/xS647R8F5ya64RTsh3NGI7IccSpec54OyYEAdF5euKwmqQFf4P9IC0qWjfq33vM7DjQYiYthkHRZv04iOJMIOOu6cK6Y8cObN26VUQkKSBGcNbwYNC227JliwjP0S2agzSKj/G4Wiyvds6jNYA/XgqfL+OaKQLHuGpmNTDUzvDy8tKHm/SX0PBR22eEh6MpMxNrNQ+NHkKDgqAaoSFkxjFEaPBeNG8LeiYw4waN/k517xuVgbq+qAjrCguxtqBgyGGdwnp1bRuKi7FJ1Rl1LJgFZR/rShnfNNDNpIUOfAY7VTtelJcHW2trWFlZCUhW0KOJZAX7tnXr1mHJkiX4OPVjo4HvsyHPokA9c27LGW96Whxt0oLFvd0dYwvG4qbom7Bk1xIhLd7Ke0u8K7p+7cLLWS/Do80DW/Zt6dlDVwxJi6olm40M8xlpGww8LQxIix5Pi1sffAqjJ87UZ92gBkTqwl/w5mdTcNsDT8kyei08OmoMHnr+TT0pcO+TL+L1cT/ov3820xXX33YfUhb+rN9HE9RMVue769GRIp4ZUrZGBDK5Ddd9/IM9blfn0bKNxDfvwkmnnAbXpHr5/qNLlOhj8HNf2EWX4cxzL8SE2Z742jqg1zoeX/O0iKrZgllFPxk9Gw//0CPuacH0qlp/befgrAZ8e00O8IYb9huiv4shSYMyv3Y1kgtaEZZcBp/wTLj4J4gwpa1HBGzcw3Vw6/l/AFi7hWG+SyjmOQdjrr0/nL63QvYzoxA4fjJm2/nDyjFA1nEbbmvqGIcVvP6ee7BVsPeKgrNfPLxCMxCSUKIG943Iq14paTppzGkaDMerka21Exo5nKGNaarBWf7nGfXTB4JtUAQiUyuRVbEU5cowlme61qxrMRTAuiWBRIHUqgXbMKmmzGTYlBnDFyMTg+AbmYN41a/l161G9aIdOuKwH6RF4/I9+ncfbZyBFjNpMYSKRhJw8MmBE4kFEg2cCeQAnIPrhWrATrdmZrngLL2rq6vM0B/KkO0LGsEUk+SMf3x8vLjp0AuAg/g1a9bI+TiA08gOCtWRJGHct5YO7mgO7o+HwkEzjS8KxDHmmuEmfQkNpg1imlaNzDhYO+A6Pzc3ZEZEoDUrC2tVfWuExmYDQuO3njCE4Uho8JrpbUHigsb+T83NQl7sVvfWRdTWYtcQBa+NmU94rfQU+Vld+29mwkIP3j/bJ9tsWE+KSK1d01uJGSBobDLMg6QuyUD2Y/5UL+8z6L3I5yJk52SLobpq1Srp20jaHm3SYu/ve3FO0Dn4oPAD+a55WtCzonZLLQrXFeKu+LswqWISfv79Z9mGRSMtSL40L99oZJhPz97RW9Oirremxbe2wbj65rsk64drSoOIbgaXrsbnlu644vpb4JrcCO+sBbj+9vtx2wNPCulBUuDlD76RcBCGkJBoYEYPimQyUwkzhbgm12O6R6Js65e3BFdcdwvGz3TDhFkesPTLEAFNrvPPX4rLrr1ZPEF4rC/n+orgppAejTvw3qS5OP2sc2Ud9Sk0UkLD1TfdiStuuE1/XRoMNS3CqzdjZuGvvZ9Nwc/w9g04opoWbJ/sw6X9qrabnFttcnA3XCFGixq80uWfXgXlbVtRoAa26aWLkZTfjLisesRk1CIqvfrASNMhMrVKjNPwlHIx/sOCUxE32xkLRtyGZVdcgbjpNvAOy4RfVC6C44sQnlQm21P00uRxjxB4f/QESMxrQlrJIuRWr0RZ6xYJmWmhG/Vx7hWgkRYkGtLaF+LasBH4h/e/cJbvuTjF+zSj/rovJgZYIjy5XFKflrZsRv2yPXrvFVPnM+PIQSMtOPNetXAHJteWmzR8zRi+eD4hEN7hWZJ+OK9mldRzfz0tmB1LG7sxZH6gxUxaHMXCwTE9Gzg7ppETJCbopkoiwd7eXl+5/cd+49UQXL4fpvY7ODiLyYFWbm6uECe8Tl4vr5vkihYTzoGemdA4/IXPmc+dRldaWpoRoeHp6QknJ6d+Exrz1Dp/1YFkR0WhXRl/QmjQQ4GERtX+lK3DgdDgtdHI18gLhlaQwCDogTGUoV0nr5lkBe/heCcs2M7Y9ihQSw8irc2yPZO0Y4pikg78TZB0YJ9KA57GJ73Qmpc0458+xroWsWmxIqa7bNky2c6QkD2ahd4UoUtC5TPDQcbkj0HLthZs/3k72re3o35rPU4POB2rd6+WbVh47zS02Q+vWL0OloU/KwP9F52RLvgFFn4ZsI8pF6Kgb/YQGvjvfTtXSInrbrsPL77/lSyjsX/P46Nk2fNjPpdMH8zsoYVtMOvIDXc8iNvufxLWEUWyzC2lETfe9ZDsc/tDTwuRkbXs/zA/rFCye9yk1hHXjLgLV990h97bwi6qFDfyWPc9iTsffk6ukctn+2fixjsflPMy/INECJcbYuw3c3qFrWgQ0kKyh+xGQOXW3oSFgmXWFvj5+R3R7CE8j9aGHZ3d1SDuV5ODu+EKQ4OUs+g01JmakqER+bVrxIDPqVqOnMplJpGtkFWhUL4UmWVLkK6M/pT8FqSFpqPki++FrNCQMNcVwXFFQm4k5DQitXABMtQ+nIE3dewjBnV/vE96mVAssqK9E7VLumQ2kl4W/RncH8sQw5bE1ppf8HH2D7g57G48EjkS3yTMx10Bjxr11f9xOxP/8PiX/vsLfu8gNKm0J+Rmo16M83h/rkMBWt3yt88Z+L6kxcmFzvhPriP+k+eE0/OdcUaBC84oJFzNGHJQ9aLq51T137AOn4vzh1dYhhCzQlqoeu4vaUHMmzdf3n+0cQdazKTFESwcDHNQzIElQzQ4q0PRRsPYVmPojE2GBtjY2KpKdlQDdTe4uXkpw9QXXl5+8Pb2N0AAfHyIwB7ovnP5fui25b48hru7N1xdPdRxXeHg4ARb277aCgcnOiguGRsbK6lBOWupeWjwHjnbqeW9N5MZR6bQcOPzr6+vF4+cvoQGPWxIaPQnXSsxX7WFQIpERkfvJzRMeGgMJQ0NjVihwa+BBMBwgOE1a/dh6h6PdbAN7VMGHttZnmp7hm2SZBw9zZqbm3tava5/NSQu6DlBQpjeFjeF39RrEEzMjZ8r3mUU42RfpfVTh8tY7W+ZXDkZmWsy5XPg4kDxrCCSVybj9ZzX8WjKo3gm7Rn8/r/9Hm+8Z5LGvF96ytkVd2F63j5Mz/8JMwp+wQwSGMElsIksEY+J8MoNYsjToNdIi8MJenT8/Z//krATbVl41Ub845//1mf++KNIbNsjhMXswKxey0mGMNyEYSjxzV3wKNthRFpYJS3Wk/EM0aNH4eFsB6wjesixDc+dOw+Zxc0mB3XDGRy0aoYLDXQaL3Tfr1WGJY0YuowTle1bTYJx8OWtW1DavAnFDetRULoYRSGpaH/0yV6EBRFn7YWwxDIk5DRJCkzGV5c2b5T9TR37SIL3yPslWUF9Dz6H1h7CgqTO8Wxca+2DpAWfDUM8SPSEZpXiZK9T+/TVJ+B1609wp9MjONlTt26E7z3iaZFavEBIIT5js7jp0IBWtwciLe7zt8Iopxl4ycMKr/pZ481gB7wV7oy3I10xOsoNo6PNOOpQ9cD6YL28GeKAp0Jte9Xhc/EBEvr2R0kLO3sneQfSzhzoe9ZMWhzmog0oqR3BWZzFixcjWg3ATRmKXDZ/vrUQByQlvLz8QeLB15cGZzji4zOQl1eFmprF6jhb1GD8Z3XMX/8UeIylSxmCsAbV1YtQWFiHxMRsZeRGws8vWJ1bR36Q5CDB4eLiDnt7B2HK+kNoUBCPs1gkZ2g88BnQQ4CzWUNhVvN4K3zmJJVqampUPSf2IjQ440hCw9HRsd+EBj00tJCTZlXPa3oIDc6KU0NDn7b1KBMamvE/XGDqHo4XsH381ENWFMfH92pvJCtIvNG7iJ4FfYuhEc/17GdISIxOHd1nIPwXfBDxAYqKiqRv4m/iSGgZHKxo126IAxVtPa+Vv2leNz1FSBIvW7kM7sVrMCW7G1Nz9ujIi4KfMDOmHfNCC+CR3oKQsrUSzkGDnhlCNG+HwwWSIxdcdrWEp9DTg9k+prjF4sHn3jC5fX+QvOAnOQ6zntx63+NG9yCkhbo36mvENeyAXYlx5pD5UeXSBxYWFqqmt0g0og6nxw0947S27Orhg4XHqDs7B66a8UJ9C7ru06jkwJZgvHtfkNigAcuQEmbYEGIjvxk1dj5YetXVRoQFEWXrI1oZ1MygVwMJD+7L45g6x5GG3K+QFb/Kc+DzON4JC0JrG3wurCtqfeTVrMQ3ifOM+umT3E/FNBsPzHEMxEjP0Tjd+2xBRHqFhIfoSAtzGtmhAq1u9aRFXW/S4qEwG7weYIPRkW54L9Ufn+RF4LPiGIwvi8fn5Qn4vMKMow5VD6wP1gvr56UMv151+HxCEHwYHpLVEx4yQNLC2VVH3BMk8gdSzKTFYSocTNKjgkb68uXLxYVZqyQNNAjp1eDm5imkgK9vEMLCYpGfX42FCzf1IheGAtasUYOKhmXIyipBSEiUXC8JDZIr9NZwcnIRbxDOIB3M2KVRTKODInmaV4bmnk1j43AMFs3l0IWGD2dp6THD8CTqnfwZQoPwdnFBGrOc9KRtZZYTQ0Kjm4RGa+t+QuM4N9iPZ7DuxbNCtY2KpCQhxLR2xDbHNkjPIXpQHKpoxjz7FBqi80vnGw2GHwh8AHl5eeKtwcw+9FLgC/RI90GGBIQhtOWG16J95zXy/ugRwFAY3ueGbRtQ3FGM0NpQTEkPx3epnfghYzumZHVhWu4eTE/fBKugHLgk1SOweCViGrYjRRn+WgYRQ4P/cICEyU13PyxCnrfe94SEm9BLwtS2/YF/focc585HnhPPkb7r6UFCD4/kdmYO2QbLol/6kBa/wsEvRiYRqBNFcUySPodL24T1RKFYtme+I/MqFpkc0B0r4OCVoJHOwewBoYx5emTQvb9l5c9oVMZ+nTJi61Ir0P72+ybJCg2htj4ITSxFamE7iurXSeo9hmBoHg1DCRpZ0Z9B/bEOrV2w3lnfFGzNqV2OEcH3GPXT97o8gfkuIXD0joVnSBo+DZuC8/wuhl9mNrIrlqK0ZZN4WphJi6EBPn/Ww4FIi0ei7GUG/70Uf3xaGIUJ1cn4qjED37Tm4Nu2XExqzzPjKIP1wPr4qjETE2tS8HpxeK86HJkUDN+IbMRnNyC/duCkhYdPkH5sx3HXQIqZtBjkwsEOB8kcBNPw0ypGw/z588VbQSMpEhOz0NZGDwTTRMFwQUfHNjXwa1X3kwl//9AeD40ACUFh6Imdnf1ByQwKitJFlwSPRmRQhHLfvn36Aby5HL1iSGgkJCQYeWhoGhqGhMahSA1PtX1ySAjq0tKwuqRECA16aZDQ2FpTg+6GBvxMQuM4D5M41kHCamd9vdR9iWpbdBnU2gjbEw09tjka5v0tmmFPA5R6F+mt6UaD4fO9z0dmVibq6uqwYsWKw2qwHqjwPBpJQRJi10+7hIjgZ16HIXnBz1zGdfw98lq793RjRecKFK0ogkutC87yP0vu7Yag2/FVzBJ8m7BeyIsfs3ZhWt5eWAQXwCGuCn75SxFZs0V0LRieQQP/SBAXRwriZaHXs+iGb6VxaIhlbhfcPTzF44zaJgxtPJzEFbWgtHbt7OalBnfHh2ggB7EHg0ZqSCiJGvg21q1BY0gKOm4aYZKoMESAnS9C4ouRUtiO4sYNqOvoHSYw1GDq+RyP4LMQ0qJHsJHGrU9pllEf/VfPv+FzNws4+8bBRxlJYUlliM2qg1VaAJzy4lBYt1a8NOidYw4PGRrg8z8oaRHtIKEHH6QFykz+F3VpYiBPWpiPyYsK8d3io4fJiwoE/V1+rIL1MGlhgdTLl/VpeLM0slcdvpAUDD9mD/mDpIVfUKT+XciQzIEUM2kxSIUDTYY9UNRNi1nVwEE4dSioJxEaGo2mppUmDf9jEQw/aW5ejbS0Qj2ZQSKDxA29THSGrWnjlhkBiouL9ToZfL6MNzaTGEOr0Ihi/dTW1iIpKUlPaAQFBelFQQeS5YRwdXREgtq/OjkZK1Ub0AgNzsJ31tSgq6FBQgj+ayY0hiUYAkINlC00FktKEO7j06v+Se4ytCwuLk7CNjbu3SgaDr/+91ds3rcZ+37fhw17Nwi6f+3G//7vf9iwZ4Nsx8/sH2h4ajoPy1YtMynGGZMaI0QcZ9mPtBinIRHB98eaXWuQviJdrpmz8iQmNAKD4GeNrNjZvRMt61uQ05GD8XnjcaLniUb3NiYoDBMjOvBN/Dp8n7YVU3O6MSNhCazDiyULR1jFetF6SF308xEJETmS2B8a8hNiG3fCpmSvEWlhFdcshGtmZqY+c8jhChFi3bFP1LXvucgsOva0LP4INOOVg90WhlMUtKL9m+kmCQpT8Lb3FyFOkhYU+qxf2i0hBzymqfOZMXSgkRb0jKlcuB3Pxb1l1Idd4nEVHLxi4B2WgYiUciTltYh2CV3SixrWgVoYNUt2SSgO691MWhx99Ju0SA/EZyWxYhR/25aDycpIFqN5SRG+bs7CuOIYAbfhfy7jusOJL2pT8U6cJyYtyO+1/NPCaLyfGtBrmSEYUjGuKFqudUJVko7gMLHdsIEQFwXicfFlQzreLIvqVYd/lrQICk/Qj/U4GTqQYiYt/mThYJJMEeOi6TqvVQQHJhTNpEdFUFCE6FCYMuqPR5DIaGxcLtoZ1M1giAn1MkjsWFszvMS0QUulWepjrFy5UgaYfO6MWT8cs2LmMjiFdUNNAWbESU1N7UVoUEiRBJ+Li4uk4O0t/mpc/xqc7OwQq/YtT0rC8j6ExhZlgO6qrzcTGkMUrAuKtjJEiBoojqretXplvbMd0JCkyz51gKQN/e+/mFI9BUt2LkH9lnrMqZ+Dyk2V+LLsS9g02qBsYxk6dnVgcsVkzG+cr08FSsNTSwPKML0bw280GhTPi5t31MQ4NWKFRvKefXvwedHnmF4xXa6X/Rq9zDQCg//5ffPOzahaXYWkhUm4L/Y+o/sxxLXez+KzgCZ8GbUck5M3YQq9LbJ3wiq0CC7JuhCR6Ppt+1OfHiPeFrwHyRrCVKdtexBSY+xlMbPwF9j5xSMsLEz0LOgFQVKcpNXhqH968mjt3MHRRdK+mRrMHW/QSIu2jl1oTa/Ckocew7KrrsLSK68ySVL0hYdTEILiCntIi41m0mKYQF/v6ndALZO0pkX4p/e/e/VfJ3iegLc9J8AtMFm8aZguN7dquZBT9K5gmsXaji7Zn14WJEB4TDNpcXQxGKTFB+lBuHXMS7ht7Ct4aPKnuOezd2Sf7xbrDGpuM7nn/35D23iZfDdcZrgvj6V97ln/boI3/nnaKUJeGC5/cubXOPfGa/TfCcP1z87/AVc/+SAe+f4zjLSfjndiPQ+4ba9lCr08OPpua7BcQ99jaccxWmbw3dSxTe2nh1p+WEmLiET9+9BMWhyhwgEn3Yk52DVMTcqBN7Nw0BDPyalQxvWfF8s8HrB27T4hdmJj03qIjAAhMqiTwVlXU4YsDRwawvRuIYlBo4MzZUdqptRc/lyhYSApKZubZbaTBgR1NDRCg542DBuys+ubzaZ3OzCEvWoTUcroLUtMxPKiIn2mkw0GHhoSctJDZhztLCfHA/icSSIxdS7rg6KthnXGOiVxxXonKUlPgr5lXsM8jC8Zj7dz34bfIj9JCXp/4v3IWZeDld0r8VnxZ3iv4D1kr8nGb//7TfZh+6IBSgKABOfrKa/3GhQT4yPGHxUxTvZP2vXxfktWl+BErxPxQc4Hcq0MMSRpQwKjq7sLG7ZvQPGKYnjUe+CcgHOM7qMv/ub5N1zsfTHG+5VjYvhiTEpcjx8zd+pCRBI7YBdTDp/sRaIFofO2ODKCnEcC+70sfkZs0y7YlewxIi0sMzbAzc1NQjgZGsKwRD7vwxEexONFRu53h03JqTI5kDseoRk4bcogXfzyW1gw6lW0PfciWh59EkuvvNIkUWEIN7cwBMcXIbVogZm0GEbQSAvqmDBd6acZU436sNM8zoCtb4SEhURn1EgaW2aUoSHMcBCSFTSUeAySH2xHZtLi6GMwSAvi/onvCwnAzx9lheA1PxtMrE7Bu/Fe4tXwfoo/Ps4Nl/X0jPhQbfNxTpis47KJ1cniHfF+aiC+asrENy05eC/ZT3Q0tOWflcbKcXh87bzn3nC16G3I8uxQWfZFbYqetKAxz9AW7vNxnu78xN///S+1rhBf1qXhX6efJuEVXM5jcNsPM4L0ZMAHaQGyTDs3PTXeV8ek6OU7cV7qWrPxRV2qukZ/2fbL+nQ5Fs83Tl0/nx2/f1YaJ/fzXoqfegZ5cuwPM4PxiXouPB+f6VcNGRib6CPP+t1Eb/EEGV+m9itQ+yX749v2PP096HGYSYuAkBj9+5BSAAMpZtJigIWDGc7GkB1iPL/24KnXQO0GGtyVle0mDXMzBoZVq/agvLwFoaExov/BsBISQsywYsp4Zfw745M7OjokUwlJDA76zZ4Yw6+wvkgKMg1hTk6OCNkaEhoMHSChQcKwv4QGQ04Sg4NRm5oqIQk0oDnjTw8NLcsJQxY07wwzofHH0ZeoqFC/SwcDrwpCCwFhvba2th70N7rt5224MvxKXB1xtYSIkLS4NvJazKqfhcatjQhcFIiHkx+WVKE//3e/pwUJTPbXW7duxY8FPxoNjEeFjEJ+fj5a1LWyT2coCT0bDmefweNq10YPivXb1+OhhIfkep5OeFoMaC0kbuX6lSjoKIBdtR3+7dN7JrIvODP5L69/4XLfy3Gb/22YFz5PhDdJWnwrpMUOIS1m5O/DnMgKuCWr51a0Qu9tQc8E6kAMZ+JCCIseLQt6WQRU7zSI3AKGAAD/9ElEQVQiLCjAOS8oS0LXSJKRNOX7goQV6551M5h1z0GZ1uZt7R3RsmqfyYHc8QjNwOFMOQmHstbNyC5filw7X5MkRV8iw9U7BiEJxUgrXigGbf2y3WbSYhiA9UMBVoaGFLStwYUBlxv1Z097vAa3wCQE08uioBWF9WvECNY8Kyi2KhlZCDNhMWQwWKTFA19+gHvGjVbGdaQY9Vz2ZpAD/nXaKbj/i/dx3fOP4fKH7xbCgsb+lY/fj/snvocHv/5IjsP9rx/5OK5+4gG84DQT44picM51V+H2sa/ihlFP4twbr8aD33yEG154AhfdOQLfqGvgOUha3PXRG+r4j+Pyh+4WwsCQtPhYnYvb3/XRm+Jd8WVjhiz/x8knCQHArBtnXnmp6EGQILj8kXtw54dv4JJ7blP3kYjxpXG44Jbr1f5v4fRLL8QDX32IF11n4cyrLlXbvYnzbrpW7vmxKZ/jmqceVNfxKJ62moxvF+ThysfuwxMzv1bnfUDOefu7r+CxqRNw6f13CEnzSX6EnO+hbz/BFY/eKwQGCZjTLjxPns3Fd98q57rzgzfw6I/jcdkDd+qfbS8cZtLCN3A/ic+Jy4EUM2kxgMKBLA1hCkZqD5ygN0BAQJga+K42aXybMThYt+4nVFcvQEREvJ7EcHFhSIlOK8GwTggas7GxsUJiaOEkNGAGe1BqLke2sO5oXNKlm9kfIiIiegmDaoTGQDw0fNT2GeHhaGHaVmY56SE0KAq6o64Oe5Vh83t7u57QMGWoH+/gc2H2D42ooLcLPV8MnzPrwcHBQYgn6lWQTOhv+aT4E0yvmS6fSVo8nvo42ne0C6FBnYu8dXk4yfckLNixQNoIQWKAYRUkwHyrfY0Gxnf43yGkGMOXGHZG0U5ur4UIaMfRMBiFx+GxaSDv3rMbDjUO+usZETpCjOi6ljqkNqTCrswOp/ie0uua+4Jkxenep+Nq36vxVOBTCIqhwHMiUlJSEJGQhsnRS3ThIZkU49yHGYW/wDJtHexiq+GdtQBh5esR17RLPBMkk8gwJS54zbqMIb9JOtSohl2YV7LPiLSwzOqEs6u7hCCVqt8605BreiaHIzQkPT1d3/7jUotMDuKOVxiSFpxxZyaIvKQyLLz7vl7kBNFy0wjU3n6X/nvHlVdK6ABTnqaXLJJ9SVpQ0NNMWgxdsM5ZPySX6DFhWeht1Kf90/PfmO7tDu+wTESlVyOlbAHymlZKetTalV1oWL0Hdau7UbNqp2DBhv+idd2vqFy9DS3rfzF5XjOODAaTtKChf8+4MXjOeop++Xk3X4tPcsPkM4kEGuuv+VnjXrXd2CQ/8b6gpwLDPOgR8Zq/DS666xbZnkTDM3O/k883vPgkXva0ks+X3Hu7GPxyzBuuFk8Mfr75tefwis+8XqTF3Z+MlnAVXv+Vj92PN0OdZDlJiy9qUnHbuy/j6TmTZdnTsyfhxpeelm1veftFOfeLLpa484PXxTPi9MsuEnKA255y3tni+cFsHSRi/n36aXgvyRej1bM6+/orxYPj6qcexDvxXuIxwn1ImoyOcsPoaHd1nEK5rudtp8q6V33m45bRL8nn60c9gZEOM+RZU/D0mqcfljoYI/vpzt8Lh5m08PIL0b8TOTYbSDGTFv0sdBvlDJhhKIiNjZ2EMZSVtZg0ss04vKA2Rl3dEkRFJQqJQf0QCnweiMRg3ZFwYmYXxrjTYKLhMFjGiLkMjcIZU4ZtkdDo66HBkBNNQ0MjMw5GaMyfNw/Bnp7Ij4nBYnU8EhoSblJRIcb58ayfwXulZwpJHYbfkKhg9g87G5tez5DPl789alWwLhiOQeNwoGVm7Uy4tLnI5/jl8Xg2/Vn53769HZ7tnkhfnY7Hkh9D2/Y2IZhJWDDUg8YoMxHlt+cbDY7P8z5PQpNqamokzIx9AsNJ6AHBa+QxNPCYRF8yYyBFIyx4bJIjCzcsxNn+Z++/Hr/zEJwXjFmZs3Ca72m9rrUv/ur5V5zvcz6u9VODuNBPEBsXK+Fy9B4oKChASUmJ6DV4pjXhBwpxZu/G9PyfhLSYWfgrrJIWwjmxDv75yxBZvRmJrbuRooWJDDPiQiMsMjp+F/IlrrkbzhW7jQiLmQU/Y55/inhZkEyoV7/fw+lhw3ED+xrpS9R7qXbxdpODuOMVhgYO01aWly1B85tje5EVxOJrrkXI+5/B7ZvpaL/xZv0yLxq1aVXILO8QLw0atWbSYmhD6rzHy6KofT2uC7nFqG+73eNBuPgnIDC2AIl5zYgqrxJyo37FHjjVxiF9yWI41sbCtiYCLvUJaFy7F/7NubCo9EbCoiaT5zXjyGAwSQstPITQQiRIWpCo4OeL7rhZjkECgN4MF99DTwJLjFfG/z9OORnXPfeY4LZ3X5HtSVq86DZLPt/8+vN4M9hBPl/56L3qeoLkM0kLekvw892fvI1nrX/sRVrc+Moz6rwj9MceHeUuy0lafN2UJR4TY2J0yx74+iPx7tC2fcl9ttw3SQN6ONz48tOyHXHqBefqPzMFLMNNtP1InnD5SIfpuPC2G8VD5OuWbLwb741L7r4FI956AZ9XJmLEGyPxqp+1bDsmxgPXPPOIfCZpQXJDOz7JEBJCI9QzOBqeFh7eAfrxIb3hB1LMpMUhCgcwnH1jHvf9g/B58PDwQUJCphjOpgxqM4481q//BQ0NyxETkyJhOszWwpCdA5EYFIFkxou1a9eq/TfIwJXGyWAOWs1l6BQaizRKOZNNg6WvhoaptK1924wh7I4j/QxeO++B97Nd/WZI2vB+GzMyENInWxLBZ0ePChqHfMY0nmmk/5lSs7kGrdt0YSTLupYhaHEQghYFoWFLA9q2tsGl2QXNm5vF+CTpQIORhAV/1/SyWtCxAH/3+rt+YEwPBWo/JKUloULdj6ZrQeafxBf35TXzODweQRLEkMwwRWQcrHA9t+extu3ahnez3+01WOf10GvCcFlf/NPrn7jM9zLc4ncL5kXOE10GkhUkZElUUKOB2TAYcsO2XlZZgzm5nZiWuxczlNFOwkIz4K3jGuCe1oyg4lWIrtuKxLa9SF38KzKWDh99C0PCgtocCa274VfdZUxYKFgmLxfSMiYmRp4VyU0tK5XmZTGY/T89eLTfhH9wtMkB3PEKDm5JLkgGiRX7UN26BQ3T5hkRFkTRU8/Dyt4f811CkfrhBHRcfQ0W3XiTiHDGZdcjp2o5Kto70bB8r5m0GMLQ6ly8LJbtgVVxgFH/9nfPf+AL71nwDElDREoF0ksXI7thKc4NuBChzaW4KPgKFCxfg1uj78fbWZ9jRrkH6tZ04e/ef8f3pfawqQ43eW4zjgwGg7SgSOTd40Yr4/xjfN2UiS9qUvC8zRQhJ86+9grRceB2F915Mz7KDsEnBZGiZ8FwDIZX8Hjn33wdPsmPFIKD56EnAsU9xRNhsY60eNlrrhyHpAU9GOT411yON0McMaEySUJQ3o5wEZ2Ms66+XNY/8v14AT0i6NVBrwiGgvztpH8J2fCi+2wJu6DexChXS9zx3mtyXbxm3svXaluSEG8EOYhHB4kB4uRzz+qVIYXkyce5YXL9PD+3eTvcWUJQGLbCc78Z6ijL6WHxguMMPDZlAh6f9oUQGs9Z/4j7Jr4n5MPVTz2E14Ps9UKc9A7hfgyzeU49V+2cehxm0sLVfX+2uIGOC82kxUEKB5eMR+VsrfaAmaaToSAdHduMjGYzhh6YXjYmJlkfTsJQnnnz5qu6NDZIo6KiZBCr6WGY06seP4UGKA1WzrgnJCRIuIlGaNDw9vDwkOxAmijsoQgNSdkaHIwaA/2M9dTPUBjK+hkaOUGihQQFiRemJeW108ukJiUFfm5uRverPRNDooLpimnw/9mikQH8LbJP1ggDGpkaQcEX3569e9G9ezd27urCth27sHHrTqzZvBNL1nSisWM9ypo6cKX/7TjD6yqc43kDzvW4Eed7joBzTAQSc8qQV9WC2vYVWLB8PVas24x1mzqxpXMrtm3fLsQ1hRpJZrBfMCQzDImMgxEY2j1o3h/pi9ONBuwHwz/UYJ5kxcMBD8Mvyk9CQEi+0aOIGVDoNUDiheFw1MSgBwG9yhhGlVy+CLMK9ui9LPSGfE4X7BIa4ZW1ACFlaxFbvx1J7ft6ERdDmbzoS1iQdAmu7YJlkcE99sAiZydsPEMkhCw7OxuN6jeoeVmwHll3fevszxQeT697pX4b+VVLTA7gjldoxo3oWXR0o04ZqabEN5tvvxPO89xh7xUN90D1Lg/PQt2zo7Dw1jt0oQNF7SioW42qhdvRuGKfPouEqXOacXShN2iVgVO8YANuCLvdqJ+73vM2OPvFwz86D/E5jcirWSl1+3XBPFwQdCk+yJ0kxyJp8WHu97CtjcSCDf/DHdEP4ttia2QtXWp0XjOOHAaDtBBD/NPR4mnxXloAXvO1Vob5GDHgL7v/Dglr4Ha3vPUC3gpzkvCQp2Z9I6KW900YK+uemPkV7h3/Ll5ym40nLb8WYoEaEE9afiMimSREnrP5UQx5ajy86jsfE6qScfmDd8sxRjrOwJWP3ifG+1thznJerieueux+Cb+486M38JUy6ilqecGtN+B9da08Nz0e5DwL8nHVkw+IjgS1KyjKSdFMamJwe4atvBPrIWEhF91+k2hQaMTCs9Y/iGfIy55z8eiPn8u93/L2KEyoTMCto1+UZ3TTa88KOfLAFx+AIp28thtfekqeA0kZXhdFSK8f9aToejA0hMe++fXnMK4kRvQ/PsrcL0Kqx2EmLZxcPPRjR46HBlLMpMUBCgehfcNBKAKZmJglM/qmDGQzhjaYoYShPCEhUfDxCRJvGaalNWWA0qWXbtaaIJ45lOT4Lax36h3QMGQcvCGh4evrK1kI2E8MVD+DKT81/QwhNCorsbWmRkJOqKHxW1vbfi8Nog/BMFBohIQhGNayT52LIR7U7+B18HpItFCwNEHdI1PM9r0HQ5KCGiLUE+FzoUYADcA/WzSj35CoYJ/MF5xGUuzevQc7dnVhfecuLN3YhQVrd6J1NQ2XbShbvB0pLTuUAbsLzmXKiM3die9TN+P18Fi8E5CNjzwq8L5LMd53K8HHPrWYGLoQkxPXwCp7CzxKtiK8phPpzZtRod6wtUs2omHZZjQv34LFa7ZgzYbN2LKlU8gMjcggCaGRGAciMPiZy7ndqs5VapB9h9GA3RTofXGJ9yW41/de+ETSwy9ByAqGgNBDhMY3iQm+r9hX0XOA10UwLIYkLMmMoNJ1sCBp0ceYt8zeBofkFvjkLEJo+TrENuwQYU4hLoZwqIgpwiKktgtWxcb3OLNgH+YEZYt3HZ9fpWrrJHeoZXG4vCzovaf9XuydXJQh/V+TA7jjERzYajPuJBrqClqx5M57jAgLhoKETraAs28cvMMzEZpQIkRFamg6Wp59UQiLbEmDyd/pLhk4m0mLoQmtzpnpg2E8c4uDjPo6ell87jUTnsFpCEsuF4FVpjitW9qN8mVbxDsuS/1ueTySFuMLZsK9IRlt639DyYqNeDzxRTwU/5zRuc04chgYaRGDL+rShFAgkaBPw3kMg7oUE6uSMXlhvpAx95JkMbHd0QTrgSQSxUlJKr1ZFtmrDv8saWHv6KIfR3KcNJBiJi1MFA6MF6jBvGZ88D/Tb5qzghxbWLZsB7KySuHvH6IMr0BlfHrCxkandaANNjXQOKVxoHlhMO59sAe55jL8Cg1WCvkxAwUFQUlmaIKgA9XPkH7G2RmxAQEojI1Fa3Y2Vvd4aawrL9d7amyqqhI9DXpAdCqQ6CDowcHQDRIQBL9zG+7DcA4hJNRxSErwmCRMlhUWojg+HqHqWq3nzTN5XQSvjaQMw2f4W+A9MryGJAW9EAar9DXwNaKChj49KXZ1dWNtZxcWr9uF1tU7ULtsOyIbu2BdasJQJQp/xfSCnzE1Zw9+yNiOSYkb8GXUMnwe3I7PApoFE0IX4auYVfguZRN+zKJYZZ8wih5YFP0K1/IupDZuRNXC9ahbsgFtKzZh1bpN2Lx5i4SVkCjQPDEMCQwNJMDYZmZVzDIasJvC2R5n4zbP2+AU5CRpM5OTk0U4lOGKDAGhZxgJNRrINMAZH2roCcJ+ivVDj4uGphY4FpvKpvEbLHO2wzGlDb65ixFaQeJiO5La9ghxkb5k6IlzaoQFr00Ii9Y9ByYsCn/BrLh2+S3yGZLsYVYiPjM+L9bJYHtZsBgKcManl5gcvB2PMDReqWtQX7UMC157x4iwWHLNNUgdO05m3X3CsxCeUoHE/BZklC1GduUylAYmIb9mFYqVUVu5YJsYwvTa6O/A2YwjC0Njll4WN4YZk7bXetwiBBW9LBj2k1u1QupWPGjW/IbT/c9C5aptcrz745+GZaUPEhY2o3jFBrjWJ4nGxWOJLxqd24wjh0OSFlH2eDvMWbJaMGRiQnWyLiWpMpAZ+nCsg14dH2aGYEJlMp6y/FYf8jHkoOrjq6YsMM3s68XhvepwZFIwfCOy/xBpwb7fWtlZfC9ybDzQYiYt+hQOYJj+Thts0B2cRu3SpeZwkGMdbW1rEReXBj8/hpL4KwPN1WQoCTUPOCClsWD2wjAXU4VtgbPc7EsM9TNo7P8R/QxDUBzU1sYGjqrDd7G3h7ujo5Advq6uCPDwEOFQkhD83jfN6KGgXYuNOj6NPHpRkIDhtZOUqaqqEqN7sItGVBh6VdDo36uM751d3Vi1uRsL1u5C3YodCKrrNun+bxKFv0pIBLNmTMnuxg/p24S4+DpuNb6KWaGwEt8krMV3yZvxY8YOITcMxSpNHtMA1iV7kVS/UQ2s16KxYyOWrtqAjRs3Sd1rBIbmgUHwe/PaZpzmd3CRTQ2j3EfBwtsCwaHBQlgwFIQhTCTVV6xYIeGLhhocGlGiPUcSPjwn+yh6YpTUtMC2uNvkvVjm7IJD6gL4kLgoXyupUEWck1lFlvw+JMJF9N4V6lrSFv8m1xbfsgdBNbsw2xRhodrJrNTVcHByE08ghoUcLFPMYBW+DzQvTQpw1izSGVrHJOjVoHk2bFD/tUEr/ytDc5GBh8l+wuJ3MWrqG9ahbeIPRoQFw0RKnxoJR59YeIdlIDy5HMkFbcitXiEz7xTdLG/botApoQPMPCJeFup8ZtJi6EGrd3rWkFyaVxxs1NfRy2K81wx4BKdKRpjUogUoblyv6rYLLat0ZNQHOZPRsHaPHHNqmQvey/lWQC+L8QUzMDprAgqXrzM6vxlHDociLe6LssOLYfZ4PcETY7KC8V5xFD6siMPH1Yn4pDYJn9QlH/N4JzcUb6X6Dt37Vdf1cU0iPqyMl/oZmRfYqw5HJgYJkRyXVT9g0qJ55T79eJPjy4EWM2lhUDjgY1yw9kBpUISFxYCpNk0ZuWYcu6DAakVFm0EoiTdsbe1NGpf84Zm9MMylv4UGJWd5KQJLXQJDQVASBPRkoIYGSQ0y0YZhJ6ba36FguK8GHpPHZniHu7u7ZPbg+XkdvJ60tDQRcaRBfDjbcV+yQvOq2K0M7XWdXVi4rgtVy3bCtdI4dWW/QeKi4GcdcZHTLeTE92lb8V3KFnyf2ilExpSsXTrCQm1jysuiP5iljObwahpTa9C4ZB1WrGZ/sFnvgUHthA2dG/B6+utGA/aD4QKvCzAzfCaiMqKENGIoCD0nNM8KGt40kjWyQut7tOfKZ0pSg2Kk9ArKUv2adZGJzBoKFgX7YJ++BF45SxBcuhpRtZ1IaO6WFKJ9vS6OJHmhnS9D865Q15Lcvg/RzbvhU0XRTdP1ZZmxEbau3kIUkjwk4bN06VJ9WAifDZ/RYLdxhp5ovz/vgDCTg7djBYsLWrE4v1lHUtSvwaLWLVi09ncszmvC4ux6LM5pwKL2Tr3h2r5OR1g0tHWixdLBiLAgGu+8B26OgSLGGJpQiqT8FtE2IFFRs3iXhAtooBHMATMNYmal4DnMpIUOfA59wefTC8rQGBD67N/3+Kaug9ux3ulZk9++2qSWxTUeI8TLwi8qt0dclV4WW/VeFtq5TB3fjKED1lEv0qK2rJfBe3G6A65NsscNaU64KcsVI3I9MaLAG7cW+ODWIl/cZsZRB+vh1kJf3KLqZUSeJ67OdetVh8/F+8MrNB2xmXU6zZkBkBaVbRv170aGWw+0mEmLnkLCggNC7WEyTICpNNevN2cHMeNXLFnSieTkXGXchUhWEuqbHMwLg7OgZi8McxloYTuhIcqZYJIaTMdJDwcSCZwppqcGyQVTIOFB0ECjGCY/czn3IRnB/XkcgqKzbKcM76ARR6LgSBbep2ZYG5IVu7p3Y8XmbrSs2YWIRtOG9cGhjFcSDoU/Y0beHszI7cKMrB2YntmJ6embMS1tI6amrMPU5LWYkrxGYa36vA7TUjdgetomzMjcipnZOzEztxsz8/f1kBcDJzDmF+9Fat0aVLavwcJlq7F6zRrpD8Ibw40G6wRjtYkTPU8UUHTzFK9TcJb3WbjI9yJcFXCVuv7paGltEZ0d6lYYpmY1JCu0Yvh8uR1JE14D9S1SyhbAusi0xwVhnbESbtlLEVi4AhFVGxHbuFNCMOjZQA+H9I4jQ15ox9dCQTTvCmYICatnWtM9Jq9fPCwyNsDWI1B+CykpKaL/QdKG3ikkcdgv89n0fW6DUXg+7Z2QXqiMdhODt8GGZjRqMDQsBYaG58HQZ7++x+173qVPPodl9z+CRS2bsWSGDZZ4RmBRxVIsvfMeLJk6Fx2jXpPlPBYNVxHeXLwTjR4RJgmLthG3InjKfLgFJiMotlDEGHMql6OsdYt4VNDw5TE0kKxopYfFcUxYGNaPvu5UXdKI4DOnZ4sGPqteWK2e30DQZ3/DY/N8ptoRl0u9L+3G5Dw7o/6PXhafeU3XeVkklSG1eAGKGtdLGlzNy+J4rNfhCNYT6+tApIUZwx/PxPrKbzUmo3bApEV+1WL9u5G6gQMtZtJCFQ5c6urq9A+SGUIYJmDKeDXDDJ0XRrsyBKMlKwkFPe3sTHthUNeA3jtMq6oNlg/HzJ65mItWaISRBBiqbczQmKbBrZEVyzZ2o37VLjhV/GTCCD0A6EWRvxczsndgesYWISZmpG/CjJQ1mB7Tjmlh1ZgeUIhp3qmY7pGI6Z5J6r+CJz8nYoZXEmaoZTM8kzHDOwUz/HMxM7QSM2OaMTNxGWZmblbYghmZnZiZtU1HZoiYZf+IDOpghFWsR2HDUhQ11eL2iDtwuu/pOM/vPFzidwmu8r8K1/hfg2v9rsX1ftfjRv8bcbP/zXgg4AG8EfQGvo74Gs7JzkgrTBNvLhJM7EdIQPC5aYTFgepae9bac6bHB/siajqklrbApsh0alBiVl4XnDKXwqdgOULL1orXRVzTLtG6SFnUQ15oYSODSGAYEhU89n6y4ichTiIbu+F/wHAQBdUmZqWvg52rr3gQ0ZuJIroMqSFpo2ULOVyEBckQZhpi/8/QkIaOLpODtz8DzUAlNANVM1L/tHHaZz8jg7THENXOT9JiyVdTsWTKXCyZbi2kxRI7Hyz54ge51sU59Vj60GOyPw3XhmW70RCdg6XXXGtEWCy48SbEjZ8EF/8E0TWIyahDZnkHSpo39RiwP+tCQHquxxCG19T3eR1L0O5Rq4cD1ruqSyF21DOjQcG0svRaYFpYphsVLN2tBwmhA8FwO21fHqdRgcclkcRzCIlkoh2ReGhcsRfpzYtwjv8FRqTFfi2L/V4WFe1mL4vhCNYT26OOtNiJybUVJg1fM4Yvno3zg1dYhvqtUtNitZBT/SUtUvJq9PYRJxIGWo570oIDFg4ENYOTHhZJSdkmjVUzzDCFjo6tSE3NM/DCcDPphUF9FMalayr/dFHm4HmwB83mYi5DsbCdEzSyaUTTuGMYyMot3ahZsevAYpq98CtmFvyEGdnb9QTF9NiFmOqXi2nu8UJKWPikYpZfBqwCsjEnOBdzQ/MxP7wQ1hFFsIksVihRKIVtFFHWA+17CazVNtZq+3lhBZgbkgeroBzM9s+EpX8WLKIbMTN9A2ZqJEbebjGSTV+rAkmVHk2N8anxuD/8dbwf9xkski3gmeKJeLUsKSlJDGv+5ww9Q3MyMjJEcLOwsFBe7BTdpJcAQ9Col8HQBj6//hCghs+cuhcMV2Gqz9bWVmSUNsC+aAcsig787OflbIRb7kr4F60SAia6bquOvKDnRU/YiEZgpHf814jE0GCSmDCERlKoY2hEBY/NcwhZ0dAl2hW2JXtNXqcgfy9mpa6EvYuXeFjwmZKwoHcJnx1JG03H4nCRx8uWLdP3+d7+oSYHbgOFaUPVwEjtMRRpNNJYaFqpDEkaqf00UA3XGRuk++SYeoO0xxDVERm/o+PJZ7GwoAUdDz6Cjs++0ZEW9j7o+HwyFqr1i9KrhLTgvgzlqFffO269w4iwWHztdUh79xM4+cWLyFtUWjXSSxaJrkH14p0yKNY0KzQjti9MPbvhDu3e+hIUWj3o672HmBBSoqeOa5Z0oWJRF0oX7EJR+07kt+1EbstOZDfvRGbzDmQ27UAG0bhdkN6gYZseGeo712U2bUeWQk7zduS3bENh63aUtG1HxYLtqFy4HVULd+hCdzq6erUj7XoqF27FmJSJRoTFvzxPwpeeVvA08LJgnZu9LIYnWFesM7ZJtsH5jU24rjocV1eE4MrSIFxe7I9LC31xSYEPLsn30uPiw408DZ4G6Flmavv/Z+8swOO4zvXv2397e+8tJuW0TRpmZmZmZidx4pBjjkmyLBllWxYzMzMzMzNatiyDzJYp1LR9/+f9RrNeadeOOYad53kf7c7MDp4Zne93PjjLZXxv/p7nhfPV/bqg0Ffu3/ikaIQkliBVPatS3Yd5Z9T9PpxnNTIxx/D/kQMJRzqd9dCCo1YrRkr60dCMjU0za5haZNHhiF4YFRXtCAn5YS8M5i1gjDUNCD2T/YnqSFsmy/RjTmzTuncFvUC++uprbNqxV3W6d8O18ofyVWigwipjm4AKq4Q+zPHNFkhh7ZWkAYqALCwJyRMosTK6DKviKuGUUAOX5Hq4pTbBPa0Fnhlt8Mxsh1dWB7yzOqXEp092l/qrxO9KXMb1PNJb4ZbWDNeURjgn1cExvhorY8qxPKpEAMii4BzYqX0uiGmGTcYWzM/cNuKFMQZgGEGLOVm7JYeGR3INIlPykZqWLuE/TA7JBJuFhYViYLMcJ98L9KwgWGCFEIJOHVjQW0sPCzlcTwFjcEHgYQwu8ovL4FQwBLuCQ92H77CM8CJ3LXyKBhFStgGRNVukPGp88x4ktu4XuJDc+e1oiKGLIMKcjNYxQAq1DQEVapuxatthdYQVu7Cy5GChIJpssnbCLqYJjk7OEhaVkpIiVVbYMeK1Y+JNQpsTCSw4ETrp7/jU/FqzHbfDkamxagwpRuCEbqQqA1GMVGU0VnQOKyN1F4radqJAGZW5zTuUobpDGaqa4SmGKo1Q0XZkNmxDVuM2ZCvlNW1DQfM2FCqVtm5TBul2MUg5YsqSonTv141R7pvH0PPIE2itWYvO5V7ou/JKdHmEoyOrDj1Pv4DOzBp0zV6IzlkLNYCSWYuuu+41ARY9l1yCvGdfxirvWBnBC0sqR3JBGwrq1kmiTX3EXe8U/1DH+HTX2HtvDKd0QMFrwntRo+57RdduFLXvRm7rbmQ2DQuISFXPZlLddkRU74Rv+TDcSvdgZfF+LC76+vATGY/Sd1hY+A3si/bDsXg3PEt2IrB8G2IqNyOhaghJ1ZuRUrsVafVaW9La0FYwWWpJ0xBCy0vx314/N4EWt7s9BEd131lCkTHy2ZWrJZcF25jFy+L0k95uee/ogVPdtUtKEtNjiqFeTKrrH50P7/BMyYvAvDUewSkSbuAelHzc5RaoieFmrv6JSnFw8U/QPnNegLbc3G/PZvGeaPcmFV4h6fBRz2dgbAHCk8sRn9OAjNJuFDVslPvL/wWH+6z6h8YY/j/S6/NIp7MaWrDjxrrtvHg0KgMDw8XoNGeMWmTR0ainZ4fqxOaLF4a3tz+cnV3F42KsFwYTI8bFxYnXDzvYjFmnO7cFYFim03li+6V0YKF5V+xH79AeZZAe2ggVgz97F6zoTRHfizkeKZjnHo/53imw88/UIEVksQAK58RagRMEDgQRvnm98C/sR2DxWgSXrlNG9nrVad6IsIpNovDKIURUbTaI3ylZrtajUc4KGoElAwgoWgO/gj745vYI1PBIa4FrcgMcE6qxIrpMPDjo0WEb3YAFmVuV8bxDIIvhHAq+lYokc7P3Ylb6TsxI3IQvY1YjILEAiek54k1B45phZIQI9KjgaD3zmuhhZXwf0EuAeSz4XtATSB4JtOC65sAFvRC4f5/81ViWv0tCWkzuhZEW5g3DJXcdPIs2wL+U13MIUTVbpUxqbNNuxDfvFYjBRJkCMjoIM77RYMQoqXlcptbhuoQU/G2M2oYOKrzLd2KRMrLMHYdB+d9I/orFQVlwdXWVnC2EQcxRReBDrzZeu5MBLLh9JycneacvXboMdT27zHbcDqZDGas6pKChyhH0ig5lDLTtRG6zBiFSlYGapIzG6OqtypjcAa/SnXAt3oVVysC0L9qHRYVfmXjULFDfOZ+JWR0Kh9X6O+FZvB1+JVsRUb4JcRUbkVC5SRmkQ0ivHUJu/RCKlAFKQ5SlKOkW3PbxVDTUDKBRGZpdL76O9ogsOeaOkFR0vfwWOqfMQ4Pq2Napjm7XfQ+ZAAtWCil78DGs8oiQDnJIAhNvtkhW+vI2rZQpz/9MH3E3vvc811H3Xhl/usdCZdceFLbtRlbLMNKbdiGlboeACdeyvVh4CI+pkyUb9b5bXrQXvsWqLar3aGz5ekQW9+Le8KdNgMUv3X6NOa7OyohMRHB8EZLyW5BfNyjtigYvr8HhGEIWnVri/WIb1nPYEFjKO0u9M8paNgvEIshguWLmLjkhqleqW680iPzaASmPXFBajZL8FGRVrJZKRAxt4DJZj+ub245FAid4r3jfeP94H6u7h9U7SS8zrYXrHc5z6urha7B7OFB7pNNZCy3YgWGCO/3ieXj4oL9/2KzhaZFFx0MbNnyL6upO1amOFi8MtrmVKx3MemGw3CTdwnUvDMZh0+g7UZ1ty2SZjvfEtqobyzTm6B2wdddeNA/ugX3pN2Y7vCLV6bXO3AGr1I2YE1CEua6xmkeFH0FFPlZElYrng1tKk3hOEFAEFPYLnCCYIIRg/oXo2m2aId24C3FiTO8Ro5hJHBluMFqcpy3jelw/tmkYsQ07Ea2MQRrlkdVbBGoQgBCGEGTQS4NeGS5J9VgVWwn78CIsCimATfJa2GRtNyTz1KqX7B+pXrJDKpdMT9wIp5RGJOWWy7PO8riEFQQVhBR62VT+YyesMK4ScjT5GPR7YQwu6H1Ao57GfVVVFRJzyuCQvxV2+T8AlETfYXHeLrjmr4dn0Ub4lm5GYMVmhFRtQUTNNkTVbkd0/U5J4slwEgKNUVLzotWyiLpdCKsdFkjhX6mM5vKdksjU/D6N9R1sMrfDLrEHDi6eUnUnOjpavFaYo6q7u9vw7hwLLI7kuh3JxP3p73AP70CznTZz0o1VzWA1NVbpRUFIUdA6LJ4SKapNxlZvg0/ZLmUg8lodzcj5keg7LCvYA4+irQgvGVSG6AaBGek1G1FQrzqzzSMdWcIJZVjTC4CARSALQxVyGtHBhJ1jgAVVe8fdcHEMBEdag+KKEJ/ThJzKfgEj/K10is9Q45Xno997Y1Ahht4IoKrq3oP8tj3Iat6NNPU+iqzZBceSk3HPj126l9kXaX34s+8N+JnnLwzAgomHH3R8BUucQ2SkW0JDCtuV8bheoAUN3WaBVQfu/Zl2/89kjW3bmqeYeq+tG8m1MqKmtSdCB/K4iDeSMrAbGpswmPUJtiQ9LO+rcvV+YTuj9xjbGteX35ndnkX6/dISH2vPJe/rkTyb/A2rMPL/I8vq8//xkU5nJbRgx624uNjQuXBxcUNb20aDcWmRRSdDq1fvREZGEfz86IURAGdnNxmdMwcxWBqInXAaNCxdSAPmRHW8LZNlOtZJNwx1A/mrr7/Ghm2q4915iIogNO4JK1IGMcc7S8I/mJ9iUWCO5KFYFVcloIKeDrb+6QgqWYfQio2IrN4KggWBE817BEIktu1HUrs20p/S8Q1SOr9FqoQtsGwnQxdGi7/3y++Vz/p6/A1/y21we0xASehBmBGjjIcoZZjTO0MgRtEa8cQgwHBOrMPK6HIsCS2EbVKfMqy3SbJQeluwA0+PC4aKzMnYhdlKtplDSC6qR21dg5TKJETQw0BobBP20LNChxW8pjqwONJ3ANc3BhfcPo16enPQy4veHvT88M3uwPK8bbDNPxx4MCJloCzKH4ZDwVa4FW6CZ/EmeJduUYb1VviWU9tGyUfJo3Q7HIt3YXHhkRhh38Emexfs0tZhqX+ylOxlZRzmAykqKpJSvQyn4XtSLwl7MoAFJ8In/Z0dm1pktuOmy7hTb+xVwcSJNFjp9l/aPozs5l1Ird+B6OodWFV8ODDp5GlFwS6EFA0iRj0DSZXrkV27HkWNm6B5YuxAJUFGTgM6Hn/GLLCov+0OeC9xF6OVrsdjK4VI4s0zEFiYve/KIGD+kFplZJV17kFO626kq3dNVM0uLC8+hpLPRyQ+g7rMLT8y6dCC77nJCf24yu91nOt5KX7i8TP8yu1vmGgfDGunKNj7Z8InvhzxuS3IrV4r97+miyO5+6UN8PpIOzhCI8miU0P6/TpZYhthe2FOlPrVe9HaXIUd6U/iPxHjMJxwEwrq16O0ebOEvRFYaEb4wXPlWHRwmbvfB1N153bD/0fmnDqa6ayEFuwU0h2fF47Uh6Pf5oxKiyw6WaIXRm1tL8LD4+DrGwhPT1+sXLnKLMBwdHQU6DYwMCBtmaOl7JSfyM64ZbJMRzKxLdJI1PJXfCXJNiObDm4AW+fs0TwrRhJq2vikYnFQrnhVEAIw7MMvrxdeWZ1wiCnHTfc+LiP4EdWb4Zffh7jm3QIYCBtY6SJaGXlMGBlFl/n2rxBKo6rtKwEPhA0EEfTIkISRSu5pzXjuvSkIK9+gtvOtzBPPivKNYHlPJqCk9wa3SW8LemX4F6zWKmoow4L7i1Drh5avF68PhqgQsKyKrcKy8GLYpazB/KztsM77WuCFAIy8rwyyyduLhKIW1DZo3hY0uPWkkbyGumeFMaw42udd/60OLhhuQuOe3h0sp8rKIsyrkZGZDY+sLtjnbYNdPmHTjzyyW/CdhN4IrAjOgYuLi5T3jY2NlaSl9BRh/gp6p7HUtF4SVgc9x3LNDneKiIgwvKeL6taa7bhR7OyNMlp1rwplsFZ07kZ2yzBS6nciqGIXFhUeQTWdH1GL8vfDu2ADokoGEF8+iMyqNWKA1k+cYhZYNNxyO7wXOktsOWPcYzPrkFnWKy7IHBk9E4GF2fu+VvOmKe/ag5y2PUhr3IXAyj1YeLDqOIelEfCgnhmGqlnn7oV19m6psmSdqd5D6VtGixWS5PNmI43MH6meZJ2uJR+WbWQPY36OeieIJxmPc2R/Y47DkM8ncxgzkofwRWQf3vbPwvme9+I+VxuMdy7EB56V+DSoFTbRbfBNb0NE0WqkVa1DQcNGEH6J907fXhk15/UiwLB4X1hkTvrzJcBi4Fs09O1GW0Mh9ideBUQqc1dpb8xFSC/pkndTmQ5H1bqHG95g0dErq7TN8P+RycaPZjrroAVdYpmkixeNBqGlUohFp6L6+3cjK6tMdcpDxAvDxcUdy5aZ98IICwuTzjq9MIaGhqSN68aNZbJMJ3tiu2P704HF2s174Fl9EMNLdWpZqnRuSDXmusRivlfyCKwok5AL5pAIKFitQYPqLfhyVTim2gfg/mfeFAixMDALk5f4SrhIeo9WtWKilZNU/LByj5dwEkKOqcsCsDyiRMDHZ7YeCFHbmzBnpaGaBUNCHn/tI7VeoCTwZDWLOS4x+Hi+q4SGfLrAXbbH7bJMKnNofLHIB4vUd3pkEIzQwyOucTfotUEPjCBlvNH7gklA6SWyNLIMtulDUnGEnXlziizuRE295ilAiKAn3TyacJBDTboBT2Oe2+Y+aOTr4SL0umAi0JKSEqSlZ8IroxnLc7dgUc4O2BQcIrTHWDSY6D2jn1/+N4bP+jKzvxsltY4yjBakb8LC1AHYB6ZJ3grCCnqfsc4783Ho3hV6OVi+A41hj36+J3Li/pYvXy7vZJY6pYE1ttNm1mhd8zVqe/dKhYeMJoK4nbA75twEI9fXILU9Gq8sD5y7TwxO+UujU90XWW64J7rMbffwtCB/P3xy1yAsrxvJfolouvOe0cDi5tvgt8BBchn4ReYiKq1aErsxEz2NVF4T48SbY6/j6SZz951eFTU9e5HfvgcZzbsRUr37KO77yD3js5WzR4AE36fWrKyUvhnzWf45sR9WUU2wCq2U8s9WPhlSZcnaM0net/O9UsSjzcY7FQt8zIvLud589dv5gQWwDq3A/MhGzI/vwXz1bGploTW4MT9jG+Zn75a2xWdey+ezB7PStmNa/HpMCu/BJ4EtmOjXgIn+jfg0uB2To9dgRtIQZmcOY17OfqzK24KI4nVIrNyA7NoNArLoucMqBVrYCN3ULfDCogPSnzG+Nxjm0dCzDZ21yfgu5ncGYEF9HfU7xGbWIrWoAwV1WigS86cwBM3Shk6sjCuHsH9xNNNZBS3YeWGGdv2iubp6Yu3afWaNRot+XPU2dqOvuU8+r+ncgDXdm7TPXRvRWd2E7rp2bBj8Cn0t/ehS3ynOM97GmaSGhn5ERibA1zdIvDAcHBzNAgwHBwfk5ORIEj8m9OSILV3ALRDDMp2MiW2MbY0j+AIstuyBV415YEGjaV7SOsx2S1Sd6AQs9M8UsOCcUAevzHbxWGD4B70b4hqHpVLFIy+9J94Utz34jECLp9/6TEDFY69+KKCBAGJZeBFmrAzFbOcoxDftkWWc//jrE5E+si6/6391aPGEWs5tEF6wmgXzU8z3Zqc+CSsiijF5iZ8AFXpo3Pf0G/KbVybOFliiVcL4p3h78LgkoWTDTrXuFgSVrtPgRWozHGIqsSixCwuyd6lrYM4w/A6RqjNVU9doABeECcxlcbzBBSf9fnHbNLr5riAoYTlmeiww10V9fb14dnFkJDQpHyuz1mFZzmYsytkmxqnJeYwYvzqo0MNiaIzwr5UyZjjPPLzg5+9gk7sHtgQV6YNYnNCKVR4B8PDwQFBQkHhWEFYQqLDjo4fNMaSG14qeI3o4yMl87/F66e9hL7/QUZ013ahip5qGljGsKGofRlrjTvhXDI+cv9G1/EGNXD8aiNnDMhpuxVFyGqsjJYGtCcpSN8A6aQ2s4rpgFd0C64gG9bcV1vHdmJ88oJXxpZFLZeij7BxZZ1UczQDV7tNhHp9aV4zVrN1YkdgOf9dYVN9+nyTdbLzpVgRYL4fTSGnTiJQKyWUgBkTHDhlRP1OAhX7PjWEFQ3+quveKV0VCPUv4HoknDe+3eq5y9qr7rO613GeCibWwCqvFPK909S6NFyBBCMHKSkxaTNjK8s1MXmwo/xxZrJV5jiqVhMKsukTAO1asmsRl9HobVRZabcNQFjooW/Zj65cOG78MzA+rwvyE1bARj43NmJe6CXNShvBl8mZMj1+PyTFr8EXkanwR1Y+pceswM2kzZmfsxNzsfQfeDep8FxR8A5+CTYhW79D0qkFJCljetk08cSR0xAIvznrp95z3n22BAKKpcxC9FX74d+TPRgEL6vvInyM4vlBC0ZiMk7l4+Ezy+eQ2zO3DouMjT99gw/9IDrAezXRWQQsmydINveXLV6CmpsvEODwS0aWfYsWRwcGvz2rp18LcdToaJc99EylW72Jd/y6UBbuhMtIfA6t3oNBzKZLnvYVkq3fQUVGHEn9HxEx6FJET70Xm0i/MbutM09q1e5CbWwF//1B4ewfC1dUDy5bZm4UYTOjJGHW6fetVSWhMsiN/sjrzlunsmHQDWA85YA4Ln1rzsdhWWcOYG9GE2S7RUg2EnWnH2Cp4pLdI2AU9KwRWNO2WfBKEAbENu/DYKx8iomoI9zzxqnx/YcJ0Wf7kG58YAAT1zLtfYPqKYPn8xBsfyzpPvfUZUrv/iUdfmSAJOu9/9k2BGFwnunY7nhs/WT4//OJ7CK/chGffnYxZTpHicUEwwt/NdorStvnaRPjmdsM7p0tAh0itIwBDyneqd1j71xJGosGLzeJ5wfVdkhpgH1MN2+wdYoCYXp/vEFXYhrq6evT390uoAz0HCC70MIfjOen3Tfe64H64P3osEHoyDI3wgoCAXg0s0ZqYmIjguHQ4pXfCPmcIS7OHsChrC2xzdglwsCaYEFCxTwxX5u+Yk7ZD/nLUdV62MrrUcuvc/bBRRvGCrO2wS98okGJR+josi66Ck6e/VPcKCAhAZGQkkpKSBMgyb0RjY6PACoICAhaGtxh7V5yscBDjieVq9fdufHqpoaOmd6hphLNTTUOLyeGK23cjrWmXVH0wbQMHkzJa6THB3C/KGNSM1k2wju3GvOAyzPNMEQA43zPZYLTaKiOSQJBlgekZtDgoR5MyNkXqM6vfcBnX4br8ja0PDdAszA+vhk3iahlNn88wARlJ36V5aBwMYhBaqOXM3/Jl2nYxTBc7JKP4vqfgO8ceq7yiJfFmsCTebERu9RpJjMcwgDPBVdvYkDJ4VijDqKJ7L7Jb96j3zW7YHW74h7qWByDFZlinrMe8iHrM9UjSqil5Jcu94r3j/SSUIJAgiHCIq5QqRyzb7JrSoJV/Vu9YhtsRDHuz/HN2l1ZxKadbU27PaKl5xqWhzZWFZmlpeqitiq/SSkNHlgjUEKDB0tCqHVoHl2NeXA9mx/djZkwfZsatxcykTfgydZuEj8xV74pRMHPMdXDJ34LI4rVIqRiQnAQMHRkLLwiHeM1P57Zj0eFr7LuV3kvN7d0YKFxgAiuM5RuegsjUKinDynbENsQkodyWuf1YdOyiJ4u9srv5/5FJOPl/+mgmdQfPjokdMY7S8ILRuEtIyDRrEB6OjEHFunX7xVtjzZo94tK/evWw0i709VE7z0jx/LTzHJZzXrNmr+rY7lfX4iu5LscDXhBaxE97DvUZqQZo0ag6y/EzXsCG9V+jPj0FibNekXWrYkKRu2qOyTbOFjU1DSA6OknKqnp5+cHJyUXKqpqDGHSt5gglDRFCDHb49dKqJ7ODb5nOrEk3fPmPSKqE7NyDqIPksLBSBtecwFKpCrLAL008GhgK4qMMelYAiazZIp4VAis6vxUPBnoyEAq89NGX4tr82KsTkNT+NT6c4wDvnE5MWugtMEHX+OlLpfPOz5/beqhtd+PDeavk+1uTbbFEdaYfe+0jAQucF1jQL/MJMV7+aJaEkXwwe4WEhXDUkut8bO0inXF+phcHvTAIXfhd1yh40WMEL5r3St4L5sNgKVbCGYe4atgqQ3++mXALhmAkFdShvr5BgCPLk9ILgkb5ifIe0O8hDX4dPBEEMLcGYSe9GZgolGVZq6urJeklAQZhAqt2BEfGwT22EA6JDViathorQxrh7F4MJ5cCODrmwNGBI741ysDugE1CDxYm92NRUheWRVVgZVAq3L194e3tLZCCIW8xMTFISUmRfBV8Z7EiCPNtMHSFx8J3l14ZRK+qcrK9K4wnhqvo79ni+gHpqB3oVB8YZWfJyoymYXiWHyasoNGae2Bk3SphNeb65mCuW5yEKi3wToWdX4ZAB8K/ZWGF0k5l5DxWGa3KkHRUBqVTYi1cEuvkWaORybK9lHyn1DKuw3VpfDrEVojhKwao2uZite2FAdmw9c2ATWgZbFLWwUa8MVglZ4zHDY85/xvxrqHL/wxlnDIEgKEAX3rnYalvGtxD6LlTiuSCNuTXrkNlx45RSfFOV8Nz1D0fGfmt7tmHnNY9CK3Z84MlhUX0psge1iBF6ibMC2/AXPXeI5BiqIbc76AcecctjyqRe0VoQDDBRMUEEgQNfI8xvI6JgglNg0sHEVI+Uv65Uiv9HF6llX9m+J2IlZJ0jcxj7iCuw3X5u7CKjRJixyTEwSXrpJoSPeOYX4jvWikNTaiR2qTaVJ3Ak+WRpRKuR48Mgup5QSWYl9CPecnrMS9tC6xy9h0UWBhrRf4ORKjzSSlfg4L6QTE6a7p3i+HZMvCtYcSc9+F0bUMW/bD0+8t7zXcGgUVLSyM2Z79rFlQYKyAwRN49aSVdkpCTuYTo3cVtmduXRceuqvathv+PTNFwtJO6g2fHxJEi/YIxP8DAwNGFhejAggZ6+5qdSOhajdj2HkS1diK8qQ1hDa1KLSNqPkPFc2tFeGMbcpp60dY2hO7u7QIwCC+OB7ggtKhJjEKK1Tso8rYXaFER4Ydcx7myvLepBxET7pTPZzu0MNbg4FcoK2tGSEi0hJIQYjg6OmPJkqWq7ZtCDI5kMumeDjE4skoX6xMxomuZztxJN3hpPO7Zuw953XvMdjitMndilm+uJNtk55Uux+zY0rsiXBn00Q3qndq6D8kd34yCFXrox+EoXHWuP7fzQnrvv8wuPxnSvS+MPS8YNsKEoTQG2NH3yu4QA9EuY5MYKWOv1ZL8ncgsrBBIQCOd8IAggWDoRIIL/V6OhRf0ZqDXBz0WGX7W1dUlZVoJE+iBQY8uhm0QNBA4lL/22qg8BlTchAni/cVQD2YPDw4OluSVXJ/eG2lpaeJNwTBOvpd0UEFYwncUc1YwDITHQlhBQDYWVpyI6/JDE/fJxKB8py5esgRNqgOtd6g5gqd7VxS07UZU7TAWHIbhKhVn6E1BozWyUUbWNaM1VZ6dJcF5AvxWRpVJzhTmWeGot260cmSc3kCsiuNf0CdGZUDhGjFgaWQaVEStkWVch+vyN+JJpLbBssLcJrfNfXBfzDljGEkPyseC+C7YZI4AjHwtlIQGqISIZO/FrPQdmJE4hCmxA5gc1Y8pEb3q92XwTaiQEqfZLHEqSfF2i5Gvj3qeTobnASNqtEdNXvtexNbtge0PelboHhXqnqesx1yCXR1M+aQJlCKk4DuTUIngSe51Vod4RAQU9AuYIEggHBUQod419CKT0s/q3cqkwSbln9X7lkpsZYWkg0tfTy8LHS+li4elahO3r5WG3iYJicMqh8RbjhCabYvwxDu7U2Atj5sJignDlqjzYejKguBiLEhaq7WhnGGz78Oxcs4bQmRRP9Ir+kfCRrZLUkW2H15/45ARc/fLotNb2rOmvV/5vm1vrsRw2gNmIcVYBfu7ITi+WPJaMF8KPbwIPizQ4sQps7jZYHdwsONoJ3UHz/yJHRsm7pIOxeIlKClpNDH2Dkc0xCkahvSsiGzvwrhKt7NarxbFo7i4FfX1a9DRsUXAxfHwuCC06GnoRNayqUic9bJAi6acbKTavI/u+g7UpcQjac7rsq4FWhxchHNFRfXKOIg05MNYtcpppHqO+XASvlA4mknXa738Ig2XH2sE0zKd2pNu5NJ4pCHZs1EZZUWmRplV1i7M9s3DPPc4cRmmGzFH42g0RVZvliSWTGiZ2nV0sEIXPTFY9cPcspOtUZ4X3d+L5wgTdtLrgp16H2UYOifVwy5zsxh6Y6+ZS+4AikvL1bu1Qwx2GusnKkzEeOK2Ke5HhxfcL0PLmPOCAIWeDgQYfE+w4gkHBpgQk6CBoRJ1kyebQIuc994Tj0d6ZqSmpgqgYL4MhnzU1NRI2AchBYEIc3pw2zxvwhJ6VRCo8hjMeVacyOvxQxOPSX+HOji5GjrUNJ6YFI7lS7Oah+FSdvAKOppouO6REfa50a2Yo4xWggrdaF0WWijAgIln6SXB54cu+zKiXnjAaOVIOkfRdcOVxiSNVxqWNDDNicu4Dtflb2RkXYzPjVpZ3+IB2YdfXo/sk/vmMTjGVYshvTRUGaBBuViQ3A+brG1awll6W+RqZX5Z9pKhADOTN4v4eZFaNzCtCUkFbVo2/9atAi54zXjtdKPzVDc89futeVdooSDl3fuQ2rQHS4p/wABn3peMbeqeb8Lc8HoBFVaeiRLawxw69hFF4knBEA8m9aXx75/fJ8CJ94X3yFD2eQRMECroIGJs6WeKEJUSMKyr5/uDS727jNfVfy/bU9vl9rmfxJEKTQQihCMEGlLJiTBDtSceb5A6bv/81aMghkNcFewJMeiJEVkNm/Qh2IgHj/nwQoMKvoVX3jrEFq1GdlU/ips2SWJFPWTE4nVxZurA8/YvtKzZh+7mInydcLFZQGFOkX7LEBRbiOTCNhQ3bkJd7x4LtDjBCo/NMPyP5EDM0U7qDp75EztB+sVyd/cWg9qcgfdD0r0saAj29u5EcGOLWUP+bNJT6cGIj89Dfn4j6uvXqs7mNgmX0fNcmLuOh6M8Z2usbl0jCTaT576BhvRkrF+3D2l2HyF75UykLfhAzUuVdRsyM1AW7G6yDYtMRdiWl1eNwMBwgRgeHj4jST3NQwyK7tqVlZUy0skRX914otHwYxsLlunHn3TjlnB4+6498K8z7Wha5e6TkBB6WCz0z4JDTAU8M9sQXLwOkbXbkKA62ez8snNMA1/3VDAHAk5H6fCCBgA7+0lt+6VDz9wZNDidlfFnm7PD5LpREVlVUs6TYIAAkWCIz97JgIj688198R7Ty4MhKrzXPA5CBMIEhq8whISQk14YhCxtS5aYQIuyN9+URJoEo/TOIKQg7CCg0L29mKCLQISVTPie0UEF92mcs+JUgBX6xGPnu3LhwoXwC46Wzq8eGlDVvQfJDbsOXcKSnglZOyX8Y25oNea6xkkCWHpUEAasjC6HU0KtJHMVSJHfK7CPRiBH1enCH62eI8IHtittNF0bRZeRcmVM0qjUDVhz0pdrhqc2sm5sfArYUPvgvrhPARkjo+gc7eex8RgJVZaoY7aN78ACho9k79Lym+Tul3wmzHEiYm4TyWkyDL+MNiTktyKnag3KWreIu78+Yq4bneY6wqeCdAOKBrLmXbEfeW17EFC9z/y91pX/FVjpwyppLeZ4pkl1IoZ+LArIlnAcggqG7TB/hHhSqGsdUjYokIIQQO61AIq9BjihgwkDkBDowFC1f8l7VUQYbE4j71yzMre+ErclQNYgDW4YAw29TbE9SVtq2Cn5iggxCG4JMaQNZXZImWhCMHphLA7Jh23SagMAO2j+FKUl+cMIyetBckm3hBoxWSe9LpjsVmtDWriRBVycGTJAi4Gv0NNaiq8TLsU3sedhX8z52B/1J7OgwljxftYIiMlHknrnFDVslLaiQwtLGzn+4nV1dvWU/5EcMGU/5mgndQfP7IkjMj4+PoaLVVbWYtaYOxzp0IJGOcMh/OsazBryZ5MejPWAv38cUlNLUFHRjfb2zWIYHyu0OJTWD+w1O9+iI9fq1TuRnV2OgICwkXASfzg7u8HefrnZnBgUk+gkJCSgra1NRkJpaBBkcPSVhsXJMKYs06kx6QYtjWiGEFT17zbtVBZ8izlRLZjjGiux2DTA2BFniERU3XbxPGAHl8BCOsOqk6wb+/S6oPSEmYcSO8+al8b3ZpcfShpMOLbfcv/mluvSO//6cbIzH9s4LEYIO+2OqW1YkGdq6CzN3YqMnHwx8PmsERLwOaPhfjKfM/1ec7/GAIP/Y+mJRYhBLwwCDMKLHn9/E2hR88ILEj7CHBUMLWGiUUIKdmJ4Xvw9IQW3xW3qHhXGoOJUfL/QS4TvRkKLmJRCA7Co6NyN+LrhQ+YxsM7eDavUjZjjX6DBCu9k8aqwDy+WUAwackyYyBCqIPXMaJBiq4xgs/0YRtWVYUj4YGK4cpScxqTI2MA0p5H1RkbWx46m68Yn96mPogvEKN8oXh70AOCxMpSEx74srAgLo+thk7lF8yDJ+9pI3xjK4DK5qFd6O2JzmpFduRqlzUMGcGEcKmKuQ/xjSjee9DKLVT37kKauzSG9K9S5SghIfA/muCWIJw29KhjuQ48VgVNpLRKeQzBFw54hF+JJIfd774F7bbjP2r0VKKFkAAvG4GFE5t5NxyKTfYzsezTQ0NqT3pZMIEbNVtWutTakAYx28eIh3F4aVgjb+HYsILyQ3ClmrilV8B08stcgJr9LtaE+lDRvRnXXsHi90CDlqLzFKD0zxHsoeW9Wb8VQ0QwMFC1EW74zyjN80Ro73gRS/GfM9/SA6QZoUVi/Qby7CBwt7ePEqLZrh8F+cHNzG/mveXSTuoNn9mScy8LT0+eYDOkD0GKv2u5W+NbUjTLgf1bijHOyHHBO9iqcm+uIc/Oc8Dv1IIkKXE5fjZwDz+cXhc6jzvmeSGfVCEPE26KsrB2trZtOOLSw6MSJ9626uhuxsanw9w+Bj49xSIn55J7U8uXLxeWbnXcmDqRHhp7ok0YIjQ4aGqeasWGZjm3i/aQxKV4WO4fhUmlavo+jibOdo2HjkyIlTdkh5+iaAAvVcU1hp1t1avVOtnFnmKO5DCVhbLRxR9mc2AEmEHFUxpK55YcSK3xwdI8jm+aWH0osxcrcAszNYW75WPG8BFyoTnxyx9eSdJQeF8zSvzx9tUCesdfQP61aQi5YMYMeDQREJ8vbQu1A08jn/4zsUwACAcYIUOAzTsjA550QYm1qqgm0aHrkESmdSs8thoAQdhon0yQEMYYUOqg41d8dDHUhsLCzs0NWSasY25VduxFZawbi6WJYQNpmzAmuxFyX2BFYkSPPiFN8jeQroOEaVDwgUICGHQ28OIEUB0bWR8MJM4bryHN1RDL6rb49MT6NYcbIKLpufPIZEuNTHStDFxj6xGed52IfUQw7el5kbT8AKhgOpUuuyXdq/U7EZjciq0IzOgkuCANORXChAwsdUJV37VPvAubyOQigUucsyVQTVmOOa7wGK/wysDSkQIxzGun0WCGc4nuPngj0puC15TUefb8P3Gtz99jce+fHkPEx6W3JuB0RYggMU+2Z7VoHGCx1TWDDpJ7uac3ifcFS1naJ3dKGCH7MXmOl5TlDCMvtQHpJl+S60MNFmAjXAi7ODOnQgrCQ95ZlS/Nq1iI9pxTD0ReOAhTU5qA/49vwnxu+FwR/gsDYAhNoISDE0jaOu1LzNKhPMe/VsUxnNLRgZ4dJvvSLVVrabNZQO1yNhRY+1bWjDPi/pK7Akyvm4RknGzzvuRgv+6/AqyGOeD3cGa9HuJy+Usf/WqgTXglciVtiVo4657sjnODiEoiYmBx1fdvQ2sokbYeAFoZ56q/+Wf5qnzds+MZoHW2ZzBtZbvK7keXaOiO/N/qt4bP6ncm2LTossWJMfn4NgoOj4OcXPFJm1RMrVqyUsJKDgQyKCff4kiI81MNLGAfP0VhLnozTf+L9o5FJo7NpYJdpJzL/K8z2K5A8E0tD8qVjHljYLzHzLAd6MGChd3jpBv9/v/oNJi0aXR3EnNixv/OxF3H1LfeaXX4oxTUN44a7HsFtDz5jdvmhxNKrV958N+57+g2zy82J58YOPMGFeFyobYSWr5dR6oW5ptdxWdZGZGRlibcFn6GT6W3xbXc3vhmJQf1+82b8c8MG+fxtTw++rqsT/WvXLmkLhA08LnpdDVZUmECL1jvukGSbhBZMrkkAQ8ihh31wG7p0UHE6vB+Yp0OHFqXNG1DdvUc8LA5mwDLh4rzENZjtypwViRIGQs8KVoBgrgi2e4K60YbrfsPo+lhIYc5wpcy1vSPR2O3p+zFnfGoAQxmfBBh128WDKEidg29ej+QuEHgRVQ7bjM0Hz1WgDHuP5GbEZNUjq4IeF5sNOS5OpcSKY4FFcefeQ4aDiJdJ8iDmeKRKGAg9KzRYUSmeNKycRNBDbwMp9dw4LB5oAir0+63ek7zuKR30VvjWcE/M3bfDEX9LAEKvL3PLT4QO3o7GAoyRNqTaPyueMI8KnwsNgJXALmUtbFh29yDP1yL1Dg3KbENKYbuEi9CoZYUIC7g4M2QMLVhxiJWH8msH0JI+fxSsoL4J+zm8V0xDo++d+Ffk/5N5lWHvISShWHJaWKDFiZdf0IHKWsyXdyzTGQ0tGBOrX6iVKx3B8qTmjLIj0aGgxXnpDnjeYxFeDliBt2I88F5qACbkhuGjwkhMLIrGx6eheNwTC6PwYV443s8Iwt2ZXqPO+Z4IZ7i4BCE2NhclJa2HhBYb1LXrKK8RcNDfMYiehi6Z313bhnWrd6CvdS3ay6rVOtXo79xgWMZ5nZX1ktNibfcQeuo7sWHwK9nWmu5N2m8q6jC4dlg+r+naKL/trGpQ9+tr9bv96nOjWlYl214/eOzt4GwW7yvLrKak5CEgIFRAho9PoOTH0D0y9OfOnFiONTQ0VJLv0T1cDzFh5RK6h9N4sUyn/kRjksYlDU7mHghrMO20z0tSHXWXaDHKHOMqxZuAxky86pRKZ/wgwMJYF155vQm0oGHEzj23YTx/wuyVAi24vei6HarTr5U0NRaritAQpEFgPP/1z61NoMXB1qXY4ecxsMP9/AfTjghaUDxGARcMFWn7So6Xo+pOWavVtTPtjIcnankgaOzTk4F5HnRD/0ROG995B2vvuQffMxmmvz92ODsLpNjwyivY+OabGHzqKexS8zkZt4cNnZ3ou+iiUdCi65prkJ6WJpVBdGhB4KV7jZyuE0tJE1jY2tqiqmM70ht3HbRCCBPSzg2rx1zXGMlhwDKlLE3KEWUa+DTSGHLBUWeGArBtGAzX7pGcLyNGn24EmmtfJ0r6PkXGxqcOMOiBoY6Zx07vC4IXhoLx3HiO9CpYmLwaNpKnwPT62OR/Be/EasRlNyCnqh9MzqkZnKeGUaEDC3p/EFiUdO6BZ8XBIMx34mkmeUpcYqTUJ8stO0RXGGAFQyL4TqSRTm8DKfVs5FFhuN/qerNCSGDhGqxS7WXsu+9IxfvBffN+cD/m1jGnjL4fDtU7XBm3o7EAQyBYy155Dvg8CLzI7xV4Qc+LpTE1sGXIyEG8Lmzz9sFftbek/Bbk1Qxo4GL1AXDB+2gxUE9PHXgGv5fwH3rTlNa0Yl/sBSbQot3/Ztiu8IG9kz/WhV0n85qj3kBkWhXSSjolEacFWpw4MTTL3n6F9P3pkc3BymOZzmhowbJpuqGUlJRl1gA7Uh0KWvw1wxEv+dnjjSg3vJ8ehE9KYjCpJhmTGzMwtTlTKWuUpjRlYmJBpGiq+jx2+YnW51VJeDPSFR/mhpldrikTU9Txf1GXik/L4nF/YeCoc2Z4iKvr4UELwoKICbcLoCj2c5BKIPSAiJ/+vECJrOXTJOlm0uxXUeC+SCAHq4jETXsGUZ/ch67aFtSnJSNj0afoqKhF3NSn0VJYhIgP71S/eQ099R0Ie+9mFPs6yHajP30A69bsQntpFRJmvCDbogZWbx91XBYdH3V3bxWPDJZb9fYOGJG/lBimV4b+LB5MrFzCUVh6ZdAbQ5duoJ3ORs2ZOBFacKSf/4S2bt+JJSVjwxq+w5yAYlh7JolrL93d2fFkOEVSx9fSUdY74+Y6tLrGQguX5AbM90rGAp9Uif0PrxoyLCO0uOqmu2Vkd44YCcnivaAvZ2z4qtgKLA7KwZLQfCnnqC8bCy0OtW6w6uwvDMzCTIcwGR1/7LWPjhhaUDx3dtZTOr+TDnpE1RYxJuzyTQ06l+Q65ObmSmJp5oGgh8LJMPYJLagdjo4GaLE3PR3rX35Zln/T1oY1N98sn3VowWPbpJ7dviuvHAUtqDSWQy0vN4S6nO7Qgse9bNkyARZ2CxehuG0nVpSYN6Sss3ZhTmCJJKS19UuXsCLnxDopf8uQKbZlGvocZT/gVaF5VOiAQDf0zLWnH0P68ejHZ87wJPjjufEcGQLB0qlLkruwIM88uFiUuRkBiWVIzGuWkXKOpNI4Ma4GYa6DfKKlG7r0+qD3R2nnXvhUHSTPAnNXpGzAHLdEWLknwM4/Q0J/XNT99lb3m54VAivUtWEZ0VFw6iD3+9GXP5D2wncVDfmx9+JIdOejL0h52xc+mC73yNw6Y8X1eA/NLTtWGbcjHYIR3PA5oBcdc6jo8IJhU+6pTQJ/FqYOHBSA2ebuhn9KvWpHGrhgO+LI/OmQ4NWig4v3TYcWTLZKaNGTv9gEWHwb8b8IdJuP5W7hcPaLR3BoGIajL0JP3ItIyG1EdkUfSlu2SPUQC7Q4MSquX2Po43Ow8linMxZasOPEhB+8UEuXLlMdvfUG4+pYdEhokemoeVnEeuLDnDB8VpkoBv+09lxM78jDjM78UXo73hvPuy3E0w7WAjnGLj9ideRjYn6k+WVmNCErFH+57krcO+Mjs8spHvd0dfwEGJOqk/FgSfCoc7430gWursGHBS2oNNuP0FZSjhTr8QId1nRtQsRH96CrtlX9vVtAxcDqHQh953qs7dkqkKEyOhjpdhNRl5Ig0CLF6h2BFE15ebLNjMWfyXxCCwKQ2C+eEE8OHVqkzHsbNfGR4tlB74vBtbtNjsuiEyN6utTXr0Zycq4k+tRhBr0yHB2d5dnUX2jmxNATlisuKiqSXBk6yNATfzIO3jL9OBONNY700+hsGzCtfGGtOpIEB3Z+mVgVXy0J1ggC9DwWMoI40hk/lMZCi8uvvx3TV6h3Qs/3uPqWe/DWZFvDMkKL8y+5Go+/9pGUCrzv6ddxkfo9XY65/NVP5uGa2+4Xw/D9L5epda8Ckwpy2VhoMXpde7XulbIuj5mA4rLrbxOg8fJHs3DhFdcfNbQQQ0910JM7vpEwEXbKHXI3mlzPpRkDSEpKkpKi9E5iiAjb/4kOESGw2JedjYEHH8QOZZwTWuyOiMDQJ5/I8u+HhrD6sssk1wXbBAEEoQXBSp/6zVhoke3hIYk4CSdPJnw5UROBKr0sFixYgKXLHeBfxbwGo+8dxYSbEirlHi+eR0y66JraKM8Fky0y0SLbFw19c6PsP/Ss8LeEdWPncztMfEu4Fla5yWQ5y5iyhCorVGSO7IPb8sxoNYgeRZzP7fA7jUbjbejSj3Os4al5XuyRcwwt2yDnzGSdy5I6YHOQ5Ior1LKwpDIZDS1q1DL8/9iGhQYs/iXHUdW9F34HARYMB5kX14M5ztECWBcH54p3BO8Pc1YwDISeFUdyvwkzLrvuNsl3QQ8werAw8SlD7XgPmfiS15ShblzfQ90nem1wewSu/I2+LYal/fXCy2T//F2Yan/MIUGIQq8YrsNtSpWPaq1UKT0sFvim4bVPreR9SpjA/XFdwhY9HxA/s43Qa4x5fnh+rDLDXCfcNuEVj4leJjwnc212VBtSojca348CL9T7mGEjBgCWUIuliR1YkGs+f4xdzi74J1UbAbCdGgCzgIvTVsbQoqF/P2pb+vB1nKmXRUfgXVjpEQm3wGQExOQhPLkceWlh6E39GBml3SioG0SlHjo0kqzV0h6Or6KT8wz9eXpYHut0xkILll3TLxSNJXMG1dHoh6AF8z68He8l4RSfVyeJsT+9Ix8zuwows7vQoBnq+28v+Cumd+ardSNw28dvYlJNioSVfFIaJ3/HJ/vJelz/8+pkvB3nhXeTfAUmyLzKJLyb6IN3ErwxrTVHll/53CMSlvJxcYzMZ4jHWzHu4tXBefy9vj638fCCqbhv5kTDcZlI7Z8wZFprNibVpuLB0pBR53yk0KI8xBOlQS5InPUK8pzmoSzUExmLPkNbaSXipz2r1vlWQj8iPrwDfS3K2KWnxdSnEf7+rVjbs1ngRORH9yBm0mPoa+6VbRpDi2Srt1Ee5o0C94UGaBE7+QkJDclzmY+w925BV82x5Tax6NjV27sDRUX1CA+Pg49PgIgwg7kyVq50OGSeDIoVTJj4kwYcQ0tYrYCyhJicvMnYQM3pYPz+6M4iY/bnKQONuSzYeWWHlUY5QzYkLGRMp/xgGgst6E7Pjjq39dKHX+KW+58yLCO0+MWvfysdcX5nGMlPf/bfcIgpl476//3yN5IUlB1n5pD4mVpGA5LrGkMLrvuLsev+t7YuO+w/+X//DysiSwz7veaWe48KWlC8DjxeGi7slNNI8Mhfa3I9OSodFR0jISIsf6rnhTkZ0OKbpiaBFWvvuEP+Mo/F+ueek/kEGBtef13W1dsEE4XSi6Lv7bdNoEW+MvAJIVl9iACS7YeDDKcjtOB153nSy2L+/PlY6hJgtlKIde5+zAkul+dhIYFFdJmEStDdn0lYY1RbZrvSPSuMjVdzbWa0tNwv05cH4W8XXj5qGdsVq1Lc8fBzuOrmu/H6Z9biJaQvp+H4+GsTccVNd+GBZ98yJJOlMXrvk6/hvAsuxW0PPSteIZx/w92P4NJrb5XReX0b5iRGp7Hhqc6J58Zz5LnynHnuvAZLU/tgU2DqmWKT/zU8IgsQk1GL7Mp+VLRtk6R7P1ZSTt1QYngBy5pG15kf3SecmhtaI+E/C3xTpYIKvSO8czrBPCVMNMmcDQQ55mCFuetJsXLIxVfdJDCCv339Myu8+slc8Tij10Syur7/uPxaAQsECgQc9BAjIL7h7kflN4ZtKcP/L+dfLO9krvv025/jvZn2mOUUhYdeeFfWGT99icGb7Pn3pwk4eP1TKzzx+kQtQaxqR+f+8TxZlwDl1+f+Xj4TfPztossxYa4D7nzkefHmuPuJlzHNPkjez6+p42Y7YBgfvUwIlvXjGiu9HY2CF/S8oPcOAVj5Bmn7bLf2CQ1YkGv6f4hakrERgYnlEipSWL8e1V27JLSHHjMWI/X0E+8ZAQNDxmp7d2OgwDSXxbcR/4cQ72VwDUhCYIx6j2TWIqWoHZnlvSiuqJN2wNAzQ5UiC8Q67mKpYVcPX+mzs0/PQYpjnc5YaJGdnW0wcAoL60yMpqPV8YIW09ty8fvLL8LbcZ6Y3JAu814Pc8Kv//pn3DvjQ/ztlutw/p034sPccExvz8P9sz/BP+6+BRfcdTPeSw8U74f7vvwYlz52H8678Wq1XgT+cv1V+MXvz8U1Lz2BxxbPxK//9mcBEr+/7CJMyArBPdM/xGVc/6ZrBHBwnycbWjBUg+EehAr0nIib+gzKw32xun0QMZMeRUdFDVoKCuXz4MBugRZNOTkCLhhCooeHVEYGIHvFNKzt3oQUgopQTw1azHsLA6t3IuaLxxA58V6BFrmOc1Hi7yi/j/3icQu0OEXFZ6uxcS3S0grg58fKJRrM8PLyg7Ozq5Rh1Z/pg4khJszk39HRYQAZ1LZt28Qj4HQdzT0VJ15LjvQzf0FUo+no8tzwegnP4Igy3aFpqDDOncYLjalDddCNZQwt+FuOCrOjulIZfg889xauv+Mhw7rsFF981Y2G79Tv//xXyavB0blx48bh0wVuEl9OMfmmtVeSrGcMLQzr2hitqww2hroEFKyWZeyo6/t4/NWjCw/RRYOFxgtHJdmR58ikTcE3Jtc0MCIWBQUF0r5ZmYdtmoDuREKLbXZ2+K63F//auRPrX3oJu2NitPmqE8LvFOEFJx4Hj4feBzy+/tmzTaBF6eTJyM/PR0tLiwBHth+2o9MVWhAg0ctinpUVrEIrTe4Zw6TmRrcaSv7yeWBVDSakJaAiWNNG27Vkiz9kvNKAY1x/aNl6+c5tPPXWp7jujgdVW//bqHVDSgfxy9+cK/lk+J2A4sFn31Kf/yPP0uXX3ybPDJfRK+ovF1wizyi/08BmO18UlC3faSy+9uk8vPjhTPl+uBLDk+1bnZvkb1HnynPm88NrQHCxONPUs4hamtiFwNh8JBUwy/96ZWAMo1mScp7cEVEdWEgei/6vkN26x2zOEuuc3ZgbXCHAgqCHFYkIgPzy+zTvCob+0NNMXfsjh1Oalxm91fj5z+dfLO9BekNcpubznTp++lJ8bO0seSoINJ54/WMx8D+YtcJkW/S04HHw829/90dDElDCDs7je47eEq4pDbjl/idl3tRlAXhn6iLDNv741wvMfv6VanO81/zM8/2degdz24RkfMcSON/64NNYGVOuefiM/O5gkjakpAMwzXuHSV+HEanaP0NtPDLasDKhQUJCxt4XanliB4ITSpFa3ImSJuYx0Dx3LIbq6Sfes7aRfBYNzS34Z/RvTKBFa9ADcPKNh19kDqLTa6SaDD1tSpqHUN66VUKFCCwYLiQeXD9y6NmZqKr2rYa+uYuLy3Hpp5yR0IIjT56ennKh6H7e07PVrJF0NDpe0IJ6eMEU/P32G/DUirmYkBMm8+749B3cOWm8fGYlkpvff0W8JX593p/Eq+KBOZ/h6hcfw0cFkfjbrdfLeq8GO+CDrBC84LUEN77zomH7f7rmMrwR4YLxKf7iWfGk2s8HmcFqG5/ito/ekHVOJrTg94H+XUia+yYac3LR09wnn9sr6mRZVXQwkue9KeChITNNfpPvYoOOqgY0ZKSi2HcFWguLUeyzHIMDyvixHo/GzAxZn+Ejq1v7ke9qI7+rig2V+QQfq1vXIlWty+9Ub1PPqOOy6NTW2rV7UFHRptpYqgFkUHriTyb21F+MB5Ovr68Ye0z8qYMMPcSEo7yW6cgm/vPhe1avFBFYazrqODewVDruq+KqpNMeWbNNRtjoEsyOurnOqTkZQwvGwtOTgt4W/P7mFwtMoMWFV1xn+M6O7rl/+IsYZPSYGPdf/yXHoi831mhoMbJuXq/JenTJpjHHEUV93mOvfHhs0GKkQ84EfKwcEFK2AQsLTBObeoclCpDX81oYlz49FSa9XdADhLlo+p2dTaBF9dtvIycnRyqh6GEuJ6sSyvGeeN0JX+hlMWe+HazNVMWwztqp2l8sbHxSJWTJLbURAYWrDcCCZW/p2fNDBiznc4SbBim9IiYv8ZP5tr5pWBZWgE8XuJtAi4/mOcrzo39niMLPfv4/EhZAF356DPE4uIzhA//7i18ZPI+YGJbtnHCQhqKNdzIef/VDw7aORDx2nhvPUUbLWeqX4ELtm8axS2oLFuSbhlrY5O6DW0gGotKqkV2xWpIp0sjQc1uY6yifCNGQIShhHouKrr1YWWoKFOlNMzekSoAF81esiC6Fe3qzhFkQ0IyGU0cGK3QZQwvea2tPVp7JEPG96pbSiNsfeg7vTl8s1/iiq26Q0qpMXDl2Wzq04HH85tw/SElqbVuZAkDueuxFTLRykvt+831PyG80aLHQsA0dVHB947ZnDDAi1Lv0j3/9h+E4md+IAIuwiu/bOx99UUI/9PUPJeN2xPOVkJGWvYiu24bgkkEJF3FIVm3JXK6Ugm/hHFmKiNRKZJX3gqPsWlvSRtjN3XeLTj3pzyJBQ133dmzJfMMEWHwd8UsE+ayCZ0gawpPLpIpMYf2gvD8IKmp790pICD0s6DnFNmAJDTn+ikkpMPTB8/LyRv5rHtt0RkILumvqF4qjtOYMoaPVcYMWXYUCAZjz4uqXnsBFD9wh8wktHlvypXym58XlTz6ANyJd8Is//A6XPHIPLrr/Dtz07kuSQPPypx4YtU1z0OLTigT5PLUlG8+52uGWCa/h/Ltuxk3jX5b5JwNa8C/F/Abr1n2FgYH9GFi7C+v71qjP+6SqC9fntdV/Y5FFPyQm/iwoqEFoaIwBZDDExM2NISarDivEJDY2VowOC8g4sskYWrBKk0elmcoh/gVYGJAFp8Q61XFfA72ahxhnR9BZP//Sq8Ug4+fxM5bikmtult9ztO0xZURde9v9hnXfm7EMvz7ndwagwLjn//6f/5PknfzN7//yd+l46/unQUGDkZ9f+XgObr5X65wfWNffZF2OHP7y1+fA1i9D5rPTfN3tD+CeJ16V70crdsZ5TjQowyo2YXGBqfeKe1gqMjIy0NTUpJ4BLbTiVIQWertYq56vsdCi8fHHkZWVhbq6OgnjZJjL6QgteKy87g0NDbCyssIcxzCT+0XNDamURIxLQnIl/p7lG9k+OUo8CliMtDNzYjumh9Ez70zC/c+8KQbw2HXMQQvCjXufes3wnUlwCSIIL+iu/8vfnjtqfXopvT1ilOrQgp4hLMfK/C7GeRGORjxHARdicH4tgI55NjjavjxrndnrZx9WjKC4QjE8ikdGyBl/frJGRbkP7ouGDcNTouvM5CxRBvHcyFbx6GI5U/GmSW+RPBGRNVvEe4UGtsG7Ql2HQ91vc2ISygvUu5CVZpi494Hn3pZqJPTa0ZNjcpu8hxPmaN4zT735qdx/vluMt8Vr/ofzzodXZrsY/4QHDCUhSGD+CnrV8L3LsAuCBoYWMbyEAIThIQzL4HYuvvomKWPN9c75w59kPj2AzvnDn8VbjOtw31fdfI+0X66nh/Z9Zusunhxsz/TyMD6+H5JcP7VdXk+GvySqd3J0/Q7xLPLO7sSKlC4JLxp7n+xSN8ArPFsq03DUnWEiWjldi8F6Osj4WSRwaq/NMAEWVE3gs3D2S0RATD7icxqQW70G5W3bUNe3VxJ3EnjwHcKErPSw4P0/We+Ts0Vt6h45uXhIX3vJkiXStz4e0xkJLZiZXDdM0tOLTIydY9HxghbT2nLx0PwpkrOCuSzOvejvMp/Q4o7P3hHPiMcXfymQYUJ2KP5xzy2YVJsiuSlYxYMVPy64+xbJdUGY8FlFglQuueblJw37+MMVF8m6/Mwwkz9fd4Xs91G76bjxbQ1uPDhvEu6ZOsHwGxMdI7QYDSv2ob9/N9Z1NGFTfRyGqn3R17dL1tfBxakALfTjPtNk7lzPNPH5ZDnWjIwiKceqwwwvL384O7th+XKt9NLBpOfKoFGogwwahxaQMXrSjVN9RN0ctJjrX4BFQTkCDNg5ZUeVHffDhRYcvWPlj/MuuAQvT5wlidwYv814aXpvMIHbHY88jytuuEM8I9jxfebtSapjfw0+t/OES1IdXvxgxqicF5/beuKmex4Tjw129unuTkOOx/fIi+/hypvugs9IkkFuw3TdHbLsxQkzxRjgPuj1wd/ddM/jAjb0fR2pBFoQirTsk5HZJWaghWtYqlTYoaHMtsn8LadSPghjaEEPisHKShNo0XHTTchIT0d1dbWEVjB062Tk5jjek36uzKszb948gRNj75d17j7xsqAhuzK6XIxEGoXMKSCj7ocBLKiXJszAr377OzHIzC2nzEGLm+59XCpO6N8JDQkimPdgwhwHAXPG67MdP//eVPmsQ4spS/zEW+OZdyeNyotwtOK56uBCD4di8lnPzE7YKON/7DVcGNcG77CMA4Zm586TamhyH9wX91netRvLik29LKzShiT/DUvY2kcUwz21WYz2qNqtAjX1cBA+44fz7jMnJvTk/XlRtQWCEMIBhqwxRO7DuY6G9d74fL54M/DzsrBC+a4v0/XlqnBcceOdEkLCXBn0Hrv+zocEIExe7CvrMAzo7sdflqTH19/5sOSmIEzlegS/XOcTG1cBHs+/N01yYUxfHozJS/1k20xerO/PUb2v+bt7nnxVrhHB712Pv4SJ1k6S8Fhf70hkABdsSwIu9mvgokzzuFiWOajujWkIj31oAQLjCpFa1IHS5s0y4m7xtjh8NbasRUNjn3xu6dmB5o4h+dyq+vK11a2oq+1Ex/p/oql9A2qrWjSp+cbbOFoZP4sNHeuwO/k2E2CxO/z3cPcJhFdoBiJSK5Be2oWSpiGtrOnabw1eFbp0WGEBFsdXJQ3rDP1qb2/vkf+axz6dkdAiKChILhRHWltaBk0Mm2PR8YIWUxoycOlj98rf18KccPfk92Q+ocUF99yKiYVRuP6N5/BGpKvMv/blJ2W9DzKC8IyTjcy76rlH8LL/crwe6YLnPRdLrovrXnta8l1wOT0zJhZGy2eCkYsfuhOflMUJFLln2ocy/9FFM/GQzWT5bFZHCS0IKXitBgcPwIrVnf1Y15CFfekP41/Rv0ZXQyM6OjajR734dHDB3/wYBrZu2BOwEJ7w+M8kaZ4sB0CSuWtwJottsKqqEwkJGZKY10f9U6MYYuLg4HhIrwyWM4yKijIYijrI4Ejy2Vq9xBha0OgMqDE1sOcFl0vWfMZ060k4Gf5wuNCCHf1n3v7coBkrQmT+VPtA8YiYqTreTCrIZXNcYzDDIVQ+07uDSTJvvv8JSSDHDPrG2yVkuOeJV/DAs29Lrg3O+9jaxbCflz768pDrUjz+D75cLm7TdAenyz5/O37GEsM6Rypt5PCfMmpIt/mFBabu8q6B0UhJSUF9fb16ntefctCCE49Fz3WyYWAAfZdfbgIuMmJjJZO4cdnTE52b43hPPE8ec2VlJebMmQOrlPUm98sqsV/zslDPAasrMBSCiRi1vAaHX0FnxsoQ3KgMVObE4Mi2novAWOagBRNw6okVqYTWvQIieDzM7cLQKeP1L7/hdrwycZZ81qHFDXc9rIxLF/zvL36p2nrsqPWPVjxnnrte6pdeBDScF+ftNLmGNqkb4RqQiMi0KmRV9CG1oR1Vq3ehRRkfBasH0aT+rxX2rxdVDuzQOsxrhpC/eh3aNv7LpDN9pNJGdr+Xkd2YejNhB3lfYbZ3Jqw9EiXpsGtSg9xngoXjBSwsMi9eT70tMexGBxfMx8JKN3Z5pv+XFqQMSnLG6PRq5NasFW8L5kmxjLQfnlKWTkbszBfRuno3iuNjkOPriPaBr5EX7IkEq3dFVSVVKIwKQgyT6H94JxJt3je7rSMR7w3vET0k6vr2YU2xvQmw+FfET5Hp94nc36DYAiTmNQnorGLJ5JFkmwQVOqQwlrl9WnT0CotNN/Sh6UhwvKYzDlqwA6fHuDs4rDruBtrxgha6Pi2PV8vzDN9v/+RtPLViHj6vSZbKIsbrTmlIl+0Zz/uiLlW8LwzrNGWo36aMWkcX93OwZQfVUUALAoq1a/dJGAhhRF/PFgw05mOo0Fq9WH4iL5etKc+hpqYPjY3r0N4+hN7enbIuf6Mb2LzW5qQb3sfLAOc2uF0dsPA4Vq8eFi+QM0E8F+3aMhRHg0nH47qdCersHEJWVhkCAsLMgIwlhpfuWPEdExkZaTAedZhBV/ezAWQYQwt6WkTUm2Ztt4pslJKgNLKYaf5IocXZJt3TgtAivHozFhSajuh6+AVLotlT1dOCE4+Fx8TQFbqE9j76qAm0yHd0VP8vSiShKNc51cJcDmfisfKYWc1l9uzZsMraZXK/5kky2hQsjyiW5JkcBWb1DKmgc4SGLNdjeNTtjzwvI+h6aUpd5qAFvSZuvu9xw3eGKzCPBXNjMN/M//zvL9QzqQEQbp9eTXr+GOOcFvz+8IvvScLGg+WEORJxXxqkG0k+27BTDM0VuZtNruH8zB1w8IpGSEKJjJpOylwIn7ps5PUOYELubPXMtOONzM8wt9QZXo0ZKOrfiM8L7TClaDEqB3aa7VAfrmjM6IYSR2qdykxzlsyL75OcOYSljvFV8M3plvCf+Obd8r6zAIsTL15bDVxoFZiY9JOeLqsyWYVpjLdFwbdY5hGLwJh8pBR1oKxlswAphglYjNcflkCLac+iODbSAC1qKxoR+elDaF/3DaqKKhE16TF0bvw3yjOzkbzwY7PbOVLx3rDaC+FDQ0sHvov5wyhgQQ2GXIFV3jHwCc9CVFoVMst7UNqyBfV9e9E8YClperLUsu5brFB9aPaVOejHfvHxms44aEEDQjcsQkOjzRoqxyIafMcTWhiL8OG2iW9K+Mb09gMg40fVEUCL4uIWtLSsFwBBQ1lAREst1lWG4Z+xB14w/478KWrTvVFY2ISKii7VAR8QcEGPC93A5jXWRWNb036ROS8CXWNhxw+BDR1YcDtZfYOI7+pDTEcPotu6ENHSjojm01zqHBLautHVtc0Ahniu+rUxd03OdnV1bUFOTgUCA0eDDCb9PBTIYNxeeHi4xOrrIIMeGRxxPp2MscOZjKEF/yGltWwf3TFUsk5eJx15hlcEFvWLGzhjpS3QwrwEWrDT3bIXgRXbTK6nTe5eePv4muS0OBWhhXHZ09WffmoCLcpmzFDv/0JJKMpnZWwyzlPd44LHp58n4cusWbNgnW8KmeaFVmGBb7p44njndEkuAeaj4Oj70T4HHFF+bvwUfL7Qc9T8iVbOkkvAeB6TKv7prxdICBS/T2NZ1IuukP1G1W7Hr357rhwblzGR4f/98tfwye6S7/R+ILRg8lB+5wj2X/9xKW594OlRSWiPVrqhKcln1TVheNeqfDPQIncflruFG4zM+bmeuCvmMXyQPRPv58xEVHs1/hT4V3g2pSOxqwWzSx1xY9TdCG4pQtmaLWY71YcrzVD6l8TBl7TvNK0Yogzg2V4ZErphH6mBqeCyQS38p+PIwZRFRydeX0N7Us8W8wKxjTLUzy7f1DvGJqAQboHJiMmsQ0HdOknOqOdJMdcOLDogQoui2AjEzXoV+aE+Ai1KU1OQvOhTWd7avwchb1+L9sHvjhu00J9D5qKo79mJoez3DPaErm8ifoFIXzu4B6UgJKEYyQWtKKhfj6qRvCV68l4LtDjxyqvsNvSLg4ODR/5rHp/pjIMWVVVVhouVnV02yhg5HqKxd6KgBfNOPLb4SxE9KMytc9J1mNAiJiYHRUVNaGwcUNdmC3pae7C2Ng17U+83ebnsirgQ8fH5SE0tRV5evQFc0EuD4SJdXVvR3b1NabuIMIOi0U0ZexBQ9OygjGGHDjnMg43Rnhtczt9cWRuOn1a6j8jjjNHfKgPk+ra1bZLryHPlOf8Q0LHogJj0MzeXICPcADI8PX0FZBBW6O+csVq+fLm48zN239gbg8bO6Tzp0EJPuFjXvcGkY2idswe2/tkj1UN6JQEbQzWkI2/pxI+SdLiVccMON5MTupaajtrbJXXD39//lK4ewoltQy97ytChfgcHE2hR+/rr6nnKlQoia9euxY7t27F/BMCwXfF8TmVwoUMLHm9paSlmfvkl5puFFtUCDhjT75vXI2E/hFKEU8cL3rG9eGW148UPposnBN3iWV6Yy+i5c9Pdj2HSQi84JdRqOQtGqo5QzGnw7LuT1bIavD3FTpIscj4TR9JLihDji8U+MnLN+UzK+I/Lr8U70xaDnhj6do5GBiNTXYt4dU2Yl8apYIvJNSS0WOYSCv+oXCQVtKGwYT0uDL4cfwu6ELl9axHVVo1z/P6A6cX2CGophF9zLm6IvhsONdGoOoSnBY2XsRq7Do0cPTQkwYw3mXXmDsxxjta8LNQ11KokbRFvKcKl43WPj0QEVMx9wmMwt/xwxCSp3IZeqUQXveU4n21Yn8dKIJxHIGe87skWr/MB752v5ToElazD8twh0/sW04Xl7hEITShBVkWvlL+kYWuBFj8sQovq0hpkui1C/OzXBVrUlNcjbvZrqK/vQUV+MaI+f1TWPR7Qgs+l9hz+Ew39X6G1Lh//GfHYNlZD4GNaidOoHMRk1kq1Ib1CDIGUxcviZOk/CAiLM/SB6RV6PCd1t8+sKT4+3uhi9Zs1QI5FJxJanJL6IWgR4QwXlyBER2cjP78edTVd6K3OxKa82epF8l8mLxaqN/xhZIXaoyDaCeXJXqjPDkZrYRQ6SmLRXZaAnopE9FYmoa8yeUQpWF2lDL/qDPTW5KKnrhg99ZXoampBR8tqtLdvEtjR0bFlBHhooEMHHDrYINTQwcaAkedGf/8etf52XFIVjHEVrpqMzvF01x/LfVBU1IyamtUCLnhdeN5syxZocfTq6dmmDK8qBAUdPshg7gx6YxhXLNm6dat4LJxOk260MRSGo+RrB9ZhUZGp0WYTXiOZ9L2ytE4tR8BosFlGH0dLN+CS279CVN1OLCkydUNfGl6IkJAQKd3b2dkp7eZUzAXBYzH2wlmTpN7lY6BF6733iscIBxl6uruxsagIwyPPwekALoyhBT2rvvzyS1hnmHobWUW3joQNVEvOBi3PgTJou7Wyv8fjGXBOrDPkY9HFpJD6cibPfHb8ZEkqyySIxr+lGFZyw12P4N1piwzHw3Koxttjbhp9fSbHfZ3JHsMKDPOORnqb17yLtDwuDoU7Ta6hddpmLHUOUcYIoUUrihs2YlKOHR5JfFGMGUKL84L+geQutax/I8rWbkF8ZxPO9f8jXOoTzHSqDxhC7RsOJOSj+N0YYHAdiaHv3YvgajN5e6I7pKIGrwWT9bJ6RWzjkSUcPt7i+/b2h58TUGZu+eEopHQ9HnphPD62dh41n145TH6shwxRfKc/+soEvKPaj/G6P4b0NsVcKToIc8sbMLlvVqpN2a30hW9ENlKL2lHWskUMYoth+8PK8XdCXW0HGloGkDDvHRTHRcs1S1kyCekOc5C88BMUxYTLutUl1cjxWWGyjSMRt837QqhU37EOw6n3mtgUe8PPhae3j6HEaVpxB4oaN6Kme1iSb1pCf06eGvr2qP6vlqJhxYoV4g16PCd1x8+ciZ0IV1dXuVhLly5Thtles8bGsehYoAU/j0/1x1sx7vikNFZyTIxP8cMXtSfeq+KdeG8pe2pu2SF1KGihjPt7Ipzh7ByIiIgMlGXGoTPfE/+MOdfkpXI89H30L/FNzN+wN+E67Ex6EJsyJqA/3x6dJVHoKo1Dd1k8eisS0FeZhJ6qDHTXlqCzoR4dzb1irOtgg14cxp4b/N7augEXlwdgXJkzxpWPgIszBF78vtQLiYmFythpQn39WgkVYRum14kFWhxfEX7l59cgODgCvr4ayHB19cCyZfaj4IWxvLy8JFHR4OCger+sF2P0dMiLoRttzKvAUIWAKlODY37aJiwNK5RSd4xZZ+y6JURktHgdjEND/CvNXMf8r7DKJ1wq2zCHAj13CARo5OshFafKpEMLeuGw6s5AczP6LrlkFLToufxypMbHo7ioCO1xcei7/34JJSEAMwYX3NapCC6MoQXzchBazI3rM7lv1qkbNE+L+Cr45eqeFhyFP36eFqerDAbmiKcFK+YsLhypQlTwnYghN1ZxvVjiFAy/yBwk5jWjsI4JTz3wVsYk8YKIa2/A1RE3w70+GTEddXCsjYVnQxqeSnkTXo3pJp1qGi8tg+r6d3VJ7DVdznURUHCbGsD4t/zlfBo/3hWm0GJuaDVsfFLEiPfJ6RIjmeci9/ckgll6FRCK6dVdnnzjY8lZEli4Rt65+noZff+WXCislqRBM+17dN12Wc7PulcNE8i+8MF0w28JZFj55pl3v5AqTvp8ijlWHnn5ffHwYXLkTKPzZpUTlmQ9WddC97ZIVNeC5+VXxLwWo++bVc5ezFvsJqEE8TmNYuCyiojFuD02MSTkeF4/bkvA4QCTb+41m3zz35H/D7n+E+Din4jA2Hwk5DYit3otKtq3a54Z67TKMJb7enIUl1pk6NsmJyeP/Mc8fpO662fOxFEn/WIxBt2cUXGsOlpoMbk+XUqSXv/Gszj/jptw28Q3MLkhHX+//QapAGIWGBxEnygDfXJjhtllBxMrlXxcHGN2mTmxFKt8/iFoEe4EL2cXZIcvx9aYW0xeKD+W/hl9LnYn3oahtDfRn7sEnSWxAjZ6yhPQU6U6MrUVaG3oRHPzekkGWlXViwsLvDGuaBXGlThhXJnLAXhhdI9PR51b7IGQkCSkp1eo8+wReEPPEwu0OPHi+6KurhdRUUkCMSi+m1ascDC8q8bKx8fHkBeDonHK0fRTbaLRxtAEvndpcJa2roONmRJzdpE1Murnl9eLiJoDRtuJ8rag8eAQWyFGkLnlp5p0440wJ7phGPbFpl4Wtkmr4enpKZ0AltgcGBgwyQNxKkw6ZGB7NZQ9HRxE3+23j4IWVAaTcXp4oOe669D71FPq/+paaUeEYAQX3Abb2KkOLXjchBazfPNM7hthk21ALlbGlMOb3kYVGxF/jDktzhTp7V5CopqGEVTOfBYjsKLgW1jnfY15Ofsxx78YS5yC4BORJQZmnjJIwmsq4FubJbkmins3wa7MF3blfvBvzJUEnbNLHBHcXKwZK0bSQMT3qO4fxvOp4xFQn4+UljZJsknRo4KGDkEFjR0aS43qe2XnTriUmeZGmBtUInBgVVy1FhqiDH5DCJx6v5k77+MthmwwEei70xZjcWCOzHvqzU8xZak/Ppy7CpOX+Mo7l/OZX4ilnOld4xRfrd7D/8R7M5dJmVNClvdnLcdndh6yrrVnkgFaMLTpA7Vs6rJAPPDc2ybQwj68CHc++iLmquNgqVO2dc5n2Mhnth6YMHsl3FIaR/3mRMnwPu34Rq4NQ0QEgo25d7NsneHkG4fojBrk161T93+PQCuLcXtqSAcWDAvhM9jcVCMDl2P7+ptCL4KjdzS8wzKlwlBGWTdKmjerZ3mPeo4tYSEnU80D38DB0UX6sUxWz/7r8Z7UXT9zJl4gveNPI8GcEXGsOlpo8ZybHa556QkDFLjm5acwvS0X173+jEALrvd2nKck46RHBLcxuSFDvDHeSwvEZ5WJ8pew4taP3sALnosFesi6cV74uCga76cHyrZZLvWDrBBZ/60YD9km/05rzTF8npAThgnZIRif7Gc4Jn6mB8jbsZ74MD9CC2k5GLSgMa+MekKLGNeZ2BPxZ/UCMR8Ocqrpn9HnYHvSo+jPno+2wghRQ3Ywbk9fgHE5KzCuwEEDF+Uu+FXmSvw2QynLAedkr8I5OY44l8qlnE4RacfEY/uN+mzcJqlzCt3g5RWBhIQClJa2i9cJQ2aY14Lt2Vw7t+jEqaNjCKmp+VJ6lRDD29tfQkoWLTJfdpXhJBzN5fuN4SSnSmJPGm40mGlgckS9v78fDiVmSgJmbseyyHK4p7eM8rZgLPSJ6NgzTv/n//t/+GKRj9nlY0UDg8dlbtmJlsFwG/Gy8KowjZuXbPcByVLKOycnR/JZ6BU3aDSfCm2Bkw4s2CZ4XIRZzHeybt069Lzzjgm0KHv7bXRfdZV8bv/gA2njXJfVaPhbArFTCciMnXRoR9DCRJzTF3uY3jslm7gOMeo89PZfv1NGxHXD9mwEFzznUSPi9TvgWKza/giwsMr7Gp+nd+OdpFy867gY05yXYUVIBMLTypFe2i15LSratkm5yjplbLI6QP3q/QIcWF2AruTiOSHw4TsBELo4n0bQlNzFGOcxDg/GPgfPsnTE1TRIpQHmNyDA4Pa4Xn3vXpSrfTmXmAkPCSrBwoBMyRcSUNgP5vlgPoWTCaSWR5bg+fenSvjdu1O1EA1CC8IIfr7z0RckrIOg+MIrrhdjnuFJF111o3xeGpovXhJc1yGmHPc/84Z8NoYWDDdh2El6779wwaVXm4UWTPCart7phBMsz8v5197+gHih0NPuoqtuGPWbEyXDO1Vg2G7xDrEp/Hb0vVPtbIaNIxw8oxCRWimlT+lNY4EWp454H/SwkMbOddiZ9ohJX57JN2P9rLTkm/HFSMpvRUHdIKo6dwrQtCTfPLnKLG429FsDAwNH/lMe30nd+TNnam4+cMEyMorNGgzHqqOFFpc8dBee91hkAAS6dGhB0PDbv58n4SKflMTidxdfgLdiPeTzP+65Vda54a0X8EFmMP501aW49aPX8V5qAF4LdcJ5N16Dx5bOwgV334IpTVl4YO5nuPC+23HjOy+o394iCT5/+YffqX1E48OcMPziD+fi9k/fwZ2fj8efrr7MADPOu/5KPL1qvhzHwzZT5Lh/CFrcHeaoDC5fFAR/iW1R12I4+jL8K/J/TF4up4PsYh7AuBTVkclejnGFqzCu1Bl32s/EYwtn4An72XjKwRrPOi/Ac652eN5tIZ53X3RqSB0Lj+lZlwV4xNVmVJukflvgasg7UlyslaVlrg8LtDg1xDwreXmV8PMLEYjBvBgH88Rg+SiOtq9evVogBg0mGog/xqQbqAxl4eg4gUp63TosGNtBVLJN6sOq+BrNhbpySDqTySdwtJnJAg8XWnhlduDVj+eYXXYiZTDcuv4phlto7S7YFZleuwVpG+Hq5o7Y2FgJI2JoCA17JrrUvRF+7EkHFt+rtrCvsRF7u7sxPDiILUNDqn2vQcfixSbQwlj1s2dL+WCe2+bNmw1A5lSHFrz+PFYrKytMnTkLVmbyWszP3YvFYaVwVoYtE9IyRISJLk8FbwtW9GFIg7llJ1KjDMvmPQiq3KaV+B0JCZmXsw+3hU8WqPC/br/EpW7X4gnf1zAtchmWpoVgVW4MXIsS4V6aiuCKQsTVNiC7qR/l7VsFOtBoqe4alqoQAjV692pgQ4kj6lWdu5DV2ItzfH4v+6Aei3oVTnlxiK2oQ3HjJgEV3A5V0jwEj+IdWoWYAvWMjozczwurxcLAbMkrwnKyBFInO/yNwOfa2+7Hp7bucE9rlnmEFgxL4ufn358m1U343r38+tsNv7v+zofhX7BagIMOLegRZw5a/OX8i+Ve8TPzV5iDFvc9/brh+7l/PE/+/ubcPwrUoW68+1HD8hMtvW0x30Zw+SaTZ5LhIVPnLMUK9wiEJ5cjt3qNAVrQyDVnkJ3pqq1uQ8f6f6KlZwfqG3plXkPTGrSuHkZz52bUVjaJmto3asua14zMa0bbwFdo61fPV32PlDqtrVb9zN6dsqy2qkXCRrhuc8eQ/La+vhvt675Fx4Z/SX4MfdvtA1/Lct3LQsJCevdgoHiJSX/9P5H/hbrAp+Dsx+SbuVIJRk++Wb96n9xLi5fFyRM92Dx8Ag191fb29pH/lMd3Unf/zJlYQk2/YGVlLWYNhGPV0UKL8268Gq8GOxwUWvDzxQ/dJdCCny9/8gGBFu8m+8k6b0S64uMSLbzjsifuF68Mfr7i6YfwiN108Zy46P7bxbuCYOMPV1wsy3X97ZbrBFrw819vvhYfZAVr82/l/Cj5/fl33CjHy+3oXhuHCy0CAxMQH5+H7KRErI99HNujrsL+SNM6yrr2hf0aG4IuwsbgizEUcgk2h16GzWGXYUv45eYVRl2GbWEXYWf437E7/M/4KuK3+GfEz9X2jo+Hx3uhL2JcjDL6UxdjXO4KjCt2wl0rZ+FJ+zl4xtkGL3otwSsBK/BqyCq8FuaE18NPDfFYeEw8ticDlo1qk9Rv8l3g6OiHyMgMScjZ0rLBAi1OYTHBZ0oKPTG0cBJ3dy/Y2y83vNuMxXwYTOpJgMHRdxqyJ3PSR5s5Ms5KET09PXApMZOTofA7LIlvhUtyA/wLVyOyeqt4FtDD4Hh08DnKyZAQjui5qn1cfPVNo6AFR7k9MloRVr4Rq2IrpeIC53MU7um3PpOqCixXqGfFpxFC12bGcXO7HD3Vt3U8ZAAW3f8UIyeyYTeWl5iGhczP249lPrEICAhAVlaWVNvgvaa3DWHRqWLU8xjYFr7btQuD776LwbffxsYVKzCYnIyepCS0qbZqDlboKra3FyDDBKNsx4Rgp9L5mZt4XDw+hsEw4diMGTMwwzXZ9B4qLUgdxPLoSq0k5kgOAYYRnMgwqcMRR+kZEmBu2YmSAIteLQEnr0FE3U4sL96nAYsRL4s5WcO4NOgZA1A4mH7i8RNcEHAJHol6CZ+l2GJVvgYz3IqT4V6aAo/SVHiVpcO/Ig9h1WWIqa1FUm0L0mo6kV7ZjTdjJ5ls87mo8ViVE43YsnoU1K1HUcMG5NWug1fBJszN2Qer3K9G4MV3sIrtlESrGrRY86NAC1ZlYhjETIcwXHrNzTLvyTc+kePiZ0ILAgge22XX3TZybP/G1bfco96HG8QLQwcO/I3+2cojUX7LzxddeYOUwGWuirsffxkLfEYndGVOi5vvfUK2y3frXy+8XOb/7eIrEDvyriWoNv7NiZQOLbhP3zLTijRzUjYKtLB3C0NYUplAC3rtnM3QImrSY2hsXYfCqGDEznhR4EPi/PdRWViGTOcFiJ/7piTeTHeYLcCBVURipjyNyM8eQlVRBaqLq6SaSH1DH2KnPYeq4gpEfnI/YqY+g6aOTQgbfzMynOcLqIj78mW1r0HU1XZK6dQEq3dFjW0bDMBCDwtpaazCv6L/z6S/vi3073D1DoFXaDrCkyuQVtyJYkPyzW8kP8nZei9/DJU2rDP0S11cXOR/44mY1N0/cybjyiEtLYNmDYJj1dFCi6ueewSPL/nSABF0GUOLSx6+G+8m+8pn5qAgtJjenoenHazx15uuwZ2T3hWIYAwtLrzvNlyvtnHP1A9EHxVECrSgh4W+D2ostGA4CT9fcNfNmJATKsf4l2uvUL+PkmOd3p6r/fYHw0MILfwkZ0JSUiEyMyuRkVGBxIR81ERNx7bIq7Az4kL8K/Jno144Xb7XYdVyJzGmPTxC4eMTpTrm8QgOTlTbSh5RknyngoISEBwYg6hAfyQFrUJ2kBVqQsajN/QhbIm4GlsjrsDW8CsMkGNb+MUYDj8P+yPOwfeR/z1q3wfTvb4fYFzoXIxLXIhx2faS3+Iex3l4xslG8pG8EeEiCU3Hp/jjvbQAATungngsPCYe2wsxpjk4CC0cHHwQHp6GwsKmUdDCktPi1BffZTExqQIwmNjTxcXdkJ3ZWA4ODlJ+0TiM5FgNvn/v24fvenvxH+bUoFHa368tUNv9bu1afNPVhe9HDEzuj/kLCut7sNhM9QvG9y+Lb4ZHWoskZmPCtwPg4ujLoBIoMKP9pdfeigeefQu3P/Qs/nH5daOgxaXX3YqHXnwXXzpG4A/nXSB/OX+afRDOO/9inH/p1VLukaCCx8GRQnbYpywLwG/O/YMYd/q2jlXcvjGwiGrYA6eykQSEY2Qb3QQ3NzfxsuC9JRQiHNLDJ04FLwtOugHPY9q7cSPWPv88+i66yCygMKcMX1+UlJTI6AyTup5qUMbcpJ8zjzM0NFRCRCZ/ORfWWeag3T+xMLELjgl14m0UWr5RDE22XSmNqYz4o2n/hGrM3UIAwJF+bo95M9i+OOrOMBT5q+ZzOX9D932u75vbI98fe/VD2TdzzjB0i0CF2yVQONaypmPF/ejAgscWra6Ba9lu7RoZvCz2Y3bGTvzR9xoToHA0+i+Pn+Bc3z/gsqDrcHfEE3gxVvWTEudidrIjpsep//Nmf/NfeDXqY6zMikJ0UQ3SSrrgl92LWek7MSdrtxyjJAnN2Apbvww4xmnVYfhOo9fUycxpYReQhblucQJun3lnkrxTCWJnu0RLngqWsp2+IkSO55GX3lf3vVs8LAhq+XsmziSo4Dy+Mx9+8T2579OWB+OFD6bJ9t6ZuhBzXGMQWrZBqtB86Rgu58jfExAwaefVt94rQI6fX//MSpa9MWk+bHxSJSEoS8Lqx3wiJW2M0KJDy2nhVGIacjczrBnT5i7DCo8IhKdUSOLG6rPc0yJd9XXLMjKRsmQyoiY/ieaOTYj69EE0NPUj9N2b0LZ2vwCH8Al3oqFxtUCL3EA3pK2YicKoEIEWhBVJCz5CaXKSbDPD2UaWtfRsR7TaZsyUp9Rv+wzQImXZVOSFeBu8Nlr794wOC+kYwK7UB0z66l+H/xKxvvPgFpiEoLgiJOQ2I69mAJXtOyzJN38E8ToHGpU55QDEiZpUCzhzJl/V8eEFY1lBulybMwCOVUcLLZ53t8PVLz6OdxK8Jd/Eu0m+soweFU+umIsZnfm47rVn8NSKeXg/Iwj/uPsWvOC1RLwrXvZbLjkt/nL9lZiu1uN2nnO1xZTGTNz5xXt40Opz2R+9MggaOPJOyMHkn/zO3BcMA3kr1lM+//HKS8XA1aHFG1Gu8pnhJ/TooD6rSDg0tKBGclo4OfkjLCwN6ellYhQXF7cgL69efS8X74vkcD+si7gbWyOuxFcR5xhePOk+XygjLFoARXR0luRcSE4uRmpqqUEpKSUyLylJvZgSCtX2ChAXl6868bnKkMuR39GDICIiXR1DqmyLkCMyKASZwQtRGfIR1oTfI/veEk5dge3hF2Jf+O/wfSS9NLRj+VfET/EPj+kYFzQL4+JtMS5zmYSI3OdqjRc8F+H1CGfJ+TEhNwwTi6Ml98enZfGnhHgsPKYP1bG9lu4/qk1SGrTwtkCLM0AbNnyDmppu1c6j1PsuCJ6ePma9MFhyNTU1VRI2EmIwt8DRGH9fVVZi8Jln8E1rK/6jjLONb78t879VxuWWefOwecYM7I6Kwnf79hm8LXp7exFVOQhbunuP6Sza5O3H8qRWeKS3GTLVC7jo/FbLcdF35KPOzkl1+O+f/w8iOBKovnP08Gf//fNR0OLptz43uMG/8vEc3Pvkq4ZlBB3PvjvZ8J2658lXBKTI8ufexotGWfSPRQeMNgKLrxB5CGBhkz4EBxdPMYhzc3Ml/PFU9LLgpBvwDOnYp9rCNtUGVj/9tFlAMVY9l16KhJgYFLGSyAi00D0tCGVOZWihexrx/syZMwfTpk3DfL8c0xh60XdYktgB5+QmAQTMQcBR6CTVDo7G44jrMqxpwmwHGUV/c5INloUXSiLElI5vcdXN98jo/1W33CO5NGjQ8jeXXXurPHf3PvWabIfQgiEGBH+Tl6g+hEMYxs9YCiuPeBlBH7vfoxH3K21fPVM816S2/YhqGIZHuZFBSc+F/G8wN3svZiZvxP94/sYsUDiZ+onH/8NbUZOwOFm9a5PzMSN+EF+mbMWczAPgwiaoYFT1EL7P9JK25q7F8Rav6/QVwfhwjoN4OXhldWCqfaCIhrtTQo32eaSNTV0WgC8W+xjCPSiuM37mMkSo4+e69uHFhm14ZbbLPmasDMVc1xh4ZrbJ/PhmzXOCQIzfCXznusbK9glL9G3P90zCR/McDd5tJ1o8Vv4vIRSLrN1hFqB/sTIWM61XYJV3NKLSq5FfqyXipLF7thq6JUnxyPRcKl4WOX5OyA/xRvycNyREJGLivejY8D061bWJ/uIJAQy6pwU9KBpbBgRahE+4A1FfPIbaqmbZpjG0ILAoTUpA6sov1T5eEGhBz43yrBzk+jsJDKksKBXYoIWF7Ma6wgWGProuhoVUBzwrSVRZUSgmoxaZ5b2Sj4aJdC3JN0++art3Gcr8r1y5UvooJ2pSreDMmNiBoIumdtEcTDr7x0tHCy1o/N81+X2BFHdOGo9rX3saE4ui5TvnT1Hrvehrjyueegi3TXwTN7//Cu6f86mMpN/47kuy3ds/fktAwhP2c3DbR2+IhwT3cfGDd+KBuZ/j2peflP0wH8VF998ho+9c//30IMmL8ajddAEiBBXcBpfd/N7L4gFCDw1WNiHsoO6dOfGHoUXFgZKnkZGZyMmpQUVFF2pr+5Vh1Yfy8k4UFDQiI6MSLLkZHZWOhoiPsD3qGgxHXogd4RciMTJSgERWVrWsW1LShrKyDvkt/5aVtaO0tE3NbxUYwvAGGt75+Q0CRnJz65CdXYPMzCqpjpGaWobk5BK1vyLEx2twQwcbOtSID/ZGecjn6A9/QIMZSmtCbsWfveZgXKhSoh3GZWnQ4gEPG7zkv1w8WyZkh+LTsjhMqknB5Po0TGnMOCXEY+ExEWC8lRc6qk1ShBYrV1qgxZmozs7Nqo3TCyNIEnquXLlqFLzQFaOMQlY5oNFLg/Bwp33Z2Vhzxx3Y9Mkn+PfwMNbeeqvMH3zySeyJi8O/duzA2ttuw/6WFoO3BY3OtrY2eBYPqQ6iVg3AWDa5+7E8uQMeqjPM0ntRtVsl9ji5U0sQd6SjztOWB+Gv/7hs1Lw//fUfBmjBbTEsheEhjOEntOBoob7uWGjBDq9TfI10wjlS99Dz7+CxVyYYlh+NeAwEMty2brSF1++Bo5mKBJRN9k4s84qEn58fUlJSUF1dLYlOjZNUnkoGvTG04PGx4s26hgb0PvaYWVBhrBbVfuJUWyK0YDLOUzHJ6MEm/byZHHXevHmYOXMmlqxwhX2emdwWou+wJLkHLqkt8M/rE3ARo9oYvRrYLjh6fbjtn+u88slcvPrpPNA7gobr+BlL8NpnVmIw03OI6xFKGP+972ktZ8FDL7wr2+B8l6R6SZr48kdf4stV4UoRePSVDyQHB9c9FnEfPCeeGw3lxNb9iKwnsBjxsNBlBC0mB5bib84X4nzXi3Ge+wU41/2P+D+PXwpEMAcXTrR+6vkzvBUyCW+FReLz2K4D4IKhIon9WBpaAI+0ZoSUDQqIYoLLI4VQFh27eL3Z9unJw7wxvhWmXk/WeV/h41n2mGPnDNeAJMRlN6CoYaOU1DyboQU9KmKmPYe0FTNQVVghYR05vg5oW/sVoic9puaVoaasDtFfPI6Wrq0CLUrV/yaCjYq8IkN4SGlqCpLtJqK5eyuSF3+OLM9l8pmeFh3rv1f7eBaRnz0o0CLHzxGZ7otQW9GEuNmvoiK/9EBYSH0Z/h1tmh9va+j5cPYOg2cIw0LKkVrUISFczGFD7wxL8s2TLHWdI+IyDX3N9PT0kf+OJ2Y6Y6AFO3H6RfPw8Dbp3B8vHR20yBPjf2YXIcCpqds/eVvyIvA4GTpy6aP3jCwbgRYtZqCF0r0RzoYkj4WFjair65fqFG1tQ2Ic19evRWVljwCHnJxapKWVCaTIjw/A1rh7UZfqKACCkKK2th9NTYPyu9bWTSPaKN+bm9eLuJwlSrnduro1I4BktZQsrazsHoEd7QI5dLihgY1qgSeEGklJxeKxERubg6ioTDHmmZPjL4E2GBdtrSXjZE6LIkc86GUr95SeMR8VRmFSdTLGp/oLCJpYFCMVXhiOw2Sn9IbhZ8Koae15Bn1aHi/zPymLHzX/eGlqaw4mN2UKuHinOHLU/aEsnhZnh+hdlplZLACDYSROTq7idaa/FynS8MzMTAnjIFxg5Y9DTYQWW2bNwuCzz+IrZVQSWvxHGZJ9l1yCf+3cKesMffQRhmNjJSkhc2rQYCUgqaxtgEPBds2NOu9rg1jKkPOWpfTALbNTRoPpJcH4Y46OifGmjPvD9bpgST0m3jSe97eLLjdAC7o///3iK8XbYkV0mSSpOxS0YJWTv/z9Irw8cTZWxVVJKb9jgRa60UYgQzDD8oMhtXvMljalbLJ3YXFQtpQ4pTHPsAnmehgaGhLgdComqOSx6F4HbFMsdcr21V1cjO6HHzYLK3RVP/UUEhISJPylu7tbEnHSW0MHM6fypJ83E+LOnz8fc+fOhY3tYoRnt2FRvmm1CV1L0tbCOb1TPC5Cyzcgun67jNAnd3x92O2f7WlJSJ4kQVymxNwUHO3/cK6DhCi89qmVtLvXPp134K8ypG+653F51t74fL4Y16y2wxCTiVbOyuBmyMpXarv5Mm/68mCz+z4ciQFpBOp4bjQkQ2uH4VRm5toUaOEhcxIGMN3WDVaL3bBolT/murngPc8ZeNT7ZVzlfTMu9r4KF3ldKbrQ6wqc53k+zvH4Pf7H438lrMMcdDhe+r3n3/BWaBamJWzA7PQdWo4LZQTbhZUJ6JQQkZqtSGjdjzR1zjSgD+cdZtHxkbxrVXuTPEH1u7DUzDv2y+hufDzFGjb2XvAJz0JyQRtKWzZrYQXK4D1bjV2ed+KCCShLS5MwjQTrdyVXBZeVKUOU36mShBiZl+vvjKrCclkn080OdTXtyHRZgM4N/0byos9QnpUr63ObzV3bkLbiy5FtZcj85q4taOnbiSS7jw05LarLG7WwkPY1GE65xwRYfBX+K8T4zh8TFrIWFUZhIRYvi5OrOvGy0MKV6TjAfsqJnM4YaMHOnN4xDwgIHdWZP576IWjxsv8KraQoR+XLE/BFvVaWdFpbjpQ4PVXFsJSnHazASiJPLJuD51xsZT6Pm8fPsJLPK5PwYHHQqHO+N9JFoAVDNYqLmwUq9PRsR2/vTlF39zYBGJyve1/oQKGwsFm8KKqr+2R5e/tmtb72W5bk1EUDm9K2uUPEfXDbXV1b1b3YIr/lfgg6Wlo2CuDQ4UZtbb/sg/CE++c+6bFBTw3CDC2MJR9/jVmGcckLtdCQkbKnD3kvxKtBDuK18nFxDCbVJOOOz96VBKjPuS2UeVe/8BgeXTRD7jtDfFiSlrlIZnQWiB6y/kKt8zheUdvR5x1PEYrxHn1Rn4Z3S6NH3R/KAi3OPvE9VVraJO9CQgxnZzcTgMF/MIw9pPcF/9HQGB47CbSYORP7c3Ox8d13DZ4Wa+++G1+VleGf69Zh/YsvYp8yTvWRdo6S0/Ds6upCYXkNluUMwT64BXMZD565W0ZSxbU672ssSh+Ec0YP/FRnP6xik3hC0Kg3eF3IaOWhO/6LgnLw29//SYw+fqdB9qvf/g6TFnrL9/e+tDckqKM4Am2cyf7hF8bjide0UWnqmXe+EFd5fuZ+b33gKTz68geG5Ycr6UDrI8zKgJEY/sa98K8aNlslhLLJGcai4DzJYxEVFYWCggL1vGqJVgkCmPRRrxhyKkELTjwmtgF63EiIyLZtUjmkVbWh7gceMAssqKLx46UiTkVFhXq392Lr1q3irXGqVEb5oYnHyGPl88QqIsxtEZ9TD//MNizMN+9JQ9nl7IBjeg+8cnskVIqJDjlKT08Evf3/ELxgXgrfPM0bwr+gTyqTMDyAuQfcU5sESjCHDI04JgGl5xA9LZg4kvthKBXX4zPDfBascMJtESLqn49UPFaBFard66CO+4pu2I2AatXBPQisI7SYlzqEL+2DlEHpiRVu4TIS7h2WKW7grBBA+UZkyzwm4HMLTsbcQBe87TcZ9/o8hct8rhWocbG3BjV0XeB5Kc7zvAC/9/gzfuNxrnht/Mzjvw8bcpzr8UfZzms+n2FycBOmxA7gy9St6l22R0CsTdoG2EdViDcX84HEGpd1PsS7y6LjJ3nfqv8XWtWQvXAf68mjZJ3/NT6x88fkWYuwxDkEwfFFElpQ1bEDTWu+sSRu/JFEyEDYwHLE9apvP1gw2wRY/DvyJ6gIeBHOEhaSK2EhWZawkB9VvNbhsemGPiX/j5/o6YyBFuwk6xcuPDzObEf+eOiQ0CLDES96L8XrYU4yMs/R909K4/CZMvY/r04Wg/d0E4/786okfFoeJyEk9+X5jjrneyKd4eoaJGEY9KbQDeK1a/dhYGC/XCuCh56eHejo2CxAgYCCMIEiWKA3BeEDf8fRYv6OBvXg4AHx+7p1nL9fLee298m2Kf6mv3+32g+lQQ4dcBBucNsdHVsMUKN5BGjQU6O6Wr30StvEC+TvaU5aAs58B4wrdsS4Mmc87LMQrwavEu8Klp8lvGFuiz9eeYkWepMRJCE24kmjvjPEhssmFkTJd67PqjAX3n+7Fm6jpCXyDJTt8DuhA/ONfMS8JKrdcB69Wt6McpM2pCf/5PwZaj/8zGov9N6QeZ0FmNaWqx1bacyo+0NZoMXZLd7j8vJW+PuHiAfGqlVOhnelLmZ7bmpqEuOYxqZuLH6lDMkdq1bJ500TJmDjG2/I552entg8eTK2Ozhgw5tv4j8jrvwcHde9LZhPo7GyErkefih99BWscFHtP2mz6uxvw+zMXZiXzVFK1eHP3QuH9F545fUjqGRAM96aNOMt5TDgBWOr/37xFRKn7RBTDiuPBPzmnN9Lub5gZUDMXBUuJfu4jNVFbrn/KVxyzc1iKPL370yxw1U33S3J9GisTZjjIEk9uT4Nvkuuvgk33/fkYZeGlM6zEayg8RKnOtHBtXvgfJBwEMomawcWhxSq96krIiMjJU8Cq4XQa4XXUw8LOdW8LPTJ2NuCcIWhQoRhBBFNqjPTdf/9ZqFF9pdfiktpTU2NhMDwXOmtcaqe59hJP++kpCTxtmCYSHBMFlIK2+Cd0YmFeabGk0EF38I+Yy1cc/rhX9CveV3UbkPcSPs3wAtD2MixjdzTe4LhIMnt35hdfrTiMfHY9HYvsKJDgxUxTbsRUjsMtzLmr9BKhZqTVeoQZjvGwna5j+Qa8I3IksoOMZm1iM9uQEJuE+JzGhGbVS8GS1Sael5TKmSd4PhiBMUWwj86TwCHT7gGNTxD0uARnIqVgZGY6++CT/ys8ZrvJ+K1cYvXfbjI8wqzkELX79z/iH94XIZ3vafCLTBZtrUwuARTYtZiZsoWScop3mPqPtol9sIxvkYSXRqXdT7R4IIwiuFF5padLZL2NxIWktC6D0E1w7Ax09a+jOnFB5/NwmxbR2X8xiNataP8Ouaz2C1GrwVanHzR8JU8Fuv+iYbV+9FVHYv/RP7EBFoMhV4IJ68IrVqIeu5TizoNYSGsFmIJCzn5qu3eachlQWhPO/xET2cMtOCIjt4Bj49PN9t5Px46FLT4fbYj7g5cgvvCV+KheBc8luaFJ7P98FReIJ7OD8LTBaeheNzq+J/M8cfj6d64Onu0QXx3hJN4WjDUgh4UBBAECBp0+FrEz4QMnE9jWQcJFL0lCDS4jKBD/x2vM40tXfx+MOn70aRDjgOAQwcbOtTQgQb3394+pAyDAcmfcUGeh+SxoIfFuFJnjCt30aBFiOMoaPFeaoAkNqU3zXWvP6uF/3RrQOKGt57H/bM/wT1TP5TvTKZ6/5zPJO8IvzPvxD/uvQ03vfcKzr/rJgkp4Tb/ftsNeHDe5/jLdVdKfpO3Yz3xf78/V7w6Ln/yQfz1lmtlPte/8N5bce+Mibh1wusWaGHREYnPSG5uxUgOjAD1j2al4b2pKzAwUIxHCR/Ztg3fq7+cvt++Hd/29MhnTt9v2YJvOjrwnxHj0hhaMPHnYFUVOp2d0XvJJWKclt37JOb61mFq7ABmJm/G7IxdmJezT1zCOcq6OGcrXHLWwKdgrTLe1huMtyQjeHHAeBttBLC6x9W33CuaaOUkru/8zARxBAd3P/GKfH/4xfFwTqyVz5MX+8lv6aJ/7W334+Z7H5dKABwlJdjgOgQfCwOz5PN8r+RR+zSWwWjrGQ0r6DUSWrcHPpXDWGA2OaMmm4whLA7IgLu7OyIiIgRY1NfXy30gRKLnwqkYFjJ24rHxGPV2sGvXLmlHDPtojI9H1333mUCLtFWrkJOTYwA0/A2hBb0XuC22qyMRj+FkXyPuj0lEFyxYIODC2SNAstkn5TXDO7UZi3J3mb3vuhbk78OqzH645w3Av2hAKoCw/Qu8o+fRSNiIDvCOB8A4VhnavBGoMG730Y27lfG4G94VO2FXZJqU11hWKRsx2yEcdit84eQTj4DofIEVLGOYU9mPvNoBZVwOSsLE3Jq1yKlag6yKPmSU9SC9pBMphe1Iym8VsMEcBQegRqXEvRNshCSUIDiuCIExBfCLyoGnMn5m+zjiJ+4/GQUq6H3xB/e/4EL3y/Ge63Ss8o4RWMHR3cDYQvipY5sT348v07aL15gOLQiglsS3wDW5cVRZ5xMNLp5641MEqP2ZW3a8RSDAJK7mlv2QWDHK3PxjFa8r2yCTGzNXUGjdbiwp/tq0jWXvxsQFPvh8hi0WrvRT9zNb2o0WGrL/rA4N+bGkAwtDHovmenwb9xcTYLE//DeI9LEVcMiwkET1XpVqIR2WsJAfS7zWYdGphn4jE7+fjOmMgRZM4KVfvPT0wlEd9eMl3XjWoYXvGGhxNorQws0tWMIr6LFAaEFAQOPIGDjoUIEgQYcIuvhd967gukdqSOv7MZYONIz3rUkDGgMjMIPGO70wmBfjHyW+GqwocxFgwUSjD/ssMgstfn/phQIUmCSVeUuMocVH+RH4643XSKgNQ0XoRaFDi4esJ+PKZx+RxJ5XPf8onlw+V6AHy6rS8+Lvt10vyVe57kXqN6+HO8tnemqwtCnzpdz49gt4M9IV72cGyTILtLDoaMRnLzk5Z6QKiS+WLbM3vEMpZoGm4cz8FwxNONhEg43GomGEXRnZmwsL0f/mmyYGavSbUzEtsE7cq2embMVco5FKrXP5HeyzN8BNGW9+RYMIrdBGnmm8SdiIMohoGAm8EOONhtuPY7wZjLYRUCFGW+c3EgZCz4qQur3wqxrGYjMdaIPUeS9IHcQyr3DJYcGQkLy8PDQ0NAiwYKgEw20ILE7VsJCxE4/PGFwQYLEEL8OFGmNi0H3vvYb20HvxxUiNjFTvpUKwOsq6desEWtCrhGEmPG+Knw8lfT3uk9dJBx469OAxncjrxm0TLC1dulTAhd2iJTIKmFO9Rgxp36RaLM7ZDpuCQxvvC/K/hkPOINzz1sG/eJ14XkTWbJGwDiarFe8LPgPKEDZAvLHPwQl4FrS2rkOKMW2+61uBKjw2HiOTbAbWDMOj7NCgjmJSRKvEAcyxD8AihwA4+yYoo6RQPCqyyvtQ3LgJ5e3bUd21CzVK/FvVuUuMlfK2bShr3YLS5iG13kYU1m9AQe2gGDM5Vf3IruhDZlkPMkq7BWwwYR/zF9DgicuqQ0hyCW7xv38UrPizx99xscdV+Mh1LlZ6REp4im9kDkITSxGdUaMBkcw6eKY0wSpju4S5MXkooauck3qelyW1wy29BUFFLOs8Flwc33cVw4GWhuara78PUTXbpIoJ2wz/sgQqEx3zc0jZelmflUBcUxollIjzmQhW3xaXEejSU4Tfw9Uyh5gKCdvTtrtRkh6/NdlW8hDxfFyS6uCa3CC5PPibULWflTHlo46B8/USq5xHDxx9n8cqXksCC/5P0IHFUnPvW3VfJnvkYcLnszHL1hGOPrGITKsU+FXduVNG6mn0mjPOLDpxouHbtv57yWPR1N6HXWkPmQCL7yN+htKA1+DsFy/hYXz+CCz57Nf3WcJCfixVd20fVTGEeZ1OxnTGQIu6ujpDZzs3t9JsJ/1YpRvDNHY5Su9f22BiIJ5tuj/aDd7ekVKWlPkiGIJhDC2Mr51+/Ywhgu5ZQXHZiTCi9X0bH4N+HLyXzKPR0LAW/yjzlzKuogpND/uahxa//PMfpCzs7y+7CM+62go8oAgt+Pcf99yCl/2X496ZHwug0KHFHZ+9I+Ejlz1+v+h5z0US5nHtq09JaMlvz/+rIWyE0IL75Weuy+0wPOSuL97H+bffiMeWfCnLLNDComMV32dRUaqDLvkvXA3vUl2MVaRBSfc/GoL6ZGygcnR8V28vNkVHY/WVV46CFQYjVclhmQ++DK3H9IT1mrdFLksHcqRytDvv0pwtAi98ijcgRHWCGbrB0o6jjDdlMJ0M422U0cb9GIy27wygglAlqnEPgms0z4qFB8lboYsJN+0Se7DSyV1dd19JuknjnR4H9BzUgQWN8tMFWOiTcbsggCC4YOiRgIvISHTdc4+0h64bb5TEsEzCyQocDCmiZwkhGfNU8fwZZsLvFIHGWHE+19HXJzwgLCFA04GGMcg4UdeR2wwJCYGtrS1sbGyQVtCoOtZbNXChDOWghFIsy1wP29yDJ+g0SBlZK3I2wi13AF6FgwgsGRTvi8iarfIMaOFT+6Tdsayl8XNw4Fkwfh4OPBeH1oF1dTiht3WtvWuQgvvkvukFEqeex+iGYQTXDsO/ciecSnebdc0fKzH6I5oxd5EbljgFyShqSHyJQIVcZUyWNm9BTfduGUkVo8ZYa76W+XQnr+/bh7rePeLir0GNnQI1Ktq3o7xtqwFslDRtEpBEb43sytVYlREtoIIVSf7uczGu8LkB07yXwUkZtO6BKZI7g7CC4Sgckc8s7xOvD+ZASMpvgYt6MRC6aF4WRuervtsnd8A9o13ABe/ZsVRHOpRsfdPx69/+TsLemJT1V+f8Hp/YuIlnGKvDTJi9Uj4/8+4Xsv6LH86USkvvTl8s85mclR4KgcVr8cDz7+Cux17CE69/LG3N2jMRv/ndHyXR8UVX3iAVZf58/sX420VXqH24SvjL9Xc8JPthMuM0dW5c55e//i0mLfKR7T/84rsy/8N5jlKGmvMIQ8aex5FKb6sEJwQWfBZC6vaYTbxJfRnbh/GfzMLk2YulrflH5SGlqF3aBdsPQxM44m/OOLPoxEgDFloei4burdiYN8UEWFC9wbfA0SdG8thEpFYirbhLIGVNtyUs5McSr3VIVLKhf5iWljbyX/DET2cMtGASL/0CFhbWme2YH6t0g5ej9AxxCKpvxs8q3PGzcjf8rMwNPy1zxU9LXEbkfAZLnV+pOld1vk8k+CIsLE1KljLZJT1QCAIIBMwZxDo40KWDCl1j1z+R4v7odcFwEea4uLA8QIMVRga/OWjBhJu/u/QfkmyT+S7+eOXFeC/FX6qsXP3i45IU86mV8wRO8HfMcXLBnTdhRmc+nl5ljZvGvyzAY0JWCKY0ZeL2T97Cg/MmSVJPlqPl9rnu+eo3b8a4G6DFa+o4PqtMwDuJPvK7319ygUAMC7Sw6HiqrKwFfn7B4n3BkWP9vUp5eHiI4UnvCxqHNARpFO5Xn3fU1GBw6lQTUKGr+4or0PDAA4hV2/QOCMWCmBZYpWwYFSJirsPJZIbOeYPwKNoIv9JNMvLHDP003uKadwssOKTxJgacZoQZG2WaRhtqurT1R347ymjTIAWBiYwst+zVQEXtHgRWDx+ewabOld4VS4LzJJdIUFCQQCFWCWHSTd1w5/U9HYGFPungQtrH/v1SrpXgi2EUDaGh6Lr7brQ99ZQkG+X/7/rGZjR29qOpbwiN/dtUh3SnMlB3qM/blXG6DfWrt6Kub8socR6XcZ3WtdvRM7gVG4a2CPBhbgxCDcIMXktCNYIMHWIcDGAM7B3A9m+2y+fOXZ3Y+8+9aN3RKuob7pP5/bv70bCtAbu/HV2Pnp5JCxcuFHDh6RsihjTBBTPcJxW0SpiCU2IzFmZtg02+0Ygw276IBvC38jyImPMlZxgrswbgmrMGHgXr4V+yXhJtcpQ9una7eGEQHPA5MMA8Pgud3448D1pYifFzcTDp60k7J5xQbZ3b0ts798FnjlVGIuqGJXcAQYVb2S4s/IEQEF3WuftglbQOc9xSMX+ZJ5a7hUuoBsM4kgvbxFOCsKG2d68ACholNG5omPDvAXH+9+Ja3rLuOzF+NKChQY3G/jFgo28vatT9INTIb1qHeyOfwiVB1+Cm4LuxNCZEDFmGjTB8JCypHHFZ9UhVhi1H4wk7mPCvvHUbSpo3S4hKYl4Lludu1u7Z2PNU99I+bbVUR6K3AXOJ0MhnZRYa2axwob1rjh1e3PnoCwIt+JkJhJmYmJ8vufpm8YLg5z+ed4HkfODnX/7mHEOIx2XX3SZhGwyDm+cWL/OmLPHHu9MWy+db7nsS1p5J8Mntlnv/6idzMds5WpbRg4Rldpn358LLrxM4w/lX3Xw3nJPq5fOl194isJmf//jXC+TvsYrXTMJBVDslCIpTxxFUswcLi81D4jlJ6zFh1gp8Ns0G85d6wj0oFTEZdQKvCLl0LwuL0XvyxGvN57ll4Dv1Dlf2VEWQWWCxI+w8eHr7SngWw7sYAsb7Vtmx0xAWYgEWJ19V7VuxePEBLwv+vz1Z0xkDLcrKygwd6+LiBrOd8WMVDbwD0GIHfBsacG6pJ35b4oFfF7jg13nO+FWuI36ZQ63CL7LPTPH8eJ6/Vef7cVwoEhMLlTHcjIaGAfFaYG4KHUaYu46nijRo8ZUY8EwOemFFoInBbw5avBywQsI1+JlA4Z7pE3DT+JcwpTlTQjc+KY3FF3VpuOyJ+2U517/imYcljITVWJiY8yVfe9w99QN8lBeB5z0W4Zb3X5XqLTe8+TxeD3NW62ZLhRKWW+U2GIryotdSvBXrgftnfyrJXW9+7xWLp4VFJ0xdXVsQGhoryTtXrlxleL/SKKNbYFFREVavXo0hegXk56PfyO1/rFpvuw0Vr7+O6MhIxMfHS9JCehZ4JpRhaeYGLMjdKx19c53OA/oOi/N2wTV/PbyKN8G3dDOCKzaPNt6UYcDONA0sgoxDGXAURwGNv2vLdYONbu8jBhtHlVv3Ib5ljzLYdiO8TovXD6hSx1N68Gogo/UdFqRvgl1CF1Y6e8Db21vCQehpUFlZKSGOhEE0tmlk68b16Qgs9InHznMgMKA3BD11GPbCUJBynwDkTZmLuOwKJBfUIr64DV6F67Ekf9eBEWyz19G8WJXCt3IXspqHUNm5QRmoQ2hcvQWrBzdjaGizQBMdYuieGHo4CQEGrzG1smklVjavFHDxTMYzaNvRhhtjb8SUsimwb7THtq+34YPCD/BO3juo3lw9cqbaxPN0cHCQZ8TOzg5lzRuVsbwPFe3bJCdDanEnIlOr4BOZi6Upa2CbuUWdKz2NtLLA83K/Es8jgjzmS5ibtUcq7szJHBbNytiKJep5cc7uh3vBILzVc+BfthkhlVvEOKQxGlO3Y+RZGBbAwDbLZ0KHGiK2Z2ONzOc6XJe/4W+5jRi1rci6XQip3YXA6l3wr9wBn/LtWFlMQHcE94ihIMnrMS+8QbwrFq0KgBMrAUTlIiq9RvJXFNQPiocErxkhxNhRVP4dKy7XNRpqaGCD29DBBqEGY+ez2vpwb/QTCC0tk/0yHIU5NGKz6sTTI62kC7nVa2REt6Jtu4zq8pjq+/ardrVHoAphRmxOE+xzt6nzM//uknuVyepIqwW2skIL3yN6jp7j4XUxFlq4pzXLZ+bpYWJjfmYJaD0s45w//EX+Unc9/pKEgNzzxKtwjK+WeQsDs6XCEj8TWjBsRF/fGFr45/ViorUznnrrM7XNPxtCUAgtGB7Czzfc9TACCrR8G8cKLQQw92pVabRwkK8Q1bhXPfMHB8Vzkjfio7mqnzplHuYudJH8JGHJ5RI2xPAiyWVh8bI4qdKf2Tb1XPJZbG2qwj9jzjUBFvvCf4sYX2sJ0QqMLUBcToN4OvG+iXeMJSzkRxHfpf4hMYb+IPsvJ3M6Y6BFcXGx4SKy1J+5TvixSocWa9ZoOS1m1BaaGIhnk35R6g4/vxjJZ0FjmNCCHiiEFvS0MHcNTyUdLbQgICAoIDA4FWSBFhYdT7FNGIvtJD29CD4+QXBx8TCMJNMF3n7qVJTOmYO+iy82Cyt6LrsMTQ88gIylS5GQkICMjAwZWWc4AMXPaekZcMvshn3OZizI32+282lOdmrdlflb4VG4Ad4lQ/At24qA8q0IqdqKiJqtmgFHV3oacI3KgGtSBpyMSNOAMy8up7gufxNVvwvhtcMIrhkWTwqOKnuV7YR98d7DcoEXFXwHm/Qh2CkjdblHiHirMIyA3hUEP8xfwQobmzZtEqNarxJyOntYUAQBPAd6i/CceG59g5tR1bEeebXd8M9pw+zoDkyK6MOUmAHMSBqScKG5ymAflSfgGLS4+BtpC6Wtg6jq2oSO/o2qjW+SkSEeD8NJCBp0jxYec/O2ZlwTfQ0W1y/G+wXvY+c3O/ETz5+gcVujeFikDaThxpgbsWbPGoNHhvHEpKJ8Rqjw2IyR0cT9ErLAvAsZZd1iHLMj7hySDbvEPsxPXoe56dvk/Gen78DM1M34LKkd78UX443YVLwemyL6IL4Cs9Rygox5ufswP/8rLMobhkPeFrgXboRX8RC8S7fIs+CvnoXAim0IqtyG4KptCK3ehvCabYio3Y5I9Wzwb3jtDoQphdbsRIhScPVOBFbtlHZOOOFXsR3eZdvgVLwLS4r2HX6bN5J1zh7xrLCKbsfcZb6wW+mLlZ5RUtkjJLFEcn4wRr2ocaN4QfBaiUFyFG7fOsgwlg40dEOJ26axxFH20ubNhnAR5tDIVkYRvzOUhPCEnjL01CBAIfRgGAHBB0ssMoEjjzsqsx5Lc7ap9moe4CzI2wvHjD545/UhuHSdeImJ14Uyug35eY4BXtz24NNwStTK07I8s8uIlwOhBXNX8DOhBYEUP//qt+dKOEi8OoZrb39APEEII2Y5Rcryz+288MGsFfL5hrsekeok/Ey9MckGU5b6y+dn3v4cXzpGyPuVJaX1RJu694b2+4fhk9MlnwktUjq/k89HIoEVfSMldLtYleZr8XALrt2NVWXqGTBzzanZSRvwkbU7PvpCnduCVVjpEYHAuEKkFHWguGkItb175J5aDN+TK15rXvMWPlMdvdiTcqcJsPhnxM9R4P+uVHih9xPzyTDpLsN5tEov3x7V+8GiY1deZbfB1nZycpL/oydzOmOgBWOB9QvJ8n7mOuPHKnbgaYyz0kV7+2ZMq843GIY/qXDD/ytXfw1yPWOln/P/lbjBzS0EUVGZyM9vkBKmmqfFXoE75q7hqSTdILNAC/PXx6KzSzqkWK/axXrJMaNL85ri35qaHvG8cHH2gNPnnyP7IGUsqfabbkL1iy8iNiJCDHRWxGAYAHM20KuAYSZtbW2Sj4jQOTU9E25Z3bDP3QzbvMOI+x8rZTQsyt+Llfnb4VY4NMqA8yvfpgywHWKI0SALUIYZjTP+pbcEpRtqurHmq4w115IdWF60B3aFh+f6PkoF32BB2kYsJKzwipDKIAwFoacJr0VVVZWESjBkgkY0PQBoQBNYHCx04VSezMEKejTsGN6Dro170LhmhzKWd2Be9m7MStuBGcmbMT1xo2hm8hbNGGc1hlwzeQKOi74TD4Gi5gFlHG9E39r1UpKVHhj0AjH2vng7722c43+OAAxCCyZq/KDgA7i2umLj/o24J/EezKqahXV7142c/YGJCcns7e0FWtivWIn63t1iHHF0kG7NHL1nXgQmdQxOKJZynDPdHfFOaBhei0nCa1GJeCEiFLcEfoo/+FyF//LQqlv81ON/8GJYmLpeG7TKFcZJbMdcK3pA2BJoFOzFkoI9sC8cxsrCHXAs3AaXoq1wL9oMl+KtcCraAYeiXViuli8t3ItFhfthW/D1kXlQHETWmTsEVswLqRLPCsKKFe7qOQhKEWBDQyS1uAP5NQMSesH8FVJBgJUAToBBogMMbptGD+8HwQVHbrl/PfyD4IQGLY9F8/bQKhPooucG59f27EGJMn45ah+RXotl2ZtHh/yM0bLMDRLi41+4RnJGRNftQHzzXs0bbAy8OBKA8cw7X8A5qU77/PbnkmiTn58bPxm+eT3y+cHn31b72y6fz/3jXzB5qR9ckhtw39NvyDyP9Ba8+YWNfGbeCybO5OfHX/sIHhlt8pma4xKDSYt95DPzVkxdFiDJO+97+nXJ38H5zG+hVzNh2Il3dqd8vvfJVw3HcDjiNeD10MOWCCsIXsLr98Kvchi2B/NuU8/CrLg1+MjKFR99MQ+zbBwkBCkgOg9JBS0orF+PatXWLGEhP44EWhAe9m3HlryPTYDFfyL/Cx0h90iyVC2PRYV4qMl9U88rQ7/4TFqAxclX05qv4OrhK3b24sWLxUP0ZE9nDLTIz883QIvKynaznfJjFTvuhBZMNMlSmcbQ4nf5rvhbprPo79kuOD/HBX/PdcX5uW44P+80F89B6e85rkou+H8j4ILQwsnJT4zh3Nw6gRb0tGAlEAu0OHmyQAuLjlVsB/r7baB+DQZaN0oYnCatsg//8t3Xq959zWHJaL7xJrOwgsk2i66+GkmTJ0sISHp6ungU1NTUCKxgWUuWwWSoAP/ye2dnp8ALrpeSmgbP9CaJF1+SvQU2yogy2zk9an2HBcrQY2WD42GcjZVN1nbYpg5gUVIPVnqwMosngoOD5VpkZ2cLuGHuCobW0LuCSSqN81cYhyqcLhOPVQ8FYVgL4cvWnXvRsWEPSnuHsaT4GzGuGQbBEAiGPjDcQTwLlPiZ87jsUPlNjpdo8MTXrEdZ6zq0965TbX+DIQEo4UXK6hTcHHuz3Isd3+wQTwsCiqH9QyLmtrg9/nbY1dqNXIHRE8N+2BchuIhNLTQYulntfQisLoBTYTzsM0OxIMEbbwZPwtVet+Dn7v9jqGRhTn/1vB2fBrVjcnQ/ZiRu0pLY5mihJSf6eh2urLP3SAiIdfIg5nnnwGqJu1QFcfCMgscIrIhKr5YqHnT1JsChB4qEgygjUi9deKIMEjGYBDz8U+4HvSiYO0MXvTzGwgr9WHTxu9xPdbw0flnhJL2kG5GplViZMQDbvL1mrw1lo+6VQ9YA3PMHEFg8gPCqoZHkwmPgRc+JK2n7h/POB3P2cL/mlv/Y0nIKabCC10NgRet+RNQzb9BBqoOMiGFlMyM78d4UW3w8xQqzFzhiuWsY/KNyJeynoE7LY9Eohq8Gxsy1k5Mh4zZ1NonPlHi4tLdhX+K1QOR/jYIWW8P+AXffEM0TK6FUkt4yzw09n7SkqQe8Yw5H5q69RUenxMxyg53Nfg3/35/s6YyBFhy50i9mdXXnqA758ZLeqTdAi6oD0OL2eEe8GuggJSrfjvPCe8rI/SArBB/mhuPDvHApg3m6iucwISdMSnG+m+SLX5Rq5/y/xa5YscILQUGJkoizrm6NeFqcqdCCiTK/qE+TUqZMujmzq+CUEI+Fx8Rje7c02uQcLNDCokOJbUB/txFS9K/wxGrvcElQ29e3UxnXu9DfPyxtprtmNTq9I9B72eVmgUXbJZcg6/rr8dHzz2Pu3LlirDPmsampSf2+T+1ng4xs65Ue+JdGOwEGE1ASaujwgrAjIj4djlmrsSxnCIsIMPLNZ4f/cfUdbLJ2wDZ1HRamDWBZUCZcXF2lIkh4eDgSExMlZICwgrkceB0Ia3gdeA1oJJ8J3hU8B8KKHbv3onPjHmR17IFtsZExTcNayZC/QRkYkr9B9JXmYZE1DKv0LbBO3QTrtCFYp2/GfNEWzM84iLiM62Ruw/ycPWofRwKivkNw+RCKm9ago3et+r+1Xu5L3uo8vJ79ugCYnV/txHXR18Gx2RERPRFIXpOM5Y3L8X7h+wjpDhm5EqMnAqnly5dLf2TpMntUd+4QDwLHqlg8EPsMfjLiPXG4+qnbz/DYqiX40KcWn4d1YVr8BvFM+aEktidcvJ8Z22GdtA7zkwdhFVyFefZ+WLDcB8tcQuDkEwev0AwExxeJZwVhBUMxmNiSuSLoraB5V3wnRqSxMWKu03ys4nZpqOrggvsloNDFefpxGMOKsduQ36v7SeO3unsYRQQXpd2ISq2CU0onFmZvV9fn4PeEYXCO2WvhUaBVhhF4IZ4Xe7SwkZGcFwe8L44PwGBC0AuvvF7K6Jpb/mNJ86rQqtXwvJlTiBBH86zYIyV0VxQfPBSE7XBO6mYppz3+0y/x2XQbyWHBsrX0sCCwYNgPvWh0b54TDSw61PYPtLXvZZ9sbwxPoprXqjZ3FooJcsXrTL0TqytLsC32Jnwf+XMBFnvDf4cov6WSx4K5bqKZ66akS8LqCDcJFqWa0JpvzG7bnPTrLdde3YNRMPIEt4EzSXU9w7BfvlL+py1btkwGmn6M6QyFFl0mHfPjIRNoUZ1nMAzvSnGVqg/vpQViYlE0Pq9OxuSmTBkBn96Rh+md+aetprXnYeqIUfxpeTx+We4h50xo4eDgg5CQpBFo0X9mQosgB4xP8sXEgihMqkmRyh2EBNPac08NqWPhMfHY3imKMDkHC7Sw6FDS32uspNOv2kXf08+j543xaGvbJO+5jo7N6h/UFnTm16PTaolZWEG13HATUh59Am++8SbeeustvPfee5g4caJUyGCiZJbx5Eg28xvoVRz0UXl6GhjDC4aOMNcDf0fvBBr+QTFpWJXejWXZQ1iStRF2yjA4lDv2idN3UtHBNn0D7NLWYVHaWtgHZ8HF1R0+PnwfhiA2NlagC8MWq6urpZynMazQk0HqyTZPd+8Keons3bcfvUN7Udy7GwuNYYWxdHAx4nVhxRCClI2wSlVKWQ+riEbM88nCPPd4WHskYr5XMmx8UmDrmwZbv3TY+WcoZY4oQ+ZxmY1PKmwCcjE/ugk2aRthk7lVAxrZu9T+fhhiMFdDVOUgSpr60dO3Gj3relA7UCvtcv/X+1G/uR6NWxvRvasb//7Pv1G1uUpyWhxqYg4X9kfobREcmaQ60N+IkRtSW4Kbw+/FBf6XGkI/fkh/W34R3p/jhImr0vCFTxlmhLZiVuI6zMsaPrnQgklDCSlSNgikmJ+4FvO8MmC91AN2K3yx1CUEDl7RcA9KltFtVkuJza6XMJCcqn4UNWxEucCKA7kixkICcx3m4yUdQujG5Fhxvn4chzoWLuP6Orhgok7mScgs61WGVi28YkqwJHMzbA7hdUEtyP8KjjmDUhUmoHi9FjbCpMJNw2Kwa94Xo8s6HwvAWKCelWnLg7A4KNfs8pMlHr/mUaGBCmOvCiaEjW3ao56TPfCvGjZfxlR/j/AdkrsPM6N78PGiQLz/yUxMnrUINqo9rvKORVBcoYzUF9QNjgIWvHeHur/HIr1t0FCO6xuCf/da+HX2w6e9F16t3fBs6RpR51kp96YOuDa0wqm6EcuLK7AoPQNZUbegK+Jc+AS+gc+9/TE1MASzouNgk5qFpQWlcKiohUtdM9wa2+T3Hs3mt21e2vXmtQ9t6x/JVcNwxa/lHp3ItnCmqH3DvxAanWqwsSMjI0f+y5386YyBFkzopl/Q8vI2k4758dChoYUb3o7zxPsZQfi4hNUjUqX0pWFE3oxb/6HEKhOTGzIM3wk+tLAEtT2j9aa36/O1EAFq7P4M843mHYm4be5nSmMGPqtMHAMtfFUnPfmMhRYPednhZf/lcm8nZIfi07I4gQOT69MwWV2PU0LqWHhMPLY3c0NNzsECLSw6lPissi1I6EdJG/ouugi9V16JuqJm1NSslue6OS4Pna+/axZWcP36O+9B3NS58PAIxZw58zFz5hxMmvQFpkyZoj7PVPPmSBJOjkATUtBIN5Y+Sk8jkYmdmBeAlTSYoJKhFDT8mfciKysLBBiR0dHwjs2DQ3oflmVvwtKsjVicSZCxbcRQOE5GXP7XsMneCdt0te3UASzUIUVkKZy8AiSppr+/P8LCwgRUsF55Xl6e+h9ULtCFniOsljEWVhiHgpyuyTaN79vmnXvRtG4vVpT9ECBQhkbWTs2TgiEEQeWY60ZAkYAF3imw88uQko1LQvJhH16EFeo6r4wuh0NsJRzjquAUX61UM6JqmcdlDmodrmsfUYyloaovoIwyu4BMLAivhk3aBg1iqP3+EMCwK/waqVV9qG3tFcjGdkjQxnPUvWEOFy4xT8mqVasMSTkLavok/ICd5rzadbBSfYafev7MLKQw1k/df4YXrd/H1DlLJT5/3iJXzF8ZiPm+ObCJ6cCC1A0iGyptSJ3nLsyXJJ1fHznM4Pqs3JK7V3JSWKdsNHhR2KSsx/yoVlh5ZWD+igDYrvDBEscgLHcPlyogHiGp8I/OQ2hCiVTiSFTGIpOO0rVbS2y5Q4yFA7DCNPxibGf5REjf18Fk7jfmxHV1cME4e4IYJvbMqliNuOxGCYVZkdQBO7a9gkPnxLFR7XJ5zhDc8wfhXbIJIeUbpSoSQzi0ikgjAMPYA0MZ+8fTC+NEyhykMPaoIKhgiIzmVbEbXuW7sPBgeYQIK9T1orfW7Jg+TAmoxjsff4kPJ83GtHnLYLfcFy7+CdIOWUK3oH49qiQk5OQBC7ZvtvWba2JN+mNnvRheXuaMcUWOGJezAuNSFmFc9Hw8FPoGxvnPxLgApdA5GBdrg3Gpi7V1itW6/A1/W3Egr96R6uKSAMTlNEoCXT6rvEe8VxZwcWiVNg4a7Gv+T2NY6481nTHQgjXu9YtaUnLiqoecaGgxqToZ41P88XlVEt5LDcBrYU6yDeYreMnPHu8k+hjWJcB4yXeZzCPkYM6F5z0Xi0eAYXu1KTKPISpHm4fhbIYWN4Qsxr1hy/FQoiueyPLD04UheK4sHM9XROGFylNDPBYeE4/toRw/k3MgtFi50gItLDIV7z+fVT6zDAfpXuhggBHV9m4oyK1HpX8suu64ezSoGFH3pZeh5v6HELicxnusamPpSEoqUu+DKri6+qp25wQbmwWYP38+FixYIC7z9DqgR4Vu/OkGsG4E0wuD8ILGIvMM0OCnAUnvC4ZXMDcGK48w5IKQgIktmUMgKCwCHlHZWJXUiGVZgwIyWHKQWpyxHovS1T/eES0UrRcIoct4OdenliZ1YUV4Ppx9wgRQMOQjMDBQwj5iYmIkwShBCqE5wz8IKphclF4VhC48T3qQHApWHI4BfKpMxveLXiL0mlm9eS/SOg49okwD2ipts4zQzw0sxly3OPGioKcEAcOy8CKBEyy7yASBbqnN8MxokyR+rD7AhIL++X1SPtFYnMdlvrndsq5nZjvc01pkG47xNVgZUyEgY3FwLmzDK6TkrA3DSJRhbvY4R8QkroX13ejp6VHPyAZD3hHdM+Zw7xs9bQgsWP7U2c0bxY3rkdO4BqtyY/Bs5DtmIcVYXeR4BebYOcF2ha8kFHTyjYdbYBLcglLgqv4SGNC7wd4tDEs8E7AwtAy2MS2wTezFgpR1sE3bKAlhR8EN0foRad9lWfIAbOK6MD+yEfP982HjGIYF9t5Y6OCHJU5Bsn/uy9kvHu7BqfCJyJbR7IjkCqmIkpTfiozSbuRWrxWvirLWLajq3CXVNg6VK8JcR/l0kG6k0luEnjR0Xy9r3Yo8df7JBa0ISy6De1gOFqv3iy3b3WFAJCZQdczdIFWRfEuGEFK+CRE1WyR8hBWNWOWIZWo1iKGVcTZADAEZhBi6TjLMEDgxGlCMhRQsQc0QGIIYelSE1e0WUMFyxfbFP1A9agRYzEraCKvAeiwZPxVzX3obUz+ZiRnWy2Gn2ilDC0IILArapMxwZcd2AWUnY1SdbZptgfsrV+3gxqook/7YWS9ChzIXjCtxwrgCB4zLstfARdwCjIuZr8GKBDuMS1uiAYuiVRhXSmChfnMMwIL6e66nvDcjUislGTKfVd4r3jPeO3P39GxXU/9+ePoGG+xr5o/8MaczBlowi6l+UQsLa00658dDJxxadBXi/tmf4sZ3XxIg8XlVMv5+2w3i+s/lf7z6Mlxw103aNtX3jwoi8du//wV3T35f+54XgV//9U+49cPXDdt8xnkBfvGn3+O1EEfDvCPV2QwtzgRpnhY+FmhhkYmM32ldHZvR89hTBiDR8PwrKFjuge6rrhkFKnS1X3MtSp9+Ad7uocqQJzjIQmpqmWpjzaiu7kNz8wYJMQkNjYWrq5dhxJny8/OTBJw05jnpRiANeR1e6NUnuA69LzhyrSfupDFJOMBKJKzCQYhBDwcChNTUVHHNp+cD3RjpBcGQDcKGgIAA8Yzw9fOHj38gfHx9BURQPCYu43rMxREaGoqIiAhER0dLEk0CCnqLEJYw5wYhRW1trYAUxnfSo4KgghUpduzYIdCFhi5H6Y3DQE5HWMFJP2YdWOxV58bcFW5VhwjREVgxBKv41Zjjnggr9wRxUSeoIExYFVslgIFlFQknCCECi9YipGw9wso3Sqw/R5wja7UStqw+YCzO4zLG6HNdutfzt0HFA1IBwSe3W+CHq9rHqrgqLI8sweKQAtgm92vw4hA5UpYU7kNmZSda2jrUu3KdIQeJDp4OdQ85n/eZ95/hUSwPPM96HmzDnDAraxX+x+t/zQKKsfqZ+3/j3RXTsMQpGC5+iaAnQ3hKheSHiMmsk5hvfg9NLJWRfZYH9ArLkAodrgGJAjgcvWOw0isKKzwisNw9QuCGvWsYlrmGiviZ87hshUekrOvoHSu/5Ta4LW6T2w6MLZR9sdMfq/afmNeC1KIOGbmkR0XxCKhglRSOYtKzhCVCjXNW0Dg43WGFsXgePCe9KgmTila270Bhw3pklHbJfQqIzodTSC4Wpm/EAvG8OLy8KwIw8oZGyjpvRkD5ZoRVbTaUc45rGpbyn/RUSCLE6PjGADJGeWQYAY3RUEMDG4evA7/Tt2W8fe5vLKAQT4oRSBHXvBuRDbsRXLMbAdXD8K7YiWU/BCqMxLwVTLT58aJgOD3+nPwf6rzkEkQ8/zo8p8yD7xI3BEbnIjarXkrYljQPobpzlxEwO7FlMrlttnVCuuKmTbi+4kC47v8Uu+Cc7FWachxF5+Y6HVDeWSKeK89dXYdzM1bi3FR7nJO0FOfELsI5MQvVX6X4JTgneRnOTV+BczMdtPVzlcxtb6yMrimvMa+7fg/Oy3KV911ATD5SitrlHvFe0VuK987cPT2bxeckPv2AQ4Cbm5sMVPyY0xkDLdh51C9sbm6lSef8eOhEQwuGg/zf787BlOYsw7zpRmEdN7z1Av587eX4MCdMvj9k/QVufOcFPDDnM/n+WUWCWud5/OnqyzTQofZ760dv4KIH75Rj07dzpLJAi9NbhBarVvkqAy7DBFqcDvfJohMn3n+2Aybb7MirGwUlei67HL0XXzxqnq6mm25B+viJ8PaOUAZ+ImJjc5GZWYniYpYwXSOword3h7wruf22to0ICAiDk5Or4T1NMUknDX0awZx0Q1CHFzQOuYzeF/xnqQMMGpCEA0ycSC8MQgyWD2UoSX19vYSTECoQZnC0m6MDzHvE/BgEG4QPY8Vj4TJCCQIQek8wJIWhHgQj/B/DhKKEJfT6YKgL828QpDCMgKPxxqCCxq0eUmAMK07XicfO8+B5De/Zh6Z1e7Ck5CDGV8F3klDTKr4Pc1zjYOWRADu/dCwJzRfvB5fkenhmtsEvr0dKJYaWbxA4YTDGGpUx1rxHG1VWBhmNHoqGmbH0+Ylt+2Vd/oaGXGzDTrWt7bJNbpsQwy+vF15qnwQYDClZGlYI25R+LMjaflAjklVm4su6UdvUKu1ML03L9si2OfaeGrdd3WuIUGvq0ql41fZVnON8jgmY0PVfHv9lMu8yl2ux1DkYbgFJUh41PrcJmep4cqvXCCTIq1mL7Mp+ZJT1IK24E0kFrbIOjTYCjcjUKkQQaiSVISSxREagmRQziIor1KQ+cx6XhSSWyrr8DX/LbXBb3Ca3zX0wb0NO1Rrk1w5IQs2S5s0S8qJ5VIyAijVfj/KqOBNhhbEM4EKdJ41WGsnMc1Hashk54nXRJtfUOzwTDkFZWJi2HguYPPYIcvKw0tHS/F1wyd8onkA+pVsQUL4FoVWEdlvBEqqxDbtGQAafnX2GZ0a8MkaAhpYjQ4MaOtg4XOm/4e8FSnB7BBNGcCKxdZ88iwxriW4YRnjdMIJGIIVv5Q44lgzD9khKSKt3yeykDZgV3YPPl0VI3orPPp+N0htvMfm/VPvgY0hZ6oFMryhk5jSioH4QhGjVXcOGdmkM0JiI8Xi2Rx1aENgVqmfj+vID0OIfySvxhOsCPOlmi6e9FuFZ32V4PnA5Xgx2wIshq/Bi6FmkEAe8ELwSLwStxPMBy/Gcvz2e9VumrslS+cvvz6n5zweu0NZT6/M3Zrc1VryW6pry2vIaX5rkYLgHf8l0wTKXUEnyyfcZqxexvLEFWphXResQlixZKn01esmyj/VjT2cMtGBn8kBHuNSkc348dKKhBX97zgV/M3xn9ZE3Il3xQWawfCe0eND6C9w5abwkX7zjs3dw78yJo6DFXZPfx2VP3C/JIz8ti5dlFmhhXrrBRgOehvyFlacYtKArnLHMrXMY+k2BK1xcAhETk6WMsFa0tm60QAuL5H3G+8+KISxV3DF/mUkn0JzqbrsT4dOt4eUVIc9+fHw+srNrlHHfgYYGVgDZIu1r7dp9hjbGfXGfpaXN8PMLVv8AVxje18xETY8JQghzBqA5gEEowFFvY4hBcMBYS4IMwgR6PjAnRnd3t3hC8B8uQ1MINnTRoKSM5xFKMBcFwQRhCEM96N3B0XaGCjDkg8arDil4HAQqhwIVxud1Ok48fp4Pr/+u3XtRpf4H2hwkb4h1jlb2crZHCqzc42Hrm46lofkCCtxSm8SjIrBojcAEekgY4vaVsUOjRzewUqX8I40qpR5lNIn+NUYj88WoUsaU+g0NKcPortomt02IQcMutGKDQBKfnG64pzWL98WyiFLYMmwkd4/Z86HCivtQVd8soIrtbPfu3QaPC/0eG8MKLmObaN/Uro4pFXcE32ECJIz1a/dzcJHrlfhvj58b5vHzR85zJRQjKK4ACXnNAgvKlCFc1bED1d27pHwjEwyyEgddnTmyzI54Yf16FNQOCthgqAZ/R7iRXbFavCLoGm0szuMyrsN1+Rv+ltvgtrjNErVf7oP74j5plOuQgkb6AY+KswNUjJV+njxvGsW8HuJ1oe4Vr19WRS8SchsRllgKr9B0OPglY2FSv4TuSL4VM+3ukFLG/OL8PVhVsBUeRZvgVbIZvmVb4VexDUGV2xBavQ0R9E6q3S7PmACNxmF5HnQgqEFB9dyJ9o8AQh0SjnzW54/AiANwcLfSMGLUdiPrd43AiWGBE/6VO9Vx7IB72U6sKN4L26MoLW2VvQezYldjVlQXPp7viY8+n4PPZ9hihvUKOH4+y+z/Jl1dV1+DEit7FPknoDihBMX1gyhv2ypeFxxZZwUKvcTu/2fvK8DjOLKts/uWKcliNrBBh3nDzMzMHIdjO05MsmSQbTEzMzMzM7NktmVmdmD3vf/8de6oRiNpDIlJlqa+73xqdVdTdXVP3VPn3mtQXxgIDHPPldDPdjiG1xtJWkQZx2EXZbnghRBHNaZ3x5up/jK+/7AkFh9VJEiAe47fxxWqkuW+P6pMVG1AJCjbKV7AZa6jDSNto+qaPYYZyDHV/mzb93IjcHWRn/EZnJXnCQevaFFakEik0sJCWphH64r98A0MN47TqDQdDWXMkBYckOrGzcwsHjFAPxo41qQF407QvUMH27zzqw/xm1P/iFs/f1v+J2nBzCT/vPZyvBLtgSdcrc2SFs/4LsAVzzyEB+dPleCRFtLCPDRpsWzZTmWsrBs9pIUmKSRgkfsgfmIQotNKPMXATEkpRmVlt8yC854tpMX4hv6eLV++C90d69B3/0NmB4AaSy64EDW33A6f2Xbw9AxDSEgyEhMLkZ9fj+rqXlEr9fZulr7FbwCPbUpYaHBdSkou/PyCsGDBAuN328vLS4zC4fJDbfRrmBqHNKJpIJIwoCsJVQ4kEUgmkMwgsUBCg7ExSDTQ4CTpcDCwDutyP7p5aHKChqomKHgukic8N6+BxutwkoIYC4X3oQkLKiwORljMytqMGVGNmOEeD2u/dCwIK4BTfBU8M1qEKAgtXyVuHJwVNhAV+wwkRc/3JuSEQWqeTRm7hlmpuglM6opMXRMa6phGEkOdi/J0xgbgNYRVrEZgwWJ4ZbbCKaEatsmdsMljsE7z9xZeugQ1jS1CYrGPkDBjv2M/5PM3JSv6Nvapc2fipayXhpATw0Fi4jyvi/GE+xuY5xSEczwvMG673Pt6OPvFIyAmTwJbSvC4dkPwOAYVpFEsWPGtGGEkDxqX7hEigYSCJjRoNNNdgWRDVecWAckHU+j1rMO6dO/gvjyGJid4bJ7DkHLw22EkhWHmerwRFebA+2YbsC3YPiR0GKST7UsCKLtiMZLymhGRUi7khbNvPOaHV2AOA8ZmrINV/iHiwxwCVActKN4Nx+Jt8CjdKKoMv4pN8K/cjICqLUImBBE12xBSuw2hddsVtiFc/Q2Xvwr1XN6OMNm2QxCsEFSrULNd9udxAqq3wq9yC9zKtsO+dI8EsjV3TYcLKwbXTF6Nb+IXY7JfKd6fZIOPJllJENoZ89wwzzFQjM6MDydh8YSLzf5ODUfbI0+i3DsKFaHpKC9oQXnrBlR3bTGoL1SfZhYJUQUNBOnUfVj3Y1lW27meBIeGaV/Xz57/DyEtTNxDJuS44eUoNyEsONb/WI3XGauOmfmYoc9c5r4xD2ZWJHj/goIBDPyvt5vb9wDQ2Q6pXP+4OgXXVQQbn8HZ+V5w8okThVl6icE9xEJajAT7dHJ2hXFsRrcQ/t6NhjJmSAsOdnUDp6TkDBkkHy0ca9KCL+ffLr0Ir5kQDL//+1+MMS2ufvlJ+UsS4vKnH5IP3h1TPsDd33wk65k9ggQHVRh/uehc3DzxNVl//t234LV4L1n+KRjrpAWNtq6ujXiiNhXXVEXgyvIQXFYShEuK/HFxoR8uLlDg3+OBAl9cnO+LM/PtcX6eu/qh8zIgVyHPBxPUNqlDmNufMLle3sNN+cxukAHK92trl0gKS96zhbQYPeC35WjB3PHNwdD/94kqoiu72uyAzxS9apAY+uEXCP7aBsEeIYiJyUG22q+ysgstLauFsGC/0oTFoa6H7iPh4bHw8PA2frsJxosgeXCgYkoKEJrE0IajJjIIrcogyUBjkiCxcSDoOqzP/QhNTmiCQhup5kgKYiwV3b68771796Fh5QEIC2Uozcpcj2m+WaKuYBYQ++gyuKc2SoDM0LKViKrZIDO+9MFnIL5BosKEpDAhIswG+jsMmB5jCIkxQGCkdtG/fo+oL6JrNwqRQvUH3Ubs4+swN5cBE83L18NL+lDX0CjEBfsoySzdX9h/lm1eJmTFB/kfDCEnhuNnXj/D6Xan43K7a2DrFSLBLUlQ3Or7gGz/tfdv8GXgAnEnYMyKzLJulLasEwJBZogHjKZB0JD6jxhMBI0wTWi0LDeAZIMRJB9MYbKNdYWUGCAmeCx93OEEBaENNw1zg+DxBt0WbB8+K7Yh27ZOPT+SREzByYClSfktkhaWAU3dApKxyDsOc2JbYZO5FrPT10imnaOWCWkIfoBN8beYW7wf80r2wbZkLxaU7MGikt0Ku7BQLTOmy3y1bW7JfiEjDkRUHilEUZG4At/EL8HXEa2YONMNE7+Yhc+/no+vrZ0w284Xdh4RkhEkQLUT3ZgSg1PQ8MLraHngUXRffa3Z36vhWHzRRaifOBll6jgV0bkoq1oiJCBJvfq+XWhatncgDaaBwNDvmPxtWoPOorYh74Wup98BPveDkxbuopx+Kz1Q4tEx2D7H9hxbc4xtbuw9rkA7yRTm6hwGjPZKWy4+rUvDdZWDk5EkLUgSWkiLg0PcQhYukvGYDp4+WsqYIS0oC9aD3ujoJLOD5CMFB+DHkrQgnvZZgH+//bx80KicuPDeW+Q4JCj+/fYLmNSRhyfd5xiCdapj3zPjE9wz8zNJafpOThju/HqikB83ffQaHrGbJgTGFc89ghfDnfHVT/wQjFXSwvR59vZuEWl7eXknsrKqxEc/IiJdAgwGBSUiONgA/j+I5KOK4OAkQVBQPD70m4T3fT6Ho7c/fHyi4OsbBT+/GAQExMl2w/Xoaxi8Jq5nFgd9rbyH+Ph8uSe6hvAeea+8Z21YmmsbC44+tBFP8P0wBZ/FcJBUOhTM7Tf82KbnNb0Wblu5co+8s93T55od6JlD1xVXIe+jL5Hj5IeSjArU1y+V7yHJD7qa8BqGn+9gqK/vU/06FHZ2gy4j/v7+6v5WC1FwqGJKGNDA1iCpoEGSQYOkw4FgWs90f9PjEqbnHKtFtyfbhUZ53/rdsC03Y7gUfYeZqasxzSMRVj4pkrLUKb4a3pntCCpeKsExGTSTknIqHujCkdFnCBBoSlSYIyCOBoYTGDw3r4HXQvIivmmbECrBpcvhk9UpaVTnZq83H2+g+HvEF7VIfBO6HnHcQUVO17ouZPdl48viL83GpjDFnz3+jDPmnYFH33oU77w/EQ6e4fCPyUNQXAFeC/tc6lwTeCuCYgvEoGWwS8auYNwIGr56gG1KFBBcR2gyQUCDawA0vgygQWYOAzPIpjA5lj7+8POaG/RaYIB+Lmw/tq2QF8v2CflEd4WSprXIVcYz08Myhghl695hGUJi2bqGwya0HDZMNUsCg2mClYF/bEiM44dZBfswPW09vklYimkKk/3L8cHURZj4pRU+/2Y+vp7tCKsFXur+Q4XI843IRlhSGeKz6yUOQVZFr0KfBFJMzKpH0Zcz0XTfw2i9+bYDxmAajp7r/o3Kua4oD01DRXIZyupWYngAWRIYmvhrK+tG370PoiWjBvU9Wn1kUGkYyDxDgE/ip5IWHL+/Ek3XkQC8nuQr6ew5/uZ4nvsNH5fTPngnK2TE+oOBmQl5LJ7jjWR/TDKJn3c8wayGb2UEmd12pLCQFkcGuoX4BUUYx2JMMT+aypghLTjjoRs5ODjC7OD4SMFBOAfk5kkLD7yW4I23M0PEheOz+jTDB6nTIHUiwXA44Afq86ZMkZE9H2QvHyauIxnycrSH+H+RPJhYFi9/+QEi+AHk+blMgoP1eBz6hHG/V+M8RTJl7pyHAq+f5McXPF5V0pgjLeh7z3SPdJtoaFgmxj0l78yEwPSNKSklSE4ulr/HCsnJhnMkJhYhPj4P74Z+ip97/xwv+r8JhyBfhIamSDtHR2chLi5X1SuQWAJJScWy79BjGa6V156hjMq8vDq5p/r6ZXKPvFcaq9q4NNc2Fhw52Lam5AHbmzAQDvvEwGff47Mg+F1ZsWIXli/fKS4WDI5JIuBA4HbWY33ux/31sXjcVer4PI8puWF6PVwvriHta9B3z/1mB3fDsVgNCttvuAktagDX+vQLqAlPFSKsp2fTgHrH8O7/2H7Fa0lKyh6iurCzs5NYF3TPOJxiSiQcCMPJhwPB3L6mGA+F90nyhkqTtVt2w6vWjPqAhEXKCkxzT5AUpgvCCyVtqW9utygYYuo2IaFlp/jGU+WgyQrJYDBAWJgjGo4FjMTFMPKCqg+6qjAIaFhFvyhDXFMaJSWuOeJibtFuZBbVoKGxAYWthUhqS8LbOW/j176D8SjM4TSf03Cp/6V41+NdvP/h+3jttdfw1ltvYfLU6fCPzEBirjpnaqBkFpmd6IPYrDqkFLaJWwhjVXA2mEYUyYThA+zhRII2oMzBlIgwhbm6GsOPb3puCw4O0+fBdqaBy+fYvIzBOnehunOLpIfNr12uDPFu1Q+aEJFagcCYfElt6+gdC1u3CNh4qHcsoh7W6f2YndYPq7Q1mJW9BVYFh59943jDSr0/M7O3isvHtIRlmJ6wFFNDG/CpbQgmTp6DT7+ahy+nL8A3Ns6YvcgHti6hQtiQuAmOL5YsNSkFbRJoVrLTtKwXdQSDvzKdKYPCMkhsFNUX9n6oe+QpNN11H3ouv8Ls75cpligsnjAB7fc/ggqnQFSEpaNCtXt5w2pJV2pwkdqB+t6dqO3air4rr0LfDTejPjJb6lAxQ/cpEhziXkKST4GpVX8KaXH75Pfxy9//Dte/+RyueO5hPLzoGzHCOc6/8L7bhhrmvcV4ynMeLnnk7iHrCY7VieHrievfeh6//fOpuO71Z3HFsw+rY8w1W284pig7QCu+jwZeT/YbkuXwaMJCWvx0MLZLSm6VcQzm4eEhtvVoKmOGtKB8VTe0l5ev2YHxkeJgpMUV2e64L9kTD2X54bGiUDxVGYVnauPxXEMSnmtMwvNNJy94/c/WJ+Dp6hg8URaB31Z5yT2TtGBWCs7mMxDfyUhaGIy3feqZ7pFghDTqaYTRjYLxH8rLO5TB347S0nb5e6xQWtqm0Iri4hbk5zfg/RjDjBtn7e4OeBD2Ed5ISMgHyQiqJtjehYVNqn6r7Dv0WIa/vHbeQ23tYrkn3hvvkf33pxqXFhwY5kgKGuMkDzSZQMOeZAOJo8WLt8n70tOzWYJXtndtRHPHJjS0b0KdGpTVMip/60ZUtWxCpUJVi/q/ZQNqFOpaN6CxbT1a2tdJYFU+W36TeBwej2oaHp/n4fl4Xk1q8Hr4jvJ/1ulML5cBnLmBHUFZbcv1N6L+jrtR89BjSLNaiKSYbOTm1qKqqgdtbWvkPgz9amjgzR8D7kPVhb9/CBYOSBNtbW0ldSkDYFLxcKRlOPlwIIz3wjZge1PpsmPXbiR3mEkNygwhqauMhMXCiGK4JTdK7AqmHRV1Rfseg7qi7z8njKwYDq28MCUvGPiTQTupuoioWoeAwsWSinV+9lpRV5jes5X63yl3FYJzInB/zP34pc8vRxAUpvijzx+FrHg19FVEJ0QjPT1dUup+9dVX+Oijj/D5559j+kwrRKlve0xxNW6LelCM18zyHuTVLBO3EMaXoMqCs7iaRDA36DwYTEmHg8HcvhYcOdi2w8kLGrt0x6GRW6OeMQ1yGuMkqtJKOiVzC9U2QbGF8AnLhIt/AhZ5RGKecyhmO4Vhlm8urGLaB0iM1ep9VCCZkbkJs3J3Cmkw5J09BuD7QBePGZmbMT2lH9MSlwmmK3wT3YFJ7hn4xModn0ydL0qKyTMXCUkxa4EX5jkGwc4zStLr+kRkIcRIVLRK/2dA2NKW9RKDQqsbmpbuNbRX9zaJT8FMOqK6yG1EZHIFIoJTUfzWR2i89yG03HKH+v2aYPZ3zRSawGD8iwrXUCEwytOrUKKOXdq0Vtx52p98XuouvvRyVLqHoVCdk9lzqIDiddFti4RF24rvUL94148mLUhE/OK3vxHDm4rqX/5OLat1rPNytLusJxnBCUhOSj7uPNtIWjBoJeNkfFAULSoNxrL7vDETb6T4i+FOZQXrUeHwh3/8VZY58fmns84wnK89T5Ti3C7x79R5Oen5dkYwPq5KVut85RhfNGXhTXXM9/Ij8Wqsp1wPFSITS+MkYYBMsqr7eTszWFQcbyT7yfF5HJ7jjSQ/2c7rfzPNcE28TipAqCzhtXM741q8Gucl98HrfD3h8GPysS15DAtp8eNR2rQStibZQpjgYrSVMUNacJDFmTk2tpOTs9lB8ZGCg+pB0mIjJtcVGV+Gn1V7mID/j12cQqh7/l25pwTki43NUQZ0sxjGNIJOJtJCP1MaW3yuNPLom8/nS2OwvX2NMsr6JcjgscVqtLSsEuKnpqYP7yZ+OmTge4n/5VgY64HU9FIhNaicYL2GhuVoUh+a5ubVcgzTY/LaeQ80ZnlPvDdtWPKe9f2baxsLDg9svwORFFQ/kDDgO0ESob1rMxoY+K51C4qbt6CwcRMKGjciv34DcuvWI7l6IyIrtyCoYhv8K7bDp2w7PMt2wq10F1wVPEp3wqt0O/zKtiGgbCvCKzYisXIdMqv7ka2QU7MWeeo4+QoljetR2bQODS1rVT9YK6QGCQ1TMmPx4i0GomPq7BGDuD410GvhrNIdd6PyoccQ+bUN/DzDERqSbHQ3IjnG/spjU/lBdYfuV+ba6nDBPhoVlQRXV3cjEe3s7KyuvXfUBIMa64VqE7qFMF5De/9uWJeONFZmZm7AdM8kI2HhntKEgILFiKxeL/EiGPhS4lZosmKALDBHJJgDU5TyOHThYAYEc3WIkNKVZtcfCiPIiwHVRULLDgnUGVS0FB7prZiXt1nd74Akn6QF1SX5e/FQxKQh3+jh+L3P79V3+xI8H/I8ouKjJPo6U+qWl5er96YRTLHLzDlff/01pk2bhpkzZyEqpQheBSkoZvYPBSosSFjQUCNhoRUR5gacFpwc0OSQKYHBZ2tQX+xTBu+AQd62UYzl3OplyCjtlvgXMZm1CE8qExWGV2iGMvYTYe8VLQqFOY5BsFrkjxkOoeq9TMPMkEpYJfTCKnW1wirMSlmFmSkrMTPZgBnq/xmp/ZiRtkZhHWakr8eMjA2YqSDLXJeqtqWsxozkVZieuHwIZiQZMD1+MaYGVWKScxI+n+ODT75ZgM8VJk1fhCmz7DHNxgWzbD0xx94fC9R1OnrHwI0kRXgm6BIVkVKBuJx6cZFhnA8SFcy2UtWxRWKAGINlrmRslf+IgWkgexjgdLcEOCV5QKVKJtspT7VTeg3C4woR6xSImidfQOM9D6Lj+huw5IILRvzWDQcJjCUTLkbrE8+izDkIJYFJKIjIRu0HXwzWuegilFs7IFc9D7puUXXBa2levg8ty/aLAoNBV39sTItf/vY3+LA4VgiCs66/UogM/v/7v/9ZtpOE+Oc1l+FZ/4W47KkHjaTFnV99gLu+nijZBanUeDMtEI87W+HSx+8TkuOsG66Wc9Ft/Xd/PV3O/1KEKy6451bZn3XOve16cRn559WX4dOaFDnHlc89rL5fDjj39huEgKDi+6+XXIB7Z32Gi+6/TciSC9Xfx11m45ZP3pT4egx+ed5dN2FiaSyuevEJOf45N12r/o/HVc8/JkpwKjwuuOcW2caEAle//ATeL4jC+XffLITH501ZOO1fZ+GOye+LO/xfLz5fSA/WPxQspMVPQ2PfDrh5+BgnizIyMkblBM6YIS1YGOHU0OALjonRrA1cDqo5m/lVfbHxZRiPIGkRGJgAzv6XlXUqQ3mNGEMnC2lBaKPT1ODk8122bJcYYrwfg4G37ZiDBiWNSJI/byR9OGIQfLrPX2Ad64DU7FJRUlAN0tLSr4xGwww7Z7v1sfR1G9wIDLPsvDdNWPCeLYTFT4M5osJAUrDfGEiKzu4tqFeDrvLWrShq2oz8ho1IrNkiZIRD6T7MUUYQA5sZgptpjDQMDw+G/fXxbBQWleyFT+lWRJetQ2blamRXr0Fe7TqUN6xFfRMJsgGSrLoPfXfeIwOxxRdfgrZbbkfjXfeh8tGnEDnDFj7uofD3jxX3JJKTdDkydTciIdLXt0WUHHzvjwZpQfAYJSWNkmGE33P9Q0qjb3hqVEs5ukWrLOgWsnn7LnjVjXQLscrbhWm+2bDyThGXELeURlEnCGGhjH4a/yQBjOqKAbKCKouhxMHg/6bL3OeVT2djXnAuAgr64BhXaawjZIPaTlcOrvtyYdDg8QeICNPjpHZ9K5lEBtf9L3JM6ujj8VoZrJP16S7CIJ1Bxcvglt6BOYUD6VCpLin6DjPy9uCz5Gb8zuf0Ed9pKitIVjwR8gQi4iLUO5MqBEVZWZl6Z+rV97pTfSeWqT6+VlLx+vn5wcbGBlZWVpg9ezaCI5ORU94tM7icXSZhQYNW+81b1BBjA+bIC8YWIYHRsmKQwGB6W8Zb4Mw9DXqmqE1TBhdJjNjMOjH6GQuDQVsNREaSZEiw84iErUsI5joGwtrOD7MW+mCGrSemzfPAN3PcMXW+N6Yu8MfURcH4yj5MIRJfOcViqnMcpqjlKYvCMHl+ACbP9cHkOZ74cqYjJs20x+RZDoKvrBwxdbYTvrFxwfS5bkJMWC/ywVyHADkvg2fS1cM9MFncPRi3hcZiVFoV4rMbxPUps6wHuTXLUNSwWgg6yephSlQMC3ap20u3lZHoUftUdW4VsoMkAsmP1MJ2OQ9TzIaqtkn/Zh4aHnj0sN1HCAOBMQFtd96L2hdeG7rtggtQ8cnXyE4oRn7NciGZSFYwUwxJJ96TacrTwyEtfvGbX+MRu+n45zWXi+pAG+J/PPPv8veOye/hvtmfy/KzfguNpMXVLz2OJ91s8EKoEy576gFZR5cSupB8XJGIi1W99/MjhbT49al/wEMLvsY/rrgY7+VHSd1/v/MC7p7+sdSlC8mLYc64z/oL3PbZW5I6lHVZj5kNf/3H38v1Mo7exLI4/PmCf0mK0VdiPXG5Ojfd4y957F68FOGCtzKCZb+LHrgDzwXYiTqDRAzd6ElQcNuEB+/E68mGe6VLzK3qnFw+87or8F5BpCyffePV0mZcPhQspMWPR9vKbxEanWKcJAoICJAg5KOxjCnSIjQ01NjoNB7MDYaPBBxIc1BOA4WGiUtLA26sj8O/a2NwfXUUrq2KxDWV4YKrxyj0/V1bFYFbK6IkpgLdFGjA0HCm8dLff3JlpRhuhGpD1BAPwBB74HiARi8zKlAd8VLimyMGw8QvvX+FL2KmIz43T1w/mptXCtFBw5HxDXgM7QKgr18TFYS+z6NhWI436H6i+4cmKkgM9fZtRWPnFvUjaCAp0uo2w6diF+aXfmdCTAw1/I4fDGTG3OJv4Va8DTGl/UgvX44MhaKYfLTfcQ9a738INc+9jMRFngj2j0FgYLwEeY2KyhC3pLQ0xkapF1ek6uo+Ufewn5IoM6Q4NRBiR7Nv8ThUg4SGRsPR0dn4bffx8VFtv1LiLVjK0S9aZcFsGDXLR6osqDSYHlaLmZ6JmB+SJzEs/Av6BgiLnQaSYMAdRLuCEJ7pLaK+YMwI/u+V2Y6Yhi1IaN4h2TvonhFcslwdZx2i6zZhmlscZnolScaR8Mp+iTnBGBlUYKSoum9Mmi/H987qEPKB6+neQfeU9J4fBurtExUI/7JOEsmIuo1yPk1amCMu6NJC4oIBOnkcp+ylsGZGEZIWhd9iRu5uTE3fhBuDBr/Tp/ucjssCLsOzIc8iIj4CqWkGsoLZcOrq6tT70qG+70vU96NfUurqzCNMpRsTEyOqC5IX1tbWsHdwQXZZB6raNwz6y1tUFmMSmrw4EIHRunJQVUCDvqZ7q7iRUF3AOA90Jckq70VacYcQGXHKUI9Oq0Z4UjlC4osQoL7xvpHZQmi4B6cIqUHDjYoHe88oITcWuodjoWsYFriGYoFLyEio9dy+yC1cyAh7ryiJtcHjUDXhEZwKr7AM+EXmiAokRBmFTOlKV4/4nEYkF7SKkZhTuRj5dStEQULXDqokansNwS+bB7J3mCMqNKTNapaip7DN0E5tG9FZu1zIi5aqJWhOLEZDfCEq1Tqeg+5VVF8kU6WSUYsIXldgEorf/hiN9z2M5jvuRs+llw8hI34Mlpx/AWpeexfZqn1zq5aipHmdBFitUNdFgumaikhjmvrDIi1++xshA865+To85jTTaIj/6ax/yN9bPnkDD87/SpZJUGjSgkTHdW8+K4H5n/FbIOvOve3fooh41n8RnvGxxWfKgCdpwYyEdMX4+2UX4YUQR6l7zStP4aYPXhmou0DcPd5IDcCF996qrmMW7p35mdTjdWqXEoLuG38+/xzZjyQKiQq6trwS7SEKDGY5pKsHSYorn3tEFBu8bwYQ1aTF+XfeLMoQLj/mONMY64JKk4nl8bL8r1uvx/sDBMahYCEtfhx432l5tcbxlZubmxrLrR4YDYy+MqZIi+TkZGPDt7evNjsQPhKYGi0cpHOw3tO7WWYbGxtXyMx3VXUPKqu6UVHZNSZBQ7lK3R9dE0hUcMaWRvPixTq449E1XI4XeL0avP4TAc5Us09ROfFk/AtDyApTMM7FCxFvICw7RT2LXlFbMBCiQaJPwsIw421KUhCm92iuDSwYCdP+YHjvDbEg+JxIVNR3bkVpy1bkNW5GYMVOzCv9fhSQFIeAMrwkwGD+Lvj7FCDKJxXBsSUIiMxDaHiqBHyNisoUsiI9vVzICu2ORLKC3zv2Nyp5DAqLQQXPsehfbPusrFJ4e/sbv+/0t+zu7pasFpZy9IqpymLr9p3wqRvpEz8zfa0QCnMCsuAYVwXf3C5EVK4R8oEKi+GEBUkB/n/d7Q9InYdefB/J7Xtx071PivuFa3I9bn/4eck48spns/HeNEe4pTTg3WkOQlpQZfHFggBMcQiHQ2yFWg5ETP0mPPPOFImVcd+zb8t5nnjjMyFGXvhwmqgwnnzzC4SVr8ajr0yU8/M6qAjhMe9+4jXjtZknLv4r5AtJGJIoJDkW5G0aSlpkbMY70QU4w/scXOx7MV4Pfh3R8dFGNxBNVrS3tw8hK3bs2CGEENuY5BDbm3/z8/NFLTpnzhwhL+bOnYfQ6FSUNq0Sf3ltwJkbeFowNmBqoPN5a0iAx9WGVLZUYZDEYBwFBvKs7dkmgSM50081RlFDvxADzEpCMoOuJalF7RKwkjEy4rLqEasMeCoeGC+DKURDk0oNUMZcSELxEHCdQG0PTy4TZQf3i06vFqVHfHYjEvOahJggccLzMXAmCYOC+pUoblyDcmUcVrQzuOVW1PVRjTBIUpCUYSwIna1G93ON4W20+KPJWHLnfehR99wblITemQvQuXgXej+fhr6X3kTfE8+hzT0cdb1UX3AiYb2QOyRM0os7JdAprz08vgiR3tEoefU9iX/RfPtd6L3kUrPkxMFANUbjY08jOyhF2pvnosqCZNLVZeE4pcpdiItDkRYfFEbjF7/+lRjnrEelAV0yuJ4uHR+qfZ70mINrX3taVBj3W3+Jc5Ux/1l9ulo/Fw/MmyIkBDOQMHAmVRkkMehSwnPSoH8j2Re/Pf1UUUM847sA591xg2TxeMRhBm6a+Kqcj8emooKxKm7++HU8H+yAlyJdJSAo1Rq//9tfJHYGj8e4FXT9oIKCsTA+qU4Rl5EH508VQoOkB2Nj3PXNRxJz47rXn5G6JFF4f8xGSBeQ+20m4d2ccNw88TU84WYjsTH+dvEFeDnaTc5D0uLFUAPBcihYSIsfh/Lm1cb0pgyxwN+s0axkHVOkRXFxsXFQW1XVYXYAfKTQg3INbcwYZuYHZ+fHB2ioDJIUpjDXdicLht/L8QLbk0YgSaAHYh8zS1iY4tbQu+CTFYXq6l6JYcG4FaYy/eHPxdy9WmAebC/Td5vxGgxKmO1o7tqmfuy2CVHhXbFb3DGOmKQQX/lvYVWwV6T3Vnk7YZW7A1Y52xS2GpC73bCO21inYI+BfCAJYe6YB4Kci375+zA9Zye+TtuEKQmrMDOqBW4RRfCJKkJ4XJG4gjArEGNXGFyRDASlVlcweK1pX9P9zVx7Hil43I6OfgQEhGDBQKCoBQsWoKKi4rCzi1jKoQsHKzqWRcfqHWZUFt9iemCRpDZdFFkCz4xWhJatRGzjVqR27jO6hJgSFhp3PvaybHvu/amiYHjg+XdkPVOhXnb97fjYxhtTnaPwzLtTRFExwyNB1ByuSfX43NYf73y9CD7ZHUjr/k7Ij2ff+0r2f/CF9+Tv0+9MlmO9P8NZ1BevfzkPc4Ny8OlcH+M1LIwowcdzvHDFDXfIter1GkOJi/8ICRPXtB1hFavhmbsYNur+xT0kfy++ydqGyUlr8aGfPXwDfREbG4vMzEyUlJSo96UWbW1tRrJi06ZNZskK04w1RF9fnyhGOXicO3euYKGdPXJK21DRukYZd9+bHXhaMPZgargTRgJDGfY08GlokcQQJYYy/ukmQSLDoMjYgZqebZKZpLKdhMYGCejKOAvFDf1iWDOAZX7NMjGu6XJCZFctRnZl31BwnQK3s25e9TLk1S4XJQGPQ0UDU7caiIlNqOzYIq5Ndb3bhVThNTUv3StECwkXXvPBSArCXHtoLH7/Myx+7Bn0zXVBX0AC+r6Zi57seiy59Q50Ld+HrkL13l19LVqX7R1oE0OQU7rYSOwLdd9D3EdSKxEWW4Ao9wiUv/iGgcC47S70XHqZWZLiQGi//S5k+8QgQ9KyMiVrN64qVgZzhRtOqfLAhGy3g5IWVFCcc9M1QkbQheLOqR/impefxIPzDOsfWTRNVBhXPPMwrnrhMVFRMC7Ea/FeEheChv25t/9bFBR012BciMueuF9IDqoXeMy71DF5rMecreT/mz58FTdNfE3UENe++hSufukJXPXi45is/mfMC6ohqNj4x5UXC3HxwNzJQlLQvUSTBMxyePFDd4mSgkqLT9R9Xf70g0JE3DHlfTnPlc8/KvdB0oJkwo0fvILz7rhRjslAnFep7bxfqkXYHnRP4f3cOeUDOce/33lRSBh9zoPBQlocPhjHwt3Lz2g305VxtLvejinSorm52dj4ubmVZge/xwLaKByvMNcmFvw4sB1p/GnS4vaoe8wSFcNxjv95cMsMRnl1lxokM77AkWdxGO/Qz8JAVhgyfvT2bUNt5zYUt2xBaPUuzCn98UQFiQIhG7K3wipzgwFZGzCbyFwPq9TlmBXfCavoRlhF1sEqvBqzQsthFVIKq1CFsArMjqiWbbOjmzA7oROz1T7Wan/r7E2YTWQRGzGbJIc6l7mUjQbS4nvDjHHeHkzL2o6paZswOXkdJiX2Y0riaixM7EJoagMSc1tRVNImKgtDBhqqqgykBdvGtJ8dj77Gvh0REQ8HB0f5zjPOBRV2NAot5cgKBys0nJkxhAFPE9r2jug7VFlM94jHvOAcuCTVI7BwsbhbkCxIPwhhQVx3x4Oq3i68PmmuKBnenGKr6hnqvvbFXAnaSVUDj0/1xdfOUeLa4ZOt3gmfVCyKKoGNfwYiKtciqX23KDJ4vjenLJDYFROt3CRoJ1UggYVL8cFMFyE83FObRJHBa/jY2lPcTJ774GtxIRl+jYQpcUFig6qQmIbNCC5ehoX5m+TdmVmwH9NzdmFq+mbMiGpGQGCg9ENOnDDIJoPGUmI7nKxgljNTsoJtPhwkNPLy8hCojsn+PW/ePOnr9g7OyCxqREVLv+TSNzcItWDsYrhhTyNLw5TI0IoMcZlY8a2QBTTeGRtFkxqMu8A4EPXKaGGgV4JxGAzYiuph4DrWqSN6d4ibCvfncUgKNC3Zi+al+yTDjUE9MUhO8Jo0QfFTSIrhIGnR5xuLJfc+iL4Fnlg8bR56IzKx+LlXDcdT97r0ggtEfcHzanUK758kCu+R7jVG95GyXkmrGpddj8jUCoTG5CPSPQwlr7yDBnWOhjvuRtflV5olKoaj+5rrkOMSjORs9duZ14wr8wNxSqkLTql0PyRpQXXDV90K6q8Y38rYl3Vm1pNkkO1qPZUM5991Mz6pTZFMH9e//bwxHoZpXfmfxzFzDnN1z7v9RnxUHi+GP91D6CZivBYF1tH4qlvdg4Lxf1VvyHlNji3Q12Fmu2H/wTr6ePo6DwULaXF4aFm+d0gcC8ZW4mTFaC9jirRYvny58QEkJmaaHfRaYMFohClpQcPw+oibzJIUxP94/Y+4iOj/f+/7B8zLcEVJbZsQHnQToWSfx7OQFocPtpVWV7D9NFlR1b4deU1b4Vqxd8D1Y6ghZx4/wCp/N2ZlKSNngKCYlbICM6MaMSuoCLN80zDbNx2zlRFmE5CBOYHZEnSQMQJsQ/OxIKwAC8MLFYqwSBlugsiBvwpcz+2sZxtaoPbLx7yQXMwJyoVNYA5sQktgHdMM67SVg4RG9mbMVtfEFI6Spo5qi8L9QlxMz96Jb7K24+vMrTKDPC17B2bk7MT8nE2IzOtBWkkfKip7R8SyoALleBNkPFdqah5cXT2M3/ugoCB1/rVi9FnKTytsOxrUDMC1Zdt2OFSYpPocwPSQCiEQ7KJKRc3AWBNUPaR1M47Ffw9IWFCxcOuDzwopQaUE6zHOBPfhdpIDjEchx1j6f7LMejxuevf3SO3aL8dNbN0paVS5zFgX3M7jcH8J/tn3H1nO6Pker35ho66xHS99PFPtt1vOw+PHDRxbn9scNHHBzCckU3jeCHXtHvnL1fvzHWYVGjKIUKn0Tfom+AaFiVtIVVWVBNdcs2YNtm3bdkiyYnjR64mtW7dKrAtvb29jPycWLbJTRlGFyHrrureowfb/mh2UWjC2Mdzw1xhBZmiQOCCx0f8fY7wMU9C4PxhM6+pj6GMKTEgJDXPXR5i7n8MFSYve5DL0zXfDkrsfMJAWxe1Y8sAj6M1tRG9EFpbccQ+6Ta6D18Xr5X0wxWzj0j3iPkJFCFUoRY2rkVezVAKD0s0lLqtOXGECI3MQ4BaG6rvvN0tSmEPfpZciT11bfFIprsj2xSnFTqK2mJDtesiYFj8FNPSZfeO1BG+8GO6MG95/6YiOp8FsIFRR0O3j2jeexRctWWbrjTZYSItDg4q9hPRBzwR3d3esWLFi4FdodJcxRVpQJqwfQkhIlNkBrwUWjEbQ4KPxZ4hpsR6XhV41hKgwxT/dz8LF7pfhYu/LcJnfVbgy8FpcH3oTwovTxKBkkFhDfBELaXG4GCQrDDErGKOlpmMbchu3wqGMaoVDkxXi3pG9xUBSZKzDrJgWzPDLwSyfNMz2S4dNQKbI1UkyLIwogn10KRxjK+AUXwWXxFq4JdfDPaURHmlN4pvvldEKr8w2eGe2G6CMRL3M9dzOeh5pzbIf9+dxnOOr5bg8PgkO27BCzA3Jh01oEWziO2BDZQbJlOzNmJW/RxQXMwv2iRFGAoN/+f+sgv1CbFAhMr9oN6IKlqhB3RJUieqCriIbwcCxbK/hLknm2vhogucoK2tSBt2gtJHxAFatWiXGoaX8+EJDmcFNaWj3rdmu+vTQPm9VuA/TPZKEYGM/CyhcIm4cDIqZ0TsQx8IMYUGEVfbjrsdeNmb8OB742jkan9sGYLJ92AGv62DgPlRwkAih6wsVGkElyzGnaO+AUuk7eU8Y38ItKltIC/oDMzMIY1ewHalaORyy4kCF+1C1ERERITNhVF7o/k43Kf/gKBTW9qG8ZTUaercpg3B8+mVbMAhzJMFwaGP+SGDuuMNh7vqOFH22bugtbENP11YsefYV9HmEo0eda/Hk2Vj8+vtY/NKb6A1Klrqm18Jr1uQNiRdRogzEBhECo5PZvtZLPAq6wqQWtyMmsw6JC7zQe+nBY10svvAitF9zHRrvuAeN9z2ExoefQIK6hsszvXFKkSNOKXfFhCxXiTchpEVRq43JVwAA//RJREFUtAlpUWBQEfQqo/sngjEsJrXlSVrQIz2WBo/D4xE8vrk6oxG8brYp25ZtbCEthoIkd1ZxE+YP/JY4OTmhoaHhR/0uncgypkgLDrgWLjT4O7u7e5kd7FpgwWjEcNLi/OCLzBIWxM1Od8Le3hte3hEIj0hDcmox8gsbUF3bi/Z2khZbR0j3zZ3TgkF1BduKbcb2b+rajoLmrXAu3z/CcBsBZdDPEqJiPWYlLcHMgALM9E7FbN80CVRI5QQJCoeYciETKFcnyUDSgbJ3ZlIIKFiMoKKlkjkhpHQFQstXig99uDLwwivXSJBDSuIHsUbWczvrhZavkv24P4/D4/nn9cInp0sIDp6PcnvnhGq5DhIZ88MKMSe8DNYpS8U9xUBg7BWSwkBUfG8A42WYYEHRbsQULkZuWR9qahZLLBXTILBsx+NFlvEcra0r4esbaDTkHB0dJY4AJfaW8uMKDWS2G11DSvt2jujrM1NXS4yJBeFFhlgW5asR30y1g0G1cCCVxckMrbZIo9qiZae8d/aFm+VdEOKC70vht3BIakBKSorEsqDikxMoVKxwTPJTyIrhhceguwmVF3QbYTwX3ecJBlILjkhASf0yITCowODMsrlBqwUWmBrzPxXmjntcoAzMHm1grvoePf3/NSxz3crvDOvMXJ++bk26mCcwdosbTEXbJhQ2rEZ+WAa6rr9xCEHBVKd0F2m86VbU3nEPau+6DxUPPYGUT75GsHsEQqNyEZlchsi0Slye4YVTCh1wSpkrJmS64OVIV7yR4idBKj+qTMRnjRliXJMYmNxRYMFRANuSbcq2ZRtfWx40jLSIQ2hC8fgkLVT/L1a/ETrwJjNWFRYWnjSEBcuYIi1YPDwMkuGF6qEwSKS5wa4FFow2DCctzgg8SwiKn3v/fARp8RePv8PO2RsBAXGIi8tFdnYNyss7JYMNXUsYLNJCWhwabBdTdUV33zaUt21DUPXuQ7qBMBjmrIz1mJWyHDMC8jHLOwWz/dJESbEgrBD20WVwTqgRBYRXRht8c7qFTKBfPAMXUlYvqR1rNyK6fpPM4sY1bhPJO+X2zFpA0FBKbNklqRo1+D+h67A+9+P+khZSHY9xBnh8EhwkNYJLliGgcLFch3dmm1wXr88+ulyM0LnhFbARV5KN6t52DBIVZu6d650LNiKpqAcl5d1oaFhudBkZrrow1+5HG729G9W7EApbW4Mhxx9ippekJN9SDr/QMKYygKk4E1p3j3juM2LahIwj8eWb242o6vVDY1mMMcKCMKotBmJb8H11K1pvfD/oZkXywjZjOeLj41FdXS1KC5IWdAuhyuJoDgh5LKo4EhISEB4eLuoiU/XF/Pm2MiD1C4xATlmbuJAwgGfj4p0ilzc7kLXAgnEEU+JlOIFhcB/Zj/rFu1GT24Cu+x/B4suvQOctd6D5vofRcO9DqL3/YWS98QECbBzh6hEBd794eIWmISA6D2GJpYhOr5G0s7FZdbg8ywenFDkJaXFWjgvuiXPG/SmeeCjHH48Vh+KJiig8VR2Dp2vi8HRtvAVHA6ot2aZs28eKw3BBqa+RtDgrz0tS/TIVcFpJ57gjLWo6NsLR2U1+K/i7kZiYeNIpU8ccaREdHW38Ae/qWm92kGuBBaMNw0mL0/z/LATFpX5X4bfevx1KXHidgm885iA0NBkpKcUoLm5BXd0SSUXZ17dFYjFow9FCWIwE24QGtSYs2F5NXduQoYz+uaUj/fiNUEYKVRUkK2ZG1GG6ZzJm+6RiTlC2MvwLxZhzSaoTlw2qHEgSUAFBRQQNPJIJzLJAkoFkBA2+5I69SO7ch5Su/ZJiMa3rOwPEn5/4XnzqzcFYZ2Af7s/j8Hg8Lo8v5IY6X5w6L88fVbNeiAxeF4Mo+qrr5PW6qut2iK2UwIdz4lthk7MZ1rnb1D0fuD1sir9DcN5SZBZ3K2OtR7KLaNXFqoE0qMeLNFu+fCdCQqKFrOa3nzPRra2tYoRbyqELjWEOXmhoM3BkUP2eEc97RkgF5gRkCtkVWLgEsfWbkcKMIX3/GbUqi4SWHbBX7yVJB3PbDweituj7ryGTiHqPfEvWDLbLAHkxJ2eTjD2YzYZKH8azoNLiaJMWuvCYVMV0dnbKeUlg0C9Zj300SOTZ2TsiPDYDxeo3giRGVfs6tC7fZ3ZQa4EF4wnDCQyJfaEMWAYTbV/oie6nXkDTh1+iwCUYsXEFCInOhX9kDnwjs+GvloNiCxGWVIqo9CrE5zQgpbBVZvDTS7vUchuuzAvAKaXOOKXcDT+rcMfPKhWqPIbg5xYcE5i2MVPOEmflesLBKxrBmrRoGT+kRUPfdnj7hRh/G5ilir9RJ1sZc6QFpS76oVRWtpsd4FpgwWiDdlEgacFgmr/x/S3ODbwA7lGhuMb330NJC4XHvJ5VA9U0ZGRUqIFyp2R2oMHI/Y+3wXgyQRMWbB+qUZYoA7uqfRsCq2mkHVhZMCt7K2al9WO6fz5meiXD2i8d80LyJCAh/fs9lOFPFUNg0RKEla8SlQNJAqofSFAkk6BQBp6RmOj+zhAwkFBGX+bi/wo4Yz0EymA6IIbV1ceQYIQDAQmF3BggNITMaN8j18NghLy+yOr1cr1BxUtl9twzvVXuhwqM+THVmJO9Ada52w3G2QHaxjF/ExLyO1Fa1iGqC632YUrU49kPmYY5OjpJAhXy+0/ighmlaIhbysGLJi04iKFKwKtmZOaQGYFFEizWLaUBwaUrpA+xX7HPjRbCgqQcY2zo/91SGvGPc84XJZJeF1i01Lh8OBC1hXq/+M6SBAkqNyEtBmCTv0uIA6Y7ZQwKqiH2799/zEgL08Ljk5xjX4+KipL4F/7+/pI2VY+FNGwXLISLmyeSsspR1rRSSIzars3o6P/B7EDXAgvGC4zExYDioqlnO6o7NkmWkezKxUgpbEdCbiPisuol00hCXhOSC9uEpMiuWIz82uUoajCkgC2qXyX7XFUUglNKnAdBAoPZRCw4ITgryw1OPrEIYUyLUoN7CGOajHXSomnxToREJhl/B3x9fbFly5aBX5CTq4w50qK9vd34YDIyiswObi2wYLRBG9Kc9e/q3oAzg86GU4YfUlPL8EHIFyNIi3O9L0BYRCoyMytRWdmNtrY1xgCcPI6W51tIi0GYEhY0qHsXb0dJ67aDBtq0yt2BWWlrMD2wEDO8kmDtnwHbsAI4xFbALblBgmNSsUCXDyEqGjYjvnmHuHEYSQpNUAyQE0aiwYSAoGF0tGB6XMEAoaGJDF6PJjGoxqASI6Zhixh8JDBIvDDeBg0+qi9sY+tkJtk6b2ScA425RXsQmdOJ/KJW1NZS9TPoLnI8iQueJy4uVRls9gYjzdZWgkxZiIuDF01a0NBm1grX6n0jnvGMgDzMD82XGCl0OdLxLNi/2O/MGfzHG699MQdeme3G/xPVe/jBLBdRS/B/knh3Pv6ycfvhQN4pdY/cl1lEwipHkhbWRd8iJCREJk26urok1SnTxzGmxbEmLUwLz8VzMv5Feno6IiMjjW4kw+Ng8N2gK4lvYPiAK8kqSadqcSWxYLyCxAXVFu0Dagumda3s2ISSprUoqFuB3OplyKteivyaZSisX4nipjUyW886NV1MDbttICPJRiExJpQEG9xDChwV7HFKvkKunQkWWXBMYdLWqu3PTXYykBYS06ITpS3rRGnBuCZjlbRoXrobkfEZxu8+QygsXbp04Bfj5CtjjrTYsGGD8eGEh8eZHdhaYMFow6AxvRudPRswO88O1dW9yM9vQEBiLH7t8+shpAVTnnqEhamBKZUWXeIawtltqiwshMVIDCUsdqO7dxtyldE1p8S8+wMzgdANZHpYJWZ4JImyggYbyQr31CZxq2B8CrpaRNdtkplcEhWUy1PZQANnCEkxQCCYkgumMGcs0SAkqaANrsOFueMT5kgMppak2oLXTTUICZeY+s2IqForgT2pvuD9OsZVwTahBTa5WzFbtY25NrMu/h6BWd3IKWiWvtvWRnel409crF37HeLVj7QpcVFfX29xFTlIMSUtqBJwqxqptJgZWCCEHd2JGACWqoP0YaQF3UZEfZRUJ8Ff/VT/cU6sEWKMLkmLokpU31onddnP6FLFOrrvss8xm05Y+WpxQyEZyPUk20hG8Nisw+PT7YN9U+/rntaMv535L3zlGCF1+Q4yYCjPyb5OlREz+Pz293+U/cRFqmipbOe1sj7JPC47xlVKfX1svjcG0mIXwtT1D28b68J9CA4ORkFBgbhsbNy48YSQFqaF52WcEhJ2nMxhzA2qMHidzs7OxnGSBt8TO3sHhMeko7husZAYFlcSC8YTtNqiY0Bt0bxsH+oX7xIyoqpjCyo7NqOqc4sQE7U9O4TUYPBO1mMsDP5tWLxbSIzc6iX4Q5Wv0TXBghOPS5JcMd8pGL4R2UjMa5ZMMXXqGbatGpukRcuyvYhJzjN+493c3ESRd6J+k45GGXOkBQemOoOIm5un2UGtBRaMNtCYM8RY2CsxAai2oMsHVRR5eXW4OPCyIaQF8UXQdKSklKCsrEOyODD9JGM0WAiLkdCEBZUoXb3bkNW4/YDBNq1yt2Nm4mKJWWHlkyqSeBpIbqmNyojvEqMpQlQVWwyuHx17xdjRRMXBSAptBB0Oomo24CunSCEuzG3/sRh+LZT40zhjRggaY6LC6PpO7of3FduwVdQjNO5oWNLQs4+rxrzMVbDO32W27egu4pfZg4zcRlRV9ah+ueaEEReJiZmwV0aYNsiamposWUUOUPQMvSYtfGpGBuKcFVImsVtIBDBOC1UH7PPs5+xfJL5ue/BZXHnjXXjguXdw95Ov4rrbHsA1t9wn2XKmOITh9386DZ/O9ZH6JADPvvBS3PPka8Y++tLHM3HFDXdgmlsc/n3nI3j01Y9kPQPOPvveV/jFL36Ft75agAeffwc33P0o/nXRFdJXWefJN7/EKaecgjseexEvfTITjD/xxOuf4ef/8z+yHFS0DLfc/7Qc48k3P1fXE45P1LX84bQ/4+pb7pUgtlQbXXvb/bjsulsRVLzMeF0kDhlwlO9iSNWGEW1jk7ddyID8/PwRpAWJg9FQ9DOm+095ebmoMHQq1QO5kjjTlSSzzMSVZBM6VltcSSwYmxgS22IgswgVFyQjmpbuFWiComXFd5J1hHWYqYcuBjR+m5buQUX7JmSUdeP3VT7GIJAWnHhMiHXEtDmucPaLR0x6tahhmC2Gz5HP3FyfOFnRumI/4tNLjN9zFxcXyW51MhMWLGOOtOAD8fb2NvzoqoEqjUBzg1oLLBhNoCFnalhTNdHVtVEZWiuFuHg2+tURpMVj/s8iIaEARUUtaGxcKUE4uS+PY+4c4xVsW0O77hWXkPTGHeYJC8auyNyI6SEVmOGRKLOyCyOL4ZJUC+/sDoOyQhnxNOZp5Iuqgq4fVFT0/VfhP2LA0fDXfv6EKXmhl3MGlvlXJPZL/leMIy7LdrXM40648gaR4nO9NqA0ZN1A3eylPK6COibJh+F1CdNj8BwvTpwupMzXztEyo83rIeHC83IGnfdH9QgNPpIXJGt8cjplJnphUjvmKEPNbKwLtc47sw+ZOXXSdzVxoV2Xjlf/5HNPSsoxKi4oj6dBSUWBpQwtw0mL4LqRrkCzIuuwwERpQbJASAvVZ9inXJLq8evf/FbINv4fovrUL3/5a3xuG2DsdxdecT0+meNt/P+pt77A3U+8Yvz/y4VBQhJymZl4TvvL343b2AdJSrDP8v/U7m/xm9/9AQvDi+R/Xge3k1zU+1BJwXXsw/yfShEqLfR2vge3P/ICHnrxfeO6Z96dIsF19f8E3w1NWgRUbhrRNnOy1PtxAKXFaCEthhf9zFetWnXYriQ+AWHILm01cSXZMaZ9wS0YXyBpMZy4ICFBYkKD/zPuBbcTrKtB4qJp2V5xD2Gsi99VeRsN5t+VuuHUAhecmq+g/p5W4IrTCgdQZMFRg25TBbbzLyvcjc/ggqhFmDRjEew9IxGRUo7cqqWo7d6mDPxvxxRp0bbyOyRnV6pvtyGzlJOTkxDVJzthwTLmSAuWpKTBgCMtLSvMDmgtsGA0QZMWVFvQsOPMtCYumMrUOt1hBGlxic/liInJQV5ePerrl6K7e6Psx2PweObOM97AdmB7kLBge+Y3b4ONOcKi6DuJXfGNVzpmeiWJ4eQQVykBNgMK+iRFKeNVaLKCRr2pqiJT/TXEgWhQBl2/zCJzdpjbOTPNGVwuMwZGROVa2YdEiMQHUMbdoshi+Of3Irh4uUjgtSF41U13i8qDhAHjS5AY4XkZLJPnYVyNNGW8ETwniRUaZkzPqA0uGpc8F91AvLPaxfDK6P0P7nj0RdhFl8kyjTcNTV7wXDRKUzr3y31zJpruMHQB4D05JDZIrAu23Yj2pOIirQ1Z2TWiuKCriCHmisF96Xj1T56HriI6qwjTofb19Y1aQ/JEFQ5mTGNaJKr3ZPgznZXYh/kheQbXCtVn6RIlhJvqK+w3JBzOvuASWWa/49+//fMcfLEg0NgXL7ry30NIi6ffnjSEtAjI74NTfLUQFEyv+otf/sq4je8QCQi+C3rdP84+H9+4xsgyr2M4aUG1xMFIC2JhRBFO/+sZ0r9Tu/bjqpvvkX5vWkdIC7WO75Jnxci2mZ/SI9HYi4qK1He4+4TFtPiphddo6koSFxcnJAbjdBzIlWSRvQPCYtJQVLsYZU2D8TAsJIYFJzNMiYuDQdczBckMKjHKWzcgrbhzCGlxaYI97vWbh3v95+O+oAV4MMweD0U44uFoJzwc42LB0UK0Mx6OcpK2fSDUDmfkOhufwYXRdpgy0w72nlEITy5HTtUSiUUylkiL9tXfI72gTr7R/FY7ODiguLh4TBAWLGOStKiqqjL+uObnV5sdzFpgwWjDcOLCoLjYJvEqEksL8HPvnw8hLX7n/XsERyQiM7NKYggwVSqzh1hICwN0e9JlZtmyHahs2wbb0pEGNuNXzExegWnuiTKLS8PGObFWSAi6RkTVbkBC83Ykd4wkKwYN/f8V5cKtDz6L8Io1uPn+pzAnMFvqPfLyh/jGJUaWn3rrS0yyC5F9n377S9zz1Ositb/kmpvU/jPU+VbiHGX4xdRtEmOJpMWbUxbI+glX3YCAgiXwy+vBVbfcI0bWzfc9KUQJXTrOOOd8THePx6OvTBxi2M3ySsKTb32BFHX9j7/+KWz8M0SNcccjLwyQFkOVGYP3ZEJeDCgvElt2ILpuoxAtjOvhnNSAednrJBDh8HbluuDkOuTk1KKmpk/6pyEd6vF1YVqz5ltERSUZZ4/5I75ixYox8yN+NIomLXT2kNKukS4QVlmbRf1ApQ3JACqOmAaUfYT95WMbL5x/6dVD+tKZ5140jLS4Qerp/5944zMjaZHUtgs33fuEuIvMCczCZ/P9zJIWJOv0ujPOuUDeLS7zOn4KaUGF0vmXXiNuKyRMnn5n8rDt6l1QxyZBQ6LGsWyk68xC9R7R1aK0tFRIMUZmJwF0spAWwwuvmdeuXUmYlYQkxoGzkixQ75UzIuMyUFTbZ0JiUIkxtmTXFox9mCMkhsPcPkbSom2DpNQ0dQ/5d6ITXghxxCvRHngjNQDv5objg+IYTCyLx0eViRYcLVQk4MPSOLxfGI13skNxfskgcXRRrAO+tnaCo3eMKC3GGmnRtuo7ZBU3GwkLe3t75ObmjqmxzpgkLVauXGn8MeVg1dxA1gILRhtoxGlDmyBxwWwiTGVa37AMf/b/yxDSgpgX4oq0tDJJe9rWtkYZhdvVfgaj0Nw5xhPYllq10tK9Fa4V+0cYG1ZF32Fm0lJMU8Y+Z3YXhheLeoGqBxpHJAaoTGDMChr3NF5MyQpT4+a96Y740MpVlifOdscHM11k+aVPZhkNq9cnzRPSQpa/nIvPbf1l+el3JklsCS7f9dhLEmiQyyQtSJ5w+dXPbWQ2e6KVm2RJIFFBg3Caa6xsP+0v/0CGyPWHpqB8+KUPsCCsUJY5U/7oK4Y4AXc9/orxPOag71GTFyRr0lQ7JLXvQZwyWMMr18jMuFtKE+ZnrTGruJibvwNRSeUSULa+fhm6uzdJnz6ebiIE34mwsBjjjzkDUlHCbymGokkLzrTv2LEDnUv7RyiSrIp/gE1IoRj2AQWLJQAtFT0kteiWRHXS6X87Q94X9h8G6vzDn04bQlpcccOdEpNC9y+SbncNZPMgGUKCgaoe/v+1cxT+5xe/NO6r3UNCy1cb15G0YD0us5/+/Of/IwopvV27h8Q2bJb/F0WW4Ne/+Z1cs65D0IXl0mtvwbPvTR3xTvA66f5FxVF0/VbMKRnZz52CEhAbGysTJozMTmOfBBDbdCwMGDWJQVeSjIyMg7qSELa2C2Dv4ITw2HQU1vQOkhh9FhLDgrGJ4aQF3UNMSYsbU13xSowH3kwLxAdFMfikJgVfNGdhUnsepnQVWHCUMLmzAJPacvF5YyY+rkzChRX+xmcwIc4R38xxkQwikakVyKleOmZIC8awSC+oN45xqCrlt3qsqUrHJGlBWaZpMM7jNaNngQVHA5q80G4NlNU3N6/GHZH3jSAt3gr4CImJhSgubpXAnYsXb5U4LuOdtDBtv76+bYgRH/1hbiHKCJtBhYVbPGb7pWFRRAnclQFOg4yxK5hZQ6srdBYQGmemhIApSFpo6fvHNp54f4azLL/yubVkNODySx/PGEJaTLYLlWX60Wtf/bufeFWUHlwmaeGV0SbLL39iJcYViZHnP/gaIWWrRIGhZ5H/dua58nc4HnrpfSEruDwvKAePvDJRlg9FWmgIeTFAXLAdKJNnu1B9ElmzXtxF6OZCxYW5GBcO6cuQkFSMkpJWtLSsGoi9cnzdRAiSV4GBYUbDKiwsTAx0Sxl0D2Ag6127SCr1w7liZAaR2QmdsIsuldgmzAJCgkHiWqj+wffl3AlX4LN5fuLiNMMjAb/7w5+GkBYvfDQdN9z9mGynu9PFV98kfZwBbqkgOvXPfxPyjllF3p66CD/7+c8lhgbPM0OtJwExzS3W6P5E0uJFdUxmImE/PfO8CULoMQMJ1UpTnSJlHyufFOmvPAfjYNj4Z4qrlr4uZjf589/OEKWH6fut+z4Jy6S2PfCr3jGiTawLdsHTxx/JycmSpYaTJjt37pS2HCukhWnRfUW7kiQkJBwmieGIsJhUFBhJjNVo6NuOrjHkS27B+MWhSIub0tzwaqwn3soIwoclcfi0NlXUAFRafNVbjM/q0/FJdTI+q0vDVPX/5w0Z8v8XTZnyl+A+kzvyZbvG5PY8fFgcg7czgvF6gs+QbUcbJANei/fC+/mRZrcTnzdmyDW9keyHN1MDZN0XjZl4K82wfCzwSXUKvmzJxkdsy54iIS6+UP+TGLqoMsD4DC6Oc8K0ua5w8o0bU6QFs4Sk5FQaCQuq4VJSUoRoHmtlTJIW/FH19fU1/mBSGm5uEGuBBaMVNOZIPFBKT0k9XUQ+Sp0ygrS4w/dexMXloqCgEQ0Ny9HTs1kNmg3BOI+nQTjawHvn7DrdZaratpiNYzEzcyO+8UgyKCwiisVXnwY4DXHOEnNmlcYK41UcSF2hQaPq8dc/wbPvTRE3DJIWT7zxqcjnSVg8/8E3YqQ99trHePHjmRJf4sEX3sVLH88S9QJJi7enLhRigKTFFwuDEFq2Chdefp0YaXTjuO+ZN0UFwhSSj732CezVOrqG8DqpDDntr/+Q/4dfG2ei3/nGTogQGoJfu0Qrg3MNrr7lPnxhGyAG2/B9hkPfu1F1odqF95bQulMCL3JG2z29FXPzt45oZ4lvEVuBjIwKiW/R0bFOnsuJUAT19W1WhtXgb0NaWpqQ3JYCMUR/+OEH7N27F+vXr0dy08YRz9IqZxtsSe6lNRsIs6Zt0g904FlmF7nu9gdx4z2P4WNrT+m/pqQFU+neeO/jQlw88Py7QtRdd/sDeEv1S+7/2uc2uP7OhyULCY9/za33y7tDsoGuV/z/lgefMbo/3fv0G5JFxF69W/yfpOH1dzwkmUvso8slWwj34fE8M1rkHFQekZwguaGvi7jlgafl/TBdJ31e3RvfUaYDtivbN6JN5iW0IiAgANnZ2WhtbVXfnrXYvXu3tCXbdKyRFsML70/HQ+no6EBiYqKRxPDy8jJOIJmCJAbTq4ZGp6CgqnsgO8kq1HZtFomzuYG5BRaMZhweaeEl5ALdF54LsMNTXvPwhJsN3s4MFpeR2754B6/FeWFqX4mQG/fN/hLv5oTjaR9b3DPjU7yqtlGpQdcS1iGB8UKwA55wmY3bvnwH/7jyYll/rEDiZMIDt+PGD14xu5142mc+3i+MwrWvP43z7rhR1vEebvrw1RF1jwZI+Nw76zNMVG360PypeD8/ClO6CoXEIMkz1kmL5qW7kcAsISYxLKiwGIuEBcuYJC1Y+ND0D2RtbY/ZAawFFoxmGAzv/WLgdXZugFdBxAjS4p8+ZyMqKlPiBtTWLkZX14ZxH4xTEz4kb3r7tsKvas8IQ8Mqfzem+eVilneyGFo09gNIWFSvF0OcAfmGx64wNWaGwy+3R4ye2x5+TtxKrP3SlJH1jBhpJDTueuIV3PnYSzLze/vDz4vy4Zb7n5K4EoyZQf99bud5aTjd/+xbmOYaJ/J5BgZljAwqN3gdBIkQ7s+YAPS1/9DKTYxF/j/82hhv443J8/GgMhLfmDRP/rf2T8e/73pE4gd4ZbaP2OdAkPMPEBeU2NNthvcXVbNRiAvXjE7YFI007Gyz1iM6luRag5Brvb2GTDcnop82NCyBq6vHgPFki7KyMksqVFVoYHOgozOINPasxLzhMWDoIhLfDsf4aiHKoms2iAKBmTXYr7SRz3eHy1RemJIWBOuR9NJ9Wb9jun/Je6fqSF3Zpo+rlgfA//WxTP/X+2f0GUgUc/tIHV6vWsf/CcbLuPLGO6UP63Wsp1UWVHYE1VJlMVyt9R3sAxIlngWDnZkG4WSfYpuOt6JJDCoxurq6JDA6Y2KwjZjZzTyJYYuFixbBNyAcaQV1QmJQjVHZtlYNyveYjSFggQWjCT+GtKDC4vTzzsFnDRmiRrhr6oeY1JGPU8/+J97ODBFjnIqLq154TAzwV6Lccda/r5I6j9hNx+VPPSB1Xkv0wWVP3C/qAioy/jrhfFlPN5SXIl0xpbtQDPdXot1FIcH/P65KwksRLhL74aVwFyEiWP/9gihRgrwc5SYuK0IIqOO+luAj+3M/rnvSYw7+/c4Lsjylu0iuT4MEwk0fviKxJEhcnHPztVKPZMvL6nq4/FqCN97NCcPrib5yHV80Zcn6qb0l0hY814clsbKOpAyv6bV4b3xQFC3r3i+IlGt6Lz9S7e+KSW15uPDeW2Ub7+fK5w1tNh5ICwY+jknOM35HmSUkJydnTP/ujFnSorm52fggMzKKzA5eLbBgNIPGHI06khCMa1FY3YRf+fx6CGnxM++fIyA8bsQsdn///nFNWmiyp7Z9y8j0pnQLiWrBDM8E8cN3TqoTA4w+88z4QUOcBrkYOodBWBwOxAA6guOY2/fHHvNIzm8KOa9Z4mKDuNY45KxUbfz9iDb3iixCSkoJKiq60N6+ThREJ0Jtwf5RUtIIR0cno8FEY3O8F21s0q2BbjN0c/CvMqOcyd2OBTFVolygGii+0aC2EKJigHygke+d2Y6/n3kunv9wGmLqDYFlRxvoVkLFElUXDMBp+o7wXhjLgiqL2OadWGRGZWGT0Q9PTy8xzGtqatQ3Z5kxngUJoLGusjicYkpi9PT0qG9AipHE8PHxMR/YU72TTLHq7OaJuNQCFNctFSKjonk1Gnq3iXFobhBvgQUnCj+GtHgnOwz/uHwCXgx1wmf1acrILhCjm2qEu76eKMtUYjzjYyvLdLU4+4arZZnKigvvu02Wr3/7BTzubCXLjI9B0oLEwd8vuwgTHroLnzdl4e5pH+Oyx+/DhAfvwOtJvmLYn3rOP/Hg/K9wzk3XyPEuuPsWXPva07ji2Ydl3UuRbnLMN9MCcPEjd+PSJ+7D7ZPeFdLjKc+5RtLi86ZMuX4Nbn9SbadrBkkGTVpc+dyj6hw3yzLPcfGj9+C6N5/Fv265Dk+62sh6kiaXP/2QOtf9uOmDV/Blaw4mlifggntuwTWvPIVrX31K6j204Gu5v7u+mSht8lF5Ih6xny7beO+n/utMue+xTlrU92xFRPzg5LyLi4tkrxrrvzljlrRgkDX9MIODw80OXi2wYDRDkxackWYcAKY+PTfwgiGkBTEv2AWpqaUoL+8wCcZ5fAMdHilWr9mPvlVbZXnlmr1Ysno7lvfvQs+qzYJVa/Zh7brv0bFiHZb17xyxvykMKgvGAlEf9ZpdIwyNWTnbJPAms2gwTahPTpdk8Ihv3m6Quh9lwmIswhxxQcKHyhLf3B7MLWQMkaHtviBtGSIjM0Rtwb5siG1xYlyZeL709EIsWKBjH7lJqs/xXDjY0S4ie/bsEReR8rblmFs6jIAq+QE2aSvglFAjbhtUJ5G0ouJH3ERUv6D7xqufzTa4Zjz8vKTtNdePTjT4/tPt5IHn3kaSSZpg9m8dvyWxbTc8q5gxZDj5+T0WBqaq8UWwRGjXriGMCcI2HIvxLI5G0f2M5NjixYvVe5huzE4SGBhoNsUqwQwldvaOCIlMQl5Fp8GlpGkVajo3om3lt2YH9hZYcLzwo9xDSuJwx+T3cdH9t+GRRd+I8oBGN0mFs/99lRj//373RTHcuZ6kxVnXXyn7XffGM3g2YJGsP//um/FKjLssC2lx8QV4Nc4T17/5nKgNPqpMwh//8VdRUpC8uPTx+6QuSYOHF00TNxMa9i+EOeG8O28UZcUzfgtw9ctPSL1LHrsPd0x5X123B/74z3/g46rkIaQF1RRUVWhQoUHigNtMSYv3CiKFoJDl/Aj85aJz8ZW6x7fSg3D+nTfJ+hvffwXXv/W8KCv+ccXFcs/MBvKowwxZ/tOZ/8AUdX08/mnnnoU30wPxRqKvqE/0OQm6yJAUGrOkhepnVe3rERgWZ/w2urq6Span8fB7M2ZJC85y0LeHD9Te3kGCE5obvFpgwWgGDTr2XQbjbGnpx52R948gLT4L+OakD8a5ZNV2OFX7o2/VFsS35SOto0wZCwVwqw1GaFMyWpf3I6OzAg5qEBDXmmf2GIQmepihor1zExaUjkzFOT28TlwuFoQXwSOtBUxrGtu4BSkde42ycQthcWiMIC4696l23CrpUJ3zVqm2HmrkMQWqX1CKMlLKBlL0bpDndKJcmZgKNTg40vjDHx8fL64R47mYuoiQxGEmjIDKLUOeo6D4B8xPbId7aqOkFWXQy+R2g5uIDlrLZb5PBNeZ60MnGuKqQoWIybvOZX39/CaE1O8cqdZSmJOxGu4entJvKioqwFSndKsxdQ2xkBaHLprEYL8jUca0sZrEYLBcDw+PAwT3tMXChYvg7ReC1LzqAZeSlZKlhAE+O/v/Y37Qb4EFxwA/hrT4oDhWlAV0g6AKYcLDd4vBTeObxAPjW5jGgKDRfsZVl+JJj7lCBNCY5/rz7rgBr8R6yLJWWtCl5O5vPpJjkQT54xl/VeseFxUDlRmse8lj9+LVGMN+xIvhzrji2Udk+ZVYTyO5cea1VwjBwf2peCBJYUpa0O3j+RBHI4yuHgqmpAX306QF3Tv0MoOQkozh8iWP3ovz77pZznXR/bcL+fJGij/us/pcYmj85tQ/GoKQqrqnn3s2JrXnyvJw/OOqS6SNxyJpwcxLJGrdPAbjcjH4MVV+4+W3ZsySFixMQaYfbHPzcrMDVwssGM0wkBb7sGTJdgnG+XLC2yNIi5f831ID5zwUFDTJDLaOF3AykRY0Wm+NvwuuNUG4Ke4OxLTm4O2cj3Bv4sOwKXdA3ZIluDbmBrye9T7mVTgf0MjleqpM6HpQ3rxJGRdDjQ2rgr2Y5pEEm4BMSd1ItxC6NTBNI2dVGXTzZCcsmE0kqc2QNvJYw5S4oJHHdoyq3YiAgiVmY1s4hxZK4FhmEmlt7Zd+fSJT9HZ3r5cMU9oIYspKGlDjtXDgQ4UAlQJUDFA5UNO2GAtLRz7L2YX7sCipBV6ZbUJUkbCikS/xLQbeI3N9ZjRDExYZvQYSLqJhJ2zNEJ+z83fBzi8OISEhorJoaWlR/Xj1mM4acjwL244kBhU/bFtmKNEuJQyybm9vbxzbGUGXkgUL4eDojNDoZOSWtQ8QGYbYGE1LdqlB//+ZNQYssOBI8WPdQ+765mN82ZYrASR1LAri9knvYcLDd+GFEEfjOsajOPPay4WIoAri5o9fFwOeLhNPehjcKz6tS8OpZ58hhAYJDhIdzCpCguCTqmQhNfg/60548E6JHaGP/3yQvTFOBpUOF6vzc/nypx8UFxWei0oKnv9xFytc9/ozsp0qB5IHGqaKh3dzw4yEBJepIOEyj3P2jQZXl4nl8fjn1ZfK8i3qnu63+VKdKw/v5UVgclcBLnn0HlGVMJ4GXVpEeaLOcepZZxhVKKZgjI2/TjhP3a8hm8hYIi3aV32HguoeCWCsv3n+/v6i8BtPvzVjmrSora01PtysrFKzg1YLLBjN0Ea4IRjnekxJnz2CtLjX9xHExOQgL68e9fXLJP7FiQpyeCSIaE7HxRGX4c6E++W6SVo8lfoS/Opj0Ltyi/r/Y7yT8wnSO8vN7k8MKlO2IqF22whjY2bKSollYRtWCI/0gQwI9MnvolvIfyUg4PEgLOhLz4CF5rYdKeYF58gMuLltxwKauBD//+5vEd+0HaHlq7CoYPOI9reNa0VYWIrqq3UDLiInXhVUVtYiajz+TjC3+Zo1awZ+QcZf4eBnuNqCcRoSa1ZiTsmwoJwK1nk7YJ/SDt/sToSVr0Zc0yBxoV1FzPWZ0QhNvmnCIrJxN+zL9o+4Z7qFzI2qkqCSzJRBootuDhaVxbErbEsdb4X9MSsrS0gMgu459OfWYz1TGGNjuHogKjEHhdW9KFPfHZIZ1R0b0LJ8nxib5owECyz4MfgxpAXdIhi74ePqZDwf7IC7p31kNLzfzgoRVw2m7dTrmMr0yuceEfcNqhOoSGA6z+eC7HHDey8JeUDy4+KH7xa3iyfcbXDLJ2+ImwldRV4Mc8a7eeGSreSrnmJRSpCcEJKht0Ria5AI4f/vZIaoY74oy1Rg3PzR6/i4Mgn3WX0h63gMuraYEhTmwOwnVz5vuOZ31D1d9fyjssz1V734uCx/UpuCy595SJaZQYVxNT6qTMCD86cKKXHn1x/iCVdruf5LH7sXn0r8j0JceP/tcv/Dz8ngnoy/wbYbS6QFCdf0gjr5nunvWmhoqBDl4+13ZkyTFpQa6h+vwEBLXAsLTj7QeNfuDswM4pSvPsDDSIurfK5Tg7dMZGfXSAaR7u6NJ2UGkbVrv8O/Qs+Dd12E/E/S4pm0lxHYGI/eVVvQsmw1Psn/CmeHnov+td+O2J+g8UvChsSNf+XIeBYzIhsw2zdV0iH65nQjsmrdgMpiYHb4CAkL7k93E6ZOpRHPdVQ++OZ2C1HB/5kS9a2vFsI7q13IEq5jEFAGsdT78DiMC0CwXkTlWllPGb5/fp/E3tD/S4aSlp1yzhRlbM3wSJCUlPo4JGZ4HH1vPD8VJrED13M0wGNrtQXdBJiNwa1o7Yj2t0lbhYAAQ+BYQ7abjSecYON5ExMzjb8VTNU4nt1EtIGo1Rb8He3s6oJf+QazbhIkLhzTulQf70JYxWrp78lCXHx/XInAnwx1bZp0M7iE7EOEkbAYeb82qcvg4u4t7guFhYVob28XostUZTGe1TrHo5iSa8zWQvec6OjoIWoM7R48HNqtxNMnEIkZpSipXyYkBlOu1nVvlhlNc4aDBRYcDD8qpkVpHD6qSBQigRlEaLRrw5tkwKS2QdcH/k8DnsEttXsEY0doZcNNE1+VgJXcR9fR+zDA51fdRWLg04AnYcF1rMftPK/p8UkIsL5xmdfSmituLHJctf+XrdkD2wdJleEYfs1ml3ltqp5e5n68L55Lu36QgCFJ86W6BrlntT/BfeT61f76nLzeO6d+iHezw2R5rJAWNR0bEJ2UY0xpyomVmJgY+W0ej2VMkxb8UWMKGMODtpMZPXODVgssGK2gQUWDTmcQiS3LHUFa/NP7LDVQS0NmZuVArID1JzRWwJHg9oR7kdCWL8sf5U/Gh3lfIrurRoJxetVFSJyLq6Kuw4r+3SP2NW0rEjzu5SNTnU4PKsKcgCw4J9SIkU/DnYa+Ic3ikRtXbqmN+GJhEN75xh7uqU1yzE/n+eK9aY74bJ6fECRUIfztn+fg07k+iKxei4DCxZjiEIaPbTxhG5ovx6HkfqKVm9rPAfc+/Tps/DMldgAJiY9me2JOYLbMaDvEVuLFj2bALqoUz7w7Wd3TYrz+5VxJ48rjkLz4wjZAHdtL1Be8Hmv/DHUMD3w+318MNtPr/6lgu9HwYzuSUIlt2ALfkv4R7W+duRHe3pFITi5GZWX3qOmrK1bsgoeHt9GoGU8+osOLqUFI8obZMFatWoX65ja4lG4f8UzluRbshmNGL3xye0Rxweef1L5HgnPKuzVK3UW0ukIIi57vhGwJbdiFRWV0CTFD0GRtgL1noMzuZ2ZmoqGhQfXf5aJIsagsTmzRZBuzlCxZskTcdjSRQSLSy8tLBvyavDAFg3wuWmQP/+AomdEsHVBjlDevFiKjbeV+ZUBYFBkWHBg/lrT4rD5dDHGqIejyoI3vHwsSD3QNMbdtPIFEBokbAzFz8pMWHat/kG+Ql2+Q8TvFIMVpaWnjOkX7mCYtWOgLqR94Y+NSswNWCywYrdCGOGejGauirK4DP/f5nyGkxa+9f4OQsCSkp5crQ7DLmPaUbiWHMgRXrtljdv2JwtxyJ1Qs7pTlgIZ4fJD7paCkt1W2vZH9oQTpHL4foduKRjDbwN6MH/4MvxzMD8mDW0qjKCLimuga8u1Rk7Jf9u/bRDXhldWOj6w9JAjh8x98rYy4zbj94RfglFAt5zr/0mvANJA8533PvoWpThEIKl6KM/51gcTWuP2RF+EYWykBQ5968wsxqh595SPMU9dOI/CB59+VzAc0uM46bwIWRZYIEcFzv/XVAiEp5Hquu03qMXvDZdffJse+9vYH4J3ViTenLDiqM+A8Fu+NKSKZiSWofCRpMTtvF9zdQyQGS1lZu6Q+NaToPfEEW1VVB+zsDL7yJLvHczYRbQDqTCJ0fWBQzmL1/XEoHZkZRlD0Lewzl8Ard7G8W9F1G5HYulNILHEX0aqLUUBesK/yWrS6Qvps6x4E1e7C3NKRbjCEdfZGLPRPED9ipu2kWwiDbzJTGdtIZwyxqCxGT2E/Jvm2d+9e9ZvQgdTUVKNbCeORuLu7mw3yyVlN2wULscjeQYiM1NwqlDYsQ1mjIdhnTecGtCzbqwxVS4wMCww4UaSFBUMxFkiLht7tyCppxkITkpXpoZkhZLz/vox50oIzIfqhZ2QUmR2sWmDBaIbB5WGv+P8zO8hp/qcPIS0It5BgpKSUGNOeNvesQmJLAfrXfIuEtgIsXb0DqR2lyOqsQm53LVav2Ye4tjwJeFne12H2vCcb2E46CCfbYGHJPvE/Z6YDPWs60y9L1Awe6S2ieEho3iGzwUfDNYT425n/kr+iPFCg+wbP5ZnZilsffAZzg7Jl+wWXXYuElh2y/K+LLoeVbyoWRBThzsdekpgQT789CV8uDMZXDuF4b7qT1Jtw1Y3KENwkyx/OclNwleUzz70IySbpGlmfpAXPf+rpfxXVBXHLA0/Lukde/hAvfzobtmEFQqro/Y4UPLa4iKj2ZPrTsIo10uZDULgfLi5BiI3NQWlpq3pOa+V5HQ7BdqzB80dHJxl/L5KTk8UQHY9Fqy30zPXu3buxYcMG9PT0ILe6DQ4lO0Y+W0K9a7Y56+CeuwyBRUsRUb0O8Y3bxGWIxIBkEjElL1SfMdeXjgnUuURZQah+SvKP7z7fHbqDeFXtNuv+QghhEZAsbgecCCkrK0NXV5fqN+tEpvvtt98aCQuLymL0Ft2vSWRs27ZNxofM/kISQ6dcPVB8DMLWdoEYEpz9TEgvRlHtYiORUdW2zhDsc5QH9LPg2ODwSYsgcYH4rC5NAnGKCwfdQ0hcWHDEoHuLxLRozsKnNSknFWnBQMHMfhQalWx0ByGpSqVYb2+v5bdFlTFPWnCGSAcv8fMLOuEDYwss+LEYDC7JtKercVnoVSNIi5mBC5GUVISSkjZJjZrdXIMLwiaIa8V5YRegcdkKnKv+Ppv+Kj7Km4TOFevxa9/f4L3cz7Cg0s3seUc7+C6zbTRo+GpFSkvLKjgU7cCswm8xq+g7WCmQwJgVVCjGumdGq/jfMxYEjeyjQVpw/7MuuFSOyf9JPnzjEo3HXvtYFA53PfEK5gRmybaLrvi3KC24fMW/74BvTpcyoL6XzBs8DtURV9xwJx5//VMhAFjvujseFlcSLr/2hY24lHD5n/+6UGJycJl4d5ojPrL2lOOcfcElQnTw2NHq2LwOxsSg0uSciy4TZYbe70hhJC3UORJbdyGkcsNIAzBnG5ydAxETkz2QQWTNqCEtiN7eTcpocR8wUGxlJn28FlMDj0Y5YzYwm0hnZydyKlvhWMJAt2aM/OIfYFO4F07Zy+BduBKhZasQVbdRCEJNXhiVF6q/HFMCg8dkvxwgKnhOEidCVnTsRXSzQV1hSI1snrCwyVyLhf6JQljQwC0pKZE4Fv39/eI6Qxcai1vIyVv4zEg48RmShGJ8DPqMa9cSEhmurq7GceRwCJGxcBFc3b0RlZiN/Mpuo3uJpF/t3S5Sb3NGigVjB4ciLW5MccXL0e6SxvO9gkgJbvlZQ7ooAhjDYXJ7ngVHAZPaciRTCkmhj8ricWGF/xDS4ps5LnDyjR11pEXz0t0orOmFo5Or8dvC7w6DPVMpZvltMZQxT1rwQTPPt+HHxVYNkLePGKhaYMFohsEgN6Q9bWtbg3uiHh5BWnwSMFV93ApQVNQiaoy+xVvxasa7uDbmRnxROF2OQ9LCuSYA2V3V6F65CdfH3iJxImqXLB5xztGI4SQFXQpo7JLQIVnBWBZLlmxDR8d61NUtgX1eP6bn7sKM/D2YWbAfViQwwqqMpEV4Rb+BtFBG9tEgLYjnP/hG0qn65/XCLbkB1r5peOWz2eLnf8+Tr2GaW5zUe/jFD8RNhUbcp/P8MNk+VIJ1uiTWyfbn1HE+n++HWd7JmBeUI4bel4uCJfMJj83zMMYFlRyXXHsL/NS67KX/J4bYW1Ns8e40B4nV8dLHMzE3OEcCbzK+BYMkMggoz/XW1IUIVddlev1HChqHmrQIqGTK2WFGYFo/XFw0adEy6kgLorCw1migUEJOg328FlODjjEbaKQz6CSJi/yKBrgWb4JNsXl3CpIX8wu2wy1/JXxK+tU70C8uIwnN25Hctkf1z/3SV4zqCxMCQ95FDTP9zCxM9jFVVBBUVfBcdAXjOxfdvBvBdbvgVLFXXat5soIkp03aStj5RMLPz08UFiQs2traVH9dbYxjYeoWYhlYjo0ynMiorq4WwkoTGfwucFy5cOFCo4FhCn4/mLWEBkhoVAqy1bdOiAyduaR9/YAq479mDRgLTj4cirS4ONMFdyW44J5UTzyQ64+Hi0LxaHkEHq+KwhPVsRYcJTxeHYPHK6PwaFk4HioMwRllXsZncFGMA6bOdoSDd/SoIS06+v8jsXNikvOGEKNBQUHy3eHviqUMljFPWrDk5OQYO0JpadOIQaoFFoxm0JijUUfjrr19LZ6Kf2kEafGu/6cSJ6CwsAlNalDU17cFWe3Vsq1h6XI5DkkLxoSYU+4o7iE5XXW4IfZWCXY5/JyjAYdDUjAeAomK7t6NKGltQ2R1JnxLouCSE4BPEhMxNW0TvsncJuTFzPx9mBnbIXEhaMBzBphqiKPpHkLj6GuXaHHPoPsHjzvVKRJWPqlCHMz0TJR69PmnGwezemQt+V9x35ho5a4Mu1WSveD+Z9/GLK8kzPZNw4VXXC/XSiNsYWSJHDuoaKlcr2N8FSYtCsFU5yh17v8KOUIFxhSHcMk4QmNwhjrnJ3N81L1uk30WRhTjQys3+OR0HpV71uCxeL80Djmr7lFhJmhjfA/c3IIRF5ervsVto8o9RKO/fz+8vf2NxkdLS8vAL8n4KzTeOGiiAUfjfDhxUVZRDa/iNZhftHvks9YgeVG4A+75q+FTshah5f2IqtkAEmgkt+ieIQSGeg8NBMZ/BkkMQhMQh4Kur8Bj8FiaqGDQ2oTW3Qhv3I3A2p1wrNh7QFcQQf4uzEnuhYObj8y0JyUlqf5aKgoLBiW1EBbjr+h3gcojPv/m5mZxITMN9sk0uPb2hrg4I6C+JYyTQfcSD/V9iU7KRV5l5xAyg7EyOOPatdbiYnKyYQhp0UrSohO/q/I2GsynVHvgZ0PgacFxANtdP4MLo+0wZZYdHLyiEZFSgZyqE0dasL/UdG5ETlkb7B0MCSMIZj3i94TumJbflJFlXJAWDCCmO0RERLzZgaoFFoxWaNKCBjoDTL6c+M4I0uI1//fEECwoaERj43JxkWhbska2aWOQpMWCSg/EtuagZflqRLVkwapsEZ7PeG3EOY8UPKcp6aD/N1fXFKb7HIykaOteg5ymGoRVpyCgIg7uJSF4Jfkd/DPobPzK51f4mffPcGHAnfgidjmmJK/F15lbMD13N2amr8OcoBy4JtcjuHg5Yhu2SqDALAbiPIoG/JGACpBn3p0Cx7hKuCbV47Uv5ohrh7m6owmatKCRGNe4DYtKOYs91Bi0DiqGh0eYqILKyzt/VNDY44nq6k7jLCoDYFGeOV7LwYgLxnWoqqpGeGEX7Is2w7rk+xHP3IjiHzC3aC+c89fCq3gd/MvWI7xyvbgvkcCgGxSz65BgIIlBMpFEhlZjHAysQ3AfphHmMXiseHXMiMZdCKrbBd+qHVhQaj6NqRF0bclYg/lRlXB395Rc+IzWTpcBBnLUCgv2BwthYSmmRAb7RHd3N7KysoxEBuNkUKWjs9iZA4lRCfq5yA5efsGISy1AQXWPkcwob1qljJtNhsCfay2BP0crNGnRsnw/Kto3Iqu8Z4jSwoITjwmxDvjGxgUufgmIzqhBfu0K1PZsR+uK744radG8dA9KGpbD2z9EfQMM6gp+B6iuYNaj8Zwd5FBlXJAWzJ2uc3Y7ODiJEWRuoGqBBaMRNOZ0VgymiHwn5dMRpMXzfq9LcMP8/Ho0NCxDT89mdC3dgLsSHjAagy9lvoV7Ex/GvUkPo27pEjyS+gweSn4SRb3NI875U6FJB14vZ6yXr9otBin/1+TF8Pp6n0GiYh8YeHSQpNiOrp6NKGhuNJIUtgVuuC/2UfzR/0/4hc8vVBv8bESb/MHndHwY3IDPo5dgSspafJO1HTPz9mB2SDEc46rgX9ArcnXO9NLwEb96M8b48QaNf6osHnj+HTz19iRx5RgthMrBwPaj0iS5Yx/C67aOnMlWBuEc5wj4+kaDQWOrqnokNe1oTM/LawkMDDMaFpWVlQO/JuOzDCcudCpUSucZIKy+vh4ZBeVwK1qHBYXDFDbquRvAoLiDmFe0Gy6F6+FVsg6+5RsRVLlJvd+bhMRgylRm9qFaKaHVQGYkte0RtxJTcB23UbFB0iOmaQfC63ciuG4nAmu2w6dyu5Bnhr54ELJCwTpnK+amLoW9dxh8fH3F8KRKk+lvGYCUJA3v2aKwsJRDFfYJEhkMYrts2TIUFRUNiZMRFhYmqgw9LjUHcTEhmWHnAN+AcCSkl6Cwps8kHesq1HZvFjLDosw48RDSQhm+bSu/E0O4sH4Vbq1OwFWVkbi8NBSXFAViQoE/Lsz3xYV5hA8uyLXgWIHta4AvLsr3w4RCfzwUHwBH7xiExBeJEqasZR0aluxG+6ofjgtp0bp8n7y7camF6v0ezFpEV7PY2FiLuuIwyrggLVjYIXQHaWhYMmKQaoEFoxU0oDRpQSPvk/SpIwz0J/yelzgBeXl1yoBYiu7uTWL0H8wY5PqjaSjq6zSoI/Yho60CzX2rRCVBotCUvDAlKQjWZz3eI+POMFNKZXs3YmqzEFgZD7fiYDyZ8AL+5H/qAEkx9P4PhJe8w/FRaAe+jF+Jr9M3Y0beHlglLZUUod5Z7YioWCPGztF0ERmP0CqLtB5DPAu3yl0jjEKrrC1qEO6J4OBEZGVVSdwRkmsrVuw5aD89UWhsXGJMgcqAWONZbcFiSlxwJojEBTNncKBFw4xuNCWlZYjKrYNj4QbMK9gh5ASD4DIYrgTF1TAJjktYK9gW74ZT8RZ4la6HT9lG+JZvhn/lFvhXbUVg9TYE1WxDcO12QVDtDgGJicDq7Qio2gY/Vc+9YgcWCklBxcehiQpB/k7MTV+BhSG5cPf0kngFlP3T0GxqasKSJUuwfv16CUTKe7YQFpbyUwr7CvsNyQxm46EqIy8vT4gMTWZQ2ePl5XVgFxMFITMWLoKdg6OkY41PLxmizKBRVNm6BvW929C2Yr8Y0+YMKAuOLtjOzP7Qsfo/4m5Q27sD+S39SK7sQVRePQJTyuATnwf3qEy4RWTANTwdLuFpFhwjuArSpa09o7Phm1CAsPRKJBW0ILdqKSraNqJh8S60rvxeCAs+O3PP9WiAxCLfy6SsclFU6XeZ73lERIT8zvD3xFIOXcYNaUH/Q91RUlJyzQ5SLbBgNEKTASQhurs3Ymqm9Qjj/EHfJ9TAJws5ObViDB4OaXE0oa9Rkw957fW4KvI61HT0StYTxi3g9WjywkBsGNw+SFRQTdHRsw7pjeUIqkpQBks03k//HGcFnYNf+vxS3D2G3/Oh8AvvX+Apj2mYGNgsbiKMbzEjdzdm5e/BvIgKuKbUS2yI2Potog7I6P3PYBBAM4b5kYDSdbqkMGOJue0nO0RlodqPsv7I+h2YWzoyOKNVYCmcnPwRGZmBwsJGib2yePFW6QcksEYbacHroTuh/t0Y72oLluHEBYOU0gDbsmWLeo6rxF2ktrYWuXkFCMxuhn3eGszPXIvZmVvk3TOCwXHz9wmBYSAvTMkFtaz+tybUssac4m8xt4T4bsh64rAJChNY52zB3LTlsI2uhJunj0hzGWyR6oqqqipxB1m5ciU2bdpkTGvKe7YQFpZyNIspmUElD+OmZGdnD1Fm6MCfixYtMn6PhkO7mTBmhpOLO0IiE5GSUyVpWUsblhsVGlXt69DYtwPtq743a2BZ8NOhiQumvW1f/YO4HTQu2Yu63h0SO6GqczMq2jehnFBGswXHAaqt2eZs+5rubajv24WmpfvQtuo7IZj4vPjcjgW5x/g0fO+YHpnvpem7yt8bupLxd8XyW3L4ZdyQFvwxWDjgo+zh4SMGlrmBqgUWnAjQQNIwVSJoNQLJALpKUGlhlb1ohIF+t++DanCTqQY7Naip6UNnJ2c/d8p+2iDUMHf+I4G+Zp6LxERpRzvuiX8IP/f+ORpblkvwUJIomrzgdRH8v6lrJZLqixBcmQi7Im/cHHUHfuXz659EUvzG+7c40/tsXOxzGS7zuQo3+NyGSV7W+CywHp8PkBYMyElDaXZ6P+xjq+CT3YHwSqotdojaggEAj4WbCINg3vHoC5g4293s9pMZJHkyF/9X2i+hRWdkGGogWuXtgs0if3h5RSAxsRDl5R3SL9gP6A7E/mOub51oNDcvNxoKnp6eMtM+3ospcUFDi+6XVKHs2LFDFAladVFeXo70zEzEuAYjZHYY3FzzYRPZhanpDI67FdNydmJG/l7MYmYfUVz8ONLhJ6FwH+ZkrMG89BVYFJotygoOHuPi4mQAyWvmBAfVFUzvynED740yf96rhbCwlONVNJlBooyp+/lOMb6KJjI4Q8sgsSQzDqbMILSrycJFdnD38kdEXAYyihpR0rBMjCrGzWB61tquTeJv32nJavKToQ1gDSExFDibb8GJhX4Ww5+Ruef4U8F3hwE2DW4gBaKK0u/hggUL5J0lOW5xBflpZdyQFuwc7Cy683R0rDE7SD0eoJFHCb8Ggyaaq3eyoatro8yYm9tmwSA0eaBJCYLEhIZBibBPZqBN1Qicle7oWIt52S4jDPZbfO9EZGQ6MjOrUFnZIwYhSQGDumHfkOObnldfi7nrPFzwOLxmnqu6sxcvpb0l1/R73z+guroXdXVLJQ0rr4mkS2VbN2LqshFYEY+ZuQtxRfg1+J3f7380UfFH7z/hXO8LcInP5bjc52rc6/sIvvSbAdfAYPgFxyAkJElgG1pqcA/J4GzvnoHZ3e8xL6kLrskNCCxcYoht0bZbFBE0wI+F2mKilRs+nOUqPvh20WWSOSSyai2c4qvgl9ej/lYjoHCxsT6zjXhnd0gwTgYLja3fDLuoEkl1yu3MgMLMIwxiaB9TLhkZWJfHcEmshYNal97znfF4xwLaLSS99wdJJRlYu2tg5nuosTgrrE4Z/4OuIbW1VANtlD7DvnOkffBYgdcVFBRu/N2gQTueyn83bsT+mhr83/79+H/KcP+urU3W/0et31ddjX1VVfh26VJxmdCqCxpYWnVRo+o0v/QSllxwAbquuhbx70yD06JU2ATVYFrSSkzL3o4ZeXvNqC2OHqzzd2JOZj/mZazEgsQWOPtFwNvXX6T4HDxyVrusrEwkuozPwWvnPVBdMdwdZLQTFrw27bpDdxYqYEi+MIAo74vKkeFYsWLFIWFan8cheMz+/n4hqthe27ZtkzZjzA8SWWwzSzm6RRMZOq4Mny2/SVqZoYN/MpOJv78/3NzcDqrOYEYTcTWxd4Cjsyv8gyPF3z63onOIOoPxM6ra1qK+Z6tI3Tv7/2PWYLPAPIYbyRacWJh7RkcCHrOhb4eQf3kVXfAJCBOCUL9nJCu0ko/vrOXb+NPLuCEtWCj51J0oI6PI7CD1eIBGnotLAD7+eAreeOMD9UOTYbbeyYTly3dj5syFcHUNMrt9PONABIUmJkhKECtW7JKZZ6oRSP6QdCCYvrSnZ5NkWmBmkIWZniMM+Ot8bkJYWCpSU8tQWtou9Ri0k4QYj7V8+U45vuFcBjKExuJwIuPHkhjch8fhcZu6V+LjrK+M5MMZ/mchP78BRUUtyC6rVsZ2AnxKojAxfTLOCT4Pv/b5zYj7OBh+4/0bnOX9L1zsfTmu8LkGT/q8gNl+dnAPDEVAcLzcP9UmcXF5SEoqREpKMZKTixEVX4BZySsMBhIl6dpAKtyPhYmt8MxoRUjpSgn+x6CcNMAlvsVRVlxQZUHSwiG2Etfcdh+mucXBNqwAZ194Kd6f4YRHX5mIe59+AzlL/x/im7fj8dc/wbvTHPHoqx/D2i8dLsn1OPO8CfjYxlsydFx5090ILVsJj/QWXHLtzUKE3PnYy3j6ncl46q0vcfXN98AtpdHstRwNmBIWzNYQ1rDLvFtI9lZYL/KHh0eoZLgpLm5RA+3V0rfZD9n/RitpQdTW9sgsJX83AgICZNZ9vJRdsbFYccMN2FtYiP+uWYM1zz1HywlblSG07p13sH7iRGz44gv8d/fuIaoLGrA0aLtKS7Hkssuw9Pzzjei55FKETrfB/OBs2CR2Ym7aEszLXI05uZthXThSpfOjoN5pm9ytmDtAUszPWAG72Cq4+EfAxz8QwcHBYtylpqZKPAG6/NDo02TFxo0bRTFyIHXFaCEseB00WpnJhAFCNSFBlUtbW5tkO6FyhPfK7DfOzs6SwYIz8oSdnZ2ABi1BFSoH1gSXCb1Ng/W5L4NH8lg8Jo1iGsc0lhkHhJHvqVZpbGwU0orXs3z5ciPxYUp2sK21koVG+Ghp25O1sP3YX9lv9+zheGIF6urqhqgzSGgwCKivr68ag7rI89Zj4uHQsTMW2ak+4+AENw8fBEckiNQ9t7x9BKlR2bYWdUJq7LGQGhaMebSv+k6USez7JfXLEB6bJuSfzgZC8LvJ35zExEQhdy1kxZGXcUVa0DdVu4h4efmqH879ZgepxxocoJeWtuHxx5/DKaecgunT55utdzRRW7tYZuvNbTsaaGtbg9/+9neYMOFSs9vHG0yJCgNBYQhOaSAndguJoImJ3t7N6OzejKbOzahq24KSlq0oat6CwqbNgvyGjcitW4+s6jVIKV2mBvkJOMf/Npzte4sy4m/EWV434HavV+CqjIDA+ArE5bYjvWwZimtXo6ZxDVpa1wjhQZUD3TRIgvC8JEcMZMZudV0kMQYVGaYkhrn7I0wJi87e9bDKXzQkSOa5/hfALt4b8xNd8W7cpzgzkPEpfjWEiDgY/sf7F/i79xmY4H0pLvO5Enf7PIivfK3hFhCCQCNJkYX4+Dw1YC5Cenq5uMdooqSkpFUM5JycOgQrw35W7g7MHFBZ6FldzsLap7SJoiGsfDWoWqABTkNcFBdHkbggafHKp7Px8iezRBmh159xzgWikuC5zvjXBcjs+w/mBmbj0Vc/EmKA2y6++iape/9zb8MmIBPOiXW4/ZHn8f4MZyS17cI7X9vL9kl2IXjijc9kvy9s/fHmZFvjeY4meK2DhMU+SSu5sOzboQakgpUyImf5ZCuDx1v9eCchI6MS1dUG9yV+j9h/2I/M9a/RgrVrv1OG36BKj5kkxkvZpYycNS+8gHVvvYXvlRHa/9hjorpYftll+I8ylqm+WHn77fi2pcXoMkLigkYTf2+XzZ07hLAguq69FmHKaKKfflh4BEIjYxAUlQiv+BI4Z3TDLrcfi3LWYEF2v8Ia2Gb1Y/4A5mWtUVB/M1djPpHFv6tgq7AgaxUWpnTCMbIA7gGR8FHfiaDgEJl1pvsHiQoa1VRVMNsJYwfQDYQGNK/VlKwwjV0xGtQVNOqpmqDBT+Of103CJSEhQdwDHB0dZYBMQ1P30x8DGq+LFi3EIiEsSF7Y/uRjDQePo0kPTXi4u7uL8cxnUlxcbAx4aqrq0AQHZyb5fEiEUclDsobPx0JyHH5hH2abUQ3Ffr548WLpP0lJSUMIDb6TzGrCZ3So5z+c1HB190FQeDzi04uQU9Y2ktRoJamxBc3L9qBj9Q/HZMbbAguONthPmRGmcfEOVHesFzUF+3V6QT38giJhb893ZZD843vBd4jvEwlDkrN8/yzl6JRxRVrwR44zZbpztbf3mx2kHi9ERKQdF9KChucrr7yjfqS6zW4/GqCh+/LLb2PGDFuz28cDzBMVQ1N39vZtRWMnM2NsQ3HzVhQ0bUZu/Uak1W5CaOU2uJXtgW3pd5ivMK/kO8wt+V5gU/yd+GPPyN2JqWnr8WlsDyaGNOE9vyq851WOD3yq8UlwMybH9GF66loJMudSuAUhpRuQXNGPjKp+ZNWsQ17dehQ3rENN01q0tq4RNQZl+szWoRUZJCF43bz+AxEYXDYQFnvRu3gznEsDRign/uLzN5zpew5+9SOIit96/05cPi71uRI3+NyKD3y/gLO/v/pxiDZRUuQOISkKChqFoKis7EJNzWJJ+cogj3RJaVQ/LjSS81Ud95xVsCr6doT/vHX+DjikdcE3twthqq0GiYvvJcZFFomLpUfuLkLS4r6n38Ql19wMj7Rm4/p//utCOQ+X/zXhCjk3yYdXPreWddz297POleWZXkl48q0v8PbXduJScu3tD2JucA6cE2pk+2T7ULz2xRxZnuYaixc/miHLRw2qHUhY8Jo0YRHesAt25SMJC7bxrJhOzJvvpn7EI5WBVSDPiSoL9jf2MfavgxFjowUVFa3G3w0O8sfLIISkxVZ7e6z/4ANs9/IS0uJ/lfG87NJLhbBg6X/8cewrK5PfV7YLDWwa/1uUAbrsjjtGkBal779vJBEoa8/PzxfVA5fT09ORlJyMuPhERMbEIywqHsERsQgMj0FAWDR8w2LhFxKlEAl/hYDQSASFhiNYITw8QowvZgqjMcZjkaRgFhAaaJqo6OvrU9+tleq5rhMigC4NByMrToRxzDbUbjY05BnPgPdFY/Jg5ITdIqodneDt5YYAPy+EBPshLMQf4aH+iAgLMCA8AJHhgQZEBCIqMgjxsWFISYxAckIEEuLCEBcTgpioYESp7awjUPW5L48RTqhjhhEhfghVCArwgZ+vp5zb3c0FLs6OcHCwM04UHQ4M5MkiUXSQiKGag0oRxm+gkoN9hYrZ1tZWMby1isMc2cGZTT5fGul0WbEQHSML24P9nf2NhAaVO1TIlJSUiJTdNBgonwEl7sxuwn54MJUGMZzUcHH3QmBYHOLSCpFV3IyiuqEBQmkMlqvfhur29eKGwiCGnM3uXnfssjpYYAFJCQalbVqyCzWdm1DRslr6IzPxsH8W1i5Gan4tIuIz4OkTCDt7xyEkhQYzjPEd4XvDzEAk7y3fm6NfxhVpwcLBi+5k6emFIwanRxs0VpuaVqgf2X4ZoJtui43NGUJacPBOw1FD1z/QelNw1ry5eSU6OtaPMALy8urxq1/9WlwHuD9TDJpuZ/329nUSX4Oz8KbbeC59XhrfXMe/dD/gzD3/p/HB7Xr2Xu9Lg1bvyzpcx+319cvE3eFgxgr3aVAfDM7I8v+Kii4xelrUB2V43RMN3oc5ooL3yjZp7dqKiratKGzaguyGzQiu2gnHsn2YX/o95pR8bzYGwHDQ0GYsBgau+yZrG6akrJOMGJ9G9ODj0C58Et6Nz2OWYnLSGnydsRUz8nYbYjcMGOiMxM9zzS/5Fo4luxFUugmpFatFvVFYtwa1jaukj5LE4LPhdS9bNjTjB+/PlJTRzze4KhGn+p9mloQ4HJzqfRou9L5Ygmfe7/MorPwWwSswXOJRRESky3uSmFiAtLQyZGVVi5KCxi/7hCYpaAgzZgb7C5Ur7Md0jWFKTa5ncNLsvCbY520eQlhoWBfshmN6D3xzeyTDR1zDViS175Hgkhl9/zG4ixwBccF935xii5c/sYKVTyruevxlhJStFMP/r2ecLWlCWe/cCVdIfA2H2Ao88Nw7EifCM70V/77rUdnOTCeXXX8b3v3GQY557e0P4Nl3v5Jr5P8fWXvi+Q+/keVpbrFCcBzJdZuCx2EMDSEser5DcsdehDaYV1gQs1JWYbatt7iMMWNIbm7dQGabjUNUFgf7DowWUIXk4uImvxscrHNwPx4KSYttDg74Vhn8qx95REiL//ff/2L1Qw9hT0YG9ldXy/IPymhk0aQFlRbr1L7DCYveyy9HqjJCM9S+NIwoX6dBTpcGGqJ01WD2Ef5Ol5aWCuFAQ5XkA7N60OXBFCQ6uI11WJf7cN+amhpxUSBJwQHk0qVLxZglUUEygIYsr5HG7GghKyjt56wcDW+2CQ1GTVLoMYuGvb0dPD1chSggcUAigaRCanIUKkoz0NZYhOW91di4thVb13dg+6ZO7NzchV1burF7aw/2bOvF3u0G7NvRd1DoegT35TF2qGPtUMfctqFDHb8dm9V5+pc1oK+7Em1NRaitzEFJYSqyM+KQlBCBqAj1DSDpMUB4aLIjKNAHPt7ucHdzhpOjvag8ht/rwUDDWKs4NNHBNqPbCmOYkehhX6O6hv2L/cCcuwoJDr7TVHKwP7APjPeiCQ2+G2wTvitUvfCd4rtLyfuBSA2STYciNYghxIa9ExycXMQwpBtKbEo+0gvqUFjTO0huNCpjckC5UdW2DnXdW8TYbFv5LbrW/q9Zo9SC8QsSXiS+SICxr7DPsO8YSImVqk8tR7Eak6QXNiA6MQe+gRFwcnYTYoKpSc2RExr8zvAbw77P94BkKn9TLN+OY1vGHWnBAYtm/j09mUXk2LiI0Nijke3pGa4+3m6wslqkjLBkMbR0neGkBQfGnEm2t/dR8DYa6DQQmc7SwcGwnkaaPgYNSp4nODgZ7u4h6r5clYGQKTOZ3M5I/bfffq+cZ/LkWepF80dKSolx/9bW1erYmZg1axGmTrVRL6m77EODlNtp+IWFpch5OdPNa/L0DMO7736KGTMWqAFit5Adfn7RUsfXN9p4bM5w+/hEyXoanEVFzXL+d975BLNn26v7z5Xr1/UJzvLzfngvCxa4Y948V/VByMEHH3yJ8867ULWB75D6JxLDyQpeO5UKfcrgr+vchpLWbchv2ozomm1wLNsviokfm5bPCGVoM1jdzML9kjLwm8xt+Cp1g5AUkxL75e+UlPX4OnMLpufswswCk9gN5o6nQCKD6QMdi3cisnQN0ipWIbt6DcrqV6NJfdjpUqIJjEEFxj7pp1wmKZNQV4Czg881S0YcCIx58Vevv2OC92USm+JZn1ex0M8TPoHMU58i7wBdPhiTgu4EeXl10nfKyzulT7G/mQb2JEnBaySBQpKQ7x6vj+ScDmDa1rZW/aj0IDm7CQsLt5tvj8J9sM9cAu/cPoSWrUJM/WYhE9K6vpV0niQufqrqgob+e9McJHYFCYbn3v8a37jFShyNG+55TFKvst6DL7wH35wuqU/3kICCXnxs7SkuIfpYXL8woliWv3IMxxuT5hvOoa7vkzne4hLC/RdFlog7Cs+n9/1JUPer3UF4LLZHQuseBNXtFkWQuba0ytgAK4dQZUT4CfmUnl4h3wo+BwOJaXBFOhkICw2S3HrAQgN5PJR96j53x8eLAbN59mxsnjXLsD4vD+s//BAbPv4YO9TATRv5NHJo4OxUBuDK554bQVrUPfuszJgXFhaq3zFl5Pb1ieFIY4igqwYNShqXnEmnKw5nfpl+lMSGOdCIYh3W5T7cl8fQQSLpWkCDlIEpTYkKkiumMStOBFnBc1INQAO6s7NTXCZofOt+pkGDnsoJqhsiwwOQmR6Lxtp8IQq2bugQQoJEhDnSYTSAhAevTwiPTV1CdmxZ347+5Q3oaitFbWU28nMSkRgfLqoOo6JDyA1/g5IjkEoOD3h5uoqaxFG1CV1ahrfVwUAjWcfrYDvT8GBsBxrbNMJJflGRwxgnpuSGJjgYP0QHaR3vM6m8d/ZfU1KD7xvfVZJEVDuZkhqUy9O/n9J5tjmJJnPPyByM5MYiezEo7R2d4e7ph8DQWEQn5SA1rxr5VV0D5MagekMTHMyMQgUHDVfK/Bl3o33ld5LpwZyxa8HoBZURdC9qXb5PPcud8kz5bKnSoVqHz5zPX1QSNX1CfMUm5yMoLE76DPuOgZSwlxTB5vqbKdhPSYIyDgyDN2uSgsQdvwfs+/wNsZTjU8YdacEP7fFwEaHrx5///FeJW0EDfOLEyfjDH/6Ip59+2VhnOGlBooAR9v/1r/NlfVKSIVgoB/ckMi64YIKsDw9PMx6DEvkzzzwHkybNFGP/7bc/xq9//RtoYuKFF97A+edfJPvdfvs9ePTRZ7BggYdso3H3xRfT8M9/no2XXnoLM2cuwB133IfTT/+LMhrzpQ5nrkm4/OUvf8OECZepZTvcd98juPbaG+SYX301WwI/fvjhl/if//kFLrroEuO1FRY2Cbnxs5/9TPYhWXH//Y/iwQefwGWXXSXtQaNU1ycYOPHUU0/D88+/hsDAeLz66rtyP7yPTz75Gh4eYUPqnwiYkhU6zScN+M4eKiq2Ia9pK7wr92Be6eGpKA4LJC2ottDERd4eTM/eKaqLrzO3yt9p2TtEYSGEReF3Q2I3HA5IYswr+RbeJZuRUr4SudWrUFPH9IWrRYGhg3oSJAkyGipwZfh1ZokJczjN83Rc6HExrvC6Bm96TYSjrx/8g2KFDCMpl5CQj9TUUqOagnFfmAmFs/N092hrM1WCGNxZNEmxStQgJFSGKkI0mUQSj0qSsrIORGe1YmHBNrNtMFu18cLsfnjkLkVw8XJE1qxHQtMOURVQXWBUXfxI8oL7JTTvEGT0/VeQ0LJTlBRcx4wirJfYutu4nNH7A+KatglxYqqW4LUw3oauw6CcXCZRYTyHWp/R88PA+X4iaWFCVgyqK/Yhsmk3vKt3H7BvW6Wvg5VrvMSxCAyMU9+iYvlGsB+xD/F56Gd0MpEWXV3rjANtxhHgYGWsF6oq/p8y7mVZ/dUuIeqHVJb/n0mOef6lAcOYA5sbGrDswguHEBaLJ0xAlmq/zMxMUUNQAUGigoQCjUDOchNUQTBAI9fTQCTpQAUCU8QRNIwI/T+3sQ7rch/GPuAxeCxNUlD6fiiiQt/H8Si8Fs7wk7ShnJixHmiYGQfKyhg3JSlo0C/rrcb2jR3K+O8xSwyMFWhFB4kYKkSoFNm8rk0Ijr7OCjTXF4iaJC8nQVxajCoOo+vKoNsK3WMCA7xFzeHm6izuKozXodv5YNAqDlNXFRrcNFio7iHpZuqiQmJDqzbYB9nv2NfGa+H7pEkNEjz8LvBdJcHI959KKSphhhMbWrFBtyAai8PfjYNByI2B1K5Ub2iCw8nFXRQcJDki4tIlmGh6fh3yKjoliOKByY7VqGpfh9quzWjo2y7pYKnqYKBRUXZY4nL8ZFAF0aHake3JOCckkxjzpEbZHAzqKiTEgCpCSAg+H/Wc6FaUXdKCpKxyRCZkITAsVp6to5Oreled5LmT4DrcPsN3nK4dmpRgH2RfZJ9k36RSi8o9vut8r9mX2a8t5cSUcUdasJi6iKSm5pkdoB4Jli3bhUsuuRz/+td5ssx1HKDTcL/rrgeM9YaTFhoffTRlCGmhMWWK1QjSgrEqzjvvAjEC+D8NgjvvvF8IDF1n4sRJsh/dRPQ6gukxf/GLXwjRsWaNYX8aFn/606m45pobxODTdR9++ClV95d47rnX1Dn2ilF5xx33IiAgTrZz/1NPPX0IaUHwGL/+9a/xm9/8Rv0QJUg9GirM8EAy48UX3xhSn+chSaGVImy/P/zhT7jnnofkWGxH0/rHE+bIChrOjV0GVUVy3TbYlX7704gKZSxb5e+BVc42WGVuUFg/BLOJDGUMZqxVRuEazErrx6zUfsxMWYUZKSsxM3WVwmrMTFPbWI/HyNkOK0bj/xHEhQYJDLvi3YgqWoH0CvWDUb1MDdIMbk5UOOQ01OCumPvNkhPm8HePM/C000uYqwZ+7l6hyphNUIOTDCEq0tJKkZNTIyRXeXmHqCmoJmJfpNuSIeaGgTAhScFMNasOQFLwGZnC8Lz2q312iSKDrlp0LYnOaMCi/K3qXs20jbr3uQXb4ZK7HH6FyxFe0Y+YBoPqIqVzvyEtqjLifwp5cVJgBFnxvaRcjW/dg+D63bCv2Ge+3RSsVP+zco5Sxr0X/PxixK2nuLhZ3MlINvH56feYz8fcezZawesNCYky/naMp4CchyraQOGAjmRBv5kAnK133YXEhAQUFBRI4EUaeyQZSCzQiOe+BJcJGjk0/AjGnCBY1xR6PcF63EcTFDyWKUlxookKFl4fZ+w5m8+BsunAmq4Rfj4e4j6RmhQ1bkiKI4WoOBR2be3Gzi0Dbiuq3ei2QveYVUvq0NFSgqryLORkxiM+VhkmZlxVgoN84Kva38PdBU5ODhKUVD+bg4HKDZKZJDaoIKBkPCUlRdQGVB0Md0fRgV9J1LGfHu8+OJoK753vJd9RHVeD7zWJH35f6T7GeDfD42tocoOBQ2lsMrAr2/9wXFLMYZDsMLiqCNnh4AQnZ1e4e/vDPzgaYTGpiE0tFFVHTlkr8qu6UVK3FCUkPDQGiA8hPwZcWYQAkXgdA1DjGhrlDOrI7BNUCjT0qnHk4p1CilBBwMCPVBPQqCdBIljzX0HXmv8VwoToXvt/YvxTfXCkgU25f5c6Hs/Bc1OJ0rpiP1qW7xX3Cl4fiZv63q3qmjdL/Ifqjg1C6lS2rjGSDEYMqB4E4ooxSDywzaiCyC5tRWputcQ5iYjLkECuPv6hcPP0EVchPoNFdg5CQvH5HC4RQbAuCUcSXyTASISxzwwnJRj7qLq62khKsA/q343x/G6O1jIuSQvOyOgZMzc3D/VDMjTGw5GCxhdJAqYzNV1PA40++Pr/A5EWVC+YIy1mz7YbQVq8+eZE/PGPf5KZ6ra2NbKO6ghNQhAHIi0+/fRrWc+ghqbrb775diEUaKDqdSQrWJfuHvyfhmKv+niZGh5nnHHWCNKCIAnyt7/9Q/bR62i0/Pa3v8X11988pC7JnjPOOHPIOipMqD4xXXe8YTB+DW4gdDugsqKxazsKW7YhsGo35pbSiDs8coAZFayyt8AqY70CiQiFtFWYFdeBWWFVmOWfAyu/TMz2z8bsgCxYB2bDJjAHc9RfYm5glvpL6HX8myN1COvAXFgHF8I6qgGzk3oxO3MtrLM2YLZgI6xyt2E2XUfMXNsI0IAv/lYZ72uRVLIUBWU9SCsrxxNxz5slJ8zC6xTc5Hw7vna0EXep4OBEcQ2iSojkF9UPjDlBw3YwrobB5YPtTMKBZNzhkBTDnxvXsR73pcFMAoSECLOLxKTVwi5vE6wZ5NTMvVsXfw+73HXwKFiJoNKViKxeBwbpTGrdPYK8oNvISU1gkKhQ4H0MISu6vkVi6x6ENeyBl+rnNgfq4yTdklfAyjF8gLCIFbVWQUGTuPPQjYfPks+Bz8/cszoZUFXVaRwUcSBtKYaijQ8O+LYrg2PZXXeNIC0Kp0yRaOpMicnZVsaX0IabKaGgCQYOGgnO1GpwMGkK0226vt5fH284SXEiBqIkVWi0csKEM/Z68M2/DFxJRQUDYPZ2lov7BA1xcwa6BUcHbF8dm0MTHOtWNqKnoxz11bkozEtGsqg4BgKQmhAcVG8w4Ki7uwscHewPaUhxu6k7ClVaNJoYj4XxW6i2Ga7WoCJBu6BYyiApyveb7z2/MyQpSf4w6wzj19Bljy4ppuqN4SQHZ9KptKZihkQH30XaAod6hgeHIdMO4x8I8bFwkUHpsch+kACxdxIDnKoPR2dXuHp4w9M3CH5BERKcNDQ6BVEJ2UKKJGWVIS2/VoKVZpe2iGHPbCxMM0tlSF5lp7jCFFR1o6C6V4z/otrFEpuhWP3WUjliFmrcc0Co7dy/oKoHOeo8mcVN6hrqkJxdiYSMEokvEpWQhbDYNARHJiIgNEbiP3j5BcPdyw8ubp5wJMmg7s/eceBe1T2LG4a9g7QFCaFB4uGntTf35XtEctDT01PSLZO4MkdGMNgzFVF8x+juRSKMfcZCSpzcZVySFuyoTIOmX4S6up4Rg9MjAdUHNPCnTZtrdrvG0SAtaPzR1eKPfzwVX345Q/6nv7/pfgciLR566AlZ7+ISpF74DCNIJHB9Tk6tsa4mLSjZNz2GKQ5GWlx++dUj1v/1r38fUf+22+4W95BBpcVO/OMf/8TNN98xpN7xwqDRawiwSQO6o8egrCBZcUAjzhQ06HK3D5AUazErsQ8zg4sxyzdjgJzIxJyATMwLzsH80HwsCC+SeAT20eUSkNExrgpO8dWSIcIlsVahbgBcNoDbWIdgffuYCthFl8lxFoQXYn5YIeaFFsAmhGRGLazTVsE6ayNmZ2/C7PxdQk6YvXYNtd26aD+8clZgcpInzvWbgH/6nYU/+/wVv/f5A37p/UvzhMUAfub1M1zreaO6V3vJ/pGZWYmSkjZJxTvofmIgKoarKX4MSTEc+vkZCKd9Yjh3dWniohnxqZVwyunHnMI9B7xvG3Xfjnlr4FnUj+CyVYiqWW9CXuwzBOvs/eHkIzCGERUEXUnoBkJShq4qYY274Vu9C/MkdoX5PmKVvxtWcd2YvcBHYs7w+0elFwmLurqlQqKy3fk89bM8nGc3GsF7cFSDMv5ucPDEQZClDKZUZHtsUAPF4YRF3+WXIyUoSIJpcvaUcScYy4H1uZ85YsEUmnw4EMztY4oTVaisoDFK/2fOBOsxB2eEA/29JUMHg2ZSUWEhKkYfzLmqbOhvQV9nJWqrcpCTmYDY6OBBYkNUG/4ICvAWMsrFhb7zh1ZsmKo1qMDh+JTvChVJy5YtG6LUINlH9ykaXyeyb4/Got93GqT8rtA4JSnKtiJxyG8O25CuaXTvYeBeuqmQgDZHdmjCg2QHFTRUdZB0otHMZ8XfAD67IyM9jgfU9QmxYh7m9zl2YJtpZRLbk0oIkkmMecK+rwkIUxKCz4cpnklEkPxlPCO+GySu+Gz5jEny8bmTtLa8G2OzjEvSgoWRpPULFBWVOGJweiRwdw8VA3/OHEez2zWOBmnBwT+Pc/fdD+LSS68QV4qPP54is5u6zoFIC8av4HoSBXRdGQ76oeu6mrRoaRlKiJjiYKTF1Vf/e8R6qi+G13dxCRClxcKFHuqHJE8yD5x55tkSwNO03vEA29Zg7BrUFYuXbEdVx3Yk1W+XzB/mDDgjSFRkb8EskhSpKzEzvBozfTNh5ZsGG38SFLlYEF4Au+hSISZIOrgm18M9rRmeGa3wye6QFJxMaxmQ34uAwsUILFwiARsFxcsGof4PJNR21vNX9bkfAzp6Z7XL8dxTm+T4Tuo8PN+iqBLYhhdjXngpbOLbYJO1zkBi5O1Q12/GOFXGuwQCzd+Lj9Na8Hl0AN4NtcYrAe/iYb+ncLPPnbjS51oJrHm5z9WSCYRpSy/xuULhclzoezH+5Xc+7g16GEEpCeKiUVe3TFxNSFYcLFMJn4OGued0KHA/TVzw+IPExXIUF7ciJa0MHuk9sM07gLvIwP3PKdoHp/x+eBWvRVBZPyKr1yO2cYsxNgVVCVQn0PA3S2CcaBJj4BrE9WMEUWFQVTBeRlzrboQ07IZfzU7Vz5kZ5MCEFuNXzAqtxpx5bnB25qAjUeLSkBAaa4SFRmxsivG3g/Lv8V44OCRxwAEjXUNWff75CNKi4cknJQBncXGxDDYpkWdgTBoUNDC4/8GKNkYOhNFWeD80Ljm4pmGj+wsH6wwoGR8TihWLa7Hb4vpx0kPcU9RzpGsKySeqNlYvq5MsKqXFqUhNihxIGWuIuUG1RmiwH/z9PMUVhQFFFxzEcKRRSaUGYztQqUHjjoolStqHqzQYGJCGOY04Gm6WcnhFf0e0wotkB79nWtFBtwG2LWfsmeGooqJClB0klpi6WZMemvgwJT/MkSBa+cHAu1QKkBChaoDGOxUEVIGQvCJo2BNUhWiwHxA0/DXYPwh+bwiSYBrsPwS/PxokTgkus47uXzwXXSpIJjATDK/Jz89P+h1dLHi9JHE0uaCh708TDcOhiQcqINh/6SbI7yOJOZJI7L9aYaTd/DQJoVURo/FbbynHt4xb0oIfIr6g/FGws7MXo8ncAPWngBkQaOBT+WBuu8aBSIuvv54j6+lOYrqeyg2uNyUtaAgwxgQVAFFRWUI20O3is8++MdY5EGnx2GPPyvqKis4hhqEpdF1NWpi6jAzH0SAtaODwHhiXg0FMH3zwMcyZ4ySGrGm9Yw3eu8HINcSuaOvZjoKW7XAq36+MtYMYcQV7MStjvaR7nBFUhJk+qZjtmyZuHLZh+UJSUA1BAsEjvUXICSEmChcjqHg5QspWIayiHxGVa8UojqrZgJi6jZLJgmC2CUHj1kHw//otA3U2SX3uR3eG8Mo1ksIzpHSlEBw8j19et5AZHmnNch1UZthFlQqJMSe2CTbZG2CdswWzi0xSWRpJi32Ylr0TX6Wux8zodrgE58DXP1794MYhIDAO/gp+QdHwDY6CV3AEPIPD4KF+4OzDvWEd7YCv4qyxIN1D3KTa2jgI2CJ992CKCnPP58eCxzElLqjmIHHRSN/TsnakZ1QgKLEai3LWw6bgAKoLQrWDdfG3sCvYCM+iNfArYxuvQ3TdpoGgmbuRogx/I4FhqsAwITGOOZFhQlAMJyl4PbwuTVTwehPUdUc07UZw3U54VO7C3IMoKwhRVyQthZVLrBr4eEhGIX6XmCWIaiwSQmzfsUZYELW1PUaDggOw8V44kOSgkoPMrWrguey660aQFrnW1hLQjGnhOPBnAE36rtM4GGuzYhx00z+aRoiexWRgzZAgXyTFh2PN8oYDZvqgAayNYAsODt1W5tpxtIHXqTOnMNvLxjWtWNxdKa4oedkJiIsOGaLWIKnBTCkMHmpnNzLlrSlodNJI5XiWRiYNaCoI6II13O2Es9J87yyExtEv2qgmYcnvIaHVHqYkCEGjnMQSAwbzmZAQoWqA30aSulSBkJTi95IECV3qGCOFz5Ug+UvShKDxT+jU0ARdj6ggYdBjgnEbSBSQYGG8FYIkMt1puI51uT8VYTwfXSpIJjAzE2OL0AWHfYiBk3m9JHFIUNOO0gQDYRpLSEOTDvo7P5a+9ZZy/Mu4JS1Y+OLqD39x8VCD/kjA1Iy/+tWv8cADj6mP0WAcB4K+3Xo5JiZbiIBp0+YNqcM0n1zPQHam6zVxYEpaJCQUigxb/6+DgP7737cY133yyVTZLzu72riOIFnC9YwzYLqeML1O4tlnX5W6hyItLrzw4hHrGXPj6quvH7GepMXw+owHwvgVLS39auC3VQiD423o8HyasKBxy9gVsXW7DuoKYpW7A7PS12JmXBdm+GZglneqpKlcEFYA+5gyOCfWwiOtSUgK/4I+IRBCy1cLOSHERL0yehu3Ir55u8zcM+hjUtsemcHn7Hdy5z5BStf+A0LqsC6h9uP+PE5Cyw7EK4M6roHExiZxb4ioXCNpPYOKlokygyQG1RhUfNhFl8M2uhpzMlbBOmcTZhcYgnkKaVFgSLnKjCWTk9dhUsxSLAgugHdgiqTGjY7OFoUM46QwawSzgdCQzcysUD+mdeo9a1E/xr3iEtLdbQjMONyoPVbPm8fVxIWOccHYGXSnYjpOBgONVe+Ta2onFuRshPUh4n4w5sX8ol1wLVwH75L1CChX7Vq13vAsB7J+8DmIC8kQEsNEiTFAZGhokoFuG5Ix5BCQegP7mB7HlKDg+TRJQVcWXg+vK0FdX2TjLgTX74Jf9Q7Yle0zBJFVz9rc/QpUm1ilrIIV1RXzGfzMTxlnnGHKke8LUzoz08uBnq2553KygfekXUQ4Q8WB23guHKRzcMpB+LqYmBGERffVVyMpKkoC6tH3nEYUA3BysMvB7KFUFidL4b3QMOTsK2c19diC8Q8YWHPdqqYDGtmaqNi9tVuwa0uXgLP3FgyFbhvdVprAMNeuJwsMz79X3FAYY4OkBuObVJZlIi0l2pAGVsfVCPFDgL+XqDSYDcXWdiiJYQrOpPMbxZl4zt5zRpzphk0JDbpL0N+fyie+x5ZiKZZiKaO1jGvSgsymngkJCAiVgbW5QeqPBY9D1wtmwYiISBeDiEYaB/Xz5rkY61FOTSLAkL1j8NyJiYWS1ePll99BVZXBwKPhd+21N0p9R8dBV4mbbrod7733ufrxMQQTZWyA66+/SQgOXYdKBe7n4hI4xCikNJ6uF7feepekmaRUv7l5pbiluLkFG/en8U7lA4/BwIl6vSlo/J122p/FtYOz53o9sz8wcwjTrtKIMd2HpMU//3mWzMbqdcwwctZZ56h2S0NUVKaAQUaZhcC03rEC28aUsKjt3I7Ag6V3LNwnZMV0ZcTN8EqBlW8q5gWpQWtkMZwSqkXN4JvTKa4boWUrlVG7BtF1G0UhEd+8w2DYkpyQ2fn9yrj9TgxLbeAKaHQOgKkuDwTTenpfbajSaObxhdAYIDNIkFClEV27Qa6LaozAgsVCrJDAcIyvwsLocsxN6YNNzmZYFX2LWYXfSkrV6Tm78E3mVnyVugGTE/sxP7IWgRE5QlhkZFSIqocEBWfdSeLxHaip6UV9/TIhvhgQk9lADAE2j182CZ6D59LEhSGryBZRfTC+RmFhM1JTSxASWwiHjOWYn71RGfGHClpK9cX3WFC0E65F6+Fduh5+FZsQUrUBUbXqWas2jm/ajsSWnUIkUdnAmBFUOQx/1gZCw0BqDCE2zMJQR+8z4pkLQbFfzsfzkqSIbtqF0IZdCKrdCd+qHbAv2ztAxh2EqCDo7pS6GrNjOmFjH4RFdl5CdjJdLckpEqcMpspny/YkeWqqnjkez/Z4IiZmkPDu7Owc+EUZf4WzZpxB4wwbjZ5V7703grSoevVV1UdSZIaQbcVZRR1kcKyoLDhjSlchyqp1v2AGCroELO6qPKhRzW2Mm0BD3JD5oh1b17dhy7pWbF7bgk0WDMFm1S5b1rdKGzHOBA39sUJeHAi8Lyo1eL9b1H0v76sRlUZOVjxiogZSvg6oNOh+xHgazqr/HSy9q6lCg7J/zrbT9YHjYhIa2t3EEj/DUizFUkZLGdekBWdGyD7zA07yoqtrvdkB6k8BSQYGjzznnPPwzDOviKsI03m+9NLbMoBPT68Q94c//ek0XHXV9eIHziCE3JfuHg8++IQEqnz++dcxZcpsdYyXMWvWQqn/5JMvGl096AbCIJfe3pFi3NvauuGWW+5QxuOga0lWVhUuvtigvggPTzcSD7yOuXNdRAVxww23YPJkK7nOe+99WM7FOrwmKkLOPPMcOffnn08To5QKCH38ysou9cMXINuZ9tTVNVgMGM6oz53rLOv//Oe/SIC+jo51xv2YFeS0004XRQml5FwXH1+A3//+9zjrrH/h/PMvxHnnXYi///2fQnDwHvW+xwLaoNWERV3nNnhXHSC9Y/EPmJW5ETPjuzHdKxVWPikSp4JuFi5JdfDKbBMFA4mAiOq14rpBksAw+24wWklQGA1WGp7KCDUapMNnzk2gZ+FNYa6eEQPHNBIb2rBV59ez7rwuqgNi6jYJgRFcsgL+eT3wzGiBc2INFsXWYG7mGszO2WokLmbk7cb07J34Jmsbvs7YgoWJXQiPL5b+oRUVzAhC0q2tbY0QWFTwMIYFCQv2IdP4FcfLsNXP2UBcMF4JU9duk/gLTIlKdykGoY1PyEdAVAHsMlZgPl1mTN1lDgRxH/kec4q/hX3xVniUrIdP2Ub4VWxGUNVmhNdsRrS4+WxV7U1VDYkrkhm7hUwSQkNIjX0CEk0Hgq6j9zGoa3YPEFI7Ed24E+ENBiVFYM0O+Fdth0s5g2rqtLyHICoUrNSzFrIivgfWDqFYuMhLGWYhQi4ybXF2do2kqeVzZvvxe3GinuvxRHX1YBYRym7Ha6Ehw99Rqia29vePcA1ZcsEFyFSGESXKOq0c/ZapyqBsmCqLk90YoqsLXV90ukWOJWg4MgMFDWpzRqiGYYbdEOixdk0dClZVIm95GXKWlqhvdjEy+9T3tLfIggFkEqpNspeUoHt5DTb2Nwt5QbKHRv1YJS0OBiE0ttL1pFNcT/qXN6C1sQhF+cmIY3pXqjTCB91OfLzdhdDQE3bDYarOYJYNug/U1NSIi4AmM6go0oF0x4pSylIsxVJGfxnXpAULfbj0xzolJc/sAPWngAN1ziozKCZjNDz22DPqx8BdjLX+/v1q/Vf48MNJRnz00RSZ6dX70wBgnfvvf1SIC0rrOTut68+YYSv1OFO8cKGnHP/RR5/G++9/LrPapoYCl8PC0qQOXVZsbByM22hUMJPDyy+/Ldf5wgtvCEmhY0gwmN7EiVOGXOvHH0+V69PH8PAIVesnm9SZLAQFyQjT/SZOnCz3ofcjGaPX08iltPyBBx7HU0+9iLlzneDg4KN+PL3x6adTcfbZ5+Kcc86V69X7H23w2NqIberaBt+qveYNufzdmJmyCtP9cjDLK1niVTBLh2tSHbwz20VVwTgS0bUbjXEOqHAwugiYEhQm5II5MsIsVN3hMQzM1jMD0/MZiQwhMb5ThrAhEGNiyy5RgtBtJbR8JQIK+uCV2QrnhFrYJrTAJnsjrAr2DJAX+yU454y8PZiZuxuOqX2ITylDQUGjcead/bavb4v0fZJB7LNaYXGiDFuej+cleA2rBuJckFBpa1uj+v0SCRbKdyM2Lhf+kXmwT1sC28y1sMnfOaJPHBBCYvwAm+LvML94DxxJZJRuEiLDt2Iz/Ku2IKBqK4JqtiGkZivC67Yisn6bIJpo2CYER6z6GyPYrtYZEFG/HWH1OxBSvxMhdTtFPRFYs10dcxt8KrfBtXwnFpbuw5yS72GtcDgkhYZVrrrH5OWYHdMOG8cwLFTvIdVXAQHMl58t6WqZNpbfLD5jKq2Gx684Ec/1eGHZsu1YtMiQNpuB02i4j8dCg4XkA0mI9cpwNyUsCLqGJMbGir80faQpR9e58E921xBeO6X1DEqnxxBubs6IiQ4Rw/FwDGjjDPrGDrzcHo+rm0JwVUOwQhCuqA/EFXWBuLzWAg22B9vlSoXglgys6KvCulUNRuJiLKstfgrYFgz2Km4nGzqwob8ZHS0lQmjEmsTRCAs1pHF1dXFS40kD+TYcJDno9qRdTRjPh3EWGPPA1NWEJB7jHYzXb6KlWIqlHLsy7kkLssU6ureLi5v68O4yO0g9EnDg/lMH74e77+HUO1SdtWuPHSFwOHj33c9EVUGlychtn+I3v/mtqCCGbzsaYLvQ2KIx3dW7DWE1u5XxNtLIs8rZhhlRTZjukQhrvzTYhhVIYE2vjFYEaLKibpOoKjjzzRlxTVQciqTQBAQDaM4PyZOAnKbEBF0BqOSgywmDZ/rl98p67htcstyo9KA7AtczCCfXsT7JCV3XFCMIDHWd6QNuBZz5J+lC8iW0fBX88/vgmd4Ch7hqzM1YhdkMxlj0vWBW0XcGFH4L99ROpKaVg9lnGC+ip4fxDXZI2/L5abLClLA4VN89FtDn1cSFJqyouiDRwmunWoSZMKiMYjrhwLB0OMc3YkHWWszLWg9rxvsY1kcOC5rMKPkec0q+w7ySfVhQvAf2JTvhXLodLqXb4K7gUbYFXuUGeJRvVdgO1zK1vWwHHEp3YVHpHswv3Y+56hg81iA5oaCOT7cOAwb+N3ctA2AQWaoqrJOWwTqkHPMW+cLO3kdISSorSFakqefKuDPV1T3iSkaFFNUVTFE73B3kRDzT4wXem79/sHFAv3nz5oFflPFTqJCg4U43Dxopq6dOHUFa1L7wAkxdQxjIjXVPdtcQXj8zN5i6g9Doqy7PEhLCnAFpDlplQZeH6xpDcEqNpwWHifmVMWhvysOy3gqsX9WojPJ2cROxkBaHB02YkezZvK4NfZ0VKC9JR2J8+GAMjVB/BAZ4w93d5aABQUlmcBzNzBPMiEGSku5SpmQGv5FUZFncTCzFUizlp5ZxT1rwA0rGWH98y8pazA5SLTj2eO65V3HuuRcY3WQ0+P+jjz6D66+/+ZgYQtpwpUHN2eLspu1mY1iQsJgeXIYZHomYE5gJu6gyuKU0SvYPGvU07hOadwhZQVUFFQymiorhhIEmIyKq1gohwRgEDNr52Xw//O4Pf5S/ug5BouKya2/FxNnuePLtL3HXE68IQcF9Z3gk4A9/Og1X3HCnZCVhfe5/1vkX483JtnJs02NpDL+mIQSGun5RX6j7IXkRVbsBIWUrJJWqa3IDbNOWKKN9jxjDViawLtyPoMQqcR2oru4TlyBD/ApDOlO2tcZoMG718ydodFMtwJgM7HdUFNE4N5AXLaK8oOtVaHg6vEMzYZ/YCdvMNZibuQ7W+btG9JnjDhITjD9hQiIJ1DLXGQmMgfpWeeqaU/thnbwM1pGNmOMYhgV2PmrwGQAfH+anTxY3ELr8FBUZyAq60DB2Tl/fVlGnsL00WaGfqbl2HmvIzBxU6dXV1Q38ooz9wt9MgqSDdg3ZtnEjlt911wjSIm/27CGuITqn/snsGsJ4HAwoSgk9nz1noJkZhIETf4zBLLPgysjevqkDG1Y34toGC2nxYzA9PwiVJUnoainA6qU1yvBuEQLIorY4Mki/VG1oyHTSjhWLa1BblYO01GhEmbiaBKs+7+XpBkeHwZS+w6HjZjB1J9NdMsWlqZsJ0wLzfeK3xFIsxVIs5VBl3JMWLPyIav8+Q0DOoRk/LDg+8PWNkoCddHdhNoK4uFyZ3bWz88J1190kM77m9jtS0Mii0cVZ9uaurbArGxm7gNlBpgeXYaZnIuYGZcMhtgKeGW0ILFoqygga9Untu8XIN5AVg6oKTQgMJwyYLWRhRBG+XBgkyoa4pq144Pl3MNk+FKf99R/4bJ6vsS6JBBIS735jL/9n9P0X5158FSbZhRjrnDvhSrz+5VxZZmyKVz6zVttDzZ77QBhCXiiYkhdJrbvFbYQZT5g6lQqOBRnK2C1iGtih7bUgewNiEgplVp5pRRmckcFi2c6aqNAw90yON/S1aOKC5IqBvNipjK2tYqSTvKDLS0lJm8S8YABKxpEJCkmBZ3AG7OOaYJuxGvMy+mGTtdFA6Axrl2MKkkYDRAVT087K2QHr1A2S7UXcd7gud6cEjp1NNYWCTVg15jlHYKG9L5yc/OHlFS6qiujoTMkAw4wqDNhL0ob3P0hWGJQzw118RsvzPB5oaVlhHJxzQD7WCwkGEg00MAgSD1QcMIXihupqLLvggiGERe9llyE5LGxMZQ1hUELej45fwdnn6MggrF/VbNYAPBg0aUGFwJrldbimPsiscW6BeXyR6om8zAg01WSK2mJjf5PFReQYg+2qXU3WrGhES0MBcrPU70VksNHVJDTED77eHgeMm8F1OmZGYGCgpOikCosBQPmNYLwMficY3NdSLMVSLMW0WEgLVTiAYsAh/UFtbz9wWk8Ljh1IFrm6BklciyeeeB5PPvkCHnvsWVlOSSlRBtGxcV+hwUWVBdUACXUj4xVYFe7HNGYH8YjH3MBsOMRVwiurXYJsMhMIs0KQdKAbiCgrDkFWMBAn3Ti+cY3F3U++Cmv/DGNdBlHk39P/dsYQ0oLZJ37+8/+BQ0y5cd2DL7yH2x5+zvj/eRdfhTcmzZdgjB/beOGDma5m418cDvT1mJIXvD8Gfkxo3inxLpi21TOzDbZZq4fM3gvU/55xNZLylLFKGISTKha6ELC9zT2H0YCDkxfbxB2CMRzq65fKfZGUYaDbpKRCyXQTHJIM74BEOIfkYVF8K2wzVmFe+mrMSSeRsQnWVDZQ7WDaVkcDmrBgStq8PbCN6IafbSKCZwbh64g2TItsx4yYDliF1sDGPQG2dn6wd/CV983HJwrBwYnq+jPkPqgmKSxslPtjbA8GUjUE2TQoK8Y7WaHBNrCz066FLmN6tlATFt+tWoUf9u4VsoJxKaiaoCG/WhkhpoQF0fjww6o/JaGoqAhtbW2qv/RLhhHux7Y62VQWzBDCgJvaEHNxcURacpQYyuYMvEOBBiDl+YzHQKXA1XWBIwzzP+Q74dQcR5yW64TT85xxer4LTi8YR+D95jvjV+XuI9rmw1gnpCYGoLosBX2dJaJW4bOwuIgcf+i+zNgsG/tb0NlaiuKClCFxM4KDfCRN66JFC40EhinoYuLg4AAPDw/5btTX16sxw1KjKoOxMkiQnoxkp6VYiqUcnWIhLQZKVVWV8eOZkJBpdpBqwfEB3QgYV4DBG2noHkvlC40tGl9UWbR3bcai0pEqi5mJSzDNLQ42ARlwiKkQwoLpS5kRhAQBXUGYcnK4G4g5MoCxJ6iOuO/Zt/CFbYDEvDBXbzhpQZcMppwNyO8zrntx4nRcfNWNxv9JWrz8iRU+neuLS669Gamd3xq3/VQMIS/U/THmBVUXJFcYu4P345HZjjkFO0a02/ysdYhUhjyz1TQ0GNQWNHi1oWvueYwWaEN8OHnBIKIktxh4kkRMU9NKCUbJtK4kMLKzq0AFBlVC4eFpCAxKhLd/PNx8E+AYko+F0Q2wTV2G+emrMDfNgDkKNulrYJ25AdY5WzE7d7vCTswmwUG1BuNmFOzD7Hy1zHW5qq1ZJ3sLZmdswGxm90heBivVT61jOuHmkovMVyehb8LF6Lj8aiz4fBZmznaQTEH29vRPDpEguWFhalAZmy2Zi0i8kKjgffB+eF+8P94n75f3zfu3kBVDERg4GISRASbHYtGEBcn97TEx2J6YiF19fUJA8J4p8V723HMjSIvCSZMk8wCD9ZmmOuUM6slGWvC6mRJSExY0vkqL0pSB3GPWiDscGAy9LknfuXJJtVnS4mqfWbjVZTpu95iFu31scI//PNwbaIt7gxbg3uAxjiBb3BMwH3f7zcU/Mh1HtM3bEYsQH+2N8qIE9LQXY93KBnG1sZAWoweazKAyg8FpmaY1NSnS4GbCAKBUZfh4wMnRvIsJ3zedlpWxMoqLi4cE/tQpWX/44YeBN/X/s3cW4HGcV9tOm6b9+7VNOU2bFMLM2IaZyQHHcRxwbMdOHMd2wCiZRBYzMzMzMzNaLEtmxkDb73v+ec5q1ivt2rFjmZR5r+u5tBqeed/ZnXPPAa1pTWuTuWnQYrTxLQrd1fhFaWtrL+7Pph5SNU0u0eiiIUY4UlC/XTG2x3oMMDnhFx4pUtLUMjRf8kX4F/YhksCi+cAY7wp6NRwNVqhieMldDz+n/I2DT84Gk8tQ46EFc2cQWgQU9OmnTf1ohYSEqP8TWjC85J9PvoJf/vo3WBeYo593shJ4QXChiOfLHBkENuGV2yRExi69W972G167lflfw9M/Scr/lpV1yNt6Gr80es8VY1c1zGmkHwEYhwRycczQ+6K9fZseYNAzgdV7WHkkK6tGvBYIMaKjs8STgTkifH1j4OkdCVePSDi5h8PeNQzr3aNh5Z0Ky8B8WASVYF1IBdaGVWNtRB3WRDYpasaacOVzaBXWBJdhbWAx1vrlYp1HEiwcw2Bp6wfL9T7wnfsZmm64Cd2GxuNDj2G9ua14VXgr+6VHCEEFc44wyShLvFZUEFT0o6lpRM6H58Xz43kaJtjUYMVYJSZm6x+wmXhuMjYVWjAcZH9zM3pvuAHDixZhc04ONg4MoEc57+4bbxwDLLqvuAKxzs5SDrYkLw/tKSkYVpYl6DCEFucCuCCwoAu7CiycnRxQVZ5x0oaxHlpsakT/hjLcVGkMLe51XIKnrJfgeUczvOyxDq/62eC1QDu8HmyPN0IcJrVeD7LDawG2eMXbCn9LtTe6NjMCLRAe5ILC3Gi0N+VhpL9agxbniHQ5M1qxbaRRvDKyM2P1ISbBQcrvmI87nBzt9WFYhuJ9qFYxoYd0cnIy6uvr9eEl9Oji8zwhq9a0prXJ1TRoMdr48ESXNPWLMSenwuRDqqbJJRphfINM1/fwCmNvgaXxfVjiHCVVOBxiqySXAxNS0mDXAYvv9q4wVFr3f6UKxxOvvo+ZS2xhEZxnVCWEGg8tgoqHcN55P5LqHeq0F99dgFv/9Zj+f0KLh1+YjoTmg7jn0Rfwj2tuhn/+EchxslLP0RBc0OOCOT28sjqxKpcVV8ZeP7vgQvE6YF6EhoaN8tb+bA8RMSXT8EL1vjgCMOiZwLwPjY1DksuDXguEGIWFTcjNrVeMn0oBGQybiYvLE5gREZGG0NBkBAUlIiAgDn5+sfD1jYa3d5SIXhHGipR5XI4QhHko/PyiUTBjFnrG5RboVv6PnTVfgAVzxKSklEqJ4fKyduUY+6TEK4+ZnjBH86qgNFhhrLKyFv1vBnMdTMbG30ZCBr7NZDhI/1NPybjqvf9+dAcEoNXLa8x4o9puvhnx1tbIs7FBrWJ4dH7yCYY6O+WtKHNanCuJOOmOzkoIKrBgSdOKkvQJMYrHQIuuUpPQ4l8uK/Ccg5kY7lPDHPFWrAdmJPrgnRQ/vJvqP6n1TrIv3o73xrQoN/wjyzg85O2AdQgLdEZBThTaGnP10ELLaXFuin22V7kf6JXB5J9lxamIiQrSVzIJ9PeEu5sT1tvoEuCOFwEHvTJYgpphXITIKsjYvHmzfHedC5BUa1rT2tGbBi0MGr/cmO2YX4Bubl6gK7upB1VNk0OqEcp+ZllOjxJjo3tJUAWWuydIDgq31GYBDCxnmtTOkJBRD4vjgBXjxXUd46vx8IvTMX+tt4SXGM4fDy2SO75Wpv1Z8mqo0+586FlM+eBz/f9qTgt+9s7uxF/+fiUen/IeYhr26JeZCOnBhYSKMIHoLgQUDcA6Z5vR9bOIqBNjPDOzSox4JnGkQczrbqpPznaphrs6dihDgEHPBFYeofFPEMZxRQ+TpqZhsIQqIUFV1QZJbMmcEYQZBAg5OXWK0VstUCM9vVzABit2sNQqy4yOV3JysczncmlppfKXyyaHpaL1PuMqDi233IYIO28BJfQAoedLY3weWiQEROdZQVihVnhRYYXh+Zq6Hj90dXZu1xu0AYoBPxmbCi3UpJvD69cfGVvXXIOORx8dM9ao5jvuQN3DD2PDtddiwy23oNXfX35fWfaQxgMByNkeIsLjZD4OPbBwtEOpYkhNlEF8PNDifg9z8bB4I9QR7yT6YGZWCGYXRGJOcTQ+LImdxIrBnKIozMoNx3tpgbg8z93o2kwPWIfQQCfkZ0dq0GKSiv14pMJOPRprc5GeEoWwUD+9V4a3l5vkl1HvU0PxeZ4eGX5+fhJawjLFao4MfhdpyT61prVzq2nQwqDxAcpfebhSv/D4Fs3Ug6qmySEaYjTOaGgywaJD0UEjo3uJTw7MvVNgF10G75wuKWvKEqCsqMEcD98HWBgqueNb8eJgIk/+z4oiTHD5ywt/i9c+XCr7o3cG57358Uo89sq78MxsV46nHFfccLuAj/Se/5UcG3+65B94eupsgQhcftH6IPzm9xdhzgonKauq7vNkJR4X3bocF/Q2oddJaPlmOORtNrp+q6NbxRuARjVDJ+iJcK7ktfguGRr04wEGvUlUiKHLg7FHkS5PCyEBx1tLy2aBGfRAqa/XeWYQajDJJ68VvTQoViwZr8pKaoMspy7LcqSEIMU27ui6Yay7PlX28huIC0sTgFRS3IqON6ajpawD7e1b9dCCCWkNgYWp89Z0RLxGtrZ28nvBjPiT0SVZhRZ8wN+/fz82l5ej5+qrjcaXKTFMpHbePNTW1Cjjvxtbt24V8EEAcjZDC0KVwsJCvSHk4GCHkoLkCTWGjwdaPOC9GlN8rfFWjLsACxrzH1UlYX5tKubXpU1ipeLjmmTMK08QSHNlkZfRtZnuT2jhqEGLH6AOKP27Z3sbdm5uxoa2MhTlJSEqIkC8MggyvDxdle9l4zwZvJ/5PW1vby8Vn1iqWk32yaolWliJ1rR2djcNWoxrTBimPqj4+QUrD/CHTT6sajr3RYODBhqNNb4NtzMJLbKw2i9D4IBffh8ia3YKYKCnxPHksDhROSfW4XP7MNx2/5N4ZtpcWIcXCRjgvJiGvXj4hbfwoZkLXnpvET5c6SLAgqEay93jcceDT+PxKe/CNaVRlk9Tpr8xdxnufexFrAuauPwWlOptkdL5byS0HJKkpM4FW4yu36roNnh6hoN5LWhsM18CoQWv+2QyinkuhjKEGKZAhuqRwdw59MrQeWYQauwUsMFQDb7Fpwg5xkudpy7HaQzxYF6K4qIW1L8zx9iAvPwKZC1bp/RFIYqiMtF95VVodgmUaigEFzwG9g2PVYMWxy8/vyD9QzHDHyZbU6EFQQOhxZbNm9H7+ONG48uUGh9+GNmJiWIcbNiwQSoAcBtnM7TgMdG1XPW6tLe3laSbE20IHw+0eNBnDV4NsMXbCd6YlR+Bj6oS8VF1EmYXRmF2UTQ+LIvDgqZMLGzN+d76uCYFrwfZ4/3MEJPzj1dzy+MxPdbT5Lzv0pziGEzxtVG2kaCf9mlzlsCLuaVxuKrY2+jaaJ4WmgzFPmc5VoKMjpZiZGXEjnpk6Mqwurk6mqxccqywEiYZ1sJKtKa1s6dp0GJcY6ytm5ubfJkRXrAWv6kHVU3nvmiU0aBkGUcafC5F+4yM7qVBpeIJwUSY/gX9iKrdJdUzJsLLwpTiGvchpn7PGBmWLWUeiciaHYg2mM7jMFw+vuWAfnl6adATIqHloH7aRIn7J7whxOExORTuNLp+q0JrpKQmczgwJIIeBjTYJxu0GC8VXqhSIYYxyNDBDBVoMDxjgN4ZyrXqb9ddq/7aPvRv2Cmf+5o3oa+kFf3KeNXBjwOyDj8TOhA+0FujJKEAHff8y8iIbL39TiQ5+aNs/hfyf8v096VfGLrCvmFuDh7HZO+fiVRsbIr+AZhv7SZbU6GFmtNi27Zt6F2zxmhsjRfzWqRZW0uuj5qaGrk2XJfbOJuhBePfWcKW/WlpaYHcrPhTYgQfF7TwXSuJN2ck+Qio+Lg2RcInnrb6Ek9ZfiE5H6aGOStGfywWd+R9L3F7Vz1xPx76Yq7J+ccr5qG4f/Esk/O+S2/He+Gi66/EtEg3+X+RooVtOfikMQPzKhJwVYmP0bVhTgsNWhiL507xOjC0gtqnaoeqtkkgg/MZPU9VB3bprgGr++ze1ootGxtQV5WNBIPKJX6+HnB0sPvOsJKCggItrERrWjtLmgYtTLTKykr9l1dYWKz28D5JxX41hBZ+xcZG9/KYDqzxp6dFjZT3ZPjGqYQW55KOQItDUk3FqtA4J8hqvzy9p8UPCVqMF8/1aDIEGiLCiU++wEBAnFynfht3DNX1i/pdgzBg74UB9yAMNW7Ur8Pl6CVBcMGxXFnZjYp1Tthw7XVGxmT1U8+j6V8PyOfOW29Hbmqp5LhoaBgSr40fYv+cjLKzj5TLrq6uHv0VmTyNYEGtHsIkmjt37kR/fv4xQ0Q2XHklcmfNQmxsrMSSNzU1YXBwUEqkns2JOFndJCQkRN+fkWH+YgSZMg5PVscDLR7yWydeEExKOacoWjwPPm3KxD/nv4e7Zr2JT+rScNPrz+HJdZ/hs8588Up4M8wJUxXNr02RaW+GO+P99EBMi3TF64F2sg6nL2rPxbQIF5n20Jdzcf+nM2U6t891poY6KduLlWnvJvsJWJiR4C0VPT6uTDyyvXrd9l4PdpB5/PxOko98pngsnLawOUvZpqNUBlGPbYGyLs+P+7vmuUfkL6cvVsTjoxfJR8q+ri41vjYatBgrnjfFMVU9Uo2kwRIkDhQjob8IcX2FotjeAp16JoHUc1HEc4vvL0TbYCW2Dddj5+YmqU7Ca2E4HnQgox27trZgsKcKJQUp48JKXGC7/sTCSkZGRiTkTfPG0JrWTn3ToIWJxi+gI29aLJUH+a0mH1Y1nduiUUbjTA0PiS8dMTK6V2TswqqAHNjHVMA3dwMiqrchvuUQUrr+PcYD4ocmAhueP3N7MMdHcMUOmBV8M/b65X+DtU7h8PGJkqSRzLvA8BDNKB4rFV7o1bsXPddci77nX8Zw8wj6XnoNGwubMGDtir433sbGnBr0vfw6Bl0C9OsYgguGmDDko4RhIm++oxiR46qJUAYVRrLtvRTDu1ZAR0vLJvG2OBcrvJwpVVa26x9uMzIyRn9FJlcjYGCsN98w0rDfODiI7sceGzOuDFWtzAsPDERaWhoqKirkTeX40JCzDVrwuNh/al96erhg81C9kXE4UToxaOGHD4t10IKhE4QM9857WzHwC3DPh9Px8JK5+KyrAC+4rMIt017Aja88jeedzGXazW88jxteeQp3z5qGKx+7Dy+5rZHpMxJ8cO2zj+DGV5/BrdNfwv0LZ8r0l9zXyv+3z5iCh5TtLmjKwGNmn+DSu27BA5/NwVVPPoiHl87D3bOn4YpH/4WXPS10+5n6Aq59/jH5fO/ct3DDlKfFe4LLcxoroPA4uNwTaxfLtOfsV+Da5x7FHe++hr/fd6cOWijTCS4WtecJQGFIjAYtji3dWGLCylZsH2nArOZY/L7KE7+jKikP/HaSi+foXBGD1oZs9HaUYNNADXZsbsTe7a3HHBOczqolOySspAiZaTFHwkr8jx1Wsn79enh7ewuYZfgbIQZLrrJMMr/ftKY1rU1s06DFUVpOTo7+yykhIdPkw6qmc1s09mjo0YimMV1U0YfVBV+PM7y/xcroJliHF8Mjow3BZSOIbdiLpI5vftDeFuJlwbKnbV9JqIpDsbGXxYq07bC0dkdAQLxiDFSiurpXcjBMlkScp0ojffvQe9c9GFi8HANWLgIohgub0D/9fQz5RMoyg05+6J81/8g6o+CC4SaEcBzPNTW9KEzIR+uDj5g0LFWVzvhAPGGKCDnqBwV6aH10/Oro2KL/rQgLCxv9BZlcjXBBDREh1CeA6F692uR4arntNsRYWUkJcSazbG5uVsbl0FntZcFjqa+vF0OE/Ui38dbGQpNGzkTpZKHFXR+8gelxnmL0z8qLEGOfSTtfD7bHMzZLcNWTD8g0rvunG66W9Vg+9Mon7pfpN7/xAp53MsPi9jzc9vYremjxh2uvwMdVieLtcMVj/5LQFHo9/OxXv8CCxgzMzA7FhZdcLNtjVZNrnn1Et58Uf1z+0L3yeXqsB+aWxcmxvRZgJ9P+eN2Vclyv+q3HLy/6g4SB/OHqyyTshdv60/VXa9Die4jnynNmPoftylja2FuJ12pCja7XD0FfJHsgJyMMtRWp6G4vEnCxc0vTaMhIh8nrZ0oML6GnxuYhw7ASP4QEj4aVOBqHlfB/5sZgeDlD4jo7OyU3Bj3MmOBTgxha09rJNw1aHKUxbo0xbfwyYnb47u6dJh9YNZ27UqGF7u30Dqne4FpgHCKyInsf1kZUSJJMv4I+RFTvQHzzwQmrIPJ9xVwSXlkdJuedSqnAIrmTlUMOwLdiD8wKvjW6biv9i2Fv76MYcqnIy6sXg5gVNAYHz92Sp6dDAi1uvxPDFV3ofep59D7+lA5afLQYA2vsMELws2QNBj5bOWY9XlN1PDOpZ2PjMEpL21Hk6Iv22+4waWBSTXffi+jwNGRn16CqqkfyYhB8aN4wxycma1aNXQ8Pj9FfkMnVaNTzoZvA4dChQ9ixYwd6TYSIdCn/Z86fj6ioKHlwr62tlQd3NZeFWur0bIMWw8PD+t97aytLFOVPfOLN8TpZaHHrWy/h/kUzcf1LTyrGfZZAhuccVuIxswW4bcYruOyhewQAMNeEChMIHP72z9vl8xWP/FNCPvj54WUf6aHFry7+o/ylbp32onhSEDD8+pKLZRqrl1x03ZXy+d20AFz2oLqfAP1+uPwDi2fh3rlvK5/zZdr/+82FuPP9N3DXzKni8bGoLQe/vOj3ctycz7waGrQ4canQgkb2tpEG9G8ow5TqEP11+nGZC35W5DQp9VNFhmPio0h7JMT6oKQgDh3N+RjuqxJvCzVMxNT1Ox7xGqthJQPdDCtJRmREoISVBAV4wdXFUf8boEqFGC4uLkhNTVV+V9vlu5B5MRhix+9BrWlNayfWNGhxlMYHqqSkJP0XUEpKrskHVk3ntmjoscxjT89uKT+ZUtyD1flfGRngZmlbYBNbB4/0FgQVb5SyoqyaoQcX3yNUJKCwH97ZXfKZ+TI8MlqR2vVvKU8aVDwE58RayaFBWJLU/pV+uktSvSTsDCnbhCkffK5f3zu7UwBKWOUW5Ti5rf+M2d9EyBBYxLccRFD1XqwrNL5eKzJ2Y5WVF9zdQxEXl4eSkjY0N2+S/CFa6MGxNcKcFs++iE0j32BghSV6H3gYw2XtGIrJQv/7czEUnIT+d+dgY1LR2PVGIRyhEHNbsKQqQ3LyYrJR+/yUMcaloRgqEmPvLSE8hBxaiMiJa/16XdlTGr6TtfE3kSEiX331lbw5HGKIyLgqIlUvvoio8HAJCykvL0dHR4dyfTaJuzRDS7j+2QYsCFMCAgL0v/Wx0cHYfxIGzvHqZKAFgcDds9/EJw3p+PPN1+El1zXiDfHLP/1BSoW+6meDv99/pwAAVh75x+jnD7JDcemdN8tnQo/n7JZLlQ6GZ/xr/rsy/c+3XCelVQkV6K3BPBbMR/Griy8SmPBxdRL+cNVlsux7aYH4+7/ukM8zEn2Uz7r9sIrIX++5VQDH9DgdGOF26Y1BwML1uK2Lrr8Ks3LDpIIJj+uNYAdZVoMWxy9DaLF1uB59ylh6peoItPhFoROui7HBtYqui1uP6xPscGOiA25MdsRNKZTTOSZHOfYbEu1xbbztmDExL9wW8dHeKM6PRUfTxEELU+J1Z9lVJvmsqchETFSQJPkMDvSGu5uTvvqQKjUvhpOTE+Lj48FKhaonBkPuNE8MrWntu5sGLY7R+LDFmDV+4djbO4hha+qBVdO5Kxplqks9k0SWV3TBPW+zkRHOMJFVaSOwS2wS74aQsmFE1+0WcMGSpAQELAGacZxeF1zn3cWW+NQ6QP7/wjEC731ho2y7E2sCMjFruSOmzTfDFw7heGvBathGlcIqtADvKOu8/6UtlrvFS0WQl977VCp3zFnpjA+WOiC4dBjzVrljrrnbhFYMIQzh+fE8eewCLGr2warosPG1yvsaK3xyYWPjgcDARKSnl6OqqlvKcrLahfYG/9ga2XgYQ4Hxus/NIxjyDseIcu1GlLE6nFuLQbcg8bwYfw310KJ/P3qKmtEemoJ6z1DUfrQY7bffOca4HK/sDz5GbGwuCgoaJSHnhg3HHyLC+YbiOier8ds0td+zSa6uHvoH08lU559wQRUfqtW8FoQQ/H00DBFpu+ceJPv4yFvFoqIiCQsxTL5JL4uzDVjwWEpKSvSGhZenK7aNNJk0UiZa3xdaEDI8sWaxeEfQsH/F2xK3TX8Zn7Zk45qnH8Lsgkg8Y7NMclLQ44EAgeEfi9pylW3ESI4LAg5WJblvwfuS4POO917D46sWyvKPr1mkzLOVBJjMP8FlWcHjysfvx8KWLEm8ee3zjwrUmJ0fKfvmtqfHe0kuDE5/8IsP8byjmWxDEnx2FeBp6y/xxOpFUhr1mfVLZdrDSz+S5d5J8sX1Lz2hT9qpQYvjlxG06CS0CNZfpz/mOuFVXxvp7zcjnMW7ht4372cG44OcMMzKDT+n9EFOqHLsQXgnxQ9vxnmOGROfRDsiKc4XpYVx6JxAT4vjEfth7452bFe+PxpqchEfq6tUwgSfHh4usLa20n/PqL8VhBj0xEhPT5dwEjUnhpbYU2taM900aHGMxi8NxuWqXzJpaYVGD6uazm3RIFLfTjOWv75+AJn5LbDK3WtsjOd/i9XpW2CX0g7vrE4BBCyBykSULEXK5Jx6r4vvgBcxDXswZ4UT1gbmiBfF+qgy2MdWYP46HwQWD+K1OUsQVrEFL76zAJHVO/Da7C+R2HoYD784Xfbx6Msz9NCCJVkX2gQq61fCMiQP731uDbvocoRXbjG57xOSch48H+6T55eonGescr7+1ftgWWTsYUEtj+7EmnXO4mVBQ7hQMbCZGFIXGqJ7e38uGKLnkng9eV2HlOvbX96B7nmL0H3r7ei+8soxcOJoqn3gEUREpCMrq1pyj+gA09iEqfyryhAwcBmddOVb2cfUAMu3jhHLsxpq/PyD+nW5HW5P3bbh/tRjGH8NzqR8fYP0vxN84DxXmwonVNGFmaCCYSEUk1USQPDNIPNa9GRnS4jIhhtuQMmaNfLwzaR0LHHKxHRchsvSO8MwNORsgReGYaDrbazR2nBq81gY6vtCi08aMjC3LB7zyhMEIjC8gt4PzDdBoDCvPF48I+RvSzbmVSbKZwKAxQQQ6mdlPXpCEEhwXf6lFwfBBWEDRUBCuPBxdbKsx+1zPX7mOgI0+LlJWX90Pzw+rsvPIuUztyH7G51ObwtOU4EIwYQcuzJfwkUUadDi+GQELZSxZBgeclGes5TFZf6T9zOCBFJ9VJmkjKU0qc7CPj6XxHHH+4Dj//2CiDFjYmGcC1ITA1BWFI/OloJRaNF0WqDFeOnu73ZJ8NnSUIDkhHB9XgzCUVMQg+EkDDE0TOxJOMzvT61pTWsatPjORurJLxJ+qTg4OGveFpNMqgFGbwuGLrS1bUFFRRciszuwLs84uSTBhXn2XtimdcM9uxtBxYNSUSS2cZ/kmNB7XXwHvCDkoOfEvY+/jNCyETz/9nwsdY3BzC/Xwy2tGa/M/ExCQ56d9iFiGvbiqdc/QGLrIfzr6VcFmDz95hwEl2zEE6++B+uwArz/hY1AD3pd2MVU4KV3P8X6yBKT+z4uGcAKhqzwvFjaNKzuALwr92FV4biEpaNakTSClda+yr3ih9DQZGRmVuq9LOjNwuvM622qLzR9f+nHsWL49yUUYMP7c9H5yhvouvc+9BhUCjmaWKIywj0UqamlKC/vkLKpvB8IEFRoMB5M6EDDAYEb/f37ZHmGlTA0hTk16K1BMV8ME7BSHR3b9VKncb5u2V2yLsXt9PXtle0aQg7d8ehgBo9J1ZmGGCyNrT580lA/V5opSEE4QcBAQEGvCj4wE1QwlwWBDCEEc1qw1F9XRwe6Hn0UTR98gLycHHnYZlgIS5zS9Xnr1q0SSsIQDG6H2+S2uQ9DgEGdbojB46CbttpvTLZ3Oo3d7wstdGBBlwdi0kqDFset74IWf8p3wZsRLhK+w5wmTJBKYEEAQA8ZQiqConNCyrHymDkuGFI0qyR6zJhYFO+KtKRAlBcnoKv1zEKL8WI/SV6MLS3oaC5CSmK4VCkJCfIZDScZmxNDrU7i5+eHsrIy5TdRV2KV+YEmkzef1rR2Ik2DFt/R+CAVHR2t/yLJzCwx+dCq6dwVDR4aQYODB8VwamjYKJUUAjO7sDbXBLig8r+BZeYmOGUNwC+/D6HlmxBdtwtxTfuR2PbVKLzQeV6YChuJqd+DBZZ+mL/WWzwp3vxoJT53CJf/baPLMGORBWIb92Lax2aIaz6AN+YtF4+OG+9+CItsgvGZXajktnj9w6VSzeTtT9dgkW2IPjxkuXs8fHK7x+zzO6WCCiNYcRjRjfvhX70fdsWHTCfdVLQieQQr7MOVH1pP+PvHIjm5WHJZNDUNiyGqGsBn21vyyaAjY/iQwIOOti1oKGlFvY0bml5+A41PPouOm28xCSxUpS9choSEAmXsN0uICGECQRNDelRAwf97e3Vggp5JhA/NbdtQ3bIdJU07UNCwE7l1O5BTuwPZtdtFWTXbkKkoo3qrXpmjyqrZqiyzTVl+G/IUFdVtRWXDJjQ2jUhuDZYiZiUU7keFGjw/ghIVZOi8Mo5ADF6L0z3G4uLS9L8RfLA825sKK1RPCkNIQUChwonNO/eie/M+tA3vQ9PQPtQP7EVN7y5UdG1DcesIsqq7kWXmgLj4PERkViA6uwpJRQ3Ire5AVWs/NgwMC8Qh5Ni9e7dsk9vmPrgvFWLwGFSIcbrgBfNtqMnznJ3sMTJQZ9LYOFXSoMUxpBioGrQ4Ph0ftHAVaMHQCnrp0KuFXjisHCPhOKPXnZ4vXI5jjsuM6ZOzQeq4aM7C/FpCi5gxY+JshhbjJff/znbl/m9CQ20u4mNCxBMjKNAbLs4O4nmh/qZQzJFBr7DIyEgJvSMUZlUmAmGtae2H0jRocRyNcbmMPeMXh5OTqzy0m3pw1XRuigYOjR01twUNpNraPuTm1cMvrQPrcvYYGeii/G9hlncIdpmDcM8dQGDRoCTBVOEFjX0JG5FknbqcF3qAoYjT1WSZsky3DhQw0SX/Zx4Jw78MFyGk4HY5zXA5Cd9QPnNbqQafv1PKumNBhW6bPG56VsQ07kdQzX64le3HqqPACmpF4hBWOETBxsYdPj5RiI/Pl7AQhtvwbboaanA2vBWfjFLHMKEFxzCBQ1PTsCTizM+pRUZoCkrmLUbd0y+g/sFH0HXNNUbQovKZlxATk4OcnDpUV/egtXWT0nfbBU5QjW07UNmyE4WNu5BTtxNZNduRTi+jiu3wLd0Dh6KDsC48jHWFX2OtojWKVhd8o4wbncyV8UOp/7O88BpFXNai8Ctl3UNwKtwH/+LtiC0dQXL5CFIrNiGjarNiBG9GSe0m1DUMo6VlRDyieGwEGfw+ViHGeE+M0zXWkpKOlMimW+/Z2Ay9KggIVFBBDwg++G7fvQ+9W/ejeeN+1A3sRWXPbqS17oVv9UE4lB2GVbHST8XfSH+tzj+MlTn7sTR9J75MGMHncYNYHNOHz2P7sCxpI9ZlbIZL4XbE1GxGQcsmlHZsQXX3drT2b8PgyFYJy2CuC0KM8V4Yhh4YpwpgEJz4+PhIf1lYrENpUZpJw+JUSoMWx5AGLY5bEwkteL3v+fAt/PnW6yU3CqdxWYYHqctw7M2rSJTQEt3/eZhfmyrAg+E/DN/gNnXhS9n69difc0vjsKAhXf7nPN16eUofJwmIUJc9qiYRtBgv9uPe7e1KHzagqiwDURGBkhMjwN9TSjCrvy+UGkri7u6OgoICdHd3Cyzn96rmhaG1ydw0aHEcjQ9O4eHh+i+MrKwykw+ums5d0bihocO3tmqYCMs/sgykf0ojLLO2K8b5UYz2/G+xJkcx2rKG4JY/goDiYYRVbEZk7U5d2EjLQfG+SOr4RoCAAIxRDwx9CAllCioYiNVBVvulI0nZlqn5xyVCCiNQ8W8dqFCOj8fJJJuR9TrPCs/yvYpByVCQo5w7k27G9WClbbAk3vTxiZQ8Fnl5Daip6dOXz1TDQjRgcWqkQgteZxrvDK/gtafHRHl5F/LzGyUhanxUJhIcfFE2dQZqn3gWjffeh+4rrhBo0X7DjYgJYuLUChQXt6Kyug9FtZuQU7cdmTXbEVGxC+7F+2AlQILg4dujet2ctAgEFRFuEGzYFB6AR+FORBVvQkr5MNIrRlBcvRG1dYNobibE2CpwjJ4YHG+8BqY8MExdu4lQSkq+/veBb/DPpmbKq4JeDoQFO3bvR/vIAdQN7EN2x1741xwUOLGmSLn+hSb6ZbRvliv3/bLcw1iatR9fpu3G5ynb8VnSNnyWvB1fpO3Ckoz9WJZzCMtzv1bGyDdYrYwXC2W73hV7kVi/FcVtm1GzYQv6hkbEE4MlAFWAwWM7ld4X3BYf9NX+8vfzUIyadpOGxKnU2QAtaIy+HmyPqaFOeDPMWZIzqvNoVL4ZrgstYIJMGqXqvFl5EZiVH6H/f8KlQYvj1kRCC+oVL0tJtMrPHA+sHjPFz0b6m4CCCT3fivFQ5I6ZWSHKdrLwiqeFjKPpsR6SWJX74rh5wWWVjFdu61X/9TKO+PfDklhl7KXgRWX+1HBnvB3niSm+1gI6DI/FSJMYWowX+3XPtjYM99eiKD8ZEWH+CA32hY+Xm1E+DNULg6WmVS8MhrZrXhham2xNgxbH2UgxVW8LR0cXxSjYZfLhVdO5KdXoo5EzOHhQjD61ZCTBRWhCOWwyN2FVzlHCRSgaWfS8yNkC1/xN8CnaJGVKI6q3I7p+91iA0f41kju/RWonQ0iOQAxVhAqEC3qgocoUiFA1btkxcELVqDcF98v96zwqDguoiFGOL7h2H/yq9sGpdD9WKYbGUWGFohWpW7EyshXmlh6ws/OGr2804uJykZvLN/W94tpPAGRoPJq69ppOXhy/lA68HRbPA45h5hJpahoWgMRypnl59UhLK0d8XD6igxKQbL4eVS+8itrHn0br7XcicY0jAuMrEJ7RitC8Pjjm7ZC36mb5HAumx8Hp1bcwV45lXcFheORvR2zRIJLLNiKrchgVNYOS8FXnhbFDzl/ngcEQklPrfcEkzeoDZFtb2+ivxplvhrBC9arYu/8ANmw5gPrB/cjt3AvH8q+Ve/0E4JPyPbdC6QMBFzkEFwewJHM/lmTsk7/8n9MJLFbkKeNGWX78Nrg/2+KDSKjdhKKWEdRu2ITBjSMSr80wEnpCqN4XhvBiIhr3oeapsl1vg46WYpNGw6nW2QAtaHT+4747cfkj/8RdH0zFPXPewqy8cDFOX3RdgzuVaffOnY7LHroHcxQDUV2PFUHu+uDNMduaUGnQ4rg14dDC2wrXPf+YfGYZ3KcsP8cUHyuBCrPzI6TELWEXQcUtb74oY+XeeW9L9Rd6WvzjgbtwtzKOmHCVJW1Vj43b35kieSju+XA6nrZeIuP45qnP4+Y3X5D1WO2G0w2PxUg/IGgxXgeUft69tQUb2kqRkhihCyUJ8JbQtnXrjgAMw4SehYWF4oXR398vnm0T9R2qNa2dqaZBi+NsfDvDWDL1iyEtrcDkw6umc1eG4IJvavnWluCCiSRpiMfGF8AlsQUWGZthpjywj38Q10t5SKeRZ5G7G865I3Av3AKfkq0ILtuMiKptUnGEyTXjmg6MQgxdGAk9HQgS6PUgYSKK9EBD1XgIYSjD5ZT1ZBudOi8KARTK9lmphFVIEpoPSghLRP0+Cf8gqPAs2wOroqPnrFC1IvsAVsR2Y4VLItZZuMDZOQCBgQlITCxAfj49LHTAgkYjAdCpNBY1HZHh+FU9LgiNmOSSnghNo/CirMwAXsTnITwsHd6e8QhfsAZeX7hgYWgrFscN4fPUnWKA0jg1ZXieFSIozP8aVvkHEFw4jKSSIeRV9Mt5NinnS28TXQjJXrkepwpeZGQU638b+KbrTDfVu0L1rCAA2LP/ANpGDqK0Zx88qg6LN8WxoOQxZQAulud+JZBCPCsEVnwl0/XA4phjR+m/wm/gVLIPafUjKGsbQW//kHhf8CF7PLyYCK+LxMREfV/x4f9MGbhnA7Sg7l/0Ae779H1JdHjHe6/jwc/nYGZOGP5y6w16l/1nbJbqvTBoLN4583X86Yar5XgMtzVh0qDFcetUQovnncxwpzImXnJbK54W8v/MqTKP6//2H5fK5we/mCPla/mZwOJZ22Xy+drnHsW0SFdZ9lU/Gwkd4XIPLJ4t8wnKnrL4XD5zv4Qg/HxU/YChhaF03x3t2LKxAeUlaYgMD0BoiC98vE17Ydjb28v3Xnt7u3hhENwSBGtNa+da06DFCTTmtmA2X34R2Nk5iDFg6gFW07mr8eCC1WJogNMQLyhokuSSQZG5WJ/ShzWZO0w8hI+T8sBuphhVaxWjyj5vK9wKt8CzeBv8y7YipGKrVB5hlZDo+j2IadSBDCbcTGg5JDklBGiIZ4bOOyOpQ9U3BhqdxvlcTllewAS30XIQ8co2Y5v2CyiJrNuDoJq9Ail8KvbAWTEW1hV+NQoqvsOAUYyUFQkDWBlUAfN1rpJw08srHBERaVJ1ggkca2v7xUDWgMWZkTp+1THMHA+6cbxH8lywKkh9/SDKyzuRnteEkJR6uMVU4YvgeswLbMbHIR34JKofixO34Mv03ViaffC7oQUN1Kx9WJG+HctTNusSsqaM1UojbRKtUJWqrJe6BSsydmFFzoHvMHSPJh3AcMnfhtjCPqSVDqC8qlc53yG5h5mXYzy8mKhxyZBB9SGxsbFx9BfjzDTVu4IVOhhqsf/AQXRtPoCSnn2wK/366GEfpsS+zdyD5UrfLDfs1+ThUW3EiqSNWE7pp40oyyv9mblbWd90WWRT4nFZFx1Gcu1GlLYMorevX+AFPS/UsBHDqiPfpxGC6H/DbdcrD/31Jo2C06GzBVo8sHiWQAuGf9z61kt4fNWneNRsAW6ddsSAJNBQP7/ksQ6vBqzHNc88gle8LPTTJ1QatDhuTTy0sNRDi3dTAxT547oXHsODX3yIlz0scOv0l2Ue81H88drL5TOhxaNmn8hnelI877BSPnM7DBP5ICcMl9xxk+S0+Ncn78qY43xCi0dXzpfPLzib4/Z3X5XPR5UGLUxqvBdGeKguoaeTk73+d4miFwbDSCIiItDS0iIAgyVVCYW1prVzoWnQ4gQa3/DExcXpvwCSkrKNHl41nfsyBBc0vGnwsYJBXd2gVMNgGU8mLPSMKoNV+gjWZGwXg97Ug/h4MU7fXDGsLPP2wDFfBzE8irbBq2Q7fMt2IrBiB0KqdiC8ejsia3aKV0ZU3S4JLxGw0UDtFcChl0zbI/OpyLrdCKvZjeDqPQio3gu/yr0CKLzKdsOleA+sCg9KQsTjzkeQe1gSbZpFd8B8fSAsrdzg4hKEwMB45X7Ik/CZsrIOyZ/A60TDUAMWZ0683uoYpnFOcMEwCXoO0fOgon4EyWVD8MoexJLEESyMG8anMUNYEDOIhbHDWJywGV+k7sLSTOYlUPpehRaEVmLAbtWBBhqxNFLje7E8ogHLAwqx3CcDK7zSsNInXWTmmw5z5a+5b4aidKxS/q7yyxSZ+2WJzBSt5F//XKwMrcTK2HasVIxhM8XwXUmlEWbs0MEMU+PThHifWeXvR0jeAJKK+1FS3i2whvCCnhfMezGRY9QQWjQ0NIz+YpzeZuhdwYdQVujo33YANUrfu1UdH6wgfGL/CqAY7dtlodVY5pOF5V6pWOHNvk2DmSJdv6r9q/TnqMyUvl0ZkIeVkXUwSxrQ9aPShyvTt2FlNsPrjv29YyahI/uQVtOPytY+cW3mm0HmvOA5nYzXRXV1tb6f4mNDTBoAp0tnE7S4Z+50cecnqPiwNBb3fToTd7z3mvHyitF4/ctPYmq4C/750Qxc8+zDxstMhDRocdyaSGhBGECIcOVj9ynjLQYPL5kr6xJk3K+MkzmF0bh56guYFuUq4UMMH+GYvHPmGzKG6Elx34L3xVtnUVsubnr9WQn54Pi95rlH8Va0u35ssX8JLejdQ7Bx77wZeNFtzdhxMF4atPhO6b5XdF4YZcVpAjCCA73h6uI4piKJGkbi7++PmpoaARgsY83vWK1p7WxtGrQ4wcabmqSSN72trZ1ksDf1EKvp3NZ4cKFWFWmSigzdEgaRklKMsKgsuEcUwzq5H2vTRmB2PIbVqAGoiqEm5vlfYU3BYcXQ2gv7wl2Sed+taDs8irfDs2SHyKt0J7zKdsK7fJfIS1XZqJT5HqW74FayCw7Fe2FddEAqODCZ4XF5UoyTvPWO64VZeAPM7UJhae0BJyd/yV0RFZWJ1NQyqRDChKXNzZvkTbYu6eaRHBYasDhzUqHFwMBBAUmtHTuQV78DQcoYMcs9IKEfX2bslcSJn6fsVLRDxMSKAiyyD2EZIYV4TwxjeUI/loVUYZlvLlYQSigGrLlPKlYphusa/0ysDcyBRXAurELzYR1eCBvlvlgfWQLbqDLYRpfDLqZirJRpMi+qFOsjSmR567BCWIXkY11QLtYG5WFNYB5WBebDLLQcK2PbFAN4k84AVsbmcb3FV+61dfkHEZLXj9SiDSiv6BqFa1sF4hDm6CqOnJzXhWFOi9bW1tFfi9PXaLyruSvokbDvwAG0jhxEUN1hrP6OfBWEQexjekssC6vHUt8cLCd48kqR/l3tl6H0bbbSt3mwCiuATXjR2H4dFT9zGudxGS7LddYqWhOUj1UhJTCPadH1IQFGzkGTx6OKeS/cillCtxcdXRvkt5cJO1WvC54rz/l4wQWXDwgIkD6ysFiHztYzk8tC1dkELe5491XMLozEJ3W6MpcvuqzGFY/+c8x+aIR+qBiJdPmnUXrfgpn43eV/E9ihLjNh0qDFcWsiocXHVUkCFRjiIesk+AicemjJXFmPy0wNc8Z9n7yLR5Z9LOOROSv++fE7+Of8d5Vl4jDFx1rAxYKmDDxrt1y8MOjF89CSebhv4UxJ4MlluX9Ciwc+m41/znsbj5ktkGn6MWBKGrQ4Ye3fqatIUlORhajIQIQE+cDTwwWWlrpyz6rogebr64uysjL09PQov4kbNYChtbOuadDiBBsfkJKSkvQ3elxcumaYTVIZggsaf7q31bsk/IGlPMvLO5CTU6uMh0KEhafDKzgdtnEtWJc6jFUZO8S1esyDuPq2Wpkucd+qlP91b7NNJK1T/idw4JtjZuGnzAu+VqT7LPP0QOLYxslxKfeQvEE3i+uGmW8eVlt5S1UQZ+dA5QctBhER6RIiw5wIFXoDcJsYgHS7PxPlJjWNlTpudWNWl5ulomU3kmp2w6rwK8k1QEk+gtFcBEuzDgrEYDWIpSlbsDR+AMuo8AYs88nGCq9UmHklY7VvuhiwliF5sFYMUxqp9rGVcEyogXNSPVxTGuGe1gyP9FZ4ZrbDK6sD3tld8M7ZAJ9cqvuIlGkyL7sTXpkdsjzXc09thmtyA5wT6+AYXy2AY31kqQANi5B8rAkuwKrwapgl9cFMfYOvjFuT43lUvH9sc3ciUjmG7KIOAW1NTSOSsHMiPIMSE7P1vwlMfHY6mwos1HCQ7bv3o0r5rlpfeozvA+W7RudRMYxlkS1Y5p2B5R5JMPNOEQBF2MD+JYxwjKse7dsmpW9b4JnRNrZfR8XPnMZ5XIbLch2uy21wWwRTFqEFWBNaglXxXTBP3wIzflfyu8/UcSqyKDyMpIpe1Ld0iNcFy/rt379/TLjI8YCLzZs36980erg5n3Ej5myAFp/Up+O26S9LLgEmQ1Snz2NCxfvvkjwDzEkwNdQRswujcL9idD5l9YUsw7fqf737Fjy8dJ7ABXXdCZEGLY5bEwktTqc4lq974XE88NksLGrTVRj5TmnQ4qR0YFen8n3ThJaGAsTFhCA02MdkHgwWHfDy8kJpaaneA4Pft1rT2pluGrT4Ho1xtkxso7u5bRQjdrPJB1lN575UA1CFFzRuaOTQq6ClZZPkcGBVBsKL5OQiREZmwC84FU5hxbBM6sG6lCGsThlRHsx3K4aiDlKsSlKMQhqImfvkjbZk22fuAGWe3hXfxMP7KREhStp2rIzvh1lcD8wVI3WVczQsbbyUMe4Dd/cwSbIZHZ2FlJQSSUjKfAh1df3HdLXXgMWZEa+7bpzqQkJaOncjt2E33EoNEqxyfCliIkU9wMg5iGXJm7BUGQdLA8ux1D1ZMWITYa4YsWsDsmAZki9v0AkoCBNojHoohimNVN+8HvgX9CGwaABBJRulYk5I+SaEVmxGWOUWhFdtVbRN8rewks4RbRudt1WW4/JcL7h0GEHFQwgoHIB/fq8ADq+sTgEarsmNcIyvEQPYOlwxgENoABdjVUI3zNK3YmXWnmPeP8x54ZE9hPj8LpQo9y3hIyGkzutCl+vi+4CLmJhU/QMfcx+drmYILJiwcuOOA8juPDCaZNPENVCuzXLlfl8W34clPtlYpvQxYRRBhWWo0sdRpQKKCJ/Yvz45XfBT+sCwb033K/tS15/6vlSW5Tpcl9sg2OA2uW3ug/uyVL4n14ZXYFXqMMwydx2171YVfI3QEuW7tq5d3gLyN1gNFzlecJGXl6fvo8K8RJMP9RMhGpGGMrUMxXlnGlrMKYzC7W9PwW3TX8E7KX5j5vGN+I2vPiNu/3T/Z34DhgY8Zv6pzGfZylvfehm3vf3Kd5eqPFFp0OK4xXM9F6EFE3syfOTu2dOwoCHd5DJG0qDFhInjZueWZmxoL0VKEquR+Er5ZztbXWUlVQwhoQdGZWWlAAzmwGByZ61p7Uw0DVp8j8aHo8zMTP1NHRmZKIaCqYdZTee+VCNcBRc6l/sjyQ0ZGkF4Qc+LvLwGqcoQG5uL0NAU+AQkwsUvGdZh5Vgb343V0Z0I+8wdrjapsPCtwWfJ28Q1/8v0PfKWe0wOARMP7yerFTmHsDJ9B1YyR0V8L8yj22HulYk1tgGwXu8De3tfuLkFw88vBmFhqZKzIj29AgUFjaioIKwYkIoqPG/Cm4EBwgrNu+JskCGwIEiqb9+N2Oq9Rw8PILhgDoOkYSyP7cJS72wsd1eN2CxYhRaIJwW9KNxSmuQNum9et8AEGqOh5ZsQXrkVkdU7JJlsTP1uybfC0r6sTBPXzKSyByUZrJpY1khqslhlWS7P9bi+5Gip24Womp2IqNouhnBI2SaBGQQkqgHsktwAh7gqASoW4cVYE9OIVWmbdW/veR+ZOu+Cb2GRtw/h2Z3ILWhBdXWPAEgmVibo+T7gIjw8Xv97wIe609EMgYUuf8VBRDcdgvlRclcsz9iF5YmDWOKXh2Xu8eJVsS4oR64dPSHcUtnHnQKKgkqGdP1bpfSv0gfMqSMVj9i3R+tXfV8e1Pcl1+G63AahBrfJbXMf3JdbarMOYESWYm10ndJ3W2BG8GTi+AndPAtHUFDTjs7OTvGcOF5wwXl8c8j+oVv0UF+1yQf57ysaAKrxuH8n1a4Xp6lSl1N1pqHF4vZcfNqUJWL4x/j5dOunQcm/NHBlWcVg1K07+r8ilr0cv+5JSYMWxy2eK8/52NDCBTMSvDEzOwQflsbJOGI/ss/ZdxxPp1vcN/uXYl+bWsZYeViorLdAWefjmmR8oNwThmNCgxbfTxxDu5XxM9BdhZzMOMmD4e/nKSWh1d81iiEkDLGrra0VgEF4zO9erWntdDUNWnzPxnJsTk5OciNbWFiivp4E0vQDrabJIWN4wbfZR+AFjXkm+6us3IDi4hZJUEnvhJiYbAQHJ8HLOwoBS62w4Yor0X7djch4+QM4ro7EWqdsfBHSiCVRnViaqBiQ9MpgvPdRja5jiOvQVV4xRlembsXKhAGYxffBPL4Xq+LpSVGP1b65WOcUDms7P9jZ+cDFJVCqgAQExCvGVxri4nKlGkhOTp1yHq1S8pVhIGMrMBwU484QVpyIkadpYsVrbwgsqlt3I6hi/xHvinGSEKWUTVjKHAYe9KpIwCrfNAkLoAHplFAr7v30pCAkEEhRsVk8JAgTxIBVjFIxXhWDVV+2t/0bJHd8ixRqtHxvSte/v1ujy3LdZCnNq2yLVXCU7dIYFkNYjOA9AkgiRg3gwOIh+OX1CFDhG3wCDJsIxQCOqMSqlCHFAN6tnO9R3t7nH4ZvxgZk5DZIqFNz87CM7+8DLoKCIvQPdsy7cKobjXMmolQ9LAa3H0BQPXN8mDhX9nXyCJYElmKpWzxWeiVjXVC29DO9ZhjKwWvIPiYcIijideb1JoQ4UsFotG+/q18N+pLrHOlHgz5U9sF9cZ/cN4+Bx7I+qhxrY5uxKmMbTIeMfAunwu3Ir2xCR0eHcu03CbjgNeC1OFpyTibyVENDvDxcJtSoVY1GAgoaR3u2t4oBwGz+FI1Jaq8yjwnyDIEGp28baUBf55nLaXFWSoMWx63vghZ/zHPBSxGOeDXOHW+m++PtgjC8Vx6LmdUJmFWXjNn1qeeUZtUmy7G/WxqNN/OOnCe1MM4ZqQn+KCuK16DFSWjv9jYM9lQhMz0GYSF+8PN1h43N2BAS5vYLCQmRall9fX1aGVWtnZamQYuTaIz3Um/ggIBQeftu6oFW0+SSCi4M4QWNeBrzDJdgkr+mpuFR74tOKZWakVGJ+OhsVD7zAnouu0yvjquuRuyUt2Bu4Y7VdkFY7ZmGNaFVWBvdgrVxXVib2Ic1ilaL+kWrVCX0jaoXq0U9WB3TgTVRTVgTUoG1XooR6hgKK/tArHfwh4ODH5ydA+DuHgIfnyiBFGFhKYhWjisxsVA5xgrk5tYLcCF4oVdFc/OIYhwwZ4UuDESDFWef1PGoBxZtTMzKJIemjPVvsTx9O5bFdmOpZyqWu8dLngp6VTB3BMMvCAD4JpxhGvSkOGLEHhBAMdaA/TdSFUM1dcN/kLbhvzp1/+9Rld7zf3qZmq/X6La4XdUQ1hnBX48xgOUtfvUOASoEGL653RJGojOAy7AupgGrGDaSazrpo5liGHumdyMtq1Yq4DQp9+14cGHqmo+Xp6ev/rfg0KFDo78Qp66pVUJorG/aeQARjczpYdzfhJ/L4nrxpVui0tcJWO2XKXklnBJr4ZnZBr+CPgnjiKzejpj6PeLxwnLJvM76/h3tW/YBx4XJ/jIQPWX0/xv2o7ItfR8q++C+uE/2H4+BcIzHxGOzia7C6rRNMMs9bHROPE+3/E0oqKgXcEGPi3379sm1UKuKjG8lJSX6/snNijf5oP59RaNx4+ZK5HVFoLk/SxkzVWI8btlYJ+LnbYq2b2rETsWA2rWlWQ80+D+X6Wkvxk3l3jiv3EWnUSNMgxYatPguGUGLzlK8UnXEmP9FkTOuT3LAjalOuDnTDbfmeuK2Ah/cUeSHO4r9cGdJwDklHjOP/bZ8b9yc4zFmTMyPdkRSnC9KC+PQ2aJBi5MVxxYBbF9XBdKSIyWERHJgWFnqv08Jg+3s7KSMKpNQDwwMSM4hrWntVDQNWpxEo1uqh4eH/sYtKWky+UCrafJJNdZVg1EHL1he8qAYPGO9LwbEICryjUL3lVeOgRbdl1+BiDkLJCzD1TVIMX7C4eUVCW/vSOVvhPJ/GNzcw+CqyEWRs1sYnNzC4aj8dXQJVRQMJ5cgOCtyUdZ3dQ0WKMH1uA0mzyScCAlJVn5U0iQ3RUJCPpKTSwRSMBdHYWGzHB/d5OkpQlBB8EJ3eZ4HvUl4XgwD4blqsOLsEvuDY08XErILPuWsYGPKgD2A5YlDWOKXj2Vu8VIZggk17WMqJPzDO6cLgUWDAgAIKmIb9oqHg+pFId4TXf9WjNBRQDFqmBqCiO9SRi/0MjXflPQG8KgRPN4AJkhRAQZDSYLLhsUA9spslySQ66MrsSapG+aZphM+CrhI7URaRpWEeDFBJ+GjLrHs8VUVsbNTcxxZHzVEYaKaGhbC0p+79x1AknL+psqZrsjcjaWRLVjiGoeVXkniRcOcJPSgYY4JgRU1OwQyCIwa7WNCKFP9S6+IOSucEVI+It4RXJfJU1O7/iN/KXq/LLYLRWTtzjF9SI3pQ4Iog/7jMUQp2+Mx8dh4jA5xNVibOgCzHJZJHXd++d/CK78fpRVVyvdsF7Zu3SoPyrwmpsJEAgMD9b/TfRsqTD6gfx/xoZ7hIA396Xg/83XMzHwDDqUrEVBph5AqB0RWuSKrPhj1bWkY6C4TI2rTQI0eaGwerMHGvkrFwMrHjaWeOK/UCeeVHQEXAi0C7fBOoo/kn5hfkzLOrX9yisCCcIahKfMq4jVocQwZQQt6WhBacAxxLImcfxD6KMIO8dHeKCmIRUdT/ii0aNSgxQSI42zXllZ0t5ciOSEcocG+8PZyhaXlEYBhYWEBZ2dn5bkyRxJSM4Gnlv9CaxPZNGhxkq25uVl/07q7e6O3d4/Jh1pN57Y2ppdjOLdOPg8rhs1I40ZsIrDIqsZQbA6GEpQfSMXQOQIw6H2hCx1hdY36mj60THtvDLCg6u+6Fx5O/pJDgqEZ8fH5SEoqEqhA8XNCQoFMZ34J5sqIickxEqdzPpdLTCyQ9VJSSiW/RmZmlcAJlmktKmoRQFFZ2YWaml6BFE1Nw2hr2yLle2ms0WOE4EXnVXGkfKkGK84+sS/YPxxrbZ27EFJ5FGCRuQdLI5oUAzYeKzwTpQIIS40yJwSrdwQWDyKsciui63YLAFDftvPtut6LYpwRq8oQRJwKjd8fdVQDuOWgYgDvFehCAzqgsF/39j6hBtYx1VidvhmmSqWa5X8N36QG8YgqL+8S2MjknPReUce9qetPcRk19MDT03P0l+HUNMOwEJb+rFbuU5YGHX8+DDFbElSGpa6xMPdNlcor9D7xye4S+EDPiiOw4ptRGGW6j9V+4PpT5y7H+qgSzFi0Tq7ry+8vEm+cV2d/iYXWgZJc89b7n5B8FYZ9SBlu07D/uG8eQ+IovOCx8Rh5rM6J9bBM6oJ5zj6jc2ToU1huE6qrqyW+eseOHXJNxoeJMOs9YRL7x8HBFgcmwKBVDUUCC7pS03sipt4DVwddhvPcz8NPPS7Ab3wuxKV+F+OhiHswL+VtOOabwavYCoFldoip9kBBYySa27Kwob0IzbVZuKHQDecVOeC8kiPg4kGfNXjNfz3ejvfCrLxwfFSRKEkU6YGwsCVr0opghtVJCGmY8POqYm8NWhxFhtCCHj39XWV4pTJYN46KFRU54rxCZVzpZT/JdOTc5kfaIynWFyUFcWhvzMPG3krJGaNBi4mVDmC0oKOlGAlxoQIwWJFJ/R2k+J3LBJ5q/gt+P5vygtOa1k6kadDiJBvdUYOCgvQ3amZmickHW03ntvqeeQF9r0/HSMc2DK60xFBALEYUo79/6tvo//BT9L3xNoaCE/RGvfr2m8a/VBpJLkL31deMARbdl1+OxLmLBFjQA4IJL+n1wJAS5pFgWUb+ZagGY+45vaysE6WlHVKxRKcOgRCczvlcjstzverqXtTU9ImnR2PjkHhQtLZulmoJDPmgJwUNM4IVXeiHzqPCMPzDEFQcy3DTdPqljjMazezHtLo9JnNYMAHjkqAKnQHrkwKr0HxJfsg8AjTqmVuAsCK+6QAS274SD4ajvW2nxhujpuSX3yNeGuOn8+28c1KdeEKo2yJsYAUSVTRaOZ3Hxv/5Vt9wG5Th8YwxgDsJL2gAHx59e79T7xnAUqp2cdVYkzYMMxPgYk32HoTEM5dLjXgdETbyvuD9cKyx396+Rf/9TxfZU9loiKthISM79sGh3DjvzYqsvVgSSGARg9V+aVgfUQK3lEbpk7CKzeKRQrjD62TYz4bXdPz1Vq/5U2/MQryy7kvvfirTnnj1ffjn92GuuZsk9eQ1f+WDz4zWHS/Dfal9x2PhMfHYeIxhFVvE64JeQFZJnTA3EeKzLncvUnNL0NDQoNwHg9izZ48+TESFFiyTqvZPdGSQyYfwY4kP6KphqErNX0FgwQz8NBZpILkVrsXf/C4RcDFeP3L/Ef7H8//hDz6/xdWBl+HF2CewJGMenPPM4ZNjheuyFeMyz04HLkr55tgFD3itwhQfK7wV7Yb3M4Iwpyga8yoTJAkhqydMVn1ck4KPqpMwtyxOYM0VhZ5G0GK6vwYtqDHQYqQeg90VeL4qCD8pdsL5hY44v8Ae5+fb4XxlbJ2fS9lOMo2em3KOcxKckZESjMqSRHQ052O4v0rCsnif8hqZun6aTk4cfzs2N6OxJhdREYEICvSCvd16/XcuQQarLcbFxUk4H7+nT0cIpdYmZ9OgxQQ0UkRm1eUNam/viM7ObSYfbjWdu+p98BH0v/kOBj1CMPCFOYa8IzDo4I3+d+dgRDH2hwLj0ffcS/rlaeTQ8Bdo0bENnR98NAZYUI233wlf10CEhKRIws6iomaBDGp4Bo0mipCBnhBMhEnxLTCrHejEz5v187gcl+d6HR3bR70ndooHBeEEvShoiKmeFDpIMdabQgMV54bYNyoYq2/dCesiYwN2eeYeLAko1RuwzGfgmtwguR/oik+jXjwr2r7ShQbQq2IUAhgalqYMT1NiKAn38diUd6UyhOE8GqBzzVzx7mdWmPmlrVSt4PSout1YZBOEx15+B+8stoRLUr1M/8TCR4zkz+xCx2xnvAyP09AATqYBLG/v90oCUea8YL4Ox4RarE3biJX5xtdrfUo/YuPyJA9Nff2QAEfeJ7w/jnYv1NR06R/Q0tPTR38VJr6pXhZ0t91/4ABS24yN+BW5X2FJSDWWuowCi8hS6QcCICYvJVRgHxHujIcVpq7teLE/kjq+Vv7OhntaMx545nXx0GHJ1IdeeEuAw5OvfyDQwdT6pjS+73hsHI88Vh5zQFG/ACer1D7xiBl/zu7ZG5TvzmLlO69dwkQOKNeG10j1tigoKND3T3lJ+lEfvFWpYEKVDlC0SyJNGobMRUHPCuaj2D7SgM1DtRjqrUR1UzIiS1zxTMTDJqHF0fQbr1/hzfAXcW2KDc7LUqQYmTpvC2dcH7oO94ZZ4wHFGHs00wtP5gfg6eIQPFMWNvlVGoqnCoPweI4fLi5yM4YWmqeFSB2zHJscjww3eqAmED8rd1Pkip+WueCnpS64YJKL5/hSricKlPFQV5mGDW1FyrNZtT6nxQ9pTJwp0fNs02Cdck8mICzUT/JfGIaP8LOrq6vyfV2kPI/2SPJOzftCayfSNGgxAY0PRgkJCfobMzo6SXnIPWzyAVfTuSlCi41RGeh78VX0z/5EoMXA6vUYWLxC5jN8pPeBh/XLqwYlIUF7Xj26r7veCFokz/pEvCwY3pGbWydvd+kJQcigggWKnyluy1A9PWP/7+vTAYkj6x4Q7wlDOKF6URwLUhzNONN09oh9xH5jvxJIRVftNTLmVuQexpf0sNAbsCViwPoX9iG8Yqsk16RRL54VJmCFKQNzvKLqdsEmvEg+08j83CEcz0//GOeddx4sQ/L1y3F7T02dg0dfeVfeoH9mH4YrbrhdPC+474CCPvz4xz/Ge5/bILHlkBzHtI9X4n7FKGaZU3U73yUjA1je3n8tSR95rKFlm6RcqnNSA9ZkbDW6ZjSKfSIKJLSKnku8H3lvHcvbIienQv/dz1r2p6rxd4b5GuhJMLx9LyyKjb1qlsb34UvnaMlXsj6yWAcsigYE2sQ37ZdroYb7pI/2tanraEqs6vL82/Nlnfe+sMECSz9Mm28uVVvmr/MR8JTeo/SbMs0nt9vkNo4l6bvRfuMxSr8pxxxRsx2Byjm4pbVgbeY2o3NmFZj49DwJE6FXxe7du8ck5TT0hGRG/KOBCUM4sXe7ruLHGECxqVE8KrYM1SnfsSUoa49HfJ03gisd4FG8Dh+nvIM7gm/C77x+gx+ZgBOmdKHHL/Fy0JNISvbFNQlWOC9DEb0tih0FWpxf4oyfKMYYdUGZKy5QjNALFGP05KVu62gytc6Zkit+pMgUtAgLdBIjVYMWDFNqlVAIevzcXR1gdL1+CHom1wN5meGorUjVQQtlTPDeVcNDNHBx+sQEnhvaSiV8JCTYBy7ODvrvYYoveumZSO+LjRs3Sj4irWntu5oGLSao8Q2PYQnUmppukw+4ms5NEVqMNG3EwMefo/ef9wu0GIpMR99rb2FjYgEGVlop8z6TZVWDkrCABmXH0rVGwKL51tvh6+iH0NAUKS9aUtKOxsZhWZ6wwRAuUPz/eGW4niGYoFQoMV7jz1fT2S32GfuXcKqpbTssC43fQC+N7R41YFNGDdgmBBTqDNi4xv1IVIxCw1wGqsFvyqAcL4Z+sOLIF46RePm9hTKNSTyfe/tj+Bf2G0ELJln82f/8Ag7x1fJ/qrLPiy75h7J+hH6ZC376M3zpFCWfCUKefG2mHKs6/0SknoseXvDtfethATWEJvQ0cUxuxapc5gAZe90sE3sQGZmBvLx6Ca1SvS3U+2d8X0RGHgHWzJx+qhoNcOZroCdBbqdxcsoV2fvxpUcaVngkSt/Qo8a/oF8HLJoPiOeJCqdOpK9VhZZvxuf2YfJ5/PqGAITg4kS3rUrdLo+Rx0pQwmPnOQQo5+KU1gHzPOOKIh5pjcjPzwez1xsm5WQ+CxsbG6xevVpK9hFEmAITRnBipB5bN9ZLosz27lwUtEQgptZDAIVvuTXW5i3GqwnP4Oqgy/Fbn1/jJx7nm4QSx9JvPX6NKX5PIy7OE6mJAbg6zhLnpSvKs9VDC8NKIhMqbndMosZRqdNNrXOWaUaQJSKCXVCYG432pjw9tCB8+qFBC54zQyA4bvs3lOHOKn+T12yy64kMF6QkBKC8KEHGxPicFhq0OP3iNd++qQmVZRmICPNHgL8n1tvocgxR9L7w8vJSbKYasHQqK0FpTWtHaxq0mKDGt2AsgaomovH2DpQ33+MfcDWdmxr4dAlGOrdhuLgF/W+9h42JhcpD0gHxtCCs6J/1MYZL22VZ1aCkx0N7bT823PeQEbRIf3e2VPbQeVnUSv4J5pmgEUrwcCzAcDIaf16azk1xfHCcMOQnt36nkRG3IvsAvnBP0RmwIfnHNmANDM7vEo1IJvBc5hqL56Z/hPlrvSW8RJ3P7XD746EF82hwGuep0+548GmBHOr/hBZLnKPgklyPB5+bKnkv1HnfV2IEK+cnb++7/q0LO2jYi9AKncfF+vQBo2tnlr0PvgEJSE0tkxwxDLfivcx72tQ95OrqqX/4YiLIU9FULwsa4Xv27IVrpXFODlYKYRjQmoAsyVlCMMPQDfZPcgc9LI7AKVPX6rsUXrUVyZ3fmpw30ToCLv4rx85zYMJPnpNV1iajc7fI3oak5BS9t8XOnTulLzZt2gQzMzOYm5tLpntCiR3KA/T2TQ1HwMRQHTYOVKK5KwuFLVHiPRFW7YyAClt4llpgceYsPB59H/4a8BdJrnmBxwUmIcSJ6Hduv8HrXs8jLNQZyfF+Eoev97TIP+JpMeEAQYUSzJnBSiVqskaKnzmN884BePFeqDViwj1Qkh8r1VdYleWHDC0I4LZurENvRwnuqPQbc61+keeA36etV2Qr+kO6Hf6QYY8/ZJ6j4rEr5/DzAocx5/loqiPiorxkTLQ25GCop0JCZtScFhq0OLMiMB7qrUZGajRCQ3zh6uKohxe0nRwcHJCVlSWVR7Zs2aKFjmjNqGnQYgIbHyh9fHz0N2FWVqnRA66mc1Mj3bsVg+VrqRgy0rUTI4OHdNM3HsZI5w6M9O/XL0uDkskRe3p2o90/1ghYtF93PQJs3BEcnCQVQkpK2qSCR3f3LnH3P5pxpEmTKt0YOyheAMHlxqEhS2M3YImzYsD6Z8Ihrgo+uRuOGLASInDi3hUU8xhceePtkoiRoR2mljEFLZY4R+NHP/rRmH3d9/RreODZN/T/E1pM/3S1TGNYiCHgOBnJOY4DFzH1uxFcOgyPTFNv7r+FY0CGAEVW22EJVMIhQqLx9yW9ouhZx+97Nzc3gQunonG7DHdgme2NW3cblThdkfcVvvRIhZlXsuQU8choRUjpiHiWJLV/dQRQnUBfn2nxWHXgQhcqQtjEPCxu2T1jc1vkf6voGwRHJUn+CnpbDA8PS7Z6hussW7ZMFBDqhvrONBS2RCOhXgcmAivs4FNmDYeilfg4/V08HfOQVAC5yPf3+KXXL3C+x4+NgMPxiok3TU3/o9vv8Kb7iwgKsEdCjDey00IlxOG6VDucl22jq4QwmtPilECLUmf8ssgG/8hfiZ/kr9d5dlCEJdw3gcloItCzGVzMibJHUpyvJF3c0FaILUO1GrTYWIee9mIjaHFVhAUetl+Ghx1X4FFXczzuuQZP+ljgKT9LRVZ42v/cEI+Vx/yk9zo87rEaf4u3HHOej6Q4IjbCE8V5MWipz8Zgdzm2adDirBP7YefmZlRXZIn3ha+POywtLfS2E73jwsLC0NbWpjznDIptpTWtsWnQYoJbZ2en3HC88ezsHMDM8oYPuZomt2jUqG77nUzA+eY7RtCi5JkX4eMThaioLGRn10iVECbe5Ntc1cvC1LY1aaI4xjhGmK+ECVedi41DHJb4F4uXBUtduqe1ILhkI6LrFQNWMdhTu76/AWsRnCdQ4XP7cIEShl4WqkxBC3pm/OjHPxZwoE7711Ov4qHn39T/T2jxryen4PW5y3Dhb/+IhZIjYWKMbENwwZCYhJZDAl3ozWGRs8vo+lmHlEroFksF19UNStiWWv7UsC/q6/v0D1rx8fGjvwIT39TQEHoPVPXsMTre5albBQytDciCU3wN/PN75fx4ngyNUauw0PA3dX1ORMwxwqSqzBFiaj7FcrNp3Uf6+vtKBRfsM5ZEVftsTe4oqBNg8a0kILWITIRTghM88z0RUBmA0PpQmMWY4WXzl/HiqhcxM2g6ZqdOw7Mxj+DaoCtwke8fcKH3L6U8qSm4cKK6wP0n+JPHH3CtxxW4yf1aXOn2D6NlLnb7I95xm4JAPzvER3khJz0MZYXxqClLxvR8X9yX7457FN2R64pbs5xwc4YDbqTS7XHDySrNDjek2uL65PV4PelDeCb+E9NS38QLye/gqaQPcEfsl7g2Zh2ui7fC9UnrZVlZx9S2zoB4DW5SrsUtynW5LdcFq+PdkZ0RhvqqdPR1lWLrcJ0Y7j90aNEt0MJ3jDF/Y6QVXnBZhVc8LfBakD3ejHDB9DhPzEjwxoxEX7yTfG6Ix/q2csxvxXjgzXBnXJ1kO+Y8H01zUu4rb/G00KDFuSH2TXd7GeJiQhAc6A07W539RNF70d3dXeAzQ0dOlSej1s6dpkGLCW58uDRMyhmpPEjREDV80NU0eUWDkv3N5H3tBQ3ovvbaMcCi+4orEP3lagQGJiAxsVAqhjQ0DEnyTc3LQtPxSAVjhFysFmNTaBzjz7fuq3xSYRdTIV4W4ZXbwDwUatWIk4EBcc378amVP559ax6WucXBLrp8zHxT0MIpsVamGeaouPHuh/DG3GX6/wktFloHyJv1Z978EH+4+K9wTW7Uzz9ZqeBCF3LwjVQV4Zt721zj5I7rwmsQEBCHjIwK1NT0orNzh9yfhBaG92dGRpH+u/5UJuHk74pUDdm/Hykt+4yOd1l0O5a7x8MqrEC8YehFQkCRpJwnryeTsT47ba6UJTV1bU5Eq/0y8OI7C5T9JZicz2s7ZdbnJ5RA9Vga02fKOQUrfWaTu1137gQW+d9gWc4hTFUMsRt8bsClfpfiIr+L8Fuf3+LnHj/H+W7n4zy3sfDgZHW++/n4ncdvcLnH33Cj5zW4zesGPOR9L+b4vgVbv2Vw91mLmR5Tx6xzqfufMdt9GgL97BEf7YVcxeCuKk1Cc1022ptyUVuXhaLyJKTnRiIm0R/BEe7wC3aCl789PP3s4HGScve1hZu3DZw9LVHh9wAQcR7+N/xHOBT2M2wJ+Q1iXV+Epd1K2DqvgZO7JVy9rZV11st6prZ3+sT928o18A50QECoC8JjvJCeFoKKkiRd7oK+Sgn5+SEap+Ohhc7TYiy0uCnWFlN8rTFVMfRnJPliZnaolM9lSdl5FQn4qDLxnBCPlcc8uyAK72cF4/oMpzHn+Vi6MxJifFBSEGcSWpi6fprODh3Y1YnNQ/XIyYxDWIgf3N10OQJVMXSEnnSs1sjfQa39MJsGLU5BYxkfZ2dnudEsLCxQVdU5xujQNDl15A34aALOFZZjgAXVeOfd8PEIQ3h4GtLTKyVmnqVK1QoF440iTZrGS4UWHDOsbmFRYAwtlnikSGiIU0KNJMaMqt0lpS7pZUEjcCI8GPimfeYSW7wxb/mY6TQsCSjWBR4xkOOb9+N3F/0Z5t4p8n903W78/uJLsTYgW/7n8fzkgp/qE3OGVWzG5dffhrsefk4McHU7Jyv9m/vObwXiME+DQ74xtFgTXifeUCxFXFXVDZYPpmfL+PvTxydQvucZj7t58+bRX4CJbQwNIbRgYsm9e/ciqsE4CefSkCqYeSfDNqoM3tldkv9BD6mU82Xp0D9dehlmL3c0eV1OROz3K2+4HVPH9bsq9v+dDz0Lx/gak/NPVKb6zDF/i+7c87/F8ryvsTTrAJ4ItxgDCSZKP3P/qXhQXON5OW7yuha3e9+I+73vxNt+L8M8YCHcg9chOMwBsZGeAiMY8sG/L/k9qd/G5Z5/w0LvDxAa5ITEGF/kZUWgpjxFYEVfZ6kYV/1dZehqLUBTbZbADBpehTlRyM+KRF5mhChfWY/rnrCUdXMzwpGVGiJJP3eEXyHQwlCF/tMQEuCImAgPpMT7IzMlRMBKbma46W2eJsk58xiUc2AYTVFutCRaZFlLAouBDWVirDOZKmPmNWhhDC1uibMTD4vpsZ6YmRWCuaWxmF+bggVNGfi0OQsLW7P1ItCYkeijzE8dM/10iPt8I8QR76UHmZzPY13QmIGPq5PxYXE0bsg+co7U4xnOSIz1RWlhnOS00KDFuSeO551bWlBXlYPIcH/4+XqMCR2xs7NDTk6OlEzds2fP6K+k1n4oTYMWp6DxIbOsrEyflNPLy0+5wXaNMTw0TT6pxiTfgHfUDWDDA48YQYv0d+fA3z8OcXG5yM9vQJ2yHN/i0iDSvCw0HY8MoUVLyyasLzxobMT65WJtYDacE+uk5GV0/W4JDTlZL4vx4rYMc1tYhuThS6dIgRZvzV8lVSzUeTMWrsVTb8zCmoBMzFnhgrseeV5yFTDEZJVvOn70ox/j5fcXwTunS5Zf5ZuGy667Fa9/uBQ+o9MmQoQ2aogIPT/sCozDQ1YHlcLbOxLJycWorNwgYTjj71EmWra0tJLveFaOYqLMU9HGJuHcg+BaE9AisEyuIfOXMHRDQkNaCan+LefL877m1nuNoAVDLexjK+GV1TEmdIciIGA5U8IHlh01nHe30ncqtGByTIYgUdwf/1qFFUoJXM73zu6UabzePDZ65jBcyXB7HEc8BruoMqlww/K86yOKj8xXzoHAjecUWbMTroVb9F4Wy3O/wpKMfZgS5j4GNpyImH/il+7/g4s9/oirPP+BG72uwS1e1+MO75vwuM99mOP/FmyClsArxBIh4Y4CKBJjfZCS4I/05CDJS0HjmpCBRnWB8vcu/1tk29f7XoU1IYsRF+mFtMRAWaauIhVdLQViVG0eqsXWYSYErcVwXxX6N5RiQ2sh2hvzxPDiG+OW+qyTEkFIQ3WGgJKKvBD8N+JnY4DF/0acj4TAlYiL8hSwUVIQg2pl2YbqdGXdTJPbPDPKRltDLjqb89HTUSyJFpnLYueWJjFMf2ihIdTxQItb4+3xeogD3o73xge54eKx8ElDOha25mBRex4Wd+aL3opxx4suq/GU5RfK31X66Sejd1P9TU43JXpT3PTas3joy3km5/NYCS/m16eJx8WNOW5jzpPVQ5Li/CTkSoMW574IIXs7KyR0JMDPE1ZWuvxRlK2tLdLT0wVe7Nq1a/TXUmuTvWnQ4hQ1vhULCAjQ32ApKblG8dCaJpfYv0NDTMC5B+1hqei+7PIxwKLj2usQaOWKkJBkZTyUoqysHc3NuiR/ary8Bi00fZd00EIXgsTx41ZknONgWXgd1gZm6aCFYgTSs4GAYKKhxXi9MnMxnp46R5JsPj7lPbw6+wv9PFYsIbh4eupsCS0JLtUZrvzL0AWu8+gr70iYA6fzOGmIc/kVo9MmQnoDeBRaWBQY5wRZ452hhxYVFaahRWlpi8H3e8roN//EN0NosXv3bgTXGoeHLA2uwGr/DAEMBBE6zxpdAk61v68dBy2swwvxwRI7vLVgNWYqfxnuoYILXpdPLHzxwVJ7vLPYEnNXuUm1FXXdux99QQ8tPlrtgfueehVzVjpLWdm55m4CpAg8OJ9lUplY9TO7MCxaHyRjhDIMH2Hy0GnzzfHmRyslZOj+Z9/Ai+9+qp/Pc+Cx8Zx4bm5F2/TQYlnOYSxJ34t3gkONYIShfub+M/zG40L82eMiXOn5D9zkdQ1uHQUT93rfjpd8n8RH/u/AIugLeISshX+YLSIjXMVrggkfUxP9pcoH81DwjT+T/ZUVxYtXRF1lKhprMtBclyWqU4z9i33+iDuCb4JXkoWAAHoLlBXGCQgglGBIw7bheuxSDG615CrLM9LwZCWM4f4qKdk4NAEaUIw35n3obClAd5H1GGBB7Qv7AyKCncULo6QgFg3KuXQpx9jXVSbrmtrmmRKvG8ubbh6slcoQvG4qsPiheVlQxwUtEuzFg2FGgg9m5UUIHKDHwqK2XCzuyMdnXQWiKx79lyxDj4e7Ppgqng0MKXkvPRBvhDritQBbgR1cdp6yjTdCHDA11Amf1KfJtLmlcXgryg1Tw5zwUVUSpimfr3vhMclBMbcsXtanp8erfjYCTvj5rWh3WX5+Xaps44k1i3DfpzP1x2QoHuvCthw5hnnl8bgpV4MWPwTtV/puoKcKifFhCArwgrW17mUBtX79eiQmJmLDhg3Yvn27/F5qbfI2DVqcwsbYK3t7e7mxrK2t0dDQb2SAaJocoiFD6EDDpqtrBzrmLRoDLKjSJ54dTcCZKQk4WeaUxpBhmVNT29akyVA6aHHE0yKsZKuREbs8ZRNWj5a+HPPm3cCIPRPivpM7v9G//T/d4v7F06LzW8Q1HUBgxQ6YFXw79vrlfY11DiHw9Y1GamrpmPAQQ2gREXEkd1FHR8fot/7Et/HQIqreFKSqFw8Wp4RaBBT26yDVOM8aQ2gRVbsTf7vqBnxmF4oYZXvMfXLxXy+DV2aHzP9otacsH1I6jOjaXQKVHpvyrv46qtCCnhWEGo+8NF28J7gvhqac/5MLYBGcK8vS4+KSy67Grfc9Lt4UTAjKfc9a5iDzuc7l190q+6TXzT2PvSjAIsjAG4PL8FwI3nhuzkU7jaDFJ4GJ+Jvb33Cd13W4xecW3OB+Ay5ZewkuXXMprrW9Ck/6PIg3/V7ER/7vYl3QZ/AIWQe/MFuEKUZZbJTOc4LlR2m4E07Qe4IhCYU50SgtiEN5cQKqy5JRX5Um3gc0ijqa86VyRV9niYQp0MDn3/rmdDwceS+SSnxRXZosFS5qK1LQUpctHgIEEjS4We1i3w6dwc23ijSuBGBsbcZOQozREq0nKxpu9OToV45te867RtCiJ+QuRIe7yznTG4NwY2NvFbZsrJfjNLXNMyJeD0W8NrxGNNTV6/dDBBbUREKLG6c8LdCAkOLTpkwJw7h56gu47e1XcO+8t3HDK0/hBZfVsuyDX8zB3bOn4Y73XsOzdstl2v2LPsCDn8+R5Zns854Pp+P3V/4djyz7CDOSfHDxTdfiMfMFuP7lJzEj0RuPrfpUlr/lzRfxssc62cYTaxdr0EKTSTHvxXB/LVKSIiRp53oba/1vMAsgxMbGKs/fXQIvtDY5mwYtTmHjw2ZeXp7+pvLzC1YMjT1GRoimc1+qIcnQkPaGQWz4531G0CJ2wVIEBsYjIaEAhYXNaGzcOFqVQEvAqen4pY41wi4m4swuGzAyvGnMmYVVSo4DGorMESHlTicgEee5LJ63lNBUDHpWU7EvNg61WJmyBdbW7ggKSkBWVhVqa/uktCxz1ajeUP39++DgoEsUxjc9pzKr+XhokdpsHM6yPL4Xq/3SBVLpPC12ilfC0aAFc4n84sLfIKXz3/prc8s/H8WMRRby+Ya7HsA7i3WfKYad/PRn/088Kfg/oQU9IlhilXlHmNRUXZb6f//zSz20oK6+5W68+fFK/f/PTpuHx155Rz6zyshPf/Zz/fJTPvhMvG7UZSkVWug8LXbCtmifHlosJ7TI3IcVvqlY4LYAtsG28I3xxXr39Xhjxht48+03scr8S4ES9JhgSEdaUuAYMFGQHaXznFCMnYriRIETqvcEQxLaG3N1XgrtRZKDgnBC3vgP6N74M7yDXhM08Gk4NnZloLwlHhvaitDRlCehHvRcYN6KTYM1igHeKEamobHNvxSnqRBjIkSDjfvisdFT4VDy7UbQojx4qlRdoAcJgQzhBs9j15YWWd/Uds+01OukXjdeQw1anBy0IFi49rlHcc/ctyVxJ0Mynnc2x1VPPiCf30sLxF/vvQ0LW7Lx89//RjwmnrZZikvuuAkLmjLxh6suw6L2XPGgIPhgboyrn3pQv/2/33cnXvG2xOz8CAEPL7mvE0+NR1bMF3DBZTRooem7xDG/ebAeGanRCAn2GVNxhC+IY2Ji0N3dLTmgtDa5mgYtTnE7dOgQvL299TdUenqRZpxOQhmGhrTF5xqHhlx3Pfwc/BAWloq0tHKUl3dKEkVdAk4tNETT8UuFFnzzTw+Aqqpe2BYYhwysTNsGy4hyuCY3ILBoAJE0ZFtZAvPfYij+0MCFavjS04NeFr6Ve4y9LBSZ+RbCQblXIyLSJe8Mq/t0d+/WVw9hH5SVNeu/0yMjI0+pS6ohtGBOi8rOzUbHvCJzD8z9MiQ/hW9et4R3MPxFTbzK8zeEFottQ3DxXy8fc30een6ahO3wMz0jWCFGnccQI+YpYbUV/k9o8ciL03HvYy/hgecUg7f5gH5Z6ufjoMU1t9yj7NtJ/z/DQ+4fBRPsF3pXMJSI1U0efuEtzFnpol9WljEI6Qmv3oE1oxVz1JwWS7MPwsIjAj4+PoiLi0NWVhZ8fX3xwQcfiNxdrFGcF6vzmChKQGVJEqrLUsaEdTBXQkdTviTD1MEJek8wNKJCck0wZIP5E1Q4wTf+fNtPbwkajKo4jVCCyw73VWKwp0JE74otilG5U1mPy6kGt2poq0b3RIv7oNHGYxrekI//Rv9yDLD434gfIylomQAdhoa0NebK+fI46cVgCARMaVtPMXrLIrBPuQ57tzRiqC5Jpu/aWK1Mj5R523pLsGOwQj6r2j1Sa7Stk9F4w+aHIp77REGL2QWREurxzPqluOi6KyVZJ0ul3jJNBxQ+rknBH665HB8r03924a/E+4LeFAwlYbjHRddfpd8WNR5a/OP+u/BeWoB8ZujJw8s+woNffIjbZryCG199RqZr0ELT8Ypjf+twA3IyYxEa7At7e1v97zJfJmRmZorH++HDh0d/TbV2rjcNWpyG1tnZKUljdDeSLZqbNxoZIprObdGY0YeGfG42BlhQZY8/I+7mMTHZyM2tRW1tvxic/f1aAk5NJyaOFY43GtHd3btQXz+E6MJ+YwM8/1usSuqDbVwNPLPaxeCMadgjb8uZiPJMe1zoQlYOmZw30aLRqwMW3yK+5SCCqvdinYlSsSszdmG1lRc8PMKQkJCP0tI2CcHRwcUj1X0CA8P1D0enMjSETYUWzJO0b98+9AwMK0b7N2OOe4XS12YhZZLA0iuzfdSz5oCEwfDc2c+G0GKlVzJ+84c/yTVRr9HdDz+P1+Z8KZ+vvvlu/bKUe2oLzv/JTxBdt0u37KMvSMnadYHZUpXkM/tQ/bKUKWgxZ4Wz/v9XPvhMDy2oL52icI+yzRdmzMcbc5cbQRCegxrS41dBT5PRsa6cN6uHLM/aC3sXT4SGhgqwqKioQHBwMObPn49PPvkEMZG+AiXo8cAkjgzpoHFHMEGvAkIFNVcCPSG2DNUJnKDBQ2NfDUdQAYXqfWD4pp/i/zT0uQyTQxJuyHYUcTu7lW1w3fHA4lSK++E+eSxbGv3GAAvqYNivER7siLSkAAljoUcIvUcYpsLj/K5jbE1zQ+z8RzBYE4+tG4qQte5tWac+2gr59rNR5PIxKnyXYLA2AYVOHyF67gModvsU27qLTG5P04lpIqHFPz9+R3JVMB/FpXfdjDnFMQItLntIuX8LozDFzwZXPfWgeFNcfMt1eCfZTyqRvJ8ZLN4Xf775WplG+PFBbhjezwjC3/55m+xrcUceLrnzJqlgwn1xH7+/8h/KPqLxlMXnuPb5x8Sb4+Gl8yTshJ/V41J1vNCitDAeLfU54hGlQYvJL94D20caUZCTIJ4X69cfCRthiH5JSYnyfD4gZcO1dm43DVqchsZydcxyq95EfOBl5nlTBommc0/qm28JDWkeQdfDjxlBi4SPPlP6PQGJiYUoLm6R0BAanOrbWw1aaDoRcczQiNbltdiM4tIO2OcZhw3QqFuT3AeHpCZJpBiqGLMxDXt14EINFeGb+DMAL2wUA9s+tsLkvImSeFeMvqVP7vhGgAUTWVoXHTK+Vorxu9InV3ng8ZTQkIyMClRX96CjY2wSzs7ObbC01GUxZ9UQwoRT3fgbwgeuAwcOKMcwAq/yvcbHnzwEy9ACSYAZWDyEmNGKMQyH4fn/4+obMX3BarkuzHPy+z/9BQ6xVXKN6Ilz6RXXwtwnVea//uEy/OupKYhr2ifrzvzSDlfddJcsS910z8MCGPj5/S9s8FdlXSZ9Te/5X9knQ0nUhKocY39X9v32wrX6fiG0uOPBp2V9+X/mYsxe4SThJszN4ZLUoB+TXCbNIKTHttigWs5oiIh5/AZ4eHggPj5eKne1t7cjPDwcn3/+Ob788kvlYTZOoAS9HdSQjiNgoh6bhmvQP1QucGLz5lqMbKoWDYyUY3BTOXZtb8HeHa3oHSnBju2NeuAwXiq4oGgo0fBXtWe7zruCOl3AguK+VIN2Z9lnRtBiIOQWRIa6IistBLUVqejpKMHW4TpZ53iOs0kxiFOWvYxcm/cx3JyBlKUvYe+WBkR8cDc2tWZh12AloubejxFl3rYNhQiZcQv2bq7HQeU6mNqephMT+2eioMXdc6ZJBZHpcZ6458O3ZB6hxV9uu0HCRe5fOBMve1rIso+vWYTHzD9Vtuugz3Px8JJ5eMxsgYSATPG1kYSezINBgEHQwMogrGKiVgHhPCb4fHz1QtkfvS8eX7UQD3w2WyCIelyqvgtaPJ6uK3lanB8rFXOYfJbeTbu36u49U9dP0+QR74Wtw43ISIuWhJ1Wo7/TrOTo6uqK2tpa5Xd8o7wE0Nq52TRocZoa35DxoUq9gbKySjVDdRKIfagzIEdDQxRDp/vysaEhnddciwBbLwkNSU8vR0VFl0FoiJaAU9OJSwVlNKZZMrempg8JeZ1Yl2dcCWOlYtStTR2EY2o7fHI3ILR8kyRfTFAMeBryNEr18GLUqPwu0finoStlLhWDkoYy3/AThgQWD8r/rilN8Mhog1tqsyRP5H5Z3YIlMoOUZRziqzFvlbtsyz29RdZh2ApzcHA9eoOY2vdxSTF0Ve8KbkdXWvUAAqr3wbr4sBi746/T8ugurLFwhbt7KGJjc1BUpMs7o4OLR0K40tIK9QCa9eJPRyO0+Pe//y3hhlu3bkVu07DR8a/M/xqrI6rhEFsp/RxetU08Fuhd4p2zATff+whem/2FeLgQBLz96Vq8s8hC+nCxbTAeffkdGQ+8fsyLwbwSrDDCfnnq9VlY4aGDEKz6cfejz+O56R9JfgmGbDz0wjRMnbdCPDxckutx1U13Yp65G2Ib9kriTebLeH3uUhl33AYBxX1Pv4qwyq3S/0+8+j7uevhZPPTcNJlOrwsegwALZUwQsPFc/Cp3w2x83yn/W/olS7Uuelk0NDQo36tDiIiIwLJly7BixQrU12SPSeBIj4c9eq+JVgxtqoRtxXLl2tYhvNEZpT2xiGx2hUftOoQ1O2HjlkrEtXrBpWY1UjsCjmrIczoNfUN4YSh13neBgImSejz0ENk8WIN9uVOMoEV98POIjfCUkq0MlWEiUXplHO/baUKLqqCVSDd/A40EGEtfwo6BcoS9ezsO7GyTZRI/ewb9lTHYvbEaITNuNdqGpu8v9jHH1kRAC4KCD4tjxHuC8zjteUcz3P7OFCkxOrc8Xu8BwfVYEeTDkiPLLm7PlXU/5PrKZ07jvrjNT+rTpboIpS5PqMF5BBicvqDhyDJMBMplDHVMaFHugsfTnBAf7Y3C3GhJmNvdVoTh/mq593mfn85770TF41Lv18km9dxMnfepEPe1sb8GiXFh8PP1EJuLv9cWFhYSQtjS0oItW7ac0rBOrZ2apkGL09h4ozDOijcPw0QaGwdMGiSazm7RcFFhBQ1HggddaMhOtJvbjAEWVNVDj0nVkOhoXWgIDUxdaMh+/dtbU/vRpOloUscfjWnCMpY+LS1tR2B2D1bnmfAiyP8Ga9K3wC6tG16KARtcOizGK5NzMrkhjUKBF4qhfzzwgjkOpn1shrlmbmLovv+lLaZ88LkAhyUuMZg23wwzl9hKYsdZyxyxLjBH8hU8P/1jeZvPeTSGCS2sw4vw8szFeOK1mQgpG8YLMz6RUpvfK3TEAFao3hXcTkT9AfhU7se6wq+Nr42iFckjWGnjDwcHX4SGJiMzs1K8LFjdhx5UKlykZ5Srqw4+W1lZYfPmzaPf7qe28eHqP//5D7766iupSd/V0zfW42BUZunbYBVVKaCIcCGqbpecv2VwnoRr8C/hEq8VK3+4K8stcY6CfXS5PsmmKgIJls1d4ZEoFUlUrwjHuCpYheaLfLK7ZBrHkVNCDTwyWmEdVqifT7BlG1mq/9+/sE+W98vvkf8Jq1iqlaCCyT69le05JdaKVwdLqQqwUI6TxxZetxeWJjxkzJVzdnbzUr5fo8UNWM0ez1wjZmZmMDc3R1dr8ZjkjYYAgdq5owm3Rd6A0EZH3BF5Ewp7ovFK6tN4IeUJrC3/DH2bS3FV6GX4OP8duNasNvmgrOpYxseZeHjnubIsKENfDqcYJ+HMD/oACTHekoiUeQBYZpVGHsNcjudYCS2qQ1ahpyQMyUteEGixb1sz4hY8hg0FQegrj0LCwiexVTE6NWgx8VL7eCKgxXgRULziZSUeFCqEOJM6KrQod8F5Zc54LMUBqREWqE9djpqiCBnP9LbYNFiryyVjEJpFmbqep1vsPx7L/p1HwssIDOmZxT49Z6UcP89Dre7D8zud330U99nTUY6YqCB4erjoXzbQUzIsLEx+K05lEm2tTXzToMVpbHRJSk1N1d84rCbCt3imjBJNZ6fEWFQMRRVW0GgksOjp2Y3W1i3oevYlI2iRMms+AgLiwBj5wsImSey3YQOrEWj5LH7oGhg+iKjGTAyNHEZD3xAy2ypR0d2FSGUaVdc7gLaBrcrnDCQ0F2Bo+JB+XRWa6YDZDtTXDyCvoAmemX1YpYILus/nfaOL+8/9Ciuy9sI6rQ/OWb3yJptvxukFEd98EIntXxvDi1FDdbxYCvO12V8qBm0Cwiq3wCpEebid+ZliiBaIcfyFQwTsYyrwiYUvHBVjdv46H7inNeOdRZayXb7VV6HFB0vs8N4XNnjvc2sxtl+d9Tm+dIrU5084Lskb+bGwIrHtMGKaDsC/ej8cSw+YTLpJrUjehJWO0bCx8YC/fyySk4skl0VT08hoAk7d/c77tLa2W//9zTf7p+tNzfi8FnRxTa3dCHNTeUySB2AXVwuv7A6dVw3zmBBMMY/JWZiA9Y15y/Hiuwvk2Pg/Yck/n3gZS11jdV4yyrFH1ev6UJ/LQn++38AyMFP5LfVDWlqacg/Uy7XhNYqKisKqVauwevVq9HaWywPz0cQH3IAGW1wfdhVeS3sOB5RpU1KfxrtZryG40UGgxvTMl7G4cBbyuyONHo7Hy9Q+KFPLnkpxnzQYaLBt7K3Av2N+bwQtEoNWIpnJC4vipYTrpoFqgRxc73iOubsoBO1Z3jigLM/8FeW+X8r0lhRnFDl/jBL3TwVqcFsMC8mxetdoG5q+v9Q+pqE44dCiPVfyWjCfhalwjdMtk9BCgIWiEic8mmiHltBncCjqYvSmvofu/LXorItX7v8SgXbMb8GxzWulJplVYaKpa3uqxf1y/wSqNPJ5bLxXJRfOSL1UJTpXxeNnngmez66tuipEHKdn4nrz+rY05CMizB8uzg7633C+RC4sLJTfDHozau3sbxq0OM2ND1OG1USSk3MV4+OrMYaMprNT6tvtjT17MBCfh/72rRLiQfDEN7KNZR3ovu76McBiw5VXItDSGcHBSUpfF6OkhMbQsJbPQpNow+Au3Bv1API66rGiyAqf5i7HmhJ73Bv9IGZkzEFiSyFsyjzxbOIrmJu9CL1DR3LhqONRzW3B8qdVVT3IzKqBW0YfVufsF1ixLOcQlmYdwBcZu7AkY6+ifTBL2wq79F545PRK/oOIqm1i3Aq8UIxEw7ARUwCDxjChBMtYsswm4cTnDuFY458hb+YX2gTpoMRqD3mb/qGZq0CL12YvkXCE979YL4Bj1jJ7rPJNwyqfVAlpSO74FpYh+Zhr7iZhJOr+jMRjUSReFaOwggaueFa0HZY3/yG1++FZsR9rxLviKMAiaSNWOMfByspd+V6ORFxcHgoKGgUAMexG9YZS79Pw8Hj9dzcN5NPVCC0MQ0S2bduGjq5uuJTsMT4vetUkdcMxqVGuIaFSTOPeI+BCuVZnE7iwCM7Dc9Pnyfigpw7HxeOvvi/wgscc3bAfbuX7TUIn86R+OLu6i1dFcXGxJL3mteE1oucFgcWaNWsw0F1p8mHWUDt3NuG3vr9GYruv/E9o8V7WawhqsseOHY1oGsrEnNy3cFf0LUbrnq2icUDjbPumRmzsyMD/RfxoDLD4d/hPERHsICVgK0uTpETr5qHjT8JJ7WNy0a2N8plQglVB+Jnr0rNi11CVAA3dtA75X11X08mL1/lUQQtDfdqcKWEcpuYdTYvacmS98ftY2JIl+Sv0y3XkjZl/NB0dWjjjvCJHvBC/EgfDfytjm2P9m+g/YiTzHQyUWKK3MV4Sc7IKEHPZ7NrShN2j8OJMGdMqsGjZVIvY/kLE9OQjakMuwjtzEN6RjbD2LEWZ55h4zFly/BFdOejoq5C8Ijs268o883xP93VWxf6uLE1HWIgvbGx0yToZOsKQkba2Nq1E6jnQNGhxBhpdkpjRljeMlZU1qqu7xhgyms5O0WihATOoGIg9L76KHntvdGZUSHWB+vpB1AXEjQEWVONtd8DDPQQhIclISSlFeXaNuPKrb3A1aKHpy4I1eDP1PdwecQ8y2irxWb4ZHox9HM5VAajt7cfTCS9hTvZC5LTXGo0VgWgck1JJZLcytjahrKwDqemVcE1ug3nqFnyRtgvT47PxbJQnPorrxOKkrfg8dSeWZuzGuvRhOGYPwrNgWEJGCC+i63dL/oeE1sOSC0LvfTEKMKjYxn1Y7hYneSmY0+BLx0i4JNULyGAYyCqfNERUb5PEigxDIcjg/FdnfSHhCJHVO8Q4XeoSg2RlH2v8M6USBUMWuC63kaLsU2/cmoAUFJfXeVV8JcdBAzew5gC8KztQbloAAP/0SURBVHS5K47mXUHDfkVcL1Y6RMDa2h1eXpGIiclBXl4damp60d6+dUxYCK87vaNsbHThffz+Pt1upYQWqrcFH674dqigvhtWhcZhIsxvsS65F06pbZJTIqxiy1mTgHW8CFCYGHS5ewKWucZK3pOYet2xhtfvh3u5aS8Zs8ydsFb6zd/fXxJdEyIxlwWvDcvDEloQWLC/hnqPz1C+OeJaVPUny+cZma+IZwVzWGzcWgmfeisENNrh/ti7jdY7W0WjiG84tw03YHO9xxhgQe0Ku2RMEk6+kTZMwmlqm5rOjGjojRf7iAY3+5hv6Zm3hODpjgrT0GJqqBOesV2GV7ws8WaEC171X495ZfEmAcF4vZPsi1d9bUzOO5qkZKqzuUASw+lziqLxzPpl8pnw4iXPdWPmH01HhRalTjivwB4Wcc8ajfH/U/Tv6N9ia+Yb2Fhmgf7GKKkYRM8LegTQE4CQztATgOL1NdUPEyVuX4VNThuycEm1jyJv/KXKC3+mKieBlPNIaEpHv4To1EjYmfrdcqqv77G0fVMT0lOi4OPtJr8PlLW1tfyO9Pf3Syim1s7OptzVWjvdjW/N8vPz9clhPDx80NW1fYwxounsEo0W9a023752L1uH7iuvRNfUGWjyiUJZTh3qFi03ghb5z74EH1svJK+xR6GFEyrDUiW5H/NfaOEhmqiG3kFcGvA3PJ/0mowFQotrQ28UT4uirhZ4VIfhucQp4onRv3H/mHXHjks1TGQQhYXNiI8vgFlYAl6I8MVffO7Ej90vwMOBazE/ogefxm7E58nbsSRzP1bkHMTanN1wzB2Be+FmBJQMi5EbVbNT732hAgwCAlMQg6IRLG/wDWVgnDL043PHiDHTxshgPW5HDygogRT/EUjB/RuCCnpVhNXtg3/VfriV7cPawq+PDisUrUjfiRWRrTC39sX69V7w9Y1CbGwucnPrJI8Fw7yYJ4TJdVUvC17rlJQ8/QMOw/xOdzP0tiAwYd6GDd3diC0fwJoCE+Vb87/F2oxNcEzfIB4XoWWbdKFATMCq9KXah2ccXqh9LRDqP3JsPMaQ2gNwKD1oui9z9gvY8vD01FcM2bBhg1wTXhteI4aHqNBiY1+1yYfX8VpX/hl6N5fI58BGOywunC3qGFb6vmwxPsl/D0U90Ubrna2icaC+gd9R9rmRQdcXejtiIjyQmxGOhuoMMebo1k0Djuua2qamUy9DKKGKBq4qvq2m9kr+A11YAUMfNvZVoaO5ALcfBVoQVvz1nttw3YuP4zHzBbh56gt4zX/9GDCgelMwnwU9JdTPr/hY4YpH/6WbPi6/halprBDySV0a/nr3LZiR4H1kurLND0ti8KuLL5L/mYzz9hlT9PMpw33rpUxb2JyN+XWpmFUQeQRajIaGnJdvi+ToG428iVQRXvwn6lfYkf48NpauxWBdAPo7izHcVymeAAxlMAwdUQHGqTKuuV32IUsjr2lPGdNfk0k+JVForsuS8tKs2MRrzGt7JqEFdWBXJzpbSxAR7g97O93LCIpVRhobG+W3RGtnX1PuZq2dicaEaoGBgfobJTY2VR6SDQ0STWePjhiHh+QNbGdqKbqvvlrARNett6Fq6Vo0P/GsMbR45kVkvPU+Wu66Fy0PPIJSxTiqqxuURJzj3+Sa2q+mH4Yejn0C9hU+8pnQ4sn4FxDakIL63kEJEXGvCsHPvf4Hzf2bjNbl2KFxPTBAb4td4smTX9KIdXFOeMLnOfzU/ec4z/080a88LsFU32R8FNKJhXHD+CJtN5ZlH5SykfQ+WJV/CHY5W+CavxmexVsRULpFKjxE1ewQgBHbtA8JeojxFZI6vpHqFDqQ8e9RQ3gUaIyDGlw/QtmO4bQxUtcZLdFpCCgITARStB4SiBLTuA+htTpQ4V2xF3bFB7GqUDmHY8GK3MNYEduNld7ZWGvhBkdHv9FcMwXIy2vQAwudF9RBPbDg9e3u3gl7e0f5rmYcLMuOnommelvQk4ChhjyO5pY2BJVsxOqCr4zPO/9brM7eDfv0Hnhlb0CwspwkYG1kAtbDcm3PGLwYDysERB1W+nY/ApR+lSovpvoz9xDWhFfAxc1dKoQUFBRIkmteC14TXhteo9jYWP3v62DPDzMkgUaXWjlkb+5rRoZcQ8iziIvyQkF2pBgWQz0VEkpCo22j8v2zo78M+7Y0orsoWEI8tm4owOa2bOwcrERPcaiovzJWDJBt3UWS34LTtnbly7TuwmAc3NWOwZoEbO8tQX9VrMxnGAmriQxUx8lxcpucz89DtYmyHYr7NzyfH4J43VRIwX4gQKIhrZbOVfMe7NjUJH3F/AdbhmqlSgY9ZZrrsnFbuc8Yw9EwPOTmqc/jwS/mSHjI+5nBmB7rIZU6WMr0/fRAvBXjgdeD7PFeWiDejHAVDwtCA/699O5bMDM7BG9Fu+PdFD+ZPjMrBG/He+M9Zd0ZiT4y7d0Uf0yLdlO2FyTrqNDitQBbZbsBynLe+PWlf5ZpH1UlCUzh53kVCVIu9f2MYEyLcpPjVafzfx4Ty6u+GmBnBC1+lLceCyOnozfwBmwPuQT/G/Fjo/Gu6r9Rv8C+5H9iuGg5hqvs0d+aqnxHVEjoyER4X3A5VUebz+1x+4SE5i2JY/prMsk+3R9lhfFoa8zFcF+VhIlwXJ/I9TyVYjncvOwEBPh76l8kM1Enfz96enqk1LjWzp6m3MFaO1NtYGBA6vzzJrGwsERxcYORQaLp7JAKLRjSIfkDWjej87En9XCi+4or0X3lVWOABdV15ZXyt/Pa65C/3BK5ufWKcaRzPzcseapBix+2FuYtR3RTlnx2rQrC1NT3sKzQArkddVicvxKriu3F26JnaM+Y9VRgocK0js7tiCrLxJfJq3Gxz1/0sMJQ17u9jtm+Dfgksl+8LZjvYkXe12LgqoauGctn5h/C+rydcCnYAo+ibfAp3Yag8i1SSpMQg2/tmSshtmm/lKOk1wNhBg1PARrtXyOpg/pGDzfGS50ny3F5ZT2uz+1we9wuQQlDG8Jq90rJUt/KffAo24P1xQex+ju8KnT6Vpe7IrQO5lbesLFxl7KmYWEpkmeGXim1tX2SE8QUsOB1Tksr0BvAfLN/uhJwjm+G3haHDx+WSiL8HalraIJv8TBWm/K4UGSmGPo2GYNwyRmAf0E/wso3S2WR+KYDRvCCAOmUAQwVVJiAFQxJCqrZD4/yfaN5SIzPY2XOAayJqoWTqztCQ0ORnZ0tJU55DXgteE14bXiNkpKS9H3GRJymHlgns2gQ0OBiiVe6wh9KvdfIeCsMfh8JMT5SOYRGxZHKIe0o9/kCLclOGKpLQsTMuwRKVIeYoz7aCvVRVshaNx3Frp8gbcWryrxCNCc6ImHRU8hcM01Z90uBHKHv3IZNrZmyLAFFgeM8xC98UgBF0hfPIXX5K9g5WIHKwOVoy/DAtp5iZKyehiLnjySp52Btgslzm6xSjVlef4IKJjCkkcccDPQGoIt9T28xGjrTUdwai4zGIMTUeiCk0gH+ZbZwz1sHp7RVuLnUc4zhaAgtbnnzBdw583W8He+F2fmREnLxUXUSfvmnP+B5Z3OBAn+4+nK85LYGj69ehOtfflLAAaHF76/4O14LssPTVl/iuhcel+m3TX8JT6z7HK8F2OGqJ+6Xade/+ASeXPcZpvjZ4LeXXSrQ4uOaZFxyx014I9QRT6xZpIcWBCe//celo/vww4V/+RNe8bbCU5Zf4JpnHpHpzzvpyq6+Ge4i23g70ceEp4UdHoiwgI/rKqT7zkJ/yK3YHvYP/G/E+UbjXtX/Rf4E38Regi3Z72K4bB2G6v0x0EXviyoBQQRCau6L4wEYav/pKoHoZGpZdTn2Mb0PVjbFj+mvyaQ1sa7ISQ+VErQsp0yPINWTy9Q1PBPicfR3VyI6KgjOTrrQfcrBwQF1dXUCw7V2djTlztXamWp8AKVbK6me7gZxQnPzxjFGiaazQ0bQQjFwWsyMy5seTSUvvY7YyEzk5NRKskSuz+1oeS00Uc39I+ge2i2fOwa3o6qnR9Q9tAtN/cPyuX1gm355dTyqHha9vXtQ3twBl8JA/CvsYfzE4ycmgcXFzn/GbXYP4iPnTCwIbsZnSduwNEuXsFMPLcZLmW7OHAn5+2GXvx2uBVsFYniV7IBP+U74l+9AcOV2hFdvl7f4UbW7dECjfo94VxBs6ODGvrFq3KefJ8spy0fW7UFo7V4EVu+DXxUBxV54l++BR9lu2Bfvl9AP84Jje1ToxbwVScNYGdMBM6coWFq5wdk5AP7+cZK/IjOzSsrEMpymo2ObhISYAhY9Pbvku5nf0fSyGB4eHv0GPzNN9bbgGyA1TKSvrw/VtfXwLxqERf6+o1yPb7E6V+nDrCHFuBlCoLJseOUWqdLCEJtj5TAhaBgT+mMKSBjKYFk9pKBGQQX3wX1xn5I0tYYeM/tgUURvEdN9a5axHWsjKuDk6iHAIjMzEzU1NcrY79WHhfCa8NrwGjE+WX34pBuwqYfVySw+iNPI2rmlWcIGvk64wshoSw36Ulc5pFBXOYRwQ3Xf7szxRaHzR6iLskTKkhfRnukpQGKwJh7xnz6BgcoY2UeuzUwBFk3xdjK/wm+pAAdCi+C3bkSh0zyUei6WZTuyffTVQwg48u3noC7SQllnCVrT3KR8arblDCmPyhKqm9tzjM5rsorXh4bc4OYKZHeEKfeFFyIb3JR7wxH+levhVWYJ1+I1MM9diLlp0/Fy3JP4V8TtuDLw77jY54/4vedv8CunX+Au11twQ7FizBsYjuOhxfUvPYFn7VfgzUhXfZLMCy/5k3hcMDSDAIN/6QVx0fVXjQIFX1x61y3yeXFHnh46XHjJxfggN0xCPi5/6B79NFYe4Wc1PGRalCuueeZhmfZJfZqyjz/KZ+ao+M3fL5HPCxoy8Ou//ln2TU+Q313xd5n+pMVnuGvmG5ge5ynHMCanhQotCu3xULQ1fL3WIzjAERFBdsgOWYSBiHuwPeIq/CfiAqPxr4qhIzrvi7sxXLRMvC8GWlIw2F2uz32hho+YAhiqBFRsLsfebS26kqWjZT/VZdnHal9zms4LqhbLG+PG9Bf183wH/D7FBr9PW48/pNvhjxmKMu1H5XAWafSYlOO7oMTZ6DyWhtgiOd4PlSWJozlz6gXWGF6Ps0Xsq7LiNAQH+Sh2mYX8dtA+y8rKUp4Hzox3pdbGNuWO1dqZbHwrFBMTo3+4CggIExdv1TjRdPaIhgw9I/hGm54SdSml6L72OpOQwlCNd9yFkPVeiI3NQW5urXhatLWpnhYatNB0YuJY0XlX6PKrMEFkZFUGPkxdiF95XWgSVvzS7Ve43uUWvLN+Dlats8daa0+Ye6RhZUQLViYOYEXuITFqTRmLRhJPDIaSfC1v9i0LFEO4YDecC7fDrWg7PIp3wKNkJzxLdyoP2rvgXU7ths+o+Jkggn+9FHlSynKepbvgWrIbdsX7YVl4WLwoVhV8M+pJcZzHpmhF9j6siOvBysgWmDnFwEI5V4aC+PhEISIiHampJVIhpKqqW0JpmF+G97QpYEGlpxfpv5/pMnqmvCzUpnpb0DhnUs4DBw5IxQy6stbU1iGioF08ZExdG5HSf2tz9sAheyPcCjbBv3gYoRWbBTgdPYcJq46YDvsxKXW5cXlIVFDBfUTW75NytAzvsS46RtJUReYpG2ERkAFXN3epr68Ci+7ubmzduhX79++Xa6ECC16jnJwcfb+1NhaafEidzKJBQDdsuroP9Vbi3zG/NTLWYoMskZYYgArFoOhqLZQwErVyCL0ekr54XiBDW7q7eD/ELXhMQjtiPn5Iwke4nwKHuWiIXS/QIn7hE+JJQTihQgt6TrAMKiuHjIcWDBFJWfoS8u1mC7Soi1gnwIPT08xeQ034mjHnNJmlQouG/gx8lj8H14RcgYv8fo/f+vwav/D6OS7wuAA/cv+R8fe7myJXRc7n4ULHX8Ey/AvcUOg+xnAcDy3U8BBWD2HIBcEAQQPzRvDzb/72F/nLfBN/vOYK+UxoQS8Hfma+iV9fooMWhAxvhjtLaMhb0W4CHH596cVY2KrLSaFCCyb+vPrph2Qac1388mLT0OL3V/5DN70lG7+97K/ymR4YVz35IJ5YvQjP2i03kYhTMZaLHfFIvA5YxEZ6IjHWV4zllDgv5MeswkDUQ9geeS2+jfgfo/vAUP8XeT6+ib0YW7OnY6RsDUZqXDDYlibhIwIwNhoAjNEQEt5naijPvp5oHGhxwI6N5eKpQU8Zejup8IL9rEILTmeJ4WUNsWP6i7o0ah0esPkcD9kvxaMuZnjcYzWe8F6LJ30s8JSv5VkjHg+P63H3VfhNtr3ReXzmZ4k4pT9KC+LQ01Es14+w5myEFhSPaWSwDvGxIXB0sJXfD4aNMJyfv7G02bR25ppyl2rtTLedO3eOKYOalJQjBomhoaLpzIuGjM5QPIDOzu2oq+1H23MvmwQVqjqvvgaxcxfJ213GzhcUNOlzWtDg1MJDNJ2IOFZoWNPA7uvbi5rWXrgUBeLW0LtMPtCe734+rnK/Fs+6vQwbFw8Ji/D2joKfXwx8fWPg5RMLp8AsWCVswNrkjTBTDH5TRuNxidBDgIaqb8QrYlUB4QP11ah0MILzzEahxImCCSPRqyJlC1bGboBZUBlWr/eDlbUHnJz8BVaEh6cp36tF4ulUXt4p3hUEhwwH4f3M+9AUsOjp2Q1HRxf5XraxsVGW2Tj6rX1mmyG4YA4HGu0quKitrUVifh0c8raIh4zJ60UpfbQq7xDW526Di+Qw2Yyg0k0IH5fDRCBGy6EjYT+jIT+EEEYhPwQTIoNQHwnzOSjbiqrXedH4VO6Dc+l+CQM5FqxYmaeMl8QeqRLi6ekppU0ZEsJzJLDgOat5LJjxXQUWbEVFR2BTffUP5429KhoFNKR2bGrE4IYScYU3NM7+G3E+IoKdkJEShOqyZHS3F4mruqFBkbD4aaQunyKgguEcaStfk22Xei1GRcAydBeHImPVGxioiRdoUeg4T8JHit0WYO+WRoEWw03pSPzsGYy0ZKAyYDlSlr0kpVAJLXb0laEqcAWi5vxLoAVhBbe3IT8QebazUBW0wui8JqtUQ5bXv7EnAzNSpuCG4KtNgwpDGUCL5zwfRWyUJ64vMO1p8XqgHS5/+F7c/MZzEoJB3TvvbQEX//P73+DtOE+BBL/68x8lRwWhxa8vuRiz8sIl3OPPt1ynbMdBwjWuff4xWZZJNJ+2WYJX/WxkHU5j6MjzjiulWsmfb70eT65ZjA+LY3Dl4/djio+1VC2hpwVzX0wNd8Yv/vh7yZHxRrCDsu+LJE8GoQU9Pj7IDsWMJF/c8e5ryjbNJHxldmHUWGjBkqclTng02V6q4aQnKeMnKxxFudEoyouRnC3ZaUEoiLdCT/TT2BJ5M/ZF/OWoSTsp8b6I/Dm+ir8c23Le1QGMaicMtqYYAAwm8GwQMEiIQUCxoy8b/4n7E/ZWfYlNHcmSa2TLxlq5D+lhwD7m/aVCi5H+KiytN4YW/4hYKyEyz9mvwEvu6+T6MtcIw2umhjmdNdKNK3tM8bXG73Mcjc5jofdaRIW5oSQ/1uR3jKl74WzQ3h3tythJgrfXkQojDBdhOKIWLnLmmnJ3au1saKwv7+ioS/RGd6TS0uYxxoqmMy/1DTcNxg0bdkkVkDpLZ5OwQlX+0y/AwyUIYWGpSEsrl3KULEtJbxr1za4GLDR9lzhGaFCr0IzGdmJNARZlrMSFXr82+TD7J/c/426P+2DmtR5+/rEyBhkWkZRUrIzFMhFzOtADKCQ0FV5BabCLaYBlygDWJg/CPG0rVuaazpFwwhKgoUv2eUQnBypWZO3FioRBmMVugHl0G1Z5pMDCxht2dt5wcwuGv3LOkZEZco6EFQwFqavrR0vLZvGu0IVnHfGuMAUPMzNL9A8srEZxpr0sDJsKLmisq+BCDRXhg1V2YQXc8wZhk7v92GBAEQHTmvwDsM/dCtfRHCbeZTsQUL4doZXbEFm9HVG1O3VhP6MhPwzv0YX67B+VQciPskzUaKiPmofEq3wPXEv3wqLwMMy/q9+V4zFPHsK62EbYu/vDz88PcXFxUnWLpU0ZEkJgwXM2BSzYCDbUvisp1HkF/JBEo4Bvd2lUDbWlGRllh8Iv1JU7TTUod7rxiOs2t1EXaSnhG/xc4b8UrSnO8pk5KYpcP0GRy3w0xFhLss3ekjA0Jzlh90gtCp0+wu7hGuTZfoD92xUjPM4Wndk+KHFfiAKHOZJ4k3kvuAy3xeUILA4qhhyhB7fL/Bddef7685nsogGnqybRLPkUNnQWwbfABjf6X2Py+12vUWhxscsf4RqwRgzE6/LHGo4qtHjeaRWufe5R3PT6s7hnzjTc8d5reHLtZ3jRdTWuffZRPLF2sUCHG6c8rUxbgwWNmQInCBPu+XC6VBy575P3cOv0lwQ4cNm5pXG464M3ZFtMtMlp76YGyDL3L/wAj6yYL+uyuggN8NtmTBFviVunvYjnHFbikWUfyb7l8/KP5fgIU+gFws8EHM8py9/8xvO47e2X8ff77pR8G3powXMc9bZ4LFXnZZGXGYGK4gTJo9BYkymVcarLU1BaEIvcjDDkJLqhJmYeRiLvwvaIa/BNxC+M7o/x+m/k/8PXcX/D9py3RgGGA4ZaEiWEhDkwRgaqBWQQaBxOvhn/F3kBdue8jqE6P6mcQXjB0sP0zlC9Mgg6jgYtLouykOvEBKmvhzhIgtR3knzk2hIynS3iOKCXzbRod/wxX+mHceexwGuNfM8U58cYQQtT98HZJN6T7c1FCA321YeLWFlZCTjftGnT6C+N1k5nU+5GrZ0NjQ9bxcXF+vwWTk4uysP18JgHaE1nVkcMR11ei9bWzajKqMSGG28yCSwabrsD3qvslAfuWMTH5ysP3A3Kg3S/VjlE0wmJY0QHy3TJNhs7NsKzOBwPRDyG8z3ON3qI/Zn7/8ON7rdipud8ePlHiJdBQkIhsrKqJOkkPQ2YV4Xi56KiFuVHuEaM+6ioTAQGJ8PDPxEOwfmwimvHuqR+rFYMSLOMnScOMfK/xYq8byTR5/LcrxQdHpXyWZmmSwCqAgwT66vifHqBJG+CWVw3zGO7YB5YitWOEbC09YWdnQ9cXILEqyI0NFlATGpqmSS+LS/vGIUVm6QkLHNXMA/IeO+K8fchw26cnFzl+5g13Jns8Wxq/M0YDy4YKkJwMTg4KBU1SkrLEJddCefcjbDI2WH62o4TvWToocEyqtb5e+BUsA1uRdvgUbwdniU74FW2U0J+fEQM+dkjGhPyU7YLbqOhPusK6V2jhvmY3qehzNM2Y3VcG2y8IuDh5SXhICwxW1paKufEfuA58lzHAwtDaMESqCq0YE1+Uw+lk1kqtGASx+GGECMjbFfYX8TAzUkPE+Ouv6tUluU6qkHBEA9K97lNoIK6fYIKAgn1bSnnqcvu39GqzO/Qz5d5yrT92yllGudxmdF1OZ3bk+0o0/Zvb9avy2mTXXLOyjUiMGJFEBq4Tc1Z8My1wKsRzxh9x4+R23m4wPUnmOnxBkIDnY4JLRimMSs3HB9VJGBBQ7qEcCxuz9OFhRynmM9CypuOmZYvkMFwGpfhsobTZLqynOTRGDf9WLrysful4sh76UG4b8H7eMHZHPPKxkGLMhc8nuYkiWWLcmNkTDNPC0MSCOQ2tBWhrSFHppcXxeu8LxSDOz/OAhuin8WWyFuwN+IS/N8xqo6o+m/kzySB546s1zFcugqbKm2wsc4X3c2paG/Mxaasd2U5enLsS74LA6Xr0dWSh8HuCvHOUKuTsAIMgYcpaHF5jBVedF0lCU6Zy+P9jCDMLojAnJIYfFgaK7DoTIvHMac4WjxxCDAuKhrr4UMRWkSEuorHy7kGLVRt2dgg4SIO9kfCRYKDg8Wzkd6OWjt9TbkDtXa2NCYRi46O1j9oBQVFyBt5wwdpTWdWNGxo6DC0g8n7WHWg5bW3jIAFw0KiZ38CD49wedvLpH8VFV1iOBkm/NOAhaZjSQfJDiuG2gEZN5n1lYrxbo0/+Fxk8gH2z+6X4hGPp2Dv44OQkGTExeUhI6MSxcUtUtKzqWlY8rEQnFEMkeA0wjQa9/n5jbJ8YmKBAIygoER4+8XD1TcJtqGlsIptw7qkPqxJ7MPqxH6sShqEGT0yCBQIHwwNUAEWX2NZzmEpq7o0cz+WZOxTtFc+L80+IPNW5H6lW5dgIk/5nLELK5OHsTK+Vwco4jZgVUwHVodUYo1HEizt/LHezgeOjv7K/RUqoS6hoSmIickW8EIAQxBTWblBwkAIF1VYoQsFOXRMWEFxWmJitv67mGEJNIzPtmYILtQcF0xIyUoaTBxGDz56HOTmFyI0owr22cNYl7PTuK+OqSPhPrqQnyPhPiyzqob8MNxHF/IzGu7D/jS5PRPidtO3KOOqCzb+iXB195QYYlZqycvLk/wVPBeeE8MpeY7jc1gYAgu2LVu26PsvKiLA5MPoZBaNAhrB9J7YXONkZHiNhCq/UeHuyMsMR2NNhmT2p1eGIbTQdGpFWMFrLcBie6uEF4wMViOp1hershbiUr8/H1d4yI2uV8Pb2woRIa6Ij/bCDYVjjcdb4u3werC9GL8zs0IVgzMW82tTJK/FwpYsLGrNOav1+KqFEp7yvP1K/PPjdzCXhntxDG7MMTjPchc8nu4suSwYitBUmyXAgklomexyk3JdWR2HAKO9KU88MKpKk8SYzskIRXaiG6pi5mM46m5si7gOhyOMc8CY0v9GXoB/R/8WB5Jux6acD9CbuwxDqdPGLPNV7CXoz1+GjvpkgYPMHcNSp4SELDO8pC5mTH9Rl8da42XPdZIv5N20AMwpjMZHlYnSb0xk+kl9+lmgNHxckyIlaWflR+JPxWNzqVDiaaGMy3MZWlD8XizITYC3l+5FBsXqj62trfJbpLXT05Q7SmtnU9uxYwe8vLxGb4p1kt+CBu74h2pNZ0Y0ZmjssE8IlBobFYPPyc8IWhQ++xI8XAIRHJyElJRixWhsRUPDkLil0wA1NJpM7UfTD1vqONOFg+xHR9d2+JfF4rmYKZKQbfyD6wXuF+B695sxx2shfANiFCM7Uxl3peLdQ+O9qWmjQLbubhru+2UMUvTcoDFPo761dYsyRjcK3GAYE5NVZmZWCwiIi8tFeHi6QAxfv1h4eEfD2TMa9p7xsAnIgWVEDdbFd2FdYg/WJPRgdVw3VhE2RLXD2TkXrrZpcLVOhptlPFysEvBlcD2WhjVieUQLzJRlzAklYruwOqoFawIKsc49HpYOwbBxCICdo78AClfXYHh6RojnUkhIkkCVhIR8pKWVSvhHURG9SLoEwDQJnNkm3hL0itJ5VhyBFd917zU3D8Haer18D9vZ2YnnwtnaxoMLwu9Dhw5J3C2TVPb308ukBRUVFcjMyUdwRjUcsgZgkzmM1Tl7jAHCcWkUSghsUkVIcQKgQpFZ5k6sVsbMuvg2rA9KhbuXr8AKJjxlxvby8nI5doa88Fz27t0r52ZYJcQUsGAj2FAfLn193E0+iE5mqdCCpTK3lpuNMaKo3tA7ERPhgfysSMXAyxQ3d8bd03X9h+LhcKZkCCvUMAECo7L2OHiUrcNd4bfgJya86EzpQtdfYYnbXIQGOiIhxhvpyYG4qdhjjOF4dZIdngyzxbNxLngx3QdT8oPxemkE3qyIxpuVMZhWFXvW67WiULxWEIKp5ZF4ozgcU/KCcGXu2HCEJzJckBTnK0kfm+uy0b+hDJuHmE+iCTu3NEk5X3o6DPdXybwNrYVoqc9GXWUqyka9L7JSApAXZ43W6KnYFHU7tkZcj4MRvz9m/gtD/Tfyp/g28kLJiWE4/T+Rv8BQ5ix0VoWilzClt1JCQwgLv6yJ1nmLGJzLFbHWeMXbEtOi3TAzO1TCYQgKPm3OEg+Zs0WsOMPcJ/S6uLhk7LijJgu0oHjftjUxXMQHFhbr5LeFua6qq6vl90Zrp74pd5PWzrbW3t4uCV94QzBcpKCgRjNuT0C8VqdSOmPykBh7NPSqFMOw65bb9MCi+c67EWTlgoCAeHnTnZdXd9SKIRMtU9dD07kl9iONazUchMk2bQu88feAy00+tP7R/SLc5/EwbBTDTPWuyMqqRkmJLocDxygBG2EFt2louPMzx6OubOpeyZVBDwx6JxBg1NT0CQggdMvLaxCPIVbfYFLZ6OhsqcZBgBAYGA9f32h4eUfC3TMCLm5hcHINgaOdH6rufQCNt96FpptuR8v1N6H+5tuwcrUTVlu4wtLaE+vtfOHgFABnlyDJReHpGQZvZTuEE0FBCeJFQW8lhnwkJhZJLg56UxCqME8FoQzPs6lpWO6xI14VhDOmw0COda8MDh5EcHCU3uBlpQpTRvHZ1MaDC2Y4V8NFVK8LurI2NTUJCMjMzkFsSha8UmphlzkIqwwdwKAnhSm4oNcoqJBwH33Iz6iOJ9xHmWeeuQurk/uxLqkL1qF5cPIMgLePrzKOQsSzgrCCpcB5rDxm1buC5/LVV1/JuX0XsGDjfMYfsw/p1mvqIXQyi0YBjQPmR9hR/PEYA4pqC3lE4v8LsqMUAy9L3vjyTb8GLU6dDGEFr7MuRKARjd0ZCKiyw5TEp/Fzr5+b/J6n/sdt7LwfKXrG9WEE+NgiLsoTWanByFcM71tKPMcYjr/Jd8KlmQ64NNsJf8t1xt/zXfH3Ajf8o9BDp6JzQ5epx1vgrpyDGy4sNg0tSgriBEYMdJdLiU19HglFe5R7ggCDXg6bBmpk3NMj44j3RbJ4auRmhCMz2Re5cevRGD0dI1F3YmvEDTgQcdFxA4zx+t+In2BrynPoLnVBZ0u+eH10txXi86pIXTJRA3BxRZwNpvhY4a0YdykpSy+LBU2ZUm1lUUeehN6cafE4FrZmSzWXueXx+HPp2HFHTSZooWrLUD1iooNgba37feHvTGFhIfbs2TP666O1U9WUO0lrZ1vjQxjzW6gPXLa29spDea/JB2xNOtEIMTTEjogGy8RK565/UAwjGkk1Nb1onDFLgEXXNdcibeFSMeL4Jjgjo0J5AG+XpJ2dnTvECD1iSE2UjpyvapiZukaazn6p45eGMyFCTkMtFmeY4RdevxzzsEr92P3HUhlkhudsePtHCkBITi4RuFBZ2a0YfQwP2C7b4fYMx4ehjtw3h2U5emCoAIMAgGOcyWPpKUSIUVW1QTwxGIJBcEAvB+bLYKLZlJQSJCYWCjjh+Cdw6L7qKj3QozZcfjnsbdzh4hIoOSjojaSDErkgDKFnB71E0tMrBL4wL0VhYZOAE+bgoCdIbe2A3FNMqql6VPB+PHJ/GXtVUKau+XgxCTJjVvnd6+rqKm/3z5WmggsVXtAj4fDhw+J1QS8+AgBW3WhublbGSKWEXqSkZSA8IRMeKbWwT++FTcYgLNOHsCZjM8xz9uoghAAHXbgPAcWy7ENYmnVAF+ajany4j7KsWfYerEobwZrkPqxL6oFFQhtsI4rg7BsOb19/BAUFSUhkSkqKHAuBCmEFj5HHymPmsY/3rlCBxXc1Nzdd5nf25z7FUDT1ADoZReNYrU7Akoq782cYGVD1Ic8phq4XCnOixcBjAkHmU1DDQzRwMXEyBSuY12BDXyEial0wO30aLvT+ldF3vKoL3H+Cq9wuw+Mu94+Zfon7n+DkaY7ocDdkpgSLsc0ElLeWeRsZjz8EPRC9DoEOS1GcF436skQ0F0Zg20gDtvSUoKc0Aj1lEdgxUIEt3cXoKgpDR2EIWvODMNKrS6apel+0Su6LdCkFXKwY20zemZnkh+w4O9RHv4fhyLvEA2NfxMX4b8QFRvfWsUTgsTf+FvQUWaK1PkPybCwuD5PqJ8zLoYKLKwktfK0xPdZDckZ8XJUkXhaSK8RE3g9VzDXBKjGs3MK8Jer0Wblhkih1WqQLFhvkJGEpW3U6Q1Eodd53icfB8rcMM2KIyJ/LfhjQguI9nJwYDjtbG/mNsbCwUJ73MzRwcYqbchdp7WxsfEBLSEiQm4Hy8vJXHs63mHzI/qGLxggNFIIA1ejiW1YaMCwLeSqkc6nfKW+kCS0q3YLRoxhj1a+8gYiQRDHCWGKRXhY69/zhUff83YpBSOPK9HZPXPuUc6V07v6Gb9KP10jTdPqkGs+qMW1oUPOzLhyE1UF2IbIqE6/FTzcZDnKh+29wp8e9MPOyUYz+RDH4Ccho2DM8QuddoZbz1Hn2qPv6rmM6ci/pPDB4Lx2BGDtlHLe1bRFgwHFNmFFXNyBAg0CBuVsI6ljel+ElHbfdPgZaUAH23uJFoR43QUtJSZtAiaqqbvFM4nkwJwXhRHPziNxrBCgEMazew3uQx3XEo8I0qDB1zkcTS5y6u/voH0Lo9nmuNdX7QAUX9ExgzK0aMsIklgQCrMDR1tam9F2dJLnMyclBSmoqYhJSEBqbAu+YHDgn1sI2rRs2ab2wTO3FuqRuOHqVwMk5D872mXBenwZXm2SsCG/EyugWrIptw9r4DlgkdsEqqQPro8rgGJQEN78wePsHIyAwEOHh4RL+weSa3Cf3zWPgsfCYeGw8RhVW8NiP17tifKP3hvobunmo3uTD52SSoXG8V3IkMNFfJXbnTDUynqqDXxFoQZf45pp0DHZk699Kc31uSwMXJy9DWMFwHb7lHxgoR1y9F5bmfoRLAy42+n5XxXwWf/e4BA943AVzj0+V76a1+Im7LmzkZ+4/xVzv6ZLHIi0pACWKUcgqMDS2b6/wMTIefwi6xXkOzKbciYwoF5SkeCPZcha2DtWiPHAFilwXoMjtE9SErZZKNYVOHyP20ydQ7LkYW/vKBCLpvS96K8QLgt4QBHpM3kkYRBgiACPZD7lxNqiJno3+qIewOfIWbIu4BvvC/4T/ho8tLXw0fRVzKfpyv0RTRQwWFgfjvCIHqYDy3dBiNLlpV4FJsZrHPx68B7dMe0lAgjqdFUhYsvZf898V7wh1+nMOK/C7y/8mlVse+vJDKVerzvtOCbTI/UFCC4qANzs9Fk6OdvpnhvT0dOzevXv0F0hrE92Uu0drZ2vjG76AgAD9Q1d4eLw8VJt62P6higYJDZWewQNo6t2Jug3bUNO5GVXtI6hs24iK1iFUtEy8ypoHUdrYj8K6bmSXtyAloxTlTz6FKI8gBESnIzguE1GpRUjKq5b5BbXdKGnsk/XKTWzv+6qydaNynsOo7dgkhpyhJ8fRjFRNZ0bqWB1UjGv2jypOk+mDh8QAb+4YgWdJGG4LvdtkErZL3f+OlzymwtU3GGFhaRIykZtbh4qKzlGPnqN7V5g6LlXqMqpU45/bIBDg9lSIwXFGaEBx3BFmcL/0eiAwIWQgdGD4RvtDjxlBiwgLJ6lqwgofrGjCSiY6z4lNAiYIRnRwYqfAEhVQ6MY3AZ0OUqjXTz1Ww+M3dY7HEtdJSyvQf98yt8K5nGDrWPCCpUIZNsJklUNDQ8o17lb6rVXKiTL3RVFRkZR1S0tLQ0JiIqJj4xAWGYOA0EgUP/cyqu97FHV3P4D6O/6JplvuhIONIxxcveHq6Qdv3wAEBAYjNDQUERERAigI4LktbpPbpkcF98V9ct88Bh4Lw0B4bKZgxfF6Vxi25ORkfX9uaC81+eA5GaQChv07O3Ru8NtbJU8Ck3DSRX5X1hQjo6kycIrktChNc0J/3lIMNEaJwUbQoXlbnLx4/SgVVkh5y43VSG30h2XRF7g6+LJjJtn8o/vvcIfnTVjsMxv+/usRFuSMiBAX/NZDV+L6Xt/bEBHugtSEABTlRqOuMg1tjbmiR6oC8LsKd/ym3A2/LnPFhaWKSlzwq0kqnhvP8e7178Fi+gPw/WIqihPcELdiKja25SH0g3uwpTNPFDnrXmzrLsJgTQKi5z6AnUNV0kcsNyv9tLVZQnaY+4JlTOmBNB5gVJYkoiQ/RpLY0sMlU9lXbvRaVEW8h57Qf2FX2CVG99t4/W/E+dgTdyMa893xSb4/ziuwx3mlo94WJwEtKJasfdZ2mdH0i2+6Bu8k+42ZRm+Jn/z8Z7r/lc9PWX85Zv4x9QOHFhSBZHFBMpyd7OV3hl59/K3j76vWJr4pd4/WzubGhzl3d3f9zZCSki8P66Yeun9oUg0rXo/07iF81lyGhQ3FWFBXiPk1+fi4OhcfVeXgo8pToWzMK8/Eh6UZmKV8Yb2fFYs53uvxVnwwpsUGyt8ZqZF4PzsOswpTZLl55VnKF3u2iW2dhKpyMV85z6U1xWL00WikgUfDjsbc9zHeNE282A+q8Z/UVIxe8QKih4wuKSY9IuiBU9LchtW59viT35+NHmLPdz8f17rfiPleX8A/IE5ySqSnl0uYhlSxadmsGIC63BXcj6Ehb+qYvktcz1Dq9ngeDCXRQYMjMEP1cNJ5ZewSbwweV9tLrxlBi7hlFuKNxLASemYQcqi5KAyvC7fL7ev2NRZQqOdmKFPncbxqbR2Bra3ujYmtra1yLD2j38LndjMFL9SwEeaJIBwnLCA02Lhxo3L9+5S+6BKg0NjYCFbuMAQZHffcY9Sfocr1oldDTEyMhHrQg4LL04uCYSjcBrfFbXLb3Af3pYIKHgOPhcd0NFhxosCCjXHGKrSoqcwy+dA5GUS4QCNg/0gRDnb5YddQoXhN0OW9u60IOzJeMDKaKgNeRGHYxxiKfRSHYv6OjoZUScZp6G2hgYsT1xhYMQqPNm+sRVZLMJxKzHF72I3HTLJ5ofuvcIvndXjP+3X4BFpLhZfEWB+kJQUiQzGQr/K9DH/0/j1cY9cgKzVE3v7XVqZKec8+xbimgW3TkKA8/0RgdmkQ3ivww/QcL0zL9MDUDHdMTXfD1LRJIp6Lck7TsjyVc/TGHIv3EGLxETznPI5s7+VIMHsTfbXJiJz7wOhY7kDUh/dhc1s2NrfnIOb/s3cVYHJUWTfrLLus/bsL6yzu7g6BCBACJAECURJCXAjRmfhMZjLu7u7u7u4uyczE3Qmydv46t6c6PTOdEIWZSb/vO193v7JX71V1vXvq3HvnvyDXt3r/EBqVkib2BQkMukypBAbjX2xvLUBrQ464dVSXJUkMjIKcSAlomxTni6gQR7T5PTXgflNxKvC32Bd0N3aGPYe6xJUozfLDwgxPjMiyOusicpmkxf0TX8cbVkYD6qm0mJ7gPaD+J9dfJ5lliAUV8QOWnxMG0kJw6kgLCnMTYG+niUVIW42EucFV5MoX5S4ylMFcOFGjj6+VlYbFMzU1UyaDVcoE/Su9E+9rCTRSaMTQuNlSXz7gz/KqghI+Bk7iQybXBiMyLTAi1QwjEk0xIsEEI5KUzzRz5UFkiRF5ynKVQe8XIfpK4Y+F7iKv59ttvqmm4agarpdrzBlweWD/cxw4HjTGX414HTm1dRLwknFONCqFQ0isKMSs+IW4zuX6ARPZXzj9Eo85PYPNrjYSbDMqKksxIMsktgTdM6hMoMFPA1817K+EIa+LXXW70ROWit1N+7GLKpGoTDnOzvo96Fbqu0OS0J1ZpRxfk/GECgy6jzRM/2SAkRu/eJXEvOA50BWEZJtGHaJx8ehPTuiejy70tfNSwPYGBkZoDVwa3jSWh1PRJS+If//730JekCQgWcDo53TJ4ESLRMKBAwewd+9epe93Kf2zQ8gGPotaRo0aMJ4JyvOJfZadnS0EBcmJtrY2ISdIvHMf3Bf3yX3zGDwWj6kSFWwL29SfqCAutTDziDqmqUnheiecQx2q0UVj6+T2KHyT8jROF36Cw5UW2FXlgYaKRByIHzPAeNruez9OBv1Bshz0xIwXtwIaFVRbUCpPo1tj6BlIiwuBavhqyApNRpB9uyqRXh8Ix8LNeC70MfzM5WcD/ttV/NzpOtzrfAfedR0LB+9NQlbERXkiLTFADD66J5Tmx+L5gCcwN2oK8rM18Ss4biQsqKihYc0YJj0dRcpY5qGuKhXlRfFiVFONQVegrNRgZKYMD/BceE6MO8HsHyEmnyLJdS1yAs0QuGgU4jd8iH0dBYhYNBIdBUHoLAxC5KJXcKSnVEta6I6fim8jMHiP7OwslvSlbY25aKzOUMYhWWlDNEpi1uFfQdf1ude+Vn7v978Z3QH3o9x/ApKDNyM5TqOQKVLavSjTSzNX1Ilr8V2SFj/++XUYbbJCMLcwcsDyc8JAWmhB4qI4PwkO9jbyvCFxwRgXVA4aypUryh1lKIO9cALHN0ZqYE4rKxtlot+qd/J9rYAGCw0ZGoI0djbWlAz4s7zq4MOFPogqccGHToaFgm0aEoNyPy1h0Tcy9JXG7/NckJBQoE2tSlm9QW0xOMD+V8m1goYmXOd6PdakmKCqqksZK8Zs6EFQQSLGhr2NH+p5A/dHp5sw2vkt2Hv4iksFA1UyBgRjP2gUCocVo/KE1uBXDXx9bbkc7IzMQOfTz6HHyQ+7d5zC9hdHynG6LFywY+ZcdC1eie0zPsWu+j2iiuB9SfVH/eJVA4zclFkLJC0rs4AwFgYJHBIH3O5qExT9wX1nZpYqkwwT+X9l8E0GgByupT95QUWDLoHBrCMkEuiioavEIOlAEqJt0qQB45lmYiJZVqjIYPYrpohVVRQkKFQlBffJffMYukTFlVBV6CscR5W08PF21TvZHOo4ayxrAm+eKpyH/wX/EP8J+xVOxz+GrrRFOBr5YB8jivhfkCYDwr+Df4qiWBORvDfXZUoqRsrjDS4iFwZdA1clK/bvrkJWQzBcikzwUthTyn/+dQP+11UwyOadzrdgtOuLsPQyQkiggygrUhP9kZcVLqQD03c212aipS4LxqmLUFgWJWlqG6rTJHAkXRhoDHLcSDgd2lMtv5lSs7ujSJOloilPVDdcn0qB4QCeC8+J2T+ogCgMtUBVshv2dBYjeetMFPutw0nlvqgMMUW+yzIUKKgON5Nr+mBnPnJs5+kdU5W8UO8tdXx1CQz2NWNg7O3uzUCi9G+jMi5Hoh6R+4ruH8eD/oLdgfdKpp5E76UI87dAVJgrUhL8FCM+DKWFsahQxndJjg9G5Fw9pYXqEqJLWjDjx+yMIPlOpYW6LrOULCy/QLWFgbToA14vJYXJsO11FWGMi6ysLHnmGcqVKQbSYogUTu5iYmKEvdNMrF1QW9utdxJ+LYCGBo0bvlnmG931lYUD/iyvOkRt0UtckJggQUHyggGV+J0PIC5TCYurSFr8LtcJwcGJkpKSmSP45poyewNp8f1Dl1zblKlMTJSJ6qN+TyIntxa5uXVwTPPH4/5PD5jM0t/5Vqc7MN15Lty9wxAamoqkpMJed5CzwTY15FRfY19fOy4XPSFJ2D52HLaPn4hdFdvR+fCj2KMcs/OxJ7AzqQi76dox+k30hCbLdcfrT+JbrDMfYORmfTAdQUFJcr0yeCeVIiQtvo/rtba2R4hg/q+amZmJUuBaKKeVydSXlZVCEHxZV4dv9u3Df77+GqdycnAiORknUlPxlWL0k1wg2UDygcRFx2xNpqQ+42lsLC4hFRUVynXe2SeQpi5BQbePc5EUV5KsUAuPY2nZ6/KzzRzHFQNG32RzKEM1rGhQMcjjvk5lXGPvPktOKMbTf0J+qv3dH/sDb0NClCcKsiMlawINsIOK0WsgLc4P1ZjVVVYwU0VuYyjcirfitYjncf15yIofKv/v/3T+O15wfRJbPJcjKMAO0WHuSI73RU5GGMoK44SsaGvMkawWPZ0lQig1t2aJgd6pGOp8008XIMYuIVnBmAya+AyauCZ082G7eF0c2kPU4ODu4QWeE+Ow8Bz3d5Xg0M5yOfeDXcU43F2iGafDTTi0vRCHdhTi9BHNf8Cpw4041FU0YFz7QyUv1PuMOEtgaGJgHFTGffeOMuzPX4FvIm7C8aiHsCfyOZSEzkdckBkigp0lFSvJipz0UJQWxKKmPFnuN8bJWFYQ0PuCi/PFyyMtFpTF4taXn8bzyz8RsuKDIHs8MWcyPs2PkICbbzlskvrXLdditOkKfJwWgB/97KdSRzAg59QYd737HgADaTEAvE7yc+KVOYWFPHdMTU0lhTeffYZy+UV5ahnKUCmUGTHyOm8EwtPTXzFOr82MIjRs1LfXlNYbV+QP+LP8ofLn/5NcW/yUyLO7elCPkWPTD1fn2D9R0P9cf5vtCA+PMMTG5qCgoFExFveKkay+udbXhwZ8N2D/8zplzIang1+QCetPnX8Gj5hQbIi0xC2etw+Y0P7U6ae43/ERrHbZIlk2IiMzJP6DrjuIxp2irzuIvuNfKZC02DFvKboWrUD3VjshLXYrx+648y7sVtrEdbZ/MA3dbsHSJpIQdFWqtXIbYOTmj3sXgYEJktaU2XWamvZ/L6QF44j4+Jz9TyUxTKP6Wihdzz2HPdOm4T/HjuHAmjU4nZmJr+rqsPv99+X3nqlTcSI6Wgx/Eg505SAZsX358gHjmavUZWRkKNdmtXKtd0n0dBIW3E6XoLjaJIW+ovvM7O4o1TvRHMpQjSkaUTTe6B6wp9Qc/wm9QS9J0R+Fvh8gNsJD3A0oc9eQFgalhT7oGq4askITs4JkRV5TODxKzPB65Mv4petAFz8VP1DwN+c/4UmXh7DaYz78/Kwli0tSrI+4OlDxUluRiraGbHS1F4orAuOMqEa6vN3vqcCe7nLFAKwQgolt4HjRmFbHTG2nCgZp5fLhib7nSrAPVOgby0uB7j7V4/D4NMIP7KrEydyp2J+9AHW57sjLCEZ6ciDSkwJlXAtzIlFelIC6ylS01GcL6UTyiaTU5yXBvSqL3hdcypzuUkmLj9P88dDkt/D8Z7Mx1mINXvj8U4w1WyXxKu4e9ypGrl8i9U/OnYL3lGvvXXcz3D76Bakba74aj0yfgFnpgXr3PQAG0kIveD1mpkULUc7nDl+G0GXyu3jeDfeiPLUMZSgV+gR7enpqJ2HMKNLefljvhHw4Q5e0oLTcqDxvwJ/lr1IUgzBwE24N3oLbQ01xR7gZ7ozcpkGUBe6MvkKI4v7OA33bXCy4H6Xdd0SY45ZIswHn+pssBzg4+CI8PA05ObWShcFAWnz/UK9Tqg6yq2txncvPtZPX17zewO9d/9hnQktc7/gLPOP4Ira5ukj8iujobMkOUlLCmAK7hPzQuFJcfrDNi4GQFnOXYldeA7a/Pl6jtFDqt0/8EN1Wbhr3kdffws70Ci1pQcVPjXfEACO37MWRcm7MHsI0pwza+V0rg9hviYk5WvWai4vLNZWqbMfjj2P/ggU4HhyM/cuX43RaGo5YWOCgsbFMrk5ERGDPRx/JdxI5lLjS3WOH0lf9x7Nw3jxRWpC0oGsIVRlffvmlbNefqPiuCwOCqs/LkoIkvZPMoQzVgKIRTeN1b3cFOptycDjpTb0khS7OBP4SoV6bJHYCYwI012bJm3vdmBb6jnmtQe1jGqhCVvRmA2HMisyGYLgXm2Fc1Ku4we2XA/7PdfEX55vwmMv9WOIxE96+FogIcUFCjDcyU4NRlBstb9+ZpWJHW4G8uSdBwePQJYHHJLTqCWWM+EkDkG1i29hGtlVt87WM/mN4paEeR3vv7anCvs5cdDbni9sOs4yUFyegsiRBXHmaajPFjYXuOhxbupWQeKJaZkV56FmVxWWSFksb0oVE0AVTnC6tTxtQv6wpA0tqUwbUf9asHEPPvgfAQFqcE3TXS04Ig6mpxu3Uzs5Omd/s7H0qGcqlFuXJZShDrdCv2NnZWW4ETrijo1MVA+GE3on5cIUuaUHDaG1Z7oA/y7+GbsGoLZ9h7LbVGGe7AW+7bBFWeYKnOSZ6bcNE76GDCV58gJnjHTdTjHbdPOBcf51lD2trDwQHJyErq1piHTAwo4G0+H7B65TkAt041qVt6zOB1Zfu7jeOv8Wr9q/D1sVbMerjEROTI+PJYJVUz9AViplGvgt3kP7YmV6ObhsP7FGO17XRQggMqY/Px455y7Bj2Rp0bbIU9YUuoViVUDjAyG144EH4+cZIfI7CwiYtycbz+q7Op7y8DWZmmjchdCHgm5Brqex47DGcKS3FrkmTsGfmTCEtDivPk8Pm5rL8dHIydk+YIEQD1RIkIUjqdCmTr/7jWTJtGlJTUyWNKZUWJC3oFsLtvg+iQrcwC4xKWkRHBuidYA510HiSN76KQcu38nQnaC0NwFcR50+92OT9BAJ8bCQrRVlRfK9RUaHNHvJdGH+DGapR2p+s2LOzHCl1fnAu3IJXw587r7KC+JPzH4WsWOgxHZ6+24SsiI/2QkZyEApzoiQLRVOtxu2DcSgY7PGwkBV099CoCdR2qG2hskIlK9Tlw3W8usujcGRnGY7uKkd7rj++ONoqGUD2KUbzwe0FSp0f2nP80FMRI+szyGZbti868vwldsXJg/Wa7ZRlO4rDxFWksyBYWR6AE/tr0ZEfiJ6qOFm+qyYBR7qLlb5sRndZpOyX+2LwTrU9ulDvPY7VgV3VQvqRiGCsDYKKCgZJ3aWMqyhjdlfL2JJ0okKHyqaVFWF9CAvicmJafGcwkBbnBa+J0BAf7fPH11e5jgypUC+rKE8uQxlqhZPAuro62Nrayo1gYmKKlJR8MY70Tc6HI/qTFmtKcwb8Wf4t3BRjzFfhLfuNmOC5De8H2uHDcCd8FOWCKVGumBLtNnSgtJcPr8khDhgXaDXgXH+daacYXm4SqDEzs8pAWgwSsO/FeG85iKcCNa4h58If7G/EOJsJsHHwhI9PNKiwYMDN8vJOUSJ0dDB+xXfnDtIfu7tPY7fSBvm+/QR2Nx88u6ztiGQVIWHB3+p5UxVSWdqO9jvv6mPktt9yC/xdg4WUyc9vEAWJer1+F+fFdrm6ahRrJH6ZypOKgGupkLT475kzOLBqlXwnaXE6NVVDYGRkiIvIUTs7LWlBEoJkRLcy8dIdS6J8wgSJlM6YFsw0QnJjsJAWDABKv2KOtbOj3bA07FTjmoYsjSEaSC112ehOX4z/niOexX+CfoQ4t7kIDXSUTAw15SnoaisUQ4qT7eFsBH8b1P5UCQIqHRgzYVdPGRJqvWFfsAHPhTyOn58nZgVxk/Mf8IjLfZjr8RE8fM0QHqwhK+g2wIwelSWJaKzJkFSlmtgUlb2xKaie0BAR6jiobToXhvNY5VjPRVu2Dzpy/SVl6dFdFRJUszHFGSU+RsjY9jHynZYgZdNkHO4uRnngRsSvHi+/q0JNcaS7BCGfPC1kRsqmD7GzOgHpW6cjfs3bOLqzDOELXkTqlik4trsCuQ6L0FkQJKRI6uYPkafsN89xMfYov/W1TR0XUVvs07gKiftOl0ZJQaKCdRxXGuuMt8Gx5afcq9tLsKoyfEDMMwNpMTywp7sSHm5OWuIiISFBYjwZyqUVA2kxRAsn2EVFRbCw0AR74RvD3NxKxVjQGA3DHQNIi5KBpMXfI7fiTZt18sc/OdQB0+K9MDPVH7OUB8DsrGDMzg4ZOsgKwsfpgZiR5IsJsa4DzpWkhYWFq8QJyMjoS1p818atARqo1yjdHnLENeT8b+Pus34I86yWw8bFUzJrMEhlcXGbqBD0pTPVd8zBAraR7aUyhDE4Wp57cYChG25qJ6lbc3LqlHV2or39iBCv3FbfPq8U2K6oqCTtJMLb21viNVxrhWTF/775Bl+3tGDf/Pn4qrYW//vqKxy2tMTBtWvFTeTfhw71IS2YBaQnLm7AWFa/+iqSkpJQVlYGBuLk2yQqMwYDacHjOzlpJo2M5n54b53eyeVQB40AGtk0CGj88m1vfXk8jkY/oZe0OOT/Z/i4myM2wl2CcFK+Lq4hiuFFA+xaMSp0oUtWHFf6gIoTGpbdXcWIqXGHVZ4RHg96ED9z+ane/3AVf3T6PyErPvGYDDefrQgPdhYXHJIV+Upf02WA8UP4Fp7BNfftrJBAmSQreFxd5YQuGaH+1gfd8xhuqI2yRIn3WhR7rET8qrewvTAYsSvexN6mNIR88hT21KdIsM1Eo3fRmuWDMr91yLSYjTyHRSj2XoPDyvgFTHsY2VZzUBawQfqrJtJCyAjuP2TO08i0/ASNiU7ItpknCowy//WSXYREBxUb+9tzBrSL4L6018xBzTUj7jsKxH1nf53EPtFVzBAqyUFlzeqqiAFzOgNpMXzQXJ8Hu96MIiTQ+dLZUC6tGEiLIVzoL0w/YjUVqoWFJQoLlT/B3cP/zfqFkBb/iDLDW46b8J6/DabGesgf/9yCSMxX/vwXlMVhQfkQgtLmeUXRmJMbhg9SfQacq4G0GHxgv6uuIRszNFlDzofrHa/HPx1uw0TXj7AxxAopmaWorOxCS8vAdKD6jjeYoCEtNOdOFUXDex8NMHTjl61FeHi6qEkqK7sldSsJhatJWvC/MSurXPvmnWo1uttdi4UEBQ16wZdf4n//+Y+mnjEozpw5+1tZTpKcb4eYEWRXWdmAsWx65BEkJiaipKREGfN2STXKGBiDgbRgiY2NlfEmmmpz9U4shzpU44nGEA1tBuRsbchGc64Nvg77vwGkRZHXOAT52SE1wR8VxfHib0+DgoYzjavhbgirUPuN4HkzEwgNTWalaNuei/AqZ2zNWYkHAu7CT5x/ove/W8VNThplxcfu78HVx1RLVqQlkayIUPo5AQ3VGUpf50o2EL6F53F4vP6BNK+V/r8Q7KpNQvLGD5C0fhLqYm1Q5L4CEQtfxsmDDQia8SgOdOTJelRWNKe6CmkRt2ocIha9IqoJkhb+Ux5Qtn8PlaEmsm4f0uKTp9BdEY2kdZNEcUHSotDtcyFK+D1p3UTUx9tr26MLdazU64fgPUiSoj9Roa5LsJ6ZRy6KtKhNkTgUy5uzsLyFpMH3DKUdyxo1MTQMpMW5wfHOz47H1t74FkyrzqDWhnLxxUBaDPHCiWRcXJy8QeLNwNR9JSXNw95QvSDSItocb7uY4INgB8xM9sXcgggsrIiXP1gy1ucCiY1P88P1LlMxtzAKc/LOv87FYrHyQPowzAkzlLYOWK4sW1SVKDm0P8oOHHCuBtJi8IHGN6/PltZDeDb4Zb2TXF1c53QdbnW5A495PI0ZwfOQnFssBj/VCtwPr/ehMpZsJ689XoNUitQtXTPA0M2YOhuhoSlIT69Aefl2IWd4nleTtGAcCwsLzRsPRvQuKCgYFEb1YC8kLZgJhBmsdnd1oePOO/uMZfvttyMxOlpSu7W2tkrAaGYPIbE+GPqXsTZU0oLB0fRNLIcDVGOI7h30ne9uL5K0iruSpuB/wT/UEhZfB12PCC9jRIW5SXpNpl3kupqsIdeGawjPTzU0aWSqmUCYoaO6LRkB5bZYnTEPt/vdjB87/0jvfzbBbCAMsPmoy/2Y4/5RP7IiAPlZvWRFVTo6FKOtp0NDVvA4BrLiwsCYFNGfjRFSgWlLoz8bjQzzmbIsy2I2KoI2S+wJKi1216cIaVHkvhLFnqtQ6mskMSwCpj8icSviVr2Jfc2ZyHdcIu4fx/dWCWnBY+TaLxT3ExIVrVneSDOZitZMLyFDSHL0b5cKddw4hv2hLtMdV36/INLCbavMCWelB2CeMvdbXJ0kQTWpbqDi4nuH0o4l9akyN51bGIk/FRhIi3OB93lwoJf2OcRMZXymGsrFFQNpMQwKJ4eRkZHaKPh2do6oqGjXO2kfLrgQ0uLmmG14x9UUk8McJRc1//Q/Vv78X7dYixmJPvhM+dMl+If7hpURpkS5SeTlycH2kgpKXa4PfJBM9LHAMmV95rZmgM85OaF4P9AWszOD9W6jguvpq+fD6KVV8/DsoukDlsnDoS4VCyriMSUvZMC5amJaGEiLwQL1+qRCIremHte7/kLvhPdnjtfhZsdb8aDzoxjlOg7GPmbwi4yVbCGlpR0SfFN1DRkqKgtCJS0YXLOhYR+qLV36GLlE0djxCApKEjeY0tJ2uY+vZtrThobdcHJyk/9I/lfy7bth0nBhRSUtGB9i717lmnzmmQHjmeLlhfz8fDQ3N2P//v3icsPc9IMhVgiznqiKRCdHW3kDqm9iOdShGk48PxrEzCRCBUVdSThORtypJS16Ah+RWBbJcb4ozo9Bcx2zhpRJylRdI1qf4aVC3/GHAth2npOWrDigISv276qUtKVepRaYlfgB/uT1R73BklVw2T+c/4InXB7EIo/p8PA1l5gVWmVFVgTKi+JRX5UuxhoDLnI8VLKCJImBrLhwlPoaozbWRvqJ8StaMjylfm9jKvIcF0ldXZxmeauyrCXdQ4Jwsp5xLujqwWWMd9Ge56/UL0Wu/QIhQehGcupwo7iZZFl+gt21iUJilPlvQIHLZ8ixW4DtRSED2qQLdQz741zrfhtpcWuEGd7hS7cQzUu3Ty/wpdt3jUXVSaJcpgr4pnwDaXE+MOW2vZ21PIeo9iTBbygXVwykxTAplO2GhITIzSATM2VyXlPTpXfyPhygGoXfSlqQqQ4nUx0obiEkG379tz/jkWnvQvwCFXwQZIff/P3PeGn1PGGyGbhzorcFltanYlaqPxZVJuBj5ZNkhPjwNaRhvOMmTPA0EzJh1Jbl+OtjD2BqjBueXjANzy35WNZj2qhZaf6YnuCl/LmnSN3sjEA8t2yWyP34m2moZiR6a34r638QbI/bXnkGn+aF4+MUP03qKe6LpIay7sKqREzNDx1wrkOdtGAbhxNIMKhG++ZM2z6T3eucfo5/Ot2OB50fw6vOr2O563rYe/lI5peYmFykp1dKGtCaml1oaVHTmw4d1xCC7eT9yXgevD+rQpIGGLk1Tz4jGVISE4tQXNx6VdOetrUdgp9fqPb/0d/fX1QDhnJhhcQDCQgSESQkOidOHDCemWZmkl60sbFRiA32L4mOwUBaUO2hpgrfsmUztrcW651UDlWoBpLGGFdJC2YSqRQFBYM9tmasw79Cf4n/Bf8AhaGLxLjOSg0RFUBbY66QFgf21CiGlCa9JhUXAsWwJ1TJO42t85Ea+tp3LpxS1t9zoEy2O3m0CXsPlOPo4XqpI44c1sQf2bm/FHsPVgzY/kKh9o2mf87GHpBAiD1lSK71hUuRiaQt/a37r/v8X/fHD51+iH86/w1PuT6Mzzw/gbfftj4BNhmzgn2qkhXdWrKiegBZofadvjYb0Bd0BSGxoPmuGL1KH6rLWH/iQK22L/lbu+6BOpw+olyzyqe6jPs6ofwmmCXkpGJEc1tC6pT1uS5/H99X27velRsn7utbSYtwM4x32izuzdPiNO7NJC6otqWryIKyQQC6LRdHa+araQG4MddpwHkYSIu+KMiN175gZjwtvnQ2lAsvBtJiGBW+TeJkXJ2Yu7v7KMbrTr2T+KEO1Sj6NtLiXXeSFs6YlaEhLcgK3/n6y7jp/ruwsCJBggk9u2Qmbn/teVFLLKpKwitGi/C20xZRYLxitFBSpr7lsBEvrporDw4y3SPXLZY6bk+i4ebnHsNnLVmi2OD+WT8zxQ8j1y/B6xZrMM52vdRx+Z8fuU9Srn7WnIVx9hvwpu06Oc4n2SESe4MECB9UrxgtwEcRLrId16UKhG2alh824FyHImnBdtEQZ/BYtlODLyQWApUFQxm8LklYMGvIsyGv4HqXX+BOj3vwmPvTGOP2Fla4b4Ktp7diSMciNDRVyIrU1DLF6KsXhQXdQuguwX1wf7zWhyJpwfSsPI/KnFq033ZbHyO35c674O8VKWlP8/M1aU+vxjXb1XUS0dEpyn+iZqLg6uqq1O/p/dc0lAspKmnBCRZdP7YvXtxnLIm85cuRlZWl/PfUKdfqLiHSBwtpwULXFfXZmJYcoXdCOVRAo0c1egkaQCQUSC7QKKZBzsCO+3ZWyhv+lvpsxZCOw57YMfgi5EYkx7ghJcFfDInK0kQ012ehq41pGcsk8wEDeZLwIA7srhKDm7EXqMRgFg3un7EvhNzoJTTYhv7G+LcZeicU49C5Ygsad2aiYHskguvsUbQ9GpalaxFQa4Pq7iTldxRsytbBq2Ybjh9p0Lufc0HtJ03/qH1TJ24wzZ1ZCK90gmXeWjwd/Aiud/25XpJCxU+cfozbnW/Gs66PYpXnPPj4WUrq0oQYkhVBEsy0oqQ3ZoWWrCg/L1nxbf1jwPAEx53XwvlIiz8mWOCRQFM8EWmFZ5Oc8EKGB17O9cEr+cq8Mt9/0ODlPD+8lOODF9Lc8au8vudAGEiLvuB/prtONpHy8vLeJ5ShXEgxkBbDrPANF9k79Ybw8QlSjIFdAybyQx2qUXTxpEUyHp7yLu5561W842aKheXxony4953REvSI5MDLaxeIYoIqh5fXzMcdY17Ep/kReHLOhxhpvEjIiZHrF+PJTz/UkhZ/e/IhYcEfmzkJz382W+on+VnhLYdNmJbghT/cdaumzscSt7z0lLDl84qi8LcnHhTGmqlZJ4c5CWnx+ztuwSc5IUJw3D9h7LAjLdgeVYlQ2nkQRe37UNC6G7lNO5HT2IPsxm5kN3Qhq2HHkEVm/XZk1HYgobwBD/i/guf838aSEDOYBvjCxi8Mtv4R8AiOB9OapqSUIEcx6ktK2iXTBhUHjGNB1cFQJCxUsM1M0coAm1WVXWh95LE+Rm67ghBrd8TEZAtZU1PDDCJHhbjitvr2ebEgIZaeXqwNvGlnZ6f8XzT1/lsayoUWKhUYn4LBNRlkc8e2bX3GkiiZPl0CQ9fU1Chj2COZRhhzicE4B0Mh2aJeBy5O9orRMHQmzaqBqxq8ukY4yQO6N5CkYGpFEg0kHkhAtLaVo6q+HIUVRUjLz0ZycgAKwxfAPzoWgXEJCEtNR2xuAVJLypFdWYO8mjoU1jWgpL4OZQ21qGysRk1TFRpbKtDZViIEyM7tJYqhVSYGOUkRkhokNM6SGRoig23sb6TrO685GZOxKnceJiW+AeuydbAr34D7gu7ExsJlyO0IU5Z/iFeinsGWos+Va692wD76o38/CZHT20fsm4LmSPiUWmJ52ie43fdm/MT5x3pJChXXO/0c97jcjpddn8Y6z8Xw87dGZKgrEmO8kZESpE1dqg2w2VGiVVbQKDWQFQb0B8ef18T5SAumQP1BHzgMeowg+p3HErdNCAlwQG6WgbRQUVuZBbNed0VHR0eD2uIiioG0GIalq6sL7u7uWuLC1zd42BEXl0takKC4681XJOYF41CopAUJgjFmK4W04PfRpivw1Lwp8v11y7VCXGi/65AWf3nkPgmgOXbbGtwzfpS4czDN6tRodwVuuOFPf5R1p0S54vZRz8v3D8McceeYF+U7CQmSISQtSGqwbkaSD/75/BPyfbiQFiphQTXF9u3HMbcmG9Mr0zG1IgUflibhg+KEXsTjg6K4IYv3C2PxXn4M3skOwSvJzhgX74PXI9wwJsQJo4McMSbUGQvDAxEbmyvjVVLSJuqK5uaDMm68rmm86xIWQ5G0IOlCAoaERNNbEwYYuvGfGSEiIgNZWTWoqrqyGUTYX8XFjTA316SF3qYY2sXFxYbAm5dQ2GckH5jG9OjRo+gKDBwwlpVvvIGUlBRUVlZix44dOHbsmKRJHSwZRNgG9blIeW5Xe6neCeVggmqAqwSArgFOooBG+K6uSrR21KCmpQEljU3Ir29Cdm0zUqtaEFbSCc/8HjhmdcEipROb41qxPrIOq8ObsTqiFWtjdmBd0l5sSjsMk6xjMMs5DovcE7DOOwr7vENwKdgPj4Ld8C/qQmypss/yemRU1SOnug5FtTWobqhAS3OJqDSEzOgqEyKDBjtdL4TEUIx2VYmha7ir51jRFY9HQu7DQ8H3YPeBMiEtngh9CD41lmjelQXLUiNMTn4LYQ1OOHFEI/nXB92+0lVVsJ+6uooQX+MJ5yITvBM9Bn/w+J1egkIXv3P6DR50uRtvuo2EufdqBAbYSeDSxFgfZKYGozA3ClWlieJ6w9SlajYQfTEr1HPWPW8Drl3wOuC1cV7SYphgmccWhAU5Sfac/qTFtXo/kDD39/XQ2mh8ZhrKhRUDaTEMCydnTDs3nIkLGiSXRFpUJeHhj97Bkppk3HjvHXhs1ntCBghpoaxLgmD01hV4av5UzXeTz7UEBpUPT8z+QL7T5eOJOZPlO2Ni0D2E3xfXpOC63/xK4k/c8vLTmOC1TSI///KmP8jyqTHuUs/v0xO88Y9nHgVTWJGwYGrTKcryW195RpYz+NI/ntXsdziRFhy37dtPKgb6AfyyeGDgpmGBInuMKLDDiHwbjMiywog0c4xINMWIBBOMiN8i35+KckRISLJi6JUJaaEJuqkYhF1n1RVDlbAg2HYSL7wOeT3WLV07wNDNeW+KuMeoGURI2vCe5vlf7jmXl7dLUGL+/zG7Eg1qqgUM5eKLSlqQhKCCoicnZ8BYNj71FJKSklBaWorOzk4cOXJESI7BQlqwMFCo+kzMSInSO6H8vqEa36oBrht/gUqKPcqkv6W9FqVNzcitb0FSdQeCSnfCufAQLPJOwCT3C2zM+QrG2d/AKOtrrM38CmvSv8Dq5JNYkXgEy+MO4LPY/fLJ36tTTshyrsf1jbP/dU6sz/4Km3O+wNack7DOOwyP/F0IK2pDclkdsiprUVJTgebGQuxoLcBOxYjf01UuxAqJAxItVGHoEhiqIf9a9PNYnK3JBqGSFt7VFmjelYnW3TmwKjXCLX5/R/vuvulqB/RVL6kjfbWrClVtSQgst8Xm7M/wSOB9+LnrdXoJChXMBPJn5xvxqOt9+Mj9bdh7b5CApTHh7kiO90VWWgiK8qJRXZaEptpMdLbkC1lDQ4znSLKCcUAMZIUB5wOvB5W0YGriNdXDl7RY4WOGaOX+IclHco+k5rVOWhCNNTkw7U2BSluNz1ZD+fZiIC2GaeEkkZFp+xIXIRJBX98Ef6hBNX4vlrT4KMoND334tgTcfGruFDy/fDYWVSbivgljhaBgFGTGrnhs1vvi7vHiik/x+OzJEguD6VMfnT5BAg/RheTRGRPl+xvWxqKeYMDNDyOcce+7Y4SEuPfdsbINg3/+9bH7xR3kk5xQ3DHmJUyJdsOS2lTc+/ZovOdvLbm4GQODcTLojkL3Ebb51pHPyvfhQlpoDNmzqTCHNWlRaIcRBbYYkWeDEdlWGJFpqcBCgyxLPBRtp9yfYaCLSF5eg4wZ3SOoQhnKZIUKtp1jTTcXZhCpchn4dr7qmecRFJQoLjLMINLYuP+KBOOsqtoOR0dX7X9fWFiYQYJ5GUUlLejuwVgVu5RnS8ftt/cZy7a77kJSVBSKiorQ1tY26NKesjCIqOoi4urioBgOg0eirBrgNGZEKaAa37ursWNHDapam1DQ0IKMmlYElO6GZf4JbM75EiQn9BEMgixd4uIMVqeewqrkE1iZfFw++VsIi4xewkJZX+9+vgUkM0xzTsIpby/CC5uQXFqDnMpqVNSWoL05H90dRVoVxqG9NO7rhYxRjfu56VNgXWYs/eBaZYpRMc8jqtEN9TvTEFLvICqLFyKfQF13qv6+OtggBiBjVVBVkVjrDbeirZiV+D7+5vUn/Mj5h3pJChU/dvoRbnH+O550fQjzPabBzdcUYUHOiI30kNgfOelhKCmIRU15smRa2d5SgJ3bSyX2x1myYiAZcy0bZQacG7wueK3wPqArkVFNlP55xDDAuiBrJMX6oqwoXshMkokkL6910oLPHk+Ps7EtDJlELqwYSIthXFTiws1Nk+aPYAT94UBc0KC5FNKCJMJo05WYXxyDj9P8JZvH3IJIUVeQfGAwTLp+MMbEtHgvSY861ny1EA7MQDLGbJVk9ZB15Ls/3rRZJ9uPd9oiWUd4HFFKKOu9umGpqCtIRvA342QwKCePxXVmZwThtc3LRMXBwKBvKstGmXwukZiZ3pSZSXjc4UVafCHGeW3trj6kxfW59vhDogX+kGSJPyZb4cZUa9yYZoOb0mxxU/oQA9udSljjphTlXHhOCRb4Qa4NRuTZYkS+Le6MsoKFhSv8/WMlCGdFxY5e94gvhjRZoUK9R5n9hKqairQytN9+Rx9Dt1X5HeQehoSEAhQWtlyRYJy1tT3Kf97ZfOgBAQHy1t9QLq8woCYDazIrCAOZdjz1VJ+xJNKdnbVpT/ft2zeo0p6ysB3q81BcRDq+fxcRTtx1DXC+haRhv1cxiOvaGpDf0Iqoim44FB4VFcW685EU+qBDXKzN+FLICxIV/ORvUVhkXjphMRDfYGP2lzDPOQaPvG7EFdchu0I5l9o8Sb9KBYYaoFLUF4qxH1hjh/TWQOmLvI5wfJ4zByty5yCl1R/+tTZYnDVTlBcnmBWit69EgSJ9VYv9iiFU0hID/zIbUVU8EfwgbjhHmmld3OD0S9zrcgdedH0Sqz3mw8dfE1yTmUCYtjQvMwJlhXGoq0xFa0O2YnQVYtcOkhVVclweXx9ZoW+cDTBABa8RXjM03nkt+TWm4M0yP4wq9MIrOa54IdMJz6U54JlU+yGJZxU8l+6AFzOd4arMf3MywuQeYnDag3uqDaRFLypL07TzFL5YMZRvLwbSYpgXEhctLS3Djri4VNKCeaWXNWnSiJI0GCoYjqQF4xzokhY3J9riFaf1eNVtM0Z7m2FsoBXeDLXFuAgHjIt0xFtDEOPC7QVvhNhgjJ8FfpRvp1FgKPhn1DYYG5vByclfsocw7SeNe7qHDCfSgvdoa+shVFbsQMvTzw0wdKM2WSrnn4O8PDUY5xG5Rnit6Nvv+cD/NS+vsxmUGJSYxrOhXH5RSQtt2tOpUweMZd7q1cjJyVHGoUEZjz2DKu2pWvLy8rTXR3JCmN7J5HcBTtj7kBX7mfGjBt1dNShvaUZmbRvcig72qin0kQPfDqOMMzBKPgqjxANYm7APa+P2YG3szl70wEiBfMbtVLALRvG7FeyBUcJeZZv9MEo6qGx/BEZpp2D8La4j5wJVGNtyjiI4vxHJJZUoqSxEa0MOutoKRRp/YFc1Dgt5cdatQjX+1T7S7ScaPFyfxk/HjjxEV7tLutIPYt/Cn73+iB9+i6riB04/wF+cb8IjLvcp84OxsPBe2ydehQTX1ElbynSwXe1FvW2tEvULVTBqsFHd9uobZwMM6A/1uibhxXt+1/ZSyfBTXhSP7LQQUSbERHhIwFeSaCr4e7BC285QF7mXRKUU74e8rDBUlSZJPAveQwzYy/NW7xt9/XOtgOmlraw0MbfMzc1x6tSp3qeUoZyrGEiLa6DoIy78/UMVw3bopkM1kBZ9z3U4KC3uSLDD2y6mmORrJaleGYiUSpg5uaGYkx+OT4cg5uSFSSYYqmWmxXnhx4X2GtcRBTdHbcOKFRtgY+OJ8PB0FBQ0KdfyfkkTOhxIC4Lj3a0TjLNhyqwBhm767IW9wTirUVnJYJyH5L6+WNKiqWmfELLqf5yHh4dyrfX0/gsayuUWEg9q2lNmENluYjJgLMs++kj5/8lQ7u1a5f95Z58MIoPJRYQTRF4jtrZWOLS3Tu+E8mqCk3XKg1U3ECorOrvqUNTUiriqLljnn8CGnAsnCYzSTsIo6ZCGcCD5QCIipgtG4c1YG1iOtb4FMPLOhZFXFow9M7DOKx3rPNOw3itN8+lNZGC9T6aCLKzzycE6v3ys8y+CcWAZjMMaYMygnfG7YBy/G8YJe2BMQiP1+EWQGd9gc/YpuOXsQFxhFfLKS9CsGGqUjNN1hFlIdLNtqNB1/6CBt7unHFkNIZIBxChjER4IuBvXf0usCuJnTj/FHc634CnXR7DAYxpcfE00LiCKcZisGFdqvAo1uCYzgfDN8B41E4jE5KhX2qMhKgxkhQGXCpW0UMlKKoV4rZG4qC5PRmlBHIpyo4Q8y8+KGHJgu4tyo4WEocKCxB9jv/AeJ+nI+9pw72gQHRmgnbMw85ahnL8YSItrpHDCSMmuq+tZP29v7wBUV+/QawAMdhhIi77nOhxIizsT7THRy0KyqsxM8ZWYIgsr4rG4NhlL6lOHJBYr19uimiRJa8t4Jj/WSQlG0mL58nWwtvZAWFgq8vMbJd3pcCMtON68FnlN1myyHmDolox5EyEhKUhLK0NZWafcz3Qp4f19of3Q0nIAwcFR2v82/s91dHT0/vsZypUofIaoaU/pbtMVGTlgLOteeAGpqakSDZ1ZrLjeYMogwsJ2hIaeJbfKilP0TiavFmiscNLOt41UDOzeWY2ylhaEV+yEad4XYtzrN/rPggqKtYkHYBS7E0bRO7AmuAZr/Qph5JkOY49UrHNPxnqPRGz0TMZm71Rs8U2HqV8mtgZkwywoB+bBeQrysS2kABahRCEswhQo31lnHpIv65gF5cIsMAem/lkw8cvAFmUfm/yyscEvBxsCi7EutBbrhMzYDePE/TBOO6m079vbvyH7S9jl7EVsQQWKyrLRXJctGUj2dGvIC/YLSQrdLCmlLbEIKLeFRd5ajI54QTKAUDWhj6DQxR+dfo+HXO7BaLcXsclrGXz9reSNsMYFJAB5meGKkagbr0INrlkhMTKESFEMLQNZYcCVBK8f3f8Bxkfhdcd4KTTyW5Rrsbk2E001GUMObDfbT3UFXaqYIpkqJd5LJGrUe0hfv1xraK7L1T6LQkJCep9ShnKuYiAtrqGiEhd8A6neJO7u3soEs1OvITCYcSVJi9mZQfJW/+NUf/nN78TCyoQ+9SoYuFNUAJnBfeqvJq4F0uKuJAdM8rXER5EuokyYVxKNxTXJWNaYIfE+pid6SxwSBjlVwcCprP8kK7hP/aWCRMO0OA8BM8AsUq4BZoBhrJP+6zJWiXrcJbUpeD/IFpNDHSVbjLoOrzV13EjC/LjIUXu+N0dbYPny9cOatOB58BpkcE0G2awITRlg6DY8+BACfWORlFQoLjLMotLZeVyukwtRW7S1HUJ4eLzEKOB/mrOzs/zPDRYjebgU9mefDCK1tQOCcbbedReSo6MlgwhJo4MHDwrJMZiCcbIwUKh6vXh5OotBqm9CeSXBSbru21W+vW/oaERabQes8k8oxvz5jX2qGtbG7cLamG6sDW/CGp88GLklw9g1HhvcE7HZK1WIBbPAbGwLyYdlWBGso8pgG1MB+7hqOCTUwimxHs7JDXBJaYJrSjNcU1vgltYC97RWuKe3ync3pc41VVmmrOOS3AjnpAY4JtTBIb4GdjGVsIkqh1VEiRAcJDVIaGzxz8HGwEJsiGjE+vidWEclRvKhb1VhbMz6Ah7ZrUgsKEFlWTpa6zXkBZUXe7rLUdeWirBKJzgWbsLk2LfwN+8/4cfOP9JLTujiOqfrcKfzLXjS9WHMcn8f9j4bERLogOhwNyTF9aYszaELSDzqq9LEXWVHm068ij2GtKUGXF2o/wcqccHrjSQZrz+qe+hKQWOfriNDCWwzwfbv7akQskLivyj/efzvU+8nw32kAfvEwkKj/LO0tBR3SkM5dzGQFtdY4cSR6VDp660SF05O7igraxtShtKVJC0m+VnjnvGv4W1XE/n9xCeTMdZitcj7X1z5KR54f5xsq67/rocZ7nl7FN4LsNHWXW1cO6SFFaZEuSrjFaT0eYyQARyvT/Mj8Nxns/DwR29LH6j9wgCn900ci8khDn3661Lxpt0GvGFljFFbPpOgqgzAymwv45T6/uuOtVgj6W75ne4sj0x9F69tWibEy7Q4T6nnuJF0YbaauYWR1yRpwftUE4zzICqKWtB27319DN32W25BqNIHsbG5kkWF1wXdSXhv8/rlNXOu/qDCIjIySWuAOjg4iGuCgbC48kUlLdQMIrt37ULH00/3GUsiw9UVhYWFEgSarhiDLRgnC9vj4uIi1wyvnZb6fL0TyisFTtDpDkLjhOqB7u5aFDa2wbPk4PndQBhAk/EoYrqxJrACa9xSYOSagHVu8djklSrqCSoirMKLYRtdDoe4aiEmSDq4pyv7z+qEd84O+OT1wK9gJ/wLdyGgaA8Ci/YisHgfgkqI/QguPQtN3T5l+V5Z179wt7LtLvjm9yj76oJX1nZ4ZHQIwUFSwzGhVsgM64gSUWlsDczFloA8bAwpx/q4HqxL2g/jDCpI9JwfkfUNtmYdRVBWJTIKclFTnoKwYic45W/B/KRpuMP3Flzn+jO95IQuqLpgutKHXe7FWLeXsdnrM/ioqoooT6Qm+iM3Iwwl+TGSsrSvC0h533gVyjgZyAoDrjZ0iQuCJBmNe1VlRFCFMdSgtl2IP537yUBY6EeA39kXybt37+59ShmKvmIgLa7Bwslnd3c3/Pz8tDeKvb0TSkqalBvm4oPffR+4kqQF3+b/5PqfY35JrGT4eHLuFMnq8ZmyHlOb/umBu/Gm7TqtEfrkpx/iZ7++QTGok6WO25DAYOpSEgusmxzqgCmRrmKEL2tMF6N1oo8lpid4yyff3i9rypB1p8V6CM5HglzrpMVnSl89s2gG/vTg3dJ37JOlSr8+Mm0CfvXnG2VcWce0s+8H2uJ9pS/V/n0/wFZSzE7ys1L6MVNUG9wHFRocC0KUEcqy3936d1FvzEz1xyvGi2T7J5Txfmn1PGmbrKust7gqSa6JGcm+WFgej8c+fk8wLd4Tb7ua4p7xo+Q8DKTF1zLmvE9JRFRVdaPp9fEDDN3khZ9LXIuMjEqUl29Hc1GzXL8MSsprWHUV0e0XxrAID4/TEhZ2dnbKtuWDyjgebkUNxsmAYQxw2jFt2oCxzFuzBrm5ucq13KiMkyYY52CLa8FCNYj6/AsK8FQm1Fcn/akuYUGjuG17PeKru2GSe+4Am0bppzWqioh2rPbOwVqXOKxzjROigi4edOeg4oHqB5fkJnikt8Mrezt883qEZCAhEVx6ACHlhxBWeQThVccQUX0ckTUnEFl7ElG1pxBVp0F0/ek+iCJ6l3HdyJqTyrYnEF59TNnXUYRWHEZw2SEhO0hqkAwhmUEig8oNkiYkMUikmAXlYUtwMTbGtGN94l4Ypx5Tzk+/omRd5pewSe9CdEYWRge9dEHZP4hfOF2Pu11ux9Ouj2K+x1Q4+W5BaKAjYsLdz6oqsiO1/vWMG6CmLNW4gFT3uoBo4lXoGlYq9I2rAQZcCfD6UskxXQKD4PU4VKGeg+65Ge4n/cjOiNE+i4qLi3ufUIairxhIi2u4cEIZGBiovVlsbOxRWFivGAhntIbBYAWNlytFWhA/u+GXQlQ8PX+qYrD6aetHm67Ai6vm4bZXn5NtuA7TmF7/f7+V5TRGH5k+AS+tmY+HPhyPD4Ltpf7xTz6QtKj3vPUaZijG8bziGNz95kg8s3A6Xvh8juxvpmLw0rC+/703RTHw+Kz3tcftj2udtGDfv7hqrpBIJATYJyQIRq5bjN/e/Ff5TbKBSoxXjBaKOoZEBesfnvou3rQ2xp2vv4TZWcGi2mD/P//ZbLyw/BP5zngTJBf+8uj9MhafZAdriZAn536ER5UxfmHFHNwx6gVxJ5pXHI273ngFb9gYY05umHy/990xeM/PGo9//B7+/NA9ksb2WictCI4507iqY17z+foBhm7J6DcRFJSIpKQiFCto3GQpmVQ0xAUVFxpXEbVfGhv3IDg4uo/CgkYoDWNDuXpFNxgnXT+2m5oOGMvSDz9U/oMyJKgYyfGjR4+Kiwi34/hwH4OBvOA58Lrh9WNqaoK2pkK9E8rLASfoKmHBYJsN7Y0ILt+D9edSVzAtadxurAmuxWq3ZBg5x2CDRyJMfDPE5YNEBV016MJBFQVJChIHwaUHhUwQcqLmhIaMaPgCMY1nENv4JWKbvlLwNeKavxHEt+ig9V99obNMXT+u+WvNPpR9xSiIbjgj5AZJDZIhJEZIZJAsIYnhlbNDlB50LbGPrYJleBG2hhRiU3gtNiTugXH6qb7nraZlzfgSm5N24lW/j/QSFCp+6vQT3OL8dzzqej/Gu43CVu+V8A+wkSwGEqsiMWCAqoL+9cwCQtcTjQsIJesGFxADvn+o19xwh75zN6AVrQ35WjssJiam9wllKPqKgbS4xgsnngz+ok7+LS2tkZ1dIXLu/sbHYMLVIC3G2a7HP559TIxQtZ6kBeMU3HTfnVL/2sZlEm9BJS2mKobx/91+Myb6WIlxSwJDtjP5XFwWHnj/TYzeukLqnl08E88sminfn5w3RdYhEXH7qOcx3mkz3nExlTf+XN4fBtJCQ1qQqLjx3juENKD6gSoXlbQgYXDT/XfJPh6Z9i6eXjRD+vO1TZ+J8uWuN1+Rfua6j86chFeMNEqKhz56G285bJLv4xw24oFJb+C5ZbO0Licc1xdXfCrfSUjQfYTfn144HaOUMeT355d/gpHrl8j3ST6WuG/CWPluIC3UMT8jcSoYr6I8KAEdt9zSx9Btuuc++LsGI1a5fisXrUTz6DcUo7dHubf3a4kL3u/cF7MeBQSEax/yTk5OEvjRoLC4+oVkA+NTfPnllxJkc0dUVJ9xJOqfeQYpSUkoKytT7vN27N++HSd27ZJtSFxw+8FCXNCNRb2OQoK8cVIxWvVNKi8FnKTTCFYVFo3tDeIOci6lwdrEg1gT0SpkxVqnaGzwSIJpQJYY/DT8GYeCRAVJAZIDVFGQpCBxEF1PgkJDTpBgUMmIhLZ/I1HwHw3a/3vpkH38W/apkhskNFQyQ4iMulNCYoRWHkFQ6QFRfVCF4ZbeKmSLdWQpzEOKsCm6FeuTD8A46yvN+feSFmvSz2BV8nFMDU/Bj5x+2oeo+KHTD/EXp5vE/eM1t+exxnM+3Py2Ijy4bwaQwpwolBcxXWmaxMjQqCpKsLc3Cwjl6wYXEAMMMGCw4ODuWu1zyMvLq/fpZCj6ioG0MBR5ExYREQFTU1O5aczMzJGSkq9MOI/oNUIGA64GacG4BPe9O0ZiWiyt17xlJ2lBI/rpBdPw4sq5eGreFDGEVdJigqe5GNFUWjy3dJYYsZ/mhSnfP8Zrm5fjzrEv4dWNS2Xd55YodZuWyXfui4oAfmdsBKo0nlsyS1wXWNcfBtJCQ1pQ5fDw1HeUPl0mqhUGS1VJizesjUUpwbF4dslMvG5lJOs/q/T7qC3LcctLT+FNG42bD105VJefp+ZOwdhtq5U+zsTs7BDMzY8UEuLm5x6X5SQtuJzfn108Q/bF73RXMZAW3w6eC69DTTDOfSgtakbLo48PMHajVqxH9vzP0H7Hnah/eyKKilpQXd2DlpaD2sCc1dVd8PUN0j7gGZeAb/QNhMV3U0g06Abj7K6rQ8fdd/cZx/bbbkOKv79yPeejoaIC3dbW2F9WJm4iJC7oXqK6inzfxAXdXOzt7eVa4vOvo/nKqS1oCDPIGo3kls56eJ+DsKAryJqYHVjllYs1JCvcE2HinwnL8GJx/2DsCO/cLgQU7kFw+UGNm4coKc70khRURagERV9iIqnjfxeMxPb/6K0/FwaQGSQyhMT4WggUKjGo+hACo2Q/fPN3wiOzHU5J9bCJLodZeDk2JvRgXerRvqRF0nEsjd6FP7reL2TF7xx+i3scbsczTo9inutU2HufDaqZGOODjOQgSbOozQBSm4mOplx0txdJMMD+gTUpXe9PVBjICgMMMOD7Av9/tpmbyXPIyspqUBD6g7UYSAtDkcIJZVxcHLZt26adwEVHp4rfuD5D5PvGlSQtltSlSEyLBcpyGrl/fuQ+MW5JXLxstFBiIkyP95LYFnT5oCH9s1/dINvRxeOWl54W9QVdR5hlggEcbxv5jATypLsCFQEkOp6Y/QFeVL4vb9GQFiQ2eIzxzlsk4OPfn3pE9qO2SxfXOmnB839m0XRMU8aBypcb779TAqcyI8cNf/qjZPpg1pHb6b6RFSwZX+gGQvUMXXTm5IXj3ndGY8zWlTIWooAx1ShgSESNXL9YYpswnglTrDI7DNU1XPfhKe9g5AYNIUG1zEur50v9Y7PeF4KEbSOxQeKC9VRo3PrKs9L2a5204HmoY07igRlEmNa0ZuqsPoYuUfzKKLTeeZd8r5g8A5mZVSgpaUd9/R4hUMvL2+Dh4YdNmzbJf5SbmxsaGhoMD/jvsKikhTYY5+7daH/99QFjmW1khIzERDRs3YqOe+6RTCOHDh2S5wwJDzUw52AYO5IrvJ6IkEAvMWr1TSwvBpyE8i0+g+r1dNcgsGwf9BIWyUewOrgWqxxjYOQSg80+aZKVg9k+SFb45HWLqoKGPwkAunyoRAVJAl2SQh+xkNwJAZURTHu63j1BW6eCCg7WMxPIBuWTCgrWMxAnCZQVNsES5JP1UXWnZd01jpGyXPdYuiSGqDFEidFLYNSdElVIcNkB+OXvgkdmB5wS62AVWQaTyDpsSD4Io6yvsFaUFifwWex+jPQ1w21uY/GG7WSst1kKFxdTBPrYIirMVVQV2WkhKM6LQWVJEhqq09HGDCCtBZLBQBurYhioKthOtd0GXHkMlevAgOENVxeNqyJV73xGGor+YiAtDEVbeKOkp6fDxsZGe/MEBUWhpqZbr0HyfeJKkhaMZ3DrK89I7An+fstxEx6dMVGM3lGbP9MGX7x/4uuYVxSNOcr6t736LD7JDZVgnU/NnyrbvONmKsdiWk66JzAgJOMmcB88LmNZUHVBI5brU2nBII5UcczJCxNFAFNsqu3SxbVOWrD/Xl6zAJPDnKT/SESwLxgIk2qWuQWREpjz8dkfKOOwFeMdN0sGj6mxHhIrhEFOn1k8A29YG2Gxss9nFk4T9QT3TaULFROLqpJExcGYJnQXeU3GLQXPLpqJ0aafK+tmSGwMqjwWVSfh+d7xpDqGWWZeWbdI6klWUTnDc7iWSQshLJTrr6f7tNynHPP6+r0oLW1HkbnTAEO3Xed7/sfzkJBQINlEGLwzN7cazs7u2Lhxo5AWnp6eaGlpMRAW33HRJS1IQDAuUruRUZ9xJEonTEC+Ut9+331ov/NOtDQ2Kv/XO3H48GHJJjKYAnPyPLSxLUxM0Fyfp3dSeaFQjczjBxtwYHc1Uuu2Y70ewmJt0mGs8i3CaodIrHdLgGlANmyiyuCS0iguFSQrGCuC7h+MTUEC4HxEhS4RQWKDsS74nXElVtqG4qlXx+Pvt9/bZz26mLw8fgrenbUcCza54rEXx2KTV7Jmu+RGPDd2En7+ixuw3CpACBO6e/z9tnswatIsSYmquy/dthB9CIxeNxKqL8Krjgt5wWwkdBuxj6vCtqhqbEjah7UZZ7A69RQ+TziEBeFtmONfg2UuKbC2NYe3uwWiQl2RnhSIotxo1JQlo7kuE50t+ejpKOmTAeSoEBX6Y1UMJSOVbWVMFCp2CDW7hAGXh2MHGoTIMqTgNGCwIMDPXUueHzt2rPfpZCj9i4G0MJQ+hf7G9POln7h6A3l6+qGion1QGVJXkrSgwUuFBIkDIQiUZTQwqX7Q1IdLPY1o+SyOlnquw998yz87MxhzSGIoRir3TcOV6yypSZZPvsXnJ6GSD+p3EiGz0gOwoDxe9qcP1zxp0dt/JJLYH+pYzC3UjBH7kL+X1KaKWoZjxnEkGIuEY8MxIOFEYkEdCxIKCyriNd+bNN85FrI9s4TojltjuhAU/K5uQ7At6nd1DLn97KyQa5a0EMJCGeudyv3ZlVmJTo9QtLmHoME1CBUOvihcb64Yt33jWugibf5niIzMRHp6BWJiMrFtmzXWr18vpAV9Pjs7Ow2ExXdY2NcqYUGVBN086B5CpUVrePiA8Wt86CG03KdJbdvyxBMSc4TxLZhxhAoNEuSDhbRgYcR29Xnn7+uuGDWNeieWFwIaP1RrHN5Xi6b2OpjmDUz3uTb5CFZ552ONQzg2eiTBPDhf1BUeGe1CDDCo5lmyoq+qQpcY0CUNCBIEzNqxyj4clmFFUrfKLgzjZyzBu7M/x99uvbvP+ittQ/Dnf9wmhAR/z9vghDseeEJIBv5euNkVN/z6d9rjGTlHY+z7cySLiO5+9EHdRiVY6EJC9YVKXoRVHUVgyT5JyUpixTKqChuS9mJN2mmJa7E89iCWROzEwuB2bHQLh6+XFeKjvSUTSF1lGjqa8yRWxf6dleL+MdwygLDNPA8a1zS0GTiUpMy+nkrs7alQUI693QZcFKTfKsVl6KwS56zL0FC8TgwYHmBMJfUZRFWioegvBtLCUAYUTiZra2vFOFBvIgcHZ8ks0t19Wq+R8l3jSpIWQwHXOmkx1MZLxbVOWlBl0RmUgLbxE9F+z71of+AhtD7yGJoeexLt/YJx6iJ22VoEBMTD3T0IRkbrsGbNGiEtmKZ5x44dBsLiOy7sb7pzfFFfj1NlZTiufB5ua0NPR4fErWi///4+46ermqkbNUpcMOjKs2vXLnmLRNKDBPlgGUdmEnF2dpZnHRWGtZWZeieW3wYaPTR+aAjRMAop3z2AsGAMi5U+hVjdS1hYhBSIq4RX9g4x4plalCRCf2WFSgKciyBwiKvBGocITFm6WRBcdlCWhVUdE7eO6cu3DiAtXn13Bp4d/a72t2N8LX74ox/Bv2CX/F5k4oFf/fb38p2pVt+avhgBRXu1618I1HYn9SMv6DZCYoZqD8a7cE1thlVMNdanHNISF5/HH8JnMfuwMrwVHt4uSIz1Rkl+rATYZMpSBtakQT/cgmqq1xHVImndhfBsz4BbaypcmpLh1JgEx4ZEONQnGHCRYL8RzkoftrcXCpFxcE+NlrgwkBYGfF+ICPPT2lv79+/vfTIZSv9iIC0MRW/hZHL79u2K4RCgvZEsLKyQnl6MtrbDeg2V7xIG0qLvuQ4b0sLHEh9F0MUmAHOLosRlY2lDmhj+dMUZaljWmC7XHAOGUn3Tn7T4/PMNsLb2RFhY2rAjLXh/MtUpY1m0RKSjZfyEAVlDzgWfZWthYmKJRYsWY/ny5TA2NkZQUJCy7z0GwuJ7KOxzktnH4uKwZ+FC7FqwADvXrcN2a2s02tmh9Ykn9I4jUT5xovKflIHq6mrl/7pLAj8PNtKCpaqqSptFy8vTBUf21eudXJ4PNHpoPFNl0dZRjc05Xw4gLVaHNor6gfEjmMbUKaFOAm2SZBB1RdOXYtRfCFlBcN1VtqF4f74xJn66SmJUMKhm//X0kRb3P/ky3vhonvZ3YNFejBgxAtYRpfJbJS3sYipx+/2PY51bnHbdi0V/8oKEDIN2MvMJ3WD8CnfBLbUZ2+KbYZR+CmvST2N1ykmsTD6BlUnHYBWcgthIDw1p0ZAj7iB8U06Jvy5RMRwMT54DjWiqRybXheOGEmctfkkUOxlwGWA/5lQmo7M5D7t3lOLQ3lohLtTrSN+YGGDA1URUhL/W1uI8x1D0FwNpYSjnLWT8wsPDsXXrVrmZTE23IioqWTGKd/YxUr5rXBxp4SQBLueXxIjcn4Ykpf/Lm7OGDD5ryhA3FLonTM0LGXCuw4G0uDvRAR+6W2C6vwM+ifbE/OQgLMoKx5L8KCwtiFEQO+SwJD8ai3MjsSAjBHPiffHjwrNjdku0BdauNYW9vS8iI7NQWNgs1/JwJC2YurQmJhsN73yA9ltv02vc6sJ4xmzMmDED8+bNU/poLUJDQ0UyOZhcCq6Vwv6mykJSnZ46hX329tj+zDNnx+s2ZTwJnfHTRcHMmUhJSREXEapkmCp1MJIWjLPB4K58zpG8KMxNvGgDRvN2vFEUAOm1HQMIC6OUY1jpGA1jlxhsDcyGQ3y1uEeQsGCwShrxkgWEZEUvYaGPANBFTMMZvDZhJt6avgSbvFNEwaBvPX2kxV2PPCPqCfV3cOkBIS0YlJO/SVpcf8OvMXuNNf5x+714beLHkr1EXf9SoJIXGtXFf4R0obKE7iJUeJB02ZKyB2szv8LajC8lOOea9C+wKX47woKckJcZjqbaTMkMQqOeJNFwMjR5LtrraE81xlUHaZ8ZBlw5xGSHSbaZzuZ8CdxKAuxSryVej8xgQ1SWJA5YzrqdnSUD6ocySKqVFsZJ3B59y78vqONA0IVMdxlVWSQ9+b+hWz8YEBbioyUtDEqLcxcDaWEo31qYFi45OblPgE4fn0CUlbWKEarPaLnauFDS4h1XU0wOdcDMFH95c7+wKlHefFO1sGwIgYQFCZf5ZXH4KGfgJGY4kBZ/SXfEy0E2GBlqh1cjHTEqxgVj4t0wJsEDYxKHKJS2j1bO4TXlXF6JcMCPCu2153t3tDW2bnWAl1cEEhOLlPupAy0th5Rr+vSwIC3Usd6x46SkLWX60pKYHNRM+ghtd9yh18BVMe2ddzBt2jSsWrUKYWFhQljQqBwsGSeupdKHtGAsiyNHsNPBAR3PPqt37PojY8kSeX5UVFQIaaEqLQYjAUUXFnNzc3nOWVtbYntrkd4J5rlAY5NBIGkEeRbvH0BarAquw2r7cGz2ToVtVLnEsAgq3S8Ki7imr5BwgeqK/iDp8amxPT6YbyQqDovQQlEy6K6jj7R46rW38eq707W/PbM6hbSgqwZ/k7S47ue/kN+Mf/Gb/7sR8zc4X1TbzgU5x37EBbOk+OR2wy65DcZZX8Eo82stjDPOwNtXE4iztiJVMQKLJejmcCUteB0xBsOblYHaZ4YBVw5+sZ4oyI5EY02GxEY5tLdGVDuXci0lRHtj2eJZGPnyM/hk1uQ+y5h6d+K7b8DS3KhP/VBHWWE83nrzNSES9S3/vmCxdQ2mTH5bxsLTbVufZRkpQXjz9ZFISwzoUz8Y4OejIcwJxn0yFP3FQFoYygUV5tYvKiqCu/vZCLd2dk7Iy6tRJqIn9BouVxMXRFpEm0s6UWbxmJ7gJUEY55dEY2FFvLhZDClUJmBBWawEDZ2c4T/gXIc0aVGknIOCHyj4oWLUD1f8QMGIorN4ONYRzs6BCA9PQ3Z2LWpqdkq/UJ0wXEgLzT16Ws6roWGvEDO5sTmo+GgmWu++R6+R23zLLXhv0iQsXboUISEhyj52CnHK/yADafHdl/6kBSdU+/bsQaeDA9qff17vGOoicf16UVrQ/aK7u1tiWgy2QJxq4TnGxsZqn3GB/h44uKdW7ySzP2js0IDmG1um3TTPOzmAtFjplioqC/PgPDgnN8C/cJfEsIht+vKswuISCQFu51ewE9OWmWLKkk1a4kGFPtJiypLNuOfRZ7XH3OSVgt/+/kZE1pyU37oxLRJa/41xUxfh/278C6zCS7T7uBzoEhdxLUypegpBpQeEzNmYeQrGWd/0gYNfsBiI5cUJ2NFWKIoW1T1E35gMRWivo/112L2jDG9UBAx43htw+XAKtENaUgCqS5PkWqJigOqWS7mWejqKxXj/0Y9+hIcevKfPsqrSRPz+/36Hd8aP7lM/1MHz/c2vf4U1K+frXf59obE6HQvmTRfyde2qBX2WOdpuwq9/dQNsrdb3qSeS43wH1H2XcHWx1z53GOzaUPQXA2lhKBdcOHFlmsHAwECt76+5uQWSknKVCWnnd6q6uBDS4o+JFnjKzxTPR1hjZJILRmd54/X8ALxRFIw3i4cYlDa/URiIMTl+eDHdfcC5krSwsBiCpEWhE0YU2GFEvi1G5BE21wwei3eGj0+0pPYsLGwRo56uFINtzC4VKnHB86HaorX1kDLmu1Fc3IrMuDyUzpyLlvsfGGDklt9xBxYsWCBBNxsbG7F3714taaEauir4n/Rt0F2fMJSLL+xHGvRUu3AsqHzp2r4dzQ4OaH3xxQFjqIsYa2ukpaWhpqZGCChmHRmspAULlSCurq7yfONzListWjFkvv3tq2ps8u1/V0cJNvSPZ6EY3SsdIiX4pnVkKTwy20UhEV1/GvEt/7oswkIXJAHcM9okiwh/032EwTPHfjBHCAev7E5E1p6SZY4Jdbj1noexxS8DLsmNGP3ebEyas0qWkUyZNHeNpDzl/kiqMA3rPY89h4eeGSnZSVinHvdSoRIXJEVI3jBwqG9eD0wzjvTtPwVW/rGS9rQ4PwbtTbkS7PRSDc3BCu11tK9OFACvlw98SfGbJAvcGGOGm2LN8ad4C/w5wRJ/TrTCX5IMUPFnIlHplwQL/KjgrMJRhaWHOeKjvVBWGCexLfbvurxrieP2859fN4C0YHybdWsWSzwW3fqhjh2tBVjx2acozovWu/z7REKMt17SoqE6HZ8vm4P6qrQ+9T2dJXjwgbv71H2X4LVjZbVNnjlmZmaGecp5ioG0MJSLKryZDh5UJlrR0di2TXOTcWLn4uKBnJxKxfDao9eAudK4ENLix/l2+GWWLX6ZY4df5SmGfYEjfq0Yyb8pch6aUNr+6wIn3JB/NpijiqGqtPhjvit+mWuPXyjjdH26NX6eZomfp1rg5ynDGDzHNCs8H+2MgIA4JCUViSFP0mL79hNyXQ8n0oLnwzHnudH9hYoSkjTpCQVImjwVlXfd1cfILX70UclcVFBQICQp02TSUKbBzDcQNHZpQPP7hYLrcztCH6FhKOcv7CP2HftSXESOHxcyqa21FfXOzmh+5ZU+Y6iCGWIivL2V/6QM5T+pTrkedolSg2M5WEkLFpJllpaW8nzbts0MLfV9faP1gRNPvvVn+s3OtiLFyP6mj8FNF4dVDuHY4pMG+9hK+OR2SRyH2MYvxWC/0BgWF4vAkv0wD8oXlcTTr72D9W7x4oLBZQzYuXCLG96fb4Sl5j4YO3muEBNc5p7eigmfrMRTI9/CGsdIbawMBg99fuwkfLzKQtquHudywPMWtUXz1+IqE1i0B+aZA0mLbQGJCAt0RH52pATjZPpPNYCivjEZitAlv2hMjS3zG/C8v8/VGK9s/RyvWa7BGPsNeMN5M950N8U4j60Y52kA++FND1O84WqCsU4bcV2O7YA+NHXegugwN8Xo7iXAdlVd1LXE+7ysKB6FOVEyTqy74YZf9iEtqLhqqcsSdLUVauupoFHrD+yukjGnQc04DIyPwd9cjyl8y5VjkBhQj6EPzDJTXZYs29N1itePuoyxJ9RjtTfmSh0zppD4Ky2Ikwwq6rq6YBta6rOkfxj7g8dQl5GwUPfJc9HdTkVHU570TVGu0vaO4j7L2Mfq9q0N2VLH6720IBYlSrvOtU+CRB7Xo2sPyYeThweOV0qCcs/0Iy3YHvWY/N9Q69kXWzevwA9/+EPtcqYWblP6Sv1N7O7S9BPVXbr15+q/i8GhvXXaF8EkzA3l3MVAWhjKJZUzZ87IRNTDw0NuNILBOgMCwlFU1CAGsz5D5krhQkiLawkkLays3BEcnITMzMFNWtD9QSUtbip0x+/znPG7bEf8RjmH32TY4NdpNvjVMMav022U87TFqGh3IZmSk0tQUtImmUOGE2lBnIu4qKzsQnh4MtavXQ/X0aNReu+9kiazTUHF668jKSkJxcXFQlrQOKaRzLSU/N+h0cxP/j59+rSApEZ/qMt0t+MbfhrMVG3okhn9iQxD6VvYJ+wb9hX7jn3KgJokIZqbm1Hj7o7mV18dQFq03HUXIsLDkZOTI/EiGBX95MmTl6Sa0V2XuJqFx0tNTdU+27w8nJXJ8vknpyppweCJ25VJ/cbsvkoLo6xvsNo5Fia+GXCIr4Fvfo+oGRjLggb71SAsCLpc+OXv7INwnWCajKPBttAlI6LXLYRgfAndbeJ1YmSw3XRtIdmi1l0OVLUFY1uIi0jJfmzNOt6n/4ht3hEICXBAnmKctdRnKwZDhcR+GK6kRbdi7I3RQ1o86GqMMdtWY5z9BkzwMMN7/tb4INgOk0MdMTnMyYBQJ3wQ4iCuwRO9LfDzXLsBfbjFYRMiQ1xQmBslBipVOxdKWtRVpMLCbC3eGT8GH33wNoxWL0RuZhj+8Pv/60NakETYYLQUc2Z9CCtzY209iYD1vfUJ0V4ID3bB0kWzJEbErJnvIyrMFbsUw93ZbovEyBg/bhRWr1wgJIC6DxVM/+tsv0VcIriPObM/goeLuRj3XH5wdw1cHU0xd84ULFTWoaFtbWGMGVMnSfs3rls2IHgoDXQfD0txo7DeZoyli2fByW6zUq8hE9jmlcvnSvuD/R36bEsSJtDXDiuWfYrlS+dg2ZLZMFq1EFGhbkKgcB32s5uzGeZ/OlXaxTbZWW/Ax9PfEzca4zWLhLzQ3S9BMmKN0g/Ll36i9N8SLJo/Ax6u5kIy9F+vP2kRFugkbWGbE2N9pI4EhLe7Bf721z/hBz/4gTKOiwQFOZHw9bTCp0pfcn2qM3idcJvmukxsNF6mqf/sUyGV1GNcKlob87XPGr4QNpRzFwNpYSiXXDjhb29XJjoREbC1tdXedBYWloiNzUBFRbtirJwZYMhcCfQnLdaW5g54KF1LIGlhZ+eN0NAUZGfX9CEtaDTq68PvA7qkRU3NLr3ncq3gxXgPBATEKwZ6sWKgD0/SguhPXFCNFR+fhY0bN0vcigVz58J/2jQ0vvACWhRDt2zyZKSnp6O0tFQM4p6eHhw4cACHDh/BvkPKNX3gGNr3HEfTruOo7zmG2p7jqOlWcQx13UfR0HMULTuPYPueQ9i97xAOHjqEw4cPi6HNmAo0nElokMxQiQx9JMbVNo6HUmFfsE9U4oL9xz6ly0dTUxNqvL3R/NprfUiL+ieflBgR+fn5sg4JKPY9+1ztb4LfLwTq+OiOkTpOV3qsSHx5enpqn2uR4X7Yv+vckfL7kBYt+diWO9DoXuudAxO/s6QFM3FQXXA1SYuhAo2LyL8QVX8aASX7sSn7zID+s3Tx1JAWmeHyFpikxeHWAhwtVoyuIy04faAeJ2oyNOOhGP7Hy1NwXFl2et+FxSUZDLgQ0uJhjw1403Y9JniaY7JinE+LcceMJB98nOon6cKveaT6Y2ayL6bHe+GjCBdcnzfQPWSz/UZEBDsLEXAxpAXXocH/q1/9EpPefUMM7KkfvouPJr+NP/z+d31IC6onaFzTgH7lpWe09c21mWIcs55ExfSpE4UEWDBvGm75599x6y3/gOnmFUKIrFu7WJYzfsTrY14Wkk7dD9uyeP5M/OUvN2HNivnKveEohvavfnWDBKTkOkf21yM63A133XmrGObr1i7BzGmTpF3c/y9/cT0+eO+tPuoML8WQ/8ff/yqGe0VxgrT1Zz/7qRAzXF5SEKP0wURpP4kQdTvZ1m0bbrzxD5g2ZYIQGj6elhg/7jXc/I+/aQNgkryIi/KUvuI+SERwf2zT1I/exa9/fYNsQ6WJ7r6ffOIh/PlPN8LT1RwZyUFC6PziFz+X89NdTx9pkZMeKuQP6002rZA6Ejsb1y3F3//2Z+mbDcZLBUW5UUiK9cF9994p6zN4p+pSwsCq3C/rZyj9SNJIPcalojAvUfucKSws7H0CGYq+YiAtDOWyCyevJSUlCAoK0kZe37x5C5yc3JCZWaYY0DuvuBGmS1owM4FRef6Ah9K1hN9kOcDFJQhRUZnIy6tHff3eQU9aMJuEvnO5VvBcjAt8fKKQkJCPoqIWNDbuH5akBaESFzU13YiMTJb/B6YyXb16tWQlio2JQaWdHepefRUl8+YhMysHmUXVyK7qRG7DHuQ2H0Rm81EkNBxHWM0J+JSfgmvJaTgVfwH74jOwLfpSYF/0BRyLTsOl5BS8y04gpPIoYmsOI73hkOyjuO0QqjoPoXXnQezZt19c3RjDgEoO/o+pagwa5boEhoG80JRvIy6qfX3RPHaslrSoGTNGVDMM4kwCiqQFSSOVMFJxLtWMWsfl/RUz6jjpkhn9iYzLLSTlHR0d5ZlG+W5yQphiTOpPl6dLWlAK7l6wa4DRbRTZhs0+abCLqZRUp2GVR8TtIrHt39c0aaFVWjR/jYjak/AoPCQxQPr0X/op2NhZSABASsPbxD2kAvsjvbBzxmQcr0zDSaXf9xotk/E4HOWNfaZrsH/bOhz0sBYSo/+YDUZcCGnxqPdmbZDxaXGemJURiDl54ZIhbV5xtAFKP8wtiMAn2SGYkeyLX+T37T+CpEU4r6Uc5Vq6CNKCRjwN+Beff0quP9bRuP5syWz86Ec/HBDTgm/zaeDqkhYEx5b1JDroqsE6HpuBLVn/0AN3o6dT41ZxZF8tXh35HH784x+juS5Luw+6STCOxuT3xsl/D+t4Hrfc8nchMtT2EZ/O/lD2SzUD98c6KhSeeOxB5Xx+plVmEOPeeBX33nOHkAv8TdeZN8a+0kdVkJsRJvvTJS147Ntv+yfuvPNWcY1R6+nywmCkLyt9oNu/jInBfbw38U1RhLDu8N4a6auf/KTvuRJcj9uov5nSlNuTINFdTx9pQZDwZL1KWqh45qlHZex06wgqVLj+8iWf9KknAUISiaSUbv2lIioioNdu2qzM2zt6nz6Goq8YSAtDuSKFE0QaAAy4Rn901T/L1HQrfH2DUVBQh7a2w3oNmkuBLmnB/TpUVuLRokA8mOuDe7M8cGeaC25PdsStSQ64JdFegV3v51DH2fO4Ncketynnd0eqMx5Pclf6OUYxgAv7GMCDlbTgmNFFQHcS8fNsW9yYYIEbEy1xU5IV/pRijT+l2uLPaQrS7YYm2HYFf0q1wU3K+eie79ORjnBzC0VMTI5yfzQNu5gWuuB9WlzcBG/vQGzcuAnr168XdzIG9WWsA7qBFJbXIMk1BNHWfgjMboFr7h7Y5J+Aed4ZbM79SjFc+hkxF4VvsDnnK5jnn4FD0Sn4lx1Fcu0B5DXtR3n7AXR075XYGTTAVaOaxrFuHA0DeaEp5yIuqIhhLIjq4GA0vfkmOm65BZUffSRuhCS1SWpwHeag33/wMHYfPIYd+4+jdTdVM8dENVMnqhmqZfj7KBp3HkXrriPYsUdZf/9ZxQyJpv6KGXW8+hNOlzNu3I5ZT1QloamJCbIzonHsoMZA0IWGtGjCIYlFUIzE0toB16GRYnhv8MuFVUSJBLdkpgy6Q9At4mrFtBgK4HnT1SSm8QxCK4/CIvfUgL5bF9UCB9tNiA5zFXk9fdT376rEXntT7HjxWez5bB5OVKWje+xrOL2/XuoOBTnjSEoIdjzzJE405w8Ys8GICyEtHvPdgnfdzfBhuJOoCj5VDPQF5fFYVJ2ExbXJl425hZFi/OtbdqXArGjMhragLE7v8stCTRIWViZgXkkMZmeF4BcFA+OAbbLfgHDl+rhY0oJuDDRk6R6iW19VmiT1/UkLjifr+5MWJAJY/+gj98s6an1SnI/UU3Gguz5dUFjPlL9qHdUYrHNz2ipxGlRQvcF6uqeo69J1hHXhwc7aOmLB3GlSr+uOMU059m9/+2v4elmhvjJN2tfWkKv0zdl2ksDgdrqkRV5mhNTN6Zf2lXht5HNCRFCpoNZt6FWheLr2TU1K5QXrUxP9+9RvbynQxsDgOPEe4XojX362z3rnIi3iIj2l/kJJi107SkWFcf99d/VxQaEihCSO7rhdKnivO9hby/OFQTj5TDOUcxcDaWEoV7Rwoshc/DExMdo3VMS2bZaIjExCaWmLZBLQZ9hcDNQ3t93dp0VRUFDXBf/iCrik58AiJgGbgsNg5OOPVZ7eWOHuqcCj93Oo4+x5rPTwwhovH6wPCMa2sGhER2eLa0hFxQ6JG8B+HmwGsDpmzCRRUbG9zyTiL/EWeNVpA0a5bcFYH3OMC7bB+HAHvBPphHeinYcmopzwdoQjxofa4fUAqz7n+1SEPZycApT7IhP5+Q2or98zLEmLhobdSE0tgJWVLTZu3CiEhYODg6TB7OzZI6RBWs1u+BftgVXOMWzOPIl1l0VQXBjW5fwLprlfwrbwNELLDyGjbi9KW/eho3u3EBh0JWHQSL7hV9/qG8gLTVGJC5ID7BuqIkhad3V1SeyKyvBwNL79NsqXLkVKZh6SciuQovz3Z9T0ILNhP1LqjyCm9jiCqk7Cs+w0XEs1qhmH4jOwKzqjfH4B55LTcFPgU3ZCMWSPIa5XMZPTfEgUM5VUzPQcxJ69AxUzJDF0lRiXM27cjkoRCwsLeZaZm21FcUGSMtnsa9yoxiZTnu5WJruV1XkwydZjfMfugFlwIZwS6yVWBLNlUG2hBuPUZ9R/V2A2kG3BeXqXXS2QsNANwulefEy5/79W+kqT5tQ462sYZX6FTW5hYpwlxHjJ227GDaH//F4HU+xZsRDdb4zG4VA3IS1Odpag4/bbcbr3TXHXqy/jaGpon/EarFCvo/OSFn4mmOC5DVOiXDE7MxjzS2MVQz0ZSxvSsKwp47LxYZgTRpl8rnfZlQJJhfGOmzHR10rv8stCYzqW1KViYUUCPs2PwC8LB5IWmx2otLh40mL5sk/E8I0Od+9Tz231KS04nlz/XKTF2DEv96mn6xPrFy+Y2afebMvK3uOedYWYOf09zboLP4aN5ToteKxf3fBLxOi0USUtGA9GrSNWfT5P6nXJELpG0BXjxht/L+SJv7f1gIwb+kgLupOwzmTT533WJRirg8uo0FDrVNKC2T5011XJGMYc0a2vKUtGaKCTxMyIifAQFxOu9/xzT/RZ70qRFsSKz+aI64ia/YWqGo4x29B/3UtBd0cptmzR2El84Xutzy2+rRhIC0O5KoUTxurqaoSFhWkne4SdnSMSE3NRXt4mb1/1GTkXApW0oJKAxjldRKqqulFY2IS0tArEx+cjKioLERHpShvShiXCw9MUgzcDsbG5SE4uRnZ2LcrKOuSNPd0vSA4MVtKCpEp5eWefScQ/4i3xjttWvOdvo0zG3DAzxU/knZ/mh8ubnyGJggjMyQ3D7IwgTE306nO+T4bbwdHRT7lGM3pdeoYXacFxprrCzy9UlFcbNmzQPpjTCypQtv04EhpPwKHoC2zOoZHS17j7rrEp5yvYFpxEePl+ZNfvRn3HTuzavVsMYjUQqIG80BRd0oLqBhIFJHl2K/3V2NKG9OI6RAckIMTGH/ZxVdga24KNCTuxIfUwjNJPY61ihA6Q/18QvlHG6WuY538Ju8LT8C07hsSaA8hp3I+ytgNo7VXMMCUrlRgkU3QJDF31xcUUnicVI3wTxmvY0nIbqsrS+xAXqrF5dH+9yLLbGnMQkNcy8BwUI3xTVDOsI8tFbRFYsg8RNScQ2/SVEBdMfZp8iYoLxshwTmqQNKokAJyS6hFcegBxzV/BPb0Nbmkt8M3fKZ9+BTvlmC4pTeKq4pnVKcTBK29PlX1FKds7JtSKEiSu+RtZj8qQ/se8HJCkUQkLxrLwLTuOLUwVq1wbJCp4naxNP4O1Md0w27YJvh5WSEsKkEwJdMGh9J6kxb4tq3HAzRI9778tpMWpnZXY/ujDOJobjeMVqdjxwrM4Xprcx1gYrLgQ0uJxPxNM9LLA1Gg3eUYuKI8TI50G+2ctWZeNySGOuPG+O+S7SgSoy/ocp5nLM+WT9ZrfyjLlc2lDOpbWp2m3Eyjrynq9+3lu2Sw8MefDvutcCTRnyvEXVSXJc1hSq/frw0slLRYvmCGGb3K8b5/6U8q4UUlwsaQFXTF066mOYP3SRR/3qTc3WSX1UWFnSYvJ74+XOsamYHDK/qgoStCuq5IWzOah1hGrV2jcUXhfqXXsg9QEf4nT8cTjD+GPf/w/TJs6oQ9xoY+0cHc2kzqLrX1VKMS8OVNlma56QiUtUuL9+qy7tZegidAhLWorUjD5vbdEsbFIGQOzLavg7LBF1ruapEVVaaK4gjDGBpUmdOX5619uwp7ebCKXi9ysOK19lJeX1/vEMZRzFQNpYShXtXCyz8jx/v7+MDU1lRuTBoyDgwtSUvJRUdGhGDdf6DV6vg007Gjg0Tii2qK5+YCkU6ThXljYrPwBNCjHrlNQKwb9cAPPLTe3Hvn5TZIyk+4WNHzpekEiR3UNGSqkxc0JVpjoY4kPI5xF8krp6MKKeCypTZHJz9J6ToKGFjgxW1ydjAWlsZidE9rnfJ8Mt4ejo/+wJC0aG/cgNbUQ1ta2QlZQXWFtbQ33gEgkVXQjtPY0zAt636b2N+rOCcWQyfgCRqknYJR8GGsT92Ntwj4Yxe85i4S9CpQ6ZZlR8hEYpZ2AccbAgH7nxzfYmvsFfIoPIq1mF2pae5Qx2SnBQFXyor/byLVSVLKC583zZz+wP44cO46mniMoUP6Do8p2wTq1G0bRO7A0dDsWh3VjWdQefJ5wCKtTTmKNYoQy/eelkRb68I0YujYFpxFYdgjpdXtR3LIPrTt2SwwNupP0J51IQvA8LoZ04rnGx8fDxMREnmO2NpaoLEnT+n0TnOwfP6iJa7GjtRCFJdkwyz46oM3rlOvYJLoZdvE1QhYEle5HZM1JxDR9JVk6LjUwp5FzDNY6RcMnpwtu6a1Y5xonqUyj6k7jw0Xrsck7BbNWWWKjZzI+XWcvxMbkBeskOChTn4ZWHMaoSbNkX2sdI5X9RSv7i5IYHCusg2ETVT7gmJcCUVe0M/Dmv7WEhV85XcG+0BIWRqmnYJxwBKsSlfvYPkAyHgT52SMjJRg15SnSv/t2VmKPnwP2OZvj2PZSdE+egF1zZ4jRv3fjCuzdtBL7rTdh96LZOLW/XgxIXYPhuwSPrQt96xBc9q2khb+pZMWYGuOOOcpzhc9JIQgUY315a/ZlY35xDG687075/q77VlF0kAx4z89avk/ytRIFw8LKRLxpt0HIk7ccN+HjFD98GOaIt11MMC3OQ5QUn2SFyH7m5IbK831qjBveC7CRutct1+LJTz/UHveKQWnrssYM5dmbJHE+riRpwcCbNHyD/e371PNa5Bv575K0YMYQ1iVE91Uq6MPFkBYHdleLmxvTgSbH+0mgUcbOYLBQdR19pEVkqKvUrV21UFun4sNegqVCJ1PJxZAWK3vjX5AYUeN3kCBm3dUkLTh+77w1Cr/85S/QXJctfcAAnPrWvVicUO5zb09nrV1E0t9Qzl8MpIWhXPXCySFT3SUmJspbVnXSx5uUwTrT0ooUg7tTMQwuLtMIDTsawTTyurpOo7PzGFpbD0s8h7q6PZJSkyRGTU2PBH0cbtCc207JFEJ1BUkbKiw0hMUXWuN3qJAW/0y0xiQ/K5kUzcoIEn9USl45+eBkTPdNyvzSGCE1+Kn5HaslOfhJMBjXkrqUPtsRiyoTtJJa/uY6sn5xdJ/1SJZojhGrbKPxv+X+ddeh/JT19M/VrVfBt1CU7HJy90l+eJ/zPeseMnxIC45tSUkzAgLC5P4mWUGXEFtnL3jHF8O//Bi25F6YqoIExdrEA1gbtwtrY2kEb8fasCasDa6GkX8JjHzzYOSTA2OfbBh798JX+e2Xh3X+BVgXVA7jsDqsi2zBOmV7Y2U/xgl7YJx8CMbKvvUdsz82K8awV9FBpCn3W13LdiEv+Baffqd8g3+pBvBQK/rICp7/wWOnULfrFLJbT8Cj7BRMs09jdepJrEw8is/jD2J53AF8rmAFjc+UE1iTroxphmKQZl09Zc3GnK9hnX8aIWUHkak8B6rbdqGnl3TSjVdyKYoZKjciIyO1zzAry20oLUgWY4eTUBo8JDE0LiJlEoAuPLcSG7MGXm8kLkzj22Gf2Aiv7O2S5pOKC8Z1iG/+RoiLi1VdLDL1xNaAbFhHlGKLX4bsc+S702XZS299hJiGM3jhjfcRXf+Ftp4kBdUeCza5YltIvpa04HoBRXsxfflWbPZOxSYF69zitce6JCjnoqor4lv+JUqPyLpT8Co7eZawUK4NqitMA1sR8Lkz3Iw84T5zKgI/m4tYm43IivKWFI0MxNmjGPW7ihOxtzBeiKL9WZHYnxwsxsyRrnIcTAzAgRgfHGsvknEhGcAxUqESCER/g+JKQd0/j0dljgrdNvRff7CQFnPywvDApDfwtvMWiT1xy4tPCXHx9IJpGLl+MeYrz+g/KUb6K8YL8fzyT+T5/dKqebj52UfxfqANHpn2Ll42Wij7fOHzT/DM4hmSmvUfzz0mhP5QJC2C/ezF8NUNCEmkJPhL/YMP3N2nnvtj/UsvPNWnnmos1jMzhW69Slr0dw9RSQsSA2qdv7eN1K1cPq/PugTTiOr+5v64bv+0qSppoauAcLTbLO1Qf+/fWYnbb70Zo159XltXVhgn2zFtqVrXVJOBX/zielElqHUE772HH7oXv//97/rEhljXSwAlx/VVraikhW78DWZOYV1ny9nYNCUFsVL33LOPa+uIJGV/rOe56dbHRnhI/eYNy/vUv6iMzQ9/+AMtGdIfTPH6k5/8BOamq2V8+5Msl4q2pgLlWaKJ/+fi4iLPVkM5fzGQFobynRXekNu3b0dcXBzc3d3FqNGQFybKDeuJzMxSxRjfIUabPoNIH3SJCyo2aLB3dh4X5QUN+La2I8MeHR1H5Zxp8JK8UQmLwaayIM5LWiSRtOCbHDctqUDigIY/JyG6k5Jp8V7KZOcjTI31kN8zkn3w0pr5mJ0VjLddTfHS6nmS6oz7Y3R1rkPZKid6UyJd5HOM+WqJLM4J39hta/DskplCkqjH4ATs6YXTZB26eLxivAgj1y3WLidGm67Ay2sXiguLbr0Kkck2amSqcwqUyYjO+Q430oKxK9LTi2BjYy/qinXr1mGbhSUsPSPgkdMDs/xvM1S/wdqUYxqSIroLa0MbsNYnD2s90mDknox17gnY4JGITV4p2OKTDhO/TDHQtgbmwCwoF+ZBeVrwN+u5nOvRgNvsl42N/nlYH1SG9VHKhCl+J4wT9sE4lakpz//W3yTnDPwVAy67ZgfaOzrlDT7dIWgA8+29qroYjsQFz4nnRnKGhj7JigPHTqG65xSSmk/BrvgrrM/pNTYp5884gzVpX2BV6kkhKojVqad6CYsvNSqLTOUz7RSMUo5ibdJBUc2IQiZ+b69iplctk3SgVzFzEkaimLk4dcaW3C/hXngEyVW7UN6yU/nv0QQCZfwLdex0yYsLKVRtMJc+A8ny+bVtm7li+MTj8D7Nm3wanMcPNsjknHEXKkqT4Z7VivVZDCbbt33rlH4wTeyGbXI7PDM7EVi8F2FVRxFdd1oMegbovBjyYltwPuYY22OJmTc+WrIJpn5ZeGb0BEQ3fIFnx0wUt5FXJ8wUl4/XJs4Udcfo92ZLCtaZK8xhGVaE58dOQnjVMbz67gy516jCcEluxOdWQZg4Z5Xe434rdMgKjbriG8QobQqpPgn3kpMyTtInWcp/gHINrU49DY8NQWj/5z/RfPsdqL3vHlQ9+TjKxo9F+aLZqDEzQpOLOdoDHNGZGIAdJUnobi3Ezs4SIYuYCpVGKGNekMw4tKdWGZ9aITPok07jlGNE0FDREBpniQQVKuGgQp/h8W3gfk7srpbjHFOOx2MLeo+tEinq/vk5GEiL3936dzz/+Ry8rDxXWTcl2g1/eeQ+zEoPxNsuW/Dk3I+k/raRz8qzcnENn9UZosy4993RsmyClznun/S6fP/Lo/dhotc22f6OMS/K830okhY0mv95819xz923SywGuioxHsTC+TMkeOU//v4Xue9l3JXxrShJEEOZ63e1F2nr87I0sSsef+xBuWbpXsL9q6TFO+PH9DHwVdKChrOaCpTXB8kAZgshmcFgoERUmCs2rvtM1uH1xOCcarpPX09Lue7V/aqkhbODiVyTrHvg/rswb84UcYFge2sqUoS0YIYULmc/BfjYynYkXUjA0HWC6zLDxx/+8H9CHOzuKhNiMTTQEddd9zOljzSqDLaJ5zZl8tuyD3ubDbJPtU0qacFzVs+V27KORE1jTYbExti84TMhQti3aqaUI/vrYGu5XtZlKleOK/uW976l+VqpZywQqknUe27KR+9KPceR9x2htoVgGx5+8F488vB9kjr2qHIM3eWXAh47LNRHniFEWVlZ7xPGUM5XDKSFoXznhZPEtrY2Cdbp6uqqvWlNTEzh7u6DrKxyMDUiDVx9xpEuaNzpEhdUa9AtgoY7SYxrBZpzPqMlKwYjYUFcKdKC0tRf//Um8b3lb7qT3DN+lAT3Gme3Xpkg3S++vnzL8+Dkt2SdjyKcce87o0XJwTdIL6yYg3eUCRYne0/NnYI/3HkL3vO3lnU5+Xvs4/dw/e9/K2+TGJX9jtEviJ8vFRxchy4f/3z+cXn7xOWs649rgbSgwqmwsB5+fiFCQJKwoLrCyskTjlFFsM47qRgk5zY2JcZB3G6sierEGv8yrHFPhZFrAta7JWiNJrOgHFiEFkrWBdvoCtjFVcEhoRZOiXVwSmqAs2JUuaQQTfLJ36zncq7H9W2jy2V77of7MwnIwebAQmwIr8f6+B6sU4zk8yswvoFl7gnElHahsqEdDDrJeBcM1tn/zf1wKaq6gufGczx6gsqK00hsPg3LQpJQOuPa+5acpISGvPhS3pivSTuNNQkHsCZ2p4aMit4Oo4hWrA2pg1FgBdb6FYpqxtgnV6OaIXyV7375WOdfiHWB5TAOrYNxZCvWxXbBOI5k0x4YJx2CsXLt9B0j/aD6wqXwCJIqe1DZ3KX8B3WL8kINtErlyMUoZqi4SEhI0Kb4ZnDOrPRoZSJeozVKRG2hTNr5xjMvPxmOGR1Yp09hotRtSj0Mq5RuuGRsl5gTVIlE1BwXsiG26WtRJajkhbiNnIPAMHaJhX1cNUz8M4W4IGE3c6UFgpX9TV64XuJbzN/ogsDifViw2RX+hbsx5v1PsN49HnOM7GS9jxZvgk9uF4ycokVhYRVeDPPgPNjHVmGNQ4Te454TfciKf2nIisYvEVF7Ct7lpyQI7gY1no2qssg4g1XJJxA1Y7U2dW5/tN9+G9oefhBtLzyDtknj0bpsLlotN6LddRs6/BzQGemFHRnh6CpPQY9iQJLMYCaAPd3lYsDRkGE8DCE0aKScg9Cgqw/HUlVp6CM2CBog+sBl3PZwThQORPvgoGLw0lgiKL3nNcLj8ji65MVgIC34fH128UzlmTlGnnV8bt70wN2YHOqAD0IcMDXaXdYlacF2qNuStFCfuSQz7nt3jHz/yyP34g1rY9meag2SHEORtCBsrdZLrAe6JXzy8WTMnvmBBI8c9+aruE0x7rmchnV2eogEurz5H3/FHbf/UxQMDVVpEmzzs6WfSD0Nbk9Xc+zsTRFKBQPrGQgz0NdW2x4XBxOpf/ftMX2CZtJd5NVXnsMLSltmTpsk7hrvvzcOJhs1wTBJPPh5WeOxR+6X7adPmYCs1GDt9iRBWM/4FTm9QTKZvYP7s95mLG2gm8UbY0eivFiT8pRBKWdMnSTbMfsJA3B2tWmyglAFRaXFhHfGwsxkFUw3rcCbb4zEpAlvQM38weuf+6VbBvfx/qRxEkODywhn+y1SP/Hd15GerDnXnPQwUVSwXcsWzxIChX3y4ftv4e67bhMShevRpYTbcfunnnwE/j42QhYxqOfEdzT1zz/7hATS5P8BtyGp8sB9d+Ht8aNln4XZkdq2qGBf0P1H10XmcrBzexnMlOcGnx/MTkUS3VC+vRhIC0P53gonikyDFxUVJdIolbwwNd0KT09/5ORUoq6u51vJC5W4UMmLaxm6faGvr75vsI1XgrQgHpk2Aa/0Sk/HO2+WyRK/T1YmVCQtGPzy1Q1L8dCH46X+oQ/ewqsbl2q350RPJRu4n2eXfoz739O8FaJ7CtUanLip63M/lLuOMV8lv8c7bcbTC6bjnrde067TH8OZtGA7GZMmLi4DFhZW2swglpaWsPUOh1t2NzbnnoesSDkuAfbWBNcKUbHWOVaIis0+adgamA2LsELYRJfLW2AGF2TwQI/Mdnhl71CMqm4x7vwKdimG1x4EFCko3nsWym/WcznX4/rcjttzP9yfvbJf+uiTxNgalIctwSXYEN2G9Yl7YZxGokV/uzfmfAWfgj3IrWpDe3u7qC7odkDjl8a9avwO5aK6g/Bc1LgVnftPIbNNMTSLvpbMK/r6hoanvC1X+m+NEFHbsSa8BWv8irHWMwNG7ikwdk/EBgWMq8CxpgrG1D9LxnxrkEY1YxasgJ+6ihnFEN/ie1YxsyGoFOvp+iMkhjJmKUeFANDbrl5syvkSHoUHkV7VhabWDuU+2y0xL0hCkJS5GMUM12eKbzXQ9NatJkhNikB3Z6kYnWpsi+72Ysnnn5GdALv0TqzP6lUV9ANVF1tT9ynr9MBTuVZ5/YZWHBKXEbpzqMoLZvjoo77QITAYDyNSWV9NIUplBbeTuBF1p8XtRPNb80nFxfjpS5Rj7ZLf3C/X43fug/tKbGd8jf9KkE9+70NK6INKVPSSFSRcNGTFGXEF8a84CediVV3Rj/TK/FoUOStDm5D70hi9hMW50H7LLWi//z60P/Mk2sa+hrbp76Pt8/los1iPdkczdHhaozPQCdujvbFDMRq7KlLR01agGA8DCY2zCo0aDamhQCUYVGLjXOSGLlh/VFl/X3IQdox6GT0bV6CHGU4Ug7ans0QMSkrvqQTRJS/4yWN/X6QFA2L/+m9/xsxkXzzw/jgh/2ck+eCOsS8pyzTHpvrw07xw/OnBuyXTCGM3sQ3PfzYbt7z0FOYVxwhp8Y9nHxPi//nls5Vn6nwJIDo51FFcKp/49EPc9frLmFcUrbcdl4yrTFpwfOjSQGP+82VzEOLvINdHTIQ77K03CIryYhAS4KD9rYLuGTSg+9d3NOfJvrs7ivrUq+0hmaHW8XhqW0hykSigioBxMDat/0xUDmwPl+9oK+yzP4JGurp9vmKgq/VUaLCO8TmC/OywZuV8cYNxsNkorm7qNiQVdPdH6C7nubg4mmDZ4tlYsfxTITV4Xupykrn9t6eCQl1eVhirrWcfso7nSXUF042SOGD2EN5zaYkBsh7JBq6jbqcLtk1fvUq08J4OVY6zQtkvzzcrLUTbFhUkQ67/+XUoyY8dsOxiwXYmxIZobR4GeTaUCysG0sJQvvfCyV99fb34CuumSd261Qw+PkHIzq5EVdV2UU/oM550oWu0X4vQ1yeDCVeStPggxB5/f+phmag9/vF7WgKCpMWN996BCV7b8Oj0CeJvy3qu+66HuXznhIlBwRhQbGldqpAWTPN20/13yVul1zZ9hulxngNIC062OCHjMZ+cO0Umd9ciadHQsEcUUc7O7ti0aZMQFvTz9/L2gU9cPpyLTpzTsKXUX8iKgHKscUmAsUsMNikGLA1XEhW2MRVwTKyDa1oLvLK2wyevRwy4oJJ9CC47hJCKIwirPIpwxYiiQUfDigEFB0Cp53Kux/W5Hbfnfrg/7pf753F4PB6XxzcNLpbsDusT98E4Q/+bfKZktc89jJSyNjQ1NStjtlPrLqL71n4oFtUdhAY83SeOnjiNyu5T8K38Ahtyzk1CGVNdkbBP1BRrQuqwxjMTa10TJBjkRo9EbPFNF2KCcRMsw4thE1UGu9hKIY+YpYKZLlTVzFk0aOpFMVPTq5ipgFVkiYwVyQ0T/2xsDijAhrAarIvrxjqSTukDU43qYmvOaYQX9aCorkO557aLywjdPtQ4Japi5tvIC451VlaWBJnlM4v+yWEhPmiqy9UYrIohSqN0R2uBBI9My4yHY2ozNmSeq33fYGPmSVik7YZ95i545O4UAi6k/JBcxwxYSaUCSQiSAboEBomC/iTGt4H7YpwKn7xuvcsvCLokhRAV/9aoKlo0xAgJl/CaU/CrOAm3EuXc8r7Qn9KYpEXGGawNrYWxpRPKHnsEbbfeqpeguFi033UX2h95CO3PP42210ehbcZktK1ciDbLDWh3NkOHlw06g3oJjdQQdOXHoLsqHT0tvaTG9lIxtFRig0Yd5e1atQbJDbqg9Ko2aDAS/M23ynuU7Ts/eAcdt9yCjuefQZvxZ2hTDM+2smRsl2OU9iEvKHHn/ncoRtWY0u+etBi15XMhKz4Md5JAmoxhQTXjRB8LPLf0Y3HF/DjNH9PjvfDwlLflN5/XJAlIWjw2c5LyDA8S18pHp0+U7yQunls2Gy+unItxdhskhtQzi2bg8dkf4OP0AL3tuGRcZdLCgGsLvJc/eG8cXnz+yStyffR0lkkGKj4z+JKHik1DubBiIC0MZdAUvs2rqalBREQE7O3tteQFlRdubt5ITy9WDN02iVuhz5AyYPDjSpIWDHD5h7tvw5RIVzw9f6q2nqTFXx97UFKdkYj466MPyATm9lEviDyV6/DNzn0Tx+L+994QsoOkBVOsPvDemxrJ6rwpEt+iP2nB/O9/fuhevB9oq0zUFsjE8VoiLbZvP47i4kYEBITLfakSFm5uboiNi0daVQ9siwb67gvoNhC3G6uDqrBaJSu8UmAWmAPriBI4KsarEBXZ20UhweCAIeWHEVZ1TAgIvhWmXJ6GVmwj3xbzzTONN+IbPdAs43pcn9txe+6H++N+uX8eh8fjcYXAUNpBN5KtoaXYFNOO9ckHz/kG3zznBOIKW1FX3yAuB3xrf7nEBQ1lffguCo+j6w6y+/ApZLWdxjZxBRl4/oQETKWqIqIFazyzsdYlXogKjq2pf6aQFFaRpbCLrRICwjWlSVJ9emV1wjunC755PZJ+k64KWtVMEdUye+EvipndvYqZnoGKmeQGUeJQkWMRVqRRzAQVYaOQTntgnHpMb5uJ9Yrh7Jx3AOnl7cr/Uatyz+3WSzx9W9+T3CkoKOijFnRxsUdFSapisGpcAPb2VKCzOU/83zPSo+CWUoWtaXuVdpyDBFIM+I2Zp2GecQB2WXvhmkvV0G5JORpWeUSrvpB7Qe4D5Xpv7UtiDCAyLoLMGACdfXCfZ0kK5Vi9JAXbQDIltulLCfgZWXcSwVUnJcimU9FJbM09I32u93yJ5MNYF1KOzRZWsDJbi9RZH6Fo4lsoHzcGlaNHoubFZ9HwyENou+N2vcTEJYHqjHvuQvujD6OdZMLrr6Ft8gS0zZuBttWL0W5ujHZ7E3S4bNMQG34O2B7iih3R3ugSciMW3ZVp6GnO17igbC8V1QZjFJDk4Hf69DMOQrO/A9rvulOOS1VIm3K8pjVL0eRji+aSRGxX1iF5QUKEmSWowuhsKcCYYh+MKLLXoPfZcbVJi/OBz+NLPY4Ep25I17vsisJAWhhwhcD4OB7OZrjxj78fkDHmUkAXs6iIAO2zggkKvqvn+3AoBtLCUAZd4aSxoqIC4eHhfZQX9Jd3dHRFUlIuSkub0dFxRK9hZcDgxZUkLQgGA7vrjVfwnr8mhRrxfoAN/vHMo/KdmT1uuOkPEql8jNlK8bWdWxCh7C9bAm/yrRHXY8Tz6Qnesp+/PfmQEBdUY9xw4++1x75vwliZdIn89cUnJRjou+5muHPsy9pj98dwIS2ocqqoaEd8fCasrGzkfiRhQV9M3qc02ouVtmviHAw0SOgKsiaiDavcUiUl40bPJA1ZoRizfIvukd4uygf62pNIoBRdQ1Kckbe1cUJAKIZRq2IgqYaZjnF2XvSuy+24vcjVlf3JW2Bl/zwOjycEhnJ8toPtofrCOrIMWyMqsTFh1znf3ptmnUR0QQtqamolzoUucXGhrgZchwYywW10oRrOV3tiw/3zeCQsqDigOwgN443ncvHJ/FJDVoQ29Lr3xIjbB2OQkKigkoLqCMYZ8cjskDgJfoW7JNhkUNkB6e9QKmaqjkn/i2KG0KeYqaZi5phexQxJDypm3NJahRShesMyvAhbQwqxOaJOQ14w9a2+c1BgmXMcscUdqK1vEuKJ2WHoLnIxxAX7jWpBpvZWA0xbWJhLnIvu9lIc3lcnRmhHUx5qypORkxmBoIQ0WCW3YWP6uYkVgu4kJpnHYJO5F445++CRv0/px70ILj0oBEZ4zdl7RSUxqHLQEHf/EjcRzT2jgCSDQM99ohe968s9RHJCc/9o7qFvlGOdJSmoAomoPYGgyhPwLj8Jt+ITsCk4hc05JDHPp9A5g3VRzdjklQBzSxM42W0WH3walDHh7kgIcESy6zakmRsj57O5KJkyCeVvv4HK119D9SsvoP6JR9Fy910DCYkrhPbbbkP7vfdolBpPPYH2F59Du3LstsnvasiNVYvRvnUt2m03o8PBFB3O5uh0sxB3FBIdbd62aFY+65RzaH304b77vuUWtD7/DBrWLEEjyYvSJCE4utuLFBRKhpRRhV4YUWCHEYVniYvvk7QYEjCQFgZcJrqU+y/Y3wEb1y2TYKezZ76PKxGAs7UhH1u3msozws7OTp43hnLhxUBaGMqgLJwkcuJI5QUjtetmG9m8eYtiLDkgJiYVRUUNaG7er9fQMmDw4UqTFoxofufYl4SU4G9O2t71MMMjU9+VyRwDaz41b6psTxKCJAfdQmam+Et8i/GOm5TJXqrEvqAqY4nynQE3qdJgG24b+YzIWJny9IlPJkubqMhg0E8ei/noGbCT++7fNk17hjZpsWvXl+KaRZUT0xOr96CZmRmCgoJQXFyMw0eOoKr75DnfxtNlYLV/GVY7RmOdW5wEB2RwP7oE8I07Y05o3iAfFSOVxpdGRaEhKTTkxFlDi772l4o+xpiyXy2JoRyPx+Xx2Q62h+1i+9hOy4gybI5tw/rUo3rPcUvWKcTkN8j/lUpcqDEuaNCez+hViQoayFyfxvK/jnfim69OyW/Wq/v4NuP5Ugv3q0tYtO49Bd8qxZg8h4vP2sSDWBPWjNUkoUhWeCSKew+zT1BRQaKC2TCojiBJwQCP7Fcho5Q+jmqgm8MZxCpGdhxJKXF3OJdqhmoZBcp6+hQzJD1IgASV7gdjM3jn7IBbequMG4kTs9BibI5qwvqkfUK06DufzdlfILygA5U1ddixY4fIdfn8oXuMSlx8W2EfMr4JYzRt27ZNSD3eLxFhfqivzpbAiyQu6A5QV5mKguxIxCWEwDW+EObJOySmhb62qWAQT6ZONc08BuusA3DIOQDX/APwLtyPgJL9CCk7pCExqo8hgn1MIoNqDJXMaNIQGiQaSNqRdPg2CCnBbaTvNeQE90mCgkqKcKX/gyuPw6f8BDxKT8Cl6ASs80/BJPdLrM8+f3wRQXwPNgQVwNTWDnbWG+HtYSH+/kwfycB7BTlRYlTmZoYjKzUEaUmB4q+fFOqKZE8rpNpsQtaaxSic9RHKJoxDxZujUTXqZdS88CzqH3sELffcLcSALlFw1UDVxu23aVxR7rsX7Q89gPZHH0Hbk4+j7Zkn0ULXlPvv1bst29iitLlh7VIhLxpLEtFcm4l65Tp5NdcNI3JtMCL/LHFhIC2+BQbSwoDLRHVZEubPnYYpH74j2Ux2bS/Ru97F4Oj+Bvj7uffaMZuRn59/1Z7pw7UYSAtDGfSFMuXW1lZJlert7Q1TUw1LSVha2iAkJEa5+WsVo2+XYux9e8YRA74/XGnSginWSCJofysTFaY45WSOnzOT/bSEBsH9TU/0xgfB9uKPu7gmSdxDpsV6aPdD/1vNZzCmRittyQoW4oL7ZOAxqi24jOtMT/CSevrrqsfQxVAlLXgf1dZ2S9wKd3dviVfB+41GmJeXlwQgZBwAGuZNe07CRp9LCAMyxu7EKo9MrHWMksCL5kF5sIupEmk//egDFWOLRmdU/SkxisRI1RIV+kkKvfL1C0T/fWlJDC2BoRhqSjvYHraL7WM73VJblHZXYmtMIzakHFLOb+CbY7OsY0jIq1b6rRY9PT2SVpMEAN0H9L2t52/Wq2QFDeQzJw/h665Y/Kt2E744cVC2V1OqXsgb/0sp3KcuYdGy9xQ8K/Qb0BJzIKYLq71zscYpChvcE2DqlylkhUNcjagd6PJBFw+qIcKrVCLqCw1BIeSEZoy1b//7kVLnBNdToKuYIaFBg1rzpl+jmAmtOCLjRtLJM6NDgq4y4KpZWBk2xXdj3TlcRjZlf4ngvHaUV9Wis7NTS1xcrKsPVTaZmZmiEiRxQbg426MwLwHbW4skNV9XW6FkFygtjENGchBCYiJhl1gL05SdWJfJ1K4D29cX30gK1c1Zp2GedRS22QfgmHsQLvmH4FZ4CF5Fh+BXchBBZQeF0BEyQxkLEhpqLBgSG6JkIfmji1qlH5X6iBpCExOG9wLJiYDy4/Au0xAUbsXH4VJ0HLb5J7A19wsJUKs3VkV/KP8Lxol7sCGiBltc/GFltQnuzmYScC8p1kcyK1QoRjuzLDTXZUoQPQYyra1IkYCDpQVxKMqNRl5WBLLTQpCu9B9JjqRIDyT52iHFcSvStq5F9ooFKJg9BaWTxqN8/OuoeP01VL72MmqobHj0YbTccxc6bhlIIHyfaL/1VrS89BzqjT5DnZcNyrIj8Uq6YnBnWWqIi0K7QUtaLG1Il4xd+pZdKvgs5jNe37LzwkBaGHCZYHDOXTvKBqQ/vRyUFCRpX/zQnZDPCkO5uGIgLQxlyBROqvkWMzk5GQEBAdp0c4S5uQV8fUOQm1uFqqpOZb1Teo0xA75fXBppoUxaSFq0cDIytMBJ5FAjLRoadst95O0dKHEr1HuMcStIHNKgoyFHMnHnwZNwK9dj4DJ1YXQXVrkkijsIs0TQsHVKqINnVqfEK6AhRSNJQ1b0+uP3Gqi6xII+8uFKQfc46rHFKFbaw3axfaFKO9letpvt3xZdi40pB5TzHGigWWXuR3p+mbgKMEYCgzuyn3SNXpWsUIkC9uUXyuTli125+Kp2K/4bfyfO5H8sag1mJdEXY0HF5Ra1LSRFNC4hJ+GubzwVrE05htWhDVjtHAcj5xhJh2kRWiCpMEnqMN4E3WtIGqgxF/h2/ywRxfE9Nxl1sVD3I0RGL4lBUkQTT0FDOtGFgi4pnpkdcEqsF3cfkygST4xTMnD8NmZ9iaCcVpRXVCr34nYhLi7W1YeFY1VVVaU8k3zl3iFxQUlwZLgfqsrSsLurXGIgUP5PdxGqLhITAuAfHQvb+CpsTezAhrQjA9p3TijnQhKD7adqZGv2CVjmHIVd7mE45B2CU/5hOBccgWvhEbgVHoVb0VF4FBPH5NNT+/0Y3BW4FWngWngMLgqcFNjln4BF3imY5nyBzTlfYkP21xdGUqjIOI11Me3YEFoOE/dQWNlukwwDAb62iIv0FAKirDBeyBy6SDAWxO4dpRIngn3FtIWdLQVoVwxMppFtJJFRmaL0ZxLKi+JRnBcj/UiFRmZKsGQVSI73Q2K0FxKDnJDkaYVkBxOkmaxG9vJ5KKA6Y9JbfQiN6hefRd1Tj6Px4QfRfM89aLvtygQCvViQvGh+5QWUmxnh5XhrjEgzx4hsK4zItxW1xeN+JoOOtODz+rUty/Uuuxh8mh+u/T5y/eJzqhjPCwNpYcAgQ1d7CexsreR5QKUqX24YysUXA2lhKEOucEJIGS7fZoWEhMDKSvNHQDDjiKurF5KT8yRgYHPzvu/9rbUBZ3Fe0iLRGpN8LPFRhAs+TgvAPGWywQkLXTZo+C9VJiFDDg1pWFKXggXKpPKT3LA+5zvYSIuWlv0oKKiTIJtmZmcJQb4xpuSd6Yn51p/GG424Yyf4Bl1/do01JCyc48W4ZYwD64hScRmgaoGuAhE1x8W4pARd88b9P5oAf70GqT6C4UqCsRDYNsbWUOu0BrFqCCvtYvvYTrY3uOyAGOYuyU2wjCVxoRi+A879G7hkdCK/oEjpzxZRo5w8ebIP6cD+43chK774AqcPtuBMsze+SR+J/4X+FP8NvQ6766KV62CnbK+mU1UVF9yW+9AH7v9c0CU7VLCe+1QJqIBq/W/56Q6yyq8Eqx0isd49XlKQ0vXCJbkRXjk7JM0syQq+uZdxFUXFv3qJCv0khe54XAp09zWQwGDmCipmTou6QMgLuvukt8IhrhrmUTXYmLRXMfYHKoQ2ZX2BsOx6VFZWiavIxbj66BauR8UN3RttbGy0qgt7OyvkZMSgpT4Xe7rLRHVBNUF5cYJicIciIdYHgWFBcIzKxraEZmxO3qW3nRcKupWsJ7K/wsbsLwVUlWzOOYMtgi8E/E0ygmlhNyrrblBAFw+Nm8dFkBP9kXwQ6yMbsImpax1cYWO9Ba5OWxHoYyspIjOSA1GcHyMuM4z5wWwdmkwaNZpsHL04uLtGDEsGxmOQSxIZjP2wvbUA7cp2LfXZaKrJQH1VmhBBlSUJkiZSJTOo4MhOCxVlS2pCgLiZaAkNDw2hkWpmhAzjZcheOgf5s6eiePK7KHt3HMrHj0X5G6NQMWYkKl99aSC5cfvtV9QNpfmB+1D95miULP0UL0WaY0TyVo3aIk+jtjgXaUGlAxWECysSxHj/NDccn2QFy3N0RqK3GPFUCs6S52u0uEFSYUg1I18OsJ7ryvO3Vz3IbWYk+ijrRsnvhZUJst6s9EBRGPL7grJYcdV8xXiRrMN28Pn9aX6EZBAhmULFIvcrpIKCZUodf7NdbDvr+PuFz+dIxhKSIM8vm6XsO06W8VnKtqpqDpISPDbPdVZGIGYrUPdtIC0MGEw4vLcOIcHe2jkVMyXyuWsoF18MpIWhDNnCCTcnlIzczmCAuhlHGPfC2tpWXEfy8qoN6otBgr6kxfY+k4hb46zwgYs5pvja4uNwN3ya4IcFyiR+cXYEFudGKYgeelAmRIuywjEvNRizFWNE93yfjnSEi0swoqKykJ/f8D2RFl+jsXEvCgvrERoai23bLLX3EA0tZvKprq6Wt/C6Ri6NOMax2KwnSOPa+L1Y6ZyoJSwozXdLa5YMEKEVhxFVd1oxar+SjAM0MnUNWq4Toqyjz0i9knBJacSzYybizoeeGrCsjyEsRvC/xK+fMQJCyw/DN38XXJXzsYprwIb0gTEuNmR9iZC0cpSWlooqRTV6SVLQ8CVIEpw+fhBfdEThq6I5+G/E74Bg5XGs4FT0w6itrRLSg8oylbigqwLHgduSwNAF961CPQbBsdIFCQ9dsI77O3zspBj46/qdC7E2YT9WeeVijUOkkDzmwXli+DPehz/Hq/yQBGDUklCiqugdV52x7d/PVxLqMbTjpkCrmFHJi8qjCCjeJzEv6DJiFV2FTUm7wVSt/c/ZJOsE4nIqJUbJhbj6nK9wO8Z+YZBOullJeuAtWxAU4IHy4mTF8NZknehozhc3iPLCeORkhImrRGiYN9zDY5VrrRpb41uwJXEH1qfxmrsMEuFqg4oKxqqIasSm8EqY+MTC0s4aDnab4eW6DSH+DoiN9ERmShCK86JRU5GC1oYcdHfQdaYSh/bW4KhiPDJl7IlDTQrOftKolJSg+/oRGT0V2MNsHUo/UqFBIohqDVFlkMyozZC+JTFCX/WK4gSNm4keQoMKjZR4fyTG+iIhxhvxEe5ICHREgpcNEpXnU5LdFqSYGSHdeKmW3CiaMgkl741H6YRxKHvnDZS9NRblb45G+euvoXzMSJSPehnlI19AzROP6SUpVDTcfx/KRo9EzrwZSKEyJM4Xz0dZYESSKUZkKp8kLQr0kxYkCF5euwDjFGN85PolQhTwBQDTjzLb1RtWRnht82dYUp+GcbbrJRD1JD8rjDZdIam7GdtplLJ8lMnnkmVr1JblEsvpdUsjjHfaLNvMSPIRF8mX1yyQ1KV0n3xxxafixsF9PLdslpAGTC3OdKbc/0ur52Oc/QaJNcVt6FLJdei+ydTiPBaXs27sttX425MPSyyqWekBeGLWB0KskOB4U1nvbWcTvOW4CR8E2Ynb5yhle57TO26meGnVXMxM9jWQFucBMxnxPiH2dpfrXee7wumjLUJM6ls2nHDqSAvysuO0biHOzs44cOBA79PBUC62GEgLQxnyhRPIEydOoLKyEnyrxbgXW7eelbUPVF/sN6gvvieopEVr62FUVHT1mUTcmGqLpwMs8EywFZ4Ps8OLilH/cowLXolzxch49yGJV+LcpP0vRzvjhci+k6ZnlToPj3DExuaioKAJ9fV7vzPSgvtnDJj8/BoEBUX2ISuYNzw0NBQlJSViKKuF9xnfNNPIPXDkBJxKB7oRrE05ipXu6eISYuKbDpuoUolzwLSVDMRIlwGtukLHqNUYnv/F1GUmsAgrHGCUcl0aoP3rLxQMRMjjsA1Ml8m6eRuc8M+7H5TvTBfJtuhuI0awUqcawGw328998HwYl8MyoRXrFSOtfz+YpR9AcnpOn/gWdDOgAXv69Cmc3pmLMzVb8Z/4O/G/XrJCRVPiKgnQxQxKVLeQuKCyjK4KTMnJfREkMlTQDYXg/yCVHQTHjuBxSZoQKumhgr+5TUHHcZH793eZEIWFR5bEJGEKU4vQQnGR8c7ZLqliw6uOa8a0+eu+ZEUvgaCO7XcJ7bF1xk7j7nNGYjWQZKHqguNnE1uDzSQusgYGjbTO3IuMvGI0NDQo98tu6ScSRCR7Loa0YOH6HMOEhAQ4ODiI4oLkhbXVNiTFh6KyNE3SXVI9oCEvMsSwzs+KUIxof8REeCIw2AfuwaGwjciGeWwtTONasDFpJ9Zl6M9q852BAUST9mF9dDM2RlRjS1AOtrr5w8rBFg72W+GhGPoBPraIDHVFUqyvqElKCmKFQCBZwSj9exQDigbM0QP1Qk6cPNwkxiMNG4LfVTBlIJdriYyDDUJyHNlfJ0QG93Nwd7WkDSUJwuCnTD0qyoyOIuxoLUCn0sdaQqOmL6FBhQbdTUryY4XUKMyJknHIzdAQG3Q9SU8KQqrqfqKSG9FeQnDEh7ggPsAB8co5x3tYIV45/1i7LYiyWIeCt8boJSvqH7wfxaNeRursKYiw34LocHchLNKSAvBirNUFKS2oUhhpvAgfp/rj97f/EwurErGwMhG/vPH3mOC1DbMzgvCXx+7HrMwgTA51wG/+/hchIT4Kd8afH7pHSA4SFjc/9zimxXti5IYleM/PGve+OwbzS2Pwpu06PDJ9gige3rRdj7vfHIk3bdZhrPkqIUJIQvz54Xu1hAT3PzPVT1m+WuqphKCK4pkF02QdqioZyJrEyk0P3CV145234PZXnxOVBkkJbsfzoUqRGcFIYEyJdsU/X3hSaW+WkB63vPy0qC+eXTxTMnsZSItzgymXHW02wWjVQphs+lzvOt8VstJCpA2MW6Nv+XBBY00OrJT/ec6tGKCZRLihXHoxkBaGMqwKJ+KU9DJQIA0vphRSjTGqL2xs7ER9kZtbjcrKTsWANqgvvktoSIsv0NZ2BFVVPQMmEtcSXohzg69vjGLIFKKoqEUxjvZdddKC/c8Am4xZ4ecXCnNzzcNUJSuCg4OVZbliFPc3zFSVBQ3hgo6TAzJLGCnGyyq/Uqx2iJB4B9YRJXBLbdYQFlVHEdPwRa/LQF/DVjU2rSKK8ed/3I4ZK8xhphg+rKPMn2/3mXGEaTTXOkWJ2oHLGGNiuWUAbKMr5DczfqxxjJS0m+o+6c5h7BIrbVltH4HPrQIxeeEGWbZgszL5vftBSb3KgJLLzH3hmtKk3ZZQ28j2st1sP8+D58NMFTw/s6SugUavYvx7JVYI+UDiYc+ePaK4OL6vCaebvPBN+qv4X+jP+pAVBAmM5uhZaIxfjvbU1ejJXo99hSY4XG6Bo5XWOFZth+M1DgoccbzWGcfrXHCszg3HG7xwrNEXx5oCcbwlFMdbo3CsPRHHtmfiaE8ZjuxpwuEDO3FEaYMu8cHvrT0HsS3vJNZmfAkjnkcvcUECahUVFkqfbvZKgWVYsSgUfJU+DSk/KOoKNR7Jucb0YsB4GCRCuH1QyX696xDse2YS0bdMF/3HjqQKyRWVeGKwUPf0NtjG1WJTyn7lnPsSNozX4JnWhMLCQgkEzbdjvPapYLlYtYVaqIRhrAveZyTWVZcRB3trZKRGorYiQ4xsEhjbWwokdgMNjZL8GInVQAVATIQHQoJc4RPgDafgKFhFFWlIjNgGbIltwab4TmxI2oN1acf0kjGXjPRTWEdyInY7NkQ3YWNkHTZHVGFLaBG2ekfB0skJdg7b4OpoCm93CwT52QlRkRjjI4Y+jf/K4kQhCNqbckURQVcPEgwkHKisUMkKgmSFOvFXyYv+UNcldIkM7qsPmdGrzCChcWBXlWKgVkpAVCE0eskiITR6FRp0U2lrzBFSg1k8GGeDgUFJbND1pKpUo9ZgDA4qNuiCwuCghdkagoPKjdyMMK16g+RGgqcV6vulPK1/6AEUj34FyXOmIsh6I4L97REb6YG0xEDZPi8rHC8n2WFE+jaMyLHujWmhn7RgMGkSAVNj3fH7O27Bp0ztrRjwv/rzjRJsmt/vfXs0JnhuE7eKPz14t8bAV3DDn/4ogTSpYnjgvTe19S+tnocXV82T71Ry3PSAZhsSHPe+Oxq3j3oei2tTNMvzwrWkxZzcMPzpoXvkOwmQf77whHwnefLApDfkO9UUH0Y4Y0qUK3791z9JHQNkkwzhd+Ifzz4mpMUkXytpO+vo3sJzIjExzm4DHpk2QepJgDz80duabQ2khV7wut2ycTmuv/7n+N3vfqN3nSuN3TvKhEDsX79o/gyMGDEC4cFOA5YNF+xoK4Gri3KtKfMrKi0SExOF9DaUSy8G0sJQhmXhpJKT8vLycpxPfZGSki/qC751prGoz9Az4MpBJS3a248qxvOuAROJawkvJXggMDBRuQZLUVLSrhi3+68aabFz5xlUV29HdnaFci8EyPWv3gvW1tZC8JGsOHTokF5jjHVUWfBN88Ejx2FfMlBSvyamG6vsIyT9pUVIIZyTG+FXsFMMRF3CQlddoYvV9uH46XXX4a1pi7HIxEPqzIPz8dCzr2LhFnchLJ4bOwmfrLWRZSQi/nbL3ZjwyUr5zWCLT458C3c/8ox2n+/PM8KLb34gMRgee3Esnh09EXPXOcjxSVr88S//kP3NW++Ex196A6++O0O7rS7EAO5HXDBAJ8/PKaUZm9IHBk00TTuA+KQUlJWVob2lHntrgnAidw7+FfY7/C+oL1lxlrT4Af4b8hMFP8b/Qn4kv/8X/EPlO3//RIiO/4X+HP8N/QX+G/ZL/Df8V/hP+O/wn8gb8e+ov+JfMf/Ev2LvwL/i78NXiU/gy9SROJ01CSfz5+J4qRGOVVrgaLU9jtW64liDD3Z21MCvcA9WJh/HmrTTMMr4UkgLZglRCSgqLCzDCiV+hW9ej2SjOOvi0zceib6+u1A4JTVg2TY/IRmsI0sHLKdbBz+pkOA11X+5Fr1Ehfpbxq637uz4nZGsGIzF4ZHRDpv4Bmykkd9vDDdmnkJ0Wr6o+Kh4IclDdcqlqC3Uwu14n6WmpspziZNZqi54L7q5OiiGaiwaa7PFsKZRzQCUNPJpOFeVJotKgSlA05MC5Q1/VJgrQgKd4OvnCg9fTzj7+cM2IBqWoVkwi2LGmzqYxtRjSzTRgM0xTdgUo1yzJDhi27AxtkOB8hmj/I5W6qMbsSmqQUEdNkfWYktkDUwiKmEanAMzn2hYuPnA2sUJ9k42cHaygLuLOXw8rISkCA92RlyUp5ArDKxZlBslxn1dZRpa67OFiCFJsK83ZgVdPY4fbBCyQSUfVEJCnxHQH7oEhi7UfRFnyQwdQkMxTsXNpFedMUChobRP43JSLkYXSaSezmKN60l74Vm1hpAbuWhtyBaCSSU4GCSUsTXUjCckncqXztGSFY2PPYKyN0chdf5MBNtuFrIiOtwNKQl+QniUKmNcVZoofTcyw7k3CCddQ84diPOpuVM08SByQ/Hbm/+qDWhJA/8TZR0a8re98gwmhzoKafF/t92sGPbpYtj/5h9/le9vKYY804WL4a9gzNaVeGr+VPk+I8lXVBj8PisjCKO3rsD9E8eKWwjrSFRQsSHfleOpBAbdQf754pPynW2+b8JY+c59TfKxkmxeKmnBtt0x+kX5TlBdwTgWUyJdhCBh3eKaZPzfrf8Q8oIuK4/OmCj177ia4qHJb2m2NZAW5wTP72ZlvL8r0sLJbrP8F/Sv5zX//qRxomzqv2w4YE93JYICPLXzrMDAQFHrGcrlFWWmZCiGMryLqr7gJLG/+oITRsa+4FvnjIwSxXhsEh9/Gtf6jD8DLg/s156eL9DZeRwNDXvxWGkIHi4KwAP5vrgv1xt3Z3vi7iwP3JXljrsyhxmUc7qbyPbAPTmemJYYgujoHGRn1ypGURdaWw8phtGpK0padHYeU4zmVrm23d19+mQD4X3AWDB8k6xPWaFbdGNZ1HQfVwy6vm+lxch1z4CRczS2BmbDIb4G3rldEp+Cb7apmLgQ4/b6G34tmUbU3yPfmY7R783WbsMgkH/409/kjTl/P/3aO3h39ufa9WettsJdOnEq/nLzHVi4xU2+T19uhvsef0G7jKTFDb/5ndYA5nF/fv0vxRBX19GFGL9aw5euIqfl/Hie1imdEvBQt09o/HtHZyM7zh0NCauxN+AOfOHzA/wrYMQ5SYurjpAf4r+h1wvR8e+oP6M0NxwronqwPO4gViUfx9r0L0RtsTq8TYeAKoBzUn0/wkLHxaeXFNDtK/YRtyORRHKJKU+tlE9RNsRUSDBTumjYxVaK6w6XOcRXY9zURYiqPSUEFvfPNLPM+sEUpnQdYkrTLb7pEvvENbVZMpfYx1UjuPSAqDSYxYTKGSpBdNtD6I6fxClRjhtecxyBJC6UdlkmtmO9nnSj9intyj2aLW4idPGg683lqC3UQuKDREh8fLxk5lFdRkxMtsDX2xVFeYlorssRZQCNaGbS2NFGAiNPJNW1Fali1BbnRiM3M0ze6KfE+yE+ykuIjLAgJwT5O8DP1xHe3k7w8HKCm6cTXDxd4OzpCidPdzh6esLBywcOyqe9uxsc3F3g6OYER1cHOLvawdXVVmmbDTxdLUQ94edljUBfW4QEOCIyxEVUAYmxPhIHgqoCGoAMfkl1CBUVzI5CooLBNamq4LmQIKBxqOsGQqiEgz4D4GKhS2D0h3q8vm4mOoRGr0JDJTXU+BmHdIgNUWvokhvd5ZIRRtxQepUbamwNqjaaMsLQ+sRjaH3mSdRNfAv5qxYh1tNKlCiM75Ga4C/KCvYd1RwtddniOsM+fC3PozeWhUZlca6UpyQsGD9iaqwHbn72MXwU4SwG/K/+chPedjURZcM9b72GBeVxQlr8+m9/EpJgvOMmPDzlbSEtRq5bjAcnjxdVBbelyuHJTz8URcTYbWvEfYTLXljxKSYox2csCpIMdE2Z6GMhJAMJkkn8rrSBag+6iNz26nMStJNKCrqbLCyPx93jXpVYFB8E2eOvTzwkgUFJhtz1+iuivpiTFy6uH1RQMNgmVRQfhjmJWuPpeVPFJeUV44V4SKnncsbPoEpEgpAOI9KC1yWvMX3t4vXL2BS8Pvsv0wWvZSqL1H3cc/ftV5S04D3B+DL96zua83D3XbfBzXnrgGVsiz4Fhgo57ws4NxW8t3mOPFd9y79LHFD6Ij4mWDvXcnd3V+Zje3r/+Q3lcooyizEUQ7k2CieZfFN2LvUFCQwbG3vx8c/KYiC9ZkP8iysM9iWN8q6u0+IiElTbCJ+yKrjmF8EhKwdWqemwTEmFRVIKtiUmDy8kJct5WaWmwSY9E4GZRcjLa0BFxQ5RWZDIIaFDYudyrrndu7+StKWFhQ2IjU2Hg4Ozcm2baK9zZgNh9GoqAMj8f5vhxeW8dyht5/rBNQNjOFBlob6V51tyvr0OKt2vGLgnNfEOLoCwIPqTFrfe8zA+Xeeg/e2b1y2SUrqc8Pezoyf0IS2omtAlLe574kVM/GSluAK8PXMZXhw3WbuMpMXfb79H+5uuD9w3SRa1rj9Uw5fnw/Pi+dGgdlfOd7OeoJwW8c2Id/4Y1Za/wy77ETjhOQJf+4/Af4O+R+JCB84hUZgf0IqlkbuwIuEw1qSdwpqkQ1jpFCduNSQAHOJr4Z27Q2JBCGEhMUnOuoPo6yfGCHl98lxRuHy80kLIh3dmLRcShIqZdz5ejs8s/DH2g0/hmFCLmSvMZdxJWoRXHZVtSZLMXLFN3INIdjBwKvv641Wa/S0198EcYzss3uqJ9W4J2Kjsm+4/JLrU66M/BhAXTV9qFBeFe+Ca1gLTlD0DxnBD5mlEJGRKjBemQeUzhET45agtdAsJEAZd5TOJ96bqMsIUqb4+bijMZRrQbMVQ1hgGqgKjRzGMJXOGYnCRxKCaoaYsGeXFmngMBTlRYghnpTIGQyBSE/0lTgJJhoRob1FEkHSgu0lMuLvEUeD3WEJZxhgNdO1glg2SISQm6ObBmBR0gaBLBI1sSs6pKKDCgIY23SuoDqEBTyNCJSo0qgpNUE0aLIQumaBv8n81oHvM/lDbRaikRn9iQ0NuNAwkN3QIDiE5el1ROFY7vG3QMe19NFiuR7HSlxyTjJQgeQNNo7lCGbP6qlQheUh0qAFFaUyPKvKW4JsqYXEu0oJxHUZtXiZxKAgSEiQeqGLg99Gmn2uJDJIWf3vyIbzjaiL1VEkwhgRjVIwxX90noCWJArphUFGxuCZFlo02+RxTYtyU/TrgtY3LMDnEAW87b8Frm5eLmwpVDwzkOTPZD/PL4mR9Zg8hETHGbCU+LYiUuBejTTTrM0YGM4AwiwkDhjLwJxUYJEnossJAnNwXlRVUg3CfJCTesDGW9jLWBc9/jNkqzGOWkyFKWlCV4+lqDhdHU3FDokLHzmoD1q9dAjenrXI9cT22kS5HjrabYLZlJcxNViPQ104IM939HVSuwZAAB/x/e2cBXcd1te3Vfn8pZW6Tfm2atmnD2DScpm3SpJQ0jE0aahpsvjCYUZJFtiyy2BZYzBYzWWTLlhlkZqY41P3Ps6/OzUi6dgwxn73Wu6ThmXNm5s5+z7v39h/9lu4jYsJIDdG6+KJz+5AWDTVZEjVxjB6X/Zr5zc7zTU4a5vM+MPMBzwuVf6LCne3Gj5BA/0HOufspkcry4vxEeeHZR+Uzn/mMPPzQHboPlFgsg1BlGsyZWdFnvzw7GanhEhI4RALGvCV+o99UspQKS2YdqgYlxAR598l7MCbSX4a88x/nWt9U1ReEonu/Rwu8o6cVpWvSZb63KBAwZ86c3re9tcM158vFmrVTz5C5m9wXVEiACR01apTXseOFExIyQVJScqSqqk1HqxkJ9+UkWhw4cMZxyj3ExQ511Kkkguqis3O5Kg5aWxcrKIl6ssFzbUuko6NHZsxYqWQF5A1hIcuW7da2OVSVD+3Z1rbQuV9bJTExTfz9A733M4Qco7mULiURFLH5B+pwsZ43AefGzTK6dmCc/OsxVY6Tmy1jplTryDhhE5SazOnuDSE4AMIC9CctzjrnYnl68ATvNKPzEAtxjkPL9LWOI4szbJb/8zW/PqTFsyMi5bLrbtEcG7c/9n8yKqni42XDPTktzDThD+wbx9zM8wWug+vhuri+qe1b9LyCSnoGtMuQks0yJXqkVEY5DkvstbI6/kzZk/AZ+XDysSctPkr+jDw/cZr8K2aGPJ+6RF7JXS9vTNsuryU0y5uh6TIirlSCs6ZLdPlCzRfiIaA+mbAw+LvT3vFOu1BFBqLigeeHqCqF7a78w20ydFKRKmMGReTq8VBKQFqw7R/vflwVGiRLpWwqypab73pMlz0/Mkor0nC/DY7MkyDnHFlvaHShTtOv7vPoj/7ERfbs3aq24VzHF8+TweW7BvTjhPxOLbGN2mLNmjV9clt8WsbzxbPJ71FwcLCXvBg1coRER4VJdUWOzGyvkLUrOtRR5uNewxl6SQxIgv1WzugNV8AZIuEk4QdtjoOBw9wX+eo8QUagmGCbma3TNNyBpJU4GTjXjKLiLPQsaFRlAWVIcRRwrHDYqVSAE2iICkgAnC03SeDro/9Ywn1u+4IhNQzc5Iab4PCEoXRpNZSVhZNlidOGtN2M6YSMOO3utDHtC9mDegZHjJFlDznVoYQP7fvHpjgNCTGEBQ63L9KCsqHkmlCyoReUP/3SN78uD2aE95mPauK7vzzLWz70pMMJSloU5SbIIw/fKZ/97GflpReekOefeUTuu/uv8pMfn6F5KDqde4f1IBAvveR8+cuf/yAvPveY3H/vbfKzn/5YnXZINbM/CIUzzviBXH/db+QBZ5377/2bPP3kQ/KrX/2sD2mRnhIud9x+ix73zr/f6p0PqXnvXX/R+bfcfIN3PoC4vPrKS+VPt/5O3nnzec1R8b8/Ol3uvvNP2o6QLddcdbn+pl595WXy8AN36HpsO/jtF+WCC87R/U5JCPXuk+dr4viRct65v5B7nOO++vLT8tij98gVl18kT/zzPn23sR7PzH+c9uEafvbTn4jf6Dfk0Yfvkgfuu01ucK71B9//rpI/Zr9HC+tXzVDCYtQoD2FBBTYGST8Nctuax5yvF2vWTl3jo5PRY0a6iouLVS4fERHhZUkBknpGq9PT8zWB5/Tp82XBgo1WgXGIoN3c5AXqApQXON1Llmx3sO0kB9e4Q6+3p2enkhW0g1FYHMx9xbpz5qyRxsZuoTpORMSkPuohslUnJSVp1QLuccI7Dtb4wWVUmW3nLB+Yu+Htku3yem85TKOySG5xnFzCQhynEOfwQAgL8LVvfVcTP5rpmxxH9U8PPO2dJiHkt793uoYUMH2z49zeeNtD+j+O9E13/lPOvvAK7/qvBiXLnx98Rh1n/9Q6Dekwy3B0f/LL873ThrRI79zmnbcvKHHhXBf5ESinSXhCZPkiGVzRr6JKxXsSkZQpWVmZUlmYLB25b8uy9FtkfdpF8l7yafsgEz4rC+Mukbnx18j8pBtkYfKNsiTld9KT9jtZ5mD5VHCjrJj6Wwc3yMqp18mqtKtlddpvZE3q5bI29VJZn3qRbEg9Vzan/Ex2pJwue5K/KR8kf1FzZJjj7J58mvwjuEKejG6X55IXycs56+T13DXyakiGDHKcfyqFkJg0sWGlhmUoAXWAhAWAtAhIa9BkqRBZEEqUmmUZeUXITZFYt9KZ1y0vjJqkIUX3PzdYFR13PvGqxFQuUSUF91PGzB3y0IvDlDxhXcquQoRAUhAmQs4TVCEvjIqWYTFF+03kCdzEhTfUp2W9xFQsljHTVvftQwcjp62T7Nx8/QDt6enRii0Q35B5n/YHKeEnqKBQQ4WFhXnJC4jH8IkhUl6SKTPayh0Ht022Og4KDoKSGN4yoK68DD2tmpPBJJskLwMJJ1FC4AAA8jP0h1mGIw0RwnaEeLAvCBIcasgSHGwICo6L0sBTqnTfoR/A18f+iQT3tewPHkKj22mTLm0j2o32NEk+yVOyeF6t075NKv+n35ToQcGxdpZO0we3NMd7yQqDAyUtWIeQidsmDO8z/3fvPC+XPPR33d49/6TBCRwessJ5xnDmz/75T2XU8Fed+6ZFhg56Sf78p98rCcmzft01V8jpp39fQ8TYhuf9pt9fK1/96leUbGQe99tZP/2x/OhHP1TFFfcgiWaf+/ejctppXxwQHgKRxu8f5IV7PnlamH/zH673zuP+/ttfb5JvfP1rmn+FeTzzf/3LTXLRhec47wNPvhqUIGw7IWSYviOYZ/bx9hvP6zIUImYepN4Pf/A9ue7aK/SdY/YbPG6w/M///I+EOH/Nutudfrr80gvlc5/7f0rc8E7bsGqG1Jany7eda+M8zLpHAxAWpcUfExbkCiP01ibe/HTN+XqxZs0aBoFB2cDZs2dLYWGh5r/go5GPReMEksAwLIwR60JVYDQ1zVEpPo6nL6fSYt8wDrrFx/DVTr4AaYb6p7KyTVJSsjSsyX2fIjOHgCMWnzh88lEcqvFcMKqMM1Uxl3wWfR26N7N6lGgYlVCujieyftQHHif3gwMKCzG47Ppb5Oa7H1MCJGfOuzIqsUKuuvnvHgc1Kl/++tBzjvM63Ls+4QA/v+ByeT0kVfNp/PZvD8r3zzhTwxJYfv/zQ+Ty62+V2//5f+pEP/5GgI6o4+j+4Y5H5Fvf+6FX2WFIi/8LSFRH1hzDF4zT61ZbELoysmxg+wSmVEpaWpqqumpqaqShtkxap02UJTn3y9r0q2Vn6hlaNcRLWkz5HymL/ofETIpWwomR95zsbCksyJVphXlSUpTnfBzlSmlRtoNMKS+aKhUFk6WqIF6q8qOlJi9canNDpSHHT5qzBkln1n+kO/OfsijjTulJ/6OH8Ei9Rmpi/iSPhNbIUzGd8nzKEnk5d528ktgub4Skad4I8kWQ/DKVvCSzdqsq4UAJC9qG0I+RCWVKZNFOVH+BqGA5ygZIpJjKxbpPyA36hHXinHYc7fQ7eTA4h3FTG1UNAfERU7FIpwnlYRmhK+mdW/UYEBeEnNzx+MsyPrdjwDn1h7cP53tCfSCrkhpWy4SSgflJBlW8JwnpRdp/VBIhkebhJuTcn7FP1ByUzCVsBJUUz7eHvBgu40ODvKVSF86pV2fLO8IPkeEOXXCHLADHeUHCjFMMUEb0h1nGuore7dmXkhPOfjmmR0VhlBS+SQrg6yP/ZAfXTVvQPoa4WLPck9wTRxRVBcQP7UybmoSktCPtyvqQHLe0JAxwuPuQFpUpmiNCSYvucsdhx2k/xTEH0sKTZJTQkRMtp8XnP/85Oe1LX9L+ZxrFjQmPQG3xP//zWbn37r/02YYQEH6/Av3e0WlCwph+5OG7+qwH8cH++5MWHIv1+5MW3IfMd5MW5HCB+EBB4X6+CTFLTgj1ziOkhW195bQg/INlbtIClQXz3OQEgCSFkPn15Rf1mc85sb4hTgyuvuoy+cIXPq/96Z5/pLByaavzu5wuo12ERV1dnSUsjoBZ0sKaNR/GCBrJCfloZJQ6JSVF6+sbpxCgwAgOHq9S/JKSBqmv75L29sWa/NCXo2lhcThApUH4R21tp2RmFjn3Y7jeg+Z+RGERFxcn2Y6D29HRoQTcp+FQmXwW7G9q5/Y+zhx4Y0qH5j/A4YyY1q2lKzWUwHH8D0ZlAQhJ+MuDz8ijr4zV0W9Ij7cmZmlowT/+b6TmrIAgMOtnOI7mfc++o4TEI/83SvzT6h1n+Sl1YHGI733mbfnLQ8/J3f96Q9f5+XmXyr+HTtRReXJc/PHeJ705M8h78cd7npQHXxymSRrNMfYFrovr4zq5XipRBJSvH9A+YzLa9f1RWloqjY2NWvKSEfv6+jppKEuV2fmvyqrM38umtPPlg+QvKXGxafKPJDdlvOTk5CjZQWWXhoYGaW5u1lF4A6YB+RbYN+swusMHE+VW2a6qimSvlRreUFIyTUoKs6UwZ4q8HJ4tj0dOl2cS58iL6cvllfyN8nJYgfblWO3LOTLZceIzZnjykhxMX0JSPPFGoMRULfa5/EhgeGyJhBXMVFUNRIuvdfpD+7CXfIKYYTsUHsPLtw3ox/FZDZrMeebMmUoEHokQEV9G2AgqqdzcXM3D5FYB+vuPlcSEaKmvyZeujkrHKW73EgcABxgYQsOD3rwMwHGUfaJ3nY/h2dbsz4R6AENMuOHrw/5UhOkD2pBQEZQUhkDif8gM2pu2Ne0JmGadnoWNvkmLhJFaupSElU+UT5FnmnO0qgZlS1EYnPJw2oEcHSTlpIrKiUdafF5+/rOf+FyWmjRBHfW//Ol3EhPp58WTj9+v8wnTYL3wXgKAvBDu7Xk+v/fd7wwkLZx7jfX7kxbch8x3kxbN9Tk676EH7uizbn/sj7QI9UFaPPfMIzqvpDCpz7rgl2efJV8+7bQ+/fPHmzykBX3nXvevf/69zocgdM8/EqCsaXZmkiZQ5p08btw4/e21hMWRMUtaWLP2CcbLh5E1nA0+HKmxz0i2e2Sb/wMCAiUyMtZZp0xqajp1JBzp/qHmKLCwIISks3Op44TOlPz8Cg3/GDNmrPe+A6iBUAXhUFGNANn6p2WQHhB4kBZI4uOm7xjgzL0RXy9DovK1AkR0+QKV2TNKTmjIwagsDHLn7lUn2T3PyPjd8wzYPyPxHMs9/8UxsXLtrfeoU2rm/fXh5+Tef7/VZ71DBcflmFwn15vsXHdoxZoB7TMyq1umTJmipAHvEBzQBQsocdutOQwgHOqriqWtOFSW5dwrGzKvkd1TfyQLM+6S6qoKJSdwlNlu4cKFmgzSYNGiRQrms8/58+erEoB12T+qsa6uLt0eIqu1tVWJjdySGvlX7Ax5JnGuvJDWIy/nrJVX8xwEpciwSUWaMwLSByee8qAH25e0OWoKdzjOkQbnRuWRT1LJ9AfbKfnUq7YgiWdA2boB/eiXN0dJJNpw2bJlGlbIcwFpcSTUFv2NY9HnqAC5nwICArzvAD6Yw8YHq/qivaVUFs1tcJzh2QPIBDfcTvK+4Gu7/vD1IW/hAe1DOxrigj4xMCSQr7Zm/v5Ii8vjR8odUWPkgalh8lhJojxdlyHPTs+T5zsKlbw41fF8R5E811Yg/27M1rwdX6l3HP1+bXi8kxZX/Ppin8uiJnqIAJY/8dh9Xjz6j7vkvnv+qkQB6wWM9SgvIiaMGrCPn575v4dFWpBIlnlPPf5An3X742BJi38+co/Oq6vM6LMuuOTi83QZz5GZZ0gLCEH3un/7y006n3A29/xPEzync2fVyuTESap+4z3MwCaExeEoW63t3yxpYc3aQRgvo/Xr16sDUFBQoBL8SZMmydixfR1JwkjIg5GSku04Ky2OozBbnU+rwrD4JCxYsMlxjBYqUVFYWO3cX4ni7z+uz/1Foj4cF8ologZCFXQkRnwNaQERwjHCmwdWDnkjplKGxhRp0kaPo7tJSQQNDTlAJ/dIgNwGVAsh78Gw2GLN03Dboy/K6MlVPtc/FHB9jNJzvTj4YVUDSYvhuYu0RjtqBwgEciIwUk8JNJxfCAcSPLa1EW7WKO01GbKk7G1ZP+1+mdnWoAQEZBTr8+7ZuHFjH0CoApaBdevWydq1azVhJMdZuXKlrFixQo+F0wuZkVndJS+kLdWqIeSyeK1ws7yWvkhLjY5MLNeKHpQV1VwWjjNPCMWx7MsjCSUtIJ/mvq8kC/lJxlesHNCPw4pWaZgPpA9EEc/DkcprsT+DRKd/+Tgm7wWhIwPUF/FRUlvlvBvaymXpgiZVRvj66P4k9N/G4uBg2tEQE77Qv635/5NIiwsTR8ot0aPkttQQubsgWh6oSJKH61LlHw3p8khTximPfzRmyMP1U+XB6mS5d1q8nFY3kLQYFjrkuCYtCL3wtYzElTjkL7/0pHPObQOAgof1wkKH63pBAYMG7OOHP/juANKCnDWsf/vfbu4zH7UC892kBdWJmPfgfbf3Wbc/Dpa0eP7ZR3UeoS3udcGvfvkzDZlx98/HpEXfMJAjTVoQHgc5HBU5wfveJZk/v+FWYXFkzZIW1qwdovGximQep6OiokKIPSYGPSQkxPsiA5SbDAwMVuczJ6dEc2E0Ns7WUBIc1IPJZWBx8gElDoqc5ua5Ul3d7txHxRIeHi1+fv597iN/f39JTOQeytGQAJzTI83oG9ICiToO8oRGH6TFpEqtzkEZSqpDMMJOeMXBhoZ82iDXxLPDIjSs5LHXAzTkhBwLbuXF4UIdXuc6uV6uO7x6IGkxLG+JvhcgLSAMIBNweBmp5y9EA8QC1YxQS1AejfUWdLfJkgWzlHBgHd41O3fu1FwKgD4x/wMSpQLWAYQvAI7Dtihl2M/y5csls2mpvJK3QV4t2CSvF22VN0t2yusps+TtsCxNchlePKc3zGeHJ8znIFQWJyI0t4WST3uUdIuqWj6gH4dM26Tkk8lrwfNAHxxt0sIYx6R/uV8g0CExkSZ//LszQoKDAmRKUozUV+cLlUd6FjYfF07ZqQRDSuwLvtb/JNLie/n+8rNsfzm7MFjOKQuT8yoj5IKaaLmgdpJcWBdzyuMCUBst51dHybnl4fK5+r7tB4aHorQIO+FIi/amAs1J8adbb5Qd/e4fcs+Ye6o437lvHMf9X08+2GcdEu1+8QtfGEBaUB71//2//ye/veGqPvNrK9N1P27SAoKDHBOoH/oTButXdXj/nxTpp9tOHD+izzrAF2lhSI6wkL7rk9Pim9/8ulx68fl95h8L0mLZohapLMt23rV+3nct32UMLhyL34FTzSxpYc3ap2C8rHAYGNlEzs0IOJJ9RsHcpVTByJGjJDAwRKKi4gQHtbJyujQ0MNK6SObP32DDSU5yQFLNn79RSSv6vaKiRZNphoZOVIWO+15BAh4fH6+lSslPgAP7aYZ/fJIZ0gKnmNH8yKaBOS3ejKuVEXElmhiRJIrknMjtfveYkxYGjKBDYByJc/GSFr3JOCdWDwwrGJ49z0ta8GED2URSUxxeAMEAsbBp0yZdZtQRKCsYUWe+WZ8cChBVjObsCywHrAsIK+CeoQ/ZD8fIaF0nb0zboWTFm6W75a2yPfLGlE4tP0pSzKjS+RruktVbAaZ/6I0bRmXia9mnCZQfvuZ/GujTjx1bnPt4IGkxqGynPouE+UAqQQDRprT5sf5Y5RzoV3KZ8K6IiYnRHDfmPQKBERI8TlKT46ShtkC6egkMQhR8fZhbHDscCGlhcfgYMX6YZKSES31V5nFFWlDph0oZ5597tt4H/ZcTWnTjDVfJ17/+VclMi9TKM4RMUJo4yH+Q3je6nyXN8uP/PUPOPvssDbcgie6iOc5v9dCX5bvf+ZZ85cunaRJYs1/uO/JGnHH6D6SpNlvVBPNmVcqrLz0lX/ziF+Q3V1zibRvWpTQqlTtio/y1xDL772ov1USghkTIzohW8uCV/zzpPY7BkLdf1GVUBjHzSDb64/89XckIKp0wj2OSn4OKKqNHvO5dl/mXX3ah7oNEpWY+MKTFLOd83PMPB6jVumdUy9TUeK+yDYU1ibL5LrOExdExS1pYs3YEDKcBZ4OPW3INIOPFcSHmzS3lBUyPGxcsERExzguwQMNJSOpJiMDcuetk+XJbmeREBiTUvHnrtT/r6yEppmsiTfKfoMDpfz+EhobqqCmKCiTgyPpxbI/Fj2J/0iJ+uo/qIUnTPaRFboencojj9B1PpMWRhHF2uV5Ii9CajQPaZ0TGTH32SYhpKk9AcBrygb8QC7Qx/QyxgDIC8D/zIB1Yj74wORT2BZb3B9uxPcfgvZTRsUneKn9X3lbsVbw5pVOGRBVIYHqTTCpfqKVHPVVD9h/m45dcI0MnFflc9mmBZKAPvzTC57JPA95+1LwWWyWhbmB4yDvlezQRJglVyRUCSUA/Hg+khTHOg/uF8BXOkw/q6OjoPsQ5+S9CQwIlNTlW6qrypLO1TBZ01zvOjkdWbnFs4SYtKDdrSYsjg9ETR0iW4/Q31mTLguOEtGiozpS333hOHe6vfvXLEhY6QnIzJg1YrzgvQa6/7jdyyUXnyaC3XpBxfm+rouLuO/7Uh4gYO+oNOeusH8sfb7rBcfhfk9df+bc87awHKfCZz3xGxox4XWpd+SP8Rr8pP/jBdx2n/w/i52z7hrP+Ky89Jb/8xVnynW9/UyLDRilBwbo15VNVlfHzn52pyT/Z/9NPPSR33n6rN0RlXlelnH/eL+W8c8+W6IixkhgbpOEmsdH+cu3Vl+t13vT76yQuOkC34d73H/OWXH7ZBfLyf57SBKPjg4bJVb+5VP5+2x+9RMasjlIJHz9CiRv28carz0htRbr3Ogxp8fJ/nnT6N8s7/1CxfPF0aawr1JLT5j1KXjvesQw4WDt6ZkkLa9aOsOE0IONl5JSYt6KiIh0NQ2pMEsX+SgyT1JMQgbS0XK1MQmJPQkpwfLu710hPz84BzrHF8QFIpjlz1sr06fOlvn6mlJU1y9SpeU5/TpJx44I0XMjd35AWERERqsxBoUOiP0bYj6aiYl+GE2RIC+TwOLv9nbm30ufK8NhiCSY8pKo3PORTIC2mNK+VIdEFOvrP/nytc6CILJmn+yH0wdfyQ4Vxdjm/tLZNElA9sOrE6OR6JaEIKyD8A9IA1QTOrptUYNooI4wKg3vAqCvchMX+jOW+wPbsk5CU3Bmb5O2K9+QdF95KnSVDowslKKNZS4tqEs7Ze7y5SSgJOzKhXHOEaElZZ964qQ1yzR/vkD/c+U8te0tOCAgs/qf/3hyfoXkyCDWhtCzzJzeu1rYLzm7VacqXmvaE+Bkcma9hPJSwpTwteOrtYDn9zF/o+pRNDem3LblU3grLkjFTPPlKJjetkXec/iY5LPk5XgtK8RArzjkXLvxIy61yHRwjvLhbtyEExiTjjK9fPaAfB5VsUwUD1VzIQcIzakgL+uV4M84J0guiDOKc/Ev981/wWxM4zl9iY8KltDhDS6gymriqp00dCF8f8BZHFm7SYvmiJrnVkhZHBAHRYyUvK0Za6nNVgbB2xbEnLTJSI+SpJx7QhJTg2af/IYH+nhKmbnCPVJdN1eX33fM3eeC+2+Xll56StqaCPutxD5Hb4qH7b9cknS8+/5iqGVBHsP+nn3xI0qaEeddfs7xNRg1/VffHft987VnpWdig5AfrP/fvR1TRwbqcAwoO5uk53Hub7p98F2Z/rEMOjoce+Ls8/s/7lIhAFfHSC497r/ExBy+98ISWWmYb+iA5MVSXPfnY/Vqydcg7/5F5s6q8+yVkhWs3+6DNUpImeJdTTlXnP/6AqlHM/IMFahPC6tLT4mVMr3KNdybhIOS143fZ2tE1S1pYs3aUjY9JRsOIbad6AB+U5MOgKkl4eHgfWa8BFSOCgkLU8U1OzpKiIsoZtmt4Ac7xrFmrZMmS7T6daIsjBwgKQnpIskpOCpJnlpY2agLWiRMjNYEmP3LuvqR/6WccWcir4uJiHbnFmT3efgT7O7vV3WsHOHNvFaxThzDQcXYnOc5uSm/FicMlLWIqFsvdT78pP/jfszRUwdc6Bwqc1Ov+dI/85vd/87n8UOEhLT7Q60WZMLxq14D28Y/NUUKKUqS+Ejga8F4AhsAwYBqwjPUOxUw/clxyW5TMGqgIeStjodOPkBYtH1cO6SUtUDrcdNdj8sywCHnkldFywRW/1SodkAHf+u4P5dLrbtGytBBWTw8aL9//0ZnyzJCJco/Tf2eefYGWmKW07PfOOFMJCdqO0qq/uPDXmnPEtOUTbwbKn+5/Wp4dFi7X3nKn5iIJK+iSy66/Vb71/TP0GBBPbHv2hVc4247SbYOzWuXKP9zu4DadRily8z1PyOU3/Eked/b5hzselXMvu0b7CrLkxr89JI++Mkbue+ZtufG2h5RgUdLCuSauNaZ+4H0+uGjdCUVauI3zQ7lD/gtIc5NAesyYvuFoY8c676aJIZKTOVma6go1kef82XWOQ9FpSYyjBENaMPJMTP6Dbcnyg4aJ8r26CfKdmlD5VnWIfKMqWL5RCYIsDgrB8s2qEPl2daiETw6R0sIkaW8ulKXz61WhQOjFsSQtDhacK0TDhlX7fz4J3SAvxIFcG/thfyhPDuSZZ58kAKX99rX+prUzZXVPq7avr+W+QCng1T3TnXPxhLscTWxznr95s2o1dwVhdeb9iAqWCoKEbx7qb7G1wzNLWlizdoyNlx8fv8iN+RguKyvT0ICUlBSV9gYGBvb5sDTA+SWsBOc4KWmq5OdXapJPQktwoDs6lmiCx8WLt9lkn4cJ2m/Roq3S1bVCSSLIourqDlXBpKfnO85MovODFiZ+fpQh7EtS4BigpKA/s7OzVVJIPxt5+fHs8PR3dmcvWiGDK9/r48y9Xb5HBsWVS0BqvSoacAAzZ+6U/E/IhXAgiJg2V2WeZnT+cPDPV/3k5+df5nPZocKUPOV645s2yqB+bfNO+bsSEhGr4WEkT6UKCO3oJi2M8b8B90R/mGWHYmzH8VBxcPyGuQNzb0A+ER7iKV1LeAilaz3hIYT9fPUb35aIkrk6fcfjr2hpWogGyIMn3w72lkQtWPChfOVr31TyATLnkZdHqTqC+V/+2jdkcFS+t/0gI+566jX9H2Lq69/6rlahYZpqL0++FaT7fOqdEPnFBb/2HoPll+u2r3v39fBLI+XcS6/xTqPE+MKXTlOShOt58MVhSlrceNvDWvoWkoJEo989/SfyWkiqkmxGaTGxdiCpMzR3kYaH8H6GZHSTFofaL8fCuA8gMFD9kJ8DwpyRw6CgoD7vLcJISOQZM2millJtri9SEmNBd53joBx9R+JUgSEtGOVds6xN4rsK5fWmFHmhMlaeLJoo/8gOkfvTx8m9qf5yd8pYuTt5rNzlQP+36ANtF8UYZ9pP7kvzl4cyg+SxvAmSnh2jSoHZnWWyYnGTqhJONNLC4tMFfb9gTr3U1+TLpKgwfQfyLuRbm0FFVLD8dls7dmZJC2vWjjPjA5gXI7Hv8+fjIDdodng+LhmxZbSPkpf9R/A9H5qjNLTljWJwAAAxbElEQVSEcqvR0fGa4DEvr1zzZBBigrP9MaGxVpYssYSGGytW7NGytJA9JMpsauqW2toZmiwzJ6fM+bhPk7CwSM1F0T9ppoGfn5+STfQV5FP/xH0nkoPDueIw4+wSu7ls+QoJrB1YQeSdqV06mo5cP7F+pTp+OICHW3WC0ABDWhB6MCS6UN4cn67/s3xUYoVOkwDUbMPxCQUhTOHtidkatsH8fw8J85IWqDjYDseWEpdm24OBx0E3IQVbJbR2YL6PIQWrJDwiQsN+2tvbNWEX7Uh7GiLClzG/Pw7H2N6QFjisc5es9EE+7ZZB0cXin1YvkaUe8ol2hnwibAOS4I/3PimvBiVLlLPctMPZF12hpIK7bSAfXhg1Sf939z/z3aTFVTf93UtajE2plc9/4Yuq7GAalQfg/38NCpWzL/y1dztw1U239yEtHn9jXB/SguN87vNf0NAd9zl85wc/kjsef1mGxRQrznG2efCFIUpasC7XOs5HmM/I1GZJSEjQhKooFo6nRJyHapw3xAv3ZVNTk44iQq6iBBuYQHqk87szTkNJivLTpKWhWGa0VagSY83yDuvsfUqAtKAtkckzer1sUaNK+pvrc6ViWrIU5MRpLob05Ikq7U+bPEFSHfDXoi9Mu+hfp60yUiIkN3OSTCtIUsKCUIfFc2tVhYCyhcS0B6IusDi5wPO2aF6DNNUVSVxshPPu+ziEjlKmqGF535+o7/mTySxpYc3aCWA4OHxcklcAiTmjtsh8GbnHOY6Li1PpWv+kjgYQHGPG+KmzDaExaVKChjDk51eoQ/4xoTFHlQSEO8yevUqrXBB2cnJUNNkrS5fu1Gvq6lqp1VogcLhuiAlUKoR25OSUattERcVKSMgELT3qiyAClBjkR41QD5Le8dFPwkXIJvoK8ulE/6Hj3iOvgglpymwdOEr/TtFGGZFYJaE5lD1domUjqSph8iEYh/Fg4SYt0hxn8qH/DJdvf/90iav2kBTPj4yWM848W/MmME3pUVQAd/3rDXlmaLhccu1N8lZYhi5zkxYj48vkxz8/V+588jWJqVqi8w4WXJeWyZy1W6a0bpYRVbsHtMvIyVU6Ok9IQVdXl7Yf7UgYEO16tIx70PQjeQ5wUsfWDDzfdyY3ydgp1Zq/IqlhlYZK5M3ZqwqH8bmd8ucHn5Grb75DbrnnSZnStEbbYV+kBSEc7nlmvpu0IFzHkBYQCF/68lc074RZbrBv0sKzLfjna34DSAvUIWba4Ctf+5bcfNdj8q/B4xWPvjpGc3lwr9KXydM3ynAffekXm6fPOclxUSkc65KnR8K4PyDLUYJxz0KUc80knev/28KHPdLp2EnhkpeTLA01BdLeUiqzO6tk6YJmxwns8ukgWOwfhrSgIgSONNJ78gpQyWFm2zTNW0AeBnIHUOXB4pPR2Pu3uS5HpjfkSUdLkSosFs2tk1VLW2TD6k4liVC4WNLi1AEk1bzZtRoKl5QQ5c1bASZOnKjf1+QEsrkrjh+zpIU1ayeo4YTw0UwuBGTnSNfIj8HoPnJ0RswgM0j26e/v3+eD0w03oUGIw8SJURruMHlyurMf52M+v1LKyprUqYfcILkkSUFx+EkM2tnZo2ETkBxUO4EUWLhws6o4SBiKesE3iXBoQBmybNku3f+CBZv0mOT0mDFjmaojIF04t8bGbiUkyDNRU9Oh5ExhYY1eE4qJyMgYJXAoPwsxgUrFV/sASlvRjoy0pqWlCR/zhYWFqoKhjCVScUbQ+eg/2dh47jNGkxlVxqFpndMjQ6v29nHoSOo4OK1LAhilL5mriRBxeMkRcDi5LdykBdOoKJgmUSTTONPkT3jJL16nqWCCY5zU4Fn/mWHh8kZomv5vSIucOe/Kc8Mj5Y4nXlYihGUHC67HhBNwnWH1jMz3Cw0p3SmB4QkqKyUJJ0QW7WdG548maYEZ0sKQTwnNA5OqvpO7XMMpxud1ShyVYNo3KxGEGiUos0WrpFAS9Yc//pkm1qQtfnXJVUoYuNvn69/6jia6dM8D3z39x6rU4H9UKr+44HIv8UBCzM997vOS4PS5WX9qx1b9+++hYfLTX13onQ9++9cH5M8P/ts7/bd/vCDnXnq1d5rjf/2b3/FOG/zyot/0OV/Ce1CUkKODcJFJjbRLv74s2ynB4XFKTKJIWLJkyT7DfE4W45ogyk3uJUYbTQJpX1Ww+B0J8PeTiRNCJGVyjJRNy5TpjdM0pGROV40sXzRdQx58OQ8WfWFCRAhXMMQFJSzJvUDSyAXd1ZqY0OLgQGnThd01snherVZmIc8C+Ru2rOtSkgiyyJIWJz/IkzF7RpXUVubJpGhKzX/8LmPwj/fczJkz9fva2vFllrSwZu0kMj40+ZBmNBU5G2TGjBkz1GnCyYbQ4MMbR4oRYEbQ9kdouMFHKuQG4SfBwaHq8JMYNCYmyXHmU5yP2QxJTYUwKZTs7BJVcRQV1ah6gTKflZWtmjwUAqG2trMPIEOYD8gVwXpuQJgA9lFe3izTptXp/jMziyUtLUdzesTGTlZ1BOEbnFtw8HglYkiGSSLTfaklDIhbJK6b/BPx8YTWpCj5g7QfSTjtuHz5ck2kiON5tJ3OY2XcU+7QgiXOPRXZ4MPhLd4sI1OaZHxuh8RVL/Ukcpy123EGDz23RX/Sgn26SQvwo7N+6SUtnh0eIWf+8mPnFicUZ5T/IS1+du4lzroJ8lNnHRKGmvUOFlwP18X1JU7fKsOr9gxoj6Hps1Rmz2jN9OnTpaenR9uPdjwWjm5/8ql21grnPPuFiJTtlqFJdZpUNbp8geaZyHQc+rDCLg3lQG0RktMmF175Oxk3tVHb4vo/3yfX3XqPhOa0K4EDufHF074iD/1nhFcRY3DtrXfL7//+DxkZXypvh2drf1xzy12SULdCQ0EuvfZmufOJV1R1QU6LtyZk6naoJr7x7e+JX0qt3hPMo6LILy++UobFTtPlN/zlfjnjp2cr+UGIB6qcL572ZT0fwpXMOXAfXH79Lbr/UYnl8krgFEmsX+WpANO+VfxrBoY/Dcmer+8F3gVUgOI9cCBhPieTcZ0QXqtXr9ZQJ1MFi98S2gZid+A7dZQEB42TqMgJMjU1XspLMqWlsVg6p5ep07B0QZM6ENZR7AujtjDEBWQPzvW6FR2aeHH1slZ1uFdZHBRoN0JBTOJICCGjsLAqi5Mb2zfOkcXzGqXDefdMK5yqCYdHur4JUVbwPmPwj/ectePTLGlhzdopYnx0QmjwsQ2hwWghI2huQoOXNpnlcdiTkpI0wzwvc5z5/pnmDxaU+hw1arTuZ+xYP1U38BdAhkAsAHJFeDBa1weoIED/cqEHCggLyBlGCMk3wWghYTWQElw3OUPIPUHYDUn2cDBx7ChVe6pLA3HIuHcYpac9cFpqZyyRYVXvDnDuBuctE/+pzRJRPEeSNLfFVh2pJ4ziUIiLAyEtTj/z517S4ok3AgeEERjgrP7orF/JnU++Kj/8yc9lRLxHKXCw4Dq4Hq4rrWObjPOV46N0u/hFJKsyh8SNyO1pN9qPdjwWjq4hn3gHQLwtWLxUxvpw0AflOPOTa735SVA7JDWukb8+9KwSPrT1gy8M85ahRdHwx7ufkP+MiVOFzYtjYpXIuO/ZQZqc1d12Y6ZUaxWSh14cpgk6UcL85aHntPoHywPTm+SWe/8l9zvb3vvM2/JacKrOn9K0Vn53+8NaXSQwo0XnoQRhX6z70IvD5ZXAZF0HMgKy5L5n3nHO417nvGL1Osw5pM/Yptvc8/RbzjmM1v8hsFBbxDZvGZDrA2JnTEyeEpkmiS7KqmMR5nM8mSExSChMzh6IXUgdfj9oK0YsfRHFhJVQZjU8LESSJ8dIccFUaawrlLbmUs2R0T2zWpbMb5K1joNOFn9fDsipADdxgYwd8mLL+lmy2XGyITEsDhHrupSooDoF6gral3a2KouTD/TniiWt0tVRKXXV+ZKUEC0BAX7edxHvJ74H+QZEWcH77FQgoE9ks6SFNWvWvIQGL21kzzjslHUidpuXOZJoPkohN/gwZfQYh59QCQgORtsgOfhYJVEoeR4YZUbJERISIlRAgTSAiNhX3g3AjwhgHUAyOLYBHrJjrOaR4IMYMoXjEALDsTkHiAg+mjk3Qjj4McrPz9dRQWLRqa2NTH/VqlUak44ixUi8re3buD/MKD3ttnDRIolp8JHbomKvDM+aK0GOE0rFBpI5apiI4+BqfouDJC6oWgFJQX4FplFOfPazn9URf6azunbJ1775HXlprIe0II/Ct79/hnPMHd59MOrO36cHT5DTz/yFEh+3//MlOfeya/sk8DwQKGHhXAcOe7pzjLDGHQMrhjgYmtomYWGekZvGxkbNQ2NyIByL0BDMkBaQJiavRcb0VQPO/Z3y3TI8tVWreFDCVtUWM3dqO8ZWLlFVBMk5vW2y8CPtH4gCVC0QDAaEl7jbDxBqElu1VHOe0H+s51ZCpHds030x3x1WNLXDOX7VEl3uXpd9sQzlC9tQepZ9m3MAEExmG8C6es5O/2fN2qnLU9q3iV/NwJK1gwvWSEhYpL7r6urq+uSzOFZ9eTwa9xf3Fr8fy5Yt0xFL3rsmgfT+8i4pqew31vmtCJSI8PEyZXKMFOSmSE1lrkxvLNbRURwPkn4uXzxdNq52HIxTwMHkGg154YZRBlgcGvq3p2lnX31gcWKBfjREBbkqMqcmyvjQIOe98zGByrcoA1cMVvE9yDegtRPDLGlhzZq1AzY+TBldxHnF8WHEFoKDkUdIDhQKOGjkeWBEEpIAaTy5H1B0oGYg7wbkR3/wgUvcNMtJAgcYpQZsV1FRoUku2RcfxJApJElCMQIJwYgfzgQfzZwb8dj8GHG+lj0/PDMOL3J42pa+buicL2Ordwxw8gaV7ZJRWd0SmjdDncwUdXp3aP6HgyEuIDvempChpMU7ETm6Dxzkn5x9vo6OM2r/WnCKkhRUkUht26Qy/7POuVhLcFJZhFF3qojguDKiT/4LwgdwvH910W/ktkf/o9O+jt8fhrDgOnDio5q2y5B+uT30+gvXin9YrJaR5N4lrIj2ot1w6o5FaAjGMXGweR54NnheZnQvlDHVPtQWhetkbFqLhBV0aY6JtPbNGgpjFDOHk1z1eIEnL4mnPyG5whq2DySgKt6TkXHTlBzlA5ewCHdoyLHqyxPFuN9MAmne07y3ea+7E0ijfoOUdpMYbhBigjJjwvggiZkULulpCVJanC6NtR51xsz2SpnbVauhJmuXd8jWDbN9OjMnMoxTbXFk4KvNLU4cQGIS+uEmKiaEBqmqy7xHIEYZSCM8mm9RvhlPdRXtiWiWtLBmzdpRN+NA8dfA2vFrpr/6qC0WLpSspiUytHJgmMigkm0yOmeuOr2MZjP6DemQA3FxgI4vBMQTbwZpzgNIiKTeEJGXA5LklnuflEdfGSv/eidUHnxhqNz9rzdU2cFyypjeev+/NKcBIQKQF2EFM+Xvj72seQ/IpcB6w2OnaQlPyqOaY/oC56mEBSEhOLjOdUQ375DhPgiLd0p3yMiYAomMjFSVD+FGtBPtRbuZkfljdb9zXBxtyDzIPUjGjOYVPp31oblLZFxmq5Y/JbEpaggUJoca6nM8wUNYfKjKEHJ2xLRsk2E++nNw3goJmhChKq7q6molYyF73KEh9t11cEZ7mbwq5FyC2IaURhGHMgnlHoo9HAwUevtS5qk6w3+shDrOSVRkmIaa5OekSHWF89zVF0lbc4kmAZ3VWSVzZ9WqU8MI7PqVnRpq4cv5sbCwOP6xee0srVDEs02yX0jMyYnRSlSM7kdUoPbl/Q3pzEAaeaXsO/vENUtaWLNmzZq1TzTj8Bq1BTkaumZ3S0ztKsfp9aE4KN0uY/LmS1jRbJX7p7RsUPWEx/F9/xOrijCyjyLCAMk/81FbsL/osoWS271XQxBYzr7Ntigrokrn61+mCW0w+5ncW1kEoCAg/MFM94dxbjnfbOe8p87YoQoLXw7uO+XvyrDkZgmdMFFHkVEFkR+FdqK9joeReY6No43DjeONQmpG93wJrdns83pG5CyQ4JwOmUSoT9M6V//1EhefQDwdj+C8DWGRNWuXJLRuk1HVAxOpkpdk9KRsjXnmgxeVACSPqRpiQ0M+XaM9yfkCmUF4CQ4GqjrUd5SSZoSU8quEH6LO8PP7ODa9P5CC+/mNkeCgAAkLC5HoqDBJcpyazPREKSpIk+ryHB2RbW0ukc7WcpnVUSlzZ9XIorkNsmLJdFm3slO2WGLDwuK4AHlcli1qkdkzqpWMrCjNkpQpsRI2IUTGjOmr0oLkdBMV5G2DaLaqipPDLGlhzZo1a9Y+0YzDi3NBPL+JXW9u75Kw6rWOozcwt8Ogsh0yumCpjC+aq6Ei5LggOScERO6c97zhIp+kujja8KorNHzgPT3f5PbtmsPCJ2GBMiG9SwLHR2hYCBJ4RpBpH9rJnf/gWI/ymD50qy3KW+fLqCofYSLlu2VU7gIJzZspMZWLNR9FH+JpwaGXsz3q6NenEBbx07fL2NrdA66b/hw2pVnGh4Vpjhzy4fRXWdjQkKNjtDGEHyOklF8l/JBnC+ULTgk5M8g3wnOHwik4OFjzH7kdGV9gFHbs2DESFBjgOD/BEh05QRLjoyQjLUEK81KlsixbSBDKSG5bS6mSG8jPux3HCeUGBEfPwmZZtbRNSY5Na7uECgW+nC4LC4tPBvlFeJZIxEtCXp65loZiJSnSUuMlfGKo+DnPbP9nmWeepNfkMoPkhKgg2bwlKk4+s6SFNWvWrFk7IMOBwFkjNwPOG6OihD9UT58lIZUk5vRBXJTvkZHFKyV42mKJrlikCRDT2jZpXgicX5IiquriOCAvDFnhGYl/X88vwzlPnNugup0+Kks4qNgrQzLnSkBYjJYRRube0tKizhXtQzsdy1wW/c30oVFb4IjPmzdfUht6ZGjlQAdeiYv8xRJaMFuJi4+Jpz2qVjB9dzyrLuhXCBaIFkJ8uPdiISxqfBAWDgZnLZBx46PUEaZiCB/B5LLAcYbsof2syuLYG/1AzoxNmzZpYtk5c+bos0f+I/IkodAg5ATlE4n3eD4pz0pyaF8lWvsDYoORXCoOoNogr0aE4zhNig5TgiM1OU6yM5KU5CgryZTaqjxpqi/yEB3NvURHe6WWd4XoWDinQZYsaNJR45VLW2XN8g5Zv2qGEh6ErOC0+XLmLCxOJpBHhHseVRPJdSEDUVBQ4YNnKTkpRiIjxkuQ88y5wz0MCBvjWUZ9BXHJM88AAbmG7Hv55DZLWlizZs2atQMyHF4+CnAWTJgIIQYkRC1rnCmhFWt8VtPQkevSLRJQ3CMTSxdpVZDk5vVa9YEKEjlzDHnxgeNcfnR0nWBDVChZ8YGHrHDORytbtG+XiKYdMroa53YfhEVGtwRM9FTNIY8Fknbag3Zxh4UcDyoLzN2HOOA44iQK7eyaLbE1y2Wwr1AfiKfCZRJSOE8rilCClpAb1AqaYNWE+9Bvvtr4GKEvCYViZo9M7dwuUU6f+gwJcTA4b7mMDfeUe6ZSkpuAwkGG7Dle+tLavo0+Mu8ocsoQpkUyUEK2SA5N+BbJn+ljiA3UGoSfkBzUEBuEoOwrp8a+4CU6/Meq00WcPSPEhKjEx0Vq7g1GjbMykiQvJ1nDVcqmZUhVeY46bU11RdLcUNxLfJRo5ZQZreUys71CY/gZgZ7bVaPOHiQIuTqI7+9Z1CIrFk9XMmT1snYPIbKyUzasnqkOopb53OCpnGGTT1ocSaA44r7jXuT+5H4lBIt7mfu6vqbAueczJSM9UWInhSsZ6O/nWx3F88ezyO8rzyiDAlTk4llGKYhq0NqpY5a0sGbNmjVrB2zG6TVhIji9ZOJmlLO8oUMmVK5yHF/fDqGO2pesleDS5RJV0aM5Jsh1MbVjq2R1obzY4wkb6XWCDYGhCoxPi8TAke1DVHhG4Dkux+c8Utq3S3Tzdgms2+mzQoiibJcMnTpTAsJivYRFfX29tgPtYUblj5ewELeZPsQBJykiI9UkRWxunymR1fTfwOSqWs522loJLFosUWULJNHpO8rHZs7c7lFdaL+5SCdfbX+U4CYrjLoCEmpyG1VC9hHi42Bw/koZE5WhYQaEHdCfhIUcrwSUtcMz+hAVFLk0eAYIP+E56O7u1hwmhKBQzYrRXFQb3BNI0FFuQHCgxGHEl/uFOPqgoKBDIjrcgPSg6sHYMaM10SiVU0KCxmnZRvJzUBI2OjJMnb2EuEjN1ZE8JVbSUuI0tAUyJCdripCUtCg/TaYVpkvptAypKM3WJKV1VXnSUFvgIUfqi1R+jyMJWptAiZIlHpRqaEx7L3A6DVCRAJKdzmirkBntFUqsANQljJ7jqEK0gNlgRpWG1yhmVsucmTUeOE4tji15RVCkgHmzQZ2SM/O762SBol4WzKmXhYoGDdFZNLdRFjmOMc4xWDIfNKmiBTJHCZ2FvVjUoiqXZYtbtHTuCsepXtXTJmuWtcvaFS6SZ02XJntE/bLNEj1KQtAetA/tRRvS5vQP/Uj/cg9wj3A/oTjivuNe5P7kfiUEKzDQf0AOCjcoRUoCXp4rwvJ45gi1hGSEOOYZtSEfp7ZZ0sKaNWvWrB2U9Xd6DXHBx35FQ6tEViyV4RUDy6EaDCnfJWNK10pI+UqJrFohCfUrVXlBYkyqjJCEE7VD7tz3PlZguEkMYIiMT4BxYNWJBeynV1HB/jkOx6Ps5eS2bUpWBNfh2Ppw3A2KN8nw5GYJDItWp4WPq/6EBe1yPI/Kc1444MZpIwaYD8P66Z3aJ76Jp/dkSOl28SteJmGliyW2eqkmOyUZapY33KcfeUE/+CAWPnW4+tpNRNG3aZ3bZZLTrwG1u3wrgRwMzlsmo6MznY/mCJUd47AyKo8Khf48nvKSWDt6Rl8bZRlKGyToKDcgsghJWbx4sT735NloamrScoqEFBGegoqD8q4QHYwSkxwwKSlJ4+95b5DkFVUHhAejycjecdzIyXE4xMeBAHKEY1BSFkcSkoQcH+QMYNQbwgS1SEAA8JNxAf5KoOB4kgcEFQkhMyHB45xzD5TQXkCuoC5h9BxHlWSJE8M8QHFCeI0iYrxERkxQREVOUMcWNcokEA0mSsykiUrOxMaES1xshCI+DkQqYUOITmJ8tCQlOHCc48mJk2RKkgcoWiBzSNiYmgzilNhJS42Tqanxkp4Wr4lZszMnS152shTkukie4gwpL8mUqnKInlxVwHiInkIN/0EJ09LoIXsMyWNInc7WMi+R4yVxlLzxEDiQN4a06e5D2HiIGkgaQ8xAyniIGA8BA/ECYaCEiwP+QsAwzxAzhqiBtGE7Q+ZAMrBfiAaOx/EhkTinLuccOV9IqI7ppUpWcV1cH9cLCUF70D45TnvRhrQ5/UMYB33MPcB94iucww3uO+5xkulC9vNMoHSCGCR3EAl4ea4opw/pb9+11txmSQtr1qxZs3ZQZkgLPub7Exd8wNc1tkhixTzxL/ed58IDxwEu3yWjyzZKUPlqCa9aLbG1K2Vy0xpJmb5RQ0cgEjR8ZPYeHS03JAbAMSapopfQGADPctYz23hIir26P/bL/lPat0lcy3aJaMSp3ekZha/YxzlX7JXBOUtkZEKZhIZ5km7ysYVc1RdhcTyPyps+xBE3MnryW8yfP1/qWtolqqpHhlUMTM4JBlW8KyNLNkhgyXKJKO+R+NrlnnCf9i1aQnRfihkvmeSLdDgU9Ccqesko+tiQFbFO346vp0TtPkgo+jR7kYyJSlcHEsKC0IGuri7NY8HH8/FOQFk7/ox7BULQEB2MEvN88Y7gvoLs4FmDGCNnCsoOSA8cN3JyMMJM+ArvF8gPlFxG6cEoNGoPysPi9KH6MGQI4S2GEEEBwj09ceJEJUZCQ0NVDQI5EhAQoKoQCJJRo0YpgYFD6cvRtPBgxAhPZRqUMIbsUZJHyR0/D6EDmRM8TkKDA5327iVxegkcQ94oaRMOaTNeCRtK9nrIGogaD0EDMQMpAzkwuZeESUn2KGo8pEuCpDt/+T8tJV5JGciZlCkxHsLGAeQNRI6SOglRuk+IBo7HsSGROC/OMcQ5X84dYgqyiuvi+g72nuBe4v7inuM+5N6EsOPeJbQD5RL3OCQfJDnPBKS5DfOwdiB2EpEWzofER7tFPtwi/31/rXz07jL5YNd8eW/bTHlvS7u8v32WfLh7kXy0d4WzfL2z3nZnk72921qzZs2atYOx/REX5HRobmmRrIpWCS1znN/y7b4dxl7gBA931vEv3yChlWslvGatxNStlaTGNVqSNLV1s6R3bNXKFSgxCOHAKSUsQQmN7ncHwpnPctZjfbZje0JRklq3SkzzNolo3CYhdeQ32O0zl4Mbg4o3ybCpneIfleo4ApHqNPABRs4DrvdEIiyMuYkLlAQ4V0jkcaYamtskrnKBjC7f4rM9wGDCfUo3SFDZSomo9JSUndK8ThUztHX2rF3aF5+GYgZ4CQpFLzHVS0oZMgrShPCemJYdMqF+u4zU3BX7IKEI8UnvEr+IyRIVFaUOIYTFzJkzNbEbjiZOp0mkakkLa0fTzLPJ/cd7hcS5PKMQaeRYQR2F4oN8HSiCIEMIbzGECEQqpAj3M05iW1ubNDc3K8mKMgxVCARJWVmZqkMgSqi+ACBMDFCNAAgUgPNpAKECUJsByBWAwgTgrBowog54zgwgCQFEjAFOrgHvWQNImv6AtDHEjRskXjWA0AGQzAZugof8NTz/kDyEJ4SFhXlJHipTQPSMGzfOJ9Hjy3E/WcD1cb1cP+1B+9BetB9tTJ/Qh/Qtfc+9wb0E+cY9x33Ivcl7FGKC+9i+P60djp24pMV/P1By4v3tXbJ3U53sXlMgu5Ynyc6lEbJ9UaBsmzdcNs96XTZ0PCfrW5+SjZ0vypbut2Xb/NHO8hDZ0RMtu1akyJ51JbJ3c5N8sHOeyAdb2LFn/9asWbNmbb+2L+ICx5eqIu3t7VJWVS9xpbMloGSlDCn3PXLvxuCKPRpaMrZiiwRVrpfx1eslvHaDRNdtkNiGDZLQtF6mtKyXlOkbJLV1kyKtbbM6yl440ymtm2VK6xZJmL5FYlu2SnTTVolo2OY4stskoHaHjKzaLUM+gahQlGyToVnzZDTqionREh8frx9plZWVen1cJ47DiUZYGOMcTf/1Jy6aW6ZLauUsGVe22umXfYfLQF6MLNssgeWrJaxqtcTUrpSkxtXaR6gvIDD2p5jxkBn7UswAj2omb14/xUy3h5SCkErr2CYJrSTZJLzHQ1bsKxQEDCpYIyNSPg7xwcHCiUNhYQgLd+UXS1hYO5WMe9283807HgIF8K4APBsApRZSfsA7hPcgZB/gGQI4rQBFF+8YwDvTACLGgGcPEIYDOWMASWPACL0B71/eWQY4ygAiGUDoAMIOAOQOz7gheBYsWKDEMyQP4Qk43KhfIHnIp4ATToLluro6fUfw7jdEjyF4DKnTn8jxReC4iRtD2LhJGjch4yZhDPEC4cLvEH+BIWIMOWPIGrMtYF/sk/1zPI5rCAfOjXPlnDl/roVr4vq4Xogu2oP2ob1oQ9qZPqHv6F+Tv8matSNpJxZp8d+98sHOObJ3Q6XsWpkuOxYFysbO52Vt4z2ysvL3sqzkGumZdrUsLb5KlhR5sLjwSi+YZhlgvWWl18jqmltlXfPDsrnrNSU8dq/JUxIEpYaILZ1jzZo1a/sz82Hrdnz5MOXDsqenRz8C+eDLKa2XyGlzxP8AyQtFxXtKYgyrcJxiiIzKrRJQtUWCqzdLaM0mGe9gQu0mCavdLGF1HkxwML5ui4TUbpXA2u3iV42SYpcMr9rTS1Ls25HtA8iK7AUyckqtBEcmqtyaDz4+Urkerovr48ON6+W6TzTCAvPVfzgUOAIQMny451e2yMSyxTKyfLPvturFoIq9Mqx8h/iVb5CQyrUysXqtTKpb41LMbFKlS8aMbX0UM0pmAKOSmdOLPqqZ3VqthG0gQdI7t0ly21aJa9kmUU3bZHw9JUx3ydD9hfeAsp0yNHOujI7NlwnhkfqRj7PByDOj0jg0lrCwZs3agZp5hxpCx03k8D51Ezhu4sZN2LhJGjcpY4gYQ74Y0oXfHogX/jdkjCFnWNcQN2Z73ufsj/1zLI7LOXBOnBvnynlz/vZ9Z+14tROCtCCc473NTbJ7VZps7npZ1tbfLsvLrlPiYUnhlbIo/zeyIPfXMj/7cpmXdZnMybxU5mRcKt3pDqZe4sUcZ5r5LJ+XfZmz/q9lYd4VsrjgN0poLJt2jaysvFHWNd2rSo3da/Ll/W2dIh/t7D0Ta9asWbPW38xHm/lw44ONjyE+xviIYiQLeXJ1TY1kltRJRPEs8S/ukWElmxxH8gBJhAF4z3GSwV4ZDCr36v+e0fVD3Cf7K1wnwzLnyKjJNRIcnSxR0dE6SsUIFKNOXAfXw3VxfVwn18t1mzY40T74TP8Z4oIPWEM8UVpuxowZUlVbL5PLOiWodIUMK9vmu/1cIOSHnBhj+ihm1kuUKmbWS2J/xQxqGQcoM8hnon/bN+v85NbNkjR9i8S3ENazVSIbt0pY/VYJqt2u5Wg9SVM/oc/L93jykSQ3SmB4vJJQjDgyYspoqgnxoU/5iLeEhTVr1qxZs3b82HFNWny4e4m8u75UdiwKkvUtD8uKihtUJbG4l6RQgiL9EpmVdrHMTLlQZky5QDqTzpeOxPOkPeE8aYs/tw/aE8B5urxz8vnO+hdKV8pFMtvZHjJjXvblstDZLyQGhMjKqptkY8fTsnNZnOzdWCv/fX9T75lZs2bNmjW34dgZ5xcHHqfPjNrj/DIqhLyUhHOVVVWSVVQhkwpaJahooYwpXiFDS/edO+HI4j0ZVLxRhmYvlJHpneKXME1CoxI0zhk5LWQFeQ44b86f6+B6uC6uj+s0hIVpgxPRTN+Z/oO4gJBh9I/RPK4dmXBheZ3ETOuSgJLlB0ReKFQxA4nxyYqZiXUO6lHNbFGMr3XWq9kmATXbZWz1Thmpipl39xv60Qflu2VI7lIZkdYqAVFpEhEZpdJpQ0JByJAQjpFI06cnomLGmjVr1qxZO5nt+CQtPtwm726skq1zh8jaur/IspKrNbwDomJu1mUye+rFMjP5QiUeICKmx54jrbG/khnx58mshPOlO/ECmeNgbuKFMj/JweSLZJ7zd64D5nc767BeZ5yzbcwvpTXuHGlPPE9Jj1kpFykRAiGCCmNp0ZWyvPRaWdd0j+xYEibvb21zvu7e6z1Ra9asWbNmzDjtOHs4fW7nd8uWLeoYEkdMaVRIAMpKFhSXSEp+pUTktUpg4QIZU+g4mMVrZHDZvkumHi4GlWyTIfkrZFj2fBmZMVP8JldI8KQUiYyO1RhhYn2J6+X8DFnBeXP+XAfXw3VxfW7n9kR3cN39Z4gnVAdcM1JjnHucfGK7c0pqZVLRDAmctlQriRyeYsajkjGKGVXNKA51nw5KtnrCe1JbJGBShoRHRmvcN/HbJB9EXUG/IqtGMo1smz61hIU1a9asWbN2/NnxRVr89wN5f/sM2bVskqxrvFNzVCwuuFIW5FzuUVSkXKRKirb4c6Qt9hzpSjhfiYgFDnqSL5F16VfI5swrZVv21bIj5xrZ7WBP3nXybv51zt9rZZczzfytWVfJJme91VMvl8VTLpb5SRcpmTEz4TwlPyBCZkw+X2anXSRzMy9V9cWSoitlRdl1srH9SdmzOktVINasWbNmbaAZx9c4vybkAMcQ+T3OPzG5c+fO1XALckQg088rKJLknBKZlF0joXkdElAwT8YWLJJRBT0yvGi1DCneIIMdZ3RQ+W7fjqobZbtlUMkWGVy0ToYWrJBhuYtkRPZcGZU5U8am1ktgQr5MiE2W6Jh4dWYJFWD0nfPgfDgvzo/z5Hw5b7djy3WZazyZnFs3cYHz7g4XwbnHySeUgiSkKBXyplVIfGGzBBctkLFFyw4z5OcwUbpDVRXDM2fLmCk1EjwpWSKjolVZAVlhMtuTj4SwF/qV2G6ImRM9xMeaNWvWrFk7me24IS3++8FW2bM2TzbNeEZWVtygJAHKCsiKrpQLNaQDQmFm/HmqnliWcqlszLxSduVeI+/nXy//LfytCMi/wYH5a/436J1X4PwPCm/U7fbmXS87sq9W0mPJlItlbuIF0hF3jiowIElmpfaSFygviq+S1dU3qwpk76Za58Tf770Ca9asWbNmzO38AjNyj/zeKC9IDIYTTMJHHEkcYRIilpeXa/byrJw8Sc4skPiMaRKVUSETMmolJLNZArM7xT9ntvjldsvYnG4ZkztHxuQAZzp7lozN6hK/9FYJSKuTwCnlEjq5UMISMyUyPkVi4xM0+SKZ2nFkOQ7H47gcn2SMnA/nxfkZZUX/UBDj2J6szq3pO6OYwanHuSeEgnYhTAZShzaj7n7RtFJJza+Q6LwWCSqcL2O9ipn9l7s9LJCnAlIqZ5GMyHLug9QGCYzNlInRnnKGJE6FiEJZQWgLlUFQi6AaIRndvtQVJ2ufWrNmzZo1ayeqHRekxUfvrZPdy2NlTd2t0lNyjSzKv0JJgq7Ui5SsaIv9lSohFk2+SNanXyHv5l3nISkgHiAh8sD1IrkOcgyu60X/ea7pXGc7tmF79uPs8yMHO3OukVWpl8mCpIs0jKQ17ldKXpD7ggSeqD+WlV0rG1ruk3fXFToXsKf3SqxZs2bNmtuME2gcfRxgM3oPGYATTN4EMpyTOwHCgPARwhBaWlo0FIEScyUlJRqykZubqyXjKNmWljZVUlKnyhQHk1McJKfKlN66/eSjgJhgPVNHnu3ZD/tjv+yf43A8jsvxOQ/Oh/MyYSC+lBWngmPr7ju36sJNOkFeoLygHRsbG5UgyC8slpTcEonJqZHxue0yLr+fYmbaRhlcuk0Gle/xTUa4QehI6Q4ZPG2TDClcI0NRUhDWkzVbxqS3ScDkEgmNnSoRsYleogIyin6GTKH6Cf1LqT7ICvrWVHvxRUJZs2bNmjVr1o4/O+akxYd7lsnOxaGyuvoPqmJAXUHOihlTPGQBpMHS5EtkW87V8mHhDS6iAtIB8uE6kWwHWb3IvFYkw/mbwV9f6F0HmG3YXkmMvgTGe/nXaxjJwskXSUfcudIef67MTL5Ak3YuyL9CekqulrX1t8meNRmah8OaNWvWrPk2twMMDHnBCD51/d0EBrJ9qnMQmgGZwIg+SgxqxZNjglFzHGSIB1M7n/wTJMzkL9NmGeuxPtuxPfthf+yX/XMcjucmKnBoOa9Tlazob776zZAXhFeQmJR2RMUAQWBCfiAwULJk5+RJSlaBJGQUS1RGpUzIrJfgrBYZlzND/HO7exUzc2RM7lwPUM9kz3aAasZZZ2qzjEupkaApJTI+IVvC41NlUlyS5h+BnCIHCYoKQ1RARqGqmD9/vvYxRJRRVnCvmVAQq66wZs2aNWvWTgw7pqTFh7sWyPb5o2RV5W9lcdGVMi/ncpmVdpF0JJwnnfHnyIIpFylp8FGRS1XRn6hQksJB+jUOnL9Tnb9eMN0fruWsz3Zsb0gMQ2C4yIv3C26Q1VN/rck823pDRiBWIFiWFl+tCpE9K+Llo/c29F6ZNWvWrFnzZcZBNI6wCT8wBAaEAWEIjIYzmg+ZgFOM40lJStQQJMUkJwFOMuQDoAypgZnHctZjfbZje/bD/tgv++c4HK8/UdHfoQWnsrn7zE1e0GamvyAGaF9Ca2h7El2iwCDpJSQGpFJ/xczU9HRJTUv3qGVS0yUpxUFymiRNSZHJDtyqGcgJVBQQFMXFxRrWA0lBngqIEggpQ1SgqqCfIVUMEWWUFZassGbNmjVr1k4sO2akxUfvrpRtc9+SFRXXa2UQqoIQDtKWcI6qK0iS+V7B9R/nqTBkhZeo6CUdDAGRdrVvpPbC1zIDN4nhJjBc5MV/i34ru3KvlaUpl0pH7LkatgLBMj8H4uIqWVNzk+zqiRD5cHvvFVqzZs2atf1Zf0fYTWDgYLpJDBxPRspxjnFEIRxIjomjvC+wnPVYn+3Ynv0w2m5ICo5jiYoDt331mekr2tcoZggfgSjypZghbMMoZsgn4lbLEL4D3KoZSA/ICQgQCIqZM2eqqgOSCmIKogTChGSh9Dl9zX2zPyLKmjVr1qxZs3Zi2DEhLUi6uXNxgKysuF4TbkJYzEy5UFrjz5HuxPNlU9aV8t+iG0UKbvCQBpAHhqxAGdGfpEhxADGRcpXnfwX/O0juhZl2r5Pq/N+H1GC/hsBwwPGM8qJXdfFh0W9lVdrlWi6VKiOGuOgpvkrW1t4ke1ancIG9V2rNmjVr1j7JjBNp0N8hdhMZhswAhCjgKO8LLDfrmm2NA+t2Yt2OLLD2yeZuL3df0b60N+0PaQB5AGm0L8UMuSaMYgYCAqWEG0Yxw3qsDwECQYGSAlLErZgxhBT9Tl/vq4+tWbNmzZo1ayeWHQPS4iN5d3WyrKn15LCYn325R2ERd46WL6VcqUBYUO0DdUW2AyUrHLjJCiUbekkIQ0wYTDkA9N+G/fQhMBxwPJQXqrpwAIFScIN85Jzfmqm/lq7486Qt4VxN0EmoCElE1zX+Td7f0tB7rdasWbNm7WDN7RAbGMfTOMgGhoDwBfd67u197d/aoZu7HU3/mD4wJBMkhsldApGBGsOXYgYSwo3+ihm2MwSFO6zHTUi5+9t9btasWbNmzZq1E9OOOmnx4c5u2dB8hyxzHHwc/VmpF6vjP3fyhbIz/9pewuIGD2EBWQBpoGRFL2FhVBRuwkGJiCsPA/32ZwgMQ1xAmKjqwjknzquAcJEbZUPmlVqClVCR7vRLZGH+b2R52bWyZcZT8tHeNb1XbM2aNWvWDtfczufhwtqRM3c7G+LATWL0V8ygijgQxYxRzZhtD0QxA6xZs2bNmjVrJ7qJ/H+yCdj4Nlro3AAAAABJRU5ErkJggg==)"
      ]
    },
    {
      "cell_type": "code",
      "execution_count": null,
      "metadata": {
        "colab": {
          "base_uri": "https://localhost:8080/"
        },
        "id": "Qn6DSnnCOjdG",
        "outputId": "7175655b-859d-4df6-af2e-c8ba62ad748b"
      },
      "outputs": [
        {
          "output_type": "execute_result",
          "data": {
            "text/plain": [
              "(72293, 10)"
            ]
          },
          "metadata": {},
          "execution_count": 55
        }
      ],
      "source": [
        "DF2.shape #(SGD_regressor, arbol, regresión)"
      ]
    },
    {
      "cell_type": "markdown",
      "metadata": {
        "id": "NQx474fdIgiv"
      },
      "source": [
        "Selección de Features"
      ]
    },
    {
      "cell_type": "code",
      "execution_count": null,
      "metadata": {
        "id": "ShaoX8BRICvM"
      },
      "outputs": [],
      "source": [
        "#Definición de variables para los modelos DF1\n",
        "x_DF1 = DF1\n",
        "y_Df1 = union_exp_prueba.loc[union_exp_prueba['reclamacion'].isin(options_DF1)]['valor_pagado']"
      ]
    },
    {
      "cell_type": "code",
      "execution_count": null,
      "metadata": {
        "id": "bcH4WeQRk-M8"
      },
      "outputs": [],
      "source": [
        "#Definición de variables para los modelos DF2\n",
        "x_DF2 = DF2\n",
        "y_Df2 = union_exp_prueba.loc[union_exp_prueba['reclamacion'].isin(options_DF2)]['valor_pagado'].to_frame()"
      ]
    },
    {
      "cell_type": "code",
      "execution_count": null,
      "metadata": {
        "id": "1jvWp4V6Ir7_"
      },
      "outputs": [],
      "source": [
        "#Definición de variables para los modelos DF3\n",
        "x_DF3 = DF3\n",
        "y_Df3 = union_exp_prueba.loc[union_exp_prueba['reclamacion'].isin(options_DF3)]['valor_pagado']"
      ]
    },
    {
      "cell_type": "markdown",
      "metadata": {
        "id": "PE1VHgMRRSwg"
      },
      "source": [
        "Se decide probar una base de datos(df2)que no tenga tantos datos para saber el tiempo de ejecución del modelo y poder desarrollarlo para las otras bases"
      ]
    },
    {
      "cell_type": "markdown",
      "source": [
        "**BASE DE DATOS 2**"
      ],
      "metadata": {
        "id": "MecFZwv2YFQE"
      }
    },
    {
      "cell_type": "code",
      "source": [
        "import sklearn.linear_model as sl\n",
        "import sklearn.feature_selection as sf"
      ],
      "metadata": {
        "id": "V4XCiyYnFzTX"
      },
      "execution_count": null,
      "outputs": []
    },
    {
      "cell_type": "code",
      "source": [
        "x_DF2=x_DF2.drop(['diagnostico_desc'], axis=1)"
      ],
      "metadata": {
        "id": "pQebf3rCGovL"
      },
      "execution_count": null,
      "outputs": []
    },
    {
      "cell_type": "code",
      "source": [
        "modelo = sl.LinearRegression()\n",
        "rfe = sf.RFE(modelo, n_features_to_select=5) #se tomaran 5 variables de las 9 disponibles\n",
        "fit = rfe.fit(x_DF2,y_Df2)\n",
        "\n",
        "print('Nro. Features: ', fit.n_features_)\n",
        "print('Features Seleccionados: ', fit.support_)\n",
        "print('Rankig de features: ', fit.ranking_)"
      ],
      "metadata": {
        "colab": {
          "base_uri": "https://localhost:8080/"
        },
        "id": "KKrzO1hSGQpQ",
        "outputId": "3a6374d6-4d7a-4049-de14-8bce1b187dbe"
      },
      "execution_count": null,
      "outputs": [
        {
          "output_type": "stream",
          "name": "stdout",
          "text": [
            "Nro. Features:  5\n",
            "Features Seleccionados:  [ True  True False  True False  True  True False False]\n",
            "Rankig de features:  [1 1 2 1 4 1 1 3 5]\n"
          ]
        }
      ]
    },
    {
      "cell_type": "code",
      "execution_count": null,
      "metadata": {
        "colab": {
          "base_uri": "https://localhost:8080/",
          "height": 401
        },
        "id": "11O6MxAGI04b",
        "outputId": "f8fa1ce3-e94e-467c-bc3d-d6aa02b030a1"
      },
      "outputs": [
        {
          "output_type": "stream",
          "name": "stdout",
          "text": [
            "[0.02314307 0.00862223 0.04303323 0.01191203 0.00697437 0.0075702\n",
            " 0.00839924 0.00573488 0.88461075]\n",
            "(1,)\n",
            "['edad']\n"
          ]
        },
        {
          "output_type": "execute_result",
          "data": {
            "text/plain": [
              "              Columns  Importances\n",
              "0             eventos     0.023143\n",
              "1                sexo     0.008622\n",
              "2            regional     0.043033\n",
              "3              cancer     0.011912\n",
              "4                epoc     0.006974\n",
              "5            diabetes     0.007570\n",
              "6        hipertension     0.008399\n",
              "7  enf_cardiovascular     0.005735\n",
              "8                edad     0.884611"
            ],
            "text/html": [
              "\n",
              "  <div id=\"df-d30c0ee1-2b6e-4113-b4ca-0f6a2c4909c2\">\n",
              "    <div class=\"colab-df-container\">\n",
              "      <div>\n",
              "<style scoped>\n",
              "    .dataframe tbody tr th:only-of-type {\n",
              "        vertical-align: middle;\n",
              "    }\n",
              "\n",
              "    .dataframe tbody tr th {\n",
              "        vertical-align: top;\n",
              "    }\n",
              "\n",
              "    .dataframe thead th {\n",
              "        text-align: right;\n",
              "    }\n",
              "</style>\n",
              "<table border=\"1\" class=\"dataframe\">\n",
              "  <thead>\n",
              "    <tr style=\"text-align: right;\">\n",
              "      <th></th>\n",
              "      <th>Columns</th>\n",
              "      <th>Importances</th>\n",
              "    </tr>\n",
              "  </thead>\n",
              "  <tbody>\n",
              "    <tr>\n",
              "      <th>0</th>\n",
              "      <td>eventos</td>\n",
              "      <td>0.023143</td>\n",
              "    </tr>\n",
              "    <tr>\n",
              "      <th>1</th>\n",
              "      <td>sexo</td>\n",
              "      <td>0.008622</td>\n",
              "    </tr>\n",
              "    <tr>\n",
              "      <th>2</th>\n",
              "      <td>regional</td>\n",
              "      <td>0.043033</td>\n",
              "    </tr>\n",
              "    <tr>\n",
              "      <th>3</th>\n",
              "      <td>cancer</td>\n",
              "      <td>0.011912</td>\n",
              "    </tr>\n",
              "    <tr>\n",
              "      <th>4</th>\n",
              "      <td>epoc</td>\n",
              "      <td>0.006974</td>\n",
              "    </tr>\n",
              "    <tr>\n",
              "      <th>5</th>\n",
              "      <td>diabetes</td>\n",
              "      <td>0.007570</td>\n",
              "    </tr>\n",
              "    <tr>\n",
              "      <th>6</th>\n",
              "      <td>hipertension</td>\n",
              "      <td>0.008399</td>\n",
              "    </tr>\n",
              "    <tr>\n",
              "      <th>7</th>\n",
              "      <td>enf_cardiovascular</td>\n",
              "      <td>0.005735</td>\n",
              "    </tr>\n",
              "    <tr>\n",
              "      <th>8</th>\n",
              "      <td>edad</td>\n",
              "      <td>0.884611</td>\n",
              "    </tr>\n",
              "  </tbody>\n",
              "</table>\n",
              "</div>\n",
              "      <button class=\"colab-df-convert\" onclick=\"convertToInteractive('df-d30c0ee1-2b6e-4113-b4ca-0f6a2c4909c2')\"\n",
              "              title=\"Convert this dataframe to an interactive table.\"\n",
              "              style=\"display:none;\">\n",
              "        \n",
              "  <svg xmlns=\"http://www.w3.org/2000/svg\" height=\"24px\"viewBox=\"0 0 24 24\"\n",
              "       width=\"24px\">\n",
              "    <path d=\"M0 0h24v24H0V0z\" fill=\"none\"/>\n",
              "    <path d=\"M18.56 5.44l.94 2.06.94-2.06 2.06-.94-2.06-.94-.94-2.06-.94 2.06-2.06.94zm-11 1L8.5 8.5l.94-2.06 2.06-.94-2.06-.94L8.5 2.5l-.94 2.06-2.06.94zm10 10l.94 2.06.94-2.06 2.06-.94-2.06-.94-.94-2.06-.94 2.06-2.06.94z\"/><path d=\"M17.41 7.96l-1.37-1.37c-.4-.4-.92-.59-1.43-.59-.52 0-1.04.2-1.43.59L10.3 9.45l-7.72 7.72c-.78.78-.78 2.05 0 2.83L4 21.41c.39.39.9.59 1.41.59.51 0 1.02-.2 1.41-.59l7.78-7.78 2.81-2.81c.8-.78.8-2.07 0-2.86zM5.41 20L4 18.59l7.72-7.72 1.47 1.35L5.41 20z\"/>\n",
              "  </svg>\n",
              "      </button>\n",
              "      \n",
              "  <style>\n",
              "    .colab-df-container {\n",
              "      display:flex;\n",
              "      flex-wrap:wrap;\n",
              "      gap: 12px;\n",
              "    }\n",
              "\n",
              "    .colab-df-convert {\n",
              "      background-color: #E8F0FE;\n",
              "      border: none;\n",
              "      border-radius: 50%;\n",
              "      cursor: pointer;\n",
              "      display: none;\n",
              "      fill: #1967D2;\n",
              "      height: 32px;\n",
              "      padding: 0 0 0 0;\n",
              "      width: 32px;\n",
              "    }\n",
              "\n",
              "    .colab-df-convert:hover {\n",
              "      background-color: #E2EBFA;\n",
              "      box-shadow: 0px 1px 2px rgba(60, 64, 67, 0.3), 0px 1px 3px 1px rgba(60, 64, 67, 0.15);\n",
              "      fill: #174EA6;\n",
              "    }\n",
              "\n",
              "    [theme=dark] .colab-df-convert {\n",
              "      background-color: #3B4455;\n",
              "      fill: #D2E3FC;\n",
              "    }\n",
              "\n",
              "    [theme=dark] .colab-df-convert:hover {\n",
              "      background-color: #434B5C;\n",
              "      box-shadow: 0px 1px 3px 1px rgba(0, 0, 0, 0.15);\n",
              "      filter: drop-shadow(0px 1px 2px rgba(0, 0, 0, 0.3));\n",
              "      fill: #FFFFFF;\n",
              "    }\n",
              "  </style>\n",
              "\n",
              "      <script>\n",
              "        const buttonEl =\n",
              "          document.querySelector('#df-d30c0ee1-2b6e-4113-b4ca-0f6a2c4909c2 button.colab-df-convert');\n",
              "        buttonEl.style.display =\n",
              "          google.colab.kernel.accessAllowed ? 'block' : 'none';\n",
              "\n",
              "        async function convertToInteractive(key) {\n",
              "          const element = document.querySelector('#df-d30c0ee1-2b6e-4113-b4ca-0f6a2c4909c2');\n",
              "          const dataTable =\n",
              "            await google.colab.kernel.invokeFunction('convertToInteractive',\n",
              "                                                     [key], {});\n",
              "          if (!dataTable) return;\n",
              "\n",
              "          const docLinkHtml = 'Like what you see? Visit the ' +\n",
              "            '<a target=\"_blank\" href=https://colab.research.google.com/notebooks/data_table.ipynb>data table notebook</a>'\n",
              "            + ' to learn more about interactive tables.';\n",
              "          element.innerHTML = '';\n",
              "          dataTable['output_type'] = 'display_data';\n",
              "          await google.colab.output.renderOutput(dataTable, element);\n",
              "          const docLink = document.createElement('div');\n",
              "          docLink.innerHTML = docLinkHtml;\n",
              "          element.appendChild(docLink);\n",
              "        }\n",
              "      </script>\n",
              "    </div>\n",
              "  </div>\n",
              "  "
            ]
          },
          "metadata": {},
          "execution_count": 62
        }
      ],
      "source": [
        "#Feature Importance\n",
        "X = x_DF2[:2000]\n",
        "Y = y_Df2[:2000].astype(int)\n",
        "modelo = ExtraTreesClassifier(n_estimators=100)\n",
        "modelo.fit(X,Y)\n",
        "print(modelo.feature_importances_)\n",
        "importances = modelo.feature_importances_ \n",
        "\n",
        "idx = np.arange(0, X.shape[1]) \n",
        "features_to_keep = idx[importances > np.mean(importances)] \n",
        "\n",
        "\n",
        "x_feature_selected = X.iloc[:,features_to_keep]\n",
        "print(features_to_keep.shape)\n",
        "print(list(x_feature_selected))\n",
        "data_tuples = list(zip(X.columns,importances))\n",
        "importance_df = pd.DataFrame(data_tuples, columns=['Columns','Importances'])\n",
        "importance_df"
      ]
    },
    {
      "cell_type": "markdown",
      "source": [
        "**LOS FEATURES SELECCIONADOS SON**\n",
        "\n",
        "\n",
        "\n",
        "1.   Eventos\n",
        "2.   Sexo\n",
        "3.   Diabetes\n",
        "4.   Hipertención\n",
        "5.   Cancer\n",
        "\n"
      ],
      "metadata": {
        "id": "iUOvoFuvJ7Pp"
      }
    },
    {
      "cell_type": "code",
      "source": [
        "x_DF21 = x_DF2.drop(['regional','epoc', 'enf_cardiovascular',\t'edad'],axis=1).values"
      ],
      "metadata": {
        "id": "1Jo3uZHhJ3Zi"
      },
      "execution_count": null,
      "outputs": []
    },
    {
      "cell_type": "code",
      "source": [
        "import sklearn.model_selection as skm\n",
        "p= 0.33\n",
        "semilla = 6\n",
        "\n",
        "Xentrena, Xprueba, Yentrena, Yprueba = skm.train_test_split(x_DF21,y_Df2,test_size=p, random_state=semilla)"
      ],
      "metadata": {
        "id": "HUKNS7_oK__r"
      },
      "execution_count": null,
      "outputs": []
    },
    {
      "cell_type": "code",
      "source": [
        "#Crear modelo\n",
        "modelo = sl.LinearRegression()\n",
        "\n",
        "#Entrenamiento de modelo\n",
        "modelo.fit(Xentrena, Yentrena)\n",
        "\n",
        "#Pruebas del modelo\n",
        "\n",
        "modelo.score(Xprueba, Yprueba)"
      ],
      "metadata": {
        "colab": {
          "base_uri": "https://localhost:8080/"
        },
        "id": "FE0AfjDPLUPN",
        "outputId": "af9be830-8d2c-4dc2-ac91-89f6886072ee"
      },
      "execution_count": null,
      "outputs": [
        {
          "output_type": "execute_result",
          "data": {
            "text/plain": [
              "0.013507208642833057"
            ]
          },
          "metadata": {},
          "execution_count": 65
        }
      ]
    },
    {
      "cell_type": "code",
      "source": [
        "#Kfold validation\n",
        "from sklearn.model_selection import KFold\n",
        "modelo2 = sl.LinearRegression()\n",
        "kfold = skm.KFold(n_splits=10, random_state=7, shuffle=True)\n",
        "test= skm.cross_val_score(modelo2,x_DF21,y_Df2,cv=kfold)\n",
        "\n",
        "test.mean()"
      ],
      "metadata": {
        "colab": {
          "base_uri": "https://localhost:8080/"
        },
        "id": "cxg1FZ5CLb2W",
        "outputId": "787b91a4-d36d-49be-82a4-4aae968c42c6"
      },
      "execution_count": null,
      "outputs": [
        {
          "output_type": "execute_result",
          "data": {
            "text/plain": [
              "0.013474980528845392"
            ]
          },
          "metadata": {},
          "execution_count": 66
        }
      ]
    },
    {
      "cell_type": "code",
      "source": [
        "#metricas de precision\n",
        "# Mean Absolute Error\n",
        "kfold = skm.KFold(n_splits=10, random_state=7, shuffle=True)\n",
        "score = 'neg_mean_absolute_error'\n",
        "model5 = sl.LinearRegression()\n",
        "resultado = skm.cross_val_score(model5,x_DF21,y_Df2,cv=kfold,scoring=score)\n",
        "print(\"MAE: \",resultado.mean()*-1)\n",
        "# R2\n",
        "kfold = skm.KFold(n_splits=10, random_state=7, shuffle=True)\n",
        "score = 'r2'\n",
        "model6 = sl.LinearRegression()\n",
        "resultado = skm.cross_val_score(model6,x_DF21,y_Df2,cv=kfold,scoring=score)\n",
        "print(\"R2: \",resultado.mean())"
      ],
      "metadata": {
        "colab": {
          "base_uri": "https://localhost:8080/"
        },
        "id": "jA_u9MdKLlmX",
        "outputId": "b80d4852-5bfc-454e-cfd0-75789d888815"
      },
      "execution_count": null,
      "outputs": [
        {
          "output_type": "stream",
          "name": "stdout",
          "text": [
            "MAE:  1053645.6283994624\n",
            "R2:  0.013474980528845392\n"
          ]
        }
      ]
    },
    {
      "cell_type": "code",
      "source": [
        "from sklearn import linear_model\n",
        "regr = linear_model.LinearRegression()\n",
        "\n",
        "regr.fit(x_DF2,y_Df2)\n",
        "\n",
        "print(\"Intercept:\", regr.intercept_)\n",
        "print(\"R^2:\", regr.score(x_DF2,y_Df2))"
      ],
      "metadata": {
        "colab": {
          "base_uri": "https://localhost:8080/"
        },
        "id": "ktSej6tcMgFy",
        "outputId": "5d01464d-1846-40e8-8e2e-5cde5949b3f2"
      },
      "execution_count": null,
      "outputs": [
        {
          "output_type": "stream",
          "name": "stdout",
          "text": [
            "Intercept: [581986.10258276]\n",
            "R^2: 0.02009210839824882\n"
          ]
        }
      ]
    },
    {
      "cell_type": "markdown",
      "source": [
        "**RED NEURONAL**"
      ],
      "metadata": {
        "id": "pv_7CiPBL4Mb"
      }
    },
    {
      "cell_type": "code",
      "source": [
        "#Seleccion Features\n",
        "#Recursive Feature Elimination\n",
        "import sklearn.linear_model as sl\n",
        "from sklearn.neural_network import MLPRegressor\n",
        "modelo = MLPRegressor(random_state=1, max_iter=500).fit(x_DF2,y_Df2)\n",
        "rfe = sf.RFE(modelo, n_features_to_select=5)\n",
        "\n",
        "\n",
        "print('Nro. Features: ', fit.n_features_)\n",
        "print('Features Seleccionados: ', fit.support_)\n",
        "print('Rankig de features: ', fit.ranking_)"
      ],
      "metadata": {
        "colab": {
          "base_uri": "https://localhost:8080/"
        },
        "id": "273ydE0DLq7n",
        "outputId": "3ee47c89-56c0-4955-df0c-8ff760d5b9d7"
      },
      "execution_count": null,
      "outputs": [
        {
          "output_type": "stream",
          "name": "stdout",
          "text": [
            "Nro. Features:  5\n",
            "Features Seleccionados:  [False  True  True  True False False  True False  True]\n",
            "Rankig de features:  [5 1 1 1 4 2 1 3 1]\n"
          ]
        }
      ]
    },
    {
      "cell_type": "code",
      "source": [
        "#Separar conjuntos de entrenamiento y prueba\n",
        "import sklearn.model_selection as skm\n",
        "p= 0.33\n",
        "semilla = 6\n",
        "\n",
        "Xentrena, Xprueba, Yentrena, Yprueba = skm.train_test_split(x_DF2,y_Df2,test_size=p, random_state=semilla)\n",
        "\n",
        "#Crear modelo\n",
        "\n",
        "model = MLPRegressor(activation=\"logistic\", solver='sgd', random_state=1, max_iter=500)\n",
        "\n",
        "#Entrenamiento de modelo\n",
        "model.fit(Xentrena, Yentrena)\n",
        "\n",
        "#Pruebas del modelo\n",
        "\n",
        "model.score(Xprueba, Yprueba)\n"
      ],
      "metadata": {
        "id": "qQzN7ZIAM_LO"
      },
      "execution_count": null,
      "outputs": []
    },
    {
      "cell_type": "code",
      "source": [
        "#Kfold validation\n",
        "model2 = MLPRegressor(activation=\"logistic\", solver='sgd', random_state=1, max_iter=2000)\n",
        "kfold = skm.KFold(n_splits=10, random_state=7, shuffle=True)\n",
        "test= skm.cross_val_score(model2,x_DF2,y_Df2,cv=kfold)\n",
        "\n",
        "print('K-fold:', test.mean())\n",
        "\n",
        "#Repeated Random Test-Train Splits\n",
        "kfold = skm.ShuffleSplit(n_splits=10, test_size=p, random_state=semilla)\n",
        "model4 = MLPRegressor(activation=\"logistic\", solver='sgd', random_state=1, max_iter=2000)\n",
        "test = skm.cross_val_score(model4, x_DF2,y_Df2,cv=kfold)\n",
        "\n",
        "print('Test-Train Splits:', test.mean())\n",
        "\n",
        "#Metricas de precision\n",
        "\n",
        "# Mean Absolute Error\n",
        "kfold = skm.KFold(n_splits=10, random_state=7, shuffle=True)\n",
        "score = 'neg_mean_absolute_error'\n",
        "model5 = MLPRegressor(activation=\"logistic\", solver='sgd', random_state=1, max_iter=2000)\n",
        "resultado = skm.cross_val_score(model5,x_DF2,y_Df2,cv=kfold,scoring=score)\n",
        "print(\"MAE: \",resultado.mean()*-1)\n",
        "\n",
        "# R2\n",
        "kfold = skm.KFold(n_splits=10, random_state=7, shuffle=True)\n",
        "score = 'r2'\n",
        "model6 = MLPRegressor(activation=\"logistic\", solver='sgd', random_state=1, max_iter=2000)\n",
        "resultado = skm.cross_val_score(model6,x_DF2,y_Df2,cv=kfold,scoring=score)\n",
        "print(\"R2: \",resultado.mean()*100*-1)"
      ],
      "metadata": {
        "id": "-hUC9O3eOr32"
      },
      "execution_count": null,
      "outputs": []
    },
    {
      "cell_type": "markdown",
      "source": [
        "Debido al tiempo que toma de ejecución las redes neuronales por la cantidad de datos de las bases, se decide hacer las otras dos bases por medio de la regresion lineal unicamente"
      ],
      "metadata": {
        "id": "64pqqn2vQDY8"
      }
    },
    {
      "cell_type": "markdown",
      "source": [
        "**BASE DE DATOS 1**"
      ],
      "metadata": {
        "id": "Xv51gwCaX15j"
      }
    },
    {
      "cell_type": "code",
      "source": [
        "x_DF1"
      ],
      "metadata": {
        "id": "4k9_aZMCWkPL"
      },
      "execution_count": null,
      "outputs": []
    },
    {
      "cell_type": "code",
      "source": [
        "x_DF1=x_DF1.drop(['reclamacion',\t'cod_diagnostico',\t'diagnostico_desc', 'valor_pagado' ], axis=1)"
      ],
      "metadata": {
        "id": "YG5vxPsQWjjZ"
      },
      "execution_count": null,
      "outputs": []
    },
    {
      "cell_type": "code",
      "source": [
        "x_DF1"
      ],
      "metadata": {
        "colab": {
          "base_uri": "https://localhost:8080/",
          "height": 455
        },
        "id": "mIVG1DXRW_0z",
        "outputId": "10dc7997-937d-4bff-a8e4-42791d70ecbe"
      },
      "execution_count": null,
      "outputs": [
        {
          "output_type": "execute_result",
          "data": {
            "text/plain": [
              "            eventos  sexo  regional  cancer  epoc  diabetes  hipertension  \\\n",
              "id_cliente                                                                  \n",
              "4834968           1     1         1       0     0         0             1   \n",
              "14915125          1     0         1       0     0         0             0   \n",
              "42959949          1     0         1       0     0         0             0   \n",
              "30540131          1     0         1       0     0         0             0   \n",
              "21442420         18     0         1       0     0         0             0   \n",
              "...             ...   ...       ...     ...   ...       ...           ...   \n",
              "6052845           1     0         1       0     0         0             0   \n",
              "41660293          1     0         0       0     0         0             0   \n",
              "9822689           2     1         0       0     0         0             0   \n",
              "10899044          1     0         4       0     0         0             0   \n",
              "3482153           1     0         1       0     0         0             1   \n",
              "\n",
              "            enf_cardiovascular       edad  \n",
              "id_cliente                                 \n",
              "4834968                      0  48.173474  \n",
              "14915125                     0  35.770755  \n",
              "42959949                     0  30.081384  \n",
              "30540131                     0  38.267726  \n",
              "21442420                     0  27.587151  \n",
              "...                        ...        ...  \n",
              "6052845                      0  61.329117  \n",
              "41660293                     0  27.822611  \n",
              "9822689                      0  49.523262  \n",
              "10899044                     0  38.341650  \n",
              "3482153                      0  73.688029  \n",
              "\n",
              "[899153 rows x 9 columns]"
            ],
            "text/html": [
              "\n",
              "  <div id=\"df-3757b51b-be29-426f-a798-ef67ef4d794c\">\n",
              "    <div class=\"colab-df-container\">\n",
              "      <div>\n",
              "<style scoped>\n",
              "    .dataframe tbody tr th:only-of-type {\n",
              "        vertical-align: middle;\n",
              "    }\n",
              "\n",
              "    .dataframe tbody tr th {\n",
              "        vertical-align: top;\n",
              "    }\n",
              "\n",
              "    .dataframe thead th {\n",
              "        text-align: right;\n",
              "    }\n",
              "</style>\n",
              "<table border=\"1\" class=\"dataframe\">\n",
              "  <thead>\n",
              "    <tr style=\"text-align: right;\">\n",
              "      <th></th>\n",
              "      <th>eventos</th>\n",
              "      <th>sexo</th>\n",
              "      <th>regional</th>\n",
              "      <th>cancer</th>\n",
              "      <th>epoc</th>\n",
              "      <th>diabetes</th>\n",
              "      <th>hipertension</th>\n",
              "      <th>enf_cardiovascular</th>\n",
              "      <th>edad</th>\n",
              "    </tr>\n",
              "    <tr>\n",
              "      <th>id_cliente</th>\n",
              "      <th></th>\n",
              "      <th></th>\n",
              "      <th></th>\n",
              "      <th></th>\n",
              "      <th></th>\n",
              "      <th></th>\n",
              "      <th></th>\n",
              "      <th></th>\n",
              "      <th></th>\n",
              "    </tr>\n",
              "  </thead>\n",
              "  <tbody>\n",
              "    <tr>\n",
              "      <th>4834968</th>\n",
              "      <td>1</td>\n",
              "      <td>1</td>\n",
              "      <td>1</td>\n",
              "      <td>0</td>\n",
              "      <td>0</td>\n",
              "      <td>0</td>\n",
              "      <td>1</td>\n",
              "      <td>0</td>\n",
              "      <td>48.173474</td>\n",
              "    </tr>\n",
              "    <tr>\n",
              "      <th>14915125</th>\n",
              "      <td>1</td>\n",
              "      <td>0</td>\n",
              "      <td>1</td>\n",
              "      <td>0</td>\n",
              "      <td>0</td>\n",
              "      <td>0</td>\n",
              "      <td>0</td>\n",
              "      <td>0</td>\n",
              "      <td>35.770755</td>\n",
              "    </tr>\n",
              "    <tr>\n",
              "      <th>42959949</th>\n",
              "      <td>1</td>\n",
              "      <td>0</td>\n",
              "      <td>1</td>\n",
              "      <td>0</td>\n",
              "      <td>0</td>\n",
              "      <td>0</td>\n",
              "      <td>0</td>\n",
              "      <td>0</td>\n",
              "      <td>30.081384</td>\n",
              "    </tr>\n",
              "    <tr>\n",
              "      <th>30540131</th>\n",
              "      <td>1</td>\n",
              "      <td>0</td>\n",
              "      <td>1</td>\n",
              "      <td>0</td>\n",
              "      <td>0</td>\n",
              "      <td>0</td>\n",
              "      <td>0</td>\n",
              "      <td>0</td>\n",
              "      <td>38.267726</td>\n",
              "    </tr>\n",
              "    <tr>\n",
              "      <th>21442420</th>\n",
              "      <td>18</td>\n",
              "      <td>0</td>\n",
              "      <td>1</td>\n",
              "      <td>0</td>\n",
              "      <td>0</td>\n",
              "      <td>0</td>\n",
              "      <td>0</td>\n",
              "      <td>0</td>\n",
              "      <td>27.587151</td>\n",
              "    </tr>\n",
              "    <tr>\n",
              "      <th>...</th>\n",
              "      <td>...</td>\n",
              "      <td>...</td>\n",
              "      <td>...</td>\n",
              "      <td>...</td>\n",
              "      <td>...</td>\n",
              "      <td>...</td>\n",
              "      <td>...</td>\n",
              "      <td>...</td>\n",
              "      <td>...</td>\n",
              "    </tr>\n",
              "    <tr>\n",
              "      <th>6052845</th>\n",
              "      <td>1</td>\n",
              "      <td>0</td>\n",
              "      <td>1</td>\n",
              "      <td>0</td>\n",
              "      <td>0</td>\n",
              "      <td>0</td>\n",
              "      <td>0</td>\n",
              "      <td>0</td>\n",
              "      <td>61.329117</td>\n",
              "    </tr>\n",
              "    <tr>\n",
              "      <th>41660293</th>\n",
              "      <td>1</td>\n",
              "      <td>0</td>\n",
              "      <td>0</td>\n",
              "      <td>0</td>\n",
              "      <td>0</td>\n",
              "      <td>0</td>\n",
              "      <td>0</td>\n",
              "      <td>0</td>\n",
              "      <td>27.822611</td>\n",
              "    </tr>\n",
              "    <tr>\n",
              "      <th>9822689</th>\n",
              "      <td>2</td>\n",
              "      <td>1</td>\n",
              "      <td>0</td>\n",
              "      <td>0</td>\n",
              "      <td>0</td>\n",
              "      <td>0</td>\n",
              "      <td>0</td>\n",
              "      <td>0</td>\n",
              "      <td>49.523262</td>\n",
              "    </tr>\n",
              "    <tr>\n",
              "      <th>10899044</th>\n",
              "      <td>1</td>\n",
              "      <td>0</td>\n",
              "      <td>4</td>\n",
              "      <td>0</td>\n",
              "      <td>0</td>\n",
              "      <td>0</td>\n",
              "      <td>0</td>\n",
              "      <td>0</td>\n",
              "      <td>38.341650</td>\n",
              "    </tr>\n",
              "    <tr>\n",
              "      <th>3482153</th>\n",
              "      <td>1</td>\n",
              "      <td>0</td>\n",
              "      <td>1</td>\n",
              "      <td>0</td>\n",
              "      <td>0</td>\n",
              "      <td>0</td>\n",
              "      <td>1</td>\n",
              "      <td>0</td>\n",
              "      <td>73.688029</td>\n",
              "    </tr>\n",
              "  </tbody>\n",
              "</table>\n",
              "<p>899153 rows × 9 columns</p>\n",
              "</div>\n",
              "      <button class=\"colab-df-convert\" onclick=\"convertToInteractive('df-3757b51b-be29-426f-a798-ef67ef4d794c')\"\n",
              "              title=\"Convert this dataframe to an interactive table.\"\n",
              "              style=\"display:none;\">\n",
              "        \n",
              "  <svg xmlns=\"http://www.w3.org/2000/svg\" height=\"24px\"viewBox=\"0 0 24 24\"\n",
              "       width=\"24px\">\n",
              "    <path d=\"M0 0h24v24H0V0z\" fill=\"none\"/>\n",
              "    <path d=\"M18.56 5.44l.94 2.06.94-2.06 2.06-.94-2.06-.94-.94-2.06-.94 2.06-2.06.94zm-11 1L8.5 8.5l.94-2.06 2.06-.94-2.06-.94L8.5 2.5l-.94 2.06-2.06.94zm10 10l.94 2.06.94-2.06 2.06-.94-2.06-.94-.94-2.06-.94 2.06-2.06.94z\"/><path d=\"M17.41 7.96l-1.37-1.37c-.4-.4-.92-.59-1.43-.59-.52 0-1.04.2-1.43.59L10.3 9.45l-7.72 7.72c-.78.78-.78 2.05 0 2.83L4 21.41c.39.39.9.59 1.41.59.51 0 1.02-.2 1.41-.59l7.78-7.78 2.81-2.81c.8-.78.8-2.07 0-2.86zM5.41 20L4 18.59l7.72-7.72 1.47 1.35L5.41 20z\"/>\n",
              "  </svg>\n",
              "      </button>\n",
              "      \n",
              "  <style>\n",
              "    .colab-df-container {\n",
              "      display:flex;\n",
              "      flex-wrap:wrap;\n",
              "      gap: 12px;\n",
              "    }\n",
              "\n",
              "    .colab-df-convert {\n",
              "      background-color: #E8F0FE;\n",
              "      border: none;\n",
              "      border-radius: 50%;\n",
              "      cursor: pointer;\n",
              "      display: none;\n",
              "      fill: #1967D2;\n",
              "      height: 32px;\n",
              "      padding: 0 0 0 0;\n",
              "      width: 32px;\n",
              "    }\n",
              "\n",
              "    .colab-df-convert:hover {\n",
              "      background-color: #E2EBFA;\n",
              "      box-shadow: 0px 1px 2px rgba(60, 64, 67, 0.3), 0px 1px 3px 1px rgba(60, 64, 67, 0.15);\n",
              "      fill: #174EA6;\n",
              "    }\n",
              "\n",
              "    [theme=dark] .colab-df-convert {\n",
              "      background-color: #3B4455;\n",
              "      fill: #D2E3FC;\n",
              "    }\n",
              "\n",
              "    [theme=dark] .colab-df-convert:hover {\n",
              "      background-color: #434B5C;\n",
              "      box-shadow: 0px 1px 3px 1px rgba(0, 0, 0, 0.15);\n",
              "      filter: drop-shadow(0px 1px 2px rgba(0, 0, 0, 0.3));\n",
              "      fill: #FFFFFF;\n",
              "    }\n",
              "  </style>\n",
              "\n",
              "      <script>\n",
              "        const buttonEl =\n",
              "          document.querySelector('#df-3757b51b-be29-426f-a798-ef67ef4d794c button.colab-df-convert');\n",
              "        buttonEl.style.display =\n",
              "          google.colab.kernel.accessAllowed ? 'block' : 'none';\n",
              "\n",
              "        async function convertToInteractive(key) {\n",
              "          const element = document.querySelector('#df-3757b51b-be29-426f-a798-ef67ef4d794c');\n",
              "          const dataTable =\n",
              "            await google.colab.kernel.invokeFunction('convertToInteractive',\n",
              "                                                     [key], {});\n",
              "          if (!dataTable) return;\n",
              "\n",
              "          const docLinkHtml = 'Like what you see? Visit the ' +\n",
              "            '<a target=\"_blank\" href=https://colab.research.google.com/notebooks/data_table.ipynb>data table notebook</a>'\n",
              "            + ' to learn more about interactive tables.';\n",
              "          element.innerHTML = '';\n",
              "          dataTable['output_type'] = 'display_data';\n",
              "          await google.colab.output.renderOutput(dataTable, element);\n",
              "          const docLink = document.createElement('div');\n",
              "          docLink.innerHTML = docLinkHtml;\n",
              "          element.appendChild(docLink);\n",
              "        }\n",
              "      </script>\n",
              "    </div>\n",
              "  </div>\n",
              "  "
            ]
          },
          "metadata": {},
          "execution_count": 86
        }
      ]
    },
    {
      "cell_type": "code",
      "source": [
        "modelo = sl.LinearRegression()\n",
        "rfe = sf.RFE(modelo, n_features_to_select=5) #se tomaran 5 variables de las 9 disponibles\n",
        "fit = rfe.fit(x_DF1,y_Df1)\n",
        "\n",
        "print('Nro. Features: ', fit.n_features_)\n",
        "print('Features Seleccionados: ', fit.support_)\n",
        "print('Rankig de features: ', fit.ranking_)"
      ],
      "metadata": {
        "colab": {
          "base_uri": "https://localhost:8080/"
        },
        "id": "dbnRLgTGSZ_k",
        "outputId": "d3dc9990-5546-4305-8634-dc23639a750a"
      },
      "execution_count": null,
      "outputs": [
        {
          "output_type": "stream",
          "name": "stdout",
          "text": [
            "Nro. Features:  5\n",
            "Features Seleccionados:  [ True False False  True  True  True  True False False]\n",
            "Rankig de features:  [1 5 3 1 1 1 1 2 4]\n"
          ]
        }
      ]
    },
    {
      "cell_type": "markdown",
      "source": [
        "**LOS FEATURES SELECCIONADOS SON**\n",
        "\n",
        "\n",
        "\n",
        "1.   Eventos\n",
        "2.   Cancer\n",
        "3.   Diabetes\n",
        "4.   Hipertención\n",
        "5.   Epoc\n"
      ],
      "metadata": {
        "id": "Hm8__0PlXEhV"
      }
    },
    {
      "cell_type": "code",
      "source": [
        "x_DF11 = x_DF1.drop(['sexo',\t'regional',\t 'enf_cardiovascular',\t'edad'],axis=1).values"
      ],
      "metadata": {
        "id": "5bq0Ocg-Ze8U"
      },
      "execution_count": null,
      "outputs": []
    },
    {
      "cell_type": "code",
      "source": [
        "import sklearn.model_selection as skm\n",
        "p= 0.33\n",
        "semilla = 6\n",
        "\n",
        "Xentrena, Xprueba, Yentrena, Yprueba = skm.train_test_split(x_DF11,y_Df1,test_size=p, random_state=semilla)"
      ],
      "metadata": {
        "id": "ACUyfNxnPPPF"
      },
      "execution_count": null,
      "outputs": []
    },
    {
      "cell_type": "code",
      "source": [
        "#Crear modelo\n",
        "modelo = sl.LinearRegression()\n",
        "\n",
        "#Entrenamiento de modelo\n",
        "modelo.fit(Xentrena, Yentrena)\n",
        "\n",
        "#Pruebas del modelo\n",
        "\n",
        "modelo.score(Xprueba, Yprueba)"
      ],
      "metadata": {
        "colab": {
          "base_uri": "https://localhost:8080/"
        },
        "id": "LkT8zrbXREAP",
        "outputId": "1fcc4d5c-3d36-4622-d39d-d3782582f918"
      },
      "execution_count": null,
      "outputs": [
        {
          "output_type": "execute_result",
          "data": {
            "text/plain": [
              "0.05114641914658513"
            ]
          },
          "metadata": {},
          "execution_count": 105
        }
      ]
    },
    {
      "cell_type": "code",
      "source": [
        "import sklearn.model_selection as skm\n",
        "p= 0.33\n",
        "semilla = 6\n",
        "\n",
        "Xentrena, Xprueba, Yentrena, Yprueba = skm.train_test_split(x_DF11,y_Df1,test_size=p, random_state=semilla)"
      ],
      "metadata": {
        "id": "Gz2pz7OzSBUR"
      },
      "execution_count": null,
      "outputs": []
    },
    {
      "cell_type": "code",
      "source": [
        "#Crear modelo\n",
        "modelo = sl.LinearRegression()\n",
        "\n",
        "#Entrenamiento de modelo\n",
        "modelo.fit(Xentrena, Yentrena)\n",
        "\n",
        "#Pruebas del modelo\n",
        "\n",
        "modelo.score(Xprueba, Yprueba)"
      ],
      "metadata": {
        "colab": {
          "base_uri": "https://localhost:8080/"
        },
        "id": "U51RHuN7SICJ",
        "outputId": "e3638a18-8d47-4f47-b43c-e0fea12cea41"
      },
      "execution_count": null,
      "outputs": [
        {
          "output_type": "execute_result",
          "data": {
            "text/plain": [
              "0.05114641914658513"
            ]
          },
          "metadata": {},
          "execution_count": 107
        }
      ]
    },
    {
      "cell_type": "code",
      "source": [
        "#Kfold validation\n",
        "from sklearn.model_selection import KFold\n",
        "modelo2 = sl.LinearRegression()\n",
        "kfold = skm.KFold(n_splits=10, random_state=7, shuffle=True)\n",
        "test= skm.cross_val_score(modelo2,x_DF11,y_Df1,cv=kfold)\n",
        "\n",
        "test.mean()"
      ],
      "metadata": {
        "colab": {
          "base_uri": "https://localhost:8080/"
        },
        "id": "cjRmFkoSSPGb",
        "outputId": "8e7ae27a-6dce-4c7d-b0ba-f8c12f502245"
      },
      "execution_count": null,
      "outputs": [
        {
          "output_type": "execute_result",
          "data": {
            "text/plain": [
              "0.05141596104941524"
            ]
          },
          "metadata": {},
          "execution_count": 108
        }
      ]
    },
    {
      "cell_type": "code",
      "source": [
        "#metricas de precision\n",
        "# Mean Absolute Error\n",
        "kfold = skm.KFold(n_splits=10, random_state=7, shuffle=True)\n",
        "score = 'neg_mean_absolute_error'\n",
        "model5 = sl.LinearRegression()\n",
        "resultado = skm.cross_val_score(model5,x_DF11,y_Df1,cv=kfold,scoring=score)\n",
        "print(\"MAE: \",resultado.mean()*-1)\n",
        "# R2\n",
        "kfold = skm.KFold(n_splits=10, random_state=7, shuffle=True)\n",
        "score = 'r2'\n",
        "model6 = sl.LinearRegression()\n",
        "resultado = skm.cross_val_score(model6,x_DF11,y_Df1,cv=kfold,scoring=score)\n",
        "print(\"R2: \",resultado.mean())"
      ],
      "metadata": {
        "colab": {
          "base_uri": "https://localhost:8080/"
        },
        "id": "KSvSzf5hXghG",
        "outputId": "ac8555a1-f71f-4a51-9e4f-9c10c54b8407"
      },
      "execution_count": null,
      "outputs": [
        {
          "output_type": "stream",
          "name": "stdout",
          "text": [
            "MAE:  148310.20833771495\n",
            "R2:  0.05141596104941524\n"
          ]
        }
      ]
    },
    {
      "cell_type": "code",
      "source": [
        "from sklearn import linear_model\n",
        "regr = linear_model.LinearRegression()\n",
        "\n",
        "regr.fit(x_DF11,y_Df1)\n",
        "\n",
        "print(\"Intercept:\", regr.intercept_)\n",
        "print(\"R^2:\", regr.score(x_DF11,y_Df1))"
      ],
      "metadata": {
        "colab": {
          "base_uri": "https://localhost:8080/"
        },
        "id": "uxmoJQfQXmi1",
        "outputId": "5ae91760-3d06-425d-fc8b-ee8d36287cb5"
      },
      "execution_count": null,
      "outputs": [
        {
          "output_type": "stream",
          "name": "stdout",
          "text": [
            "Intercept: 139272.97626297004\n",
            "R^2: 0.05137604948368202\n"
          ]
        }
      ]
    },
    {
      "cell_type": "markdown",
      "source": [
        "**BASE DE DATOS 3**"
      ],
      "metadata": {
        "id": "zdBJW4iKYfk7"
      }
    },
    {
      "cell_type": "code",
      "source": [
        "x_DF3"
      ],
      "metadata": {
        "id": "mHb6wyh3Xx5D"
      },
      "execution_count": null,
      "outputs": []
    },
    {
      "cell_type": "code",
      "source": [
        "x_DF3=x_DF3.drop(['reclamacion',\t'cod_diagnostico',\t'diagnostico_desc', 'valor_pagado' ], axis=1)"
      ],
      "metadata": {
        "id": "kdmW4BnbYrJa"
      },
      "execution_count": null,
      "outputs": []
    },
    {
      "cell_type": "code",
      "source": [
        "x_DF3"
      ],
      "metadata": {
        "id": "KqvtnnQmY29Q"
      },
      "execution_count": null,
      "outputs": []
    },
    {
      "cell_type": "code",
      "source": [
        "modelo = sl.LinearRegression()\n",
        "rfe = sf.RFE(modelo, n_features_to_select=5) #se tomaran 5 variables de las 9 disponibles\n",
        "fit = rfe.fit(x_DF3,y_Df3)\n",
        "\n",
        "print('Nro. Features: ', fit.n_features_)\n",
        "print('Features Seleccionados: ', fit.support_)\n",
        "print('Rankig de features: ', fit.ranking_)"
      ],
      "metadata": {
        "colab": {
          "base_uri": "https://localhost:8080/"
        },
        "id": "EZ7DN_QkY5v6",
        "outputId": "619803cf-64df-41c8-cd9b-57cd3ea61849"
      },
      "execution_count": null,
      "outputs": [
        {
          "output_type": "stream",
          "name": "stdout",
          "text": [
            "Nro. Features:  5\n",
            "Features Seleccionados:  [False  True  True  True False False  True False  True]\n",
            "Rankig de features:  [5 1 1 1 4 2 1 3 1]\n"
          ]
        }
      ]
    },
    {
      "cell_type": "markdown",
      "source": [
        "**LOS FEATURES SELECCIONADOS SON**\n",
        "\n",
        "\n",
        "\n",
        "1.   Sexo\n",
        "2.   Regional\n",
        "3.   Cancer\n",
        "4.   Hipertención\n",
        "5.   Edad"
      ],
      "metadata": {
        "id": "RkE9RbcXZBV6"
      }
    },
    {
      "cell_type": "code",
      "source": [
        "x_DF31 = x_DF3.drop(['eventos',\t'epoc',\t'diabetes',\t'enf_cardiovascular'],axis=1).values"
      ],
      "metadata": {
        "id": "lLB0nLIdZQsn"
      },
      "execution_count": null,
      "outputs": []
    },
    {
      "cell_type": "code",
      "source": [
        "import sklearn.model_selection as skm\n",
        "p= 0.33\n",
        "semilla = 6\n",
        "\n",
        "Xentrena, Xprueba, Yentrena, Yprueba = skm.train_test_split(x_DF31,y_Df3,test_size=p, random_state=semilla)"
      ],
      "metadata": {
        "id": "-NZrSbPDaa5j"
      },
      "execution_count": null,
      "outputs": []
    },
    {
      "cell_type": "code",
      "source": [
        "#Crear modelo\n",
        "modelo = sl.LinearRegression()\n",
        "\n",
        "#Entrenamiento de modelo\n",
        "modelo.fit(Xentrena, Yentrena)\n",
        "\n",
        "#Pruebas del modelo\n",
        "\n",
        "modelo.score(Xprueba, Yprueba)"
      ],
      "metadata": {
        "colab": {
          "base_uri": "https://localhost:8080/"
        },
        "id": "78W6Vmm7afla",
        "outputId": "0e6b217e-bb2e-423c-f282-d9ff051bb712"
      },
      "execution_count": null,
      "outputs": [
        {
          "output_type": "execute_result",
          "data": {
            "text/plain": [
              "-89.2842986781666"
            ]
          },
          "metadata": {},
          "execution_count": 127
        }
      ]
    },
    {
      "cell_type": "code",
      "source": [
        "#Kfold validation\n",
        "from sklearn.model_selection import KFold\n",
        "modelo2 = sl.LinearRegression()\n",
        "kfold = skm.KFold(n_splits=10, random_state=7, shuffle=True)\n",
        "test= skm.cross_val_score(modelo2,x_DF31,y_Df3,cv=kfold)\n",
        "\n",
        "test.mean()"
      ],
      "metadata": {
        "colab": {
          "base_uri": "https://localhost:8080/"
        },
        "id": "QE90ZxoiajzD",
        "outputId": "c86da5f3-f5d2-47b2-c0f9-10524621a8e4"
      },
      "execution_count": null,
      "outputs": [
        {
          "output_type": "execute_result",
          "data": {
            "text/plain": [
              "nan"
            ]
          },
          "metadata": {},
          "execution_count": 128
        }
      ]
    },
    {
      "cell_type": "code",
      "source": [
        "#metricas de precision\n",
        "# Mean Absolute Error\n",
        "kfold = skm.KFold(n_splits=10, random_state=7, shuffle=True)\n",
        "score = 'neg_mean_absolute_error'\n",
        "model5 = sl.LinearRegression()\n",
        "resultado = skm.cross_val_score(model5,x_DF31,y_Df3,cv=kfold,scoring=score)\n",
        "print(\"MAE: \",resultado.mean()*-1)\n",
        "# R2\n",
        "kfold = skm.KFold(n_splits=10, random_state=7, shuffle=True)\n",
        "score = 'r2'\n",
        "model6 = sl.LinearRegression()\n",
        "resultado = skm.cross_val_score(model6,x_DF31,y_Df3,cv=kfold,scoring=score)\n",
        "print(\"R2: \",resultado.mean())"
      ],
      "metadata": {
        "colab": {
          "base_uri": "https://localhost:8080/"
        },
        "id": "W34wVCJ2albT",
        "outputId": "38b5c191-ab21-4808-91ab-6a9dda8df7fb"
      },
      "execution_count": null,
      "outputs": [
        {
          "output_type": "stream",
          "name": "stdout",
          "text": [
            "MAE:  54032416.58825705\n",
            "R2:  nan\n"
          ]
        }
      ]
    },
    {
      "cell_type": "code",
      "source": [
        "from sklearn import linear_model\n",
        "regr = linear_model.LinearRegression()\n",
        "\n",
        "regr.fit(x_DF31,y_Df3)\n",
        "\n",
        "print(\"Intercept:\", regr.intercept_)\n",
        "print(\"R^2:\", regr.score(x_DF31,y_Df3))"
      ],
      "metadata": {
        "colab": {
          "base_uri": "https://localhost:8080/"
        },
        "id": "cv55r-Umanbq",
        "outputId": "f8fcfc7c-9f1f-462e-f03f-dc10d617f390"
      },
      "execution_count": null,
      "outputs": [
        {
          "output_type": "stream",
          "name": "stdout",
          "text": [
            "Intercept: 49349496.993404135\n",
            "R^2: 0.11596979459166334\n"
          ]
        }
      ]
    }
  ],
  "metadata": {
    "colab": {
      "collapsed_sections": [],
      "provenance": [],
      "include_colab_link": true
    },
    "kernelspec": {
      "display_name": "Python 3",
      "name": "python3"
    },
    "language_info": {
      "name": "python"
    }
  },
  "nbformat": 4,
  "nbformat_minor": 0
}