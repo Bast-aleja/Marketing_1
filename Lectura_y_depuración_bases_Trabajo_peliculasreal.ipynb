{
  "cells": [
    {
      "cell_type": "markdown",
      "metadata": {
        "id": "view-in-github",
        "colab_type": "text"
      },
      "source": [
        "<a href=\"https://colab.research.google.com/github/Bast-aleja/Marketing_1/blob/main/Lectura_y_depuraci%C3%B3n_bases_Trabajo_peliculasreal.ipynb\" target=\"_parent\"><img src=\"https://colab.research.google.com/assets/colab-badge.svg\" alt=\"Open In Colab\"/></a>"
      ]
    },
    {
      "cell_type": "markdown",
      "metadata": {
        "id": "cv8AyDxbCvgc"
      },
      "source": [
        "1.PROBLEMA DE NEGOCIO \n",
        "1.1 Descripción del problema de negocio\n",
        "\n",
        "Esta plataforma online tiene inconvenientes en cuanto a la fidelización de clientes debido a que las demás plataformas brindan mejores experiencias dándole gusto al usuario y esta plataforma aún no lo ha empleado una estrategia competitiva y por ende el tema de tener nuevos clientes es más complejo.\n",
        "\n",
        "1.2 Decripción del problema analítico\n",
        "\n",
        "1.\tAnalizar el comportamiento y los hábitos de sus consumidores en la plataforma online\n",
        "2.\tPredecir contenido afín (películas) a los gustos que muestra el consumo que ha tenido el usuario.\n",
        "\n",
        "1.3 Diseño de la solución \n",
        "\n",
        "En esta parte se realiza un diagrama de flujo con el paso a paso de la solución propuesta para este problema del área de marketingç:\n",
        "\n",
        "[ENLACE AL GRAFICO](https://drive.google.com/file/d/1M_FLHt6C1PInxmPHR9BeY414EUk8m2sc/view?usp=sharing)"
      ]
    },
    {
      "cell_type": "markdown",
      "metadata": {
        "id": "SeDc4ip2G8qt"
      },
      "source": [
        "**CODIGO**"
      ]
    },
    {
      "cell_type": "markdown",
      "metadata": {
        "id": "USSvS0L6HSql"
      },
      "source": [
        "Importación de paquetes"
      ]
    },
    {
      "cell_type": "markdown",
      "metadata": {
        "id": "BkeqT_BTCtP9"
      },
      "source": [
        ""
      ]
    },
    {
      "cell_type": "code",
      "execution_count": null,
      "metadata": {
        "id": "nH_g4cy_HQy-"
      },
      "outputs": [],
      "source": [
        "#Importación de paquetes\n",
        "import pandas as pd\n",
        "import numpy as np\n",
        "import sqlite3 as sql\n",
        "import plotly.graph_objs as go ### para gráficos\n",
        "import requests\n"
      ]
    },
    {
      "cell_type": "markdown",
      "metadata": {
        "id": "LkjvrAaGHdq8"
      },
      "source": [
        "Lectura de datos"
      ]
    },
    {
      "cell_type": "code",
      "execution_count": null,
      "metadata": {
        "colab": {
          "base_uri": "https://localhost:8080/"
        },
        "id": "TvamIByPHfIT",
        "outputId": "f588d711-f6fe-43d7-a99a-18c4c0df2cd6"
      },
      "outputs": [
        {
          "output_type": "stream",
          "name": "stdout",
          "text": [
            "Mounted at /content/drive\n"
          ]
        }
      ],
      "source": [
        "#Conexión con colab\n",
        "from google.colab import drive\n",
        "drive.mount('/content/drive')"
      ]
    },
    {
      "cell_type": "code",
      "execution_count": null,
      "metadata": {
        "id": "o-Z_VESzFUcw"
      },
      "outputs": [],
      "source": [
        "conn = sql.connect('db_movies')\n",
        "cur= conn.cursor()"
      ]
    },
    {
      "cell_type": "code",
      "execution_count": null,
      "metadata": {
        "colab": {
          "base_uri": "https://localhost:8080/",
          "height": 112
        },
        "id": "0k7DHCWANQ_g",
        "outputId": "b4cfd299-dff6-4d88-9de5-674cfa1969ab"
      },
      "outputs": [
        {
          "output_type": "execute_result",
          "data": {
            "text/plain": [
              "      name\n",
              "0  ratings\n",
              "1   movies"
            ],
            "text/html": [
              "\n",
              "  <div id=\"df-f49de38d-dde5-4438-99b5-688511cea90e\">\n",
              "    <div class=\"colab-df-container\">\n",
              "      <div>\n",
              "<style scoped>\n",
              "    .dataframe tbody tr th:only-of-type {\n",
              "        vertical-align: middle;\n",
              "    }\n",
              "\n",
              "    .dataframe tbody tr th {\n",
              "        vertical-align: top;\n",
              "    }\n",
              "\n",
              "    .dataframe thead th {\n",
              "        text-align: right;\n",
              "    }\n",
              "</style>\n",
              "<table border=\"1\" class=\"dataframe\">\n",
              "  <thead>\n",
              "    <tr style=\"text-align: right;\">\n",
              "      <th></th>\n",
              "      <th>name</th>\n",
              "    </tr>\n",
              "  </thead>\n",
              "  <tbody>\n",
              "    <tr>\n",
              "      <th>0</th>\n",
              "      <td>ratings</td>\n",
              "    </tr>\n",
              "    <tr>\n",
              "      <th>1</th>\n",
              "      <td>movies</td>\n",
              "    </tr>\n",
              "  </tbody>\n",
              "</table>\n",
              "</div>\n",
              "      <button class=\"colab-df-convert\" onclick=\"convertToInteractive('df-f49de38d-dde5-4438-99b5-688511cea90e')\"\n",
              "              title=\"Convert this dataframe to an interactive table.\"\n",
              "              style=\"display:none;\">\n",
              "        \n",
              "  <svg xmlns=\"http://www.w3.org/2000/svg\" height=\"24px\"viewBox=\"0 0 24 24\"\n",
              "       width=\"24px\">\n",
              "    <path d=\"M0 0h24v24H0V0z\" fill=\"none\"/>\n",
              "    <path d=\"M18.56 5.44l.94 2.06.94-2.06 2.06-.94-2.06-.94-.94-2.06-.94 2.06-2.06.94zm-11 1L8.5 8.5l.94-2.06 2.06-.94-2.06-.94L8.5 2.5l-.94 2.06-2.06.94zm10 10l.94 2.06.94-2.06 2.06-.94-2.06-.94-.94-2.06-.94 2.06-2.06.94z\"/><path d=\"M17.41 7.96l-1.37-1.37c-.4-.4-.92-.59-1.43-.59-.52 0-1.04.2-1.43.59L10.3 9.45l-7.72 7.72c-.78.78-.78 2.05 0 2.83L4 21.41c.39.39.9.59 1.41.59.51 0 1.02-.2 1.41-.59l7.78-7.78 2.81-2.81c.8-.78.8-2.07 0-2.86zM5.41 20L4 18.59l7.72-7.72 1.47 1.35L5.41 20z\"/>\n",
              "  </svg>\n",
              "      </button>\n",
              "      \n",
              "  <style>\n",
              "    .colab-df-container {\n",
              "      display:flex;\n",
              "      flex-wrap:wrap;\n",
              "      gap: 12px;\n",
              "    }\n",
              "\n",
              "    .colab-df-convert {\n",
              "      background-color: #E8F0FE;\n",
              "      border: none;\n",
              "      border-radius: 50%;\n",
              "      cursor: pointer;\n",
              "      display: none;\n",
              "      fill: #1967D2;\n",
              "      height: 32px;\n",
              "      padding: 0 0 0 0;\n",
              "      width: 32px;\n",
              "    }\n",
              "\n",
              "    .colab-df-convert:hover {\n",
              "      background-color: #E2EBFA;\n",
              "      box-shadow: 0px 1px 2px rgba(60, 64, 67, 0.3), 0px 1px 3px 1px rgba(60, 64, 67, 0.15);\n",
              "      fill: #174EA6;\n",
              "    }\n",
              "\n",
              "    [theme=dark] .colab-df-convert {\n",
              "      background-color: #3B4455;\n",
              "      fill: #D2E3FC;\n",
              "    }\n",
              "\n",
              "    [theme=dark] .colab-df-convert:hover {\n",
              "      background-color: #434B5C;\n",
              "      box-shadow: 0px 1px 3px 1px rgba(0, 0, 0, 0.15);\n",
              "      filter: drop-shadow(0px 1px 2px rgba(0, 0, 0, 0.3));\n",
              "      fill: #FFFFFF;\n",
              "    }\n",
              "  </style>\n",
              "\n",
              "      <script>\n",
              "        const buttonEl =\n",
              "          document.querySelector('#df-f49de38d-dde5-4438-99b5-688511cea90e button.colab-df-convert');\n",
              "        buttonEl.style.display =\n",
              "          google.colab.kernel.accessAllowed ? 'block' : 'none';\n",
              "\n",
              "        async function convertToInteractive(key) {\n",
              "          const element = document.querySelector('#df-f49de38d-dde5-4438-99b5-688511cea90e');\n",
              "          const dataTable =\n",
              "            await google.colab.kernel.invokeFunction('convertToInteractive',\n",
              "                                                     [key], {});\n",
              "          if (!dataTable) return;\n",
              "\n",
              "          const docLinkHtml = 'Like what you see? Visit the ' +\n",
              "            '<a target=\"_blank\" href=https://colab.research.google.com/notebooks/data_table.ipynb>data table notebook</a>'\n",
              "            + ' to learn more about interactive tables.';\n",
              "          element.innerHTML = '';\n",
              "          dataTable['output_type'] = 'display_data';\n",
              "          await google.colab.output.renderOutput(dataTable, element);\n",
              "          const docLink = document.createElement('div');\n",
              "          docLink.innerHTML = docLinkHtml;\n",
              "          element.appendChild(docLink);\n",
              "        }\n",
              "      </script>\n",
              "    </div>\n",
              "  </div>\n",
              "  "
            ]
          },
          "metadata": {},
          "execution_count": 5
        }
      ],
      "source": [
        "#Leer cantidad de bases que tiene el archivo\n",
        "tables = pd.read_sql(\"SELECT name FROM sqlite_master where type = 'table'\", conn)\n",
        "tables"
      ]
    },
    {
      "cell_type": "markdown",
      "metadata": {
        "id": "23RzqL-pH3Gh"
      },
      "source": [
        "Lectura base de datos: movies"
      ]
    },
    {
      "cell_type": "code",
      "execution_count": null,
      "metadata": {
        "id": "HZ4C1l8k1jJA"
      },
      "outputs": [],
      "source": [
        "movies = pd.read_sql(\"SELECT * FROM movies\", conn)\n",
        "movies"
      ]
    },
    {
      "cell_type": "markdown",
      "metadata": {
        "id": "R3HtoOv7Iszx"
      },
      "source": [
        "Depuración BD movies"
      ]
    },
    {
      "cell_type": "code",
      "execution_count": null,
      "metadata": {
        "colab": {
          "base_uri": "https://localhost:8080/"
        },
        "id": "vWHYTZ4PbfYm",
        "outputId": "ba892a26-801a-44f6-bd5b-551ede7d46bf"
      },
      "outputs": [
        {
          "output_type": "execute_result",
          "data": {
            "text/plain": [
              "0"
            ]
          },
          "metadata": {},
          "execution_count": 7
        }
      ],
      "source": [
        "#Duplicados\n",
        "movies.duplicated().sum()"
      ]
    },
    {
      "cell_type": "code",
      "execution_count": null,
      "metadata": {
        "id": "FcXkLynkvoJm"
      },
      "outputs": [],
      "source": [
        "#Analizar dimensión, tipos y nulos\n",
        "print(movies.shape)\n",
        "print('-------------------------------------------------')\n",
        "print(movies.isnull().sum())\n",
        "print('-------------------------------------------------')\n",
        "print(movies.dtypes)\n",
        "print('-------------------------------------------------')"
      ]
    },
    {
      "cell_type": "code",
      "execution_count": null,
      "metadata": {
        "id": "WZhX4yvLgPl8"
      },
      "outputs": [],
      "source": [
        "#separa columna generos \n",
        "\n",
        "\n",
        "from mlxtend.preprocessing import TransactionEncoder\n",
        "\n",
        "conn= sql.connect('db_movies')\n",
        "\n",
        "movies = pd.read_sql('SELECT * FROM movies', conn)\n",
        "genres=movies['genres'].str.split('|')\n",
        "te = TransactionEncoder()\n",
        "genres = te.fit_transform(genres)\n",
        "genress = pd.DataFrame(genres, columns = te.columns_)\n",
        "genress\n"
      ]
    },
    {
      "cell_type": "markdown",
      "metadata": {
        "id": "Bb54FGyhFhnV"
      },
      "source": [
        "Unión categoria genres a la base movies"
      ]
    },
    {
      "cell_type": "code",
      "execution_count": null,
      "metadata": {
        "id": "UtKxWggxdHet"
      },
      "outputs": [],
      "source": [
        "movies.drop(columns=['genres'], inplace =True)\n"
      ]
    },
    {
      "cell_type": "code",
      "execution_count": null,
      "metadata": {
        "id": "p0Oa_stMky87"
      },
      "outputs": [],
      "source": [
        "movies = pd.concat ([movies, genress], axis = 1)"
      ]
    },
    {
      "cell_type": "code",
      "execution_count": null,
      "metadata": {
        "id": "ZfGrPVEOlXdT"
      },
      "outputs": [],
      "source": [
        "#relacionar los verdaderos con 1 y los falsos con 0\n",
        "dic_genres = {\n",
        "    False:0,\n",
        "    True:1\n",
        "}\n",
        "movies[genress.columns] = movies[genress.columns].replace(dic_genres )\n",
        "movies"
      ]
    },
    {
      "cell_type": "code",
      "execution_count": null,
      "metadata": {
        "id": "MMCqF-xKbonc"
      },
      "outputs": [],
      "source": [
        "#Se arregla los tipos de datos de las columnas\n",
        "movies=movies.convert_dtypes()\n",
        "movies.dtypes"
      ]
    },
    {
      "cell_type": "code",
      "execution_count": null,
      "metadata": {
        "id": "6KEl4YNnwEeW"
      },
      "outputs": [],
      "source": [
        "#Cambiar el nombre de las columnas a minusculas\n",
        "movies.columns = movies.columns.str.lower()\n",
        "movies.columns"
      ]
    },
    {
      "cell_type": "code",
      "execution_count": null,
      "metadata": {
        "id": "pFMnOU-AJltm"
      },
      "outputs": [],
      "source": [
        "#Separar el año\n",
        "movies['y'] = movies['title'].str.split(' ')\n",
        "movies['year'] = movies['y'].apply(lambda x: x[-1])\n",
        "movies = movies.drop(['y'], axis = 1)\n",
        "movies['year'] = movies['year'].str.strip(')')\n",
        "movies['year'] = movies['year'].str.strip('(')\n"
      ]
    },
    {
      "cell_type": "code",
      "source": [
        "#Mirar si existen datos nulos\n",
        "movies['year'].isnull().sum()\n"
      ],
      "metadata": {
        "colab": {
          "base_uri": "https://localhost:8080/"
        },
        "id": "fcwwM7sLWlA6",
        "outputId": "0ed706ce-c826-46a3-de14-b528e4ac4d5a"
      },
      "execution_count": null,
      "outputs": [
        {
          "output_type": "execute_result",
          "data": {
            "text/plain": [
              "0"
            ]
          },
          "metadata": {},
          "execution_count": 18
        }
      ]
    },
    {
      "cell_type": "code",
      "source": [
        "#Mirar si existen años mal escritos\n",
        "movies['year'].unique()"
      ],
      "metadata": {
        "colab": {
          "base_uri": "https://localhost:8080/"
        },
        "id": "WDrVkiwVXrMT",
        "outputId": "78e74265-911f-4fd5-8986-0aac88814c48"
      },
      "execution_count": null,
      "outputs": [
        {
          "output_type": "execute_result",
          "data": {
            "text/plain": [
              "array(['1995', '1994', '1996', '1976', '1992', '1967', '1993', '1964',\n",
              "       '1977', '1965', '1982', '1990', '1991', '1989', '1937', '1940',\n",
              "       '1969', '1981', '1973', '1970', '1955', '1959', '1968', '1988',\n",
              "       '1997', '1972', '1943', '1952', '1951', '1957', '1961', '1958',\n",
              "       '1954', '1934', '1944', '1960', '1963', '1942', '1941', '1953',\n",
              "       '1939', '1950', '1946', '1945', '1938', '1947', '1935', '1936',\n",
              "       '1956', '1949', '1932', '1975', '1974', '1971', '1979', '1987',\n",
              "       '1986', '1980', '1978', '1985', '1966', '1962', '1983', '1984',\n",
              "       '1948', '1933', '1931', '1922', '1998', '1929', '1930', '1927',\n",
              "       '1928', '1999', '2000', '1926', '1919', '1921', '1925', '1923',\n",
              "       '2001', '2002', '2003', '1920', '1915', '1924', '2004', '1916',\n",
              "       '1917', '', '2005', '2006', '1902', '5', '1903', '2007', '2008',\n",
              "       '2009', '2010', '2011', '2012', '2013', '2014', '2015', '2016',\n",
              "       '2017', '2018', '1908', 'One', 'Road', 'Watson', 'Animals',\n",
              "       'Paterson', 'Moonlight', 'OA', 'Cosmos', 'Baby', '2006–2007', '2',\n",
              "       'Mirror'], dtype=object)"
            ]
          },
          "metadata": {},
          "execution_count": 19
        }
      ]
    },
    {
      "cell_type": "code",
      "source": [
        "#Cuantos datos representan \n",
        "movies.query(\"year=='' or year=='5' or year== 'One' or year=='Road'or year=='Watson' or year=='Animals' or year=='Paterson'or year=='Moonlight' or year=='Moonlight' or year=='OA' or year=='Cosmos' or year=='Baby' or year=='20006-2007' or year=='2' or year=='Mirror'\")"
      ],
      "metadata": {
        "id": "D5DxWXdqZShS"
      },
      "execution_count": null,
      "outputs": []
    },
    {
      "cell_type": "code",
      "source": [
        "#Se reemplazan los 23 datos en years escritos incorrectamente\n",
        "lista= ('Cosmos', 'OA', 'One', 'Paterson', 'Moonlight', 'Watson', '2', 'Animals', 'Baby', 'Mirror','Road','','5')\n"
      ],
      "metadata": {
        "id": "rslQMw9rZEyq"
      },
      "execution_count": null,
      "outputs": []
    },
    {
      "cell_type": "markdown",
      "source": [
        "Se encuentra que existen muy pocos datos (23 de 9742) así que se puede optar por borrarlos o reemplazar sus valores. Se tomara aquel año que más se repite y serán reemplazados por ese año ya que los nombres escritos no dan indicios de una fecha excepto por 2006-2007 que se tomara el 2007"
      ],
      "metadata": {
        "id": "4HdYomVTA_Aj"
      }
    },
    {
      "cell_type": "code",
      "source": [
        "#Busco el dato que más se repite para que reemplace los valores\n",
        "\n",
        "movies['year'].describe()"
      ],
      "metadata": {
        "colab": {
          "base_uri": "https://localhost:8080/"
        },
        "id": "4pwxeLPy918R",
        "outputId": "5ce82b0b-46f7-4ffb-a536-f0b4b52f234a"
      },
      "execution_count": null,
      "outputs": [
        {
          "output_type": "execute_result",
          "data": {
            "text/plain": [
              "count     9742\n",
              "unique     120\n",
              "top       2002\n",
              "freq       311\n",
              "Name: year, dtype: object"
            ]
          },
          "metadata": {},
          "execution_count": 33
        }
      ]
    },
    {
      "cell_type": "code",
      "source": [
        "#Reemplazar los datos que no son fechas\n",
        "\n",
        "movies['year'] = movies['year'].replace(('2006–2007','2006'))\n",
        "\n",
        "for i in lista:\n",
        "  movies['year'] = movies['year'].replace((i, '2002'))\n",
        "\n"
      ],
      "metadata": {
        "id": "kSV8g3FT_Hg2"
      },
      "execution_count": null,
      "outputs": []
    },
    {
      "cell_type": "code",
      "source": [
        "#poner el año en el tipo de dato adecuado\n",
        "movies['year'] = movies['year'].astype('int64')"
      ],
      "metadata": {
        "id": "AvBAuOMwBrzZ"
      },
      "execution_count": null,
      "outputs": []
    },
    {
      "cell_type": "code",
      "execution_count": null,
      "metadata": {
        "id": "moRViVNYvHDa"
      },
      "outputs": [],
      "source": [
        "#Homologación de categorias \n",
        "listaf= ['title',\n",
        "        '(no genres listed)', 'action', 'adventure',\n",
        "       'animation', 'children', 'comedy', 'crime', 'documentary', 'drama',\n",
        "       'fantasy', 'film-noir', 'horror', 'imax', 'musical', 'mystery',\n",
        "       'romance', 'sci-fi', 'thriller', 'war', 'western', 'year']"
      ]
    },
    {
      "cell_type": "code",
      "execution_count": null,
      "metadata": {
        "id": "mfJ8gIxBx3MT"
      },
      "outputs": [],
      "source": [
        "for i in listaf:\n",
        "  print(movies[i].value_counts())\n",
        "  print('-----------------------------------------------')"
      ]
    },
    {
      "cell_type": "markdown",
      "metadata": {
        "id": "9bBbFpUGJ7Eu"
      },
      "source": [
        "Lectura base de datos: raitings"
      ]
    },
    {
      "cell_type": "code",
      "execution_count": null,
      "metadata": {
        "colab": {
          "base_uri": "https://localhost:8080/",
          "height": 424
        },
        "id": "c7Ks--LVLXxY",
        "outputId": "b3792523-7661-4e1a-c896-1e52960021dc"
      },
      "outputs": [
        {
          "output_type": "execute_result",
          "data": {
            "text/plain": [
              "        userId  movieId  rating   timestamp                 date\n",
              "0            1        1     4.0   964982703  2000-07-30 18:45:03\n",
              "1            1        3     4.0   964981247  2000-07-30 18:20:47\n",
              "2            1        6     4.0   964982224  2000-07-30 18:37:04\n",
              "3            1       47     5.0   964983815  2000-07-30 19:03:35\n",
              "4            1       50     5.0   964982931  2000-07-30 18:48:51\n",
              "...        ...      ...     ...         ...                  ...\n",
              "100831     610   166534     4.0  1493848402  2017-05-03 21:53:22\n",
              "100832     610   168248     5.0  1493850091  2017-05-03 22:21:31\n",
              "100833     610   168250     5.0  1494273047  2017-05-08 19:50:47\n",
              "100834     610   168252     5.0  1493846352  2017-05-03 21:19:12\n",
              "100835     610   170875     3.0  1493846415  2017-05-03 21:20:15\n",
              "\n",
              "[100836 rows x 5 columns]"
            ],
            "text/html": [
              "\n",
              "  <div id=\"df-f6c2b833-8393-42c0-9252-daf3c7441717\">\n",
              "    <div class=\"colab-df-container\">\n",
              "      <div>\n",
              "<style scoped>\n",
              "    .dataframe tbody tr th:only-of-type {\n",
              "        vertical-align: middle;\n",
              "    }\n",
              "\n",
              "    .dataframe tbody tr th {\n",
              "        vertical-align: top;\n",
              "    }\n",
              "\n",
              "    .dataframe thead th {\n",
              "        text-align: right;\n",
              "    }\n",
              "</style>\n",
              "<table border=\"1\" class=\"dataframe\">\n",
              "  <thead>\n",
              "    <tr style=\"text-align: right;\">\n",
              "      <th></th>\n",
              "      <th>userId</th>\n",
              "      <th>movieId</th>\n",
              "      <th>rating</th>\n",
              "      <th>timestamp</th>\n",
              "      <th>date</th>\n",
              "    </tr>\n",
              "  </thead>\n",
              "  <tbody>\n",
              "    <tr>\n",
              "      <th>0</th>\n",
              "      <td>1</td>\n",
              "      <td>1</td>\n",
              "      <td>4.0</td>\n",
              "      <td>964982703</td>\n",
              "      <td>2000-07-30 18:45:03</td>\n",
              "    </tr>\n",
              "    <tr>\n",
              "      <th>1</th>\n",
              "      <td>1</td>\n",
              "      <td>3</td>\n",
              "      <td>4.0</td>\n",
              "      <td>964981247</td>\n",
              "      <td>2000-07-30 18:20:47</td>\n",
              "    </tr>\n",
              "    <tr>\n",
              "      <th>2</th>\n",
              "      <td>1</td>\n",
              "      <td>6</td>\n",
              "      <td>4.0</td>\n",
              "      <td>964982224</td>\n",
              "      <td>2000-07-30 18:37:04</td>\n",
              "    </tr>\n",
              "    <tr>\n",
              "      <th>3</th>\n",
              "      <td>1</td>\n",
              "      <td>47</td>\n",
              "      <td>5.0</td>\n",
              "      <td>964983815</td>\n",
              "      <td>2000-07-30 19:03:35</td>\n",
              "    </tr>\n",
              "    <tr>\n",
              "      <th>4</th>\n",
              "      <td>1</td>\n",
              "      <td>50</td>\n",
              "      <td>5.0</td>\n",
              "      <td>964982931</td>\n",
              "      <td>2000-07-30 18:48:51</td>\n",
              "    </tr>\n",
              "    <tr>\n",
              "      <th>...</th>\n",
              "      <td>...</td>\n",
              "      <td>...</td>\n",
              "      <td>...</td>\n",
              "      <td>...</td>\n",
              "      <td>...</td>\n",
              "    </tr>\n",
              "    <tr>\n",
              "      <th>100831</th>\n",
              "      <td>610</td>\n",
              "      <td>166534</td>\n",
              "      <td>4.0</td>\n",
              "      <td>1493848402</td>\n",
              "      <td>2017-05-03 21:53:22</td>\n",
              "    </tr>\n",
              "    <tr>\n",
              "      <th>100832</th>\n",
              "      <td>610</td>\n",
              "      <td>168248</td>\n",
              "      <td>5.0</td>\n",
              "      <td>1493850091</td>\n",
              "      <td>2017-05-03 22:21:31</td>\n",
              "    </tr>\n",
              "    <tr>\n",
              "      <th>100833</th>\n",
              "      <td>610</td>\n",
              "      <td>168250</td>\n",
              "      <td>5.0</td>\n",
              "      <td>1494273047</td>\n",
              "      <td>2017-05-08 19:50:47</td>\n",
              "    </tr>\n",
              "    <tr>\n",
              "      <th>100834</th>\n",
              "      <td>610</td>\n",
              "      <td>168252</td>\n",
              "      <td>5.0</td>\n",
              "      <td>1493846352</td>\n",
              "      <td>2017-05-03 21:19:12</td>\n",
              "    </tr>\n",
              "    <tr>\n",
              "      <th>100835</th>\n",
              "      <td>610</td>\n",
              "      <td>170875</td>\n",
              "      <td>3.0</td>\n",
              "      <td>1493846415</td>\n",
              "      <td>2017-05-03 21:20:15</td>\n",
              "    </tr>\n",
              "  </tbody>\n",
              "</table>\n",
              "<p>100836 rows × 5 columns</p>\n",
              "</div>\n",
              "      <button class=\"colab-df-convert\" onclick=\"convertToInteractive('df-f6c2b833-8393-42c0-9252-daf3c7441717')\"\n",
              "              title=\"Convert this dataframe to an interactive table.\"\n",
              "              style=\"display:none;\">\n",
              "        \n",
              "  <svg xmlns=\"http://www.w3.org/2000/svg\" height=\"24px\"viewBox=\"0 0 24 24\"\n",
              "       width=\"24px\">\n",
              "    <path d=\"M0 0h24v24H0V0z\" fill=\"none\"/>\n",
              "    <path d=\"M18.56 5.44l.94 2.06.94-2.06 2.06-.94-2.06-.94-.94-2.06-.94 2.06-2.06.94zm-11 1L8.5 8.5l.94-2.06 2.06-.94-2.06-.94L8.5 2.5l-.94 2.06-2.06.94zm10 10l.94 2.06.94-2.06 2.06-.94-2.06-.94-.94-2.06-.94 2.06-2.06.94z\"/><path d=\"M17.41 7.96l-1.37-1.37c-.4-.4-.92-.59-1.43-.59-.52 0-1.04.2-1.43.59L10.3 9.45l-7.72 7.72c-.78.78-.78 2.05 0 2.83L4 21.41c.39.39.9.59 1.41.59.51 0 1.02-.2 1.41-.59l7.78-7.78 2.81-2.81c.8-.78.8-2.07 0-2.86zM5.41 20L4 18.59l7.72-7.72 1.47 1.35L5.41 20z\"/>\n",
              "  </svg>\n",
              "      </button>\n",
              "      \n",
              "  <style>\n",
              "    .colab-df-container {\n",
              "      display:flex;\n",
              "      flex-wrap:wrap;\n",
              "      gap: 12px;\n",
              "    }\n",
              "\n",
              "    .colab-df-convert {\n",
              "      background-color: #E8F0FE;\n",
              "      border: none;\n",
              "      border-radius: 50%;\n",
              "      cursor: pointer;\n",
              "      display: none;\n",
              "      fill: #1967D2;\n",
              "      height: 32px;\n",
              "      padding: 0 0 0 0;\n",
              "      width: 32px;\n",
              "    }\n",
              "\n",
              "    .colab-df-convert:hover {\n",
              "      background-color: #E2EBFA;\n",
              "      box-shadow: 0px 1px 2px rgba(60, 64, 67, 0.3), 0px 1px 3px 1px rgba(60, 64, 67, 0.15);\n",
              "      fill: #174EA6;\n",
              "    }\n",
              "\n",
              "    [theme=dark] .colab-df-convert {\n",
              "      background-color: #3B4455;\n",
              "      fill: #D2E3FC;\n",
              "    }\n",
              "\n",
              "    [theme=dark] .colab-df-convert:hover {\n",
              "      background-color: #434B5C;\n",
              "      box-shadow: 0px 1px 3px 1px rgba(0, 0, 0, 0.15);\n",
              "      filter: drop-shadow(0px 1px 2px rgba(0, 0, 0, 0.3));\n",
              "      fill: #FFFFFF;\n",
              "    }\n",
              "  </style>\n",
              "\n",
              "      <script>\n",
              "        const buttonEl =\n",
              "          document.querySelector('#df-f6c2b833-8393-42c0-9252-daf3c7441717 button.colab-df-convert');\n",
              "        buttonEl.style.display =\n",
              "          google.colab.kernel.accessAllowed ? 'block' : 'none';\n",
              "\n",
              "        async function convertToInteractive(key) {\n",
              "          const element = document.querySelector('#df-f6c2b833-8393-42c0-9252-daf3c7441717');\n",
              "          const dataTable =\n",
              "            await google.colab.kernel.invokeFunction('convertToInteractive',\n",
              "                                                     [key], {});\n",
              "          if (!dataTable) return;\n",
              "\n",
              "          const docLinkHtml = 'Like what you see? Visit the ' +\n",
              "            '<a target=\"_blank\" href=https://colab.research.google.com/notebooks/data_table.ipynb>data table notebook</a>'\n",
              "            + ' to learn more about interactive tables.';\n",
              "          element.innerHTML = '';\n",
              "          dataTable['output_type'] = 'display_data';\n",
              "          await google.colab.output.renderOutput(dataTable, element);\n",
              "          const docLink = document.createElement('div');\n",
              "          docLink.innerHTML = docLinkHtml;\n",
              "          element.appendChild(docLink);\n",
              "        }\n",
              "      </script>\n",
              "    </div>\n",
              "  </div>\n",
              "  "
            ]
          },
          "metadata": {},
          "execution_count": 53
        }
      ],
      "source": [
        "#Lectura DB ratingS\n",
        "ratings=pd.read_sql(\"\"\"select *,datetime(timestamp , 'unixepoch') as date from ratings\"\"\", conn)\n",
        "ratings"
      ]
    },
    {
      "cell_type": "markdown",
      "metadata": {
        "id": "GPMxPnx3KPCV"
      },
      "source": [
        "**Depuración DB ratings**"
      ]
    },
    {
      "cell_type": "code",
      "execution_count": null,
      "metadata": {
        "colab": {
          "base_uri": "https://localhost:8080/"
        },
        "id": "3qO02bqJ52xN",
        "outputId": "17a88715-0299-488a-9548-ca7565d19359"
      },
      "outputs": [
        {
          "output_type": "stream",
          "name": "stdout",
          "text": [
            "<class 'pandas.core.frame.DataFrame'>\n",
            "RangeIndex: 100836 entries, 0 to 100835\n",
            "Data columns (total 5 columns):\n",
            " #   Column     Non-Null Count   Dtype  \n",
            "---  ------     --------------   -----  \n",
            " 0   userId     100836 non-null  int64  \n",
            " 1   movieId    100836 non-null  int64  \n",
            " 2   rating     100836 non-null  float64\n",
            " 3   timestamp  100836 non-null  int64  \n",
            " 4   date       100836 non-null  object \n",
            "dtypes: float64(1), int64(3), object(1)\n",
            "memory usage: 3.8+ MB\n"
          ]
        }
      ],
      "source": [
        "#información general\n",
        "ratings.info()"
      ]
    },
    {
      "cell_type": "code",
      "execution_count": null,
      "metadata": {
        "colab": {
          "base_uri": "https://localhost:8080/"
        },
        "id": "WmlKFT1i6A6q",
        "outputId": "85e070e6-b27f-42e6-8b1d-14d259a3148d"
      },
      "outputs": [
        {
          "output_type": "execute_result",
          "data": {
            "text/plain": [
              "0"
            ]
          },
          "metadata": {},
          "execution_count": 55
        }
      ],
      "source": [
        "#Duplicados\n",
        "ratings.duplicated().sum()"
      ]
    },
    {
      "cell_type": "code",
      "execution_count": null,
      "metadata": {
        "colab": {
          "base_uri": "https://localhost:8080/"
        },
        "id": "8ZFOZZ_C6Glq",
        "outputId": "ced6c8c3-eb06-4445-fe6a-a8e1af37a528"
      },
      "outputs": [
        {
          "output_type": "stream",
          "name": "stdout",
          "text": [
            "(100836, 5)\n",
            "-------------------------------------------------\n",
            "userId       0\n",
            "movieId      0\n",
            "rating       0\n",
            "timestamp    0\n",
            "date         0\n",
            "dtype: int64\n",
            "-------------------------------------------------\n",
            "userId         int64\n",
            "movieId        int64\n",
            "rating       float64\n",
            "timestamp      int64\n",
            "date          object\n",
            "dtype: object\n",
            "-------------------------------------------------\n"
          ]
        }
      ],
      "source": [
        "#Analizar dimensión, tipos y nulos\n",
        "print(ratings.shape)\n",
        "print('-------------------------------------------------')\n",
        "print(ratings.isnull().sum())\n",
        "print('-------------------------------------------------')\n",
        "print(ratings.dtypes)\n",
        "print('-------------------------------------------------')"
      ]
    },
    {
      "cell_type": "code",
      "execution_count": null,
      "metadata": {
        "colab": {
          "base_uri": "https://localhost:8080/"
        },
        "id": "G2To7v1O6wSg",
        "outputId": "9fc6d38c-2e1b-402a-a2fd-78ed1d3e6ac9"
      },
      "outputs": [
        {
          "output_type": "execute_result",
          "data": {
            "text/plain": [
              "userId         Int64\n",
              "movieId        Int64\n",
              "rating       Float64\n",
              "timestamp      Int64\n",
              "date          string\n",
              "dtype: object"
            ]
          },
          "metadata": {},
          "execution_count": 57
        }
      ],
      "source": [
        "#Se arregla los tipos de datos de las columnas\n",
        "ratings=ratings.convert_dtypes()\n",
        "ratings.dtypes"
      ]
    },
    {
      "cell_type": "code",
      "source": [
        "#Se le quita la hora a la fecha\n",
        "ratings['date']=ratings['date'].apply(lambda x:str(x)[0:10])"
      ],
      "metadata": {
        "id": "gsvyCRWlTV_L"
      },
      "execution_count": null,
      "outputs": []
    },
    {
      "cell_type": "code",
      "source": [
        "#Se le quita la columna timestap ya que al convertirla a date ya no es necesaria\n",
        "ratings=ratings.drop(['timestamp'], axis=1)"
      ],
      "metadata": {
        "id": "Z8di_bPeUG36"
      },
      "execution_count": null,
      "outputs": []
    },
    {
      "cell_type": "code",
      "execution_count": null,
      "metadata": {
        "colab": {
          "base_uri": "https://localhost:8080/"
        },
        "id": "PQco5oy_cJVB",
        "outputId": "82ef5482-6d8b-4e8c-a4cc-b8e5873b9196"
      },
      "outputs": [
        {
          "output_type": "execute_result",
          "data": {
            "text/plain": [
              "userId                Int64\n",
              "movieId               Int64\n",
              "rating              Float64\n",
              "timestamp             Int64\n",
              "date         datetime64[ns]\n",
              "dtype: object"
            ]
          },
          "metadata": {},
          "execution_count": 61
        }
      ],
      "source": [
        "#Se arregla el tipo de dato de date a fecha\n",
        "\n",
        "ratings['date']= pd.to_datetime(ratings['date'], errors= 'coerce', format='%Y-%m-%d')\n",
        "ratings.dtypes"
      ]
    },
    {
      "cell_type": "code",
      "execution_count": null,
      "metadata": {
        "colab": {
          "base_uri": "https://localhost:8080/"
        },
        "id": "hRsfJPWy7G6I",
        "outputId": "9f88dacc-865b-454b-d7c7-661fec879de5"
      },
      "outputs": [
        {
          "output_type": "execute_result",
          "data": {
            "text/plain": [
              "Index(['userid', 'movieid', 'rating', 'timestamp', 'date'], dtype='object')"
            ]
          },
          "metadata": {},
          "execution_count": 62
        }
      ],
      "source": [
        "#Cambiar el nombre de las columnas a minusculas\n",
        "ratings.columns = ratings.columns.str.lower()\n",
        "ratings.columns"
      ]
    },
    {
      "cell_type": "code",
      "execution_count": null,
      "metadata": {
        "id": "5Ool9Cyy8JPl"
      },
      "outputs": [],
      "source": [
        "#Homologación de categorias \n",
        "#timestap tiene la misma fecha para todos (no sirve?-eliminar?)\n",
        "listaf= ['rating', 'date']"
      ]
    },
    {
      "cell_type": "code",
      "execution_count": null,
      "metadata": {
        "colab": {
          "base_uri": "https://localhost:8080/"
        },
        "id": "WFpb3SzT8R5V",
        "outputId": "43b6f247-071d-495c-89a1-220b50cb099a"
      },
      "outputs": [
        {
          "output_type": "stream",
          "name": "stdout",
          "text": [
            "4.0    26818\n",
            "3.0    20047\n",
            "5.0    13211\n",
            "3.5    13136\n",
            "4.5     8551\n",
            "2.0     7551\n",
            "2.5     5550\n",
            "1.0     2811\n",
            "1.5     1791\n",
            "0.5     1370\n",
            "Name: rating, dtype: Int64\n",
            "-----------------------------------------------\n",
            "2017-06-26    1014\n",
            "2007-05-14     878\n",
            "2017-05-03     866\n",
            "2000-08-08     709\n",
            "2015-06-28     606\n",
            "              ... \n",
            "2010-01-09       1\n",
            "2005-03-27       1\n",
            "2005-08-14       1\n",
            "2003-10-29       1\n",
            "2018-03-08       1\n",
            "Name: date, Length: 4110, dtype: int64\n",
            "-----------------------------------------------\n"
          ]
        }
      ],
      "source": [
        "for i in listaf:\n",
        "  print(ratings[i].value_counts())\n",
        "  print('-----------------------------------------------')"
      ]
    },
    {
      "cell_type": "code",
      "execution_count": null,
      "metadata": {
        "id": "mQt_Cj4e3r3j"
      },
      "outputs": [],
      "source": [
        "#Se guardan las bases de datos finales\n",
        "movies = movies.copy(deep = True)\n",
        "ratings =ratings.copy(deep= True)"
      ]
    }
  ],
  "metadata": {
    "colab": {
      "name": "Lectura y depuración bases_Trabajo peliculasreal.ipynb",
      "provenance": [],
      "collapsed_sections": [],
      "include_colab_link": true
    },
    "kernelspec": {
      "display_name": "Python 3",
      "name": "python3"
    },
    "language_info": {
      "name": "python"
    }
  },
  "nbformat": 4,
  "nbformat_minor": 0
}