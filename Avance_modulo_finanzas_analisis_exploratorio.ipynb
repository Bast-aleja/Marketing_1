{
  "nbformat": 4,
  "nbformat_minor": 0,
  "metadata": {
    "colab": {
      "provenance": [],
      "collapsed_sections": []
    },
    "kernelspec": {
      "name": "python3",
      "display_name": "Python 3"
    },
    "language_info": {
      "name": "python"
    }
  },
  "cells": [
    {
      "cell_type": "markdown",
      "source": [
        "IMPORTACIÓN DE PAQUETES"
      ],
      "metadata": {
        "id": "O9NGCVY0oFuO"
      }
    },
    {
      "cell_type": "code",
      "execution_count": null,
      "metadata": {
        "id": "wb4aHM3MoC6N"
      },
      "outputs": [],
      "source": [
        "##importar paquetes\n",
        "import pandas as pd\n",
        "import numpy as np\n",
        "import random \n",
        "from sklearn.feature_selection import SelectKBest\n",
        "from sklearn.feature_selection import f_classif\n",
        "from sklearn.linear_model import LogisticRegression\n",
        "from sklearn.feature_selection import RFE\n",
        "from sklearn.decomposition import PCA\n",
        "from sklearn.ensemble import ExtraTreesClassifier\n",
        "from sklearn.model_selection import train_test_split\n",
        "from sklearn.model_selection import KFold\n",
        "from sklearn.model_selection import cross_val_score\n",
        "from sklearn.model_selection import LeaveOneOut\n",
        "from sklearn.model_selection import ShuffleSplit\n",
        "from sklearn.metrics import confusion_matrix\n",
        "from sklearn.metrics import classification_report\n",
        "from sklearn.svm import SVC\n",
        "from sklearn.neural_network import MLPClassifier\n",
        "from sklearn.datasets import make_classification\n",
        "from sklearn.model_selection import learning_curve\n",
        "import matplotlib.pyplot as plt\n",
        "from sklearn.model_selection import train_test_split\n",
        "from sklearn.ensemble import RandomForestClassifier\n",
        "from sklearn import metrics\n",
        "from sklearn.tree import DecisionTreeClassifier\n",
        "from IPython.display import Image  \n",
        "from io import StringIO\n",
        "import pydotplus\n",
        "from sklearn import tree\n",
        "import pickle\n",
        "from sklearn.linear_model import SGDRegressor\n",
        "from sklearn.pipeline import make_pipeline\n",
        "from sklearn.preprocessing import StandardScaler"
      ]
    },
    {
      "cell_type": "code",
      "source": [
        "#importar datos \n",
        "from google.colab import drive\n",
        "drive.mount('/content/drive')"
      ],
      "metadata": {
        "colab": {
          "base_uri": "https://localhost:8080/"
        },
        "id": "VTvhbNgGoSaV",
        "outputId": "b8cff99b-1e47-4094-a7e2-9cd5b7f5ada1"
      },
      "execution_count": null,
      "outputs": [
        {
          "output_type": "stream",
          "name": "stdout",
          "text": [
            "Mounted at /content/drive\n"
          ]
        }
      ]
    },
    {
      "cell_type": "code",
      "source": [
        "# cargar bases\n",
        "BD_Expuestos= pd.read_csv('/content/drive/MyDrive/ANALITICA3/BD_Expuestos_2.csv', sep=\";\")\n",
        "BD_Sociodemografia= pd.read_csv('/content/drive/MyDrive/ANALITICA3/BD_Sociodemografia_2.csv' , encoding='latin-1', sep=\";\")\n",
        "BD_Siniestros= pd.read_csv('/content/drive/MyDrive/ANALITICA3/DB_Siniestros_2.csv' , encoding='latin-1', sep=\";\")"
      ],
      "metadata": {
        "id": "btSgdAR8oVEn"
      },
      "execution_count": null,
      "outputs": []
    },
    {
      "cell_type": "markdown",
      "source": [
        "TRATAMIENTO BD EXPUESTOS"
      ],
      "metadata": {
        "id": "hO_Nj3OLomUJ"
      }
    },
    {
      "cell_type": "code",
      "source": [
        "BD_Expuestos.head(2)"
      ],
      "metadata": {
        "colab": {
          "base_uri": "https://localhost:8080/",
          "height": 112
        },
        "id": "cU-Y2Nj3oZSq",
        "outputId": "09e78629-caa9-4cc0-83a9-72cd88d383b3"
      },
      "execution_count": null,
      "outputs": [
        {
          "output_type": "execute_result",
          "data": {
            "text/plain": [
              "   Asegurado_Id  Poliza_Asegurado_Id FECHA_INICIO FECHA_CANCELACION  \\\n",
              "0      16286173            125696117   2018/01/01        2018/04/10   \n",
              "1      11885152            141320760   2018/01/01               NaN   \n",
              "\n",
              "    FECHA_FIN  \n",
              "0  2018/04/10  \n",
              "1  2019/12/31  "
            ],
            "text/html": [
              "\n",
              "  <div id=\"df-9feee748-3aed-471d-a236-62425d6b0548\">\n",
              "    <div class=\"colab-df-container\">\n",
              "      <div>\n",
              "<style scoped>\n",
              "    .dataframe tbody tr th:only-of-type {\n",
              "        vertical-align: middle;\n",
              "    }\n",
              "\n",
              "    .dataframe tbody tr th {\n",
              "        vertical-align: top;\n",
              "    }\n",
              "\n",
              "    .dataframe thead th {\n",
              "        text-align: right;\n",
              "    }\n",
              "</style>\n",
              "<table border=\"1\" class=\"dataframe\">\n",
              "  <thead>\n",
              "    <tr style=\"text-align: right;\">\n",
              "      <th></th>\n",
              "      <th>Asegurado_Id</th>\n",
              "      <th>Poliza_Asegurado_Id</th>\n",
              "      <th>FECHA_INICIO</th>\n",
              "      <th>FECHA_CANCELACION</th>\n",
              "      <th>FECHA_FIN</th>\n",
              "    </tr>\n",
              "  </thead>\n",
              "  <tbody>\n",
              "    <tr>\n",
              "      <th>0</th>\n",
              "      <td>16286173</td>\n",
              "      <td>125696117</td>\n",
              "      <td>2018/01/01</td>\n",
              "      <td>2018/04/10</td>\n",
              "      <td>2018/04/10</td>\n",
              "    </tr>\n",
              "    <tr>\n",
              "      <th>1</th>\n",
              "      <td>11885152</td>\n",
              "      <td>141320760</td>\n",
              "      <td>2018/01/01</td>\n",
              "      <td>NaN</td>\n",
              "      <td>2019/12/31</td>\n",
              "    </tr>\n",
              "  </tbody>\n",
              "</table>\n",
              "</div>\n",
              "      <button class=\"colab-df-convert\" onclick=\"convertToInteractive('df-9feee748-3aed-471d-a236-62425d6b0548')\"\n",
              "              title=\"Convert this dataframe to an interactive table.\"\n",
              "              style=\"display:none;\">\n",
              "        \n",
              "  <svg xmlns=\"http://www.w3.org/2000/svg\" height=\"24px\"viewBox=\"0 0 24 24\"\n",
              "       width=\"24px\">\n",
              "    <path d=\"M0 0h24v24H0V0z\" fill=\"none\"/>\n",
              "    <path d=\"M18.56 5.44l.94 2.06.94-2.06 2.06-.94-2.06-.94-.94-2.06-.94 2.06-2.06.94zm-11 1L8.5 8.5l.94-2.06 2.06-.94-2.06-.94L8.5 2.5l-.94 2.06-2.06.94zm10 10l.94 2.06.94-2.06 2.06-.94-2.06-.94-.94-2.06-.94 2.06-2.06.94z\"/><path d=\"M17.41 7.96l-1.37-1.37c-.4-.4-.92-.59-1.43-.59-.52 0-1.04.2-1.43.59L10.3 9.45l-7.72 7.72c-.78.78-.78 2.05 0 2.83L4 21.41c.39.39.9.59 1.41.59.51 0 1.02-.2 1.41-.59l7.78-7.78 2.81-2.81c.8-.78.8-2.07 0-2.86zM5.41 20L4 18.59l7.72-7.72 1.47 1.35L5.41 20z\"/>\n",
              "  </svg>\n",
              "      </button>\n",
              "      \n",
              "  <style>\n",
              "    .colab-df-container {\n",
              "      display:flex;\n",
              "      flex-wrap:wrap;\n",
              "      gap: 12px;\n",
              "    }\n",
              "\n",
              "    .colab-df-convert {\n",
              "      background-color: #E8F0FE;\n",
              "      border: none;\n",
              "      border-radius: 50%;\n",
              "      cursor: pointer;\n",
              "      display: none;\n",
              "      fill: #1967D2;\n",
              "      height: 32px;\n",
              "      padding: 0 0 0 0;\n",
              "      width: 32px;\n",
              "    }\n",
              "\n",
              "    .colab-df-convert:hover {\n",
              "      background-color: #E2EBFA;\n",
              "      box-shadow: 0px 1px 2px rgba(60, 64, 67, 0.3), 0px 1px 3px 1px rgba(60, 64, 67, 0.15);\n",
              "      fill: #174EA6;\n",
              "    }\n",
              "\n",
              "    [theme=dark] .colab-df-convert {\n",
              "      background-color: #3B4455;\n",
              "      fill: #D2E3FC;\n",
              "    }\n",
              "\n",
              "    [theme=dark] .colab-df-convert:hover {\n",
              "      background-color: #434B5C;\n",
              "      box-shadow: 0px 1px 3px 1px rgba(0, 0, 0, 0.15);\n",
              "      filter: drop-shadow(0px 1px 2px rgba(0, 0, 0, 0.3));\n",
              "      fill: #FFFFFF;\n",
              "    }\n",
              "  </style>\n",
              "\n",
              "      <script>\n",
              "        const buttonEl =\n",
              "          document.querySelector('#df-9feee748-3aed-471d-a236-62425d6b0548 button.colab-df-convert');\n",
              "        buttonEl.style.display =\n",
              "          google.colab.kernel.accessAllowed ? 'block' : 'none';\n",
              "\n",
              "        async function convertToInteractive(key) {\n",
              "          const element = document.querySelector('#df-9feee748-3aed-471d-a236-62425d6b0548');\n",
              "          const dataTable =\n",
              "            await google.colab.kernel.invokeFunction('convertToInteractive',\n",
              "                                                     [key], {});\n",
              "          if (!dataTable) return;\n",
              "\n",
              "          const docLinkHtml = 'Like what you see? Visit the ' +\n",
              "            '<a target=\"_blank\" href=https://colab.research.google.com/notebooks/data_table.ipynb>data table notebook</a>'\n",
              "            + ' to learn more about interactive tables.';\n",
              "          element.innerHTML = '';\n",
              "          dataTable['output_type'] = 'display_data';\n",
              "          await google.colab.output.renderOutput(dataTable, element);\n",
              "          const docLink = document.createElement('div');\n",
              "          docLink.innerHTML = docLinkHtml;\n",
              "          element.appendChild(docLink);\n",
              "        }\n",
              "      </script>\n",
              "    </div>\n",
              "  </div>\n",
              "  "
            ]
          },
          "metadata": {},
          "execution_count": 18
        }
      ]
    },
    {
      "cell_type": "code",
      "source": [
        "BD_Expuestos.info()"
      ],
      "metadata": {
        "colab": {
          "base_uri": "https://localhost:8080/"
        },
        "id": "ZFkDHRKSrv42",
        "outputId": "8f1d1d76-01d5-4370-ef11-35e9ffcc79bd"
      },
      "execution_count": null,
      "outputs": [
        {
          "output_type": "stream",
          "name": "stdout",
          "text": [
            "<class 'pandas.core.frame.DataFrame'>\n",
            "RangeIndex: 300900 entries, 0 to 300899\n",
            "Data columns (total 5 columns):\n",
            " #   Column               Non-Null Count   Dtype \n",
            "---  ------               --------------   ----- \n",
            " 0   Asegurado_Id         300900 non-null  int64 \n",
            " 1   Poliza_Asegurado_Id  300900 non-null  int64 \n",
            " 2   FECHA_INICIO         300900 non-null  object\n",
            " 3   FECHA_CANCELACION    151963 non-null  object\n",
            " 4   FECHA_FIN            300900 non-null  object\n",
            "dtypes: int64(2), object(3)\n",
            "memory usage: 11.5+ MB\n"
          ]
        }
      ]
    },
    {
      "cell_type": "code",
      "source": [
        "#Analizar dimensión, tipos y nulos\n",
        "print(BD_Expuestos.shape)\n",
        "print('-------------------------------------------------')\n",
        "print(BD_Expuestos.isnull().sum())\n",
        "print('-------------------------------------------------')\n",
        "print(BD_Expuestos.dtypes)\n",
        "print('-------------------------------------------------')"
      ],
      "metadata": {
        "colab": {
          "base_uri": "https://localhost:8080/"
        },
        "id": "tNkyCDH4runy",
        "outputId": "974eba20-5bd5-4173-d9b8-3f9c3df28603"
      },
      "execution_count": null,
      "outputs": [
        {
          "output_type": "stream",
          "name": "stdout",
          "text": [
            "(300900, 5)\n",
            "-------------------------------------------------\n",
            "Asegurado_Id                0\n",
            "Poliza_Asegurado_Id         0\n",
            "FECHA_INICIO                0\n",
            "FECHA_CANCELACION      148937\n",
            "FECHA_FIN                   0\n",
            "dtype: int64\n",
            "-------------------------------------------------\n",
            "Asegurado_Id            int64\n",
            "Poliza_Asegurado_Id     int64\n",
            "FECHA_INICIO           object\n",
            "FECHA_CANCELACION      object\n",
            "FECHA_FIN              object\n",
            "dtype: object\n",
            "-------------------------------------------------\n"
          ]
        }
      ]
    },
    {
      "cell_type": "code",
      "source": [
        "#Cambiar nombres\n",
        "BD_Expuestos= BD_Expuestos.rename(columns={'Asegurado_Id':'id_cliente', 'Poliza_Asegurado_Id':'cod_poliza'})"
      ],
      "metadata": {
        "id": "tDXSseRZtUG0"
      },
      "execution_count": null,
      "outputs": []
    },
    {
      "cell_type": "code",
      "source": [
        "#Cambiar el nombre de las columnas a minusculas\n",
        "BD_Expuestos.columns = BD_Expuestos.columns.str.lower()\n",
        "BD_Expuestos.columns"
      ],
      "metadata": {
        "colab": {
          "base_uri": "https://localhost:8080/"
        },
        "id": "p5wAqUNktSkT",
        "outputId": "89cf33ee-c68a-4a14-9898-61b50e48d87b"
      },
      "execution_count": null,
      "outputs": [
        {
          "output_type": "execute_result",
          "data": {
            "text/plain": [
              "Index(['id_cliente', 'cod_poliza', 'fecha_inicio', 'fecha_cancelacion',\n",
              "       'fecha_fin'],\n",
              "      dtype='object')"
            ]
          },
          "metadata": {},
          "execution_count": 22
        }
      ]
    },
    {
      "cell_type": "code",
      "source": [
        "#Se arregla el tipo de datos\n",
        "BD_Expuestos=BD_Expuestos.convert_dtypes()\n",
        "BD_Expuestos.dtypes"
      ],
      "metadata": {
        "colab": {
          "base_uri": "https://localhost:8080/"
        },
        "id": "YxsH8CFRsigo",
        "outputId": "b508b38e-f5f4-41ff-e18d-f5f1b23ad8a5"
      },
      "execution_count": null,
      "outputs": [
        {
          "output_type": "execute_result",
          "data": {
            "text/plain": [
              "id_cliente            Int64\n",
              "cod_poliza            Int64\n",
              "fecha_inicio         string\n",
              "fecha_cancelacion    string\n",
              "fecha_fin            string\n",
              "dtype: object"
            ]
          },
          "metadata": {},
          "execution_count": 23
        }
      ]
    },
    {
      "cell_type": "code",
      "source": [
        "edit = BD_Expuestos"
      ],
      "metadata": {
        "id": "HHPq6ZZTowT2"
      },
      "execution_count": null,
      "outputs": []
    },
    {
      "cell_type": "code",
      "source": [
        "BD_Expuestos['FI'] = pd.to_datetime(BD_Expuestos['fecha_inicio'])\n",
        "BD_Expuestos['fecha_cancelacion'] = pd.to_datetime(BD_Expuestos['fecha_cancelacion'])\n",
        "BD_Expuestos['fecha_fin'] = pd.to_datetime(BD_Expuestos['fecha_fin'])\n",
        "BD_Expuestos['FF'] = BD_Expuestos[['fecha_cancelacion','fecha_fin']].min(axis=1)\n",
        "BD_Expuestos['EXPO'] = (BD_Expuestos['FF'] - BD_Expuestos['FI'])/ np.timedelta64(2, 'Y') #((ff-fi)/)\n",
        "BD_Expuestos = BD_Expuestos.sort_values(['id_cliente', 'fecha_inicio'],\n",
        "              ascending = [True, True])\n",
        "BD_Expuestos"
      ],
      "metadata": {
        "colab": {
          "base_uri": "https://localhost:8080/",
          "height": 424
        },
        "id": "R11cTBuprM1g",
        "outputId": "76286474-0f66-4af1-8b14-fcb3a20e616f"
      },
      "execution_count": null,
      "outputs": [
        {
          "output_type": "execute_result",
          "data": {
            "text/plain": [
              "        id_cliente  cod_poliza fecha_inicio fecha_cancelacion  fecha_fin  \\\n",
              "266073      738284    89612446   2018/01/01        2018-02-01 2018-02-01   \n",
              "267387      738288    88146604   2018/01/01        2018-11-08 2018-11-08   \n",
              "162796      738288   175992661   2018/11/08               NaT 2019-12-31   \n",
              "99970       738294    89612649   2018/01/01        2019-12-31 2019-12-31   \n",
              "152420      738303   120708179   2018/01/01               NaT 2019-12-31   \n",
              "...            ...         ...          ...               ...        ...   \n",
              "108906    58581939   168944085   2018/05/15               NaT 2019-12-31   \n",
              "53059     58581989   132872337   2018/01/01               NaT 2019-12-31   \n",
              "21750     58584529    96109296   2018/01/01        2018-09-01 2018-09-01   \n",
              "110303    58584580   159465186   2018/01/01               NaT 2019-12-31   \n",
              "164906    58584620    94495059   2018/01/01               NaT 2019-12-31   \n",
              "\n",
              "               FI         FF      EXPO  \n",
              "266073 2018-01-01 2018-02-01  0.042438  \n",
              "267387 2018-01-01 2018-11-08  0.425745  \n",
              "162796 2018-11-08 2019-12-31  0.572223  \n",
              "99970  2018-01-01 2019-12-31  0.997967  \n",
              "152420 2018-01-01 2019-12-31  0.997967  \n",
              "...           ...        ...       ...  \n",
              "108906 2018-05-15 2019-12-31  0.814527  \n",
              "53059  2018-01-01 2019-12-31  0.997967  \n",
              "21750  2018-01-01 2018-09-01  0.332656  \n",
              "110303 2018-01-01 2019-12-31  0.997967  \n",
              "164906 2018-01-01 2019-12-31  0.997967  \n",
              "\n",
              "[300900 rows x 8 columns]"
            ],
            "text/html": [
              "\n",
              "  <div id=\"df-23689de1-bfa6-4e2d-9168-db77c36ed9cd\">\n",
              "    <div class=\"colab-df-container\">\n",
              "      <div>\n",
              "<style scoped>\n",
              "    .dataframe tbody tr th:only-of-type {\n",
              "        vertical-align: middle;\n",
              "    }\n",
              "\n",
              "    .dataframe tbody tr th {\n",
              "        vertical-align: top;\n",
              "    }\n",
              "\n",
              "    .dataframe thead th {\n",
              "        text-align: right;\n",
              "    }\n",
              "</style>\n",
              "<table border=\"1\" class=\"dataframe\">\n",
              "  <thead>\n",
              "    <tr style=\"text-align: right;\">\n",
              "      <th></th>\n",
              "      <th>id_cliente</th>\n",
              "      <th>cod_poliza</th>\n",
              "      <th>fecha_inicio</th>\n",
              "      <th>fecha_cancelacion</th>\n",
              "      <th>fecha_fin</th>\n",
              "      <th>FI</th>\n",
              "      <th>FF</th>\n",
              "      <th>EXPO</th>\n",
              "    </tr>\n",
              "  </thead>\n",
              "  <tbody>\n",
              "    <tr>\n",
              "      <th>266073</th>\n",
              "      <td>738284</td>\n",
              "      <td>89612446</td>\n",
              "      <td>2018/01/01</td>\n",
              "      <td>2018-02-01</td>\n",
              "      <td>2018-02-01</td>\n",
              "      <td>2018-01-01</td>\n",
              "      <td>2018-02-01</td>\n",
              "      <td>0.042438</td>\n",
              "    </tr>\n",
              "    <tr>\n",
              "      <th>267387</th>\n",
              "      <td>738288</td>\n",
              "      <td>88146604</td>\n",
              "      <td>2018/01/01</td>\n",
              "      <td>2018-11-08</td>\n",
              "      <td>2018-11-08</td>\n",
              "      <td>2018-01-01</td>\n",
              "      <td>2018-11-08</td>\n",
              "      <td>0.425745</td>\n",
              "    </tr>\n",
              "    <tr>\n",
              "      <th>162796</th>\n",
              "      <td>738288</td>\n",
              "      <td>175992661</td>\n",
              "      <td>2018/11/08</td>\n",
              "      <td>NaT</td>\n",
              "      <td>2019-12-31</td>\n",
              "      <td>2018-11-08</td>\n",
              "      <td>2019-12-31</td>\n",
              "      <td>0.572223</td>\n",
              "    </tr>\n",
              "    <tr>\n",
              "      <th>99970</th>\n",
              "      <td>738294</td>\n",
              "      <td>89612649</td>\n",
              "      <td>2018/01/01</td>\n",
              "      <td>2019-12-31</td>\n",
              "      <td>2019-12-31</td>\n",
              "      <td>2018-01-01</td>\n",
              "      <td>2019-12-31</td>\n",
              "      <td>0.997967</td>\n",
              "    </tr>\n",
              "    <tr>\n",
              "      <th>152420</th>\n",
              "      <td>738303</td>\n",
              "      <td>120708179</td>\n",
              "      <td>2018/01/01</td>\n",
              "      <td>NaT</td>\n",
              "      <td>2019-12-31</td>\n",
              "      <td>2018-01-01</td>\n",
              "      <td>2019-12-31</td>\n",
              "      <td>0.997967</td>\n",
              "    </tr>\n",
              "    <tr>\n",
              "      <th>...</th>\n",
              "      <td>...</td>\n",
              "      <td>...</td>\n",
              "      <td>...</td>\n",
              "      <td>...</td>\n",
              "      <td>...</td>\n",
              "      <td>...</td>\n",
              "      <td>...</td>\n",
              "      <td>...</td>\n",
              "    </tr>\n",
              "    <tr>\n",
              "      <th>108906</th>\n",
              "      <td>58581939</td>\n",
              "      <td>168944085</td>\n",
              "      <td>2018/05/15</td>\n",
              "      <td>NaT</td>\n",
              "      <td>2019-12-31</td>\n",
              "      <td>2018-05-15</td>\n",
              "      <td>2019-12-31</td>\n",
              "      <td>0.814527</td>\n",
              "    </tr>\n",
              "    <tr>\n",
              "      <th>53059</th>\n",
              "      <td>58581989</td>\n",
              "      <td>132872337</td>\n",
              "      <td>2018/01/01</td>\n",
              "      <td>NaT</td>\n",
              "      <td>2019-12-31</td>\n",
              "      <td>2018-01-01</td>\n",
              "      <td>2019-12-31</td>\n",
              "      <td>0.997967</td>\n",
              "    </tr>\n",
              "    <tr>\n",
              "      <th>21750</th>\n",
              "      <td>58584529</td>\n",
              "      <td>96109296</td>\n",
              "      <td>2018/01/01</td>\n",
              "      <td>2018-09-01</td>\n",
              "      <td>2018-09-01</td>\n",
              "      <td>2018-01-01</td>\n",
              "      <td>2018-09-01</td>\n",
              "      <td>0.332656</td>\n",
              "    </tr>\n",
              "    <tr>\n",
              "      <th>110303</th>\n",
              "      <td>58584580</td>\n",
              "      <td>159465186</td>\n",
              "      <td>2018/01/01</td>\n",
              "      <td>NaT</td>\n",
              "      <td>2019-12-31</td>\n",
              "      <td>2018-01-01</td>\n",
              "      <td>2019-12-31</td>\n",
              "      <td>0.997967</td>\n",
              "    </tr>\n",
              "    <tr>\n",
              "      <th>164906</th>\n",
              "      <td>58584620</td>\n",
              "      <td>94495059</td>\n",
              "      <td>2018/01/01</td>\n",
              "      <td>NaT</td>\n",
              "      <td>2019-12-31</td>\n",
              "      <td>2018-01-01</td>\n",
              "      <td>2019-12-31</td>\n",
              "      <td>0.997967</td>\n",
              "    </tr>\n",
              "  </tbody>\n",
              "</table>\n",
              "<p>300900 rows × 8 columns</p>\n",
              "</div>\n",
              "      <button class=\"colab-df-convert\" onclick=\"convertToInteractive('df-23689de1-bfa6-4e2d-9168-db77c36ed9cd')\"\n",
              "              title=\"Convert this dataframe to an interactive table.\"\n",
              "              style=\"display:none;\">\n",
              "        \n",
              "  <svg xmlns=\"http://www.w3.org/2000/svg\" height=\"24px\"viewBox=\"0 0 24 24\"\n",
              "       width=\"24px\">\n",
              "    <path d=\"M0 0h24v24H0V0z\" fill=\"none\"/>\n",
              "    <path d=\"M18.56 5.44l.94 2.06.94-2.06 2.06-.94-2.06-.94-.94-2.06-.94 2.06-2.06.94zm-11 1L8.5 8.5l.94-2.06 2.06-.94-2.06-.94L8.5 2.5l-.94 2.06-2.06.94zm10 10l.94 2.06.94-2.06 2.06-.94-2.06-.94-.94-2.06-.94 2.06-2.06.94z\"/><path d=\"M17.41 7.96l-1.37-1.37c-.4-.4-.92-.59-1.43-.59-.52 0-1.04.2-1.43.59L10.3 9.45l-7.72 7.72c-.78.78-.78 2.05 0 2.83L4 21.41c.39.39.9.59 1.41.59.51 0 1.02-.2 1.41-.59l7.78-7.78 2.81-2.81c.8-.78.8-2.07 0-2.86zM5.41 20L4 18.59l7.72-7.72 1.47 1.35L5.41 20z\"/>\n",
              "  </svg>\n",
              "      </button>\n",
              "      \n",
              "  <style>\n",
              "    .colab-df-container {\n",
              "      display:flex;\n",
              "      flex-wrap:wrap;\n",
              "      gap: 12px;\n",
              "    }\n",
              "\n",
              "    .colab-df-convert {\n",
              "      background-color: #E8F0FE;\n",
              "      border: none;\n",
              "      border-radius: 50%;\n",
              "      cursor: pointer;\n",
              "      display: none;\n",
              "      fill: #1967D2;\n",
              "      height: 32px;\n",
              "      padding: 0 0 0 0;\n",
              "      width: 32px;\n",
              "    }\n",
              "\n",
              "    .colab-df-convert:hover {\n",
              "      background-color: #E2EBFA;\n",
              "      box-shadow: 0px 1px 2px rgba(60, 64, 67, 0.3), 0px 1px 3px 1px rgba(60, 64, 67, 0.15);\n",
              "      fill: #174EA6;\n",
              "    }\n",
              "\n",
              "    [theme=dark] .colab-df-convert {\n",
              "      background-color: #3B4455;\n",
              "      fill: #D2E3FC;\n",
              "    }\n",
              "\n",
              "    [theme=dark] .colab-df-convert:hover {\n",
              "      background-color: #434B5C;\n",
              "      box-shadow: 0px 1px 3px 1px rgba(0, 0, 0, 0.15);\n",
              "      filter: drop-shadow(0px 1px 2px rgba(0, 0, 0, 0.3));\n",
              "      fill: #FFFFFF;\n",
              "    }\n",
              "  </style>\n",
              "\n",
              "      <script>\n",
              "        const buttonEl =\n",
              "          document.querySelector('#df-23689de1-bfa6-4e2d-9168-db77c36ed9cd button.colab-df-convert');\n",
              "        buttonEl.style.display =\n",
              "          google.colab.kernel.accessAllowed ? 'block' : 'none';\n",
              "\n",
              "        async function convertToInteractive(key) {\n",
              "          const element = document.querySelector('#df-23689de1-bfa6-4e2d-9168-db77c36ed9cd');\n",
              "          const dataTable =\n",
              "            await google.colab.kernel.invokeFunction('convertToInteractive',\n",
              "                                                     [key], {});\n",
              "          if (!dataTable) return;\n",
              "\n",
              "          const docLinkHtml = 'Like what you see? Visit the ' +\n",
              "            '<a target=\"_blank\" href=https://colab.research.google.com/notebooks/data_table.ipynb>data table notebook</a>'\n",
              "            + ' to learn more about interactive tables.';\n",
              "          element.innerHTML = '';\n",
              "          dataTable['output_type'] = 'display_data';\n",
              "          await google.colab.output.renderOutput(dataTable, element);\n",
              "          const docLink = document.createElement('div');\n",
              "          docLink.innerHTML = docLinkHtml;\n",
              "          element.appendChild(docLink);\n",
              "        }\n",
              "      </script>\n",
              "    </div>\n",
              "  </div>\n",
              "  "
            ]
          },
          "metadata": {},
          "execution_count": 25
        }
      ]
    },
    {
      "cell_type": "code",
      "source": [
        "#Expo_2_anos = sum(BD_Expuestos[BD_Expuestos['sexo'] == 'F'].groupby('id_cliente')['EXPO'].sum())"
      ],
      "metadata": {
        "id": "2Jeit_0lu7Ub"
      },
      "execution_count": null,
      "outputs": []
    },
    {
      "cell_type": "markdown",
      "source": [
        "TRATAMIENTO BD SINIESTROS"
      ],
      "metadata": {
        "id": "hgcc3XeOvUdh"
      }
    },
    {
      "cell_type": "code",
      "source": [
        "#Ver información\n",
        "BD_Siniestros.info"
      ],
      "metadata": {
        "id": "OAAq1U19xSy1",
        "colab": {
          "base_uri": "https://localhost:8080/"
        },
        "outputId": "da41f51a-4861-4406-e89c-881d3b4783c9"
      },
      "execution_count": null,
      "outputs": [
        {
          "output_type": "execute_result",
          "data": {
            "text/plain": [
              "<bound method DataFrame.info of          Mes_Pago  Asegurado_Id  \\\n",
              "0          201803       4834968   \n",
              "1          201909      14915125   \n",
              "2          201807      42959949   \n",
              "3          201803      30540131   \n",
              "4          201905      21442420   \n",
              "...           ...           ...   \n",
              "1048570    201907       9822689   \n",
              "1048571    201807       4806249   \n",
              "1048572    201902      10899044   \n",
              "1048573    201808       3482153   \n",
              "1048574    201805      38513672   \n",
              "\n",
              "                                            Reclamacion Diagnostico_Codigo  \\\n",
              "0                               EXAMENES DE DIAGNOSTICO               Z011   \n",
              "1                               EXAMENES DE DIAGNOSTICO                  9   \n",
              "2                               EXAMENES DE DIAGNOSTICO                  9   \n",
              "3                                      CONSULTA EXTERNA                  9   \n",
              "4                                   LABORATORIO CLINICO                  9   \n",
              "...                                                 ...                ...   \n",
              "1048570                             LABORATORIO CLINICO                  9   \n",
              "1048571              CIRUGIA AMBULATORIA POR ENFERMEDAD               L732   \n",
              "1048572                                CONSULTA EXTERNA                  9   \n",
              "1048573                                CONSULTA EXTERNA                  9   \n",
              "1048574  TRATAMIENTO MEDICO HOSPITALARIO POR ENFERMEDAD               G400   \n",
              "\n",
              "                                          Diagnostico_Desc  Eventos  \\\n",
              "0                         EXAMEN DE OÍDOS Y DE LA AUDICIÓN        1   \n",
              "1                                    DIAGNÓSTICO PENDIENTE        1   \n",
              "2                                    DIAGNÓSTICO PENDIENTE        1   \n",
              "3                                    DIAGNÓSTICO PENDIENTE        1   \n",
              "4                                    DIAGNÓSTICO PENDIENTE       18   \n",
              "...                                                    ...      ...   \n",
              "1048570                              DIAGNÓSTICO PENDIENTE        2   \n",
              "1048571                            HIDRADENITIS SUPURATIVA        1   \n",
              "1048572                              DIAGNÓSTICO PENDIENTE        1   \n",
              "1048573                              DIAGNÓSTICO PENDIENTE        1   \n",
              "1048574  EPILEPSIA Y SÍNDROMES EPILÉPTICOS IDIOPÁTICOS ...        1   \n",
              "\n",
              "         Valor_Pagado  \n",
              "0           111600.00  \n",
              "1            50468.00  \n",
              "2           610452.00  \n",
              "3            42160.00  \n",
              "4           617336.48  \n",
              "...               ...  \n",
              "1048570     173448.72  \n",
              "1048571     496000.00  \n",
              "1048572      24056.00  \n",
              "1048573      80600.00  \n",
              "1048574     918528.76  \n",
              "\n",
              "[1048575 rows x 7 columns]>"
            ]
          },
          "metadata": {},
          "execution_count": 27
        }
      ]
    },
    {
      "cell_type": "code",
      "source": [
        "#Ver columnas\n",
        "BD_Siniestros.columns"
      ],
      "metadata": {
        "colab": {
          "base_uri": "https://localhost:8080/"
        },
        "id": "QRbZ-wHTvoGC",
        "outputId": "7b4bca7a-8209-402e-b2c6-19970e4c41b2"
      },
      "execution_count": null,
      "outputs": [
        {
          "output_type": "execute_result",
          "data": {
            "text/plain": [
              "Index(['Mes_Pago', 'Asegurado_Id', 'Reclamacion', 'Diagnostico_Codigo',\n",
              "       'Diagnostico_Desc', 'Eventos', 'Valor_Pagado'],\n",
              "      dtype='object')"
            ]
          },
          "metadata": {},
          "execution_count": 28
        }
      ]
    },
    {
      "cell_type": "code",
      "source": [
        "#Analizar dimensión, tipos y nulos\n",
        "print(BD_Siniestros.shape)\n",
        "print('-------------------------------------------------')\n",
        "print(BD_Siniestros.isnull().sum())\n",
        "print('-------------------------------------------------')\n",
        "print(BD_Siniestros.dtypes)\n",
        "print('-------------------------------------------------')"
      ],
      "metadata": {
        "colab": {
          "base_uri": "https://localhost:8080/"
        },
        "id": "-QtcZPVPvu1H",
        "outputId": "12f5cbe4-1529-461c-f81d-1658fe9878a4"
      },
      "execution_count": null,
      "outputs": [
        {
          "output_type": "stream",
          "name": "stdout",
          "text": [
            "(1048575, 7)\n",
            "-------------------------------------------------\n",
            "Mes_Pago              0\n",
            "Asegurado_Id          0\n",
            "Reclamacion           0\n",
            "Diagnostico_Codigo    0\n",
            "Diagnostico_Desc      0\n",
            "Eventos               0\n",
            "Valor_Pagado          0\n",
            "dtype: int64\n",
            "-------------------------------------------------\n",
            "Mes_Pago                int64\n",
            "Asegurado_Id            int64\n",
            "Reclamacion            object\n",
            "Diagnostico_Codigo     object\n",
            "Diagnostico_Desc       object\n",
            "Eventos                 int64\n",
            "Valor_Pagado          float64\n",
            "dtype: object\n",
            "-------------------------------------------------\n"
          ]
        }
      ]
    },
    {
      "cell_type": "code",
      "source": [
        "#Cambiar nombres\n",
        "BD_Siniestros= BD_Siniestros.rename(columns={'Asegurado_Id':'id_cliente', 'Diagnostico_Codigo':'cod_diagnostico'})"
      ],
      "metadata": {
        "id": "Uv1TSPXav6MF"
      },
      "execution_count": null,
      "outputs": []
    },
    {
      "cell_type": "code",
      "source": [
        "#Cambiar el nombre de las columnas a minusculas\n",
        "BD_Siniestros.columns = BD_Siniestros.columns.str.lower()\n",
        "BD_Siniestros.columns"
      ],
      "metadata": {
        "colab": {
          "base_uri": "https://localhost:8080/"
        },
        "id": "08527HuGv_g9",
        "outputId": "fda54c42-6989-4d26-d941-abfb564da0ad"
      },
      "execution_count": null,
      "outputs": [
        {
          "output_type": "execute_result",
          "data": {
            "text/plain": [
              "Index(['mes_pago', 'id_cliente', 'reclamacion', 'cod_diagnostico',\n",
              "       'diagnostico_desc', 'eventos', 'valor_pagado'],\n",
              "      dtype='object')"
            ]
          },
          "metadata": {},
          "execution_count": 31
        }
      ]
    },
    {
      "cell_type": "code",
      "source": [
        "#Se arregla el tipo de datos\n",
        "BD_Siniestros=BD_Siniestros.convert_dtypes()\n",
        "BD_Siniestros.dtypes"
      ],
      "metadata": {
        "colab": {
          "base_uri": "https://localhost:8080/"
        },
        "id": "0VjON0kiwEVa",
        "outputId": "a0ca4224-43de-42f7-9f36-f2db1adbe3e1"
      },
      "execution_count": null,
      "outputs": [
        {
          "output_type": "execute_result",
          "data": {
            "text/plain": [
              "mes_pago              Int64\n",
              "id_cliente            Int64\n",
              "reclamacion          string\n",
              "cod_diagnostico      string\n",
              "diagnostico_desc     string\n",
              "eventos               Int64\n",
              "valor_pagado        Float64\n",
              "dtype: object"
            ]
          },
          "metadata": {},
          "execution_count": 32
        }
      ]
    },
    {
      "cell_type": "code",
      "source": [
        "BD_Siniestro[BD_Siniestro.cod_diagnostico.str.isnumeric()]"
      ],
      "metadata": {
        "id": "AKiFMkc9uc8_"
      },
      "execution_count": null,
      "outputs": []
    },
    {
      "cell_type": "markdown",
      "source": [
        "TRATAMIENTO BD DEMOGRAFIA"
      ],
      "metadata": {
        "id": "aXQhONpgxKyy"
      }
    },
    {
      "cell_type": "code",
      "source": [
        "#Ver información\n",
        "BD_Sociodemografia.info()\n",
        "BD_Sociodemografia.nunique()"
      ],
      "metadata": {
        "colab": {
          "base_uri": "https://localhost:8080/"
        },
        "id": "YbufJVMAxKFq",
        "outputId": "228bf8dd-3620-4c57-fadf-e423f0b01d7b"
      },
      "execution_count": null,
      "outputs": [
        {
          "output_type": "stream",
          "name": "stdout",
          "text": [
            "<class 'pandas.core.frame.DataFrame'>\n",
            "RangeIndex: 267312 entries, 0 to 267311\n",
            "Data columns (total 9 columns):\n",
            " #   Column              Non-Null Count   Dtype \n",
            "---  ------              --------------   ----- \n",
            " 0   Asegurado_Id        267312 non-null  int64 \n",
            " 1   Sexo_Cd             267312 non-null  object\n",
            " 2   FechaNacimiento     267312 non-null  object\n",
            " 3   Regional            267311 non-null  object\n",
            " 4   CANCER              267312 non-null  int64 \n",
            " 5   EPOC                267312 non-null  int64 \n",
            " 6   DIABETES            267312 non-null  int64 \n",
            " 7   HIPERTENSION        267312 non-null  int64 \n",
            " 8   ENF_CARDIOVASCULAR  267312 non-null  int64 \n",
            "dtypes: int64(6), object(3)\n",
            "memory usage: 18.4+ MB\n"
          ]
        },
        {
          "output_type": "execute_result",
          "data": {
            "text/plain": [
              "Asegurado_Id          267233\n",
              "Sexo_Cd                    3\n",
              "FechaNacimiento        29945\n",
              "Regional                   6\n",
              "CANCER                     2\n",
              "EPOC                       2\n",
              "DIABETES                   2\n",
              "HIPERTENSION               2\n",
              "ENF_CARDIOVASCULAR         2\n",
              "dtype: int64"
            ]
          },
          "metadata": {},
          "execution_count": 33
        }
      ]
    },
    {
      "cell_type": "code",
      "source": [
        "#Ver columnas\n",
        "BD_Sociodemografia.columns"
      ],
      "metadata": {
        "colab": {
          "base_uri": "https://localhost:8080/"
        },
        "id": "_YR-eRv2xv2r",
        "outputId": "333a5ea1-408c-4292-c058-87bd7ac52982"
      },
      "execution_count": null,
      "outputs": [
        {
          "output_type": "execute_result",
          "data": {
            "text/plain": [
              "Index(['Asegurado_Id', 'Sexo_Cd', 'FechaNacimiento', 'Regional', 'CANCER',\n",
              "       'EPOC', 'DIABETES', 'HIPERTENSION', 'ENF_CARDIOVASCULAR'],\n",
              "      dtype='object')"
            ]
          },
          "metadata": {},
          "execution_count": 34
        }
      ]
    },
    {
      "cell_type": "code",
      "source": [
        "#Cambiar nombres\n",
        "BD_Sociodemografia= BD_Sociodemografia.rename(columns={'Asegurado_Id':'id_cliente', 'Sexo_Cd':'sexo', 'FechaNacimiento':'fecha_nacimiento'})"
      ],
      "metadata": {
        "id": "jETuPjRLycnf"
      },
      "execution_count": null,
      "outputs": []
    },
    {
      "cell_type": "code",
      "source": [
        "#Cambiar el nombre de las columnas a minusculas\n",
        "BD_Sociodemografia.columns = BD_Sociodemografia.columns.str.lower()\n",
        "BD_Sociodemografia.columns"
      ],
      "metadata": {
        "colab": {
          "base_uri": "https://localhost:8080/"
        },
        "id": "zgjHPrkXypQp",
        "outputId": "d0d43ad1-6b59-4eda-bf41-3c184d7e3cbf"
      },
      "execution_count": null,
      "outputs": [
        {
          "output_type": "execute_result",
          "data": {
            "text/plain": [
              "Index(['id_cliente', 'sexo', 'fecha_nacimiento', 'regional', 'cancer', 'epoc',\n",
              "       'diabetes', 'hipertension', 'enf_cardiovascular'],\n",
              "      dtype='object')"
            ]
          },
          "metadata": {},
          "execution_count": 36
        }
      ]
    },
    {
      "cell_type": "code",
      "source": [
        "#Se arregla el tipo de datos\n",
        "BD_Sociodemografia=BD_Sociodemografia.convert_dtypes()\n",
        "BD_Sociodemografia.dtypes"
      ],
      "metadata": {
        "colab": {
          "base_uri": "https://localhost:8080/"
        },
        "id": "jRkbNiy3y1Vz",
        "outputId": "3c613392-ed29-484c-f2c9-a66a10d63069"
      },
      "execution_count": null,
      "outputs": [
        {
          "output_type": "execute_result",
          "data": {
            "text/plain": [
              "id_cliente             Int64\n",
              "sexo                  string\n",
              "fecha_nacimiento      string\n",
              "regional              string\n",
              "cancer                 Int64\n",
              "epoc                   Int64\n",
              "diabetes               Int64\n",
              "hipertension           Int64\n",
              "enf_cardiovascular     Int64\n",
              "dtype: object"
            ]
          },
          "metadata": {},
          "execution_count": 37
        }
      ]
    },
    {
      "cell_type": "code",
      "source": [
        "BD_Sociodemografia.columns"
      ],
      "metadata": {
        "colab": {
          "base_uri": "https://localhost:8080/"
        },
        "id": "X0E-0PxZzbqo",
        "outputId": "b41484ad-1c45-4ad1-e968-57bd6ecf62be"
      },
      "execution_count": null,
      "outputs": [
        {
          "output_type": "execute_result",
          "data": {
            "text/plain": [
              "Index(['id_cliente', 'sexo', 'fecha_nacimiento', 'regional', 'cancer', 'epoc',\n",
              "       'diabetes', 'hipertension', 'enf_cardiovascular'],\n",
              "      dtype='object')"
            ]
          },
          "metadata": {},
          "execution_count": 38
        }
      ]
    },
    {
      "cell_type": "code",
      "source": [
        "#Variable Sexo cambiar por femenino\n",
        "BD_Sociodemografia['sexo'].value_counts()"
      ],
      "metadata": {
        "colab": {
          "base_uri": "https://localhost:8080/"
        },
        "id": "Qk329nq3zVKt",
        "outputId": "26b54c85-e94f-4b4c-9f35-09794e9d040a"
      },
      "execution_count": null,
      "outputs": [
        {
          "output_type": "execute_result",
          "data": {
            "text/plain": [
              "F     145430\n",
              "M     121877\n",
              "-1         5\n",
              "Name: sexo, dtype: Int64"
            ]
          },
          "metadata": {},
          "execution_count": 39
        }
      ]
    },
    {
      "cell_type": "code",
      "source": [
        "#Remplazar \n",
        "dictionary ={\n",
        "    '-1':'F'\n",
        "}"
      ],
      "metadata": {
        "id": "HW_mIEeSzMab"
      },
      "execution_count": null,
      "outputs": []
    },
    {
      "cell_type": "code",
      "source": [
        "#Variable -1 cambiarla por F\n",
        "BD_Sociodemografia['sexo'].replace(dictionary, inplace=True)"
      ],
      "metadata": {
        "id": "E32A_UWbzNbW"
      },
      "execution_count": null,
      "outputs": []
    },
    {
      "cell_type": "code",
      "source": [
        "BD_Sociodemografia['id_cliente'].unique().sum()"
      ],
      "metadata": {
        "id": "7uwEmlU3xozY",
        "colab": {
          "base_uri": "https://localhost:8080/"
        },
        "outputId": "c7d30ef4-a9a2-41ae-ee13-0231104ef7df"
      },
      "execution_count": null,
      "outputs": [
        {
          "output_type": "execute_result",
          "data": {
            "text/plain": [
              "6655895950381"
            ]
          },
          "metadata": {},
          "execution_count": 42
        }
      ]
    },
    {
      "cell_type": "code",
      "source": [
        "#Variable Sexo cambiar por femenino\n",
        "BD_Sociodemografia['regional'].value_counts()"
      ],
      "metadata": {
        "colab": {
          "base_uri": "https://localhost:8080/"
        },
        "id": "QT-HSwJx0DSQ",
        "outputId": "96050e12-b0e3-4825-ccff-6dc01efb02e8"
      },
      "execution_count": null,
      "outputs": [
        {
          "output_type": "execute_result",
          "data": {
            "text/plain": [
              "REGIONAL CENTRO          127149\n",
              "REGIONAL ANTIOQUIA        49722\n",
              "REGIONAL OCCIDENTE        46180\n",
              "REGIONAL NORTE            34845\n",
              "REGIONAL EJE CAFETERO      9342\n",
              "Sin Información              73\n",
              "Name: regional, dtype: Int64"
            ]
          },
          "metadata": {},
          "execution_count": 43
        }
      ]
    },
    {
      "cell_type": "code",
      "source": [
        "#Remplazar \n",
        "dictionary ={\n",
        "    'Sin Información':'regional'\n",
        "}"
      ],
      "metadata": {
        "id": "lT90NSQHz_ZC"
      },
      "execution_count": null,
      "outputs": []
    },
    {
      "cell_type": "code",
      "source": [
        "#Variable sin identificación cambiaral por regional de la columna region\n",
        "BD_Sociodemografia['regional'].replace(dictionary, inplace =True)"
      ],
      "metadata": {
        "id": "q2Ydmfzo0RnE"
      },
      "execution_count": null,
      "outputs": []
    },
    {
      "cell_type": "code",
      "source": [
        "import matplotlib.pyplot as plt\n",
        "BD_Siniestros['reclamacion'].value_counts().plot()"
      ],
      "metadata": {
        "id": "kes9yGtg-M5D",
        "colab": {
          "base_uri": "https://localhost:8080/",
          "height": 282
        },
        "outputId": "bf8483c5-9cf6-453d-ba5b-0f521fadc5ea"
      },
      "execution_count": null,
      "outputs": [
        {
          "output_type": "execute_result",
          "data": {
            "text/plain": [
              "<matplotlib.axes._subplots.AxesSubplot at 0x7fcab88b71d0>"
            ]
          },
          "metadata": {},
          "execution_count": 46
        },
        {
          "output_type": "display_data",
          "data": {
            "text/plain": [
              "<Figure size 432x288 with 1 Axes>"
            ],
            "image/png": "[encoded data removed]"
          },
          "metadata": {
            "needs_background": "light"
          }
        }
      ]
    },
    {
      "cell_type": "markdown",
      "source": [
        "UNION TODAS LAS BASES DE DATOS"
      ],
      "metadata": {
        "id": "i9BYu42i1hAb"
      }
    },
    {
      "cell_type": "code",
      "source": [
        "#Se unen las tres bases de datos por medio de id_cliente\n",
        "union_exp = BD_Siniestros.set_index('id_cliente').join(BD_Sociodemografia.set_index('id_cliente'), on='id_cliente')\n",
        "union_exp_prueba= BD_Expuestos.set_index('id_cliente').join(union_exp, on='id_cliente')"
      ],
      "metadata": {
        "id": "UfG4r0h71cu9"
      },
      "execution_count": null,
      "outputs": []
    },
    {
      "cell_type": "code",
      "source": [
        "union_exp_prueba"
      ],
      "metadata": {
        "colab": {
          "base_uri": "https://localhost:8080/",
          "height": 745
        },
        "id": "PDtT9SMDtEJr",
        "outputId": "28c6e3f7-f8b3-4742-f53c-64506283cdca"
      },
      "execution_count": null,
      "outputs": [
        {
          "output_type": "execute_result",
          "data": {
            "text/plain": [
              "            cod_poliza fecha_inicio fecha_cancelacion  fecha_fin         FI  \\\n",
              "id_cliente                                                                    \n",
              "738284        89612446   2018/01/01        2018-02-01 2018-02-01 2018-01-01   \n",
              "738284        89612446   2018/01/01        2018-02-01 2018-02-01 2018-01-01   \n",
              "738288        88146604   2018/01/01        2018-11-08 2018-11-08 2018-01-01   \n",
              "738288        88146604   2018/01/01        2018-11-08 2018-11-08 2018-01-01   \n",
              "738288       175992661   2018/11/08               NaT 2019-12-31 2018-11-08   \n",
              "...                ...          ...               ...        ...        ...   \n",
              "58584580     159465186   2018/01/01               NaT 2019-12-31 2018-01-01   \n",
              "58584580     159465186   2018/01/01               NaT 2019-12-31 2018-01-01   \n",
              "58584580     159465186   2018/01/01               NaT 2019-12-31 2018-01-01   \n",
              "58584580     159465186   2018/01/01               NaT 2019-12-31 2018-01-01   \n",
              "58584620      94495059   2018/01/01               NaT 2019-12-31 2018-01-01   \n",
              "\n",
              "                   FF      EXPO  mes_pago  \\\n",
              "id_cliente                                  \n",
              "738284     2018-02-01  0.042438    201801   \n",
              "738284     2018-02-01  0.042438    201802   \n",
              "738288     2018-11-08  0.425745    201912   \n",
              "738288     2018-11-08  0.425745    201909   \n",
              "738288     2019-12-31  0.572223    201912   \n",
              "...               ...       ...       ...   \n",
              "58584580   2019-12-31  0.997967    201911   \n",
              "58584580   2019-12-31  0.997967    201809   \n",
              "58584580   2019-12-31  0.997967    201912   \n",
              "58584580   2019-12-31  0.997967    201905   \n",
              "58584620   2019-12-31  0.997967      <NA>   \n",
              "\n",
              "                                              reclamacion cod_diagnostico  \\\n",
              "id_cliente                                                                  \n",
              "738284                                   CONSULTA EXTERNA               9   \n",
              "738284                             FISIOTERAPIA ILIMITADA               9   \n",
              "738288                                   CONSULTA EXTERNA               9   \n",
              "738288                                   CONSULTA EXTERNA               9   \n",
              "738288                                   CONSULTA EXTERNA               9   \n",
              "...                                                   ...             ...   \n",
              "58584580    TRATAMIENTO MEDICO AMBULATORIO POR ACCIDENTES            T140   \n",
              "58584580                            CONSULTA DE URGENCIAS               9   \n",
              "58584580                            CONSULTA DE URGENCIAS               9   \n",
              "58584580                              LABORATORIO CLINICO               9   \n",
              "58584620                                             <NA>            <NA>   \n",
              "\n",
              "            ... eventos  valor_pagado  sexo fecha_nacimiento  \\\n",
              "id_cliente  ...                                                \n",
              "738284      ...       1       66960.0     M       18/11/1967   \n",
              "738284      ...       2       42656.0     M       18/11/1967   \n",
              "738288      ...       1        1984.0     M        8/11/1976   \n",
              "738288      ...       1       85312.0     M        8/11/1976   \n",
              "738288      ...       1        1984.0     M        8/11/1976   \n",
              "...         ...     ...           ...   ...              ...   \n",
              "58584580    ...       1      141112.0     F       21/08/2004   \n",
              "58584580    ...       1       67580.0     F       21/08/2004   \n",
              "58584580    ...       1       72912.0     F       21/08/2004   \n",
              "58584580    ...       1     209555.04     F       21/08/2004   \n",
              "58584620    ...    <NA>          <NA>   NaN             <NA>   \n",
              "\n",
              "                      regional cancer  epoc  diabetes  hipertension  \\\n",
              "id_cliente                                                            \n",
              "738284         REGIONAL CENTRO      0     0         0             0   \n",
              "738284         REGIONAL CENTRO      0     0         0             0   \n",
              "738288      REGIONAL ANTIOQUIA      0     0         0             0   \n",
              "738288      REGIONAL ANTIOQUIA      0     0         0             0   \n",
              "738288      REGIONAL ANTIOQUIA      0     0         0             0   \n",
              "...                        ...    ...   ...       ...           ...   \n",
              "58584580       REGIONAL CENTRO      0     0         0             0   \n",
              "58584580       REGIONAL CENTRO      0     0         0             0   \n",
              "58584580       REGIONAL CENTRO      0     0         0             0   \n",
              "58584580       REGIONAL CENTRO      0     0         0             0   \n",
              "58584620                   NaN   <NA>  <NA>      <NA>          <NA>   \n",
              "\n",
              "            enf_cardiovascular  \n",
              "id_cliente                      \n",
              "738284                       0  \n",
              "738284                       0  \n",
              "738288                       0  \n",
              "738288                       0  \n",
              "738288                       0  \n",
              "...                        ...  \n",
              "58584580                     0  \n",
              "58584580                     0  \n",
              "58584580                     0  \n",
              "58584580                     0  \n",
              "58584620                  <NA>  \n",
              "\n",
              "[1263636 rows x 21 columns]"
            ],
            "text/html": [
              "\n",
              "  <div id=\"df-53b5af68-ddad-4d8b-819a-8b1f64eda4a8\">\n",
              "    <div class=\"colab-df-container\">\n",
              "      <div>\n",
              "<style scoped>\n",
              "    .dataframe tbody tr th:only-of-type {\n",
              "        vertical-align: middle;\n",
              "    }\n",
              "\n",
              "    .dataframe tbody tr th {\n",
              "        vertical-align: top;\n",
              "    }\n",
              "\n",
              "    .dataframe thead th {\n",
              "        text-align: right;\n",
              "    }\n",
              "</style>\n",
              "<table border=\"1\" class=\"dataframe\">\n",
              "  <thead>\n",
              "    <tr style=\"text-align: right;\">\n",
              "      <th></th>\n",
              "      <th>cod_poliza</th>\n",
              "      <th>fecha_inicio</th>\n",
              "      <th>fecha_cancelacion</th>\n",
              "      <th>fecha_fin</th>\n",
              "      <th>FI</th>\n",
              "      <th>FF</th>\n",
              "      <th>EXPO</th>\n",
              "      <th>mes_pago</th>\n",
              "      <th>reclamacion</th>\n",
              "      <th>cod_diagnostico</th>\n",
              "      <th>...</th>\n",
              "      <th>eventos</th>\n",
              "      <th>valor_pagado</th>\n",
              "      <th>sexo</th>\n",
              "      <th>fecha_nacimiento</th>\n",
              "      <th>regional</th>\n",
              "      <th>cancer</th>\n",
              "      <th>epoc</th>\n",
              "      <th>diabetes</th>\n",
              "      <th>hipertension</th>\n",
              "      <th>enf_cardiovascular</th>\n",
              "    </tr>\n",
              "    <tr>\n",
              "      <th>id_cliente</th>\n",
              "      <th></th>\n",
              "      <th></th>\n",
              "      <th></th>\n",
              "      <th></th>\n",
              "      <th></th>\n",
              "      <th></th>\n",
              "      <th></th>\n",
              "      <th></th>\n",
              "      <th></th>\n",
              "      <th></th>\n",
              "      <th></th>\n",
              "      <th></th>\n",
              "      <th></th>\n",
              "      <th></th>\n",
              "      <th></th>\n",
              "      <th></th>\n",
              "      <th></th>\n",
              "      <th></th>\n",
              "      <th></th>\n",
              "      <th></th>\n",
              "      <th></th>\n",
              "    </tr>\n",
              "  </thead>\n",
              "  <tbody>\n",
              "    <tr>\n",
              "      <th>738284</th>\n",
              "      <td>89612446</td>\n",
              "      <td>2018/01/01</td>\n",
              "      <td>2018-02-01</td>\n",
              "      <td>2018-02-01</td>\n",
              "      <td>2018-01-01</td>\n",
              "      <td>2018-02-01</td>\n",
              "      <td>0.042438</td>\n",
              "      <td>201801</td>\n",
              "      <td>CONSULTA EXTERNA</td>\n",
              "      <td>9</td>\n",
              "      <td>...</td>\n",
              "      <td>1</td>\n",
              "      <td>66960.0</td>\n",
              "      <td>M</td>\n",
              "      <td>18/11/1967</td>\n",
              "      <td>REGIONAL CENTRO</td>\n",
              "      <td>0</td>\n",
              "      <td>0</td>\n",
              "      <td>0</td>\n",
              "      <td>0</td>\n",
              "      <td>0</td>\n",
              "    </tr>\n",
              "    <tr>\n",
              "      <th>738284</th>\n",
              "      <td>89612446</td>\n",
              "      <td>2018/01/01</td>\n",
              "      <td>2018-02-01</td>\n",
              "      <td>2018-02-01</td>\n",
              "      <td>2018-01-01</td>\n",
              "      <td>2018-02-01</td>\n",
              "      <td>0.042438</td>\n",
              "      <td>201802</td>\n",
              "      <td>FISIOTERAPIA ILIMITADA</td>\n",
              "      <td>9</td>\n",
              "      <td>...</td>\n",
              "      <td>2</td>\n",
              "      <td>42656.0</td>\n",
              "      <td>M</td>\n",
              "      <td>18/11/1967</td>\n",
              "      <td>REGIONAL CENTRO</td>\n",
              "      <td>0</td>\n",
              "      <td>0</td>\n",
              "      <td>0</td>\n",
              "      <td>0</td>\n",
              "      <td>0</td>\n",
              "    </tr>\n",
              "    <tr>\n",
              "      <th>738288</th>\n",
              "      <td>88146604</td>\n",
              "      <td>2018/01/01</td>\n",
              "      <td>2018-11-08</td>\n",
              "      <td>2018-11-08</td>\n",
              "      <td>2018-01-01</td>\n",
              "      <td>2018-11-08</td>\n",
              "      <td>0.425745</td>\n",
              "      <td>201912</td>\n",
              "      <td>CONSULTA EXTERNA</td>\n",
              "      <td>9</td>\n",
              "      <td>...</td>\n",
              "      <td>1</td>\n",
              "      <td>1984.0</td>\n",
              "      <td>M</td>\n",
              "      <td>8/11/1976</td>\n",
              "      <td>REGIONAL ANTIOQUIA</td>\n",
              "      <td>0</td>\n",
              "      <td>0</td>\n",
              "      <td>0</td>\n",
              "      <td>0</td>\n",
              "      <td>0</td>\n",
              "    </tr>\n",
              "    <tr>\n",
              "      <th>738288</th>\n",
              "      <td>88146604</td>\n",
              "      <td>2018/01/01</td>\n",
              "      <td>2018-11-08</td>\n",
              "      <td>2018-11-08</td>\n",
              "      <td>2018-01-01</td>\n",
              "      <td>2018-11-08</td>\n",
              "      <td>0.425745</td>\n",
              "      <td>201909</td>\n",
              "      <td>CONSULTA EXTERNA</td>\n",
              "      <td>9</td>\n",
              "      <td>...</td>\n",
              "      <td>1</td>\n",
              "      <td>85312.0</td>\n",
              "      <td>M</td>\n",
              "      <td>8/11/1976</td>\n",
              "      <td>REGIONAL ANTIOQUIA</td>\n",
              "      <td>0</td>\n",
              "      <td>0</td>\n",
              "      <td>0</td>\n",
              "      <td>0</td>\n",
              "      <td>0</td>\n",
              "    </tr>\n",
              "    <tr>\n",
              "      <th>738288</th>\n",
              "      <td>175992661</td>\n",
              "      <td>2018/11/08</td>\n",
              "      <td>NaT</td>\n",
              "      <td>2019-12-31</td>\n",
              "      <td>2018-11-08</td>\n",
              "      <td>2019-12-31</td>\n",
              "      <td>0.572223</td>\n",
              "      <td>201912</td>\n",
              "      <td>CONSULTA EXTERNA</td>\n",
              "      <td>9</td>\n",
              "      <td>...</td>\n",
              "      <td>1</td>\n",
              "      <td>1984.0</td>\n",
              "      <td>M</td>\n",
              "      <td>8/11/1976</td>\n",
              "      <td>REGIONAL ANTIOQUIA</td>\n",
              "      <td>0</td>\n",
              "      <td>0</td>\n",
              "      <td>0</td>\n",
              "      <td>0</td>\n",
              "      <td>0</td>\n",
              "    </tr>\n",
              "    <tr>\n",
              "      <th>...</th>\n",
              "      <td>...</td>\n",
              "      <td>...</td>\n",
              "      <td>...</td>\n",
              "      <td>...</td>\n",
              "      <td>...</td>\n",
              "      <td>...</td>\n",
              "      <td>...</td>\n",
              "      <td>...</td>\n",
              "      <td>...</td>\n",
              "      <td>...</td>\n",
              "      <td>...</td>\n",
              "      <td>...</td>\n",
              "      <td>...</td>\n",
              "      <td>...</td>\n",
              "      <td>...</td>\n",
              "      <td>...</td>\n",
              "      <td>...</td>\n",
              "      <td>...</td>\n",
              "      <td>...</td>\n",
              "      <td>...</td>\n",
              "      <td>...</td>\n",
              "    </tr>\n",
              "    <tr>\n",
              "      <th>58584580</th>\n",
              "      <td>159465186</td>\n",
              "      <td>2018/01/01</td>\n",
              "      <td>NaT</td>\n",
              "      <td>2019-12-31</td>\n",
              "      <td>2018-01-01</td>\n",
              "      <td>2019-12-31</td>\n",
              "      <td>0.997967</td>\n",
              "      <td>201911</td>\n",
              "      <td>TRATAMIENTO MEDICO AMBULATORIO POR ACCIDENTES</td>\n",
              "      <td>T140</td>\n",
              "      <td>...</td>\n",
              "      <td>1</td>\n",
              "      <td>141112.0</td>\n",
              "      <td>F</td>\n",
              "      <td>21/08/2004</td>\n",
              "      <td>REGIONAL CENTRO</td>\n",
              "      <td>0</td>\n",
              "      <td>0</td>\n",
              "      <td>0</td>\n",
              "      <td>0</td>\n",
              "      <td>0</td>\n",
              "    </tr>\n",
              "    <tr>\n",
              "      <th>58584580</th>\n",
              "      <td>159465186</td>\n",
              "      <td>2018/01/01</td>\n",
              "      <td>NaT</td>\n",
              "      <td>2019-12-31</td>\n",
              "      <td>2018-01-01</td>\n",
              "      <td>2019-12-31</td>\n",
              "      <td>0.997967</td>\n",
              "      <td>201809</td>\n",
              "      <td>CONSULTA DE URGENCIAS</td>\n",
              "      <td>9</td>\n",
              "      <td>...</td>\n",
              "      <td>1</td>\n",
              "      <td>67580.0</td>\n",
              "      <td>F</td>\n",
              "      <td>21/08/2004</td>\n",
              "      <td>REGIONAL CENTRO</td>\n",
              "      <td>0</td>\n",
              "      <td>0</td>\n",
              "      <td>0</td>\n",
              "      <td>0</td>\n",
              "      <td>0</td>\n",
              "    </tr>\n",
              "    <tr>\n",
              "      <th>58584580</th>\n",
              "      <td>159465186</td>\n",
              "      <td>2018/01/01</td>\n",
              "      <td>NaT</td>\n",
              "      <td>2019-12-31</td>\n",
              "      <td>2018-01-01</td>\n",
              "      <td>2019-12-31</td>\n",
              "      <td>0.997967</td>\n",
              "      <td>201912</td>\n",
              "      <td>CONSULTA DE URGENCIAS</td>\n",
              "      <td>9</td>\n",
              "      <td>...</td>\n",
              "      <td>1</td>\n",
              "      <td>72912.0</td>\n",
              "      <td>F</td>\n",
              "      <td>21/08/2004</td>\n",
              "      <td>REGIONAL CENTRO</td>\n",
              "      <td>0</td>\n",
              "      <td>0</td>\n",
              "      <td>0</td>\n",
              "      <td>0</td>\n",
              "      <td>0</td>\n",
              "    </tr>\n",
              "    <tr>\n",
              "      <th>58584580</th>\n",
              "      <td>159465186</td>\n",
              "      <td>2018/01/01</td>\n",
              "      <td>NaT</td>\n",
              "      <td>2019-12-31</td>\n",
              "      <td>2018-01-01</td>\n",
              "      <td>2019-12-31</td>\n",
              "      <td>0.997967</td>\n",
              "      <td>201905</td>\n",
              "      <td>LABORATORIO CLINICO</td>\n",
              "      <td>9</td>\n",
              "      <td>...</td>\n",
              "      <td>1</td>\n",
              "      <td>209555.04</td>\n",
              "      <td>F</td>\n",
              "      <td>21/08/2004</td>\n",
              "      <td>REGIONAL CENTRO</td>\n",
              "      <td>0</td>\n",
              "      <td>0</td>\n",
              "      <td>0</td>\n",
              "      <td>0</td>\n",
              "      <td>0</td>\n",
              "    </tr>\n",
              "    <tr>\n",
              "      <th>58584620</th>\n",
              "      <td>94495059</td>\n",
              "      <td>2018/01/01</td>\n",
              "      <td>NaT</td>\n",
              "      <td>2019-12-31</td>\n",
              "      <td>2018-01-01</td>\n",
              "      <td>2019-12-31</td>\n",
              "      <td>0.997967</td>\n",
              "      <td>&lt;NA&gt;</td>\n",
              "      <td>&lt;NA&gt;</td>\n",
              "      <td>&lt;NA&gt;</td>\n",
              "      <td>...</td>\n",
              "      <td>&lt;NA&gt;</td>\n",
              "      <td>&lt;NA&gt;</td>\n",
              "      <td>NaN</td>\n",
              "      <td>&lt;NA&gt;</td>\n",
              "      <td>NaN</td>\n",
              "      <td>&lt;NA&gt;</td>\n",
              "      <td>&lt;NA&gt;</td>\n",
              "      <td>&lt;NA&gt;</td>\n",
              "      <td>&lt;NA&gt;</td>\n",
              "      <td>&lt;NA&gt;</td>\n",
              "    </tr>\n",
              "  </tbody>\n",
              "</table>\n",
              "<p>1263636 rows × 21 columns</p>\n",
              "</div>\n",
              "      <button class=\"colab-df-convert\" onclick=\"convertToInteractive('df-53b5af68-ddad-4d8b-819a-8b1f64eda4a8')\"\n",
              "              title=\"Convert this dataframe to an interactive table.\"\n",
              "              style=\"display:none;\">\n",
              "        \n",
              "  <svg xmlns=\"http://www.w3.org/2000/svg\" height=\"24px\"viewBox=\"0 0 24 24\"\n",
              "       width=\"24px\">\n",
              "    <path d=\"M0 0h24v24H0V0z\" fill=\"none\"/>\n",
              "    <path d=\"M18.56 5.44l.94 2.06.94-2.06 2.06-.94-2.06-.94-.94-2.06-.94 2.06-2.06.94zm-11 1L8.5 8.5l.94-2.06 2.06-.94-2.06-.94L8.5 2.5l-.94 2.06-2.06.94zm10 10l.94 2.06.94-2.06 2.06-.94-2.06-.94-.94-2.06-.94 2.06-2.06.94z\"/><path d=\"M17.41 7.96l-1.37-1.37c-.4-.4-.92-.59-1.43-.59-.52 0-1.04.2-1.43.59L10.3 9.45l-7.72 7.72c-.78.78-.78 2.05 0 2.83L4 21.41c.39.39.9.59 1.41.59.51 0 1.02-.2 1.41-.59l7.78-7.78 2.81-2.81c.8-.78.8-2.07 0-2.86zM5.41 20L4 18.59l7.72-7.72 1.47 1.35L5.41 20z\"/>\n",
              "  </svg>\n",
              "      </button>\n",
              "      \n",
              "  <style>\n",
              "    .colab-df-container {\n",
              "      display:flex;\n",
              "      flex-wrap:wrap;\n",
              "      gap: 12px;\n",
              "    }\n",
              "\n",
              "    .colab-df-convert {\n",
              "      background-color: #E8F0FE;\n",
              "      border: none;\n",
              "      border-radius: 50%;\n",
              "      cursor: pointer;\n",
              "      display: none;\n",
              "      fill: #1967D2;\n",
              "      height: 32px;\n",
              "      padding: 0 0 0 0;\n",
              "      width: 32px;\n",
              "    }\n",
              "\n",
              "    .colab-df-convert:hover {\n",
              "      background-color: #E2EBFA;\n",
              "      box-shadow: 0px 1px 2px rgba(60, 64, 67, 0.3), 0px 1px 3px 1px rgba(60, 64, 67, 0.15);\n",
              "      fill: #174EA6;\n",
              "    }\n",
              "\n",
              "    [theme=dark] .colab-df-convert {\n",
              "      background-color: #3B4455;\n",
              "      fill: #D2E3FC;\n",
              "    }\n",
              "\n",
              "    [theme=dark] .colab-df-convert:hover {\n",
              "      background-color: #434B5C;\n",
              "      box-shadow: 0px 1px 3px 1px rgba(0, 0, 0, 0.15);\n",
              "      filter: drop-shadow(0px 1px 2px rgba(0, 0, 0, 0.3));\n",
              "      fill: #FFFFFF;\n",
              "    }\n",
              "  </style>\n",
              "\n",
              "      <script>\n",
              "        const buttonEl =\n",
              "          document.querySelector('#df-53b5af68-ddad-4d8b-819a-8b1f64eda4a8 button.colab-df-convert');\n",
              "        buttonEl.style.display =\n",
              "          google.colab.kernel.accessAllowed ? 'block' : 'none';\n",
              "\n",
              "        async function convertToInteractive(key) {\n",
              "          const element = document.querySelector('#df-53b5af68-ddad-4d8b-819a-8b1f64eda4a8');\n",
              "          const dataTable =\n",
              "            await google.colab.kernel.invokeFunction('convertToInteractive',\n",
              "                                                     [key], {});\n",
              "          if (!dataTable) return;\n",
              "\n",
              "          const docLinkHtml = 'Like what you see? Visit the ' +\n",
              "            '<a target=\"_blank\" href=https://colab.research.google.com/notebooks/data_table.ipynb>data table notebook</a>'\n",
              "            + ' to learn more about interactive tables.';\n",
              "          element.innerHTML = '';\n",
              "          dataTable['output_type'] = 'display_data';\n",
              "          await google.colab.output.renderOutput(dataTable, element);\n",
              "          const docLink = document.createElement('div');\n",
              "          docLink.innerHTML = docLinkHtml;\n",
              "          element.appendChild(docLink);\n",
              "        }\n",
              "      </script>\n",
              "    </div>\n",
              "  </div>\n",
              "  "
            ]
          },
          "metadata": {},
          "execution_count": 48
        }
      ]
    },
    {
      "cell_type": "code",
      "source": [
        "union_exp.columns"
      ],
      "metadata": {
        "colab": {
          "base_uri": "https://localhost:8080/"
        },
        "id": "anKrEWAB1_NN",
        "outputId": "48d68aae-3174-4606-f986-b60c1ae2fb50"
      },
      "execution_count": null,
      "outputs": [
        {
          "output_type": "execute_result",
          "data": {
            "text/plain": [
              "Index(['mes_pago', 'reclamacion', 'cod_diagnostico', 'diagnostico_desc',\n",
              "       'eventos', 'valor_pagado', 'sexo', 'fecha_nacimiento', 'regional',\n",
              "       'cancer', 'epoc', 'diabetes', 'hipertension', 'enf_cardiovascular'],\n",
              "      dtype='object')"
            ]
          },
          "metadata": {},
          "execution_count": 49
        }
      ]
    },
    {
      "cell_type": "code",
      "source": [
        "#Ver columnas de la base de datos grande\n",
        "union_exp_prueba.columns"
      ],
      "metadata": {
        "colab": {
          "base_uri": "https://localhost:8080/"
        },
        "id": "jV4j7yJR2EOM",
        "outputId": "73aa74ba-873c-4f92-84cc-58d5cd8848fb"
      },
      "execution_count": null,
      "outputs": [
        {
          "output_type": "execute_result",
          "data": {
            "text/plain": [
              "Index(['cod_poliza', 'fecha_inicio', 'fecha_cancelacion', 'fecha_fin', 'FI',\n",
              "       'FF', 'EXPO', 'mes_pago', 'reclamacion', 'cod_diagnostico',\n",
              "       'diagnostico_desc', 'eventos', 'valor_pagado', 'sexo',\n",
              "       'fecha_nacimiento', 'regional', 'cancer', 'epoc', 'diabetes',\n",
              "       'hipertension', 'enf_cardiovascular'],\n",
              "      dtype='object')"
            ]
          },
          "metadata": {},
          "execution_count": 50
        }
      ]
    },
    {
      "cell_type": "code",
      "source": [
        "#Analizar dimensión, tipos y nulos\n",
        "print(union_exp_prueba.shape)\n",
        "print('-------------------------------------------------')\n",
        "print(union_exp_prueba.isnull().sum())\n",
        "print('-------------------------------------------------')\n",
        "print(union_exp_prueba.dtypes)\n",
        "print('-------------------------------------------------')"
      ],
      "metadata": {
        "colab": {
          "base_uri": "https://localhost:8080/"
        },
        "id": "7f-xnV6NU0zy",
        "outputId": "fce29e14-b930-4002-d6ce-28784bb3bbc8"
      },
      "execution_count": null,
      "outputs": [
        {
          "output_type": "stream",
          "name": "stdout",
          "text": [
            "(1263636, 21)\n",
            "-------------------------------------------------\n",
            "cod_poliza                 0\n",
            "fecha_inicio               0\n",
            "fecha_cancelacion     713357\n",
            "fecha_fin                  0\n",
            "FI                         0\n",
            "FF                         0\n",
            "EXPO                       0\n",
            "mes_pago               65195\n",
            "reclamacion            65195\n",
            "cod_diagnostico        65195\n",
            "diagnostico_desc       65195\n",
            "eventos                65195\n",
            "valor_pagado           65195\n",
            "sexo                   65195\n",
            "fecha_nacimiento       65195\n",
            "regional               65197\n",
            "cancer                 65195\n",
            "epoc                   65195\n",
            "diabetes               65195\n",
            "hipertension           65195\n",
            "enf_cardiovascular     65195\n",
            "dtype: int64\n",
            "-------------------------------------------------\n",
            "cod_poliza                     Int64\n",
            "fecha_inicio                  string\n",
            "fecha_cancelacion     datetime64[ns]\n",
            "fecha_fin             datetime64[ns]\n",
            "FI                    datetime64[ns]\n",
            "FF                    datetime64[ns]\n",
            "EXPO                         float64\n",
            "mes_pago                       Int64\n",
            "reclamacion                   string\n",
            "cod_diagnostico               string\n",
            "diagnostico_desc              string\n",
            "eventos                        Int64\n",
            "valor_pagado                 Float64\n",
            "sexo                          object\n",
            "fecha_nacimiento              string\n",
            "regional                      object\n",
            "cancer                         Int64\n",
            "epoc                           Int64\n",
            "diabetes                       Int64\n",
            "hipertension                   Int64\n",
            "enf_cardiovascular             Int64\n",
            "dtype: object\n",
            "-------------------------------------------------\n"
          ]
        }
      ]
    },
    {
      "cell_type": "markdown",
      "source": [
        "**ANALISIS EXPLORATORIO**"
      ],
      "metadata": {
        "id": "KAfwdmgCVwBm"
      }
    },
    {
      "cell_type": "code",
      "source": [
        "union_exp_prueba.head(5)"
      ],
      "metadata": {
        "colab": {
          "base_uri": "https://localhost:8080/",
          "height": 418
        },
        "id": "aMcNoYHqZZvq",
        "outputId": "9e52416b-2b20-467c-d51c-25101020aee0"
      },
      "execution_count": null,
      "outputs": [
        {
          "output_type": "execute_result",
          "data": {
            "text/plain": [
              "            cod_poliza fecha_inicio fecha_cancelacion  fecha_fin         FI  \\\n",
              "id_cliente                                                                    \n",
              "738284        89612446   2018/01/01        2018-02-01 2018-02-01 2018-01-01   \n",
              "738284        89612446   2018/01/01        2018-02-01 2018-02-01 2018-01-01   \n",
              "738288        88146604   2018/01/01        2018-11-08 2018-11-08 2018-01-01   \n",
              "738288        88146604   2018/01/01        2018-11-08 2018-11-08 2018-01-01   \n",
              "738288       175992661   2018/11/08               NaT 2019-12-31 2018-11-08   \n",
              "\n",
              "                   FF      EXPO  mes_pago             reclamacion  \\\n",
              "id_cliente                                                          \n",
              "738284     2018-02-01  0.042438    201801        CONSULTA EXTERNA   \n",
              "738284     2018-02-01  0.042438    201802  FISIOTERAPIA ILIMITADA   \n",
              "738288     2018-11-08  0.425745    201912        CONSULTA EXTERNA   \n",
              "738288     2018-11-08  0.425745    201909        CONSULTA EXTERNA   \n",
              "738288     2019-12-31  0.572223    201912        CONSULTA EXTERNA   \n",
              "\n",
              "           cod_diagnostico  ... eventos  valor_pagado  sexo fecha_nacimiento  \\\n",
              "id_cliente                  ...                                                \n",
              "738284                   9  ...       1       66960.0     M       18/11/1967   \n",
              "738284                   9  ...       2       42656.0     M       18/11/1967   \n",
              "738288                   9  ...       1        1984.0     M        8/11/1976   \n",
              "738288                   9  ...       1       85312.0     M        8/11/1976   \n",
              "738288                   9  ...       1        1984.0     M        8/11/1976   \n",
              "\n",
              "                      regional cancer  epoc  diabetes  hipertension  \\\n",
              "id_cliente                                                            \n",
              "738284         REGIONAL CENTRO      0     0         0             0   \n",
              "738284         REGIONAL CENTRO      0     0         0             0   \n",
              "738288      REGIONAL ANTIOQUIA      0     0         0             0   \n",
              "738288      REGIONAL ANTIOQUIA      0     0         0             0   \n",
              "738288      REGIONAL ANTIOQUIA      0     0         0             0   \n",
              "\n",
              "            enf_cardiovascular  \n",
              "id_cliente                      \n",
              "738284                       0  \n",
              "738284                       0  \n",
              "738288                       0  \n",
              "738288                       0  \n",
              "738288                       0  \n",
              "\n",
              "[5 rows x 21 columns]"
            ],
            "text/html": [
              "\n",
              "  <div id=\"df-63fbb5be-37de-46d1-93d3-7cac88e8fc33\">\n",
              "    <div class=\"colab-df-container\">\n",
              "      <div>\n",
              "<style scoped>\n",
              "    .dataframe tbody tr th:only-of-type {\n",
              "        vertical-align: middle;\n",
              "    }\n",
              "\n",
              "    .dataframe tbody tr th {\n",
              "        vertical-align: top;\n",
              "    }\n",
              "\n",
              "    .dataframe thead th {\n",
              "        text-align: right;\n",
              "    }\n",
              "</style>\n",
              "<table border=\"1\" class=\"dataframe\">\n",
              "  <thead>\n",
              "    <tr style=\"text-align: right;\">\n",
              "      <th></th>\n",
              "      <th>cod_poliza</th>\n",
              "      <th>fecha_inicio</th>\n",
              "      <th>fecha_cancelacion</th>\n",
              "      <th>fecha_fin</th>\n",
              "      <th>FI</th>\n",
              "      <th>FF</th>\n",
              "      <th>EXPO</th>\n",
              "      <th>mes_pago</th>\n",
              "      <th>reclamacion</th>\n",
              "      <th>cod_diagnostico</th>\n",
              "      <th>...</th>\n",
              "      <th>eventos</th>\n",
              "      <th>valor_pagado</th>\n",
              "      <th>sexo</th>\n",
              "      <th>fecha_nacimiento</th>\n",
              "      <th>regional</th>\n",
              "      <th>cancer</th>\n",
              "      <th>epoc</th>\n",
              "      <th>diabetes</th>\n",
              "      <th>hipertension</th>\n",
              "      <th>enf_cardiovascular</th>\n",
              "    </tr>\n",
              "    <tr>\n",
              "      <th>id_cliente</th>\n",
              "      <th></th>\n",
              "      <th></th>\n",
              "      <th></th>\n",
              "      <th></th>\n",
              "      <th></th>\n",
              "      <th></th>\n",
              "      <th></th>\n",
              "      <th></th>\n",
              "      <th></th>\n",
              "      <th></th>\n",
              "      <th></th>\n",
              "      <th></th>\n",
              "      <th></th>\n",
              "      <th></th>\n",
              "      <th></th>\n",
              "      <th></th>\n",
              "      <th></th>\n",
              "      <th></th>\n",
              "      <th></th>\n",
              "      <th></th>\n",
              "      <th></th>\n",
              "    </tr>\n",
              "  </thead>\n",
              "  <tbody>\n",
              "    <tr>\n",
              "      <th>738284</th>\n",
              "      <td>89612446</td>\n",
              "      <td>2018/01/01</td>\n",
              "      <td>2018-02-01</td>\n",
              "      <td>2018-02-01</td>\n",
              "      <td>2018-01-01</td>\n",
              "      <td>2018-02-01</td>\n",
              "      <td>0.042438</td>\n",
              "      <td>201801</td>\n",
              "      <td>CONSULTA EXTERNA</td>\n",
              "      <td>9</td>\n",
              "      <td>...</td>\n",
              "      <td>1</td>\n",
              "      <td>66960.0</td>\n",
              "      <td>M</td>\n",
              "      <td>18/11/1967</td>\n",
              "      <td>REGIONAL CENTRO</td>\n",
              "      <td>0</td>\n",
              "      <td>0</td>\n",
              "      <td>0</td>\n",
              "      <td>0</td>\n",
              "      <td>0</td>\n",
              "    </tr>\n",
              "    <tr>\n",
              "      <th>738284</th>\n",
              "      <td>89612446</td>\n",
              "      <td>2018/01/01</td>\n",
              "      <td>2018-02-01</td>\n",
              "      <td>2018-02-01</td>\n",
              "      <td>2018-01-01</td>\n",
              "      <td>2018-02-01</td>\n",
              "      <td>0.042438</td>\n",
              "      <td>201802</td>\n",
              "      <td>FISIOTERAPIA ILIMITADA</td>\n",
              "      <td>9</td>\n",
              "      <td>...</td>\n",
              "      <td>2</td>\n",
              "      <td>42656.0</td>\n",
              "      <td>M</td>\n",
              "      <td>18/11/1967</td>\n",
              "      <td>REGIONAL CENTRO</td>\n",
              "      <td>0</td>\n",
              "      <td>0</td>\n",
              "      <td>0</td>\n",
              "      <td>0</td>\n",
              "      <td>0</td>\n",
              "    </tr>\n",
              "    <tr>\n",
              "      <th>738288</th>\n",
              "      <td>88146604</td>\n",
              "      <td>2018/01/01</td>\n",
              "      <td>2018-11-08</td>\n",
              "      <td>2018-11-08</td>\n",
              "      <td>2018-01-01</td>\n",
              "      <td>2018-11-08</td>\n",
              "      <td>0.425745</td>\n",
              "      <td>201912</td>\n",
              "      <td>CONSULTA EXTERNA</td>\n",
              "      <td>9</td>\n",
              "      <td>...</td>\n",
              "      <td>1</td>\n",
              "      <td>1984.0</td>\n",
              "      <td>M</td>\n",
              "      <td>8/11/1976</td>\n",
              "      <td>REGIONAL ANTIOQUIA</td>\n",
              "      <td>0</td>\n",
              "      <td>0</td>\n",
              "      <td>0</td>\n",
              "      <td>0</td>\n",
              "      <td>0</td>\n",
              "    </tr>\n",
              "    <tr>\n",
              "      <th>738288</th>\n",
              "      <td>88146604</td>\n",
              "      <td>2018/01/01</td>\n",
              "      <td>2018-11-08</td>\n",
              "      <td>2018-11-08</td>\n",
              "      <td>2018-01-01</td>\n",
              "      <td>2018-11-08</td>\n",
              "      <td>0.425745</td>\n",
              "      <td>201909</td>\n",
              "      <td>CONSULTA EXTERNA</td>\n",
              "      <td>9</td>\n",
              "      <td>...</td>\n",
              "      <td>1</td>\n",
              "      <td>85312.0</td>\n",
              "      <td>M</td>\n",
              "      <td>8/11/1976</td>\n",
              "      <td>REGIONAL ANTIOQUIA</td>\n",
              "      <td>0</td>\n",
              "      <td>0</td>\n",
              "      <td>0</td>\n",
              "      <td>0</td>\n",
              "      <td>0</td>\n",
              "    </tr>\n",
              "    <tr>\n",
              "      <th>738288</th>\n",
              "      <td>175992661</td>\n",
              "      <td>2018/11/08</td>\n",
              "      <td>NaT</td>\n",
              "      <td>2019-12-31</td>\n",
              "      <td>2018-11-08</td>\n",
              "      <td>2019-12-31</td>\n",
              "      <td>0.572223</td>\n",
              "      <td>201912</td>\n",
              "      <td>CONSULTA EXTERNA</td>\n",
              "      <td>9</td>\n",
              "      <td>...</td>\n",
              "      <td>1</td>\n",
              "      <td>1984.0</td>\n",
              "      <td>M</td>\n",
              "      <td>8/11/1976</td>\n",
              "      <td>REGIONAL ANTIOQUIA</td>\n",
              "      <td>0</td>\n",
              "      <td>0</td>\n",
              "      <td>0</td>\n",
              "      <td>0</td>\n",
              "      <td>0</td>\n",
              "    </tr>\n",
              "  </tbody>\n",
              "</table>\n",
              "<p>5 rows × 21 columns</p>\n",
              "</div>\n",
              "      <button class=\"colab-df-convert\" onclick=\"convertToInteractive('df-63fbb5be-37de-46d1-93d3-7cac88e8fc33')\"\n",
              "              title=\"Convert this dataframe to an interactive table.\"\n",
              "              style=\"display:none;\">\n",
              "        \n",
              "  <svg xmlns=\"http://www.w3.org/2000/svg\" height=\"24px\"viewBox=\"0 0 24 24\"\n",
              "       width=\"24px\">\n",
              "    <path d=\"M0 0h24v24H0V0z\" fill=\"none\"/>\n",
              "    <path d=\"M18.56 5.44l.94 2.06.94-2.06 2.06-.94-2.06-.94-.94-2.06-.94 2.06-2.06.94zm-11 1L8.5 8.5l.94-2.06 2.06-.94-2.06-.94L8.5 2.5l-.94 2.06-2.06.94zm10 10l.94 2.06.94-2.06 2.06-.94-2.06-.94-.94-2.06-.94 2.06-2.06.94z\"/><path d=\"M17.41 7.96l-1.37-1.37c-.4-.4-.92-.59-1.43-.59-.52 0-1.04.2-1.43.59L10.3 9.45l-7.72 7.72c-.78.78-.78 2.05 0 2.83L4 21.41c.39.39.9.59 1.41.59.51 0 1.02-.2 1.41-.59l7.78-7.78 2.81-2.81c.8-.78.8-2.07 0-2.86zM5.41 20L4 18.59l7.72-7.72 1.47 1.35L5.41 20z\"/>\n",
              "  </svg>\n",
              "      </button>\n",
              "      \n",
              "  <style>\n",
              "    .colab-df-container {\n",
              "      display:flex;\n",
              "      flex-wrap:wrap;\n",
              "      gap: 12px;\n",
              "    }\n",
              "\n",
              "    .colab-df-convert {\n",
              "      background-color: #E8F0FE;\n",
              "      border: none;\n",
              "      border-radius: 50%;\n",
              "      cursor: pointer;\n",
              "      display: none;\n",
              "      fill: #1967D2;\n",
              "      height: 32px;\n",
              "      padding: 0 0 0 0;\n",
              "      width: 32px;\n",
              "    }\n",
              "\n",
              "    .colab-df-convert:hover {\n",
              "      background-color: #E2EBFA;\n",
              "      box-shadow: 0px 1px 2px rgba(60, 64, 67, 0.3), 0px 1px 3px 1px rgba(60, 64, 67, 0.15);\n",
              "      fill: #174EA6;\n",
              "    }\n",
              "\n",
              "    [theme=dark] .colab-df-convert {\n",
              "      background-color: #3B4455;\n",
              "      fill: #D2E3FC;\n",
              "    }\n",
              "\n",
              "    [theme=dark] .colab-df-convert:hover {\n",
              "      background-color: #434B5C;\n",
              "      box-shadow: 0px 1px 3px 1px rgba(0, 0, 0, 0.15);\n",
              "      filter: drop-shadow(0px 1px 2px rgba(0, 0, 0, 0.3));\n",
              "      fill: #FFFFFF;\n",
              "    }\n",
              "  </style>\n",
              "\n",
              "      <script>\n",
              "        const buttonEl =\n",
              "          document.querySelector('#df-63fbb5be-37de-46d1-93d3-7cac88e8fc33 button.colab-df-convert');\n",
              "        buttonEl.style.display =\n",
              "          google.colab.kernel.accessAllowed ? 'block' : 'none';\n",
              "\n",
              "        async function convertToInteractive(key) {\n",
              "          const element = document.querySelector('#df-63fbb5be-37de-46d1-93d3-7cac88e8fc33');\n",
              "          const dataTable =\n",
              "            await google.colab.kernel.invokeFunction('convertToInteractive',\n",
              "                                                     [key], {});\n",
              "          if (!dataTable) return;\n",
              "\n",
              "          const docLinkHtml = 'Like what you see? Visit the ' +\n",
              "            '<a target=\"_blank\" href=https://colab.research.google.com/notebooks/data_table.ipynb>data table notebook</a>'\n",
              "            + ' to learn more about interactive tables.';\n",
              "          element.innerHTML = '';\n",
              "          dataTable['output_type'] = 'display_data';\n",
              "          await google.colab.output.renderOutput(dataTable, element);\n",
              "          const docLink = document.createElement('div');\n",
              "          docLink.innerHTML = docLinkHtml;\n",
              "          element.appendChild(docLink);\n",
              "        }\n",
              "      </script>\n",
              "    </div>\n",
              "  </div>\n",
              "  "
            ]
          },
          "metadata": {},
          "execution_count": 52
        }
      ]
    },
    {
      "cell_type": "code",
      "source": [
        "union_exp.columns"
      ],
      "metadata": {
        "colab": {
          "base_uri": "https://localhost:8080/"
        },
        "id": "likYEoJZZ2UJ",
        "outputId": "dc37d970-bd45-4226-d4f6-c9d6af6d6315"
      },
      "execution_count": null,
      "outputs": [
        {
          "output_type": "execute_result",
          "data": {
            "text/plain": [
              "Index(['mes_pago', 'reclamacion', 'cod_diagnostico', 'diagnostico_desc',\n",
              "       'eventos', 'valor_pagado', 'sexo', 'fecha_nacimiento', 'regional',\n",
              "       'cancer', 'epoc', 'diabetes', 'hipertension', 'enf_cardiovascular'],\n",
              "      dtype='object')"
            ]
          },
          "metadata": {},
          "execution_count": 53
        }
      ]
    },
    {
      "cell_type": "code",
      "source": [
        "# ¿Cual es el sexo que mas hace reclamaciones?\n",
        "p1 = union_exp_prueba.groupby(['reclamacion','sexo'])['cod_poliza'].count().reset_index().sort_values(by= 'cod_poliza', ascending = False).head(30)\n",
        "p1"
      ],
      "metadata": {
        "colab": {
          "base_uri": "https://localhost:8080/",
          "height": 990
        },
        "id": "SrE3eNdKV5Au",
        "outputId": "28d33882-ada9-410b-e9a4-e774805acc74"
      },
      "execution_count": null,
      "outputs": [
        {
          "output_type": "execute_result",
          "data": {
            "text/plain": [
              "                                          reclamacion sexo  cod_poliza\n",
              "16                                   CONSULTA EXTERNA    F      279971\n",
              "17                                   CONSULTA EXTERNA    M      175495\n",
              "22                            EXAMENES DE DIAGNOSTICO    F      169569\n",
              "32                                LABORATORIO CLINICO    F      125376\n",
              "23                            EXAMENES DE DIAGNOSTICO    M       81202\n",
              "14                              CONSULTA DE URGENCIAS    F       79581\n",
              "33                                LABORATORIO CLINICO    M       62864\n",
              "15                              CONSULTA DE URGENCIAS    M       53577\n",
              "7                  CIRUGIA AMBULATORIA POR ENFERMEDAD    F       21634\n",
              "26                             FISIOTERAPIA ILIMITADA    F       20129\n",
              "8                  CIRUGIA AMBULATORIA POR ENFERMEDAD    M       16324\n",
              "27                             FISIOTERAPIA ILIMITADA    M       15378\n",
              "18                               CONSULTAS PRENATALES    F       12279\n",
              "70                           TRATAMIENTOS ESPECIFICOS    F       11571\n",
              "47      TRATAMIENTO MEDICO AMBULATORIO POR ACCIDENTES    M        7224\n",
              "71                           TRATAMIENTOS ESPECIFICOS    M        7148\n",
              "46      TRATAMIENTO MEDICO AMBULATORIO POR ACCIDENTES    F        6934\n",
              "55     TRATAMIENTO MEDICO HOSPITALARIO POR ENFERMEDAD    F        5754\n",
              "56     TRATAMIENTO MEDICO HOSPITALARIO POR ENFERMEDAD    M        4525\n",
              "64  TRATAMIENTO QUIRURGICO HOSPITALARIO POR ENFERM...    F        4379\n",
              "42                 TRATAMIENTO AMBULATORIO POR CANCER    F        4078\n",
              "1                                  ATENCION DEL PARTO    F        3756\n",
              "6                   CIRUGIA AMBULATORIA POR ACCIDENTE    M        3323\n",
              "5                   CIRUGIA AMBULATORIA POR ACCIDENTE    F        3030\n",
              "65  TRATAMIENTO QUIRURGICO HOSPITALARIO POR ENFERM...    M        2929\n",
              "30                                     INFILTRACIONES    F        2673\n",
              "36                                               PAMD    F        2475\n",
              "38                                    Sin Informacion    F        1992\n",
              "37                                               PAMD    M        1704\n",
              "40                             TRASLADO EN AMBULANCIA    F        1556"
            ],
            "text/html": [
              "\n",
              "  <div id=\"df-357cc1cb-d4b0-4db9-bf61-f22a6dd8a7fa\">\n",
              "    <div class=\"colab-df-container\">\n",
              "      <div>\n",
              "<style scoped>\n",
              "    .dataframe tbody tr th:only-of-type {\n",
              "        vertical-align: middle;\n",
              "    }\n",
              "\n",
              "    .dataframe tbody tr th {\n",
              "        vertical-align: top;\n",
              "    }\n",
              "\n",
              "    .dataframe thead th {\n",
              "        text-align: right;\n",
              "    }\n",
              "</style>\n",
              "<table border=\"1\" class=\"dataframe\">\n",
              "  <thead>\n",
              "    <tr style=\"text-align: right;\">\n",
              "      <th></th>\n",
              "      <th>reclamacion</th>\n",
              "      <th>sexo</th>\n",
              "      <th>cod_poliza</th>\n",
              "    </tr>\n",
              "  </thead>\n",
              "  <tbody>\n",
              "    <tr>\n",
              "      <th>16</th>\n",
              "      <td>CONSULTA EXTERNA</td>\n",
              "      <td>F</td>\n",
              "      <td>279971</td>\n",
              "    </tr>\n",
              "    <tr>\n",
              "      <th>17</th>\n",
              "      <td>CONSULTA EXTERNA</td>\n",
              "      <td>M</td>\n",
              "      <td>175495</td>\n",
              "    </tr>\n",
              "    <tr>\n",
              "      <th>22</th>\n",
              "      <td>EXAMENES DE DIAGNOSTICO</td>\n",
              "      <td>F</td>\n",
              "      <td>169569</td>\n",
              "    </tr>\n",
              "    <tr>\n",
              "      <th>32</th>\n",
              "      <td>LABORATORIO CLINICO</td>\n",
              "      <td>F</td>\n",
              "      <td>125376</td>\n",
              "    </tr>\n",
              "    <tr>\n",
              "      <th>23</th>\n",
              "      <td>EXAMENES DE DIAGNOSTICO</td>\n",
              "      <td>M</td>\n",
              "      <td>81202</td>\n",
              "    </tr>\n",
              "    <tr>\n",
              "      <th>14</th>\n",
              "      <td>CONSULTA DE URGENCIAS</td>\n",
              "      <td>F</td>\n",
              "      <td>79581</td>\n",
              "    </tr>\n",
              "    <tr>\n",
              "      <th>33</th>\n",
              "      <td>LABORATORIO CLINICO</td>\n",
              "      <td>M</td>\n",
              "      <td>62864</td>\n",
              "    </tr>\n",
              "    <tr>\n",
              "      <th>15</th>\n",
              "      <td>CONSULTA DE URGENCIAS</td>\n",
              "      <td>M</td>\n",
              "      <td>53577</td>\n",
              "    </tr>\n",
              "    <tr>\n",
              "      <th>7</th>\n",
              "      <td>CIRUGIA AMBULATORIA POR ENFERMEDAD</td>\n",
              "      <td>F</td>\n",
              "      <td>21634</td>\n",
              "    </tr>\n",
              "    <tr>\n",
              "      <th>26</th>\n",
              "      <td>FISIOTERAPIA ILIMITADA</td>\n",
              "      <td>F</td>\n",
              "      <td>20129</td>\n",
              "    </tr>\n",
              "    <tr>\n",
              "      <th>8</th>\n",
              "      <td>CIRUGIA AMBULATORIA POR ENFERMEDAD</td>\n",
              "      <td>M</td>\n",
              "      <td>16324</td>\n",
              "    </tr>\n",
              "    <tr>\n",
              "      <th>27</th>\n",
              "      <td>FISIOTERAPIA ILIMITADA</td>\n",
              "      <td>M</td>\n",
              "      <td>15378</td>\n",
              "    </tr>\n",
              "    <tr>\n",
              "      <th>18</th>\n",
              "      <td>CONSULTAS PRENATALES</td>\n",
              "      <td>F</td>\n",
              "      <td>12279</td>\n",
              "    </tr>\n",
              "    <tr>\n",
              "      <th>70</th>\n",
              "      <td>TRATAMIENTOS ESPECIFICOS</td>\n",
              "      <td>F</td>\n",
              "      <td>11571</td>\n",
              "    </tr>\n",
              "    <tr>\n",
              "      <th>47</th>\n",
              "      <td>TRATAMIENTO MEDICO AMBULATORIO POR ACCIDENTES</td>\n",
              "      <td>M</td>\n",
              "      <td>7224</td>\n",
              "    </tr>\n",
              "    <tr>\n",
              "      <th>71</th>\n",
              "      <td>TRATAMIENTOS ESPECIFICOS</td>\n",
              "      <td>M</td>\n",
              "      <td>7148</td>\n",
              "    </tr>\n",
              "    <tr>\n",
              "      <th>46</th>\n",
              "      <td>TRATAMIENTO MEDICO AMBULATORIO POR ACCIDENTES</td>\n",
              "      <td>F</td>\n",
              "      <td>6934</td>\n",
              "    </tr>\n",
              "    <tr>\n",
              "      <th>55</th>\n",
              "      <td>TRATAMIENTO MEDICO HOSPITALARIO POR ENFERMEDAD</td>\n",
              "      <td>F</td>\n",
              "      <td>5754</td>\n",
              "    </tr>\n",
              "    <tr>\n",
              "      <th>56</th>\n",
              "      <td>TRATAMIENTO MEDICO HOSPITALARIO POR ENFERMEDAD</td>\n",
              "      <td>M</td>\n",
              "      <td>4525</td>\n",
              "    </tr>\n",
              "    <tr>\n",
              "      <th>64</th>\n",
              "      <td>TRATAMIENTO QUIRURGICO HOSPITALARIO POR ENFERM...</td>\n",
              "      <td>F</td>\n",
              "      <td>4379</td>\n",
              "    </tr>\n",
              "    <tr>\n",
              "      <th>42</th>\n",
              "      <td>TRATAMIENTO AMBULATORIO POR CANCER</td>\n",
              "      <td>F</td>\n",
              "      <td>4078</td>\n",
              "    </tr>\n",
              "    <tr>\n",
              "      <th>1</th>\n",
              "      <td>ATENCION DEL PARTO</td>\n",
              "      <td>F</td>\n",
              "      <td>3756</td>\n",
              "    </tr>\n",
              "    <tr>\n",
              "      <th>6</th>\n",
              "      <td>CIRUGIA AMBULATORIA POR ACCIDENTE</td>\n",
              "      <td>M</td>\n",
              "      <td>3323</td>\n",
              "    </tr>\n",
              "    <tr>\n",
              "      <th>5</th>\n",
              "      <td>CIRUGIA AMBULATORIA POR ACCIDENTE</td>\n",
              "      <td>F</td>\n",
              "      <td>3030</td>\n",
              "    </tr>\n",
              "    <tr>\n",
              "      <th>65</th>\n",
              "      <td>TRATAMIENTO QUIRURGICO HOSPITALARIO POR ENFERM...</td>\n",
              "      <td>M</td>\n",
              "      <td>2929</td>\n",
              "    </tr>\n",
              "    <tr>\n",
              "      <th>30</th>\n",
              "      <td>INFILTRACIONES</td>\n",
              "      <td>F</td>\n",
              "      <td>2673</td>\n",
              "    </tr>\n",
              "    <tr>\n",
              "      <th>36</th>\n",
              "      <td>PAMD</td>\n",
              "      <td>F</td>\n",
              "      <td>2475</td>\n",
              "    </tr>\n",
              "    <tr>\n",
              "      <th>38</th>\n",
              "      <td>Sin Informacion</td>\n",
              "      <td>F</td>\n",
              "      <td>1992</td>\n",
              "    </tr>\n",
              "    <tr>\n",
              "      <th>37</th>\n",
              "      <td>PAMD</td>\n",
              "      <td>M</td>\n",
              "      <td>1704</td>\n",
              "    </tr>\n",
              "    <tr>\n",
              "      <th>40</th>\n",
              "      <td>TRASLADO EN AMBULANCIA</td>\n",
              "      <td>F</td>\n",
              "      <td>1556</td>\n",
              "    </tr>\n",
              "  </tbody>\n",
              "</table>\n",
              "</div>\n",
              "      <button class=\"colab-df-convert\" onclick=\"convertToInteractive('df-357cc1cb-d4b0-4db9-bf61-f22a6dd8a7fa')\"\n",
              "              title=\"Convert this dataframe to an interactive table.\"\n",
              "              style=\"display:none;\">\n",
              "        \n",
              "  <svg xmlns=\"http://www.w3.org/2000/svg\" height=\"24px\"viewBox=\"0 0 24 24\"\n",
              "       width=\"24px\">\n",
              "    <path d=\"M0 0h24v24H0V0z\" fill=\"none\"/>\n",
              "    <path d=\"M18.56 5.44l.94 2.06.94-2.06 2.06-.94-2.06-.94-.94-2.06-.94 2.06-2.06.94zm-11 1L8.5 8.5l.94-2.06 2.06-.94-2.06-.94L8.5 2.5l-.94 2.06-2.06.94zm10 10l.94 2.06.94-2.06 2.06-.94-2.06-.94-.94-2.06-.94 2.06-2.06.94z\"/><path d=\"M17.41 7.96l-1.37-1.37c-.4-.4-.92-.59-1.43-.59-.52 0-1.04.2-1.43.59L10.3 9.45l-7.72 7.72c-.78.78-.78 2.05 0 2.83L4 21.41c.39.39.9.59 1.41.59.51 0 1.02-.2 1.41-.59l7.78-7.78 2.81-2.81c.8-.78.8-2.07 0-2.86zM5.41 20L4 18.59l7.72-7.72 1.47 1.35L5.41 20z\"/>\n",
              "  </svg>\n",
              "      </button>\n",
              "      \n",
              "  <style>\n",
              "    .colab-df-container {\n",
              "      display:flex;\n",
              "      flex-wrap:wrap;\n",
              "      gap: 12px;\n",
              "    }\n",
              "\n",
              "    .colab-df-convert {\n",
              "      background-color: #E8F0FE;\n",
              "      border: none;\n",
              "      border-radius: 50%;\n",
              "      cursor: pointer;\n",
              "      display: none;\n",
              "      fill: #1967D2;\n",
              "      height: 32px;\n",
              "      padding: 0 0 0 0;\n",
              "      width: 32px;\n",
              "    }\n",
              "\n",
              "    .colab-df-convert:hover {\n",
              "      background-color: #E2EBFA;\n",
              "      box-shadow: 0px 1px 2px rgba(60, 64, 67, 0.3), 0px 1px 3px 1px rgba(60, 64, 67, 0.15);\n",
              "      fill: #174EA6;\n",
              "    }\n",
              "\n",
              "    [theme=dark] .colab-df-convert {\n",
              "      background-color: #3B4455;\n",
              "      fill: #D2E3FC;\n",
              "    }\n",
              "\n",
              "    [theme=dark] .colab-df-convert:hover {\n",
              "      background-color: #434B5C;\n",
              "      box-shadow: 0px 1px 3px 1px rgba(0, 0, 0, 0.15);\n",
              "      filter: drop-shadow(0px 1px 2px rgba(0, 0, 0, 0.3));\n",
              "      fill: #FFFFFF;\n",
              "    }\n",
              "  </style>\n",
              "\n",
              "      <script>\n",
              "        const buttonEl =\n",
              "          document.querySelector('#df-357cc1cb-d4b0-4db9-bf61-f22a6dd8a7fa button.colab-df-convert');\n",
              "        buttonEl.style.display =\n",
              "          google.colab.kernel.accessAllowed ? 'block' : 'none';\n",
              "\n",
              "        async function convertToInteractive(key) {\n",
              "          const element = document.querySelector('#df-357cc1cb-d4b0-4db9-bf61-f22a6dd8a7fa');\n",
              "          const dataTable =\n",
              "            await google.colab.kernel.invokeFunction('convertToInteractive',\n",
              "                                                     [key], {});\n",
              "          if (!dataTable) return;\n",
              "\n",
              "          const docLinkHtml = 'Like what you see? Visit the ' +\n",
              "            '<a target=\"_blank\" href=https://colab.research.google.com/notebooks/data_table.ipynb>data table notebook</a>'\n",
              "            + ' to learn more about interactive tables.';\n",
              "          element.innerHTML = '';\n",
              "          dataTable['output_type'] = 'display_data';\n",
              "          await google.colab.output.renderOutput(dataTable, element);\n",
              "          const docLink = document.createElement('div');\n",
              "          docLink.innerHTML = docLinkHtml;\n",
              "          element.appendChild(docLink);\n",
              "        }\n",
              "      </script>\n",
              "    </div>\n",
              "  </div>\n",
              "  "
            ]
          },
          "metadata": {},
          "execution_count": 54
        }
      ]
    },
    {
      "cell_type": "code",
      "source": [
        "import plotly.express as px\n",
        "p1 = union_exp_prueba.groupby(['reclamacion','sexo'])['cod_poliza'].count().reset_index().sort_values(by= 'cod_poliza', ascending = False).head(30)\n",
        "fig= px.bar(p1, x='sexo', y= 'cod_poliza', color='reclamacion', title=\"<b>sexo y 10 reclamaciones más frecuentes<b>\", barmode = 'group')"
      ],
      "metadata": {
        "id": "6GTzqT8Aab7P"
      },
      "execution_count": null,
      "outputs": []
    },
    {
      "cell_type": "code",
      "source": [
        "fig.update_layout(\n",
        "    xaxis_title = 'sexo',\n",
        "    yaxis_title= 'Numero de cliente',\n",
        "    template= 'simple_white',\n",
        "    title_x = 0.25)\n",
        "fig.show()"
      ],
      "metadata": {
        "colab": {
          "base_uri": "https://localhost:8080/",
          "height": 542
        },
        "id": "3vVSRm6fbwbU",
        "outputId": "dcc022f4-d4e5-4408-e43f-1186f9ec8f2f"
      },
      "execution_count": null,
      "outputs": [
        {
          "output_type": "display_data",
          "data": {
            "text/html": [
              "<html>\n",
              "<head><meta charset=\"utf-8\" /></head>\n",
              "<body>\n",
              "    <div>            <script src=\"https://cdnjs.cloudflare.com/ajax/libs/mathjax/2.7.5/MathJax.js?config=TeX-AMS-MML_SVG\"></script><script type=\"text/javascript\">if (window.MathJax) {MathJax.Hub.Config({SVG: {font: \"STIX-Web\"}});}</script>                <script type=\"text/javascript\">window.PlotlyConfig = {MathJaxConfig: 'local'};</script>\n",
              "        <script src=\"https://cdn.plot.ly/plotly-2.8.3.min.js\"></script>                <div id=\"dfa0d3ad-a79f-40a5-a0a2-3ff8cfc15348\" class=\"plotly-graph-div\" style=\"height:525px; width:100%;\"></div>            <script type=\"text/javascript\">                                    window.PLOTLYENV=window.PLOTLYENV || {};                                    if (document.getElementById(\"dfa0d3ad-a79f-40a5-a0a2-3ff8cfc15348\")) {                    Plotly.newPlot(                        \"dfa0d3ad-a79f-40a5-a0a2-3ff8cfc15348\",                        [{\"alignmentgroup\":\"True\",\"hovertemplate\":\"reclamacion=CONSULTA EXTERNA<br>sexo=%{x}<br>cod_poliza=%{y}<extra></extra>\",\"legendgroup\":\"CONSULTA EXTERNA\",\"marker\":{\"color\":\"#636efa\",\"pattern\":{\"shape\":\"\"}},\"name\":\"CONSULTA EXTERNA\",\"offsetgroup\":\"CONSULTA EXTERNA\",\"orientation\":\"v\",\"showlegend\":true,\"textposition\":\"auto\",\"x\":[\"F\",\"M\"],\"xaxis\":\"x\",\"y\":[279971,175495],\"yaxis\":\"y\",\"type\":\"bar\"},{\"alignmentgroup\":\"True\",\"hovertemplate\":\"reclamacion=EXAMENES DE DIAGNOSTICO<br>sexo=%{x}<br>cod_poliza=%{y}<extra></extra>\",\"legendgroup\":\"EXAMENES DE DIAGNOSTICO\",\"marker\":{\"color\":\"#EF553B\",\"pattern\":{\"shape\":\"\"}},\"name\":\"EXAMENES DE DIAGNOSTICO\",\"offsetgroup\":\"EXAMENES DE DIAGNOSTICO\",\"orientation\":\"v\",\"showlegend\":true,\"textposition\":\"auto\",\"x\":[\"F\",\"M\"],\"xaxis\":\"x\",\"y\":[169569,81202],\"yaxis\":\"y\",\"type\":\"bar\"},{\"alignmentgroup\":\"True\",\"hovertemplate\":\"reclamacion=LABORATORIO CLINICO<br>sexo=%{x}<br>cod_poliza=%{y}<extra></extra>\",\"legendgroup\":\"LABORATORIO CLINICO\",\"marker\":{\"color\":\"#00cc96\",\"pattern\":{\"shape\":\"\"}},\"name\":\"LABORATORIO CLINICO\",\"offsetgroup\":\"LABORATORIO CLINICO\",\"orientation\":\"v\",\"showlegend\":true,\"textposition\":\"auto\",\"x\":[\"F\",\"M\"],\"xaxis\":\"x\",\"y\":[125376,62864],\"yaxis\":\"y\",\"type\":\"bar\"},{\"alignmentgroup\":\"True\",\"hovertemplate\":\"reclamacion=CONSULTA DE URGENCIAS<br>sexo=%{x}<br>cod_poliza=%{y}<extra></extra>\",\"legendgroup\":\"CONSULTA DE URGENCIAS\",\"marker\":{\"color\":\"#ab63fa\",\"pattern\":{\"shape\":\"\"}},\"name\":\"CONSULTA DE URGENCIAS\",\"offsetgroup\":\"CONSULTA DE URGENCIAS\",\"orientation\":\"v\",\"showlegend\":true,\"textposition\":\"auto\",\"x\":[\"F\",\"M\"],\"xaxis\":\"x\",\"y\":[79581,53577],\"yaxis\":\"y\",\"type\":\"bar\"},{\"alignmentgroup\":\"True\",\"hovertemplate\":\"reclamacion=CIRUGIA AMBULATORIA POR ENFERMEDAD<br>sexo=%{x}<br>cod_poliza=%{y}<extra></extra>\",\"legendgroup\":\"CIRUGIA AMBULATORIA POR ENFERMEDAD\",\"marker\":{\"color\":\"#FFA15A\",\"pattern\":{\"shape\":\"\"}},\"name\":\"CIRUGIA AMBULATORIA POR ENFERMEDAD\",\"offsetgroup\":\"CIRUGIA AMBULATORIA POR ENFERMEDAD\",\"orientation\":\"v\",\"showlegend\":true,\"textposition\":\"auto\",\"x\":[\"F\",\"M\"],\"xaxis\":\"x\",\"y\":[21634,16324],\"yaxis\":\"y\",\"type\":\"bar\"},{\"alignmentgroup\":\"True\",\"hovertemplate\":\"reclamacion=FISIOTERAPIA ILIMITADA<br>sexo=%{x}<br>cod_poliza=%{y}<extra></extra>\",\"legendgroup\":\"FISIOTERAPIA ILIMITADA\",\"marker\":{\"color\":\"#19d3f3\",\"pattern\":{\"shape\":\"\"}},\"name\":\"FISIOTERAPIA ILIMITADA\",\"offsetgroup\":\"FISIOTERAPIA ILIMITADA\",\"orientation\":\"v\",\"showlegend\":true,\"textposition\":\"auto\",\"x\":[\"F\",\"M\"],\"xaxis\":\"x\",\"y\":[20129,15378],\"yaxis\":\"y\",\"type\":\"bar\"},{\"alignmentgroup\":\"True\",\"hovertemplate\":\"reclamacion=CONSULTAS PRENATALES<br>sexo=%{x}<br>cod_poliza=%{y}<extra></extra>\",\"legendgroup\":\"CONSULTAS PRENATALES\",\"marker\":{\"color\":\"#FF6692\",\"pattern\":{\"shape\":\"\"}},\"name\":\"CONSULTAS PRENATALES\",\"offsetgroup\":\"CONSULTAS PRENATALES\",\"orientation\":\"v\",\"showlegend\":true,\"textposition\":\"auto\",\"x\":[\"F\"],\"xaxis\":\"x\",\"y\":[12279],\"yaxis\":\"y\",\"type\":\"bar\"},{\"alignmentgroup\":\"True\",\"hovertemplate\":\"reclamacion=TRATAMIENTOS ESPECIFICOS<br>sexo=%{x}<br>cod_poliza=%{y}<extra></extra>\",\"legendgroup\":\"TRATAMIENTOS ESPECIFICOS\",\"marker\":{\"color\":\"#B6E880\",\"pattern\":{\"shape\":\"\"}},\"name\":\"TRATAMIENTOS ESPECIFICOS\",\"offsetgroup\":\"TRATAMIENTOS ESPECIFICOS\",\"orientation\":\"v\",\"showlegend\":true,\"textposition\":\"auto\",\"x\":[\"F\",\"M\"],\"xaxis\":\"x\",\"y\":[11571,7148],\"yaxis\":\"y\",\"type\":\"bar\"},{\"alignmentgroup\":\"True\",\"hovertemplate\":\"reclamacion=TRATAMIENTO MEDICO AMBULATORIO POR ACCIDENTES<br>sexo=%{x}<br>cod_poliza=%{y}<extra></extra>\",\"legendgroup\":\"TRATAMIENTO MEDICO AMBULATORIO POR ACCIDENTES\",\"marker\":{\"color\":\"#FF97FF\",\"pattern\":{\"shape\":\"\"}},\"name\":\"TRATAMIENTO MEDICO AMBULATORIO POR ACCIDENTES\",\"offsetgroup\":\"TRATAMIENTO MEDICO AMBULATORIO POR ACCIDENTES\",\"orientation\":\"v\",\"showlegend\":true,\"textposition\":\"auto\",\"x\":[\"M\",\"F\"],\"xaxis\":\"x\",\"y\":[7224,6934],\"yaxis\":\"y\",\"type\":\"bar\"},{\"alignmentgroup\":\"True\",\"hovertemplate\":\"reclamacion=TRATAMIENTO MEDICO HOSPITALARIO POR ENFERMEDAD<br>sexo=%{x}<br>cod_poliza=%{y}<extra></extra>\",\"legendgroup\":\"TRATAMIENTO MEDICO HOSPITALARIO POR ENFERMEDAD\",\"marker\":{\"color\":\"#FECB52\",\"pattern\":{\"shape\":\"\"}},\"name\":\"TRATAMIENTO MEDICO HOSPITALARIO POR ENFERMEDAD\",\"offsetgroup\":\"TRATAMIENTO MEDICO HOSPITALARIO POR ENFERMEDAD\",\"orientation\":\"v\",\"showlegend\":true,\"textposition\":\"auto\",\"x\":[\"F\",\"M\"],\"xaxis\":\"x\",\"y\":[5754,4525],\"yaxis\":\"y\",\"type\":\"bar\"},{\"alignmentgroup\":\"True\",\"hovertemplate\":\"reclamacion=TRATAMIENTO QUIRURGICO HOSPITALARIO POR ENFERMEDAD<br>sexo=%{x}<br>cod_poliza=%{y}<extra></extra>\",\"legendgroup\":\"TRATAMIENTO QUIRURGICO HOSPITALARIO POR ENFERMEDAD\",\"marker\":{\"color\":\"#636efa\",\"pattern\":{\"shape\":\"\"}},\"name\":\"TRATAMIENTO QUIRURGICO HOSPITALARIO POR ENFERMEDAD\",\"offsetgroup\":\"TRATAMIENTO QUIRURGICO HOSPITALARIO POR ENFERMEDAD\",\"orientation\":\"v\",\"showlegend\":true,\"textposition\":\"auto\",\"x\":[\"F\",\"M\"],\"xaxis\":\"x\",\"y\":[4379,2929],\"yaxis\":\"y\",\"type\":\"bar\"},{\"alignmentgroup\":\"True\",\"hovertemplate\":\"reclamacion=TRATAMIENTO AMBULATORIO POR CANCER<br>sexo=%{x}<br>cod_poliza=%{y}<extra></extra>\",\"legendgroup\":\"TRATAMIENTO AMBULATORIO POR CANCER\",\"marker\":{\"color\":\"#EF553B\",\"pattern\":{\"shape\":\"\"}},\"name\":\"TRATAMIENTO AMBULATORIO POR CANCER\",\"offsetgroup\":\"TRATAMIENTO AMBULATORIO POR CANCER\",\"orientation\":\"v\",\"showlegend\":true,\"textposition\":\"auto\",\"x\":[\"F\"],\"xaxis\":\"x\",\"y\":[4078],\"yaxis\":\"y\",\"type\":\"bar\"},{\"alignmentgroup\":\"True\",\"hovertemplate\":\"reclamacion=ATENCION DEL PARTO<br>sexo=%{x}<br>cod_poliza=%{y}<extra></extra>\",\"legendgroup\":\"ATENCION DEL PARTO\",\"marker\":{\"color\":\"#00cc96\",\"pattern\":{\"shape\":\"\"}},\"name\":\"ATENCION DEL PARTO\",\"offsetgroup\":\"ATENCION DEL PARTO\",\"orientation\":\"v\",\"showlegend\":true,\"textposition\":\"auto\",\"x\":[\"F\"],\"xaxis\":\"x\",\"y\":[3756],\"yaxis\":\"y\",\"type\":\"bar\"},{\"alignmentgroup\":\"True\",\"hovertemplate\":\"reclamacion=CIRUGIA AMBULATORIA POR ACCIDENTE<br>sexo=%{x}<br>cod_poliza=%{y}<extra></extra>\",\"legendgroup\":\"CIRUGIA AMBULATORIA POR ACCIDENTE\",\"marker\":{\"color\":\"#ab63fa\",\"pattern\":{\"shape\":\"\"}},\"name\":\"CIRUGIA AMBULATORIA POR ACCIDENTE\",\"offsetgroup\":\"CIRUGIA AMBULATORIA POR ACCIDENTE\",\"orientation\":\"v\",\"showlegend\":true,\"textposition\":\"auto\",\"x\":[\"M\",\"F\"],\"xaxis\":\"x\",\"y\":[3323,3030],\"yaxis\":\"y\",\"type\":\"bar\"},{\"alignmentgroup\":\"True\",\"hovertemplate\":\"reclamacion=INFILTRACIONES<br>sexo=%{x}<br>cod_poliza=%{y}<extra></extra>\",\"legendgroup\":\"INFILTRACIONES\",\"marker\":{\"color\":\"#FFA15A\",\"pattern\":{\"shape\":\"\"}},\"name\":\"INFILTRACIONES\",\"offsetgroup\":\"INFILTRACIONES\",\"orientation\":\"v\",\"showlegend\":true,\"textposition\":\"auto\",\"x\":[\"F\"],\"xaxis\":\"x\",\"y\":[2673],\"yaxis\":\"y\",\"type\":\"bar\"},{\"alignmentgroup\":\"True\",\"hovertemplate\":\"reclamacion=PAMD<br>sexo=%{x}<br>cod_poliza=%{y}<extra></extra>\",\"legendgroup\":\"PAMD\",\"marker\":{\"color\":\"#19d3f3\",\"pattern\":{\"shape\":\"\"}},\"name\":\"PAMD\",\"offsetgroup\":\"PAMD\",\"orientation\":\"v\",\"showlegend\":true,\"textposition\":\"auto\",\"x\":[\"F\",\"M\"],\"xaxis\":\"x\",\"y\":[2475,1704],\"yaxis\":\"y\",\"type\":\"bar\"},{\"alignmentgroup\":\"True\",\"hovertemplate\":\"reclamacion=Sin Informacion<br>sexo=%{x}<br>cod_poliza=%{y}<extra></extra>\",\"legendgroup\":\"Sin Informacion\",\"marker\":{\"color\":\"#FF6692\",\"pattern\":{\"shape\":\"\"}},\"name\":\"Sin Informacion\",\"offsetgroup\":\"Sin Informacion\",\"orientation\":\"v\",\"showlegend\":true,\"textposition\":\"auto\",\"x\":[\"F\"],\"xaxis\":\"x\",\"y\":[1992],\"yaxis\":\"y\",\"type\":\"bar\"},{\"alignmentgroup\":\"True\",\"hovertemplate\":\"reclamacion=TRASLADO EN AMBULANCIA<br>sexo=%{x}<br>cod_poliza=%{y}<extra></extra>\",\"legendgroup\":\"TRASLADO EN AMBULANCIA\",\"marker\":{\"color\":\"#B6E880\",\"pattern\":{\"shape\":\"\"}},\"name\":\"TRASLADO EN AMBULANCIA\",\"offsetgroup\":\"TRASLADO EN AMBULANCIA\",\"orientation\":\"v\",\"showlegend\":true,\"textposition\":\"auto\",\"x\":[\"F\"],\"xaxis\":\"x\",\"y\":[1556],\"yaxis\":\"y\",\"type\":\"bar\"}],                        {\"template\":{\"data\":{\"barpolar\":[{\"marker\":{\"line\":{\"color\":\"white\",\"width\":0.5},\"pattern\":{\"fillmode\":\"overlay\",\"size\":10,\"solidity\":0.2}},\"type\":\"barpolar\"}],\"bar\":[{\"error_x\":{\"color\":\"rgb(36,36,36)\"},\"error_y\":{\"color\":\"rgb(36,36,36)\"},\"marker\":{\"line\":{\"color\":\"white\",\"width\":0.5},\"pattern\":{\"fillmode\":\"overlay\",\"size\":10,\"solidity\":0.2}},\"type\":\"bar\"}],\"carpet\":[{\"aaxis\":{\"endlinecolor\":\"rgb(36,36,36)\",\"gridcolor\":\"white\",\"linecolor\":\"white\",\"minorgridcolor\":\"white\",\"startlinecolor\":\"rgb(36,36,36)\"},\"baxis\":{\"endlinecolor\":\"rgb(36,36,36)\",\"gridcolor\":\"white\",\"linecolor\":\"white\",\"minorgridcolor\":\"white\",\"startlinecolor\":\"rgb(36,36,36)\"},\"type\":\"carpet\"}],\"choropleth\":[{\"colorbar\":{\"outlinewidth\":1,\"tickcolor\":\"rgb(36,36,36)\",\"ticks\":\"outside\"},\"type\":\"choropleth\"}],\"contourcarpet\":[{\"colorbar\":{\"outlinewidth\":1,\"tickcolor\":\"rgb(36,36,36)\",\"ticks\":\"outside\"},\"type\":\"contourcarpet\"}],\"contour\":[{\"colorbar\":{\"outlinewidth\":1,\"tickcolor\":\"rgb(36,36,36)\",\"ticks\":\"outside\"},\"colorscale\":[[0.0,\"#440154\"],[0.1111111111111111,\"#482878\"],[0.2222222222222222,\"#3e4989\"],[0.3333333333333333,\"#31688e\"],[0.4444444444444444,\"#26828e\"],[0.5555555555555556,\"#1f9e89\"],[0.6666666666666666,\"#35b779\"],[0.7777777777777778,\"#6ece58\"],[0.8888888888888888,\"#b5de2b\"],[1.0,\"#fde725\"]],\"type\":\"contour\"}],\"heatmapgl\":[{\"colorbar\":{\"outlinewidth\":1,\"tickcolor\":\"rgb(36,36,36)\",\"ticks\":\"outside\"},\"colorscale\":[[0.0,\"#440154\"],[0.1111111111111111,\"#482878\"],[0.2222222222222222,\"#3e4989\"],[0.3333333333333333,\"#31688e\"],[0.4444444444444444,\"#26828e\"],[0.5555555555555556,\"#1f9e89\"],[0.6666666666666666,\"#35b779\"],[0.7777777777777778,\"#6ece58\"],[0.8888888888888888,\"#b5de2b\"],[1.0,\"#fde725\"]],\"type\":\"heatmapgl\"}],\"heatmap\":[{\"colorbar\":{\"outlinewidth\":1,\"tickcolor\":\"rgb(36,36,36)\",\"ticks\":\"outside\"},\"colorscale\":[[0.0,\"#440154\"],[0.1111111111111111,\"#482878\"],[0.2222222222222222,\"#3e4989\"],[0.3333333333333333,\"#31688e\"],[0.4444444444444444,\"#26828e\"],[0.5555555555555556,\"#1f9e89\"],[0.6666666666666666,\"#35b779\"],[0.7777777777777778,\"#6ece58\"],[0.8888888888888888,\"#b5de2b\"],[1.0,\"#fde725\"]],\"type\":\"heatmap\"}],\"histogram2dcontour\":[{\"colorbar\":{\"outlinewidth\":1,\"tickcolor\":\"rgb(36,36,36)\",\"ticks\":\"outside\"},\"colorscale\":[[0.0,\"#440154\"],[0.1111111111111111,\"#482878\"],[0.2222222222222222,\"#3e4989\"],[0.3333333333333333,\"#31688e\"],[0.4444444444444444,\"#26828e\"],[0.5555555555555556,\"#1f9e89\"],[0.6666666666666666,\"#35b779\"],[0.7777777777777778,\"#6ece58\"],[0.8888888888888888,\"#b5de2b\"],[1.0,\"#fde725\"]],\"type\":\"histogram2dcontour\"}],\"histogram2d\":[{\"colorbar\":{\"outlinewidth\":1,\"tickcolor\":\"rgb(36,36,36)\",\"ticks\":\"outside\"},\"colorscale\":[[0.0,\"#440154\"],[0.1111111111111111,\"#482878\"],[0.2222222222222222,\"#3e4989\"],[0.3333333333333333,\"#31688e\"],[0.4444444444444444,\"#26828e\"],[0.5555555555555556,\"#1f9e89\"],[0.6666666666666666,\"#35b779\"],[0.7777777777777778,\"#6ece58\"],[0.8888888888888888,\"#b5de2b\"],[1.0,\"#fde725\"]],\"type\":\"histogram2d\"}],\"histogram\":[{\"marker\":{\"line\":{\"color\":\"white\",\"width\":0.6}},\"type\":\"histogram\"}],\"mesh3d\":[{\"colorbar\":{\"outlinewidth\":1,\"tickcolor\":\"rgb(36,36,36)\",\"ticks\":\"outside\"},\"type\":\"mesh3d\"}],\"parcoords\":[{\"line\":{\"colorbar\":{\"outlinewidth\":1,\"tickcolor\":\"rgb(36,36,36)\",\"ticks\":\"outside\"}},\"type\":\"parcoords\"}],\"pie\":[{\"automargin\":true,\"type\":\"pie\"}],\"scatter3d\":[{\"line\":{\"colorbar\":{\"outlinewidth\":1,\"tickcolor\":\"rgb(36,36,36)\",\"ticks\":\"outside\"}},\"marker\":{\"colorbar\":{\"outlinewidth\":1,\"tickcolor\":\"rgb(36,36,36)\",\"ticks\":\"outside\"}},\"type\":\"scatter3d\"}],\"scattercarpet\":[{\"marker\":{\"colorbar\":{\"outlinewidth\":1,\"tickcolor\":\"rgb(36,36,36)\",\"ticks\":\"outside\"}},\"type\":\"scattercarpet\"}],\"scattergeo\":[{\"marker\":{\"colorbar\":{\"outlinewidth\":1,\"tickcolor\":\"rgb(36,36,36)\",\"ticks\":\"outside\"}},\"type\":\"scattergeo\"}],\"scattergl\":[{\"marker\":{\"colorbar\":{\"outlinewidth\":1,\"tickcolor\":\"rgb(36,36,36)\",\"ticks\":\"outside\"}},\"type\":\"scattergl\"}],\"scattermapbox\":[{\"marker\":{\"colorbar\":{\"outlinewidth\":1,\"tickcolor\":\"rgb(36,36,36)\",\"ticks\":\"outside\"}},\"type\":\"scattermapbox\"}],\"scatterpolargl\":[{\"marker\":{\"colorbar\":{\"outlinewidth\":1,\"tickcolor\":\"rgb(36,36,36)\",\"ticks\":\"outside\"}},\"type\":\"scatterpolargl\"}],\"scatterpolar\":[{\"marker\":{\"colorbar\":{\"outlinewidth\":1,\"tickcolor\":\"rgb(36,36,36)\",\"ticks\":\"outside\"}},\"type\":\"scatterpolar\"}],\"scatter\":[{\"marker\":{\"colorbar\":{\"outlinewidth\":1,\"tickcolor\":\"rgb(36,36,36)\",\"ticks\":\"outside\"}},\"type\":\"scatter\"}],\"scatterternary\":[{\"marker\":{\"colorbar\":{\"outlinewidth\":1,\"tickcolor\":\"rgb(36,36,36)\",\"ticks\":\"outside\"}},\"type\":\"scatterternary\"}],\"surface\":[{\"colorbar\":{\"outlinewidth\":1,\"tickcolor\":\"rgb(36,36,36)\",\"ticks\":\"outside\"},\"colorscale\":[[0.0,\"#440154\"],[0.1111111111111111,\"#482878\"],[0.2222222222222222,\"#3e4989\"],[0.3333333333333333,\"#31688e\"],[0.4444444444444444,\"#26828e\"],[0.5555555555555556,\"#1f9e89\"],[0.6666666666666666,\"#35b779\"],[0.7777777777777778,\"#6ece58\"],[0.8888888888888888,\"#b5de2b\"],[1.0,\"#fde725\"]],\"type\":\"surface\"}],\"table\":[{\"cells\":{\"fill\":{\"color\":\"rgb(237,237,237)\"},\"line\":{\"color\":\"white\"}},\"header\":{\"fill\":{\"color\":\"rgb(217,217,217)\"},\"line\":{\"color\":\"white\"}},\"type\":\"table\"}]},\"layout\":{\"annotationdefaults\":{\"arrowhead\":0,\"arrowwidth\":1},\"autotypenumbers\":\"strict\",\"coloraxis\":{\"colorbar\":{\"outlinewidth\":1,\"tickcolor\":\"rgb(36,36,36)\",\"ticks\":\"outside\"}},\"colorscale\":{\"diverging\":[[0.0,\"rgb(103,0,31)\"],[0.1,\"rgb(178,24,43)\"],[0.2,\"rgb(214,96,77)\"],[0.3,\"rgb(244,165,130)\"],[0.4,\"rgb(253,219,199)\"],[0.5,\"rgb(247,247,247)\"],[0.6,\"rgb(209,229,240)\"],[0.7,\"rgb(146,197,222)\"],[0.8,\"rgb(67,147,195)\"],[0.9,\"rgb(33,102,172)\"],[1.0,\"rgb(5,48,97)\"]],\"sequential\":[[0.0,\"#440154\"],[0.1111111111111111,\"#482878\"],[0.2222222222222222,\"#3e4989\"],[0.3333333333333333,\"#31688e\"],[0.4444444444444444,\"#26828e\"],[0.5555555555555556,\"#1f9e89\"],[0.6666666666666666,\"#35b779\"],[0.7777777777777778,\"#6ece58\"],[0.8888888888888888,\"#b5de2b\"],[1.0,\"#fde725\"]],\"sequentialminus\":[[0.0,\"#440154\"],[0.1111111111111111,\"#482878\"],[0.2222222222222222,\"#3e4989\"],[0.3333333333333333,\"#31688e\"],[0.4444444444444444,\"#26828e\"],[0.5555555555555556,\"#1f9e89\"],[0.6666666666666666,\"#35b779\"],[0.7777777777777778,\"#6ece58\"],[0.8888888888888888,\"#b5de2b\"],[1.0,\"#fde725\"]]},\"colorway\":[\"#1F77B4\",\"#FF7F0E\",\"#2CA02C\",\"#D62728\",\"#9467BD\",\"#8C564B\",\"#E377C2\",\"#7F7F7F\",\"#BCBD22\",\"#17BECF\"],\"font\":{\"color\":\"rgb(36,36,36)\"},\"geo\":{\"bgcolor\":\"white\",\"lakecolor\":\"white\",\"landcolor\":\"white\",\"showlakes\":true,\"showland\":true,\"subunitcolor\":\"white\"},\"hoverlabel\":{\"align\":\"left\"},\"hovermode\":\"closest\",\"mapbox\":{\"style\":\"light\"},\"paper_bgcolor\":\"white\",\"plot_bgcolor\":\"white\",\"polar\":{\"angularaxis\":{\"gridcolor\":\"rgb(232,232,232)\",\"linecolor\":\"rgb(36,36,36)\",\"showgrid\":false,\"showline\":true,\"ticks\":\"outside\"},\"bgcolor\":\"white\",\"radialaxis\":{\"gridcolor\":\"rgb(232,232,232)\",\"linecolor\":\"rgb(36,36,36)\",\"showgrid\":false,\"showline\":true,\"ticks\":\"outside\"}},\"scene\":{\"xaxis\":{\"backgroundcolor\":\"white\",\"gridcolor\":\"rgb(232,232,232)\",\"gridwidth\":2,\"linecolor\":\"rgb(36,36,36)\",\"showbackground\":true,\"showgrid\":false,\"showline\":true,\"ticks\":\"outside\",\"zeroline\":false,\"zerolinecolor\":\"rgb(36,36,36)\"},\"yaxis\":{\"backgroundcolor\":\"white\",\"gridcolor\":\"rgb(232,232,232)\",\"gridwidth\":2,\"linecolor\":\"rgb(36,36,36)\",\"showbackground\":true,\"showgrid\":false,\"showline\":true,\"ticks\":\"outside\",\"zeroline\":false,\"zerolinecolor\":\"rgb(36,36,36)\"},\"zaxis\":{\"backgroundcolor\":\"white\",\"gridcolor\":\"rgb(232,232,232)\",\"gridwidth\":2,\"linecolor\":\"rgb(36,36,36)\",\"showbackground\":true,\"showgrid\":false,\"showline\":true,\"ticks\":\"outside\",\"zeroline\":false,\"zerolinecolor\":\"rgb(36,36,36)\"}},\"shapedefaults\":{\"fillcolor\":\"black\",\"line\":{\"width\":0},\"opacity\":0.3},\"ternary\":{\"aaxis\":{\"gridcolor\":\"rgb(232,232,232)\",\"linecolor\":\"rgb(36,36,36)\",\"showgrid\":false,\"showline\":true,\"ticks\":\"outside\"},\"baxis\":{\"gridcolor\":\"rgb(232,232,232)\",\"linecolor\":\"rgb(36,36,36)\",\"showgrid\":false,\"showline\":true,\"ticks\":\"outside\"},\"bgcolor\":\"white\",\"caxis\":{\"gridcolor\":\"rgb(232,232,232)\",\"linecolor\":\"rgb(36,36,36)\",\"showgrid\":false,\"showline\":true,\"ticks\":\"outside\"}},\"title\":{\"x\":0.05},\"xaxis\":{\"automargin\":true,\"gridcolor\":\"rgb(232,232,232)\",\"linecolor\":\"rgb(36,36,36)\",\"showgrid\":false,\"showline\":true,\"ticks\":\"outside\",\"title\":{\"standoff\":15},\"zeroline\":false,\"zerolinecolor\":\"rgb(36,36,36)\"},\"yaxis\":{\"automargin\":true,\"gridcolor\":\"rgb(232,232,232)\",\"linecolor\":\"rgb(36,36,36)\",\"showgrid\":false,\"showline\":true,\"ticks\":\"outside\",\"title\":{\"standoff\":15},\"zeroline\":false,\"zerolinecolor\":\"rgb(36,36,36)\"}}},\"xaxis\":{\"anchor\":\"y\",\"domain\":[0.0,1.0],\"title\":{\"text\":\"sexo\"}},\"yaxis\":{\"anchor\":\"x\",\"domain\":[0.0,1.0],\"title\":{\"text\":\"Numero de cliente\"}},\"legend\":{\"title\":{\"text\":\"reclamacion\"},\"tracegroupgap\":0},\"title\":{\"text\":\"<b>sexo y 10 reclamaciones m\\u00e1s frecuentes<b>\",\"x\":0.25},\"barmode\":\"group\"},                        {\"responsive\": true}                    ).then(function(){\n",
              "                            \n",
              "var gd = document.getElementById('dfa0d3ad-a79f-40a5-a0a2-3ff8cfc15348');\n",
              "var x = new MutationObserver(function (mutations, observer) {{\n",
              "        var display = window.getComputedStyle(gd).display;\n",
              "        if (!display || display === 'none') {{\n",
              "            console.log([gd, 'removed!']);\n",
              "            Plotly.purge(gd);\n",
              "            observer.disconnect();\n",
              "        }}\n",
              "}});\n",
              "\n",
              "// Listen for the removal of the full notebook cells\n",
              "var notebookContainer = gd.closest('#notebook-container');\n",
              "if (notebookContainer) {{\n",
              "    x.observe(notebookContainer, {childList: true});\n",
              "}}\n",
              "\n",
              "// Listen for the clearing of the current output cell\n",
              "var outputEl = gd.closest('.output');\n",
              "if (outputEl) {{\n",
              "    x.observe(outputEl, {childList: true});\n",
              "}}\n",
              "\n",
              "                        })                };                            </script>        </div>\n",
              "</body>\n",
              "</html>"
            ]
          },
          "metadata": {}
        }
      ]
    },
    {
      "cell_type": "code",
      "source": [
        "#pregunta dos\n",
        "#p3 = union_exp_prueba.groupby(['cod_poliza'])['fecha_inicio'].count().reset_index().sort_values(by= 'fecha_inicio', ascending = False).head(10)\n",
        "#p3\n",
        "#p2 = pd.Series(union_exp_prueba.fecha_inicio.to_month_name().value_counts()).reset_index().rename(Column={'index':'month'})"
      ],
      "metadata": {
        "id": "oUmjQW9sffkH"
      },
      "execution_count": null,
      "outputs": []
    },
    {
      "cell_type": "code",
      "source": [
        "#Que tipo de reclamación es más constosa\n",
        "p2 = union_exp_prueba.groupby(['reclamacion'])['valor_pagado'].sum().reset_index().sort_values(by= 'valor_pagado', ascending = False).head(10)\n",
        "p2['valor_pagado']=p2['valor_pagado']/p2['valor_pagado'].sum()\n",
        "p2['valos_pagado_millones']=p2['valor_pagado'].round(decimals=3)\n",
        "p2 = p2.drop(['valor_pagado'],axis=1)\n",
        "#df.drop(['B', 'C'], axis=1)\n",
        "p2\n"
      ],
      "metadata": {
        "colab": {
          "base_uri": "https://localhost:8080/",
          "height": 363
        },
        "id": "bZSNcwMNn3ia",
        "outputId": "696342a7-b96a-492e-990a-f3ad59c86c26"
      },
      "execution_count": null,
      "outputs": [
        {
          "output_type": "execute_result",
          "data": {
            "text/plain": [
              "                                          reclamacion  valos_pagado_millones\n",
              "12                            EXAMENES DE DIAGNOSTICO                  0.198\n",
              "4                  CIRUGIA AMBULATORIA POR ENFERMEDAD                  0.165\n",
              "34  TRATAMIENTO QUIRURGICO HOSPITALARIO POR ENFERM...                  0.163\n",
              "9                                    CONSULTA EXTERNA                  0.117\n",
              "17                                LABORATORIO CLINICO                  0.112\n",
              "29     TRATAMIENTO MEDICO HOSPITALARIO POR ENFERMEDAD                  0.095\n",
              "22                 TRATAMIENTO AMBULATORIO POR CANCER                  0.054\n",
              "8                               CONSULTA DE URGENCIAS                  0.051\n",
              "1                                  ATENCION DEL PARTO                  0.028\n",
              "19                                               PAMD                  0.017"
            ],
            "text/html": [
              "\n",
              "  <div id=\"df-6d061cbb-3cbe-43a1-abc9-8dd13b424feb\">\n",
              "    <div class=\"colab-df-container\">\n",
              "      <div>\n",
              "<style scoped>\n",
              "    .dataframe tbody tr th:only-of-type {\n",
              "        vertical-align: middle;\n",
              "    }\n",
              "\n",
              "    .dataframe tbody tr th {\n",
              "        vertical-align: top;\n",
              "    }\n",
              "\n",
              "    .dataframe thead th {\n",
              "        text-align: right;\n",
              "    }\n",
              "</style>\n",
              "<table border=\"1\" class=\"dataframe\">\n",
              "  <thead>\n",
              "    <tr style=\"text-align: right;\">\n",
              "      <th></th>\n",
              "      <th>reclamacion</th>\n",
              "      <th>valos_pagado_millones</th>\n",
              "    </tr>\n",
              "  </thead>\n",
              "  <tbody>\n",
              "    <tr>\n",
              "      <th>12</th>\n",
              "      <td>EXAMENES DE DIAGNOSTICO</td>\n",
              "      <td>0.198</td>\n",
              "    </tr>\n",
              "    <tr>\n",
              "      <th>4</th>\n",
              "      <td>CIRUGIA AMBULATORIA POR ENFERMEDAD</td>\n",
              "      <td>0.165</td>\n",
              "    </tr>\n",
              "    <tr>\n",
              "      <th>34</th>\n",
              "      <td>TRATAMIENTO QUIRURGICO HOSPITALARIO POR ENFERM...</td>\n",
              "      <td>0.163</td>\n",
              "    </tr>\n",
              "    <tr>\n",
              "      <th>9</th>\n",
              "      <td>CONSULTA EXTERNA</td>\n",
              "      <td>0.117</td>\n",
              "    </tr>\n",
              "    <tr>\n",
              "      <th>17</th>\n",
              "      <td>LABORATORIO CLINICO</td>\n",
              "      <td>0.112</td>\n",
              "    </tr>\n",
              "    <tr>\n",
              "      <th>29</th>\n",
              "      <td>TRATAMIENTO MEDICO HOSPITALARIO POR ENFERMEDAD</td>\n",
              "      <td>0.095</td>\n",
              "    </tr>\n",
              "    <tr>\n",
              "      <th>22</th>\n",
              "      <td>TRATAMIENTO AMBULATORIO POR CANCER</td>\n",
              "      <td>0.054</td>\n",
              "    </tr>\n",
              "    <tr>\n",
              "      <th>8</th>\n",
              "      <td>CONSULTA DE URGENCIAS</td>\n",
              "      <td>0.051</td>\n",
              "    </tr>\n",
              "    <tr>\n",
              "      <th>1</th>\n",
              "      <td>ATENCION DEL PARTO</td>\n",
              "      <td>0.028</td>\n",
              "    </tr>\n",
              "    <tr>\n",
              "      <th>19</th>\n",
              "      <td>PAMD</td>\n",
              "      <td>0.017</td>\n",
              "    </tr>\n",
              "  </tbody>\n",
              "</table>\n",
              "</div>\n",
              "      <button class=\"colab-df-convert\" onclick=\"convertToInteractive('df-6d061cbb-3cbe-43a1-abc9-8dd13b424feb')\"\n",
              "              title=\"Convert this dataframe to an interactive table.\"\n",
              "              style=\"display:none;\">\n",
              "        \n",
              "  <svg xmlns=\"http://www.w3.org/2000/svg\" height=\"24px\"viewBox=\"0 0 24 24\"\n",
              "       width=\"24px\">\n",
              "    <path d=\"M0 0h24v24H0V0z\" fill=\"none\"/>\n",
              "    <path d=\"M18.56 5.44l.94 2.06.94-2.06 2.06-.94-2.06-.94-.94-2.06-.94 2.06-2.06.94zm-11 1L8.5 8.5l.94-2.06 2.06-.94-2.06-.94L8.5 2.5l-.94 2.06-2.06.94zm10 10l.94 2.06.94-2.06 2.06-.94-2.06-.94-.94-2.06-.94 2.06-2.06.94z\"/><path d=\"M17.41 7.96l-1.37-1.37c-.4-.4-.92-.59-1.43-.59-.52 0-1.04.2-1.43.59L10.3 9.45l-7.72 7.72c-.78.78-.78 2.05 0 2.83L4 21.41c.39.39.9.59 1.41.59.51 0 1.02-.2 1.41-.59l7.78-7.78 2.81-2.81c.8-.78.8-2.07 0-2.86zM5.41 20L4 18.59l7.72-7.72 1.47 1.35L5.41 20z\"/>\n",
              "  </svg>\n",
              "      </button>\n",
              "      \n",
              "  <style>\n",
              "    .colab-df-container {\n",
              "      display:flex;\n",
              "      flex-wrap:wrap;\n",
              "      gap: 12px;\n",
              "    }\n",
              "\n",
              "    .colab-df-convert {\n",
              "      background-color: #E8F0FE;\n",
              "      border: none;\n",
              "      border-radius: 50%;\n",
              "      cursor: pointer;\n",
              "      display: none;\n",
              "      fill: #1967D2;\n",
              "      height: 32px;\n",
              "      padding: 0 0 0 0;\n",
              "      width: 32px;\n",
              "    }\n",
              "\n",
              "    .colab-df-convert:hover {\n",
              "      background-color: #E2EBFA;\n",
              "      box-shadow: 0px 1px 2px rgba(60, 64, 67, 0.3), 0px 1px 3px 1px rgba(60, 64, 67, 0.15);\n",
              "      fill: #174EA6;\n",
              "    }\n",
              "\n",
              "    [theme=dark] .colab-df-convert {\n",
              "      background-color: #3B4455;\n",
              "      fill: #D2E3FC;\n",
              "    }\n",
              "\n",
              "    [theme=dark] .colab-df-convert:hover {\n",
              "      background-color: #434B5C;\n",
              "      box-shadow: 0px 1px 3px 1px rgba(0, 0, 0, 0.15);\n",
              "      filter: drop-shadow(0px 1px 2px rgba(0, 0, 0, 0.3));\n",
              "      fill: #FFFFFF;\n",
              "    }\n",
              "  </style>\n",
              "\n",
              "      <script>\n",
              "        const buttonEl =\n",
              "          document.querySelector('#df-6d061cbb-3cbe-43a1-abc9-8dd13b424feb button.colab-df-convert');\n",
              "        buttonEl.style.display =\n",
              "          google.colab.kernel.accessAllowed ? 'block' : 'none';\n",
              "\n",
              "        async function convertToInteractive(key) {\n",
              "          const element = document.querySelector('#df-6d061cbb-3cbe-43a1-abc9-8dd13b424feb');\n",
              "          const dataTable =\n",
              "            await google.colab.kernel.invokeFunction('convertToInteractive',\n",
              "                                                     [key], {});\n",
              "          if (!dataTable) return;\n",
              "\n",
              "          const docLinkHtml = 'Like what you see? Visit the ' +\n",
              "            '<a target=\"_blank\" href=https://colab.research.google.com/notebooks/data_table.ipynb>data table notebook</a>'\n",
              "            + ' to learn more about interactive tables.';\n",
              "          element.innerHTML = '';\n",
              "          dataTable['output_type'] = 'display_data';\n",
              "          await google.colab.output.renderOutput(dataTable, element);\n",
              "          const docLink = document.createElement('div');\n",
              "          docLink.innerHTML = docLinkHtml;\n",
              "          element.appendChild(docLink);\n",
              "        }\n",
              "      </script>\n",
              "    </div>\n",
              "  </div>\n",
              "  "
            ]
          },
          "metadata": {},
          "execution_count": 58
        }
      ]
    },
    {
      "cell_type": "code",
      "source": [
        "fig, ax = plt.subplots(figsize =(28,10))\n",
        "ax.pie(p2.valos_pagado_millones, labels = p2.reclamacion, colors = ['tab:blue', 'tab:cyan', 'tab:gray', 'tab:orange', 'tab:red'],autopct='%.0f%%')\n",
        "ax.set_title(\"¿Cuál es la reclamación más costosa?\")\n",
        "plt.show()\n",
        "       "
      ],
      "metadata": {
        "colab": {
          "base_uri": "https://localhost:8080/",
          "height": 591
        },
        "id": "UFITf7dnJ__N",
        "outputId": "b726ee5f-48a2-41fb-c7ec-ad2409c6cb39"
      },
      "execution_count": null,
      "outputs": [
        {
          "output_type": "display_data",
          "data": {
            "text/plain": [
              "<Figure size 2016x720 with 1 Axes>"
            ],
            "image/png": "[encoded data removed]"
          },
          "metadata": {}
        }
      ]
    },
    {
      "cell_type": "code",
      "source": [
        "#pregunta 3 ¿Cuál es la edad de las personas que más reclaman?\n",
        "union_exp_prueba.fecha_nacimiento =pd.to_datetime(union_exp_prueba.fecha_nacimiento)\n",
        "union_exp_prueba['edad']= 2019-union_exp_prueba.fecha_nacimiento.dt.year\n",
        "union_exp_prueba.loc[union_exp_prueba [union_exp_prueba.edad <0].index,['edad']]=0\n",
        "p3 = union_exp_prueba.groupby(['edad'])['cod_poliza'].count().reset_index().sort_values(by= 'cod_poliza', ascending = False).head(10)\n",
        "p3\n"
      ],
      "metadata": {
        "colab": {
          "base_uri": "https://localhost:8080/",
          "height": 363
        },
        "id": "iG5LHCZaAhFD",
        "outputId": "dcc1d05a-2ccb-4a50-8ca9-06b24bb966ec"
      },
      "execution_count": null,
      "outputs": [
        {
          "output_type": "execute_result",
          "data": {
            "text/plain": [
              "    edad  cod_poliza\n",
              "39  39.0       31053\n",
              "38  38.0       30721\n",
              "37  37.0       30653\n",
              "35  35.0       30612\n",
              "36  36.0       29695\n",
              "40  40.0       29115\n",
              "34  34.0       28727\n",
              "2    2.0       27939\n",
              "41  41.0       27395\n",
              "33  33.0       27353"
            ],
            "text/html": [
              "\n",
              "  <div id=\"df-0f2cfc18-42d9-4e03-aa79-128b7fd16a19\">\n",
              "    <div class=\"colab-df-container\">\n",
              "      <div>\n",
              "<style scoped>\n",
              "    .dataframe tbody tr th:only-of-type {\n",
              "        vertical-align: middle;\n",
              "    }\n",
              "\n",
              "    .dataframe tbody tr th {\n",
              "        vertical-align: top;\n",
              "    }\n",
              "\n",
              "    .dataframe thead th {\n",
              "        text-align: right;\n",
              "    }\n",
              "</style>\n",
              "<table border=\"1\" class=\"dataframe\">\n",
              "  <thead>\n",
              "    <tr style=\"text-align: right;\">\n",
              "      <th></th>\n",
              "      <th>edad</th>\n",
              "      <th>cod_poliza</th>\n",
              "    </tr>\n",
              "  </thead>\n",
              "  <tbody>\n",
              "    <tr>\n",
              "      <th>39</th>\n",
              "      <td>39.0</td>\n",
              "      <td>31053</td>\n",
              "    </tr>\n",
              "    <tr>\n",
              "      <th>38</th>\n",
              "      <td>38.0</td>\n",
              "      <td>30721</td>\n",
              "    </tr>\n",
              "    <tr>\n",
              "      <th>37</th>\n",
              "      <td>37.0</td>\n",
              "      <td>30653</td>\n",
              "    </tr>\n",
              "    <tr>\n",
              "      <th>35</th>\n",
              "      <td>35.0</td>\n",
              "      <td>30612</td>\n",
              "    </tr>\n",
              "    <tr>\n",
              "      <th>36</th>\n",
              "      <td>36.0</td>\n",
              "      <td>29695</td>\n",
              "    </tr>\n",
              "    <tr>\n",
              "      <th>40</th>\n",
              "      <td>40.0</td>\n",
              "      <td>29115</td>\n",
              "    </tr>\n",
              "    <tr>\n",
              "      <th>34</th>\n",
              "      <td>34.0</td>\n",
              "      <td>28727</td>\n",
              "    </tr>\n",
              "    <tr>\n",
              "      <th>2</th>\n",
              "      <td>2.0</td>\n",
              "      <td>27939</td>\n",
              "    </tr>\n",
              "    <tr>\n",
              "      <th>41</th>\n",
              "      <td>41.0</td>\n",
              "      <td>27395</td>\n",
              "    </tr>\n",
              "    <tr>\n",
              "      <th>33</th>\n",
              "      <td>33.0</td>\n",
              "      <td>27353</td>\n",
              "    </tr>\n",
              "  </tbody>\n",
              "</table>\n",
              "</div>\n",
              "      <button class=\"colab-df-convert\" onclick=\"convertToInteractive('df-0f2cfc18-42d9-4e03-aa79-128b7fd16a19')\"\n",
              "              title=\"Convert this dataframe to an interactive table.\"\n",
              "              style=\"display:none;\">\n",
              "        \n",
              "  <svg xmlns=\"http://www.w3.org/2000/svg\" height=\"24px\"viewBox=\"0 0 24 24\"\n",
              "       width=\"24px\">\n",
              "    <path d=\"M0 0h24v24H0V0z\" fill=\"none\"/>\n",
              "    <path d=\"M18.56 5.44l.94 2.06.94-2.06 2.06-.94-2.06-.94-.94-2.06-.94 2.06-2.06.94zm-11 1L8.5 8.5l.94-2.06 2.06-.94-2.06-.94L8.5 2.5l-.94 2.06-2.06.94zm10 10l.94 2.06.94-2.06 2.06-.94-2.06-.94-.94-2.06-.94 2.06-2.06.94z\"/><path d=\"M17.41 7.96l-1.37-1.37c-.4-.4-.92-.59-1.43-.59-.52 0-1.04.2-1.43.59L10.3 9.45l-7.72 7.72c-.78.78-.78 2.05 0 2.83L4 21.41c.39.39.9.59 1.41.59.51 0 1.02-.2 1.41-.59l7.78-7.78 2.81-2.81c.8-.78.8-2.07 0-2.86zM5.41 20L4 18.59l7.72-7.72 1.47 1.35L5.41 20z\"/>\n",
              "  </svg>\n",
              "      </button>\n",
              "      \n",
              "  <style>\n",
              "    .colab-df-container {\n",
              "      display:flex;\n",
              "      flex-wrap:wrap;\n",
              "      gap: 12px;\n",
              "    }\n",
              "\n",
              "    .colab-df-convert {\n",
              "      background-color: #E8F0FE;\n",
              "      border: none;\n",
              "      border-radius: 50%;\n",
              "      cursor: pointer;\n",
              "      display: none;\n",
              "      fill: #1967D2;\n",
              "      height: 32px;\n",
              "      padding: 0 0 0 0;\n",
              "      width: 32px;\n",
              "    }\n",
              "\n",
              "    .colab-df-convert:hover {\n",
              "      background-color: #E2EBFA;\n",
              "      box-shadow: 0px 1px 2px rgba(60, 64, 67, 0.3), 0px 1px 3px 1px rgba(60, 64, 67, 0.15);\n",
              "      fill: #174EA6;\n",
              "    }\n",
              "\n",
              "    [theme=dark] .colab-df-convert {\n",
              "      background-color: #3B4455;\n",
              "      fill: #D2E3FC;\n",
              "    }\n",
              "\n",
              "    [theme=dark] .colab-df-convert:hover {\n",
              "      background-color: #434B5C;\n",
              "      box-shadow: 0px 1px 3px 1px rgba(0, 0, 0, 0.15);\n",
              "      filter: drop-shadow(0px 1px 2px rgba(0, 0, 0, 0.3));\n",
              "      fill: #FFFFFF;\n",
              "    }\n",
              "  </style>\n",
              "\n",
              "      <script>\n",
              "        const buttonEl =\n",
              "          document.querySelector('#df-0f2cfc18-42d9-4e03-aa79-128b7fd16a19 button.colab-df-convert');\n",
              "        buttonEl.style.display =\n",
              "          google.colab.kernel.accessAllowed ? 'block' : 'none';\n",
              "\n",
              "        async function convertToInteractive(key) {\n",
              "          const element = document.querySelector('#df-0f2cfc18-42d9-4e03-aa79-128b7fd16a19');\n",
              "          const dataTable =\n",
              "            await google.colab.kernel.invokeFunction('convertToInteractive',\n",
              "                                                     [key], {});\n",
              "          if (!dataTable) return;\n",
              "\n",
              "          const docLinkHtml = 'Like what you see? Visit the ' +\n",
              "            '<a target=\"_blank\" href=https://colab.research.google.com/notebooks/data_table.ipynb>data table notebook</a>'\n",
              "            + ' to learn more about interactive tables.';\n",
              "          element.innerHTML = '';\n",
              "          dataTable['output_type'] = 'display_data';\n",
              "          await google.colab.output.renderOutput(dataTable, element);\n",
              "          const docLink = document.createElement('div');\n",
              "          docLink.innerHTML = docLinkHtml;\n",
              "          element.appendChild(docLink);\n",
              "        }\n",
              "      </script>\n",
              "    </div>\n",
              "  </div>\n",
              "  "
            ]
          },
          "metadata": {},
          "execution_count": 60
        }
      ]
    },
    {
      "cell_type": "code",
      "source": [
        "p3 = union_exp_prueba.groupby(['edad'])['cod_poliza'].count().reset_index().sort_values(by= 'cod_poliza', ascending = False)\n",
        "fig= px.bar(p3, x='edad', y= 'cod_poliza', color='cod_poliza', title=\"<b>Edad de las personas que más reclaman<b>\", barmode = 'group')\n",
        "\n",
        "fig.update_layout(\n",
        "    xaxis_title = 'Edad',\n",
        "    yaxis_title= 'Numero de reclamaciones',\n",
        "    template= 'simple_white',\n",
        "    title_x = 0.5)\n",
        "fig.show()"
      ],
      "metadata": {
        "colab": {
          "base_uri": "https://localhost:8080/",
          "height": 542
        },
        "id": "O4W9DjBpVxVq",
        "outputId": "74b6836e-5634-4aee-8ab6-07519fb53b31"
      },
      "execution_count": null,
      "outputs": [
        {
          "output_type": "display_data",
          "data": {
            "text/html": [
              "<html>\n",
              "<head><meta charset=\"utf-8\" /></head>\n",
              "<body>\n",
              "    <div>            <script src=\"https://cdnjs.cloudflare.com/ajax/libs/mathjax/2.7.5/MathJax.js?config=TeX-AMS-MML_SVG\"></script><script type=\"text/javascript\">if (window.MathJax) {MathJax.Hub.Config({SVG: {font: \"STIX-Web\"}});}</script>                <script type=\"text/javascript\">window.PlotlyConfig = {MathJaxConfig: 'local'};</script>\n",
              "        <script src=\"https://cdn.plot.ly/plotly-2.8.3.min.js\"></script>                <div id=\"ecdc7436-0fc5-49f9-a62a-5c44359caea4\" class=\"plotly-graph-div\" style=\"height:525px; width:100%;\"></div>            <script type=\"text/javascript\">                                    window.PLOTLYENV=window.PLOTLYENV || {};                                    if (document.getElementById(\"ecdc7436-0fc5-49f9-a62a-5c44359caea4\")) {                    Plotly.newPlot(                        \"ecdc7436-0fc5-49f9-a62a-5c44359caea4\",                        [{\"alignmentgroup\":\"True\",\"hovertemplate\":\"edad=%{x}<br>cod_poliza=%{marker.color}<extra></extra>\",\"legendgroup\":\"\",\"marker\":{\"color\":[31053,30721,30653,30612,29695,29115,28727,27939,27395,27353,24843,24726,24560,23708,23575,22184,21758,20179,19298,19199,17194,17190,17081,16759,16751,16653,16516,16449,16311,16234,16221,16055,15997,15685,15544,15007,14934,14716,14536,13837,13586,13346,12905,12680,11813,11366,11122,11115,11076,10914,10148,10134,9935,9871,9856,9182,8891,8682,8599,8489,8352,7961,7928,7912,7818,7764,7297,7291,7031,6855,6800,6332,4989,4965,4649,4595,4197,3976,3441,3206,2958,2657,2197,2031,1895,1860,1700,1617,1485,1200,1161,1041,839,453,364,227,199,185,139,77,51,50,16,5,2],\"coloraxis\":\"coloraxis\",\"pattern\":{\"shape\":\"\"}},\"name\":\"\",\"offsetgroup\":\"\",\"orientation\":\"v\",\"showlegend\":false,\"textposition\":\"auto\",\"x\":[39.0,38.0,37.0,35.0,36.0,40.0,34.0,2.0,41.0,33.0,1.0,32.0,42.0,3.0,31.0,43.0,30.0,4.0,44.0,29.0,48.0,45.0,50.0,5.0,52.0,51.0,47.0,28.0,54.0,46.0,56.0,57.0,53.0,55.0,49.0,58.0,27.0,60.0,59.0,61.0,62.0,6.0,63.0,26.0,64.0,8.0,25.0,65.0,7.0,66.0,10.0,67.0,11.0,24.0,9.0,23.0,12.0,0.0,68.0,69.0,22.0,15.0,14.0,20.0,13.0,21.0,70.0,18.0,16.0,19.0,17.0,71.0,72.0,73.0,74.0,76.0,75.0,79.0,77.0,78.0,81.0,80.0,82.0,83.0,84.0,85.0,86.0,87.0,88.0,91.0,89.0,92.0,90.0,94.0,93.0,95.0,96.0,97.0,102.0,100.0,99.0,98.0,105.0,103.0,101.0],\"xaxis\":\"x\",\"y\":[31053,30721,30653,30612,29695,29115,28727,27939,27395,27353,24843,24726,24560,23708,23575,22184,21758,20179,19298,19199,17194,17190,17081,16759,16751,16653,16516,16449,16311,16234,16221,16055,15997,15685,15544,15007,14934,14716,14536,13837,13586,13346,12905,12680,11813,11366,11122,11115,11076,10914,10148,10134,9935,9871,9856,9182,8891,8682,8599,8489,8352,7961,7928,7912,7818,7764,7297,7291,7031,6855,6800,6332,4989,4965,4649,4595,4197,3976,3441,3206,2958,2657,2197,2031,1895,1860,1700,1617,1485,1200,1161,1041,839,453,364,227,199,185,139,77,51,50,16,5,2],\"yaxis\":\"y\",\"type\":\"bar\"}],                        {\"template\":{\"data\":{\"barpolar\":[{\"marker\":{\"line\":{\"color\":\"white\",\"width\":0.5},\"pattern\":{\"fillmode\":\"overlay\",\"size\":10,\"solidity\":0.2}},\"type\":\"barpolar\"}],\"bar\":[{\"error_x\":{\"color\":\"rgb(36,36,36)\"},\"error_y\":{\"color\":\"rgb(36,36,36)\"},\"marker\":{\"line\":{\"color\":\"white\",\"width\":0.5},\"pattern\":{\"fillmode\":\"overlay\",\"size\":10,\"solidity\":0.2}},\"type\":\"bar\"}],\"carpet\":[{\"aaxis\":{\"endlinecolor\":\"rgb(36,36,36)\",\"gridcolor\":\"white\",\"linecolor\":\"white\",\"minorgridcolor\":\"white\",\"startlinecolor\":\"rgb(36,36,36)\"},\"baxis\":{\"endlinecolor\":\"rgb(36,36,36)\",\"gridcolor\":\"white\",\"linecolor\":\"white\",\"minorgridcolor\":\"white\",\"startlinecolor\":\"rgb(36,36,36)\"},\"type\":\"carpet\"}],\"choropleth\":[{\"colorbar\":{\"outlinewidth\":1,\"tickcolor\":\"rgb(36,36,36)\",\"ticks\":\"outside\"},\"type\":\"choropleth\"}],\"contourcarpet\":[{\"colorbar\":{\"outlinewidth\":1,\"tickcolor\":\"rgb(36,36,36)\",\"ticks\":\"outside\"},\"type\":\"contourcarpet\"}],\"contour\":[{\"colorbar\":{\"outlinewidth\":1,\"tickcolor\":\"rgb(36,36,36)\",\"ticks\":\"outside\"},\"colorscale\":[[0.0,\"#440154\"],[0.1111111111111111,\"#482878\"],[0.2222222222222222,\"#3e4989\"],[0.3333333333333333,\"#31688e\"],[0.4444444444444444,\"#26828e\"],[0.5555555555555556,\"#1f9e89\"],[0.6666666666666666,\"#35b779\"],[0.7777777777777778,\"#6ece58\"],[0.8888888888888888,\"#b5de2b\"],[1.0,\"#fde725\"]],\"type\":\"contour\"}],\"heatmapgl\":[{\"colorbar\":{\"outlinewidth\":1,\"tickcolor\":\"rgb(36,36,36)\",\"ticks\":\"outside\"},\"colorscale\":[[0.0,\"#440154\"],[0.1111111111111111,\"#482878\"],[0.2222222222222222,\"#3e4989\"],[0.3333333333333333,\"#31688e\"],[0.4444444444444444,\"#26828e\"],[0.5555555555555556,\"#1f9e89\"],[0.6666666666666666,\"#35b779\"],[0.7777777777777778,\"#6ece58\"],[0.8888888888888888,\"#b5de2b\"],[1.0,\"#fde725\"]],\"type\":\"heatmapgl\"}],\"heatmap\":[{\"colorbar\":{\"outlinewidth\":1,\"tickcolor\":\"rgb(36,36,36)\",\"ticks\":\"outside\"},\"colorscale\":[[0.0,\"#440154\"],[0.1111111111111111,\"#482878\"],[0.2222222222222222,\"#3e4989\"],[0.3333333333333333,\"#31688e\"],[0.4444444444444444,\"#26828e\"],[0.5555555555555556,\"#1f9e89\"],[0.6666666666666666,\"#35b779\"],[0.7777777777777778,\"#6ece58\"],[0.8888888888888888,\"#b5de2b\"],[1.0,\"#fde725\"]],\"type\":\"heatmap\"}],\"histogram2dcontour\":[{\"colorbar\":{\"outlinewidth\":1,\"tickcolor\":\"rgb(36,36,36)\",\"ticks\":\"outside\"},\"colorscale\":[[0.0,\"#440154\"],[0.1111111111111111,\"#482878\"],[0.2222222222222222,\"#3e4989\"],[0.3333333333333333,\"#31688e\"],[0.4444444444444444,\"#26828e\"],[0.5555555555555556,\"#1f9e89\"],[0.6666666666666666,\"#35b779\"],[0.7777777777777778,\"#6ece58\"],[0.8888888888888888,\"#b5de2b\"],[1.0,\"#fde725\"]],\"type\":\"histogram2dcontour\"}],\"histogram2d\":[{\"colorbar\":{\"outlinewidth\":1,\"tickcolor\":\"rgb(36,36,36)\",\"ticks\":\"outside\"},\"colorscale\":[[0.0,\"#440154\"],[0.1111111111111111,\"#482878\"],[0.2222222222222222,\"#3e4989\"],[0.3333333333333333,\"#31688e\"],[0.4444444444444444,\"#26828e\"],[0.5555555555555556,\"#1f9e89\"],[0.6666666666666666,\"#35b779\"],[0.7777777777777778,\"#6ece58\"],[0.8888888888888888,\"#b5de2b\"],[1.0,\"#fde725\"]],\"type\":\"histogram2d\"}],\"histogram\":[{\"marker\":{\"line\":{\"color\":\"white\",\"width\":0.6}},\"type\":\"histogram\"}],\"mesh3d\":[{\"colorbar\":{\"outlinewidth\":1,\"tickcolor\":\"rgb(36,36,36)\",\"ticks\":\"outside\"},\"type\":\"mesh3d\"}],\"parcoords\":[{\"line\":{\"colorbar\":{\"outlinewidth\":1,\"tickcolor\":\"rgb(36,36,36)\",\"ticks\":\"outside\"}},\"type\":\"parcoords\"}],\"pie\":[{\"automargin\":true,\"type\":\"pie\"}],\"scatter3d\":[{\"line\":{\"colorbar\":{\"outlinewidth\":1,\"tickcolor\":\"rgb(36,36,36)\",\"ticks\":\"outside\"}},\"marker\":{\"colorbar\":{\"outlinewidth\":1,\"tickcolor\":\"rgb(36,36,36)\",\"ticks\":\"outside\"}},\"type\":\"scatter3d\"}],\"scattercarpet\":[{\"marker\":{\"colorbar\":{\"outlinewidth\":1,\"tickcolor\":\"rgb(36,36,36)\",\"ticks\":\"outside\"}},\"type\":\"scattercarpet\"}],\"scattergeo\":[{\"marker\":{\"colorbar\":{\"outlinewidth\":1,\"tickcolor\":\"rgb(36,36,36)\",\"ticks\":\"outside\"}},\"type\":\"scattergeo\"}],\"scattergl\":[{\"marker\":{\"colorbar\":{\"outlinewidth\":1,\"tickcolor\":\"rgb(36,36,36)\",\"ticks\":\"outside\"}},\"type\":\"scattergl\"}],\"scattermapbox\":[{\"marker\":{\"colorbar\":{\"outlinewidth\":1,\"tickcolor\":\"rgb(36,36,36)\",\"ticks\":\"outside\"}},\"type\":\"scattermapbox\"}],\"scatterpolargl\":[{\"marker\":{\"colorbar\":{\"outlinewidth\":1,\"tickcolor\":\"rgb(36,36,36)\",\"ticks\":\"outside\"}},\"type\":\"scatterpolargl\"}],\"scatterpolar\":[{\"marker\":{\"colorbar\":{\"outlinewidth\":1,\"tickcolor\":\"rgb(36,36,36)\",\"ticks\":\"outside\"}},\"type\":\"scatterpolar\"}],\"scatter\":[{\"marker\":{\"colorbar\":{\"outlinewidth\":1,\"tickcolor\":\"rgb(36,36,36)\",\"ticks\":\"outside\"}},\"type\":\"scatter\"}],\"scatterternary\":[{\"marker\":{\"colorbar\":{\"outlinewidth\":1,\"tickcolor\":\"rgb(36,36,36)\",\"ticks\":\"outside\"}},\"type\":\"scatterternary\"}],\"surface\":[{\"colorbar\":{\"outlinewidth\":1,\"tickcolor\":\"rgb(36,36,36)\",\"ticks\":\"outside\"},\"colorscale\":[[0.0,\"#440154\"],[0.1111111111111111,\"#482878\"],[0.2222222222222222,\"#3e4989\"],[0.3333333333333333,\"#31688e\"],[0.4444444444444444,\"#26828e\"],[0.5555555555555556,\"#1f9e89\"],[0.6666666666666666,\"#35b779\"],[0.7777777777777778,\"#6ece58\"],[0.8888888888888888,\"#b5de2b\"],[1.0,\"#fde725\"]],\"type\":\"surface\"}],\"table\":[{\"cells\":{\"fill\":{\"color\":\"rgb(237,237,237)\"},\"line\":{\"color\":\"white\"}},\"header\":{\"fill\":{\"color\":\"rgb(217,217,217)\"},\"line\":{\"color\":\"white\"}},\"type\":\"table\"}]},\"layout\":{\"annotationdefaults\":{\"arrowhead\":0,\"arrowwidth\":1},\"autotypenumbers\":\"strict\",\"coloraxis\":{\"colorbar\":{\"outlinewidth\":1,\"tickcolor\":\"rgb(36,36,36)\",\"ticks\":\"outside\"}},\"colorscale\":{\"diverging\":[[0.0,\"rgb(103,0,31)\"],[0.1,\"rgb(178,24,43)\"],[0.2,\"rgb(214,96,77)\"],[0.3,\"rgb(244,165,130)\"],[0.4,\"rgb(253,219,199)\"],[0.5,\"rgb(247,247,247)\"],[0.6,\"rgb(209,229,240)\"],[0.7,\"rgb(146,197,222)\"],[0.8,\"rgb(67,147,195)\"],[0.9,\"rgb(33,102,172)\"],[1.0,\"rgb(5,48,97)\"]],\"sequential\":[[0.0,\"#440154\"],[0.1111111111111111,\"#482878\"],[0.2222222222222222,\"#3e4989\"],[0.3333333333333333,\"#31688e\"],[0.4444444444444444,\"#26828e\"],[0.5555555555555556,\"#1f9e89\"],[0.6666666666666666,\"#35b779\"],[0.7777777777777778,\"#6ece58\"],[0.8888888888888888,\"#b5de2b\"],[1.0,\"#fde725\"]],\"sequentialminus\":[[0.0,\"#440154\"],[0.1111111111111111,\"#482878\"],[0.2222222222222222,\"#3e4989\"],[0.3333333333333333,\"#31688e\"],[0.4444444444444444,\"#26828e\"],[0.5555555555555556,\"#1f9e89\"],[0.6666666666666666,\"#35b779\"],[0.7777777777777778,\"#6ece58\"],[0.8888888888888888,\"#b5de2b\"],[1.0,\"#fde725\"]]},\"colorway\":[\"#1F77B4\",\"#FF7F0E\",\"#2CA02C\",\"#D62728\",\"#9467BD\",\"#8C564B\",\"#E377C2\",\"#7F7F7F\",\"#BCBD22\",\"#17BECF\"],\"font\":{\"color\":\"rgb(36,36,36)\"},\"geo\":{\"bgcolor\":\"white\",\"lakecolor\":\"white\",\"landcolor\":\"white\",\"showlakes\":true,\"showland\":true,\"subunitcolor\":\"white\"},\"hoverlabel\":{\"align\":\"left\"},\"hovermode\":\"closest\",\"mapbox\":{\"style\":\"light\"},\"paper_bgcolor\":\"white\",\"plot_bgcolor\":\"white\",\"polar\":{\"angularaxis\":{\"gridcolor\":\"rgb(232,232,232)\",\"linecolor\":\"rgb(36,36,36)\",\"showgrid\":false,\"showline\":true,\"ticks\":\"outside\"},\"bgcolor\":\"white\",\"radialaxis\":{\"gridcolor\":\"rgb(232,232,232)\",\"linecolor\":\"rgb(36,36,36)\",\"showgrid\":false,\"showline\":true,\"ticks\":\"outside\"}},\"scene\":{\"xaxis\":{\"backgroundcolor\":\"white\",\"gridcolor\":\"rgb(232,232,232)\",\"gridwidth\":2,\"linecolor\":\"rgb(36,36,36)\",\"showbackground\":true,\"showgrid\":false,\"showline\":true,\"ticks\":\"outside\",\"zeroline\":false,\"zerolinecolor\":\"rgb(36,36,36)\"},\"yaxis\":{\"backgroundcolor\":\"white\",\"gridcolor\":\"rgb(232,232,232)\",\"gridwidth\":2,\"linecolor\":\"rgb(36,36,36)\",\"showbackground\":true,\"showgrid\":false,\"showline\":true,\"ticks\":\"outside\",\"zeroline\":false,\"zerolinecolor\":\"rgb(36,36,36)\"},\"zaxis\":{\"backgroundcolor\":\"white\",\"gridcolor\":\"rgb(232,232,232)\",\"gridwidth\":2,\"linecolor\":\"rgb(36,36,36)\",\"showbackground\":true,\"showgrid\":false,\"showline\":true,\"ticks\":\"outside\",\"zeroline\":false,\"zerolinecolor\":\"rgb(36,36,36)\"}},\"shapedefaults\":{\"fillcolor\":\"black\",\"line\":{\"width\":0},\"opacity\":0.3},\"ternary\":{\"aaxis\":{\"gridcolor\":\"rgb(232,232,232)\",\"linecolor\":\"rgb(36,36,36)\",\"showgrid\":false,\"showline\":true,\"ticks\":\"outside\"},\"baxis\":{\"gridcolor\":\"rgb(232,232,232)\",\"linecolor\":\"rgb(36,36,36)\",\"showgrid\":false,\"showline\":true,\"ticks\":\"outside\"},\"bgcolor\":\"white\",\"caxis\":{\"gridcolor\":\"rgb(232,232,232)\",\"linecolor\":\"rgb(36,36,36)\",\"showgrid\":false,\"showline\":true,\"ticks\":\"outside\"}},\"title\":{\"x\":0.05},\"xaxis\":{\"automargin\":true,\"gridcolor\":\"rgb(232,232,232)\",\"linecolor\":\"rgb(36,36,36)\",\"showgrid\":false,\"showline\":true,\"ticks\":\"outside\",\"title\":{\"standoff\":15},\"zeroline\":false,\"zerolinecolor\":\"rgb(36,36,36)\"},\"yaxis\":{\"automargin\":true,\"gridcolor\":\"rgb(232,232,232)\",\"linecolor\":\"rgb(36,36,36)\",\"showgrid\":false,\"showline\":true,\"ticks\":\"outside\",\"title\":{\"standoff\":15},\"zeroline\":false,\"zerolinecolor\":\"rgb(36,36,36)\"}}},\"xaxis\":{\"anchor\":\"y\",\"domain\":[0.0,1.0],\"title\":{\"text\":\"Edad\"}},\"yaxis\":{\"anchor\":\"x\",\"domain\":[0.0,1.0],\"title\":{\"text\":\"Numero de reclamaciones\"}},\"coloraxis\":{\"colorbar\":{\"title\":{\"text\":\"cod_poliza\"}},\"colorscale\":[[0.0,\"#0d0887\"],[0.1111111111111111,\"#46039f\"],[0.2222222222222222,\"#7201a8\"],[0.3333333333333333,\"#9c179e\"],[0.4444444444444444,\"#bd3786\"],[0.5555555555555556,\"#d8576b\"],[0.6666666666666666,\"#ed7953\"],[0.7777777777777778,\"#fb9f3a\"],[0.8888888888888888,\"#fdca26\"],[1.0,\"#f0f921\"]]},\"legend\":{\"tracegroupgap\":0},\"title\":{\"text\":\"<b>Edad de las personas que m\\u00e1s reclaman<b>\",\"x\":0.5},\"barmode\":\"group\"},                        {\"responsive\": true}                    ).then(function(){\n",
              "                            \n",
              "var gd = document.getElementById('ecdc7436-0fc5-49f9-a62a-5c44359caea4');\n",
              "var x = new MutationObserver(function (mutations, observer) {{\n",
              "        var display = window.getComputedStyle(gd).display;\n",
              "        if (!display || display === 'none') {{\n",
              "            console.log([gd, 'removed!']);\n",
              "            Plotly.purge(gd);\n",
              "            observer.disconnect();\n",
              "        }}\n",
              "}});\n",
              "\n",
              "// Listen for the removal of the full notebook cells\n",
              "var notebookContainer = gd.closest('#notebook-container');\n",
              "if (notebookContainer) {{\n",
              "    x.observe(notebookContainer, {childList: true});\n",
              "}}\n",
              "\n",
              "// Listen for the clearing of the current output cell\n",
              "var outputEl = gd.closest('.output');\n",
              "if (outputEl) {{\n",
              "    x.observe(outputEl, {childList: true});\n",
              "}}\n",
              "\n",
              "                        })                };                            </script>        </div>\n",
              "</body>\n",
              "</html>"
            ]
          },
          "metadata": {}
        }
      ]
    },
    {
      "cell_type": "code",
      "source": [
        "#pregunta 4  ¿ En qué mes se adquieren más seguros?\n",
        "union_exp_prueba['mes']=pd.DatetimeIndex(union_exp_prueba['fecha_inicio']).month\n",
        "p4 = union_exp_prueba.groupby(['mes'])['cod_poliza'].count().reset_index().sort_values(by= 'cod_poliza', ascending= True).head(12)\n",
        "p4"
      ],
      "metadata": {
        "colab": {
          "base_uri": "https://localhost:8080/",
          "height": 426
        },
        "id": "ywh2higRuT4m",
        "outputId": "bd7993fe-ab52-48c2-db1b-97cdf4948537"
      },
      "execution_count": null,
      "outputs": [
        {
          "output_type": "execute_result",
          "data": {
            "text/plain": [
              "    mes  cod_poliza\n",
              "10   11       23392\n",
              "9    10       24807\n",
              "5     6       25425\n",
              "7     8       26196\n",
              "6     7       26607\n",
              "8     9       26735\n",
              "2     3       28837\n",
              "4     5       29042\n",
              "3     4       30162\n",
              "11   12       32812\n",
              "1     2       34682\n",
              "0     1      954939"
            ],
            "text/html": [
              "\n",
              "  <div id=\"df-5b2c7dd1-686b-48a4-8a13-a91cd9e56821\">\n",
              "    <div class=\"colab-df-container\">\n",
              "      <div>\n",
              "<style scoped>\n",
              "    .dataframe tbody tr th:only-of-type {\n",
              "        vertical-align: middle;\n",
              "    }\n",
              "\n",
              "    .dataframe tbody tr th {\n",
              "        vertical-align: top;\n",
              "    }\n",
              "\n",
              "    .dataframe thead th {\n",
              "        text-align: right;\n",
              "    }\n",
              "</style>\n",
              "<table border=\"1\" class=\"dataframe\">\n",
              "  <thead>\n",
              "    <tr style=\"text-align: right;\">\n",
              "      <th></th>\n",
              "      <th>mes</th>\n",
              "      <th>cod_poliza</th>\n",
              "    </tr>\n",
              "  </thead>\n",
              "  <tbody>\n",
              "    <tr>\n",
              "      <th>10</th>\n",
              "      <td>11</td>\n",
              "      <td>23392</td>\n",
              "    </tr>\n",
              "    <tr>\n",
              "      <th>9</th>\n",
              "      <td>10</td>\n",
              "      <td>24807</td>\n",
              "    </tr>\n",
              "    <tr>\n",
              "      <th>5</th>\n",
              "      <td>6</td>\n",
              "      <td>25425</td>\n",
              "    </tr>\n",
              "    <tr>\n",
              "      <th>7</th>\n",
              "      <td>8</td>\n",
              "      <td>26196</td>\n",
              "    </tr>\n",
              "    <tr>\n",
              "      <th>6</th>\n",
              "      <td>7</td>\n",
              "      <td>26607</td>\n",
              "    </tr>\n",
              "    <tr>\n",
              "      <th>8</th>\n",
              "      <td>9</td>\n",
              "      <td>26735</td>\n",
              "    </tr>\n",
              "    <tr>\n",
              "      <th>2</th>\n",
              "      <td>3</td>\n",
              "      <td>28837</td>\n",
              "    </tr>\n",
              "    <tr>\n",
              "      <th>4</th>\n",
              "      <td>5</td>\n",
              "      <td>29042</td>\n",
              "    </tr>\n",
              "    <tr>\n",
              "      <th>3</th>\n",
              "      <td>4</td>\n",
              "      <td>30162</td>\n",
              "    </tr>\n",
              "    <tr>\n",
              "      <th>11</th>\n",
              "      <td>12</td>\n",
              "      <td>32812</td>\n",
              "    </tr>\n",
              "    <tr>\n",
              "      <th>1</th>\n",
              "      <td>2</td>\n",
              "      <td>34682</td>\n",
              "    </tr>\n",
              "    <tr>\n",
              "      <th>0</th>\n",
              "      <td>1</td>\n",
              "      <td>954939</td>\n",
              "    </tr>\n",
              "  </tbody>\n",
              "</table>\n",
              "</div>\n",
              "      <button class=\"colab-df-convert\" onclick=\"convertToInteractive('df-5b2c7dd1-686b-48a4-8a13-a91cd9e56821')\"\n",
              "              title=\"Convert this dataframe to an interactive table.\"\n",
              "              style=\"display:none;\">\n",
              "        \n",
              "  <svg xmlns=\"http://www.w3.org/2000/svg\" height=\"24px\"viewBox=\"0 0 24 24\"\n",
              "       width=\"24px\">\n",
              "    <path d=\"M0 0h24v24H0V0z\" fill=\"none\"/>\n",
              "    <path d=\"M18.56 5.44l.94 2.06.94-2.06 2.06-.94-2.06-.94-.94-2.06-.94 2.06-2.06.94zm-11 1L8.5 8.5l.94-2.06 2.06-.94-2.06-.94L8.5 2.5l-.94 2.06-2.06.94zm10 10l.94 2.06.94-2.06 2.06-.94-2.06-.94-.94-2.06-.94 2.06-2.06.94z\"/><path d=\"M17.41 7.96l-1.37-1.37c-.4-.4-.92-.59-1.43-.59-.52 0-1.04.2-1.43.59L10.3 9.45l-7.72 7.72c-.78.78-.78 2.05 0 2.83L4 21.41c.39.39.9.59 1.41.59.51 0 1.02-.2 1.41-.59l7.78-7.78 2.81-2.81c.8-.78.8-2.07 0-2.86zM5.41 20L4 18.59l7.72-7.72 1.47 1.35L5.41 20z\"/>\n",
              "  </svg>\n",
              "      </button>\n",
              "      \n",
              "  <style>\n",
              "    .colab-df-container {\n",
              "      display:flex;\n",
              "      flex-wrap:wrap;\n",
              "      gap: 12px;\n",
              "    }\n",
              "\n",
              "    .colab-df-convert {\n",
              "      background-color: #E8F0FE;\n",
              "      border: none;\n",
              "      border-radius: 50%;\n",
              "      cursor: pointer;\n",
              "      display: none;\n",
              "      fill: #1967D2;\n",
              "      height: 32px;\n",
              "      padding: 0 0 0 0;\n",
              "      width: 32px;\n",
              "    }\n",
              "\n",
              "    .colab-df-convert:hover {\n",
              "      background-color: #E2EBFA;\n",
              "      box-shadow: 0px 1px 2px rgba(60, 64, 67, 0.3), 0px 1px 3px 1px rgba(60, 64, 67, 0.15);\n",
              "      fill: #174EA6;\n",
              "    }\n",
              "\n",
              "    [theme=dark] .colab-df-convert {\n",
              "      background-color: #3B4455;\n",
              "      fill: #D2E3FC;\n",
              "    }\n",
              "\n",
              "    [theme=dark] .colab-df-convert:hover {\n",
              "      background-color: #434B5C;\n",
              "      box-shadow: 0px 1px 3px 1px rgba(0, 0, 0, 0.15);\n",
              "      filter: drop-shadow(0px 1px 2px rgba(0, 0, 0, 0.3));\n",
              "      fill: #FFFFFF;\n",
              "    }\n",
              "  </style>\n",
              "\n",
              "      <script>\n",
              "        const buttonEl =\n",
              "          document.querySelector('#df-5b2c7dd1-686b-48a4-8a13-a91cd9e56821 button.colab-df-convert');\n",
              "        buttonEl.style.display =\n",
              "          google.colab.kernel.accessAllowed ? 'block' : 'none';\n",
              "\n",
              "        async function convertToInteractive(key) {\n",
              "          const element = document.querySelector('#df-5b2c7dd1-686b-48a4-8a13-a91cd9e56821');\n",
              "          const dataTable =\n",
              "            await google.colab.kernel.invokeFunction('convertToInteractive',\n",
              "                                                     [key], {});\n",
              "          if (!dataTable) return;\n",
              "\n",
              "          const docLinkHtml = 'Like what you see? Visit the ' +\n",
              "            '<a target=\"_blank\" href=https://colab.research.google.com/notebooks/data_table.ipynb>data table notebook</a>'\n",
              "            + ' to learn more about interactive tables.';\n",
              "          element.innerHTML = '';\n",
              "          dataTable['output_type'] = 'display_data';\n",
              "          await google.colab.output.renderOutput(dataTable, element);\n",
              "          const docLink = document.createElement('div');\n",
              "          docLink.innerHTML = docLinkHtml;\n",
              "          element.appendChild(docLink);\n",
              "        }\n",
              "      </script>\n",
              "    </div>\n",
              "  </div>\n",
              "  "
            ]
          },
          "metadata": {},
          "execution_count": 80
        }
      ]
    },
    {
      "cell_type": "code",
      "source": [
        "fig= px.bar(p4, x='mes', y= 'cod_poliza',  title=\"<b>¿En qué mes se adquiere más seguros?<b>\", barmode = 'group')\n",
        "#fig.update_layout(font=dict(size=12))\n",
        "#fig.show()\n",
        "\n",
        "fig.update_layout(\n",
        "    xaxis_title = 'mes',\n",
        "    yaxis_title= 'cantidad de seguros',\n",
        "    template= 'simple_white',\n",
        "    title_x = 0.25)\n",
        "fig.show()"
      ],
      "metadata": {
        "colab": {
          "base_uri": "https://localhost:8080/",
          "height": 542
        },
        "id": "YsghbIIb1VXI",
        "outputId": "615b62d4-3622-4a6a-9c4c-5a07f8ef31c3"
      },
      "execution_count": null,
      "outputs": [
        {
          "output_type": "display_data",
          "data": {
            "text/html": [
              "<html>\n",
              "<head><meta charset=\"utf-8\" /></head>\n",
              "<body>\n",
              "    <div>            <script src=\"https://cdnjs.cloudflare.com/ajax/libs/mathjax/2.7.5/MathJax.js?config=TeX-AMS-MML_SVG\"></script><script type=\"text/javascript\">if (window.MathJax) {MathJax.Hub.Config({SVG: {font: \"STIX-Web\"}});}</script>                <script type=\"text/javascript\">window.PlotlyConfig = {MathJaxConfig: 'local'};</script>\n",
              "        <script src=\"https://cdn.plot.ly/plotly-2.8.3.min.js\"></script>                <div id=\"3d2f585e-86a1-4859-8603-6948a46a5a39\" class=\"plotly-graph-div\" style=\"height:525px; width:100%;\"></div>            <script type=\"text/javascript\">                                    window.PLOTLYENV=window.PLOTLYENV || {};                                    if (document.getElementById(\"3d2f585e-86a1-4859-8603-6948a46a5a39\")) {                    Plotly.newPlot(                        \"3d2f585e-86a1-4859-8603-6948a46a5a39\",                        [{\"alignmentgroup\":\"True\",\"hovertemplate\":\"mes=%{x}<br>cod_poliza=%{y}<extra></extra>\",\"legendgroup\":\"\",\"marker\":{\"color\":\"#636efa\",\"pattern\":{\"shape\":\"\"}},\"name\":\"\",\"offsetgroup\":\"\",\"orientation\":\"v\",\"showlegend\":false,\"textposition\":\"auto\",\"x\":[11,10,6,8,7,9,3,5,4,12,2,1],\"xaxis\":\"x\",\"y\":[23392,24807,25425,26196,26607,26735,28837,29042,30162,32812,34682,954939],\"yaxis\":\"y\",\"type\":\"bar\"}],                        {\"template\":{\"data\":{\"barpolar\":[{\"marker\":{\"line\":{\"color\":\"white\",\"width\":0.5},\"pattern\":{\"fillmode\":\"overlay\",\"size\":10,\"solidity\":0.2}},\"type\":\"barpolar\"}],\"bar\":[{\"error_x\":{\"color\":\"rgb(36,36,36)\"},\"error_y\":{\"color\":\"rgb(36,36,36)\"},\"marker\":{\"line\":{\"color\":\"white\",\"width\":0.5},\"pattern\":{\"fillmode\":\"overlay\",\"size\":10,\"solidity\":0.2}},\"type\":\"bar\"}],\"carpet\":[{\"aaxis\":{\"endlinecolor\":\"rgb(36,36,36)\",\"gridcolor\":\"white\",\"linecolor\":\"white\",\"minorgridcolor\":\"white\",\"startlinecolor\":\"rgb(36,36,36)\"},\"baxis\":{\"endlinecolor\":\"rgb(36,36,36)\",\"gridcolor\":\"white\",\"linecolor\":\"white\",\"minorgridcolor\":\"white\",\"startlinecolor\":\"rgb(36,36,36)\"},\"type\":\"carpet\"}],\"choropleth\":[{\"colorbar\":{\"outlinewidth\":1,\"tickcolor\":\"rgb(36,36,36)\",\"ticks\":\"outside\"},\"type\":\"choropleth\"}],\"contourcarpet\":[{\"colorbar\":{\"outlinewidth\":1,\"tickcolor\":\"rgb(36,36,36)\",\"ticks\":\"outside\"},\"type\":\"contourcarpet\"}],\"contour\":[{\"colorbar\":{\"outlinewidth\":1,\"tickcolor\":\"rgb(36,36,36)\",\"ticks\":\"outside\"},\"colorscale\":[[0.0,\"#440154\"],[0.1111111111111111,\"#482878\"],[0.2222222222222222,\"#3e4989\"],[0.3333333333333333,\"#31688e\"],[0.4444444444444444,\"#26828e\"],[0.5555555555555556,\"#1f9e89\"],[0.6666666666666666,\"#35b779\"],[0.7777777777777778,\"#6ece58\"],[0.8888888888888888,\"#b5de2b\"],[1.0,\"#fde725\"]],\"type\":\"contour\"}],\"heatmapgl\":[{\"colorbar\":{\"outlinewidth\":1,\"tickcolor\":\"rgb(36,36,36)\",\"ticks\":\"outside\"},\"colorscale\":[[0.0,\"#440154\"],[0.1111111111111111,\"#482878\"],[0.2222222222222222,\"#3e4989\"],[0.3333333333333333,\"#31688e\"],[0.4444444444444444,\"#26828e\"],[0.5555555555555556,\"#1f9e89\"],[0.6666666666666666,\"#35b779\"],[0.7777777777777778,\"#6ece58\"],[0.8888888888888888,\"#b5de2b\"],[1.0,\"#fde725\"]],\"type\":\"heatmapgl\"}],\"heatmap\":[{\"colorbar\":{\"outlinewidth\":1,\"tickcolor\":\"rgb(36,36,36)\",\"ticks\":\"outside\"},\"colorscale\":[[0.0,\"#440154\"],[0.1111111111111111,\"#482878\"],[0.2222222222222222,\"#3e4989\"],[0.3333333333333333,\"#31688e\"],[0.4444444444444444,\"#26828e\"],[0.5555555555555556,\"#1f9e89\"],[0.6666666666666666,\"#35b779\"],[0.7777777777777778,\"#6ece58\"],[0.8888888888888888,\"#b5de2b\"],[1.0,\"#fde725\"]],\"type\":\"heatmap\"}],\"histogram2dcontour\":[{\"colorbar\":{\"outlinewidth\":1,\"tickcolor\":\"rgb(36,36,36)\",\"ticks\":\"outside\"},\"colorscale\":[[0.0,\"#440154\"],[0.1111111111111111,\"#482878\"],[0.2222222222222222,\"#3e4989\"],[0.3333333333333333,\"#31688e\"],[0.4444444444444444,\"#26828e\"],[0.5555555555555556,\"#1f9e89\"],[0.6666666666666666,\"#35b779\"],[0.7777777777777778,\"#6ece58\"],[0.8888888888888888,\"#b5de2b\"],[1.0,\"#fde725\"]],\"type\":\"histogram2dcontour\"}],\"histogram2d\":[{\"colorbar\":{\"outlinewidth\":1,\"tickcolor\":\"rgb(36,36,36)\",\"ticks\":\"outside\"},\"colorscale\":[[0.0,\"#440154\"],[0.1111111111111111,\"#482878\"],[0.2222222222222222,\"#3e4989\"],[0.3333333333333333,\"#31688e\"],[0.4444444444444444,\"#26828e\"],[0.5555555555555556,\"#1f9e89\"],[0.6666666666666666,\"#35b779\"],[0.7777777777777778,\"#6ece58\"],[0.8888888888888888,\"#b5de2b\"],[1.0,\"#fde725\"]],\"type\":\"histogram2d\"}],\"histogram\":[{\"marker\":{\"line\":{\"color\":\"white\",\"width\":0.6}},\"type\":\"histogram\"}],\"mesh3d\":[{\"colorbar\":{\"outlinewidth\":1,\"tickcolor\":\"rgb(36,36,36)\",\"ticks\":\"outside\"},\"type\":\"mesh3d\"}],\"parcoords\":[{\"line\":{\"colorbar\":{\"outlinewidth\":1,\"tickcolor\":\"rgb(36,36,36)\",\"ticks\":\"outside\"}},\"type\":\"parcoords\"}],\"pie\":[{\"automargin\":true,\"type\":\"pie\"}],\"scatter3d\":[{\"line\":{\"colorbar\":{\"outlinewidth\":1,\"tickcolor\":\"rgb(36,36,36)\",\"ticks\":\"outside\"}},\"marker\":{\"colorbar\":{\"outlinewidth\":1,\"tickcolor\":\"rgb(36,36,36)\",\"ticks\":\"outside\"}},\"type\":\"scatter3d\"}],\"scattercarpet\":[{\"marker\":{\"colorbar\":{\"outlinewidth\":1,\"tickcolor\":\"rgb(36,36,36)\",\"ticks\":\"outside\"}},\"type\":\"scattercarpet\"}],\"scattergeo\":[{\"marker\":{\"colorbar\":{\"outlinewidth\":1,\"tickcolor\":\"rgb(36,36,36)\",\"ticks\":\"outside\"}},\"type\":\"scattergeo\"}],\"scattergl\":[{\"marker\":{\"colorbar\":{\"outlinewidth\":1,\"tickcolor\":\"rgb(36,36,36)\",\"ticks\":\"outside\"}},\"type\":\"scattergl\"}],\"scattermapbox\":[{\"marker\":{\"colorbar\":{\"outlinewidth\":1,\"tickcolor\":\"rgb(36,36,36)\",\"ticks\":\"outside\"}},\"type\":\"scattermapbox\"}],\"scatterpolargl\":[{\"marker\":{\"colorbar\":{\"outlinewidth\":1,\"tickcolor\":\"rgb(36,36,36)\",\"ticks\":\"outside\"}},\"type\":\"scatterpolargl\"}],\"scatterpolar\":[{\"marker\":{\"colorbar\":{\"outlinewidth\":1,\"tickcolor\":\"rgb(36,36,36)\",\"ticks\":\"outside\"}},\"type\":\"scatterpolar\"}],\"scatter\":[{\"marker\":{\"colorbar\":{\"outlinewidth\":1,\"tickcolor\":\"rgb(36,36,36)\",\"ticks\":\"outside\"}},\"type\":\"scatter\"}],\"scatterternary\":[{\"marker\":{\"colorbar\":{\"outlinewidth\":1,\"tickcolor\":\"rgb(36,36,36)\",\"ticks\":\"outside\"}},\"type\":\"scatterternary\"}],\"surface\":[{\"colorbar\":{\"outlinewidth\":1,\"tickcolor\":\"rgb(36,36,36)\",\"ticks\":\"outside\"},\"colorscale\":[[0.0,\"#440154\"],[0.1111111111111111,\"#482878\"],[0.2222222222222222,\"#3e4989\"],[0.3333333333333333,\"#31688e\"],[0.4444444444444444,\"#26828e\"],[0.5555555555555556,\"#1f9e89\"],[0.6666666666666666,\"#35b779\"],[0.7777777777777778,\"#6ece58\"],[0.8888888888888888,\"#b5de2b\"],[1.0,\"#fde725\"]],\"type\":\"surface\"}],\"table\":[{\"cells\":{\"fill\":{\"color\":\"rgb(237,237,237)\"},\"line\":{\"color\":\"white\"}},\"header\":{\"fill\":{\"color\":\"rgb(217,217,217)\"},\"line\":{\"color\":\"white\"}},\"type\":\"table\"}]},\"layout\":{\"annotationdefaults\":{\"arrowhead\":0,\"arrowwidth\":1},\"autotypenumbers\":\"strict\",\"coloraxis\":{\"colorbar\":{\"outlinewidth\":1,\"tickcolor\":\"rgb(36,36,36)\",\"ticks\":\"outside\"}},\"colorscale\":{\"diverging\":[[0.0,\"rgb(103,0,31)\"],[0.1,\"rgb(178,24,43)\"],[0.2,\"rgb(214,96,77)\"],[0.3,\"rgb(244,165,130)\"],[0.4,\"rgb(253,219,199)\"],[0.5,\"rgb(247,247,247)\"],[0.6,\"rgb(209,229,240)\"],[0.7,\"rgb(146,197,222)\"],[0.8,\"rgb(67,147,195)\"],[0.9,\"rgb(33,102,172)\"],[1.0,\"rgb(5,48,97)\"]],\"sequential\":[[0.0,\"#440154\"],[0.1111111111111111,\"#482878\"],[0.2222222222222222,\"#3e4989\"],[0.3333333333333333,\"#31688e\"],[0.4444444444444444,\"#26828e\"],[0.5555555555555556,\"#1f9e89\"],[0.6666666666666666,\"#35b779\"],[0.7777777777777778,\"#6ece58\"],[0.8888888888888888,\"#b5de2b\"],[1.0,\"#fde725\"]],\"sequentialminus\":[[0.0,\"#440154\"],[0.1111111111111111,\"#482878\"],[0.2222222222222222,\"#3e4989\"],[0.3333333333333333,\"#31688e\"],[0.4444444444444444,\"#26828e\"],[0.5555555555555556,\"#1f9e89\"],[0.6666666666666666,\"#35b779\"],[0.7777777777777778,\"#6ece58\"],[0.8888888888888888,\"#b5de2b\"],[1.0,\"#fde725\"]]},\"colorway\":[\"#1F77B4\",\"#FF7F0E\",\"#2CA02C\",\"#D62728\",\"#9467BD\",\"#8C564B\",\"#E377C2\",\"#7F7F7F\",\"#BCBD22\",\"#17BECF\"],\"font\":{\"color\":\"rgb(36,36,36)\"},\"geo\":{\"bgcolor\":\"white\",\"lakecolor\":\"white\",\"landcolor\":\"white\",\"showlakes\":true,\"showland\":true,\"subunitcolor\":\"white\"},\"hoverlabel\":{\"align\":\"left\"},\"hovermode\":\"closest\",\"mapbox\":{\"style\":\"light\"},\"paper_bgcolor\":\"white\",\"plot_bgcolor\":\"white\",\"polar\":{\"angularaxis\":{\"gridcolor\":\"rgb(232,232,232)\",\"linecolor\":\"rgb(36,36,36)\",\"showgrid\":false,\"showline\":true,\"ticks\":\"outside\"},\"bgcolor\":\"white\",\"radialaxis\":{\"gridcolor\":\"rgb(232,232,232)\",\"linecolor\":\"rgb(36,36,36)\",\"showgrid\":false,\"showline\":true,\"ticks\":\"outside\"}},\"scene\":{\"xaxis\":{\"backgroundcolor\":\"white\",\"gridcolor\":\"rgb(232,232,232)\",\"gridwidth\":2,\"linecolor\":\"rgb(36,36,36)\",\"showbackground\":true,\"showgrid\":false,\"showline\":true,\"ticks\":\"outside\",\"zeroline\":false,\"zerolinecolor\":\"rgb(36,36,36)\"},\"yaxis\":{\"backgroundcolor\":\"white\",\"gridcolor\":\"rgb(232,232,232)\",\"gridwidth\":2,\"linecolor\":\"rgb(36,36,36)\",\"showbackground\":true,\"showgrid\":false,\"showline\":true,\"ticks\":\"outside\",\"zeroline\":false,\"zerolinecolor\":\"rgb(36,36,36)\"},\"zaxis\":{\"backgroundcolor\":\"white\",\"gridcolor\":\"rgb(232,232,232)\",\"gridwidth\":2,\"linecolor\":\"rgb(36,36,36)\",\"showbackground\":true,\"showgrid\":false,\"showline\":true,\"ticks\":\"outside\",\"zeroline\":false,\"zerolinecolor\":\"rgb(36,36,36)\"}},\"shapedefaults\":{\"fillcolor\":\"black\",\"line\":{\"width\":0},\"opacity\":0.3},\"ternary\":{\"aaxis\":{\"gridcolor\":\"rgb(232,232,232)\",\"linecolor\":\"rgb(36,36,36)\",\"showgrid\":false,\"showline\":true,\"ticks\":\"outside\"},\"baxis\":{\"gridcolor\":\"rgb(232,232,232)\",\"linecolor\":\"rgb(36,36,36)\",\"showgrid\":false,\"showline\":true,\"ticks\":\"outside\"},\"bgcolor\":\"white\",\"caxis\":{\"gridcolor\":\"rgb(232,232,232)\",\"linecolor\":\"rgb(36,36,36)\",\"showgrid\":false,\"showline\":true,\"ticks\":\"outside\"}},\"title\":{\"x\":0.05},\"xaxis\":{\"automargin\":true,\"gridcolor\":\"rgb(232,232,232)\",\"linecolor\":\"rgb(36,36,36)\",\"showgrid\":false,\"showline\":true,\"ticks\":\"outside\",\"title\":{\"standoff\":15},\"zeroline\":false,\"zerolinecolor\":\"rgb(36,36,36)\"},\"yaxis\":{\"automargin\":true,\"gridcolor\":\"rgb(232,232,232)\",\"linecolor\":\"rgb(36,36,36)\",\"showgrid\":false,\"showline\":true,\"ticks\":\"outside\",\"title\":{\"standoff\":15},\"zeroline\":false,\"zerolinecolor\":\"rgb(36,36,36)\"}}},\"xaxis\":{\"anchor\":\"y\",\"domain\":[0.0,1.0],\"title\":{\"text\":\"mes\"}},\"yaxis\":{\"anchor\":\"x\",\"domain\":[0.0,1.0],\"title\":{\"text\":\"cantidad de seguros\"}},\"legend\":{\"tracegroupgap\":0},\"title\":{\"text\":\"<b>\\u00bfEn qu\\u00e9 mes se adquiere m\\u00e1s seguros?<b>\",\"x\":0.25},\"barmode\":\"group\"},                        {\"responsive\": true}                    ).then(function(){\n",
              "                            \n",
              "var gd = document.getElementById('3d2f585e-86a1-4859-8603-6948a46a5a39');\n",
              "var x = new MutationObserver(function (mutations, observer) {{\n",
              "        var display = window.getComputedStyle(gd).display;\n",
              "        if (!display || display === 'none') {{\n",
              "            console.log([gd, 'removed!']);\n",
              "            Plotly.purge(gd);\n",
              "            observer.disconnect();\n",
              "        }}\n",
              "}});\n",
              "\n",
              "// Listen for the removal of the full notebook cells\n",
              "var notebookContainer = gd.closest('#notebook-container');\n",
              "if (notebookContainer) {{\n",
              "    x.observe(notebookContainer, {childList: true});\n",
              "}}\n",
              "\n",
              "// Listen for the clearing of the current output cell\n",
              "var outputEl = gd.closest('.output');\n",
              "if (outputEl) {{\n",
              "    x.observe(outputEl, {childList: true});\n",
              "}}\n",
              "\n",
              "                        })                };                            </script>        </div>\n",
              "</body>\n",
              "</html>"
            ]
          },
          "metadata": {}
        }
      ]
    },
    {
      "cell_type": "code",
      "source": [
        "#pregunta 5  Cantidad de seguros por región según sexo\n",
        "p5 = union_exp_prueba.groupby(['regional','sexo'])['cod_poliza'].count().reset_index().sort_values(by= 'cod_poliza', ascending = False).head(30)\n",
        "p5\n",
        "\n",
        "fig= px.bar(p5, x='regional', y= 'cod_poliza', color='sexo', title=\"<b>cantidad de seguros por región según sexo<b>\", barmode = 'group')\n",
        "\n",
        "fig.update_layout(\n",
        "    xaxis_title = 'regional',\n",
        "    yaxis_title= 'cantidad por región según sexo',\n",
        "    template= 'simple_white',\n",
        "    title_x = 0.25)\n",
        "fig.show()"
      ],
      "metadata": {
        "colab": {
          "base_uri": "https://localhost:8080/",
          "height": 542
        },
        "id": "Ffpo2lKnNQop",
        "outputId": "9bc338ca-21b2-4d7e-8336-bea314d14762"
      },
      "execution_count": null,
      "outputs": [
        {
          "output_type": "display_data",
          "data": {
            "text/html": [
              "<html>\n",
              "<head><meta charset=\"utf-8\" /></head>\n",
              "<body>\n",
              "    <div>            <script src=\"https://cdnjs.cloudflare.com/ajax/libs/mathjax/2.7.5/MathJax.js?config=TeX-AMS-MML_SVG\"></script><script type=\"text/javascript\">if (window.MathJax) {MathJax.Hub.Config({SVG: {font: \"STIX-Web\"}});}</script>                <script type=\"text/javascript\">window.PlotlyConfig = {MathJaxConfig: 'local'};</script>\n",
              "        <script src=\"https://cdn.plot.ly/plotly-2.8.3.min.js\"></script>                <div id=\"ac2a6b6f-89a9-4c1d-a469-7c697785cdcf\" class=\"plotly-graph-div\" style=\"height:525px; width:100%;\"></div>            <script type=\"text/javascript\">                                    window.PLOTLYENV=window.PLOTLYENV || {};                                    if (document.getElementById(\"ac2a6b6f-89a9-4c1d-a469-7c697785cdcf\")) {                    Plotly.newPlot(                        \"ac2a6b6f-89a9-4c1d-a469-7c697785cdcf\",                        [{\"alignmentgroup\":\"True\",\"hovertemplate\":\"sexo=F<br>regional=%{x}<br>cod_poliza=%{y}<extra></extra>\",\"legendgroup\":\"F\",\"marker\":{\"color\":\"#636efa\",\"pattern\":{\"shape\":\"\"}},\"name\":\"F\",\"offsetgroup\":\"F\",\"orientation\":\"v\",\"showlegend\":true,\"textposition\":\"auto\",\"x\":[\"REGIONAL CENTRO\",\"REGIONAL OCCIDENTE\",\"REGIONAL ANTIOQUIA\",\"REGIONAL NORTE\",\"REGIONAL EJE CAFETERO\",\"regional\"],\"xaxis\":\"x\",\"y\":[408608,124579,116781,88925,19871,104],\"yaxis\":\"y\",\"type\":\"bar\"},{\"alignmentgroup\":\"True\",\"hovertemplate\":\"sexo=M<br>regional=%{x}<br>cod_poliza=%{y}<extra></extra>\",\"legendgroup\":\"M\",\"marker\":{\"color\":\"#EF553B\",\"pattern\":{\"shape\":\"\"}},\"name\":\"M\",\"offsetgroup\":\"M\",\"orientation\":\"v\",\"showlegend\":true,\"textposition\":\"auto\",\"x\":[\"REGIONAL CENTRO\",\"REGIONAL OCCIDENTE\",\"REGIONAL ANTIOQUIA\",\"REGIONAL NORTE\",\"REGIONAL EJE CAFETERO\",\"regional\"],\"xaxis\":\"x\",\"y\":[229111,76006,72706,50107,11563,78],\"yaxis\":\"y\",\"type\":\"bar\"}],                        {\"template\":{\"data\":{\"barpolar\":[{\"marker\":{\"line\":{\"color\":\"white\",\"width\":0.5},\"pattern\":{\"fillmode\":\"overlay\",\"size\":10,\"solidity\":0.2}},\"type\":\"barpolar\"}],\"bar\":[{\"error_x\":{\"color\":\"rgb(36,36,36)\"},\"error_y\":{\"color\":\"rgb(36,36,36)\"},\"marker\":{\"line\":{\"color\":\"white\",\"width\":0.5},\"pattern\":{\"fillmode\":\"overlay\",\"size\":10,\"solidity\":0.2}},\"type\":\"bar\"}],\"carpet\":[{\"aaxis\":{\"endlinecolor\":\"rgb(36,36,36)\",\"gridcolor\":\"white\",\"linecolor\":\"white\",\"minorgridcolor\":\"white\",\"startlinecolor\":\"rgb(36,36,36)\"},\"baxis\":{\"endlinecolor\":\"rgb(36,36,36)\",\"gridcolor\":\"white\",\"linecolor\":\"white\",\"minorgridcolor\":\"white\",\"startlinecolor\":\"rgb(36,36,36)\"},\"type\":\"carpet\"}],\"choropleth\":[{\"colorbar\":{\"outlinewidth\":1,\"tickcolor\":\"rgb(36,36,36)\",\"ticks\":\"outside\"},\"type\":\"choropleth\"}],\"contourcarpet\":[{\"colorbar\":{\"outlinewidth\":1,\"tickcolor\":\"rgb(36,36,36)\",\"ticks\":\"outside\"},\"type\":\"contourcarpet\"}],\"contour\":[{\"colorbar\":{\"outlinewidth\":1,\"tickcolor\":\"rgb(36,36,36)\",\"ticks\":\"outside\"},\"colorscale\":[[0.0,\"#440154\"],[0.1111111111111111,\"#482878\"],[0.2222222222222222,\"#3e4989\"],[0.3333333333333333,\"#31688e\"],[0.4444444444444444,\"#26828e\"],[0.5555555555555556,\"#1f9e89\"],[0.6666666666666666,\"#35b779\"],[0.7777777777777778,\"#6ece58\"],[0.8888888888888888,\"#b5de2b\"],[1.0,\"#fde725\"]],\"type\":\"contour\"}],\"heatmapgl\":[{\"colorbar\":{\"outlinewidth\":1,\"tickcolor\":\"rgb(36,36,36)\",\"ticks\":\"outside\"},\"colorscale\":[[0.0,\"#440154\"],[0.1111111111111111,\"#482878\"],[0.2222222222222222,\"#3e4989\"],[0.3333333333333333,\"#31688e\"],[0.4444444444444444,\"#26828e\"],[0.5555555555555556,\"#1f9e89\"],[0.6666666666666666,\"#35b779\"],[0.7777777777777778,\"#6ece58\"],[0.8888888888888888,\"#b5de2b\"],[1.0,\"#fde725\"]],\"type\":\"heatmapgl\"}],\"heatmap\":[{\"colorbar\":{\"outlinewidth\":1,\"tickcolor\":\"rgb(36,36,36)\",\"ticks\":\"outside\"},\"colorscale\":[[0.0,\"#440154\"],[0.1111111111111111,\"#482878\"],[0.2222222222222222,\"#3e4989\"],[0.3333333333333333,\"#31688e\"],[0.4444444444444444,\"#26828e\"],[0.5555555555555556,\"#1f9e89\"],[0.6666666666666666,\"#35b779\"],[0.7777777777777778,\"#6ece58\"],[0.8888888888888888,\"#b5de2b\"],[1.0,\"#fde725\"]],\"type\":\"heatmap\"}],\"histogram2dcontour\":[{\"colorbar\":{\"outlinewidth\":1,\"tickcolor\":\"rgb(36,36,36)\",\"ticks\":\"outside\"},\"colorscale\":[[0.0,\"#440154\"],[0.1111111111111111,\"#482878\"],[0.2222222222222222,\"#3e4989\"],[0.3333333333333333,\"#31688e\"],[0.4444444444444444,\"#26828e\"],[0.5555555555555556,\"#1f9e89\"],[0.6666666666666666,\"#35b779\"],[0.7777777777777778,\"#6ece58\"],[0.8888888888888888,\"#b5de2b\"],[1.0,\"#fde725\"]],\"type\":\"histogram2dcontour\"}],\"histogram2d\":[{\"colorbar\":{\"outlinewidth\":1,\"tickcolor\":\"rgb(36,36,36)\",\"ticks\":\"outside\"},\"colorscale\":[[0.0,\"#440154\"],[0.1111111111111111,\"#482878\"],[0.2222222222222222,\"#3e4989\"],[0.3333333333333333,\"#31688e\"],[0.4444444444444444,\"#26828e\"],[0.5555555555555556,\"#1f9e89\"],[0.6666666666666666,\"#35b779\"],[0.7777777777777778,\"#6ece58\"],[0.8888888888888888,\"#b5de2b\"],[1.0,\"#fde725\"]],\"type\":\"histogram2d\"}],\"histogram\":[{\"marker\":{\"line\":{\"color\":\"white\",\"width\":0.6}},\"type\":\"histogram\"}],\"mesh3d\":[{\"colorbar\":{\"outlinewidth\":1,\"tickcolor\":\"rgb(36,36,36)\",\"ticks\":\"outside\"},\"type\":\"mesh3d\"}],\"parcoords\":[{\"line\":{\"colorbar\":{\"outlinewidth\":1,\"tickcolor\":\"rgb(36,36,36)\",\"ticks\":\"outside\"}},\"type\":\"parcoords\"}],\"pie\":[{\"automargin\":true,\"type\":\"pie\"}],\"scatter3d\":[{\"line\":{\"colorbar\":{\"outlinewidth\":1,\"tickcolor\":\"rgb(36,36,36)\",\"ticks\":\"outside\"}},\"marker\":{\"colorbar\":{\"outlinewidth\":1,\"tickcolor\":\"rgb(36,36,36)\",\"ticks\":\"outside\"}},\"type\":\"scatter3d\"}],\"scattercarpet\":[{\"marker\":{\"colorbar\":{\"outlinewidth\":1,\"tickcolor\":\"rgb(36,36,36)\",\"ticks\":\"outside\"}},\"type\":\"scattercarpet\"}],\"scattergeo\":[{\"marker\":{\"colorbar\":{\"outlinewidth\":1,\"tickcolor\":\"rgb(36,36,36)\",\"ticks\":\"outside\"}},\"type\":\"scattergeo\"}],\"scattergl\":[{\"marker\":{\"colorbar\":{\"outlinewidth\":1,\"tickcolor\":\"rgb(36,36,36)\",\"ticks\":\"outside\"}},\"type\":\"scattergl\"}],\"scattermapbox\":[{\"marker\":{\"colorbar\":{\"outlinewidth\":1,\"tickcolor\":\"rgb(36,36,36)\",\"ticks\":\"outside\"}},\"type\":\"scattermapbox\"}],\"scatterpolargl\":[{\"marker\":{\"colorbar\":{\"outlinewidth\":1,\"tickcolor\":\"rgb(36,36,36)\",\"ticks\":\"outside\"}},\"type\":\"scatterpolargl\"}],\"scatterpolar\":[{\"marker\":{\"colorbar\":{\"outlinewidth\":1,\"tickcolor\":\"rgb(36,36,36)\",\"ticks\":\"outside\"}},\"type\":\"scatterpolar\"}],\"scatter\":[{\"marker\":{\"colorbar\":{\"outlinewidth\":1,\"tickcolor\":\"rgb(36,36,36)\",\"ticks\":\"outside\"}},\"type\":\"scatter\"}],\"scatterternary\":[{\"marker\":{\"colorbar\":{\"outlinewidth\":1,\"tickcolor\":\"rgb(36,36,36)\",\"ticks\":\"outside\"}},\"type\":\"scatterternary\"}],\"surface\":[{\"colorbar\":{\"outlinewidth\":1,\"tickcolor\":\"rgb(36,36,36)\",\"ticks\":\"outside\"},\"colorscale\":[[0.0,\"#440154\"],[0.1111111111111111,\"#482878\"],[0.2222222222222222,\"#3e4989\"],[0.3333333333333333,\"#31688e\"],[0.4444444444444444,\"#26828e\"],[0.5555555555555556,\"#1f9e89\"],[0.6666666666666666,\"#35b779\"],[0.7777777777777778,\"#6ece58\"],[0.8888888888888888,\"#b5de2b\"],[1.0,\"#fde725\"]],\"type\":\"surface\"}],\"table\":[{\"cells\":{\"fill\":{\"color\":\"rgb(237,237,237)\"},\"line\":{\"color\":\"white\"}},\"header\":{\"fill\":{\"color\":\"rgb(217,217,217)\"},\"line\":{\"color\":\"white\"}},\"type\":\"table\"}]},\"layout\":{\"annotationdefaults\":{\"arrowhead\":0,\"arrowwidth\":1},\"autotypenumbers\":\"strict\",\"coloraxis\":{\"colorbar\":{\"outlinewidth\":1,\"tickcolor\":\"rgb(36,36,36)\",\"ticks\":\"outside\"}},\"colorscale\":{\"diverging\":[[0.0,\"rgb(103,0,31)\"],[0.1,\"rgb(178,24,43)\"],[0.2,\"rgb(214,96,77)\"],[0.3,\"rgb(244,165,130)\"],[0.4,\"rgb(253,219,199)\"],[0.5,\"rgb(247,247,247)\"],[0.6,\"rgb(209,229,240)\"],[0.7,\"rgb(146,197,222)\"],[0.8,\"rgb(67,147,195)\"],[0.9,\"rgb(33,102,172)\"],[1.0,\"rgb(5,48,97)\"]],\"sequential\":[[0.0,\"#440154\"],[0.1111111111111111,\"#482878\"],[0.2222222222222222,\"#3e4989\"],[0.3333333333333333,\"#31688e\"],[0.4444444444444444,\"#26828e\"],[0.5555555555555556,\"#1f9e89\"],[0.6666666666666666,\"#35b779\"],[0.7777777777777778,\"#6ece58\"],[0.8888888888888888,\"#b5de2b\"],[1.0,\"#fde725\"]],\"sequentialminus\":[[0.0,\"#440154\"],[0.1111111111111111,\"#482878\"],[0.2222222222222222,\"#3e4989\"],[0.3333333333333333,\"#31688e\"],[0.4444444444444444,\"#26828e\"],[0.5555555555555556,\"#1f9e89\"],[0.6666666666666666,\"#35b779\"],[0.7777777777777778,\"#6ece58\"],[0.8888888888888888,\"#b5de2b\"],[1.0,\"#fde725\"]]},\"colorway\":[\"#1F77B4\",\"#FF7F0E\",\"#2CA02C\",\"#D62728\",\"#9467BD\",\"#8C564B\",\"#E377C2\",\"#7F7F7F\",\"#BCBD22\",\"#17BECF\"],\"font\":{\"color\":\"rgb(36,36,36)\"},\"geo\":{\"bgcolor\":\"white\",\"lakecolor\":\"white\",\"landcolor\":\"white\",\"showlakes\":true,\"showland\":true,\"subunitcolor\":\"white\"},\"hoverlabel\":{\"align\":\"left\"},\"hovermode\":\"closest\",\"mapbox\":{\"style\":\"light\"},\"paper_bgcolor\":\"white\",\"plot_bgcolor\":\"white\",\"polar\":{\"angularaxis\":{\"gridcolor\":\"rgb(232,232,232)\",\"linecolor\":\"rgb(36,36,36)\",\"showgrid\":false,\"showline\":true,\"ticks\":\"outside\"},\"bgcolor\":\"white\",\"radialaxis\":{\"gridcolor\":\"rgb(232,232,232)\",\"linecolor\":\"rgb(36,36,36)\",\"showgrid\":false,\"showline\":true,\"ticks\":\"outside\"}},\"scene\":{\"xaxis\":{\"backgroundcolor\":\"white\",\"gridcolor\":\"rgb(232,232,232)\",\"gridwidth\":2,\"linecolor\":\"rgb(36,36,36)\",\"showbackground\":true,\"showgrid\":false,\"showline\":true,\"ticks\":\"outside\",\"zeroline\":false,\"zerolinecolor\":\"rgb(36,36,36)\"},\"yaxis\":{\"backgroundcolor\":\"white\",\"gridcolor\":\"rgb(232,232,232)\",\"gridwidth\":2,\"linecolor\":\"rgb(36,36,36)\",\"showbackground\":true,\"showgrid\":false,\"showline\":true,\"ticks\":\"outside\",\"zeroline\":false,\"zerolinecolor\":\"rgb(36,36,36)\"},\"zaxis\":{\"backgroundcolor\":\"white\",\"gridcolor\":\"rgb(232,232,232)\",\"gridwidth\":2,\"linecolor\":\"rgb(36,36,36)\",\"showbackground\":true,\"showgrid\":false,\"showline\":true,\"ticks\":\"outside\",\"zeroline\":false,\"zerolinecolor\":\"rgb(36,36,36)\"}},\"shapedefaults\":{\"fillcolor\":\"black\",\"line\":{\"width\":0},\"opacity\":0.3},\"ternary\":{\"aaxis\":{\"gridcolor\":\"rgb(232,232,232)\",\"linecolor\":\"rgb(36,36,36)\",\"showgrid\":false,\"showline\":true,\"ticks\":\"outside\"},\"baxis\":{\"gridcolor\":\"rgb(232,232,232)\",\"linecolor\":\"rgb(36,36,36)\",\"showgrid\":false,\"showline\":true,\"ticks\":\"outside\"},\"bgcolor\":\"white\",\"caxis\":{\"gridcolor\":\"rgb(232,232,232)\",\"linecolor\":\"rgb(36,36,36)\",\"showgrid\":false,\"showline\":true,\"ticks\":\"outside\"}},\"title\":{\"x\":0.05},\"xaxis\":{\"automargin\":true,\"gridcolor\":\"rgb(232,232,232)\",\"linecolor\":\"rgb(36,36,36)\",\"showgrid\":false,\"showline\":true,\"ticks\":\"outside\",\"title\":{\"standoff\":15},\"zeroline\":false,\"zerolinecolor\":\"rgb(36,36,36)\"},\"yaxis\":{\"automargin\":true,\"gridcolor\":\"rgb(232,232,232)\",\"linecolor\":\"rgb(36,36,36)\",\"showgrid\":false,\"showline\":true,\"ticks\":\"outside\",\"title\":{\"standoff\":15},\"zeroline\":false,\"zerolinecolor\":\"rgb(36,36,36)\"}}},\"xaxis\":{\"anchor\":\"y\",\"domain\":[0.0,1.0],\"title\":{\"text\":\"regional\"}},\"yaxis\":{\"anchor\":\"x\",\"domain\":[0.0,1.0],\"title\":{\"text\":\"cantidad por regi\\u00f3n seg\\u00fan sexo\"}},\"legend\":{\"title\":{\"text\":\"sexo\"},\"tracegroupgap\":0},\"title\":{\"text\":\"<b>cantidad de seguros por regi\\u00f3n seg\\u00fan sexo<b>\",\"x\":0.25},\"barmode\":\"group\"},                        {\"responsive\": true}                    ).then(function(){\n",
              "                            \n",
              "var gd = document.getElementById('ac2a6b6f-89a9-4c1d-a469-7c697785cdcf');\n",
              "var x = new MutationObserver(function (mutations, observer) {{\n",
              "        var display = window.getComputedStyle(gd).display;\n",
              "        if (!display || display === 'none') {{\n",
              "            console.log([gd, 'removed!']);\n",
              "            Plotly.purge(gd);\n",
              "            observer.disconnect();\n",
              "        }}\n",
              "}});\n",
              "\n",
              "// Listen for the removal of the full notebook cells\n",
              "var notebookContainer = gd.closest('#notebook-container');\n",
              "if (notebookContainer) {{\n",
              "    x.observe(notebookContainer, {childList: true});\n",
              "}}\n",
              "\n",
              "// Listen for the clearing of the current output cell\n",
              "var outputEl = gd.closest('.output');\n",
              "if (outputEl) {{\n",
              "    x.observe(outputEl, {childList: true});\n",
              "}}\n",
              "\n",
              "                        })                };                            </script>        </div>\n",
              "</body>\n",
              "</html>"
            ]
          },
          "metadata": {}
        }
      ]
    },
    {
      "cell_type": "code",
      "source": [
        "#Agregar edad y convertir en dummies sexo y regional\n",
        "union_exp_string_columns= ['sexo','regional']\n",
        "union_exp_prueba = pd.get_dummies(union_exp, columns=union_exp_string_columns)\n",
        "union_exp_prueba['mes_pago'] = pd.to_datetime(union_exp_prueba['mes_pago'].map(lambda x: str(x)[:-2]))\n",
        "union_exp_prueba['fecha_nacimiento']= pd.to_datetime(union_exp_prueba['fecha_nacimiento'])\n",
        "union_exp_prueba['edad'] = (union_exp_prueba['mes_pago'] - union_exp_prueba['fecha_nacimiento'])/ np.timedelta64(1, 'Y')\n",
        "union_exp_prueba = union_exp_prueba.drop(['diagnostico_desc','mes_pago','fecha_nacimiento'], axis=1)"
      ],
      "metadata": {
        "id": "P---9znI8QN-"
      },
      "execution_count": null,
      "outputs": []
    },
    {
      "cell_type": "code",
      "source": [
        "union_exp_prueba.columns"
      ],
      "metadata": {
        "colab": {
          "base_uri": "https://localhost:8080/"
        },
        "id": "iCROeTqY8kaW",
        "outputId": "b381cd29-e275-48f4-abca-a1f82b762b49"
      },
      "execution_count": null,
      "outputs": [
        {
          "output_type": "execute_result",
          "data": {
            "text/plain": [
              "Index(['reclamacion', 'cod_diagnostico', 'eventos', 'valor_pagado', 'cancer',\n",
              "       'epoc', 'diabetes', 'hipertension', 'enf_cardiovascular', 'sexo_F',\n",
              "       'sexo_M', 'regional_REGIONAL ANTIOQUIA', 'regional_REGIONAL CENTRO',\n",
              "       'regional_REGIONAL EJE CAFETERO', 'regional_REGIONAL NORTE',\n",
              "       'regional_REGIONAL OCCIDENTE', 'regional_regional', 'edad'],\n",
              "      dtype='object')"
            ]
          },
          "metadata": {},
          "execution_count": 35
        }
      ]
    },
    {
      "cell_type": "code",
      "source": [
        "union_exp_string_columns= ['sexo','regional']\n",
        "union_all_pd = pd.get_dummies(union_exp, columns=union_exp_string_columns)\n",
        "union_all_pd['mes_pago'] = pd.to_datetime(union_all_pd['mes_pago'].map(lambda x: str(x)[:-2]))\n",
        "union_all_pd['fecha_nacimiento']= pd.to_datetime(union_all_pd['fecha_nacimiento'])\n",
        "union_all_pd['edad'] = (union_all_pd['mes_pago'] - union_all_pd['fecha_nacimiento'])/ np.timedelta64(1, 'Y')\n",
        "union_all_pd = union_all_pd.drop(['diagnostico_desc','mes_pago','fecha_nacimiento'], axis=1)"
      ],
      "metadata": {
        "id": "riGjYfsX2Z3m"
      },
      "execution_count": null,
      "outputs": []
    },
    {
      "cell_type": "code",
      "source": [
        "# Expo_2_anos_F = sum(union_exp_prueba[union_all_pd['sexo'] == 'F'].groupby('id_cliente')['EXPO'].sum())"
      ],
      "metadata": {
        "id": "pQrm5J6Y4bvT"
      },
      "execution_count": null,
      "outputs": []
    },
    {
      "cell_type": "code",
      "source": [
        "# #Calcular prima pura\n",
        "# suma_de_eventos = len(BD_Siniestros[BD_Siniestros['reclamacion'] == 'EXAMENES DE DIAGNOSTICO'])\n",
        "# Suma_valor_pagado = BD_Siniestros[BD_Siniestros['reclamacion'] == 'EXAMENES DE DIAGNOSTICO']['valor_pagado'].sum()\n",
        "# frecuencia = suma_de_eventos / Expo_2_anos_F\n",
        "# severidad = Suma_valor_pagado / suma_de_eventos\n",
        "# prima_pura =  frecuencia * severidad\n",
        "# prima_pura"
      ],
      "metadata": {
        "id": "RGAmya6z4krS"
      },
      "execution_count": null,
      "outputs": []
    },
    {
      "cell_type": "code",
      "source": [
        "#Matriz de correlaciones de la base de datos grande \n",
        "cor = union_exp_prueba.corr()\n",
        "cor_target = abs(cor[\"valor_pagado\"])\n",
        "relevant_features = cor_target[cor_target>0] ## DEFINIR ESTA VARIABLE\n",
        "relevant_features_columns = list(relevant_features.index)\n",
        "\n",
        "cor_relevante_features = union_exp_prueba[relevant_features_columns].corr()\n",
        "union_all_factorized_features = union_exp_prueba[relevant_features_columns]\n",
        "relevant_features"
      ],
      "metadata": {
        "colab": {
          "base_uri": "https://localhost:8080/"
        },
        "id": "YRbgjLxo5alq",
        "outputId": "c8c260fd-3bb4-48a5-b150-070c18e668a4"
      },
      "execution_count": null,
      "outputs": [
        {
          "output_type": "execute_result",
          "data": {
            "text/plain": [
              "eventos                           0.001766\n",
              "valor_pagado                      1.000000\n",
              "cancer                            0.063381\n",
              "epoc                              0.020864\n",
              "diabetes                          0.012031\n",
              "hipertension                      0.017263\n",
              "enf_cardiovascular                0.020567\n",
              "sexo_F                            0.009517\n",
              "sexo_M                            0.009489\n",
              "regional_REGIONAL ANTIOQUIA       0.002971\n",
              "regional_REGIONAL CENTRO          0.006986\n",
              "regional_REGIONAL EJE CAFETERO    0.000599\n",
              "regional_REGIONAL NORTE           0.003211\n",
              "regional_REGIONAL OCCIDENTE       0.003356\n",
              "regional_regional                 0.000293\n",
              "edad                              0.038431\n",
              "Name: valor_pagado, dtype: float64"
            ]
          },
          "metadata": {},
          "execution_count": 37
        }
      ]
    },
    {
      "cell_type": "code",
      "source": [
        "# Grafico de la matriz de correlaciones\n",
        "import matplotlib.pyplot as plt\n",
        "import seaborn as sns\n",
        "plt.figure(figsize=(12,10))\n",
        "sns.heatmap(cor_relevante_features, annot=False, cmap=plt.cm.Reds)\n",
        "plt.show()"
      ],
      "metadata": {
        "colab": {
          "base_uri": "https://localhost:8080/",
          "height": 757
        },
        "id": "_anSRBJL5jfF",
        "outputId": "75e7955d-6e34-42f7-e5bb-698a4587c8b1"
      },
      "execution_count": null,
      "outputs": [
        {
          "output_type": "display_data",
          "data": {
            "text/plain": [
              "<Figure size 864x720 with 2 Axes>"
            ],
            "image/png": "[encoded data removed]"
          },
          "metadata": {
            "needs_background": "light"
          }
        }
      ]
    },
    {
      "cell_type": "code",
      "source": [],
      "metadata": {
        "id": "ky208Z8uuQuH"
      },
      "execution_count": null,
      "outputs": []
    }
  ]
}